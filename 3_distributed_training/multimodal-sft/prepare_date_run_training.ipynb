{
 "cells": [
  {
   "cell_type": "code",
   "execution_count": null,
   "id": "6a8cadfd-331c-454f-b478-db38baec8462",
   "metadata": {
    "execution": {
     "iopub.execute_input": "2025-08-20T16:36:27.190800Z",
     "iopub.status.busy": "2025-08-20T16:36:27.190578Z",
     "iopub.status.idle": "2025-08-20T16:36:36.139154Z",
     "shell.execute_reply": "2025-08-20T16:36:36.138630Z",
     "shell.execute_reply.started": "2025-08-20T16:36:27.190785Z"
    }
   },
   "outputs": [],
   "source": [
    "! pip install transformers boto3 \"Pillow>=9.4.0\" \"sagemaker-core==1.0.41\" \"datasets[s3]==2.18.0\" \"sagemaker>=2.190.0\" --upgrade --quiet"
   ]
  },
  {
   "cell_type": "code",
   "execution_count": 4,
   "id": "48543b0d-a47c-414e-ac27-6f7b54d06a7b",
   "metadata": {
    "execution": {
     "iopub.execute_input": "2025-08-20T16:36:36.139928Z",
     "iopub.status.busy": "2025-08-20T16:36:36.139740Z",
     "iopub.status.idle": "2025-08-20T16:36:36.992845Z",
     "shell.execute_reply": "2025-08-20T16:36:36.992383Z",
     "shell.execute_reply.started": "2025-08-20T16:36:36.139909Z"
    }
   },
   "outputs": [],
   "source": [
    "from huggingface_hub import login\n",
    "from datasets import load_dataset\n",
    "import base64\n",
    "from io import BytesIO\n",
    "import os\n"
   ]
  },
  {
   "cell_type": "code",
   "execution_count": null,
   "id": "a080d4e2-2d34-4282-b952-9c5e9396f759",
   "metadata": {
    "execution": {
     "iopub.execute_input": "2025-08-20T16:36:36.995367Z",
     "iopub.status.busy": "2025-08-20T16:36:36.995063Z",
     "iopub.status.idle": "2025-08-20T16:36:37.032169Z",
     "shell.execute_reply": "2025-08-20T16:36:37.031823Z",
     "shell.execute_reply.started": "2025-08-20T16:36:36.995352Z"
    }
   },
   "outputs": [],
   "source": [
    "os.environ['hf_token']=\"\"\n",
    "os.environ['WANDB_API_KEY'] = \"\"\n",
    "login(\n",
    "  token=os.environ['hf_token']\n",
    ")"
   ]
  },
  {
   "cell_type": "code",
   "execution_count": 6,
   "id": "122bec94-976f-404f-b2aa-8c68a1e1b5a2",
   "metadata": {
    "execution": {
     "iopub.execute_input": "2025-08-20T16:36:37.032805Z",
     "iopub.status.busy": "2025-08-20T16:36:37.032622Z",
     "iopub.status.idle": "2025-08-20T16:36:37.584667Z",
     "shell.execute_reply": "2025-08-20T16:36:37.584057Z",
     "shell.execute_reply.started": "2025-08-20T16:36:37.032792Z"
    }
   },
   "outputs": [],
   "source": [
    "# # note the image is not provided in the prompt its included as part of the \"processor\"\n",
    "# prompt= \"\"\"Create a Short Product description based on the provided ##PRODUCT NAME## and ##CATEGORY## and image. \n",
    "# Only return description. The description should be SEO optimized and for a better mobile search experience.\n",
    " \n",
    "# ##PRODUCT NAME##: {product_name}\n",
    "# ##CATEGORY##: {category}\"\"\"\n",
    " \n",
    "# system_message = \"You are an expert product description writer for Amazon.\"\n",
    "\n",
    "\n",
    "\n",
    "\n",
    "# # Convert dataset to OAI messages       \n",
    "# def format_data(sample):\n",
    "#     # buffer = BytesIO()\n",
    "#     # sample[\"image\"].save(buffer, format=\"JPEG\")\n",
    "#     # base64_img = base64.b64encode(buffer.getvalue())\n",
    "#     return {\"messages\": [\n",
    "#                 {\n",
    "#                     \"role\": \"system\",\n",
    "#                     \"content\": [{\"index\": None, \"type\": \"text\", \"text\": system_message}],\n",
    "#                 },\n",
    "#                 {\n",
    "#                     \"role\": \"user\",\n",
    "#                     \"content\": [\n",
    "#                         {\n",
    "#                             \"index\": None,\n",
    "#                             \"type\": \"text\",\n",
    "#                             \"text\": prompt.format(product_name=sample[\"Product Name\"], category=sample[\"Category\"]),\n",
    "#                         },{\n",
    "#                             \"index\": None,\n",
    "#                             \"type\": \"image\",\n",
    "#                             \"image\": None,#base64_img,\n",
    "#                         }\n",
    "#                     ],\n",
    "#                 },\n",
    "#                 {\n",
    "#                     \"role\": \"assistant\",\n",
    "#                     \"content\": [{\"index\": None,\"type\": \"text\", \"text\": sample[\"description\"]}],\n",
    "#                 },\n",
    "#             ],\n",
    "#             \"images\":sample[\"image\"]\n",
    "#         }\n",
    " \n",
    "# # Load dataset from the hub\n",
    "# dataset_id = \"philschmid/amazon-product-descriptions-vlm\"\n",
    "# dataset = load_dataset(\"philschmid/amazon-product-descriptions-vlm\", split=\"train\")\n",
    " \n",
    "# # Convert dataset to OAI messages\n",
    "# # need to use list comprehension to keep Pil.Image type, .mape convert image to bytes\n",
    "# dataset = dataset.map(format_data, remove_columns= ['Uniq Id', 'Product Name', 'Category', 'Selling Price', 'Model Number', 'About Product', 'Product Specification', 'Technical Details', 'Shipping Weight', 'Variants', 'Product Url', 'Is Amazon Seller', 'description'])\n",
    "# #dataset = dataset.rename_column(\"image\", \"images\")\n",
    "# print(dataset[0][\"messages\"])\n",
    "# print(dataset[0][\"images\"])"
   ]
  },
  {
   "cell_type": "code",
   "execution_count": 7,
   "id": "90c71177",
   "metadata": {},
   "outputs": [],
   "source": [
    "from datasets import load_dataset, load_from_disk\n",
    "#dataset = load_dataset(\"HuggingFaceH4/llava-instruct-mix-vsft\")\n",
    "dataset = load_dataset(\"unsloth/llava-instruct-mix-vsft-mini\")"
   ]
  },
  {
   "cell_type": "code",
   "execution_count": 8,
   "id": "95d6c08e-3528-43b4-a0d9-1964f771bffa",
   "metadata": {},
   "outputs": [
    {
     "data": {
      "text/plain": [
       "DatasetDict({\n",
       "    train: Dataset({\n",
       "        features: ['messages', 'images'],\n",
       "        num_rows: 8552\n",
       "    })\n",
       "    test: Dataset({\n",
       "        features: ['messages', 'images'],\n",
       "        num_rows: 1364\n",
       "    })\n",
       "})"
      ]
     },
     "execution_count": 8,
     "metadata": {},
     "output_type": "execute_result"
    }
   ],
   "source": [
    "dataset"
   ]
  },
  {
   "cell_type": "code",
   "execution_count": 9,
   "id": "8618b700-e47a-47bb-a184-ddd31a51c905",
   "metadata": {
    "execution": {
     "iopub.execute_input": "2025-08-20T16:36:37.593820Z",
     "iopub.status.busy": "2025-08-20T16:36:37.593633Z",
     "iopub.status.idle": "2025-08-20T16:36:37.979967Z",
     "shell.execute_reply": "2025-08-20T16:36:37.979368Z",
     "shell.execute_reply.started": "2025-08-20T16:36:37.593804Z"
    }
   },
   "outputs": [
    {
     "data": {
      "application/vnd.jupyter.widget-view+json": {
       "model_id": "df1f4f4d06944868872844813d94e0ac",
       "version_major": 2,
       "version_minor": 0
      },
      "text/plain": [
       "Saving the dataset (0/1 shards):   0%|          | 0/8552 [00:00<?, ? examples/s]"
      ]
     },
     "metadata": {},
     "output_type": "display_data"
    },
    {
     "data": {
      "application/vnd.jupyter.widget-view+json": {
       "model_id": "dbab1089758e472d97d9534b90b1dc17",
       "version_major": 2,
       "version_minor": 0
      },
      "text/plain": [
       "Saving the dataset (0/1 shards):   0%|          | 0/1364 [00:00<?, ? examples/s]"
      ]
     },
     "metadata": {},
     "output_type": "display_data"
    }
   ],
   "source": [
    "#dataset.to_json(\"data/train.jsonl\", orient=\"records\")\n",
    "dataset.save_to_disk(\"data/train.hf\")"
   ]
  },
  {
   "cell_type": "code",
   "execution_count": 10,
   "id": "d7568b1a-412c-410b-9f46-33505db7a30c",
   "metadata": {
    "execution": {
     "iopub.execute_input": "2025-08-20T16:36:37.980955Z",
     "iopub.status.busy": "2025-08-20T16:36:37.980725Z",
     "iopub.status.idle": "2025-08-20T16:36:44.113190Z",
     "shell.execute_reply": "2025-08-20T16:36:44.112472Z",
     "shell.execute_reply.started": "2025-08-20T16:36:37.980938Z"
    }
   },
   "outputs": [],
   "source": [
    "import sagemaker\n",
    "from datasets import load_dataset\n",
    "import pandas as pd\n",
    "from transformers import AutoTokenizer\n",
    "import boto3\n",
    "import os\n",
    "\n",
    "sagemaker_session = sagemaker.Session()\n",
    "bucket_name = sagemaker_session.default_bucket()"
   ]
  },
  {
   "cell_type": "code",
   "execution_count": null,
   "id": "1817df59-cdab-47e1-a4b1-5fe6d037fafc",
   "metadata": {},
   "outputs": [],
   "source": []
  },
  {
   "cell_type": "code",
   "execution_count": 18,
   "id": "fe9784e5-2d35-4c2e-a78b-09d89b7ca056",
   "metadata": {
    "execution": {
     "iopub.execute_input": "2025-08-20T16:36:44.116053Z",
     "iopub.status.busy": "2025-08-20T16:36:44.115769Z",
     "iopub.status.idle": "2025-08-20T16:36:45.083755Z",
     "shell.execute_reply": "2025-08-20T16:36:45.083261Z",
     "shell.execute_reply.started": "2025-08-20T16:36:44.116036Z"
    }
   },
   "outputs": [
    {
     "name": "stdout",
     "output_type": "stream",
     "text": [
      "Training data uploaded to:\n",
      "s3://sagemaker-us-east-1-783764584149/datasets/vlm-sample.hf\n"
     ]
    }
   ],
   "source": [
    "# save train_dataset to s3 using our SageMaker session\n",
    "prefix = 'datasets'\n",
    "\n",
    "input_source = sagemaker_session.upload_data('data/train.hf', bucket=bucket_name, key_prefix=f'{prefix}/vlm-sample.hf')\n",
    "\n",
    "print(f\"Training data uploaded to:\")\n",
    "print(input_source)\n"
   ]
  },
  {
   "cell_type": "code",
   "execution_count": 19,
   "id": "fc7f3750-17fe-473b-a570-bb0111754c48",
   "metadata": {
    "execution": {
     "iopub.execute_input": "2025-08-20T16:36:45.084583Z",
     "iopub.status.busy": "2025-08-20T16:36:45.084382Z",
     "iopub.status.idle": "2025-08-20T16:36:46.053414Z",
     "shell.execute_reply": "2025-08-20T16:36:46.052906Z",
     "shell.execute_reply.started": "2025-08-20T16:36:45.084565Z"
    }
   },
   "outputs": [
    {
     "name": "stdout",
     "output_type": "stream",
     "text": [
      "                           PRE test/\n",
      "                           PRE train/\n",
      "2025-08-22 22:27:17         29 dataset_dict.json\n"
     ]
    }
   ],
   "source": [
    "!aws s3 ls $input_source/ "
   ]
  },
  {
   "cell_type": "code",
   "execution_count": 20,
   "id": "ce2ec9f7-ff2d-4731-85dc-48442c1ab13e",
   "metadata": {},
   "outputs": [],
   "source": [
    "#dats_1 = load_from_disk('data/train.hf')"
   ]
  },
  {
   "cell_type": "code",
   "execution_count": null,
   "id": "d15f431c-9673-4639-a99c-74d0a9b0f616",
   "metadata": {},
   "outputs": [],
   "source": []
  },
  {
   "cell_type": "code",
   "execution_count": 21,
   "id": "e1bdc17c-1dfa-49ca-a6c7-9b24f544d8eb",
   "metadata": {
    "execution": {
     "iopub.execute_input": "2025-08-20T16:36:46.054423Z",
     "iopub.status.busy": "2025-08-20T16:36:46.054137Z",
     "iopub.status.idle": "2025-08-20T16:36:46.057125Z",
     "shell.execute_reply": "2025-08-20T16:36:46.056791Z",
     "shell.execute_reply.started": "2025-08-20T16:36:46.054400Z"
    }
   },
   "outputs": [],
   "source": [
    "from sagemaker.config import load_sagemaker_config\n",
    "configs = load_sagemaker_config()"
   ]
  },
  {
   "cell_type": "code",
   "execution_count": 32,
   "id": "0826be62-6559-4f39-92b1-ff290ee5e05f",
   "metadata": {
    "execution": {
     "iopub.execute_input": "2025-08-20T16:36:46.057754Z",
     "iopub.status.busy": "2025-08-20T16:36:46.057597Z",
     "iopub.status.idle": "2025-08-20T16:36:46.289125Z",
     "shell.execute_reply": "2025-08-20T16:36:46.288595Z",
     "shell.execute_reply.started": "2025-08-20T16:36:46.057741Z"
    }
   },
   "outputs": [],
   "source": [
    "from sagemaker.modules.train import ModelTrainer\n",
    "from sagemaker.modules.configs import Compute, SourceCode, InputData, StoppingCondition, CheckpointConfig\n",
    "\n",
    "env = {}\n",
    "env[\"FI_PROVIDER\"] = \"efa\"\n",
    "env[\"NCCL_PROTO\"] = \"simple\"\n",
    "env[\"NCCL_SOCKET_IFNAME\"] = \"eth0\"\n",
    "env[\"NCCL_IB_DISABLE\"] = \"1\"\n",
    "env[\"NCCL_DEBUG\"] = \"WARN\"\n",
    "env[\"HF_token\"] = os.environ['hf_token']\n",
    "env[\"WANDB_API_KEY\"] = os.environ['WANDB_API_KEY']\n",
    "env[\"data_location\"] = input_source\n",
    "# MLFlow tracker\n",
    "#tracking_server_arn = \"\"\n",
    "#env[\"MLFLOW_TRACKING_ARN\"] = tracking_server_arn\n",
    "instance_type = \"ml.g6e.48xlarge\"  # Override the instance type if you want to get a different container version\n",
    "\n",
    "compute = Compute(\n",
    "    instance_count=1,\n",
    "    instance_type= instance_type,\n",
    "    volume_size_in_gb=96,\n",
    "    keep_alive_period_in_seconds=3600,\n",
    ")\n",
    "\n",
    "# image_uri = sagemaker.image_uris.retrieve(\n",
    "#     framework=\"pytorch\",\n",
    "#     region=sagemaker_session.boto_session.region_name,\n",
    "#     version=\"2.6\",\n",
    "#     instance_type=instance_type,\n",
    "#     image_scope=\"training\"\n",
    "# )\n",
    "\n",
    "# image_uri"
   ]
  },
  {
   "cell_type": "code",
   "execution_count": 33,
   "id": "bf694e15-24bd-428b-92ff-00259f76ed2e",
   "metadata": {
    "execution": {
     "iopub.execute_input": "2025-08-20T16:36:46.289995Z",
     "iopub.status.busy": "2025-08-20T16:36:46.289733Z",
     "iopub.status.idle": "2025-08-20T16:36:46.293267Z",
     "shell.execute_reply": "2025-08-20T16:36:46.292930Z",
     "shell.execute_reply.started": "2025-08-20T16:36:46.289977Z"
    }
   },
   "outputs": [
    {
     "data": {
      "text/plain": [
       "'658645717510.dkr.ecr.us-east-1.amazonaws.com/smdistributed-modelparallel:2.4.1-gpu-py311-cu121'"
      ]
     },
     "execution_count": 33,
     "metadata": {},
     "output_type": "execute_result"
    }
   ],
   "source": [
    "image_uri = (\n",
    "    f\"658645717510.dkr.ecr.{sagemaker_session.boto_session.region_name}.amazonaws.com/smdistributed-modelparallel:2.4.1-gpu-py311-cu121\"\n",
    ")\n",
    "\n",
    "image_uri"
   ]
  },
  {
   "cell_type": "code",
   "execution_count": 34,
   "id": "1d9c408d-3e8e-4417-9f2b-b17d69a04bb7",
   "metadata": {
    "execution": {
     "iopub.execute_input": "2025-08-20T16:36:46.293864Z",
     "iopub.status.busy": "2025-08-20T16:36:46.293673Z",
     "iopub.status.idle": "2025-08-20T16:36:46.296500Z",
     "shell.execute_reply": "2025-08-20T16:36:46.296162Z",
     "shell.execute_reply.started": "2025-08-20T16:36:46.293851Z"
    }
   },
   "outputs": [
    {
     "data": {
      "text/plain": [
       "'s3://sagemaker-us-east-1-783764584149/vlm-sample-checkpoints/checkpoints'"
      ]
     },
     "execution_count": 34,
     "metadata": {},
     "output_type": "execute_result"
    }
   ],
   "source": [
    "checkpoint_s3_path = f\"s3://{bucket_name}/vlm-sample-checkpoints/checkpoints\"\n",
    "checkpoint_s3_path"
   ]
  },
  {
   "cell_type": "code",
   "execution_count": 35,
   "id": "d2562f2e-d0cf-4a1e-aa6e-2a38e8382e5c",
   "metadata": {
    "execution": {
     "iopub.execute_input": "2025-08-20T16:36:46.297155Z",
     "iopub.status.busy": "2025-08-20T16:36:46.296957Z",
     "iopub.status.idle": "2025-08-20T16:36:46.299052Z",
     "shell.execute_reply": "2025-08-20T16:36:46.298727Z",
     "shell.execute_reply.started": "2025-08-20T16:36:46.297143Z"
    }
   },
   "outputs": [],
   "source": [
    "job_prefix = f\"vlm-sft-model-trainer-distributed\""
   ]
  },
  {
   "cell_type": "code",
   "execution_count": 36,
   "id": "5338c729-ac3a-4be3-9a35-14e67ad73118",
   "metadata": {
    "execution": {
     "iopub.execute_input": "2025-08-20T16:36:46.299676Z",
     "iopub.status.busy": "2025-08-20T16:36:46.299551Z",
     "iopub.status.idle": "2025-08-20T16:36:46.301675Z",
     "shell.execute_reply": "2025-08-20T16:36:46.301346Z",
     "shell.execute_reply.started": "2025-08-20T16:36:46.299663Z"
    }
   },
   "outputs": [],
   "source": [
    "hyperparameters = {\n",
    "    \"dataset_path\": \"/opt/ml/input/data/dataset\",\n",
    "    \"model_dir\": \"/opt/ml/model\",\n",
    "}"
   ]
  },
  {
   "cell_type": "code",
   "execution_count": 37,
   "id": "16dee3b3-2cab-4a7f-b903-914a206bb5fa",
   "metadata": {
    "execution": {
     "iopub.execute_input": "2025-08-20T16:36:46.302403Z",
     "iopub.status.busy": "2025-08-20T16:36:46.302060Z",
     "iopub.status.idle": "2025-08-20T16:36:46.304310Z",
     "shell.execute_reply": "2025-08-20T16:36:46.303966Z",
     "shell.execute_reply.started": "2025-08-20T16:36:46.302389Z"
    }
   },
   "outputs": [],
   "source": [
    "source_code = SourceCode(\n",
    "    source_dir=\"./scripts\",\n",
    "    requirements=\"requirements.txt\",\n",
    "    entry_script=\"run_training.sh\",\n",
    ")"
   ]
  },
  {
   "cell_type": "code",
   "execution_count": 38,
   "id": "07e1da65-c7a4-497d-8198-1ed6ed448a94",
   "metadata": {
    "execution": {
     "iopub.execute_input": "2025-08-20T16:36:46.304888Z",
     "iopub.status.busy": "2025-08-20T16:36:46.304734Z",
     "iopub.status.idle": "2025-08-20T16:36:46.713877Z",
     "shell.execute_reply": "2025-08-20T16:36:46.713445Z",
     "shell.execute_reply.started": "2025-08-20T16:36:46.304875Z"
    }
   },
   "outputs": [
    {
     "data": {
      "text/html": [
       "<pre style=\"white-space:pre;overflow-x:auto;line-height:normal;font-family:Menlo,'DejaVu Sans Mono',consolas,'Courier New',monospace\"><span style=\"color: #7fbfbf; text-decoration-color: #7fbfbf\">[08/25/25 08:10:42] </span><span style=\"color: #d7af00; text-decoration-color: #d7af00; font-weight: bold\">WARNING </span> SageMaker session not provided. Using default Session.            <a href=\"file:///Users/dashtiam/miniconda3/lib/python3.12/site-packages/sagemaker/modules/train/model_trainer.py\" target=\"_blank\"><span style=\"color: #7f7f7f; text-decoration-color: #7f7f7f\">model_trainer.py</span></a><span style=\"color: #7f7f7f; text-decoration-color: #7f7f7f\">:</span><a href=\"file:///Users/dashtiam/miniconda3/lib/python3.12/site-packages/sagemaker/modules/train/model_trainer.py#501\" target=\"_blank\"><span style=\"color: #7f7f7f; text-decoration-color: #7f7f7f\">501</span></a>\n",
       "</pre>\n"
      ],
      "text/plain": [
       "\u001b[2;36m[08/25/25 08:10:42]\u001b[0m\u001b[2;36m \u001b[0m\u001b[1;38;2;215;175;0mWARNING \u001b[0m SageMaker session not provided. Using default Session.            \u001b]8;id=40750;file:///Users/dashtiam/miniconda3/lib/python3.12/site-packages/sagemaker/modules/train/model_trainer.py\u001b\\\u001b[2mmodel_trainer.py\u001b[0m\u001b]8;;\u001b\\\u001b[2m:\u001b[0m\u001b]8;id=20762;file:///Users/dashtiam/miniconda3/lib/python3.12/site-packages/sagemaker/modules/train/model_trainer.py#501\u001b\\\u001b[2m501\u001b[0m\u001b]8;;\u001b\\\n"
      ]
     },
     "metadata": {},
     "output_type": "display_data"
    },
    {
     "data": {
      "text/html": [
       "<pre style=\"white-space:pre;overflow-x:auto;line-height:normal;font-family:Menlo,'DejaVu Sans Mono',consolas,'Courier New',monospace\"><span style=\"color: #7fbfbf; text-decoration-color: #7fbfbf\">[08/25/25 08:10:43] </span><span style=\"color: #d7af00; text-decoration-color: #d7af00; font-weight: bold\">WARNING </span> Role not provided. Using default role:                            <a href=\"file:///Users/dashtiam/miniconda3/lib/python3.12/site-packages/sagemaker/modules/train/model_trainer.py\" target=\"_blank\"><span style=\"color: #7f7f7f; text-decoration-color: #7f7f7f\">model_trainer.py</span></a><span style=\"color: #7f7f7f; text-decoration-color: #7f7f7f\">:</span><a href=\"file:///Users/dashtiam/miniconda3/lib/python3.12/site-packages/sagemaker/modules/train/model_trainer.py#505\" target=\"_blank\"><span style=\"color: #7f7f7f; text-decoration-color: #7f7f7f\">505</span></a>\n",
       "<span style=\"color: #7fbfbf; text-decoration-color: #7fbfbf\">                    </span>         arn:aws:iam::<span style=\"color: #008080; text-decoration-color: #008080; font-weight: bold\">783764584149</span>:role/amin-macbook                       <span style=\"color: #7f7f7f; text-decoration-color: #7f7f7f\">                    </span>\n",
       "</pre>\n"
      ],
      "text/plain": [
       "\u001b[2;36m[08/25/25 08:10:43]\u001b[0m\u001b[2;36m \u001b[0m\u001b[1;38;2;215;175;0mWARNING \u001b[0m Role not provided. Using default role:                            \u001b]8;id=617892;file:///Users/dashtiam/miniconda3/lib/python3.12/site-packages/sagemaker/modules/train/model_trainer.py\u001b\\\u001b[2mmodel_trainer.py\u001b[0m\u001b]8;;\u001b\\\u001b[2m:\u001b[0m\u001b]8;id=739720;file:///Users/dashtiam/miniconda3/lib/python3.12/site-packages/sagemaker/modules/train/model_trainer.py#505\u001b\\\u001b[2m505\u001b[0m\u001b]8;;\u001b\\\n",
       "\u001b[2;36m                    \u001b[0m         arn:aws:iam::\u001b[1;36m783764584149\u001b[0m:role/amin-macbook                       \u001b[2m                    \u001b[0m\n"
      ]
     },
     "metadata": {},
     "output_type": "display_data"
    },
    {
     "data": {
      "text/html": [
       "<pre style=\"white-space:pre;overflow-x:auto;line-height:normal;font-family:Menlo,'DejaVu Sans Mono',consolas,'Courier New',monospace\"><span style=\"color: #7fbfbf; text-decoration-color: #7fbfbf\">[08/25/25 08:10:45] </span><span style=\"color: #d7af00; text-decoration-color: #d7af00; font-weight: bold\">WARNING </span> OutputDataConfig not provided. Using default:                     <a href=\"file:///Users/dashtiam/miniconda3/lib/python3.12/site-packages/sagemaker/modules/train/model_trainer.py\" target=\"_blank\"><span style=\"color: #7f7f7f; text-decoration-color: #7f7f7f\">model_trainer.py</span></a><span style=\"color: #7f7f7f; text-decoration-color: #7f7f7f\">:</span><a href=\"file:///Users/dashtiam/miniconda3/lib/python3.12/site-packages/sagemaker/modules/train/model_trainer.py#567\" target=\"_blank\"><span style=\"color: #7f7f7f; text-decoration-color: #7f7f7f\">567</span></a>\n",
       "<span style=\"color: #7fbfbf; text-decoration-color: #7fbfbf\">                    </span>         <span style=\"color: #d7af00; text-decoration-color: #d7af00\">s3_output_path</span>=<span style=\"color: #008700; text-decoration-color: #008700\">'s3://sagemaker-us-east-1-783764584149/vlm-sft-mod</span> <span style=\"color: #7f7f7f; text-decoration-color: #7f7f7f\">                    </span>\n",
       "<span style=\"color: #7fbfbf; text-decoration-color: #7fbfbf\">                    </span>         <span style=\"color: #008700; text-decoration-color: #008700\">el-trainer-distributed'</span> <span style=\"color: #d7af00; text-decoration-color: #d7af00\">kms_key_id</span>=<span style=\"color: #e100e1; text-decoration-color: #e100e1; font-style: italic\">None</span> <span style=\"color: #d7af00; text-decoration-color: #d7af00\">compression_type</span>=<span style=\"color: #008700; text-decoration-color: #008700\">'GZIP'</span>   <span style=\"color: #7f7f7f; text-decoration-color: #7f7f7f\">                    </span>\n",
       "</pre>\n"
      ],
      "text/plain": [
       "\u001b[2;36m[08/25/25 08:10:45]\u001b[0m\u001b[2;36m \u001b[0m\u001b[1;38;2;215;175;0mWARNING \u001b[0m OutputDataConfig not provided. Using default:                     \u001b]8;id=251150;file:///Users/dashtiam/miniconda3/lib/python3.12/site-packages/sagemaker/modules/train/model_trainer.py\u001b\\\u001b[2mmodel_trainer.py\u001b[0m\u001b]8;;\u001b\\\u001b[2m:\u001b[0m\u001b]8;id=199574;file:///Users/dashtiam/miniconda3/lib/python3.12/site-packages/sagemaker/modules/train/model_trainer.py#567\u001b\\\u001b[2m567\u001b[0m\u001b]8;;\u001b\\\n",
       "\u001b[2;36m                    \u001b[0m         \u001b[38;2;215;175;0ms3_output_path\u001b[0m=\u001b[38;2;0;135;0m's3://sagemaker-us-east-1-783764584149/vlm-sft-mod\u001b[0m \u001b[2m                    \u001b[0m\n",
       "\u001b[2;36m                    \u001b[0m         \u001b[38;2;0;135;0mel-trainer-distributed'\u001b[0m \u001b[38;2;215;175;0mkms_key_id\u001b[0m=\u001b[3;38;2;225;0;225mNone\u001b[0m \u001b[38;2;215;175;0mcompression_type\u001b[0m=\u001b[38;2;0;135;0m'GZIP'\u001b[0m   \u001b[2m                    \u001b[0m\n"
      ]
     },
     "metadata": {},
     "output_type": "display_data"
    },
    {
     "data": {
      "text/html": [
       "<pre style=\"white-space:pre;overflow-x:auto;line-height:normal;font-family:Menlo,'DejaVu Sans Mono',consolas,'Courier New',monospace\"><span style=\"color: #7fbfbf; text-decoration-color: #7fbfbf\">                    </span><span style=\"color: #0069ff; text-decoration-color: #0069ff; font-weight: bold\">INFO    </span> Training image URI:                                               <a href=\"file:///Users/dashtiam/miniconda3/lib/python3.12/site-packages/sagemaker/modules/train/model_trainer.py\" target=\"_blank\"><span style=\"color: #7f7f7f; text-decoration-color: #7f7f7f\">model_trainer.py</span></a><span style=\"color: #7f7f7f; text-decoration-color: #7f7f7f\">:</span><a href=\"file:///Users/dashtiam/miniconda3/lib/python3.12/site-packages/sagemaker/modules/train/model_trainer.py#588\" target=\"_blank\"><span style=\"color: #7f7f7f; text-decoration-color: #7f7f7f\">588</span></a>\n",
       "<span style=\"color: #7fbfbf; text-decoration-color: #7fbfbf\">                    </span>         <span style=\"color: #008080; text-decoration-color: #008080; font-weight: bold\">658645717510.</span>dkr.ecr.us-east-<span style=\"color: #008080; text-decoration-color: #008080; font-weight: bold\">1.</span>amazonaws.com/smdistributed-modelp <span style=\"color: #7f7f7f; text-decoration-color: #7f7f7f\">                    </span>\n",
       "<span style=\"color: #7fbfbf; text-decoration-color: #7fbfbf\">                    </span>         arallel:<span style=\"color: #008080; text-decoration-color: #008080; font-weight: bold\">2.4</span>.<span style=\"color: #008080; text-decoration-color: #008080; font-weight: bold\">1</span>-gpu-py311-cu121                                     <span style=\"color: #7f7f7f; text-decoration-color: #7f7f7f\">                    </span>\n",
       "</pre>\n"
      ],
      "text/plain": [
       "\u001b[2;36m                   \u001b[0m\u001b[2;36m \u001b[0m\u001b[1;38;2;0;105;255mINFO    \u001b[0m Training image URI:                                               \u001b]8;id=904293;file:///Users/dashtiam/miniconda3/lib/python3.12/site-packages/sagemaker/modules/train/model_trainer.py\u001b\\\u001b[2mmodel_trainer.py\u001b[0m\u001b]8;;\u001b\\\u001b[2m:\u001b[0m\u001b]8;id=105714;file:///Users/dashtiam/miniconda3/lib/python3.12/site-packages/sagemaker/modules/train/model_trainer.py#588\u001b\\\u001b[2m588\u001b[0m\u001b]8;;\u001b\\\n",
       "\u001b[2;36m                    \u001b[0m         \u001b[1;36m658645717510.\u001b[0mdkr.ecr.us-east-\u001b[1;36m1.\u001b[0mamazonaws.com/smdistributed-modelp \u001b[2m                    \u001b[0m\n",
       "\u001b[2;36m                    \u001b[0m         arallel:\u001b[1;36m2.4\u001b[0m.\u001b[1;36m1\u001b[0m-gpu-py311-cu121                                     \u001b[2m                    \u001b[0m\n"
      ]
     },
     "metadata": {},
     "output_type": "display_data"
    }
   ],
   "source": [
    "model_trainer = ModelTrainer(\n",
    "    training_image=image_uri,\n",
    "    compute=compute,\n",
    "    hyperparameters=hyperparameters,\n",
    "    environment=env,\n",
    "    source_code=source_code,\n",
    "    stopping_condition=StoppingCondition(\n",
    "        max_runtime_in_seconds=90000,\n",
    "    ),\n",
    "    checkpoint_config=CheckpointConfig(\n",
    "        s3_uri=f\"{checkpoint_s3_path}/{job_prefix}\",\n",
    "    ),\n",
    "    base_job_name=job_prefix\n",
    "\n",
    ")"
   ]
  },
  {
   "cell_type": "code",
   "execution_count": 39,
   "id": "82ce3ed0-bd30-4cb7-8c86-d63024971048",
   "metadata": {
    "execution": {
     "iopub.execute_input": "2025-08-20T03:52:51.876265Z",
     "iopub.status.busy": "2025-08-20T03:52:51.876041Z",
     "iopub.status.idle": "2025-08-20T03:52:51.879727Z",
     "shell.execute_reply": "2025-08-20T03:52:51.879185Z",
     "shell.execute_reply.started": "2025-08-20T03:52:51.876247Z"
    }
   },
   "outputs": [],
   "source": [
    "training_data = InputData(\n",
    "    channel_name=\"training_dataset\",\n",
    "    data_source=input_source,\n",
    ")"
   ]
  },
  {
   "cell_type": "code",
   "execution_count": null,
   "id": "d910eb01-fef9-49cd-b59b-02670ee0d99a",
   "metadata": {
    "execution": {
     "iopub.execute_input": "2025-08-20T03:52:52.264174Z",
     "iopub.status.busy": "2025-08-20T03:52:52.263386Z",
     "iopub.status.idle": "2025-08-20T04:31:12.049098Z",
     "shell.execute_reply": "2025-08-20T04:31:12.048153Z",
     "shell.execute_reply.started": "2025-08-20T03:52:52.264146Z"
    }
   },
   "outputs": [
    {
     "data": {
      "text/html": [
       "<pre style=\"white-space:pre;overflow-x:auto;line-height:normal;font-family:Menlo,'DejaVu Sans Mono',consolas,'Courier New',monospace\"><span style=\"color: #7fbfbf; text-decoration-color: #7fbfbf\">                    </span><span style=\"color: #d7af00; text-decoration-color: #d7af00; font-weight: bold\">WARNING </span> key_prefix is only applicable when data_source is a local file    <a href=\"file:///Users/dashtiam/miniconda3/lib/python3.12/site-packages/sagemaker/modules/train/model_trainer.py\" target=\"_blank\"><span style=\"color: #7f7f7f; text-decoration-color: #7f7f7f\">model_trainer.py</span></a><span style=\"color: #7f7f7f; text-decoration-color: #7f7f7f\">:</span><a href=\"file:///Users/dashtiam/miniconda3/lib/python3.12/site-packages/sagemaker/modules/train/model_trainer.py#896\" target=\"_blank\"><span style=\"color: #7f7f7f; text-decoration-color: #7f7f7f\">896</span></a>\n",
       "<span style=\"color: #7fbfbf; text-decoration-color: #7fbfbf\">                    </span>         path.                                                             <span style=\"color: #7f7f7f; text-decoration-color: #7f7f7f\">                    </span>\n",
       "</pre>\n"
      ],
      "text/plain": [
       "\u001b[2;36m                   \u001b[0m\u001b[2;36m \u001b[0m\u001b[1;38;2;215;175;0mWARNING \u001b[0m key_prefix is only applicable when data_source is a local file    \u001b]8;id=727628;file:///Users/dashtiam/miniconda3/lib/python3.12/site-packages/sagemaker/modules/train/model_trainer.py\u001b\\\u001b[2mmodel_trainer.py\u001b[0m\u001b]8;;\u001b\\\u001b[2m:\u001b[0m\u001b]8;id=482012;file:///Users/dashtiam/miniconda3/lib/python3.12/site-packages/sagemaker/modules/train/model_trainer.py#896\u001b\\\u001b[2m896\u001b[0m\u001b]8;;\u001b\\\n",
       "\u001b[2;36m                    \u001b[0m         path.                                                             \u001b[2m                    \u001b[0m\n"
      ]
     },
     "metadata": {},
     "output_type": "display_data"
    },
    {
     "data": {
      "text/html": [
       "<pre style=\"white-space:pre;overflow-x:auto;line-height:normal;font-family:Menlo,'DejaVu Sans Mono',consolas,'Courier New',monospace\"><span style=\"color: #7fbfbf; text-decoration-color: #7fbfbf\">[08/25/25 08:10:49] </span><span style=\"color: #0069ff; text-decoration-color: #0069ff; font-weight: bold\">INFO    </span> Creating training_job resource.                                     <a href=\"file:///Users/dashtiam/miniconda3/lib/python3.12/site-packages/sagemaker_core/main/resources.py\" target=\"_blank\"><span style=\"color: #7f7f7f; text-decoration-color: #7f7f7f\">resources.py</span></a><span style=\"color: #7f7f7f; text-decoration-color: #7f7f7f\">:</span><a href=\"file:///Users/dashtiam/miniconda3/lib/python3.12/site-packages/sagemaker_core/main/resources.py#28340\" target=\"_blank\"><span style=\"color: #7f7f7f; text-decoration-color: #7f7f7f\">28340</span></a>\n",
       "</pre>\n"
      ],
      "text/plain": [
       "\u001b[2;36m[08/25/25 08:10:49]\u001b[0m\u001b[2;36m \u001b[0m\u001b[1;38;2;0;105;255mINFO    \u001b[0m Creating training_job resource.                                     \u001b]8;id=774392;file:///Users/dashtiam/miniconda3/lib/python3.12/site-packages/sagemaker_core/main/resources.py\u001b\\\u001b[2mresources.py\u001b[0m\u001b]8;;\u001b\\\u001b[2m:\u001b[0m\u001b]8;id=90653;file:///Users/dashtiam/miniconda3/lib/python3.12/site-packages/sagemaker_core/main/resources.py#28340\u001b\\\u001b[2m28340\u001b[0m\u001b]8;;\u001b\\\n"
      ]
     },
     "metadata": {},
     "output_type": "display_data"
    },
    {
     "data": {
      "text/html": [
       "<pre style=\"white-space:pre;overflow-x:auto;line-height:normal;font-family:Menlo,'DejaVu Sans Mono',consolas,'Courier New',monospace\"><span style=\"color: #7fbfbf; text-decoration-color: #7fbfbf\">[08/25/25 08:10:50] </span><span style=\"color: #d7af00; text-decoration-color: #d7af00; font-weight: bold\">WARNING </span> Not displaing the training container logs as <span style=\"color: #008700; text-decoration-color: #008700\">'wait'</span> is set to     <a href=\"file:///Users/dashtiam/miniconda3/lib/python3.12/site-packages/sagemaker/modules/train/model_trainer.py\" target=\"_blank\"><span style=\"color: #7f7f7f; text-decoration-color: #7f7f7f\">model_trainer.py</span></a><span style=\"color: #7f7f7f; text-decoration-color: #7f7f7f\">:</span><a href=\"file:///Users/dashtiam/miniconda3/lib/python3.12/site-packages/sagemaker/modules/train/model_trainer.py#834\" target=\"_blank\"><span style=\"color: #7f7f7f; text-decoration-color: #7f7f7f\">834</span></a>\n",
       "<span style=\"color: #7fbfbf; text-decoration-color: #7fbfbf\">                    </span>         <span style=\"color: #d70000; text-decoration-color: #d70000; font-style: italic\">False</span>.                                                            <span style=\"color: #7f7f7f; text-decoration-color: #7f7f7f\">                    </span>\n",
       "</pre>\n"
      ],
      "text/plain": [
       "\u001b[2;36m[08/25/25 08:10:50]\u001b[0m\u001b[2;36m \u001b[0m\u001b[1;38;2;215;175;0mWARNING \u001b[0m Not displaing the training container logs as \u001b[38;2;0;135;0m'wait'\u001b[0m is set to     \u001b]8;id=416139;file:///Users/dashtiam/miniconda3/lib/python3.12/site-packages/sagemaker/modules/train/model_trainer.py\u001b\\\u001b[2mmodel_trainer.py\u001b[0m\u001b]8;;\u001b\\\u001b[2m:\u001b[0m\u001b]8;id=139537;file:///Users/dashtiam/miniconda3/lib/python3.12/site-packages/sagemaker/modules/train/model_trainer.py#834\u001b\\\u001b[2m834\u001b[0m\u001b]8;;\u001b\\\n",
       "\u001b[2;36m                    \u001b[0m         \u001b[3;38;2;215;0;0mFalse\u001b[0m.                                                            \u001b[2m                    \u001b[0m\n"
      ]
     },
     "metadata": {},
     "output_type": "display_data"
    }
   ],
   "source": [
    "model_trainer.train(input_data_config=[training_data], wait=True)"
   ]
  },
  {
   "cell_type": "code",
   "execution_count": 41,
   "id": "616939cd-c0be-4873-bc39-b6c6e97e1ea9",
   "metadata": {
    "execution": {
     "iopub.execute_input": "2025-08-20T13:54:34.557574Z",
     "iopub.status.busy": "2025-08-20T13:54:34.557352Z",
     "iopub.status.idle": "2025-08-20T13:54:34.562007Z",
     "shell.execute_reply": "2025-08-20T13:54:34.561581Z",
     "shell.execute_reply.started": "2025-08-20T13:54:34.557556Z"
    }
   },
   "outputs": [],
   "source": [
    "def get_last_job_name(job_name_prefix):\n",
    "    sagemaker_client = boto3.client('sagemaker')\n",
    "\n",
    "    matching_jobs = []\n",
    "    next_token = None\n",
    "\n",
    "    while True:\n",
    "        # Prepare the search parameters\n",
    "        search_params = {\n",
    "            'Resource': 'TrainingJob',\n",
    "            'SearchExpression': {\n",
    "                'Filters': [\n",
    "                    {\n",
    "                        'Name': 'TrainingJobName',\n",
    "                        'Operator': 'Contains',\n",
    "                        'Value': job_name_prefix\n",
    "                    },\n",
    "                    {\n",
    "                        'Name': 'TrainingJobStatus',\n",
    "                        'Operator': 'Equals',\n",
    "                        'Value': \"Completed\"\n",
    "                    }\n",
    "                ]\n",
    "            },\n",
    "            'SortBy': 'CreationTime',\n",
    "            'SortOrder': 'Descending',\n",
    "            'MaxResults': 100\n",
    "        }\n",
    "\n",
    "        # Add NextToken if we have one\n",
    "        if next_token:\n",
    "            search_params['NextToken'] = next_token\n",
    "\n",
    "        # Make the search request\n",
    "        search_response = sagemaker_client.search(**search_params)\n",
    "\n",
    "        # Filter and add matching jobs\n",
    "        matching_jobs.extend([\n",
    "            job['TrainingJob']['TrainingJobName'] \n",
    "            for job in search_response['Results']\n",
    "            if job['TrainingJob']['TrainingJobName'].startswith(job_name_prefix)\n",
    "        ])\n",
    "\n",
    "        # Check if we have more results to fetch\n",
    "        next_token = search_response.get('NextToken')\n",
    "        if not next_token or matching_jobs:  # Stop if we found at least one match or no more results\n",
    "            break\n",
    "\n",
    "    if not matching_jobs:\n",
    "        raise ValueError(f\"No completed training jobs found starting with prefix '{job_name_prefix}'\")\n",
    "\n",
    "    return matching_jobs[0]"
   ]
  },
  {
   "cell_type": "code",
   "execution_count": 42,
   "id": "37e234aa-0730-4808-8ca7-528ff6a30746",
   "metadata": {
    "execution": {
     "iopub.execute_input": "2025-08-20T13:54:34.562701Z",
     "iopub.status.busy": "2025-08-20T13:54:34.562536Z",
     "iopub.status.idle": "2025-08-20T13:54:35.362238Z",
     "shell.execute_reply": "2025-08-20T13:54:35.361672Z",
     "shell.execute_reply.started": "2025-08-20T13:54:34.562688Z"
    }
   },
   "outputs": [
    {
     "data": {
      "text/plain": [
       "'vlm-sft-model-trainer-distributed-20250822111245'"
      ]
     },
     "execution_count": 42,
     "metadata": {},
     "output_type": "execute_result"
    }
   ],
   "source": [
    "job_name = get_last_job_name(job_prefix)\n",
    "\n",
    "job_name"
   ]
  },
  {
   "cell_type": "code",
   "execution_count": 43,
   "id": "00f5ef80-b5f0-432e-b136-b36c8196c442",
   "metadata": {
    "execution": {
     "iopub.execute_input": "2025-08-20T13:54:49.085031Z",
     "iopub.status.busy": "2025-08-20T13:54:49.084412Z",
     "iopub.status.idle": "2025-08-20T13:54:49.088097Z",
     "shell.execute_reply": "2025-08-20T13:54:49.087613Z",
     "shell.execute_reply.started": "2025-08-20T13:54:49.085011Z"
    }
   },
   "outputs": [],
   "source": [
    "default_prefix=None\n",
    "if default_prefix:\n",
    "    model_data=f\"s3://{bucket_name}/{default_prefix}/{job_prefix}/{job_name}/output/model.tar.gz\"\n",
    "else:\n",
    "    model_data=f\"s3://{bucket_name}/{job_prefix}/{job_name}/output/model.tar.gz\"\n"
   ]
  },
  {
   "cell_type": "code",
   "execution_count": 44,
   "id": "a80cb0bb-6e60-49b0-b6bc-856f443d48d3",
   "metadata": {
    "execution": {
     "iopub.execute_input": "2025-08-20T13:54:49.355199Z",
     "iopub.status.busy": "2025-08-20T13:54:49.354845Z",
     "iopub.status.idle": "2025-08-20T13:54:49.358354Z",
     "shell.execute_reply": "2025-08-20T13:54:49.358023Z",
     "shell.execute_reply.started": "2025-08-20T13:54:49.355177Z"
    }
   },
   "outputs": [
    {
     "data": {
      "text/plain": [
       "'s3://sagemaker-us-east-1-783764584149/vlm-sft-model-trainer-distributed/vlm-sft-model-trainer-distributed-20250822111245/output/model.tar.gz'"
      ]
     },
     "execution_count": 44,
     "metadata": {},
     "output_type": "execute_result"
    }
   ],
   "source": [
    "model_data"
   ]
  },
  {
   "cell_type": "markdown",
   "id": "eed2d131-c450-4557-887e-1fd9c8403f3b",
   "metadata": {},
   "source": [
    "# Test Model and run Inference"
   ]
  },
  {
   "cell_type": "code",
   "execution_count": 45,
   "id": "5ae9743b-0a58-4f90-a242-cdaa434e9600",
   "metadata": {},
   "outputs": [
    {
     "name": "stdout",
     "output_type": "stream",
     "text": [
      "s3://sagemaker-us-east-1-783764584149/vlm-sft-model-trainer-distributed/vlm-sft-model-trainer-distributed-20250822111245/output/model.tar.gz\n"
     ]
    }
   ],
   "source": [
    "print(model_data)"
   ]
  },
  {
   "cell_type": "code",
   "execution_count": null,
   "id": "cdc8a49d-3da0-4538-aa64-cf1c6f926ffb",
   "metadata": {
    "execution": {
     "iopub.execute_input": "2025-08-20T16:43:52.124216Z",
     "iopub.status.busy": "2025-08-20T16:43:52.123949Z",
     "iopub.status.idle": "2025-08-20T16:43:54.935880Z",
     "shell.execute_reply": "2025-08-20T16:43:54.935097Z",
     "shell.execute_reply.started": "2025-08-20T16:43:52.124197Z"
    }
   },
   "outputs": [],
   "source": [
    "import torch\n",
    "from transformers import AutoProcessor, AutoModelForImageTextToText\n",
    "from qwen_vl_utils import process_vision_info\n",
    "adapter_path = \"../models/vlm-sft-SmolVLM-Instruct/\"\n",
    "model_id = \"HuggingFaceTB/SmolVLM-Instruct\"\n",
    "# Load Model base model\n",
    "model = AutoModelForImageTextToText.from_pretrained(\n",
    "  model_id,\n",
    "  device_map=\"auto\",\n",
    "  torch_dtype=torch.float16\n",
    ")\n",
    "processor = AutoProcessor.from_pretrained(model_id)"
   ]
  },
  {
   "cell_type": "code",
   "execution_count": null,
   "id": "d58c1aa2-1073-4f37-9f7a-043f1f32d615",
   "metadata": {},
   "outputs": [],
   "source": []
  },
  {
   "cell_type": "code",
   "execution_count": null,
   "id": "14e13754-9930-4207-9fdb-b04252a50451",
   "metadata": {
    "execution": {
     "iopub.execute_input": "2025-08-20T16:43:36.589410Z",
     "iopub.status.busy": "2025-08-20T16:43:36.589208Z",
     "iopub.status.idle": "2025-08-20T16:43:36.620562Z",
     "shell.execute_reply": "2025-08-20T16:43:36.620132Z",
     "shell.execute_reply.started": "2025-08-20T16:43:36.589394Z"
    }
   },
   "outputs": [],
   "source": [
    "# sample from amazon.com\n",
    "sample = {\n",
    "  \"product_name\": \"Hasbro Marvel Avengers-Serie Marvel Assemble Titan-Held, Iron Man, 30,5 cm Actionfigur\",\n",
    "  \"catergory\": \"Toys & Games | Toy Figures & Playsets | Action Figures\",\n",
    "  \"image\": \"https://m.media-amazon.com/images/I/81+7Up7IWyL._AC_SY300_SX300_.jpg\"\n",
    "}\n",
    "\n",
    "\n",
    "# prepare message\n",
    "messages = [{\n",
    "        \"role\": \"user\",\n",
    "        \"content\": [\n",
    "            {\n",
    "                \"index\": None,\n",
    "                \"type\": \"image\",\n",
    "                \"image\": sample[\"image\"],\n",
    "            },\n",
    "            {\"index\": None,\"type\": \"text\", \"text\": prompt.format(product_name=sample[\"product_name\"], category=sample[\"catergory\"])},\n",
    "        ],\n",
    "    }\n",
    "]\n",
    "\n",
    "image_inputs, video_inputs = process_vision_info(messages)\n",
    "print(image_inputs)\n",
    "def generate_description(sample, model, processor):\n",
    "    messages = [\n",
    "        {\"role\": \"system\", \"content\": [{\"index\": None, \"type\": \"text\", \"text\": system_message}]},\n",
    "        {\"role\": \"user\", \"content\": [\n",
    "            {\"index\": None,\"type\": \"image\",\"image\": sample[\"image\"]},\n",
    "            {\"index\": None,\"type\": \"text\", \"text\": prompt.format(product_name=sample[\"product_name\"], category=sample[\"catergory\"])},\n",
    "        ]},\n",
    "    ]\n",
    "    # Preparation for inference\n",
    "    text = processor.apply_chat_template(\n",
    "        messages, tokenize=False, add_generation_prompt=True\n",
    "    )\n",
    "    image_inputs, video_inputs = process_vision_info(messages)\n",
    "    inputs = processor(\n",
    "        images=image_inputs,\n",
    "        text=[text],\n",
    "        #videos=video_inputs,\n",
    "        padding=True,\n",
    "        return_tensors=\"pt\",\n",
    "    )\n",
    "    inputs = inputs.to(model.device)\n",
    "    # Inference: Generation of the output\n",
    "    generated_ids = model.generate(**inputs, max_new_tokens=256, top_p=1.0, do_sample=True, temperature=0.8)\n",
    "    generated_ids_trimmed = [out_ids[len(in_ids) :] for in_ids, out_ids in zip(inputs.input_ids, generated_ids)]\n",
    "    output_text = processor.batch_decode(\n",
    "        generated_ids_trimmed, skip_special_tokens=True, clean_up_tokenization_spaces=False\n",
    "    )\n",
    "    return output_text[0]\n",
    " "
   ]
  },
  {
   "cell_type": "code",
   "execution_count": null,
   "id": "f4ec605a-2f6a-4031-b1fa-8a094717b2c2",
   "metadata": {
    "execution": {
     "iopub.execute_input": "2025-08-20T16:43:37.324284Z",
     "iopub.status.busy": "2025-08-20T16:43:37.323944Z",
     "iopub.status.idle": "2025-08-20T16:43:38.514219Z",
     "shell.execute_reply": "2025-08-20T16:43:38.513452Z",
     "shell.execute_reply.started": "2025-08-20T16:43:37.324258Z"
    }
   },
   "outputs": [],
   "source": [
    "# let's generate the description\n",
    "base_description = generate_description(sample, model, processor)\n",
    "print(base_description)\n",
    "#"
   ]
  },
  {
   "cell_type": "code",
   "execution_count": null,
   "id": "3f7a1878-88f2-477e-af2d-c3c1cfc29ba9",
   "metadata": {
    "execution": {
     "iopub.execute_input": "2025-08-20T16:43:57.571895Z",
     "iopub.status.busy": "2025-08-20T16:43:57.571622Z",
     "iopub.status.idle": "2025-08-20T16:43:59.871113Z",
     "shell.execute_reply": "2025-08-20T16:43:59.870372Z",
     "shell.execute_reply.started": "2025-08-20T16:43:57.571878Z"
    }
   },
   "outputs": [],
   "source": [
    "model.load_adapter(adapter_path) # load the adapter and activate\n",
    " \n",
    "ft_description = generate_description(sample, model, processor)\n",
    "print(ft_description)"
   ]
  },
  {
   "cell_type": "code",
   "execution_count": null,
   "id": "7945660b-a1b9-4302-9f21-d0b2dc252e49",
   "metadata": {
    "execution": {
     "iopub.execute_input": "2025-08-20T16:45:42.496597Z",
     "iopub.status.busy": "2025-08-20T16:45:42.496346Z",
     "iopub.status.idle": "2025-08-20T16:47:32.482575Z",
     "shell.execute_reply": "2025-08-20T16:47:32.482096Z",
     "shell.execute_reply.started": "2025-08-20T16:45:42.496581Z"
    }
   },
   "outputs": [],
   "source": [
    "\n",
    "from peft import PeftModel\n",
    "from transformers import AutoProcessor, AutoModelForImageTextToText\n",
    " \n",
    "adapter_path = \"../models/vlm-sft-SmolVLM-Instruct/\"\n",
    "model_id = \"HuggingFaceTB/SmolVLM-Instruct\"\n",
    "merged_path = \"../models/merged\"\n",
    " \n",
    "# Load Model base model\n",
    "model = AutoModelForImageTextToText.from_pretrained(model_id, low_cpu_mem_usage=True)\n",
    " \n",
    "# Path to save the merged model\n",
    " \n",
    "# Merge LoRA and base model and save\n",
    "peft_model = PeftModel.from_pretrained(model, adapter_path)\n",
    "merged_model = peft_model.merge_and_unload()\n",
    "merged_model.save_pretrained(merged_path,safe_serialization=True, max_shard_size=\"2GB\")\n",
    " \n",
    "processor = AutoProcessor.from_pretrained(model_id)\n",
    "processor.save_pretrained(merged_path)"
   ]
  },
  {
   "cell_type": "code",
   "execution_count": null,
   "id": "e43d9294-03de-45fb-be85-fbfa0cdaf061",
   "metadata": {},
   "outputs": [],
   "source": [
    "2+2"
   ]
  },
  {
   "cell_type": "code",
   "execution_count": null,
   "id": "94913be0",
   "metadata": {},
   "outputs": [],
   "source": []
  }
 ],
 "metadata": {
  "kernelspec": {
   "display_name": "base",
   "language": "python",
   "name": "python3"
  },
  "language_info": {
   "codemirror_mode": {
    "name": "ipython",
    "version": 3
   },
   "file_extension": ".py",
   "mimetype": "text/x-python",
   "name": "python",
   "nbconvert_exporter": "python",
   "pygments_lexer": "ipython3",
   "version": "3.12.2"
  }
 },
 "nbformat": 4,
 "nbformat_minor": 5
}
