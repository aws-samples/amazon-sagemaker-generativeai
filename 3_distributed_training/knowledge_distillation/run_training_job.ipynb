{
 "cells": [
  {
   "cell_type": "markdown",
   "id": "80623c43-a711-44f7-a30e-cb667a1af374",
   "metadata": {},
   "source": [
    "# Model Customization Demo (Distillation)\n",
    "\n",
    "## Model Distillation with Amazon SageMaker Training Jobs\n"
   ]
  },
  {
   "cell_type": "code",
   "execution_count": 1,
   "id": "c2b1be3c-7cc4-4bd9-9248-12f85ff4e17a",
   "metadata": {
    "execution": {
     "iopub.execute_input": "2025-08-05T22:08:19.178735Z",
     "iopub.status.busy": "2025-08-05T22:08:19.178467Z",
     "iopub.status.idle": "2025-08-05T22:08:19.181156Z",
     "shell.execute_reply": "2025-08-05T22:08:19.180754Z",
     "shell.execute_reply.started": "2025-08-05T22:08:19.178718Z"
    }
   },
   "outputs": [],
   "source": [
    "#! pip install -U datasets\n",
    "#!pip install --upgrade datasets\n",
    "#!pip install datasets==3.6.0"
   ]
  },
  {
   "cell_type": "code",
   "execution_count": 2,
   "id": "18c9eebc-18ae-4ddd-a206-3e12c4afd9c0",
   "metadata": {
    "execution": {
     "iopub.execute_input": "2025-08-05T22:08:19.434799Z",
     "iopub.status.busy": "2025-08-05T22:08:19.434526Z",
     "iopub.status.idle": "2025-08-05T22:08:19.437088Z",
     "shell.execute_reply": "2025-08-05T22:08:19.436692Z",
     "shell.execute_reply.started": "2025-08-05T22:08:19.434782Z"
    }
   },
   "outputs": [],
   "source": [
    "#! pip install transformers datasets \"sagemaker>=2.190.0\" --upgrade --quiet\n",
    "#! pip install transformers boto3 \"sagemaker-core==1.0.41\" \"datasets==4.0.0\" \"sagemaker>=2.190.0\" --upgrade --quiet"
   ]
  },
  {
   "cell_type": "code",
   "execution_count": 1,
   "id": "d55619c5-aaf4-42c0-83f4-58381c13c3b3",
   "metadata": {},
   "outputs": [
    {
     "name": "stdout",
     "output_type": "stream",
     "text": [
      "sagemaker.config INFO - Not applying SDK defaults from location: /etc/xdg/sagemaker/config.yaml\n",
      "sagemaker.config INFO - Not applying SDK defaults from location: /home/sagemaker-user/.config/sagemaker/config.yaml\n"
     ]
    }
   ],
   "source": [
    "import sagemaker\n",
    "from datasets import load_dataset\n",
    "import pandas as pd\n",
    "from transformers import AutoTokenizer\n",
    "import boto3\n",
    "import os\n",
    "\n",
    "sagemaker_session = sagemaker.Session()\n",
    "bucket_name = sagemaker_session.default_bucket()\n",
    "default_prefix = sagemaker_session.default_bucket_prefix"
   ]
  },
  {
   "cell_type": "code",
   "execution_count": 2,
   "id": "f8b360d6-c00c-45e6-aabe-36a302474ed2",
   "metadata": {},
   "outputs": [],
   "source": [
    "from huggingface_hub import login\n",
    "# Provide hf_token value to models and data\n",
    "os.environ['hf_token']=\"\"\n",
    "login(os.environ['hf_token'])\n",
    "\n",
    "\n",
    "os.environ['WANDB_API_KEY'] = \"\""
   ]
  },
  {
   "cell_type": "code",
   "execution_count": 3,
   "id": "64ccc8c9-052b-4684-b092-6e77228e5528",
   "metadata": {},
   "outputs": [
    {
     "data": {
      "application/vnd.jupyter.widget-view+json": {
       "model_id": "867204751b124bddacae426727611f37",
       "version_major": 2,
       "version_minor": 0
      },
      "text/plain": [
       "README.md:   0%|          | 0.00/982 [00:00<?, ?B/s]"
      ]
     },
     "metadata": {},
     "output_type": "display_data"
    },
    {
     "data": {
      "application/vnd.jupyter.widget-view+json": {
       "model_id": "a480f78f1010498baf20b5edd4568fe2",
       "version_major": 2,
       "version_minor": 0
      },
      "text/plain": [
       "data/train-00000-of-00001.parquet:   0%|          | 0.00/117M [00:00<?, ?B/s]"
      ]
     },
     "metadata": {},
     "output_type": "display_data"
    },
    {
     "data": {
      "application/vnd.jupyter.widget-view+json": {
       "model_id": "c00ab2ccd9db404caebf5e3e78711ce8",
       "version_major": 2,
       "version_minor": 0
      },
      "text/plain": [
       "Generating train split:   0%|          | 0/100000 [00:00<?, ? examples/s]"
      ]
     },
     "metadata": {},
     "output_type": "display_data"
    }
   ],
   "source": [
    "from datasets import load_dataset\n",
    "\n",
    "dataset = load_dataset('mlabonne/FineTome-100k')"
   ]
  },
  {
   "cell_type": "code",
   "execution_count": 4,
   "id": "505ba770-7681-410d-ac6c-3f749bb95afc",
   "metadata": {},
   "outputs": [],
   "source": [
    "dataset[\"train\"] = dataset[\"train\"].select(range(1000))"
   ]
  },
  {
   "cell_type": "code",
   "execution_count": 5,
   "id": "7207abe5-d046-4adc-9f53-7f9f64f5dfba",
   "metadata": {},
   "outputs": [
    {
     "data": {
      "application/vnd.jupyter.widget-view+json": {
       "model_id": "1cf89893b26b43929c88525507fda412",
       "version_major": 2,
       "version_minor": 0
      },
      "text/plain": [
       "Creating json from Arrow format:   0%|          | 0/1 [00:00<?, ?ba/s]"
      ]
     },
     "metadata": {},
     "output_type": "display_data"
    },
    {
     "name": "stdout",
     "output_type": "stream",
     "text": [
      "Training data uploaded to:\n",
      "s3://sagemaker-us-east-1-783764584149/datasets/distllation_training_job/train/dataset.json\n",
      "https://s3.console.aws.amazon.com/s3/buckets/sagemaker-us-east-1-783764584149/?region=us-east-1&prefix=datasets/distllation_training_job/\n"
     ]
    }
   ],
   "source": [
    "# save train_dataset to s3 using our SageMaker session\n",
    "input_path = f's3://{sagemaker_session.default_bucket()}/datasets/distllation_training_job'\n",
    "\n",
    "# Save datasets to s3\n",
    "# We will fine tune only with 20 records due to limited compute resource for the workshop\n",
    "dataset[\"train\"].to_json(f\"{input_path}/train/dataset.json\", orient=\"records\")\n",
    "sft_dataset_s3_path = f\"{input_path}/train/dataset.json\"\n",
    "# ds_train_pref[\"train\"].to_json(f\"{input_path}/pref/dataset.json\", orient=\"records\")\n",
    "# perf_dataset_s3_path = f\"{input_path}/pref/dataset.json\"\n",
    "print(f\"Training data uploaded to:\")\n",
    "print(sft_dataset_s3_path)\n",
    "print(f\"https://s3.console.aws.amazon.com/s3/buckets/{sagemaker_session.default_bucket()}/?region={sagemaker_session.boto_region_name}&prefix={input_path.split('/', 3)[-1]}/\")\n"
   ]
  },
  {
   "cell_type": "code",
   "execution_count": null,
   "id": "bf02f7ed-e99d-44d1-bad4-9c085fe0a1ec",
   "metadata": {},
   "outputs": [],
   "source": []
  },
  {
   "cell_type": "markdown",
   "id": "b4260670-6956-4cb5-bcf6-80dd73d0de91",
   "metadata": {},
   "source": [
    "# ModelTrainer API"
   ]
  },
  {
   "cell_type": "code",
   "execution_count": 92,
   "id": "b8aa4301-b730-4257-9567-105737432a75",
   "metadata": {},
   "outputs": [],
   "source": [
    "from sagemaker.config import load_sagemaker_config"
   ]
  },
  {
   "cell_type": "code",
   "execution_count": 93,
   "id": "9b26ab18-bbfd-40b7-bf49-7b3be7c86265",
   "metadata": {},
   "outputs": [],
   "source": [
    "configs = load_sagemaker_config()"
   ]
  },
  {
   "cell_type": "code",
   "execution_count": 134,
   "id": "9fa6d12b-f820-4214-83dd-f4759b0f456c",
   "metadata": {},
   "outputs": [],
   "source": [
    "from sagemaker.modules.train import ModelTrainer\n",
    "from sagemaker.modules.configs import Compute, SourceCode, InputData, StoppingCondition, CheckpointConfig\n",
    "\n",
    "env = {}\n",
    "env[\"FI_PROVIDER\"] = \"efa\"\n",
    "env[\"NCCL_PROTO\"] = \"simple\"\n",
    "env[\"NCCL_SOCKET_IFNAME\"] = \"eth0\"\n",
    "env[\"NCCL_IB_DISABLE\"] = \"1\"\n",
    "env[\"NCCL_DEBUG\"] = \"WARN\"\n",
    "env[\"HF_token\"] = os.environ['hf_token']\n",
    "#env[\"WANDB_API_KEY\"] = os.environ['WANDB_API_KEY']\n",
    "env[\"data_location\"] = sft_dataset_s3_path\n",
    "# MLFlow tracker\n",
    "tracking_server_arn = 'arn:aws:sagemaker:us-east-1:783764584149:mlflow-tracking-server/MLflow3-test'\n",
    "mlflow_experiment_name = 'distillation'\n",
    "env[\"MLFLOW_TRACKING_ARN\"] = tracking_server_arn\n",
    "env[\"MLFLOW_EXPERIMENT_NAME\"] = mlflow_experiment_name\n",
    "instance_type= \"ml.g6.48xlarge\" # \"ml.p4de.24xlarge\"\n",
    "compute = Compute(\n",
    "    instance_count=1,\n",
    "    instance_type= instance_type,\n",
    "    volume_size_in_gb=500,\n",
    "    keep_alive_period_in_seconds=3600,\n",
    ")"
   ]
  },
  {
   "cell_type": "code",
   "execution_count": 135,
   "id": "78d3d529-9496-42df-adae-da9655855701",
   "metadata": {},
   "outputs": [
    {
     "data": {
      "text/plain": [
       "'763104351884.dkr.ecr.us-east-1.amazonaws.com/pytorch-training:2.6.0-gpu-py312'"
      ]
     },
     "execution_count": 135,
     "metadata": {},
     "output_type": "execute_result"
    }
   ],
   "source": [
    "# image_uri = (\n",
    "#     f\"658645717510.dkr.ecr.{sagemaker_session.boto_session.region_name}.amazonaws.com/smdistributed-modelparallel:2.4.1-gpu-py311-cu121\"\n",
    "# )\n",
    "\n",
    "# image_uri\n",
    "\n",
    "image_uri = sagemaker.image_uris.retrieve(\n",
    "    framework=\"pytorch\",\n",
    "    region=sagemaker_session.boto_session.region_name,\n",
    "    version=\"2.6.0\",\n",
    "    instance_type=instance_type,\n",
    "    image_scope=\"training\"\n",
    ")\n",
    "image_uri"
   ]
  },
  {
   "cell_type": "code",
   "execution_count": 136,
   "id": "d85d62a1-1544-4e7b-b5fd-3b9f6d48285a",
   "metadata": {},
   "outputs": [
    {
     "data": {
      "text/plain": [
       "'s3://sagemaker-us-east-1-783764584149/distillation-checkpoints/checkpoints'"
      ]
     },
     "execution_count": 136,
     "metadata": {},
     "output_type": "execute_result"
    }
   ],
   "source": [
    "checkpoint_s3_path = f\"s3://{bucket_name}/distillation-checkpoints/checkpoints\"\n",
    "checkpoint_s3_path"
   ]
  },
  {
   "cell_type": "code",
   "execution_count": 137,
   "id": "e10ff3c4-1eaf-40bd-898f-5be9f95e0ce3",
   "metadata": {},
   "outputs": [],
   "source": [
    "job_prefix = f\"model-distillation-Qwen3-1-7B-0-6B\""
   ]
  },
  {
   "cell_type": "code",
   "execution_count": 138,
   "id": "9e569dac-7232-4d41-9e1d-39a819143c72",
   "metadata": {},
   "outputs": [],
   "source": [
    "hyperparameters = {\n",
    "    \"dataset_path\": \"/opt/ml/input/data/dataset\",\n",
    "    \"model_dir\": \"/opt/ml/model\",\n",
    "    \"MLFLOW_TRACKING_ARN\": tracking_server_arn,\n",
    "    \"MLFLOW_EXPERIMENT_NAME\": mlflow_experiment_name\n",
    "}"
   ]
  },
  {
   "cell_type": "code",
   "execution_count": 139,
   "id": "d13f9f79-6f6b-47ce-a2a8-995e64a62762",
   "metadata": {},
   "outputs": [],
   "source": [
    "source_code = SourceCode(\n",
    "    source_dir=\"./scripts\",\n",
    "    requirements=\"requirements.txt\",\n",
    "    entry_script=\"run_kd.sh\",\n",
    ")"
   ]
  },
  {
   "cell_type": "code",
   "execution_count": 140,
   "id": "a7fd16fe-604b-4a6e-b96d-a7c434fabfa8",
   "metadata": {},
   "outputs": [
    {
     "data": {
      "text/html": [
       "<pre style=\"white-space:pre;overflow-x:auto;line-height:normal;font-family:Menlo,'DejaVu Sans Mono',consolas,'Courier New',monospace\"><span style=\"color: #7fbfbf; text-decoration-color: #7fbfbf\">[10/14/25 22:32:34] </span><span style=\"color: #d7af00; text-decoration-color: #d7af00; font-weight: bold\">WARNING </span> SageMaker session not provided. Using default Session.            <a href=\"file:///opt/conda/lib/python3.12/site-packages/sagemaker/modules/train/model_trainer.py\" target=\"_blank\"><span style=\"color: #7f7f7f; text-decoration-color: #7f7f7f\">model_trainer.py</span></a><span style=\"color: #7f7f7f; text-decoration-color: #7f7f7f\">:</span><a href=\"file:///opt/conda/lib/python3.12/site-packages/sagemaker/modules/train/model_trainer.py#501\" target=\"_blank\"><span style=\"color: #7f7f7f; text-decoration-color: #7f7f7f\">501</span></a>\n",
       "</pre>\n"
      ],
      "text/plain": [
       "\u001b[2;36m[10/14/25 22:32:34]\u001b[0m\u001b[2;36m \u001b[0m\u001b[1;38;2;215;175;0mWARNING \u001b[0m SageMaker session not provided. Using default Session.            \u001b]8;id=941333;file:///opt/conda/lib/python3.12/site-packages/sagemaker/modules/train/model_trainer.py\u001b\\\u001b[2mmodel_trainer.py\u001b[0m\u001b]8;;\u001b\\\u001b[2m:\u001b[0m\u001b]8;id=646631;file:///opt/conda/lib/python3.12/site-packages/sagemaker/modules/train/model_trainer.py#501\u001b\\\u001b[2m501\u001b[0m\u001b]8;;\u001b\\\n"
      ]
     },
     "metadata": {},
     "output_type": "display_data"
    },
    {
     "data": {
      "text/html": [
       "<pre style=\"white-space:pre;overflow-x:auto;line-height:normal;font-family:Menlo,'DejaVu Sans Mono',consolas,'Courier New',monospace\"><span style=\"color: #7fbfbf; text-decoration-color: #7fbfbf\">                    </span><span style=\"color: #d7af00; text-decoration-color: #d7af00; font-weight: bold\">WARNING </span> Role not provided. Using default role:                            <a href=\"file:///opt/conda/lib/python3.12/site-packages/sagemaker/modules/train/model_trainer.py\" target=\"_blank\"><span style=\"color: #7f7f7f; text-decoration-color: #7f7f7f\">model_trainer.py</span></a><span style=\"color: #7f7f7f; text-decoration-color: #7f7f7f\">:</span><a href=\"file:///opt/conda/lib/python3.12/site-packages/sagemaker/modules/train/model_trainer.py#505\" target=\"_blank\"><span style=\"color: #7f7f7f; text-decoration-color: #7f7f7f\">505</span></a>\n",
       "<span style=\"color: #7fbfbf; text-decoration-color: #7fbfbf\">                    </span>         arn:aws:iam::<span style=\"color: #008080; text-decoration-color: #008080; font-weight: bold\">783764584149</span>:role/service-role/AmazonSageMaker-Execu <span style=\"color: #7f7f7f; text-decoration-color: #7f7f7f\">                    </span>\n",
       "<span style=\"color: #7fbfbf; text-decoration-color: #7fbfbf\">                    </span>         tionRole-20241230T144802                                          <span style=\"color: #7f7f7f; text-decoration-color: #7f7f7f\">                    </span>\n",
       "</pre>\n"
      ],
      "text/plain": [
       "\u001b[2;36m                   \u001b[0m\u001b[2;36m \u001b[0m\u001b[1;38;2;215;175;0mWARNING \u001b[0m Role not provided. Using default role:                            \u001b]8;id=391849;file:///opt/conda/lib/python3.12/site-packages/sagemaker/modules/train/model_trainer.py\u001b\\\u001b[2mmodel_trainer.py\u001b[0m\u001b]8;;\u001b\\\u001b[2m:\u001b[0m\u001b]8;id=852932;file:///opt/conda/lib/python3.12/site-packages/sagemaker/modules/train/model_trainer.py#505\u001b\\\u001b[2m505\u001b[0m\u001b]8;;\u001b\\\n",
       "\u001b[2;36m                    \u001b[0m         arn:aws:iam::\u001b[1;36m783764584149\u001b[0m:role/service-role/AmazonSageMaker-Execu \u001b[2m                    \u001b[0m\n",
       "\u001b[2;36m                    \u001b[0m         tionRole-20241230T144802                                          \u001b[2m                    \u001b[0m\n"
      ]
     },
     "metadata": {},
     "output_type": "display_data"
    },
    {
     "data": {
      "text/html": [
       "<pre style=\"white-space:pre;overflow-x:auto;line-height:normal;font-family:Menlo,'DejaVu Sans Mono',consolas,'Courier New',monospace\"><span style=\"color: #7fbfbf; text-decoration-color: #7fbfbf\">[10/14/25 22:32:35] </span><span style=\"color: #d7af00; text-decoration-color: #d7af00; font-weight: bold\">WARNING </span> OutputDataConfig not provided. Using default:                     <a href=\"file:///opt/conda/lib/python3.12/site-packages/sagemaker/modules/train/model_trainer.py\" target=\"_blank\"><span style=\"color: #7f7f7f; text-decoration-color: #7f7f7f\">model_trainer.py</span></a><span style=\"color: #7f7f7f; text-decoration-color: #7f7f7f\">:</span><a href=\"file:///opt/conda/lib/python3.12/site-packages/sagemaker/modules/train/model_trainer.py#567\" target=\"_blank\"><span style=\"color: #7f7f7f; text-decoration-color: #7f7f7f\">567</span></a>\n",
       "<span style=\"color: #7fbfbf; text-decoration-color: #7fbfbf\">                    </span>         <span style=\"color: #d7af00; text-decoration-color: #d7af00\">s3_output_path</span>=<span style=\"color: #008700; text-decoration-color: #008700\">'s3://sagemaker-us-east-1-783764584149/model-disti</span> <span style=\"color: #7f7f7f; text-decoration-color: #7f7f7f\">                    </span>\n",
       "<span style=\"color: #7fbfbf; text-decoration-color: #7fbfbf\">                    </span>         <span style=\"color: #008700; text-decoration-color: #008700\">llation-Qwen3-1-7B-0-6B'</span> <span style=\"color: #d7af00; text-decoration-color: #d7af00\">kms_key_id</span>=<span style=\"color: #e100e1; text-decoration-color: #e100e1; font-style: italic\">None</span> <span style=\"color: #d7af00; text-decoration-color: #d7af00\">compression_type</span>=<span style=\"color: #008700; text-decoration-color: #008700\">'GZIP'</span>  <span style=\"color: #7f7f7f; text-decoration-color: #7f7f7f\">                    </span>\n",
       "</pre>\n"
      ],
      "text/plain": [
       "\u001b[2;36m[10/14/25 22:32:35]\u001b[0m\u001b[2;36m \u001b[0m\u001b[1;38;2;215;175;0mWARNING \u001b[0m OutputDataConfig not provided. Using default:                     \u001b]8;id=90435;file:///opt/conda/lib/python3.12/site-packages/sagemaker/modules/train/model_trainer.py\u001b\\\u001b[2mmodel_trainer.py\u001b[0m\u001b]8;;\u001b\\\u001b[2m:\u001b[0m\u001b]8;id=316325;file:///opt/conda/lib/python3.12/site-packages/sagemaker/modules/train/model_trainer.py#567\u001b\\\u001b[2m567\u001b[0m\u001b]8;;\u001b\\\n",
       "\u001b[2;36m                    \u001b[0m         \u001b[38;2;215;175;0ms3_output_path\u001b[0m=\u001b[38;2;0;135;0m's3://sagemaker-us-east-1-783764584149/model-disti\u001b[0m \u001b[2m                    \u001b[0m\n",
       "\u001b[2;36m                    \u001b[0m         \u001b[38;2;0;135;0mllation-Qwen3-1-7B-0-6B'\u001b[0m \u001b[38;2;215;175;0mkms_key_id\u001b[0m=\u001b[3;38;2;225;0;225mNone\u001b[0m \u001b[38;2;215;175;0mcompression_type\u001b[0m=\u001b[38;2;0;135;0m'GZIP'\u001b[0m  \u001b[2m                    \u001b[0m\n"
      ]
     },
     "metadata": {},
     "output_type": "display_data"
    },
    {
     "data": {
      "text/html": [
       "<pre style=\"white-space:pre;overflow-x:auto;line-height:normal;font-family:Menlo,'DejaVu Sans Mono',consolas,'Courier New',monospace\"><span style=\"color: #7fbfbf; text-decoration-color: #7fbfbf\">                    </span><span style=\"color: #0069ff; text-decoration-color: #0069ff; font-weight: bold\">INFO    </span> Training image URI:                                               <a href=\"file:///opt/conda/lib/python3.12/site-packages/sagemaker/modules/train/model_trainer.py\" target=\"_blank\"><span style=\"color: #7f7f7f; text-decoration-color: #7f7f7f\">model_trainer.py</span></a><span style=\"color: #7f7f7f; text-decoration-color: #7f7f7f\">:</span><a href=\"file:///opt/conda/lib/python3.12/site-packages/sagemaker/modules/train/model_trainer.py#588\" target=\"_blank\"><span style=\"color: #7f7f7f; text-decoration-color: #7f7f7f\">588</span></a>\n",
       "<span style=\"color: #7fbfbf; text-decoration-color: #7fbfbf\">                    </span>         <span style=\"color: #008080; text-decoration-color: #008080; font-weight: bold\">763104351884.</span>dkr.ecr.us-east-<span style=\"color: #008080; text-decoration-color: #008080; font-weight: bold\">1.</span>amazonaws.com/pytorch-training:<span style=\"color: #008080; text-decoration-color: #008080; font-weight: bold\">2.6</span> <span style=\"color: #7f7f7f; text-decoration-color: #7f7f7f\">                    </span>\n",
       "<span style=\"color: #7fbfbf; text-decoration-color: #7fbfbf\">                    </span>         .<span style=\"color: #008080; text-decoration-color: #008080; font-weight: bold\">0</span>-gpu-py312                                                      <span style=\"color: #7f7f7f; text-decoration-color: #7f7f7f\">                    </span>\n",
       "</pre>\n"
      ],
      "text/plain": [
       "\u001b[2;36m                   \u001b[0m\u001b[2;36m \u001b[0m\u001b[1;38;2;0;105;255mINFO    \u001b[0m Training image URI:                                               \u001b]8;id=15930;file:///opt/conda/lib/python3.12/site-packages/sagemaker/modules/train/model_trainer.py\u001b\\\u001b[2mmodel_trainer.py\u001b[0m\u001b]8;;\u001b\\\u001b[2m:\u001b[0m\u001b]8;id=733161;file:///opt/conda/lib/python3.12/site-packages/sagemaker/modules/train/model_trainer.py#588\u001b\\\u001b[2m588\u001b[0m\u001b]8;;\u001b\\\n",
       "\u001b[2;36m                    \u001b[0m         \u001b[1;36m763104351884.\u001b[0mdkr.ecr.us-east-\u001b[1;36m1.\u001b[0mamazonaws.com/pytorch-training:\u001b[1;36m2.6\u001b[0m \u001b[2m                    \u001b[0m\n",
       "\u001b[2;36m                    \u001b[0m         .\u001b[1;36m0\u001b[0m-gpu-py312                                                      \u001b[2m                    \u001b[0m\n"
      ]
     },
     "metadata": {},
     "output_type": "display_data"
    }
   ],
   "source": [
    "model_trainer = ModelTrainer(\n",
    "    training_image=image_uri,\n",
    "    compute=compute,\n",
    "    hyperparameters=hyperparameters,\n",
    "    environment=env,\n",
    "    source_code=source_code,\n",
    "    stopping_condition=StoppingCondition(\n",
    "        max_runtime_in_seconds=90000,\n",
    "    ),\n",
    "    checkpoint_config=CheckpointConfig(\n",
    "        s3_uri=f\"{checkpoint_s3_path}/{job_prefix}\",\n",
    "    ),\n",
    "    base_job_name=job_prefix\n",
    ")"
   ]
  },
  {
   "cell_type": "code",
   "execution_count": 141,
   "id": "45555111-e5ae-4bcd-ace5-32638b3373e4",
   "metadata": {},
   "outputs": [
    {
     "data": {
      "text/plain": [
       "'s3://sagemaker-us-east-1-783764584149/datasets/distllation_training_job/train/dataset.json'"
      ]
     },
     "execution_count": 141,
     "metadata": {},
     "output_type": "execute_result"
    }
   ],
   "source": [
    "sft_dataset_s3_path"
   ]
  },
  {
   "cell_type": "code",
   "execution_count": 142,
   "id": "9dbccb09-0e82-49fc-b8e2-8f3b9b2d35c8",
   "metadata": {},
   "outputs": [],
   "source": [
    "training_data = InputData(\n",
    "    channel_name=\"training_dataset\",\n",
    "    data_source=sft_dataset_s3_path,\n",
    ")"
   ]
  },
  {
   "cell_type": "code",
   "execution_count": 143,
   "id": "1638e14e-3c64-46e3-a5d8-8dd26a03d55e",
   "metadata": {
    "scrolled": true
   },
   "outputs": [
    {
     "data": {
      "text/html": [
       "<pre style=\"white-space:pre;overflow-x:auto;line-height:normal;font-family:Menlo,'DejaVu Sans Mono',consolas,'Courier New',monospace\"><span style=\"color: #7fbfbf; text-decoration-color: #7fbfbf\">                    </span><span style=\"color: #d7af00; text-decoration-color: #d7af00; font-weight: bold\">WARNING </span> key_prefix is only applicable when data_source is a local file    <a href=\"file:///opt/conda/lib/python3.12/site-packages/sagemaker/modules/train/model_trainer.py\" target=\"_blank\"><span style=\"color: #7f7f7f; text-decoration-color: #7f7f7f\">model_trainer.py</span></a><span style=\"color: #7f7f7f; text-decoration-color: #7f7f7f\">:</span><a href=\"file:///opt/conda/lib/python3.12/site-packages/sagemaker/modules/train/model_trainer.py#896\" target=\"_blank\"><span style=\"color: #7f7f7f; text-decoration-color: #7f7f7f\">896</span></a>\n",
       "<span style=\"color: #7fbfbf; text-decoration-color: #7fbfbf\">                    </span>         path.                                                             <span style=\"color: #7f7f7f; text-decoration-color: #7f7f7f\">                    </span>\n",
       "</pre>\n"
      ],
      "text/plain": [
       "\u001b[2;36m                   \u001b[0m\u001b[2;36m \u001b[0m\u001b[1;38;2;215;175;0mWARNING \u001b[0m key_prefix is only applicable when data_source is a local file    \u001b]8;id=775236;file:///opt/conda/lib/python3.12/site-packages/sagemaker/modules/train/model_trainer.py\u001b\\\u001b[2mmodel_trainer.py\u001b[0m\u001b]8;;\u001b\\\u001b[2m:\u001b[0m\u001b]8;id=279554;file:///opt/conda/lib/python3.12/site-packages/sagemaker/modules/train/model_trainer.py#896\u001b\\\u001b[2m896\u001b[0m\u001b]8;;\u001b\\\n",
       "\u001b[2;36m                    \u001b[0m         path.                                                             \u001b[2m                    \u001b[0m\n"
      ]
     },
     "metadata": {},
     "output_type": "display_data"
    },
    {
     "data": {
      "text/html": [
       "<pre style=\"white-space:pre;overflow-x:auto;line-height:normal;font-family:Menlo,'DejaVu Sans Mono',consolas,'Courier New',monospace\"><span style=\"color: #7fbfbf; text-decoration-color: #7fbfbf\">[10/14/25 22:32:36] </span><span style=\"color: #0069ff; text-decoration-color: #0069ff; font-weight: bold\">INFO    </span> Creating training_job resource.                                     <a href=\"file:///opt/conda/lib/python3.12/site-packages/sagemaker_core/main/resources.py\" target=\"_blank\"><span style=\"color: #7f7f7f; text-decoration-color: #7f7f7f\">resources.py</span></a><span style=\"color: #7f7f7f; text-decoration-color: #7f7f7f\">:</span><a href=\"file:///opt/conda/lib/python3.12/site-packages/sagemaker_core/main/resources.py#28522\" target=\"_blank\"><span style=\"color: #7f7f7f; text-decoration-color: #7f7f7f\">28522</span></a>\n",
       "</pre>\n"
      ],
      "text/plain": [
       "\u001b[2;36m[10/14/25 22:32:36]\u001b[0m\u001b[2;36m \u001b[0m\u001b[1;38;2;0;105;255mINFO    \u001b[0m Creating training_job resource.                                     \u001b]8;id=392994;file:///opt/conda/lib/python3.12/site-packages/sagemaker_core/main/resources.py\u001b\\\u001b[2mresources.py\u001b[0m\u001b]8;;\u001b\\\u001b[2m:\u001b[0m\u001b]8;id=9466;file:///opt/conda/lib/python3.12/site-packages/sagemaker_core/main/resources.py#28522\u001b\\\u001b[2m28522\u001b[0m\u001b]8;;\u001b\\\n"
      ]
     },
     "metadata": {},
     "output_type": "display_data"
    },
    {
     "data": {
      "text/html": [
       "<pre style=\"white-space:pre;overflow-x:auto;line-height:normal;font-family:Menlo,'DejaVu Sans Mono',consolas,'Courier New',monospace\"><span style=\"color: #7fbfbf; text-decoration-color: #7fbfbf\">[10/14/25 22:32:36] </span><span style=\"color: #d7af00; text-decoration-color: #d7af00; font-weight: bold\">WARNING </span> Not displaing the training container logs as <span style=\"color: #008700; text-decoration-color: #008700\">'wait'</span> is set to     <a href=\"file:///opt/conda/lib/python3.12/site-packages/sagemaker/modules/train/model_trainer.py\" target=\"_blank\"><span style=\"color: #7f7f7f; text-decoration-color: #7f7f7f\">model_trainer.py</span></a><span style=\"color: #7f7f7f; text-decoration-color: #7f7f7f\">:</span><a href=\"file:///opt/conda/lib/python3.12/site-packages/sagemaker/modules/train/model_trainer.py#834\" target=\"_blank\"><span style=\"color: #7f7f7f; text-decoration-color: #7f7f7f\">834</span></a>\n",
       "<span style=\"color: #7fbfbf; text-decoration-color: #7fbfbf\">                    </span>         <span style=\"color: #d70000; text-decoration-color: #d70000; font-style: italic\">False</span>.                                                            <span style=\"color: #7f7f7f; text-decoration-color: #7f7f7f\">                    </span>\n",
       "</pre>\n"
      ],
      "text/plain": [
       "\u001b[2;36m[10/14/25 22:32:36]\u001b[0m\u001b[2;36m \u001b[0m\u001b[1;38;2;215;175;0mWARNING \u001b[0m Not displaing the training container logs as \u001b[38;2;0;135;0m'wait'\u001b[0m is set to     \u001b]8;id=450857;file:///opt/conda/lib/python3.12/site-packages/sagemaker/modules/train/model_trainer.py\u001b\\\u001b[2mmodel_trainer.py\u001b[0m\u001b]8;;\u001b\\\u001b[2m:\u001b[0m\u001b]8;id=278857;file:///opt/conda/lib/python3.12/site-packages/sagemaker/modules/train/model_trainer.py#834\u001b\\\u001b[2m834\u001b[0m\u001b]8;;\u001b\\\n",
       "\u001b[2;36m                    \u001b[0m         \u001b[3;38;2;215;0;0mFalse\u001b[0m.                                                            \u001b[2m                    \u001b[0m\n"
      ]
     },
     "metadata": {},
     "output_type": "display_data"
    }
   ],
   "source": [
    "model_trainer.train(input_data_config=[training_data], wait=False)"
   ]
  },
  {
   "cell_type": "markdown",
   "id": "4cd415e1-3164-46c2-9276-cbca626b761a",
   "metadata": {},
   "source": []
  },
  {
   "cell_type": "code",
   "execution_count": null,
   "id": "1f566867-5633-4d19-8d0d-57ff1ebb20aa",
   "metadata": {},
   "outputs": [],
   "source": [
    "def get_last_job_name(job_name_prefix):\n",
    "    sagemaker_client = boto3.client('sagemaker')\n",
    "\n",
    "    matching_jobs = []\n",
    "    next_token = None\n",
    "\n",
    "    while True:\n",
    "        # Prepare the search parameters\n",
    "        search_params = {\n",
    "            'Resource': 'TrainingJob',\n",
    "            'SearchExpression': {\n",
    "                'Filters': [\n",
    "                    {\n",
    "                        'Name': 'TrainingJobName',\n",
    "                        'Operator': 'Contains',\n",
    "                        'Value': job_name_prefix\n",
    "                    },\n",
    "                    {\n",
    "                        'Name': 'TrainingJobStatus',\n",
    "                        'Operator': 'Equals',\n",
    "                        'Value': \"Completed\"\n",
    "                    }\n",
    "                ]\n",
    "            },\n",
    "            'SortBy': 'CreationTime',\n",
    "            'SortOrder': 'Descending',\n",
    "            'MaxResults': 100\n",
    "        }\n",
    "\n",
    "        # Add NextToken if we have one\n",
    "        if next_token:\n",
    "            search_params['NextToken'] = next_token\n",
    "\n",
    "        # Make the search request\n",
    "        search_response = sagemaker_client.search(**search_params)\n",
    "\n",
    "        # Filter and add matching jobs\n",
    "        matching_jobs.extend([\n",
    "            job['TrainingJob']['TrainingJobName'] \n",
    "            for job in search_response['Results']\n",
    "            if job['TrainingJob']['TrainingJobName'].startswith(job_name_prefix)\n",
    "        ])\n",
    "\n",
    "        # Check if we have more results to fetch\n",
    "        next_token = search_response.get('NextToken')\n",
    "        if not next_token or matching_jobs:  # Stop if we found at least one match or no more results\n",
    "            break\n",
    "\n",
    "    if not matching_jobs:\n",
    "        raise ValueError(f\"No completed training jobs found starting with prefix '{job_name_prefix}'\")\n",
    "\n",
    "    return matching_jobs[0]"
   ]
  },
  {
   "cell_type": "code",
   "execution_count": null,
   "id": "36deea1e-d1f1-479f-8da5-d457bd9ae534",
   "metadata": {},
   "outputs": [],
   "source": [
    "#job_prefix = "
   ]
  },
  {
   "cell_type": "code",
   "execution_count": null,
   "id": "b0de460e-ce56-49e2-b1e4-2377d35bd868",
   "metadata": {},
   "outputs": [],
   "source": [
    "job_name = get_last_job_name(job_prefix)\n",
    "\n",
    "job_name"
   ]
  },
  {
   "cell_type": "code",
   "execution_count": null,
   "id": "f87dd240-6617-4329-bed6-634c9207ba3d",
   "metadata": {},
   "outputs": [],
   "source": [
    "if default_prefix:\n",
    "    model_data=f\"s3://{bucket_name}/{default_prefix}/{job_prefix}/{job_name}/output/model.tar.gz\"\n",
    "else:\n",
    "    model_data=f\"s3://{bucket_name}/{job_prefix}/{job_name}/output/model.tar.gz\"\n"
   ]
  },
  {
   "cell_type": "code",
   "execution_count": null,
   "id": "2ba8c6d4-0c43-49cc-a3fa-de3dba0d56f4",
   "metadata": {},
   "outputs": [],
   "source": [
    "model_data"
   ]
  },
  {
   "cell_type": "code",
   "execution_count": null,
   "id": "138a0a45-672f-4d5b-9826-2913e7edde20",
   "metadata": {},
   "outputs": [],
   "source": []
  },
  {
   "cell_type": "code",
   "execution_count": null,
   "id": "9968e62d-0537-426f-a697-e81c1d886bfe",
   "metadata": {},
   "outputs": [],
   "source": []
  },
  {
   "cell_type": "markdown",
   "id": "99b43ce4",
   "metadata": {},
   "source": []
  },
  {
   "cell_type": "code",
   "execution_count": null,
   "id": "6140fa07-e4c3-4037-9327-84fe88e6d076",
   "metadata": {},
   "outputs": [],
   "source": []
  },
  {
   "cell_type": "code",
   "execution_count": null,
   "id": "0a242a40-88bd-4d17-a979-b1979290995b",
   "metadata": {},
   "outputs": [],
   "source": []
  },
  {
   "cell_type": "code",
   "execution_count": null,
   "id": "ad37d42c-8472-4769-8820-8beadacc50d0",
   "metadata": {},
   "outputs": [],
   "source": []
  },
  {
   "cell_type": "code",
   "execution_count": null,
   "id": "60557662-4e7d-464b-aeb4-86c2abd275bf",
   "metadata": {},
   "outputs": [],
   "source": []
  },
  {
   "cell_type": "code",
   "execution_count": null,
   "id": "7164be77-6ad2-43ed-bba4-677186cce314",
   "metadata": {},
   "outputs": [],
   "source": []
  }
 ],
 "metadata": {
  "kernelspec": {
   "display_name": "Python 3 (ipykernel)",
   "language": "python",
   "name": "python3"
  },
  "language_info": {
   "codemirror_mode": {
    "name": "ipython",
    "version": 3
   },
   "file_extension": ".py",
   "mimetype": "text/x-python",
   "name": "python",
   "nbconvert_exporter": "python",
   "pygments_lexer": "ipython3",
   "version": "3.12.9"
  }
 },
 "nbformat": 4,
 "nbformat_minor": 5
}
