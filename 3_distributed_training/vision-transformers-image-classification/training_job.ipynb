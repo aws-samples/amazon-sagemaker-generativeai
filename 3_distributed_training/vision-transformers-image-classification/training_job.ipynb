{
 "cells": [
  {
   "cell_type": "code",
   "execution_count": null,
   "id": "534e1589-193b-4016-a366-da9fc810c5a4",
   "metadata": {
    "execution": {
     "iopub.execute_input": "2025-07-22T22:59:52.996805Z",
     "iopub.status.busy": "2025-07-22T22:59:52.996507Z",
     "iopub.status.idle": "2025-07-22T23:00:00.497364Z",
     "shell.execute_reply": "2025-07-22T23:00:00.496533Z",
     "shell.execute_reply.started": "2025-07-22T22:59:52.996772Z"
    }
   },
   "outputs": [],
   "source": [
    "! pip install transformers boto3 \"sagemaker-core==1.0.41\" \"datasets[s3]==2.18.0\" \"sagemaker>=2.190.0\" --upgrade --quiet"
   ]
  },
  {
   "cell_type": "code",
   "execution_count": null,
   "id": "2bb7edf7",
   "metadata": {},
   "outputs": [],
   "source": [
    "import sagemaker\n",
    "from datasets import load_dataset\n",
    "import pandas as pd\n",
    "from transformers import AutoTokenizer\n",
    "import boto3\n",
    "import os\n",
    "\n",
    "sagemaker_session = sagemaker.Session()\n",
    "bucket_name = sagemaker_session.default_bucket()\n",
    "default_prefix = sagemaker_session.default_bucket_prefix"
   ]
  },
  {
   "cell_type": "code",
   "execution_count": null,
   "id": "2bde59d7-39fd-4a26-bf53-4e1bfdb648d3",
   "metadata": {
    "execution": {
     "iopub.execute_input": "2025-07-22T23:00:00.499641Z",
     "iopub.status.busy": "2025-07-22T23:00:00.498687Z",
     "iopub.status.idle": "2025-07-22T23:00:00.506329Z",
     "shell.execute_reply": "2025-07-22T23:00:00.504839Z",
     "shell.execute_reply.started": "2025-07-22T23:00:00.499599Z"
    }
   },
   "outputs": [],
   "source": [
    "\n",
    "# Provide hf_token value to get models and data\n",
    "os.environ['hf_token']=\"\""
   ]
  },
  {
   "cell_type": "code",
   "execution_count": null,
   "id": "1835f341-2520-402a-afa9-25e1bf193d10",
   "metadata": {
    "execution": {
     "iopub.execute_input": "2025-07-22T23:00:00.509138Z",
     "iopub.status.busy": "2025-07-22T23:00:00.508225Z",
     "iopub.status.idle": "2025-07-22T23:00:00.547568Z",
     "shell.execute_reply": "2025-07-22T23:00:00.546492Z",
     "shell.execute_reply.started": "2025-07-22T23:00:00.509107Z"
    }
   },
   "outputs": [],
   "source": [
    "from huggingface_hub import login\n",
    "login(os.environ['hf_token'])"
   ]
  },
  {
   "cell_type": "markdown",
   "id": "2cdfac27",
   "metadata": {},
   "source": [
    "### Get Data and Upload to Amazon S3"
   ]
  },
  {
   "cell_type": "code",
   "execution_count": null,
   "id": "1d8cf800-6870-4399-944b-71e42826cb7f",
   "metadata": {
    "execution": {
     "iopub.execute_input": "2025-07-22T23:00:00.548970Z",
     "iopub.status.busy": "2025-07-22T23:00:00.548529Z",
     "iopub.status.idle": "2025-07-22T23:00:02.175414Z",
     "shell.execute_reply": "2025-07-22T23:00:02.172950Z",
     "shell.execute_reply.started": "2025-07-22T23:00:00.548937Z"
    }
   },
   "outputs": [],
   "source": [
    "train_dataset = load_dataset(\"benjamin-paine/imagenet-1k-256x256\")"
   ]
  },
  {
   "cell_type": "code",
   "execution_count": null,
   "id": "4540f340-7c6a-42bf-bb97-627494162d48",
   "metadata": {
    "execution": {
     "iopub.execute_input": "2025-07-22T23:00:02.225787Z",
     "iopub.status.busy": "2025-07-22T23:00:02.225176Z",
     "iopub.status.idle": "2025-07-22T23:00:02.253257Z",
     "shell.execute_reply": "2025-07-22T23:00:02.249243Z",
     "shell.execute_reply.started": "2025-07-22T23:00:02.225749Z"
    }
   },
   "outputs": [],
   "source": [
    "# save train_dataset to s3 using our SageMaker session\n",
    "input_path = f's3://{sagemaker_session.default_bucket()}/datasets/imagenet-1k-256x256-sample'\n",
    "\n",
    "# Save datasets to s3\n",
    "#train_dataset['train'].select(range(500000)).to_parquet(f\"{input_path}/train/train_dataset.parquet\")\n",
    "train_dataset_s3_path = f\"{input_path}/train/train_dataset.parquet\"\n",
    "#train_dataset['validation'].to_parquet(f\"{input_path}/validation/validation_dataset.parquet\")\n",
    "validation_dataset_s3_path = f\"{input_path}/validation/validation_dataset.parquet\"\n",
    "#train_dataset['test'].to_parquet(f\"{input_path}/test/test_dataset.parquet\")\n",
    "test_dataset_s3_path = f\"{input_path}/test/test_dataset.parquet\"\n",
    "print(f\"Training data uploaded to:\")\n",
    "print(train_dataset_s3_path)\n",
    "print(f\"validation data uploaded to:\")\n",
    "print(validation_dataset_s3_path)\n",
    "print(f\"Test data uploaded to:\")\n",
    "print(test_dataset_s3_path)\n",
    "print(f\"https://s3.console.aws.amazon.com/s3/buckets/{sagemaker_session.default_bucket()}/?region={sagemaker_session.boto_region_name}&prefix={input_path.split('/', 3)[-1]}/\")\n"
   ]
  },
  {
   "cell_type": "code",
   "execution_count": null,
   "id": "f8843b36-5ed3-48d8-865e-8c762ff38388",
   "metadata": {
    "execution": {
     "iopub.execute_input": "2025-07-22T23:00:02.259931Z",
     "iopub.status.busy": "2025-07-22T23:00:02.258388Z",
     "iopub.status.idle": "2025-07-22T23:00:02.270788Z",
     "shell.execute_reply": "2025-07-22T23:00:02.268135Z",
     "shell.execute_reply.started": "2025-07-22T23:00:02.259891Z"
    }
   },
   "outputs": [],
   "source": [
    "# os.environ['train_dataset'] = train_dataset_s3_path\n",
    "# os.environ['validation_dataset'] = validation_dataset_s3_path\n",
    "# os.environ['test_dataset'] = test_dataset_s3_path"
   ]
  },
  {
   "cell_type": "markdown",
   "id": "e8d32c96",
   "metadata": {},
   "source": [
    "## Model fine-tuning"
   ]
  },
  {
   "cell_type": "markdown",
   "id": "30e5d30f",
   "metadata": {},
   "source": [
    "We are now ready to fine-tune our model. We will use the [Trainer](https://huggingface.co/docs/transformers/main_classes/trainer) from transfomers to fine-tune our model. We prepared a script [run_training.py](./scripts/run_training.py) which will loads the dataset from disk, prepare the model, tokenizer and start the training.\n",
    "\n",
    "For configuration we use `TrlParser`, that allows us to provide hyperparameters in a `yaml` file. This yaml will be uploaded and provided to Amazon SageMaker similar to our datasets. Below is the config file for fine-tuning the model on `ml.p4d.24xlarge`. We are saving the config file as `args.yaml` and upload it to S3."
   ]
  },
  {
   "cell_type": "code",
   "execution_count": null,
   "id": "5ccbde71-59ef-4276-9e94-bfb21194a0ae",
   "metadata": {
    "execution": {
     "iopub.execute_input": "2025-07-22T23:00:02.296982Z",
     "iopub.status.busy": "2025-07-22T23:00:02.293779Z",
     "iopub.status.idle": "2025-07-22T23:00:02.305780Z",
     "shell.execute_reply": "2025-07-22T23:00:02.303303Z",
     "shell.execute_reply.started": "2025-07-22T23:00:02.296940Z"
    }
   },
   "outputs": [],
   "source": [
    "from sagemaker.config import load_sagemaker_config\n",
    "configs = load_sagemaker_config()"
   ]
  },
  {
   "cell_type": "markdown",
   "id": "db3f83a0",
   "metadata": {},
   "source": [
    "#### Get PyTorch image_uri and set compute resources\n",
    "\n",
    "We are going to use the native PyTorch container image, pre-built for Amazon SageMaker and set the compute we need"
   ]
  },
  {
   "cell_type": "code",
   "execution_count": null,
   "id": "859c1c34-e1d9-4378-a892-728ad814ca25",
   "metadata": {
    "execution": {
     "iopub.execute_input": "2025-07-23T17:05:27.205294Z",
     "iopub.status.busy": "2025-07-23T17:05:27.204893Z",
     "iopub.status.idle": "2025-07-23T17:05:27.275545Z",
     "shell.execute_reply": "2025-07-23T17:05:27.274717Z",
     "shell.execute_reply.started": "2025-07-23T17:05:27.205258Z"
    }
   },
   "outputs": [],
   "source": [
    "from sagemaker.modules.train import ModelTrainer\n",
    "from sagemaker.modules.configs import Compute, SourceCode, InputData, StoppingCondition, CheckpointConfig\n",
    "\n",
    "env = {}\n",
    "env[\"FI_PROVIDER\"] = \"efa\"\n",
    "env[\"NCCL_PROTO\"] = \"simple\"\n",
    "env[\"NCCL_SOCKET_IFNAME\"] = \"eth0\"\n",
    "env[\"NCCL_IB_DISABLE\"] = \"1\"\n",
    "env[\"NCCL_DEBUG\"] = \"WARN\"\n",
    "env[\"HF_token\"] = os.environ['hf_token']\n",
    "env[\"train_data_location\"] = train_dataset_s3_path\n",
    "env[\"validation_data_location\"] = validation_dataset_s3_path\n",
    "env[\"test_data_location\"] = test_dataset_s3_path\n",
    "\n",
    "instance_type = \"ml.p4d.24xlarge\" #\"ml.g6.24xlarge\", #\"ml.g6.48xlarge\", #\"ml.p4de.24xlarge\", # \"ml.g6.48xlarge\", # \"ml.p4d.24xlarge\",\n",
    "\n",
    "compute = Compute(\n",
    "    instance_count=1,\n",
    "    instance_type= instance_type,\n",
    "    volume_size_in_gb=96,\n",
    "    keep_alive_period_in_seconds=3600,\n",
    ")\n",
    "\n",
    "image_uri = sagemaker.image_uris.retrieve(\n",
    "    framework=\"pytorch\",\n",
    "    region=sagemaker_session.boto_session.region_name,\n",
    "    version=\"2.6.0\",\n",
    "    instance_type=instance_type,\n",
    "    image_scope=\"training\"\n",
    ")\n",
    "\n",
    "image_uri\n"
   ]
  },
  {
   "cell_type": "code",
   "execution_count": null,
   "id": "ebce527a-6574-4606-9a78-f026e38fbec4",
   "metadata": {
    "execution": {
     "iopub.execute_input": "2025-07-23T17:05:28.341643Z",
     "iopub.status.busy": "2025-07-23T17:05:28.340987Z",
     "iopub.status.idle": "2025-07-23T17:05:28.346115Z",
     "shell.execute_reply": "2025-07-23T17:05:28.345521Z",
     "shell.execute_reply.started": "2025-07-23T17:05:28.341612Z"
    }
   },
   "outputs": [],
   "source": [
    "checkpoint_s3_path = f\"s3://{bucket_name}/imagenet-checkpoints/checkpoints\"\n",
    "job_prefix = f\"model-trainer-distributed-imagenet-1k-256x256\"\n"
   ]
  },
  {
   "cell_type": "markdown",
   "id": "0c7425bc",
   "metadata": {},
   "source": [
    "#### Setup ModelTrainer\n",
    "\n",
    "Setup hyperparameters for sagemaker training job and setup source code which comes from [scripts](./scripts/) which contains receipe, deepspeed configs, and training scripts. "
   ]
  },
  {
   "cell_type": "code",
   "execution_count": null,
   "id": "15fb2bdc-a8d4-47e0-90e0-3893fd258d24",
   "metadata": {
    "execution": {
     "iopub.execute_input": "2025-07-23T17:05:28.535979Z",
     "iopub.status.busy": "2025-07-23T17:05:28.535096Z",
     "iopub.status.idle": "2025-07-23T17:05:28.949663Z",
     "shell.execute_reply": "2025-07-23T17:05:28.948841Z",
     "shell.execute_reply.started": "2025-07-23T17:05:28.535952Z"
    }
   },
   "outputs": [],
   "source": [
    "hyperparameters = {\n",
    "    \"dataset_path\": \"/opt/ml/input/data/dataset\",\n",
    "    \"model_dir\": \"/opt/ml/model\",\n",
    "}\n",
    "\n",
    "source_code = SourceCode(\n",
    "    source_dir=\"./scripts\",\n",
    "    requirements=\"requirements.txt\",\n",
    "    entry_script=\"run.sh\",\n",
    ")\n",
    "\n",
    "model_trainer = ModelTrainer(\n",
    "    training_image=image_uri,\n",
    "    compute=compute,\n",
    "    hyperparameters=hyperparameters,\n",
    "    environment=env,\n",
    "    source_code=source_code,\n",
    "    stopping_condition=StoppingCondition(\n",
    "        max_runtime_in_seconds=9000,\n",
    "    ),\n",
    "    checkpoint_config=CheckpointConfig(\n",
    "        s3_uri=f\"{checkpoint_s3_path}/{job_prefix}\",\n",
    "    ),\n",
    "    base_job_name=job_prefix\n",
    "\n",
    ")"
   ]
  },
  {
   "cell_type": "markdown",
   "id": "57e01f64",
   "metadata": {},
   "source": [
    "Setup the input channel for model which come from S3"
   ]
  },
  {
   "cell_type": "code",
   "execution_count": null,
   "id": "34cd179c-d4a3-4d78-9398-c06c9b1b0d05",
   "metadata": {
    "execution": {
     "iopub.execute_input": "2025-07-23T17:05:28.966950Z",
     "iopub.status.busy": "2025-07-23T17:05:28.966496Z",
     "iopub.status.idle": "2025-07-23T17:05:28.971379Z",
     "shell.execute_reply": "2025-07-23T17:05:28.970313Z",
     "shell.execute_reply.started": "2025-07-23T17:05:28.966921Z"
    }
   },
   "outputs": [],
   "source": [
    "training_data = InputData(\n",
    "    channel_name=\"training_dataset\",\n",
    "    data_source=train_dataset_s3_path,\n",
    ")\n",
    "\n",
    "validation_data = InputData(\n",
    "    channel_name=\"validation_dataset\",\n",
    "    data_source=validation_dataset_s3_path,\n",
    ")\n",
    "test_data = InputData(\n",
    "    channel_name=\"test_dataset\",\n",
    "    data_source=test_dataset_s3_path,\n",
    ")"
   ]
  },
  {
   "cell_type": "markdown",
   "id": "2ec403c8",
   "metadata": {},
   "source": [
    "### Run Training Job"
   ]
  },
  {
   "cell_type": "code",
   "execution_count": null,
   "id": "c6cf7c1f-9ecf-4441-a6c4-117f2de90de6",
   "metadata": {
    "execution": {
     "iopub.execute_input": "2025-07-23T17:05:29.714203Z",
     "iopub.status.busy": "2025-07-23T17:05:29.713787Z"
    }
   },
   "outputs": [],
   "source": [
    "model_trainer.train(input_data_config=[training_data, validation_data, test_data], wait=True)"
   ]
  },
  {
   "cell_type": "code",
   "execution_count": null,
   "id": "e8bdc75e-8a8f-4f02-a838-e19c558acbfe",
   "metadata": {},
   "outputs": [],
   "source": []
  },
  {
   "cell_type": "code",
   "execution_count": null,
   "id": "c1d913a2-f8fe-4172-af16-37e794c9cc37",
   "metadata": {},
   "outputs": [],
   "source": []
  },
  {
   "cell_type": "code",
   "execution_count": null,
   "id": "b9c5364a-ccb3-4a9f-b9e9-65129578112e",
   "metadata": {},
   "outputs": [],
   "source": []
  },
  {
   "cell_type": "code",
   "execution_count": null,
   "id": "fe0da0db-d409-4801-86a3-b507c82ea26b",
   "metadata": {},
   "outputs": [],
   "source": []
  },
  {
   "cell_type": "code",
   "execution_count": null,
   "id": "bc1eb2c4-1614-44b3-8d8e-6934139a64a4",
   "metadata": {},
   "outputs": [],
   "source": []
  },
  {
   "cell_type": "code",
   "execution_count": null,
   "id": "9c932f02-f290-4b40-ac67-ee63f44215ed",
   "metadata": {},
   "outputs": [],
   "source": []
  },
  {
   "cell_type": "code",
   "execution_count": null,
   "id": "c7029764-8521-482c-a940-f7cf9635a852",
   "metadata": {},
   "outputs": [],
   "source": []
  },
  {
   "cell_type": "code",
   "execution_count": null,
   "id": "f1f3be87-40be-49e5-84bd-beb49033aa87",
   "metadata": {},
   "outputs": [],
   "source": []
  },
  {
   "cell_type": "code",
   "execution_count": null,
   "id": "4c588391-ee9c-4d2d-a2c5-47a2daad4212",
   "metadata": {},
   "outputs": [],
   "source": []
  },
  {
   "cell_type": "code",
   "execution_count": null,
   "id": "fb1cfb3b-b17a-455a-857b-504eab2ed6dc",
   "metadata": {},
   "outputs": [],
   "source": []
  },
  {
   "cell_type": "code",
   "execution_count": null,
   "id": "04e53be4-7cd5-4f20-95f2-b6afc33b7e26",
   "metadata": {},
   "outputs": [],
   "source": []
  },
  {
   "cell_type": "code",
   "execution_count": null,
   "id": "91fe0cea-b72d-47d4-b294-828356db5e99",
   "metadata": {},
   "outputs": [],
   "source": []
  }
 ],
 "metadata": {
  "kernelspec": {
   "display_name": "base",
   "language": "python",
   "name": "python3"
  },
  "language_info": {
   "codemirror_mode": {
    "name": "ipython",
    "version": 3
   },
   "file_extension": ".py",
   "mimetype": "text/x-python",
   "name": "python",
   "nbconvert_exporter": "python",
   "pygments_lexer": "ipython3",
   "version": "3.12.2"
  }
 },
 "nbformat": 4,
 "nbformat_minor": 5
}
