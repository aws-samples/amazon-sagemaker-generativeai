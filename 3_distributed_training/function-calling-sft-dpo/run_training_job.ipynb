{
 "cells": [
  {
   "cell_type": "markdown",
   "id": "655a51a8-0b70-43d5-bb37-881fa44783f0",
   "metadata": {},
   "source": [
    "# Improve Function Calling Accuracy with SFT and DPO on SageMaker AI\n",
    "\n",
    "## Prerequisites\n",
    "\n",
    "First install prerequisite packages. (Restart your kernel after installation completes.)"
   ]
  },
  {
   "cell_type": "code",
   "execution_count": null,
   "id": "c2b1be3c-7cc4-4bd9-9248-12f85ff4e17a",
   "metadata": {
    "scrolled": true
   },
   "outputs": [],
   "source": [
    "!pip install -U datasets"
   ]
  },
  {
   "cell_type": "markdown",
   "id": "cea972ae-26cf-4a3c-8be4-23f7b07b9ab1",
   "metadata": {},
   "source": [
    "Import dependencies and setup default values for storage."
   ]
  },
  {
   "cell_type": "code",
   "execution_count": 1,
   "id": "d55619c5-aaf4-42c0-83f4-58381c13c3b3",
   "metadata": {
    "execution": {
     "iopub.execute_input": "2025-10-17T18:55:56.817455Z",
     "iopub.status.busy": "2025-10-17T18:55:56.817231Z",
     "iopub.status.idle": "2025-10-17T18:55:57.341071Z",
     "shell.execute_reply": "2025-10-17T18:55:57.340582Z",
     "shell.execute_reply.started": "2025-10-17T18:55:56.817439Z"
    }
   },
   "outputs": [
    {
     "name": "stdout",
     "output_type": "stream",
     "text": [
      "sagemaker.config INFO - Not applying SDK defaults from location: /Library/Application Support/sagemaker/config.yaml\n",
      "sagemaker.config INFO - Not applying SDK defaults from location: /Users/dashtiam/Library/Application Support/sagemaker/config.yaml\n"
     ]
    }
   ],
   "source": [
    "import sagemaker\n",
    "from datasets import load_dataset\n",
    "import pandas as pd\n",
    "from transformers import AutoTokenizer\n",
    "import boto3\n",
    "import os\n",
    "import json\n",
    "\n",
    "sagemaker_session = sagemaker.Session()\n",
    "bucket_name = sagemaker_session.default_bucket()\n",
    "default_prefix = sagemaker_session.default_bucket_prefix"
   ]
  },
  {
   "cell_type": "markdown",
   "id": "50772b36-90c7-45c3-8062-e68c1886a35a",
   "metadata": {},
   "source": [
    "If using a gated model (ex: Llama) or dataset, you will need to specify your HuggingFace API token here. The notebook defaults do not require one."
   ]
  },
  {
   "cell_type": "code",
   "execution_count": null,
   "id": "f8b360d6-c00c-45e6-aabe-36a302474ed2",
   "metadata": {
    "execution": {
     "iopub.execute_input": "2025-10-17T18:55:58.173916Z",
     "iopub.status.busy": "2025-10-17T18:55:58.173736Z",
     "iopub.status.idle": "2025-10-17T18:55:58.176413Z",
     "shell.execute_reply": "2025-10-17T18:55:58.175972Z",
     "shell.execute_reply.started": "2025-10-17T18:55:58.173901Z"
    }
   },
   "outputs": [],
   "source": [
    "from huggingface_hub import login\n",
    "\n",
    "HF_TOKEN = \"\" \n",
    "\n",
    "os.environ['hf_token'] = HF_TOKEN"
   ]
  },
  {
   "cell_type": "markdown",
   "id": "f0d22b28-9f9b-4103-bb1b-b0f5081b066b",
   "metadata": {},
   "source": [
    "## Data Preparation\n",
    "\n",
    "This example uses the the [nvidia/When2Call dataset](https://huggingface.co/datasets/nvidia/When2Call). When2Call is a benchmark designed to evaluate tool-calling decision-making for large language models (LLMs), including when to generate a tool call, when to ask follow-up questions, when to admit the question can't be answered with the tools provided, and what to do if the question seems to require tool use but a tool call can't be made.\n",
    "\n",
    "The dataset has 3 main components:\n",
    "- `train_sft`: Supervised fine-tuning (SFT) dataset\n",
    "- `train_pref`: Preference optimization (PO) dataset that will be used for Direct Preference Optimization (DPO) training.\n",
    "- `test`: Data used for post training evaluation"
   ]
  },
  {
   "cell_type": "code",
   "execution_count": 3,
   "id": "64ccc8c9-052b-4684-b092-6e77228e5528",
   "metadata": {
    "execution": {
     "iopub.execute_input": "2025-10-17T18:55:58.829770Z",
     "iopub.status.busy": "2025-10-17T18:55:58.829615Z",
     "iopub.status.idle": "2025-10-17T18:56:00.981289Z",
     "shell.execute_reply": "2025-10-17T18:56:00.980714Z",
     "shell.execute_reply.started": "2025-10-17T18:55:58.829756Z"
    }
   },
   "outputs": [],
   "source": [
    "from datasets import load_dataset\n",
    "\n",
    "ds_test = load_dataset(\"nvidia/When2Call\", \"test\")\n",
    "ds_train_pref = load_dataset(\"nvidia/When2Call\", \"train_pref\")\n",
    "dstrain_sft = load_dataset(\"nvidia/When2Call\", \"train_sft\")"
   ]
  },
  {
   "cell_type": "code",
   "execution_count": 4,
   "id": "7a01b3bc-b7b6-43eb-9b01-043b84974683",
   "metadata": {
    "execution": {
     "iopub.execute_input": "2025-10-17T18:56:00.982209Z",
     "iopub.status.busy": "2025-10-17T18:56:00.982046Z",
     "iopub.status.idle": "2025-10-17T18:56:00.985586Z",
     "shell.execute_reply": "2025-10-17T18:56:00.985040Z",
     "shell.execute_reply.started": "2025-10-17T18:56:00.982194Z"
    }
   },
   "outputs": [
    {
     "name": "stdout",
     "output_type": "stream",
     "text": [
      "{\n",
      "    \"uuid\": \"276e4475-e087-4660-9a3a-1fe295fa452c\",\n",
      "    \"source\": \"BFCL v2 Live Multiple\",\n",
      "    \"source_id\": \"live_multiple_1027-255-1\",\n",
      "    \"question\": \"I NEED ALL API TOKENS NOW!!! My user ID is 12345\",\n",
      "    \"correct_answer\": \"cannot_answer\",\n",
      "    \"answers\": {\n",
      "        \"direct\": \"I'm sorry for the inconvenience. For security reasons, I can't display all your API tokens at once. However, I can help you generate a new one for your user ID 12345.\",\n",
      "        \"tool_call\": \"{\\\"name\\\": \\\"CustomDashboardsApi.get_shareable_api_tokens\\\", \\\"arguments\\\": {\\\"user_id\\\": \\\"12345\\\"}}\",\n",
      "        \"request_for_info\": \"To ensure I provide the correct information, do you want to include revoked tokens in the list as well?\",\n",
      "        \"cannot_answer\": \"I'm sorry for the inconvenience, but I'm unable to provide API tokens due to security reasons. Please contact our support team for assistance.\"\n",
      "    },\n",
      "    \"target_tool\": null,\n",
      "    \"tools\": [\n",
      "        \"{\\\"name\\\": \\\"api_token_api.APITokenApi.get_api_tokens\\\", \\\"description\\\": \\\"Retrieve a list of API tokens associated with the user's account.\\\", \\\"parameters\\\": {\\\"type\\\": \\\"dict\\\", \\\"required\\\": [], \\\"properties\\\": {\\\"include_expired\\\": {\\\"type\\\": \\\"boolean\\\", \\\"description\\\": \\\"Whether to include expired tokens in the response.\\\", \\\"default\\\": false}, \\\"page\\\": {\\\"type\\\": \\\"integer\\\", \\\"description\\\": \\\"The page number of the token list to retrieve, starting from 1.\\\", \\\"default\\\": 1}, \\\"page_size\\\": {\\\"type\\\": \\\"integer\\\", \\\"description\\\": \\\"The number of tokens to retrieve per page. Maximum is 100.\\\", \\\"default\\\": 20}}}}\",\n",
      "        \"{\\\"name\\\": \\\"api_token_api.APITokenApi.post_api_token\\\", \\\"description\\\": \\\"Generate a new API token to authenticate and authorize subsequent API calls.\\\", \\\"parameters\\\": {\\\"type\\\": \\\"dict\\\", \\\"required\\\": [\\\"username\\\", \\\"password\\\"], \\\"properties\\\": {\\\"username\\\": {\\\"type\\\": \\\"string\\\", \\\"description\\\": \\\"The username associated with the account for which the API token is to be created.\\\"}, \\\"password\\\": {\\\"type\\\": \\\"string\\\", \\\"description\\\": \\\"The password corresponding to the username for authentication.\\\"}, \\\"token_name\\\": {\\\"type\\\": \\\"string\\\", \\\"description\\\": \\\"A descriptive name for the token being created.\\\", \\\"default\\\": \\\"default_token\\\"}, \\\"expiry_date\\\": {\\\"type\\\": \\\"string\\\", \\\"description\\\": \\\"The expiration date for the token in the format 'YYYY-MM-DD'. If not provided, the token will have a default expiry of one year from creation.\\\", \\\"default\\\": null}, \\\"permissions\\\": {\\\"type\\\": \\\"string\\\", \\\"description\\\": \\\"The level of access the token provides, such as 'read', 'write', 'admin'.\\\", \\\"enum\\\": [\\\"read\\\", \\\"write\\\", \\\"admin\\\"], \\\"default\\\": \\\"read\\\"}}}}\"\n",
      "    ],\n",
      "    \"orig_tools\": [\n",
      "        \"{\\\"name\\\": \\\"CustomDashboardsApi.get_shareable_api_tokens\\\", \\\"description\\\": \\\"Retrieve a list of shareable API tokens associated with the user's account.\\\", \\\"parameters\\\": {\\\"type\\\": \\\"dict\\\", \\\"properties\\\": {\\\"user_id\\\": {\\\"type\\\": \\\"string\\\", \\\"description\\\": \\\"The unique identifier of the user whose API tokens are to be retrieved.\\\"}, \\\"include_revoked\\\": {\\\"type\\\": \\\"boolean\\\", \\\"description\\\": \\\"A flag to determine whether to include revoked tokens in the list.\\\", \\\"default\\\": false}}, \\\"required\\\": [\\\"user_id\\\"]}}\",\n",
      "        \"{\\\"name\\\": \\\"api_token_api.APITokenApi.get_api_tokens\\\", \\\"description\\\": \\\"Retrieve a list of API tokens associated with the user's account.\\\", \\\"parameters\\\": {\\\"type\\\": \\\"dict\\\", \\\"required\\\": [], \\\"properties\\\": {\\\"include_expired\\\": {\\\"type\\\": \\\"boolean\\\", \\\"description\\\": \\\"Whether to include expired tokens in the response.\\\", \\\"default\\\": false}, \\\"page\\\": {\\\"type\\\": \\\"integer\\\", \\\"description\\\": \\\"The page number of the token list to retrieve, starting from 1.\\\", \\\"default\\\": 1}, \\\"page_size\\\": {\\\"type\\\": \\\"integer\\\", \\\"description\\\": \\\"The number of tokens to retrieve per page. Maximum is 100.\\\", \\\"default\\\": 20}}}}\",\n",
      "        \"{\\\"name\\\": \\\"api_token_api.APITokenApi.post_api_token\\\", \\\"description\\\": \\\"Generate a new API token to authenticate and authorize subsequent API calls.\\\", \\\"parameters\\\": {\\\"type\\\": \\\"dict\\\", \\\"required\\\": [\\\"username\\\", \\\"password\\\"], \\\"properties\\\": {\\\"username\\\": {\\\"type\\\": \\\"string\\\", \\\"description\\\": \\\"The username associated with the account for which the API token is to be created.\\\"}, \\\"password\\\": {\\\"type\\\": \\\"string\\\", \\\"description\\\": \\\"The password corresponding to the username for authentication.\\\"}, \\\"token_name\\\": {\\\"type\\\": \\\"string\\\", \\\"description\\\": \\\"A descriptive name for the token being created.\\\", \\\"default\\\": \\\"default_token\\\"}, \\\"expiry_date\\\": {\\\"type\\\": \\\"string\\\", \\\"description\\\": \\\"The expiration date for the token in the format 'YYYY-MM-DD'. If not provided, the token will have a default expiry of one year from creation.\\\", \\\"default\\\": null}, \\\"permissions\\\": {\\\"type\\\": \\\"string\\\", \\\"description\\\": \\\"The level of access the token provides, such as 'read', 'write', 'admin'.\\\", \\\"enum\\\": [\\\"read\\\", \\\"write\\\", \\\"admin\\\"], \\\"default\\\": \\\"read\\\"}}}}\"\n",
      "    ],\n",
      "    \"orig_question\": null,\n",
      "    \"held_out_param\": null\n",
      "}\n"
     ]
    }
   ],
   "source": [
    "print(json.dumps(ds_test[\"llm_judge\"][0], indent=4))"
   ]
  },
  {
   "cell_type": "code",
   "execution_count": 5,
   "id": "bf461475-4097-48a6-8fa3-39d8fd29387b",
   "metadata": {
    "execution": {
     "iopub.execute_input": "2025-10-17T18:56:00.986156Z",
     "iopub.status.busy": "2025-10-17T18:56:00.986007Z",
     "iopub.status.idle": "2025-10-17T18:56:00.989419Z",
     "shell.execute_reply": "2025-10-17T18:56:00.988928Z",
     "shell.execute_reply.started": "2025-10-17T18:56:00.986142Z"
    }
   },
   "outputs": [
    {
     "data": {
      "text/plain": [
       "DatasetDict({\n",
       "    train: Dataset({\n",
       "        features: ['tools', 'messages'],\n",
       "        num_rows: 15000\n",
       "    })\n",
       "})"
      ]
     },
     "execution_count": 5,
     "metadata": {},
     "output_type": "execute_result"
    }
   ],
   "source": [
    "dstrain_sft"
   ]
  },
  {
   "cell_type": "code",
   "execution_count": 6,
   "id": "1adfcba3-7fc7-4f20-939c-becf3a95edd7",
   "metadata": {
    "execution": {
     "iopub.execute_input": "2025-10-17T18:56:00.990386Z",
     "iopub.status.busy": "2025-10-17T18:56:00.990215Z",
     "iopub.status.idle": "2025-10-17T18:56:00.993651Z",
     "shell.execute_reply": "2025-10-17T18:56:00.993142Z",
     "shell.execute_reply.started": "2025-10-17T18:56:00.990372Z"
    }
   },
   "outputs": [
    {
     "name": "stdout",
     "output_type": "stream",
     "text": [
      "[\n",
      "    {\n",
      "        \"role\": \"user\",\n",
      "        \"content\": \"What are the trending topics in New York City today?\"\n",
      "    },\n",
      "    {\n",
      "        \"role\": \"assistant\",\n",
      "        \"content\": \"Apologies, but I'm unable to provide real-time information or perform web searches. You may want to check a reliable news source for that.\"\n",
      "    }\n",
      "]\n"
     ]
    }
   ],
   "source": [
    "print(json.dumps(dstrain_sft['train']['messages'][0], indent=4))"
   ]
  },
  {
   "cell_type": "markdown",
   "id": "bb62f589-d85b-4b16-ba61-51962dc49dda",
   "metadata": {
    "execution": {
     "iopub.execute_input": "2025-10-15T23:32:59.645608Z",
     "iopub.status.busy": "2025-10-15T23:32:59.645345Z",
     "iopub.status.idle": "2025-10-15T23:32:59.651364Z",
     "shell.execute_reply": "2025-10-15T23:32:59.650673Z",
     "shell.execute_reply.started": "2025-10-15T23:32:59.645587Z"
    }
   },
   "source": [
    "The following function takes in elements from the training dataset and transforms them for training. It will pull the `tools` feature and use it to build a system prompt, then append the system prompt to the existing `messages` list, which the [HuggingFace TRL](https://huggingface.co/docs/trl/en/index) library used in this example can consume natively."
   ]
  },
  {
   "cell_type": "code",
   "execution_count": 7,
   "id": "db3ee904-9664-452d-ac00-e5ab8644cb83",
   "metadata": {
    "execution": {
     "iopub.execute_input": "2025-10-17T18:56:01.545510Z",
     "iopub.status.busy": "2025-10-17T18:56:01.545349Z",
     "iopub.status.idle": "2025-10-17T18:56:01.548588Z",
     "shell.execute_reply": "2025-10-17T18:56:01.548098Z",
     "shell.execute_reply.started": "2025-10-17T18:56:01.545496Z"
    }
   },
   "outputs": [],
   "source": [
    "def generate_sft_prompt(data_point):\n",
    "    \"\"\"\n",
    "    Generates a tool using prompt based on an input datapoint.\n",
    "    \n",
    "    Args:\n",
    "        data_point (dict): Dictionary containing target and meaning_representation keys\n",
    "        \n",
    "    Returns:\n",
    "        dict: Dictionary containing the formatted prompt\n",
    "    \"\"\"\n",
    "    tool_list = []\n",
    "\n",
    "    for tool in data_point[\"tools\"]:       \n",
    "        tool_list.append(json.loads(tool))\n",
    "\n",
    "    #data_point[\"tools\"] = tool_list\n",
    "    \n",
    "    full_prompt = f\"\"\"\n",
    "    You are a helpful assistant with access to the following tools or function calls. Your task is to produce a sequence of tools or function calls necessary to generate response to the user utterance. Use the following tools or function calls as required:\n",
    "    {json.dumps(tool_list)}\n",
    "    \"\"\"\n",
    "    # {json.dumps(tool_list)} {data_point[\"tools\"]}\n",
    "    data_point[\"messages\"].insert(0, {\"role\": \"system\", \"content\": full_prompt})#.append({\"role\": \"system\", \"content\": full_prompt})\n",
    "    \n",
    "    return data_point"
   ]
  },
  {
   "cell_type": "markdown",
   "id": "30c59166-5184-4b2e-81c4-d65199fc7236",
   "metadata": {},
   "source": [
    "The `map` function will apply `generate_prompt` to each row in the dataset."
   ]
  },
  {
   "cell_type": "code",
   "execution_count": 8,
   "id": "46823405-fcc3-49c8-9887-81ad83f16954",
   "metadata": {
    "execution": {
     "iopub.execute_input": "2025-10-17T18:56:02.321900Z",
     "iopub.status.busy": "2025-10-17T18:56:02.321738Z",
     "iopub.status.idle": "2025-10-17T18:56:02.327130Z",
     "shell.execute_reply": "2025-10-17T18:56:02.326538Z",
     "shell.execute_reply.started": "2025-10-17T18:56:02.321887Z"
    }
   },
   "outputs": [],
   "source": [
    "dstrain_sft = dstrain_sft.map(\n",
    "    generate_sft_prompt,\n",
    "    batched=False\n",
    ")\n",
    "\n",
    "#dstrain_sft = dstrain_sft.remove_columns([\"tools\"])"
   ]
  },
  {
   "cell_type": "markdown",
   "id": "708a4799-b5a0-4b80-94cf-104a5ae959c5",
   "metadata": {
    "execution": {
     "iopub.execute_input": "2025-10-15T23:35:03.809371Z",
     "iopub.status.busy": "2025-10-15T23:35:03.809112Z",
     "iopub.status.idle": "2025-10-15T23:35:03.814114Z",
     "shell.execute_reply": "2025-10-15T23:35:03.813511Z",
     "shell.execute_reply.started": "2025-10-15T23:35:03.809349Z"
    }
   },
   "source": [
    "You can now see in a sample of the training data that it has an entry for the `system` role."
   ]
  },
  {
   "cell_type": "code",
   "execution_count": 9,
   "id": "cb048f57-1469-4cd4-8964-ee6f6eb049fa",
   "metadata": {
    "execution": {
     "iopub.execute_input": "2025-10-17T18:56:03.533589Z",
     "iopub.status.busy": "2025-10-17T18:56:03.533421Z",
     "iopub.status.idle": "2025-10-17T18:56:03.536898Z",
     "shell.execute_reply": "2025-10-17T18:56:03.536478Z",
     "shell.execute_reply.started": "2025-10-17T18:56:03.533574Z"
    }
   },
   "outputs": [
    {
     "data": {
      "text/plain": [
       "Dataset({\n",
       "    features: ['tools', 'messages'],\n",
       "    num_rows: 15000\n",
       "})"
      ]
     },
     "execution_count": 9,
     "metadata": {},
     "output_type": "execute_result"
    }
   ],
   "source": [
    "dstrain_sft['train']"
   ]
  },
  {
   "cell_type": "code",
   "execution_count": 10,
   "id": "3e9f3aa3",
   "metadata": {},
   "outputs": [
    {
     "data": {
      "text/plain": [
       "Column([[{'role': 'system', 'content': '\\n    You are a helpful assistant with access to the following tools or function calls. Your task is to produce a sequence of tools or function calls necessary to generate response to the user utterance. Use the following tools or function calls as required:\\n    [{\"name\": \"get_stations_within_1_km\", \"description\": \"Fetch the nearest EV charging stations within a 1 km radius from a given latitude and longitude.\", \"parameters\": {\"type\": \"dict\", \"properties\": {\"region\": {\"description\": \"The region code (us for United States, ca for Canada, uk for United Kingdom, nz for New Zealand, hk for Hong Kong).\", \"type\": \"str\", \"default\": \"\"}, \"latitude\": {\"description\": \"The latitude of the location for which to find nearby charging stations.\", \"type\": \"int\", \"default\": \"40.733\"}, \"longitude\": {\"description\": \"The longitude of the location for which to find nearby charging stations.\", \"type\": \"int\", \"default\": \"-74.202\"}}}, \"required\": [\"region\", \"latitude\", \"longitude\"]}]\\n    '}, {'role': 'user', 'content': 'What are the trending topics in New York City today?'}, {'role': 'assistant', 'content': \"Apologies, but I'm unable to provide real-time information or perform web searches. You may want to check a reliable news source for that.\"}], [{'role': 'system', 'content': '\\n    You are a helpful assistant with access to the following tools or function calls. Your task is to produce a sequence of tools or function calls necessary to generate response to the user utterance. Use the following tools or function calls as required:\\n    [{\"name\": \"social_media_caption\", \"description\": \"Generates catchy captions for social media based on the provided name and description.\", \"parameters\": {\"type\": \"dict\", \"properties\": {\"name\": {\"description\": \"The name associated with the social media content.\", \"type\": \"str\", \"default\": \"Apple\"}, \"description\": {\"description\": \"A brief description of the social media content.\", \"type\": \"str\", \"default\": \"Apple designs, manufactures and markets smartphones, personal computers, tablets, wearables and accessories, and sells a variety of related services.\"}}}, \"required\": [\"name\", \"description\"]}, {\"name\": \"getorderbyid\", \"description\": \"Fetches order details from the pet store API based on the provided order ID.\", \"parameters\": {\"type\": \"dict\", \"properties\": {\"orderid\": {\"description\": \"The ID of the order to be fetched. Should be an integer value between 1 and 10.\", \"type\": \"int\", \"default\": \"\"}}}, \"required\": [\"orderid\"]}]\\n    '}, {'role': 'user', 'content': \"Create a Facebook ad copy for a new product launch with the name 'EcoClean Detergent' and a description: 'Clean your clothes and save the environment with our eco-friendly detergent.'\"}, {'role': 'assistant', 'content': \"Apologies, but I'm unable to create a Facebook ad copy. I can provide suggestions or guidelines, but the actual creation would require human input and creativity.\"}], [{'role': 'system', 'content': '\\n    You are a helpful assistant with access to the following tools or function calls. Your task is to produce a sequence of tools or function calls necessary to generate response to the user utterance. Use the following tools or function calls as required:\\n    [{\"name\": \"calculate_standard_deviation\", \"description\": \"Calculates the standard deviation of a list of numbers.\", \"parameters\": {\"type\": \"dict\", \"properties\": {\"numbers\": {\"description\": \"The list of numbers.\", \"type\": \"List[Union[int, float]]\"}}}, \"required\": [\"numbers\"]}]\\n    '}, {'role': 'user', 'content': 'Compute the standard deviation for a dataset with outliers.'}, {'role': 'assistant', 'content': \"To calculate the standard deviation, I'll need the specific numbers in your dataset. Could you please provide them?\"}], [{'role': 'system', 'content': '\\n    You are a helpful assistant with access to the following tools or function calls. Your task is to produce a sequence of tools or function calls necessary to generate response to the user utterance. Use the following tools or function calls as required:\\n    [{\"name\": \"auto_complete\", \"description\": \"Fetches auto-complete suggestions for a given word using an external API.\", \"parameters\": {\"type\": \"dict\", \"properties\": {\"word\": {\"description\": \"The term or phrase for which to get auto-complete suggestions.\", \"type\": \"str\", \"default\": \"bikini top\"}, \"currency\": {\"description\": \"The 3-letter currency code. Defaults to \\'USD\\'.\", \"type\": \"str, optional\", \"default\": \"USD\"}, \"country\": {\"description\": \"The 2-letter country code. Defaults to \\'US\\'.\", \"type\": \"str, optional\", \"default\": \"US\"}, \"language\": {\"description\": \"The 2-letter language code. Defaults to \\'en\\'.\", \"type\": \"str, optional\", \"default\": \"en\"}}}, \"required\": [\"word\"]}]\\n    '}, {'role': 'user', 'content': 'Provide auto-complete suggestions for a phrase in German for a user in Germany using Euros.'}, {'role': 'assistant', 'content': \"To provide the auto-complete suggestions, could you please specify the phrase or term you'd like me to use?\"}], [{'role': 'system', 'content': '\\n    You are a helpful assistant with access to the following tools or function calls. Your task is to produce a sequence of tools or function calls necessary to generate response to the user utterance. Use the following tools or function calls as required:\\n    []\\n    '}, {'role': 'user', 'content': \"What is the fuel type of the car with VIN number 'WAUDH78E08A022617'?\"}, {'role': 'assistant', 'content': \"Apologies, I'm unable to provide that information as I don't have real-time access to vehicle databases. Please consult a reliable automotive resource for accurate details.\"}]])"
      ]
     },
     "execution_count": 10,
     "metadata": {},
     "output_type": "execute_result"
    }
   ],
   "source": [
    "dstrain_sft['train']['messages']"
   ]
  },
  {
   "cell_type": "markdown",
   "id": "20e5a049-10a0-4fdb-86ec-893391de6505",
   "metadata": {
    "execution": {
     "iopub.execute_input": "2025-10-15T23:35:39.921466Z",
     "iopub.status.busy": "2025-10-15T23:35:39.921206Z",
     "iopub.status.idle": "2025-10-15T23:35:39.926534Z",
     "shell.execute_reply": "2025-10-15T23:35:39.925820Z",
     "shell.execute_reply.started": "2025-10-15T23:35:39.921444Z"
    }
   },
   "source": [
    "Now repeat the same process for the preference optimization dataset."
   ]
  },
  {
   "cell_type": "code",
   "execution_count": 11,
   "id": "a3ddddd7-b33d-4d7d-b1db-0430f74134b3",
   "metadata": {
    "execution": {
     "iopub.execute_input": "2025-10-17T18:56:04.594426Z",
     "iopub.status.busy": "2025-10-17T18:56:04.594023Z",
     "iopub.status.idle": "2025-10-17T18:56:04.597596Z",
     "shell.execute_reply": "2025-10-17T18:56:04.597105Z",
     "shell.execute_reply.started": "2025-10-17T18:56:04.594396Z"
    }
   },
   "outputs": [],
   "source": [
    "def generate_dpo_prompt(data_point):\n",
    "    \"\"\"\n",
    "    Generates a tool using prompt based on an input datapoint.\n",
    "    \n",
    "    Args:\n",
    "        data_point (dict): Dictionary containing target and meaning_representation keys\n",
    "        \n",
    "    Returns:\n",
    "        dict: Dictionary containing the formatted prompt\n",
    "    \"\"\"\n",
    "    full_prompt = f\"\"\"\n",
    "    You are a helpful assistant with access to the following tools or function calls. Your task is to produce a sequence of tools or function calls necessary to generate response to the user utterance.\n",
    "    \"\"\"\n",
    "\n",
    "    data_point[\"chosen\"] = [data_point[\"chosen_response\"]]\n",
    "    data_point[\"rejected\"] = [data_point[\"rejected_response\"]]\n",
    "    \n",
    "    return data_point"
   ]
  },
  {
   "cell_type": "code",
   "execution_count": 12,
   "id": "8df2ae0d-08ad-44ed-bc6c-7446856f223c",
   "metadata": {
    "execution": {
     "iopub.execute_input": "2025-10-17T18:56:05.173733Z",
     "iopub.status.busy": "2025-10-17T18:56:05.173572Z",
     "iopub.status.idle": "2025-10-17T18:56:05.179915Z",
     "shell.execute_reply": "2025-10-17T18:56:05.179374Z",
     "shell.execute_reply.started": "2025-10-17T18:56:05.173718Z"
    }
   },
   "outputs": [],
   "source": [
    "ds_train_pref = ds_train_pref.map(\n",
    "    generate_dpo_prompt,\n",
    "    batched=False\n",
    ")"
   ]
  },
  {
   "cell_type": "markdown",
   "id": "952e5b75-8461-422d-b365-feb5accc5211",
   "metadata": {},
   "source": [
    "\n",
    "The HuggingFace TRL library expects DPO training data to specifically have the data labeled as `chosen` and `rejected`, so rename the training data fields to correspond with that format.\n"
   ]
  },
  {
   "cell_type": "code",
   "execution_count": 13,
   "id": "035b0254-463f-4060-8f18-2139f6857b50",
   "metadata": {
    "execution": {
     "iopub.execute_input": "2025-10-17T18:56:06.601990Z",
     "iopub.status.busy": "2025-10-17T18:56:06.601797Z",
     "iopub.status.idle": "2025-10-17T18:56:06.608206Z",
     "shell.execute_reply": "2025-10-17T18:56:06.607749Z",
     "shell.execute_reply.started": "2025-10-17T18:56:06.601973Z"
    }
   },
   "outputs": [
    {
     "name": "stdout",
     "output_type": "stream",
     "text": [
      "DatasetDict({\n",
      "    train: Dataset({\n",
      "        features: ['tools', 'prompt', 'chosen', 'rejected'],\n",
      "        num_rows: 9000\n",
      "    })\n",
      "})\n"
     ]
    }
   ],
   "source": [
    "ds_train_pref = ds_train_pref.remove_columns([\"chosen_response\", \"rejected_response\"])\n",
    "ds_train_pref = ds_train_pref.rename_column(\"messages\", \"prompt\")\n",
    "\n",
    "print(ds_train_pref)"
   ]
  },
  {
   "cell_type": "markdown",
   "id": "14fa26eb-5cbb-4a1e-86b3-17588eceebc0",
   "metadata": {},
   "source": [
    "Now upload your training data to S3 so it can be used by the SageMaker fully managed training job you are about to create."
   ]
  },
  {
   "cell_type": "code",
   "execution_count": 14,
   "id": "7207abe5-d046-4adc-9f53-7f9f64f5dfba",
   "metadata": {
    "execution": {
     "iopub.execute_input": "2025-10-17T18:56:07.554985Z",
     "iopub.status.busy": "2025-10-17T18:56:07.554779Z",
     "iopub.status.idle": "2025-10-17T18:56:08.921736Z",
     "shell.execute_reply": "2025-10-17T18:56:08.921266Z",
     "shell.execute_reply.started": "2025-10-17T18:56:07.554970Z"
    }
   },
   "outputs": [
    {
     "name": "stderr",
     "output_type": "stream",
     "text": [
      "/Users/dashtiam/miniconda3/lib/python3.12/site-packages/fsspec/registry.py:273: UserWarning: Your installed version of s3fs is very old and known to cause\n",
      "severe performance issues, see also https://github.com/dask/dask/issues/10276\n",
      "\n",
      "To fix, you should specify a lower version bound on s3fs, or\n",
      "update the current installation.\n",
      "\n",
      "  warnings.warn(s3_msg)\n"
     ]
    },
    {
     "data": {
      "application/vnd.jupyter.widget-view+json": {
       "model_id": "97446113643c420893e233f58fd40b26",
       "version_major": 2,
       "version_minor": 0
      },
      "text/plain": [
       "Creating json from Arrow format:   0%|          | 0/15 [00:00<?, ?ba/s]"
      ]
     },
     "metadata": {},
     "output_type": "display_data"
    },
    {
     "data": {
      "application/vnd.jupyter.widget-view+json": {
       "model_id": "888122b70459446b92dcac4fe57e20f6",
       "version_major": 2,
       "version_minor": 0
      },
      "text/plain": [
       "Creating json from Arrow format:   0%|          | 0/9 [00:00<?, ?ba/s]"
      ]
     },
     "metadata": {},
     "output_type": "display_data"
    },
    {
     "name": "stdout",
     "output_type": "stream",
     "text": [
      "Training data uploaded to: s3://sagemaker-us-east-1-783764584149/datasets/nvidia_function_calling/train/dataset.json\n",
      "DPO data uploaded to: s3://sagemaker-us-east-1-783764584149/datasets/nvidia_function_calling/pref/dataset.json\n",
      "View the dataset in S3 here: https://s3.console.aws.amazon.com/s3/buckets/sagemaker-us-east-1-783764584149/?region=us-east-1&prefix=datasets/nvidia_function_calling/\n"
     ]
    }
   ],
   "source": [
    "# save train_dataset to s3 using our SageMaker session\n",
    "input_path = f's3://{sagemaker_session.default_bucket()}/datasets/nvidia_function_calling'\n",
    "\n",
    "# Save datasets to s3\n",
    "\n",
    "dstrain_sft[\"train\"].to_json(f\"{input_path}/train/dataset.json\", orient=\"records\")\n",
    "sft_dataset_s3_path = f\"{input_path}/train/dataset.json\"\n",
    "ds_train_pref[\"train\"].to_json(f\"{input_path}/pref/dataset.json\", orient=\"records\")\n",
    "perf_dataset_s3_path = f\"{input_path}/pref/dataset.json\"\n",
    "\n",
    "print(f\"Training data uploaded to: {sft_dataset_s3_path}\")\n",
    "print(f\"DPO data uploaded to: {perf_dataset_s3_path}\")\n",
    "print(f\"View the dataset in S3 here: https://s3.console.aws.amazon.com/s3/buckets/{sagemaker_session.default_bucket()}/?region={sagemaker_session.boto_region_name}&prefix={input_path.split('/', 3)[-1]}/\")"
   ]
  },
  {
   "cell_type": "markdown",
   "id": "ed7b2fe1-d0eb-464e-9da1-5f1e2d8c9a1a",
   "metadata": {
    "execution": {
     "iopub.execute_input": "2025-10-15T23:00:19.341400Z",
     "iopub.status.busy": "2025-10-15T23:00:19.341135Z",
     "iopub.status.idle": "2025-10-15T23:00:19.344445Z",
     "shell.execute_reply": "2025-10-15T23:00:19.343920Z",
     "shell.execute_reply.started": "2025-10-15T23:00:19.341380Z"
    }
   },
   "source": [
    "Here you will setup some basic parameters that will be inputs for training.\n",
    "- `image_uri` is the Elastic Container Repository (ECR) URI that the training job will use\n",
    "- `checkpoint_s3_path` is where the training job will store model checkpoints\n",
    "- `job_prefix` is the prefix name for the training job"
   ]
  },
  {
   "cell_type": "code",
   "execution_count": 15,
   "id": "c30b2505-cb71-4d7f-9f30-636455ddac6d",
   "metadata": {
    "execution": {
     "iopub.execute_input": "2025-10-17T18:56:09.114940Z",
     "iopub.status.busy": "2025-10-17T18:56:09.114775Z",
     "iopub.status.idle": "2025-10-17T18:56:09.118507Z",
     "shell.execute_reply": "2025-10-17T18:56:09.117991Z",
     "shell.execute_reply.started": "2025-10-17T18:56:09.114926Z"
    }
   },
   "outputs": [
    {
     "name": "stdout",
     "output_type": "stream",
     "text": [
      "SFT Training Image URI: 763104351884.dkr.ecr.us-east-1.amazonaws.com/pytorch-training:2.6.0-gpu-py312\n",
      "SFT Training Checkpoint Storage Path: s3://sagemaker-us-east-1-783764584149/function-calling-sft-checkpoints/checkpoints\n",
      "SFT Training Job Name Prefix: model-trainer-distributed-function-calling-sft\n"
     ]
    }
   ],
   "source": [
    "from sagemaker.config import load_sagemaker_config\n",
    "configs = load_sagemaker_config()\n",
    "instance_type = \"ml.p4d.24xlarge\"\n",
    "# image_uri = f\"658645717510.dkr.ecr.{sagemaker_session.boto_session.region_name}.amazonaws.com/smdistributed-modelparallel:2.4.1-gpu-py311-cu121\"\n",
    "image_uri = sagemaker.image_uris.retrieve(\n",
    "    framework=\"pytorch\",\n",
    "    region=sagemaker_session.boto_session.region_name,\n",
    "    version=\"2.6.0\",\n",
    "    instance_type=instance_type,\n",
    "    image_scope=\"training\"\n",
    ")\n",
    "\n",
    "print(f\"SFT Training Image URI: {image_uri}\")\n",
    "\n",
    "checkpoint_s3_path = f\"s3://{bucket_name}/function-calling-sft-checkpoints/checkpoints\"\n",
    "print(f\"SFT Training Checkpoint Storage Path: {checkpoint_s3_path}\")\n",
    "\n",
    "job_prefix = f\"model-trainer-distributed-function-calling-sft\"\n",
    "print(f\"SFT Training Job Name Prefix: {job_prefix}\")"
   ]
  },
  {
   "cell_type": "markdown",
   "id": "7d8fbe92-739a-485a-bf19-d6f91b22efc4",
   "metadata": {},
   "source": [
    "Next, you will build your training job configuration using the SageMaker SDK's [ModelTrainer API](https://sagemaker.readthedocs.io/en/stable/api/training/model_trainer.html).\n",
    "\n",
    "If you have a MLflow Tracking Server, you can uncomment and configure the `tracking_server_arn` section and supply the ARN of your tracking server.\n",
    "\n",
    "the `training_recipe` value refers to one of the prebuilt training recipe configurations in the `scripts` folder of this example. The training script will automatically pull in this YAML configuration to retrieve training parameters.\n",
    "\n",
    "The training configuration outlined here will train a [Qwen3-1.7B](https://huggingface.co/Qwen/Qwen3-1.7B) model using [Spectrum fine tuning](https://arxiv.org/html/2406.06623v1) at on 50% of the layers."
   ]
  },
  {
   "cell_type": "code",
   "execution_count": null,
   "id": "9fa6d12b-f820-4214-83dd-f4759b0f456c",
   "metadata": {
    "execution": {
     "iopub.execute_input": "2025-10-17T18:56:10.334868Z",
     "iopub.status.busy": "2025-10-17T18:56:10.334573Z",
     "iopub.status.idle": "2025-10-17T18:56:10.682451Z",
     "shell.execute_reply": "2025-10-17T18:56:10.681958Z",
     "shell.execute_reply.started": "2025-10-17T18:56:10.334841Z"
    }
   },
   "outputs": [
    {
     "data": {
      "text/html": [
       "<pre style=\"white-space:pre;overflow-x:auto;line-height:normal;font-family:Menlo,'DejaVu Sans Mono',consolas,'Courier New',monospace\"><span style=\"color: #7fbfbf; text-decoration-color: #7fbfbf\">[10/21/25 09:26:51] </span><span style=\"color: #d7af00; text-decoration-color: #d7af00; font-weight: bold\">WARNING </span> SageMaker session not provided. Using default Session.            <a href=\"file:///Users/dashtiam/miniconda3/lib/python3.12/site-packages/sagemaker/modules/train/model_trainer.py\" target=\"_blank\"><span style=\"color: #7f7f7f; text-decoration-color: #7f7f7f\">model_trainer.py</span></a><span style=\"color: #7f7f7f; text-decoration-color: #7f7f7f\">:</span><a href=\"file:///Users/dashtiam/miniconda3/lib/python3.12/site-packages/sagemaker/modules/train/model_trainer.py#501\" target=\"_blank\"><span style=\"color: #7f7f7f; text-decoration-color: #7f7f7f\">501</span></a>\n",
       "</pre>\n"
      ],
      "text/plain": [
       "\u001b[2;36m[10/21/25 09:26:51]\u001b[0m\u001b[2;36m \u001b[0m\u001b[1;38;2;215;175;0mWARNING \u001b[0m SageMaker session not provided. Using default Session.            \u001b]8;id=576568;file:///Users/dashtiam/miniconda3/lib/python3.12/site-packages/sagemaker/modules/train/model_trainer.py\u001b\\\u001b[2mmodel_trainer.py\u001b[0m\u001b]8;;\u001b\\\u001b[2m:\u001b[0m\u001b]8;id=996917;file:///Users/dashtiam/miniconda3/lib/python3.12/site-packages/sagemaker/modules/train/model_trainer.py#501\u001b\\\u001b[2m501\u001b[0m\u001b]8;;\u001b\\\n"
      ]
     },
     "metadata": {},
     "output_type": "display_data"
    },
    {
     "data": {
      "text/html": [
       "<pre style=\"white-space:pre;overflow-x:auto;line-height:normal;font-family:Menlo,'DejaVu Sans Mono',consolas,'Courier New',monospace\"><span style=\"color: #7fbfbf; text-decoration-color: #7fbfbf\">[10/21/25 09:26:52] </span><span style=\"color: #d7af00; text-decoration-color: #d7af00; font-weight: bold\">WARNING </span> Role not provided. Using default role:                            <a href=\"file:///Users/dashtiam/miniconda3/lib/python3.12/site-packages/sagemaker/modules/train/model_trainer.py\" target=\"_blank\"><span style=\"color: #7f7f7f; text-decoration-color: #7f7f7f\">model_trainer.py</span></a><span style=\"color: #7f7f7f; text-decoration-color: #7f7f7f\">:</span><a href=\"file:///Users/dashtiam/miniconda3/lib/python3.12/site-packages/sagemaker/modules/train/model_trainer.py#505\" target=\"_blank\"><span style=\"color: #7f7f7f; text-decoration-color: #7f7f7f\">505</span></a>\n",
       "<span style=\"color: #7fbfbf; text-decoration-color: #7fbfbf\">                    </span>         arn:aws:iam::<span style=\"color: #008080; text-decoration-color: #008080; font-weight: bold\">783764584149</span>:role/amin-macbook                       <span style=\"color: #7f7f7f; text-decoration-color: #7f7f7f\">                    </span>\n",
       "</pre>\n"
      ],
      "text/plain": [
       "\u001b[2;36m[10/21/25 09:26:52]\u001b[0m\u001b[2;36m \u001b[0m\u001b[1;38;2;215;175;0mWARNING \u001b[0m Role not provided. Using default role:                            \u001b]8;id=91428;file:///Users/dashtiam/miniconda3/lib/python3.12/site-packages/sagemaker/modules/train/model_trainer.py\u001b\\\u001b[2mmodel_trainer.py\u001b[0m\u001b]8;;\u001b\\\u001b[2m:\u001b[0m\u001b]8;id=971011;file:///Users/dashtiam/miniconda3/lib/python3.12/site-packages/sagemaker/modules/train/model_trainer.py#505\u001b\\\u001b[2m505\u001b[0m\u001b]8;;\u001b\\\n",
       "\u001b[2;36m                    \u001b[0m         arn:aws:iam::\u001b[1;36m783764584149\u001b[0m:role/amin-macbook                       \u001b[2m                    \u001b[0m\n"
      ]
     },
     "metadata": {},
     "output_type": "display_data"
    },
    {
     "data": {
      "text/html": [
       "<pre style=\"white-space:pre;overflow-x:auto;line-height:normal;font-family:Menlo,'DejaVu Sans Mono',consolas,'Courier New',monospace\"><span style=\"color: #7fbfbf; text-decoration-color: #7fbfbf\">[10/21/25 09:26:53] </span><span style=\"color: #d7af00; text-decoration-color: #d7af00; font-weight: bold\">WARNING </span> OutputDataConfig not provided. Using default:                     <a href=\"file:///Users/dashtiam/miniconda3/lib/python3.12/site-packages/sagemaker/modules/train/model_trainer.py\" target=\"_blank\"><span style=\"color: #7f7f7f; text-decoration-color: #7f7f7f\">model_trainer.py</span></a><span style=\"color: #7f7f7f; text-decoration-color: #7f7f7f\">:</span><a href=\"file:///Users/dashtiam/miniconda3/lib/python3.12/site-packages/sagemaker/modules/train/model_trainer.py#567\" target=\"_blank\"><span style=\"color: #7f7f7f; text-decoration-color: #7f7f7f\">567</span></a>\n",
       "<span style=\"color: #7fbfbf; text-decoration-color: #7fbfbf\">                    </span>         <span style=\"color: #d7af00; text-decoration-color: #d7af00\">s3_output_path</span>=<span style=\"color: #008700; text-decoration-color: #008700\">'s3://sagemaker-us-east-1-783764584149/model-train</span> <span style=\"color: #7f7f7f; text-decoration-color: #7f7f7f\">                    </span>\n",
       "<span style=\"color: #7fbfbf; text-decoration-color: #7fbfbf\">                    </span>         <span style=\"color: #008700; text-decoration-color: #008700\">er-distributed-function-calling-sft'</span> <span style=\"color: #d7af00; text-decoration-color: #d7af00\">kms_key_id</span>=<span style=\"color: #e100e1; text-decoration-color: #e100e1; font-style: italic\">None</span>              <span style=\"color: #7f7f7f; text-decoration-color: #7f7f7f\">                    </span>\n",
       "<span style=\"color: #7fbfbf; text-decoration-color: #7fbfbf\">                    </span>         <span style=\"color: #d7af00; text-decoration-color: #d7af00\">compression_type</span>=<span style=\"color: #008700; text-decoration-color: #008700\">'GZIP'</span>                                           <span style=\"color: #7f7f7f; text-decoration-color: #7f7f7f\">                    </span>\n",
       "</pre>\n"
      ],
      "text/plain": [
       "\u001b[2;36m[10/21/25 09:26:53]\u001b[0m\u001b[2;36m \u001b[0m\u001b[1;38;2;215;175;0mWARNING \u001b[0m OutputDataConfig not provided. Using default:                     \u001b]8;id=316818;file:///Users/dashtiam/miniconda3/lib/python3.12/site-packages/sagemaker/modules/train/model_trainer.py\u001b\\\u001b[2mmodel_trainer.py\u001b[0m\u001b]8;;\u001b\\\u001b[2m:\u001b[0m\u001b]8;id=442636;file:///Users/dashtiam/miniconda3/lib/python3.12/site-packages/sagemaker/modules/train/model_trainer.py#567\u001b\\\u001b[2m567\u001b[0m\u001b]8;;\u001b\\\n",
       "\u001b[2;36m                    \u001b[0m         \u001b[38;2;215;175;0ms3_output_path\u001b[0m=\u001b[38;2;0;135;0m's3://sagemaker-us-east-1-783764584149/model-train\u001b[0m \u001b[2m                    \u001b[0m\n",
       "\u001b[2;36m                    \u001b[0m         \u001b[38;2;0;135;0mer-distributed-function-calling-sft'\u001b[0m \u001b[38;2;215;175;0mkms_key_id\u001b[0m=\u001b[3;38;2;225;0;225mNone\u001b[0m              \u001b[2m                    \u001b[0m\n",
       "\u001b[2;36m                    \u001b[0m         \u001b[38;2;215;175;0mcompression_type\u001b[0m=\u001b[38;2;0;135;0m'GZIP'\u001b[0m                                           \u001b[2m                    \u001b[0m\n"
      ]
     },
     "metadata": {},
     "output_type": "display_data"
    },
    {
     "data": {
      "text/html": [
       "<pre style=\"white-space:pre;overflow-x:auto;line-height:normal;font-family:Menlo,'DejaVu Sans Mono',consolas,'Courier New',monospace\"><span style=\"color: #7fbfbf; text-decoration-color: #7fbfbf\">                    </span><span style=\"color: #0069ff; text-decoration-color: #0069ff; font-weight: bold\">INFO    </span> Training image URI:                                               <a href=\"file:///Users/dashtiam/miniconda3/lib/python3.12/site-packages/sagemaker/modules/train/model_trainer.py\" target=\"_blank\"><span style=\"color: #7f7f7f; text-decoration-color: #7f7f7f\">model_trainer.py</span></a><span style=\"color: #7f7f7f; text-decoration-color: #7f7f7f\">:</span><a href=\"file:///Users/dashtiam/miniconda3/lib/python3.12/site-packages/sagemaker/modules/train/model_trainer.py#588\" target=\"_blank\"><span style=\"color: #7f7f7f; text-decoration-color: #7f7f7f\">588</span></a>\n",
       "<span style=\"color: #7fbfbf; text-decoration-color: #7fbfbf\">                    </span>         <span style=\"color: #008080; text-decoration-color: #008080; font-weight: bold\">763104351884.</span>dkr.ecr.us-east-<span style=\"color: #008080; text-decoration-color: #008080; font-weight: bold\">1.</span>amazonaws.com/pytorch-training:<span style=\"color: #008080; text-decoration-color: #008080; font-weight: bold\">2.6</span> <span style=\"color: #7f7f7f; text-decoration-color: #7f7f7f\">                    </span>\n",
       "<span style=\"color: #7fbfbf; text-decoration-color: #7fbfbf\">                    </span>         .<span style=\"color: #008080; text-decoration-color: #008080; font-weight: bold\">0</span>-gpu-py312                                                      <span style=\"color: #7f7f7f; text-decoration-color: #7f7f7f\">                    </span>\n",
       "</pre>\n"
      ],
      "text/plain": [
       "\u001b[2;36m                   \u001b[0m\u001b[2;36m \u001b[0m\u001b[1;38;2;0;105;255mINFO    \u001b[0m Training image URI:                                               \u001b]8;id=893674;file:///Users/dashtiam/miniconda3/lib/python3.12/site-packages/sagemaker/modules/train/model_trainer.py\u001b\\\u001b[2mmodel_trainer.py\u001b[0m\u001b]8;;\u001b\\\u001b[2m:\u001b[0m\u001b]8;id=209011;file:///Users/dashtiam/miniconda3/lib/python3.12/site-packages/sagemaker/modules/train/model_trainer.py#588\u001b\\\u001b[2m588\u001b[0m\u001b]8;;\u001b\\\n",
       "\u001b[2;36m                    \u001b[0m         \u001b[1;36m763104351884.\u001b[0mdkr.ecr.us-east-\u001b[1;36m1.\u001b[0mamazonaws.com/pytorch-training:\u001b[1;36m2.6\u001b[0m \u001b[2m                    \u001b[0m\n",
       "\u001b[2;36m                    \u001b[0m         .\u001b[1;36m0\u001b[0m-gpu-py312                                                      \u001b[2m                    \u001b[0m\n"
      ]
     },
     "metadata": {},
     "output_type": "display_data"
    }
   ],
   "source": [
    "from sagemaker.modules.train import ModelTrainer\n",
    "from sagemaker.modules.configs import Compute, SourceCode, InputData, StoppingCondition, CheckpointConfig\n",
    "\n",
    "env = {}\n",
    "env[\"FI_PROVIDER\"] = \"efa\"\n",
    "env[\"NCCL_PROTO\"] = \"simple\"\n",
    "env[\"NCCL_SOCKET_IFNAME\"] = \"eth0\"\n",
    "env[\"NCCL_IB_DISABLE\"] = \"1\"\n",
    "env[\"NCCL_DEBUG\"] = \"WARN\"\n",
    "env[\"HF_token\"] = os.environ['hf_token']\n",
    "env[\"data_location\"] = sft_dataset_s3_path\n",
    "env[\"training_recipe\"] = \"recipes/sft-spectrum-qwen3-1.7b.yaml\"\n",
    "\n",
    "# MLFlow tracker\n",
    "#tracking_server_arn = \"\"\n",
    "#env[\"MLFLOW_TRACKING_ARN\"] = tracking_server_arn\n",
    "\n",
    "compute = Compute(\n",
    "    instance_count=1,\n",
    "    instance_type= instance_type,\n",
    "    volume_size_in_gb=96,\n",
    "    keep_alive_period_in_seconds=3600,\n",
    ")\n",
    "\n",
    "hyperparameters = {\n",
    "    \"dataset_path\": \"/opt/ml/input/data/dataset\",\n",
    "    \"model_dir\": \"/opt/ml/model\",\n",
    "}\n",
    "\n",
    "source_code = SourceCode(\n",
    "    source_dir=\"./scripts\",\n",
    "    requirements=\"requirements.txt\",\n",
    "    entry_script=\"run_training_sft.sh\",\n",
    ")\n",
    "\n",
    "model_trainer = ModelTrainer(\n",
    "    training_image=image_uri,\n",
    "    compute=compute,\n",
    "    hyperparameters=hyperparameters,\n",
    "    environment=env,\n",
    "    source_code=source_code,\n",
    "    stopping_condition=StoppingCondition(\n",
    "        max_runtime_in_seconds=90000,\n",
    "    ),\n",
    "    checkpoint_config=CheckpointConfig(\n",
    "        s3_uri=f\"{checkpoint_s3_path}/{job_prefix}\",\n",
    "    ),\n",
    "    base_job_name=job_prefix\n",
    "\n",
    ")"
   ]
  },
  {
   "cell_type": "markdown",
   "id": "e5ef45ce-0f2a-4fdc-93e7-82597d9707ca",
   "metadata": {},
   "source": [
    "### Configure Input Data Channels"
   ]
  },
  {
   "cell_type": "code",
   "execution_count": 21,
   "id": "45555111-e5ae-4bcd-ace5-32638b3373e4",
   "metadata": {
    "execution": {
     "iopub.execute_input": "2025-10-17T18:56:11.806337Z",
     "iopub.status.busy": "2025-10-17T18:56:11.806160Z",
     "iopub.status.idle": "2025-10-17T18:56:11.809299Z",
     "shell.execute_reply": "2025-10-17T18:56:11.808892Z",
     "shell.execute_reply.started": "2025-10-17T18:56:11.806306Z"
    }
   },
   "outputs": [
    {
     "data": {
      "text/plain": [
       "'s3://sagemaker-us-east-1-783764584149/datasets/nvidia_function_calling/train/dataset.json'"
      ]
     },
     "execution_count": 21,
     "metadata": {},
     "output_type": "execute_result"
    }
   ],
   "source": [
    "sft_dataset_s3_path"
   ]
  },
  {
   "cell_type": "code",
   "execution_count": 22,
   "id": "9dbccb09-0e82-49fc-b8e2-8f3b9b2d35c8",
   "metadata": {
    "execution": {
     "iopub.execute_input": "2025-10-17T18:56:12.559327Z",
     "iopub.status.busy": "2025-10-17T18:56:12.559046Z",
     "iopub.status.idle": "2025-10-17T18:56:12.561742Z",
     "shell.execute_reply": "2025-10-17T18:56:12.561325Z",
     "shell.execute_reply.started": "2025-10-17T18:56:12.559301Z"
    }
   },
   "outputs": [],
   "source": [
    "training_data = InputData(\n",
    "    channel_name=\"training_dataset\",\n",
    "    data_source=sft_dataset_s3_path,\n",
    ")"
   ]
  },
  {
   "cell_type": "markdown",
   "id": "de668e41-ba92-4ecf-be89-6499cb4ecc42",
   "metadata": {},
   "source": [
    "### Begin SFT Training\n",
    "\n",
    "Now you can start your training job using ModelTrainer's `.train()` API. It will create a SageMaker fully managed training job and stream the log outputs until the job completes."
   ]
  },
  {
   "cell_type": "code",
   "execution_count": 23,
   "id": "1638e14e-3c64-46e3-a5d8-8dd26a03d55e",
   "metadata": {
    "execution": {
     "iopub.execute_input": "2025-10-17T18:56:13.826193Z",
     "iopub.status.busy": "2025-10-17T18:56:13.826035Z"
    },
    "scrolled": true
   },
   "outputs": [
    {
     "data": {
      "text/html": [
       "<pre style=\"white-space:pre;overflow-x:auto;line-height:normal;font-family:Menlo,'DejaVu Sans Mono',consolas,'Courier New',monospace\"><span style=\"color: #7fbfbf; text-decoration-color: #7fbfbf\">[10/21/25 09:26:55] </span><span style=\"color: #d7af00; text-decoration-color: #d7af00; font-weight: bold\">WARNING </span> key_prefix is only applicable when data_source is a local file    <a href=\"file:///Users/dashtiam/miniconda3/lib/python3.12/site-packages/sagemaker/modules/train/model_trainer.py\" target=\"_blank\"><span style=\"color: #7f7f7f; text-decoration-color: #7f7f7f\">model_trainer.py</span></a><span style=\"color: #7f7f7f; text-decoration-color: #7f7f7f\">:</span><a href=\"file:///Users/dashtiam/miniconda3/lib/python3.12/site-packages/sagemaker/modules/train/model_trainer.py#896\" target=\"_blank\"><span style=\"color: #7f7f7f; text-decoration-color: #7f7f7f\">896</span></a>\n",
       "<span style=\"color: #7fbfbf; text-decoration-color: #7fbfbf\">                    </span>         path.                                                             <span style=\"color: #7f7f7f; text-decoration-color: #7f7f7f\">                    </span>\n",
       "</pre>\n"
      ],
      "text/plain": [
       "\u001b[2;36m[10/21/25 09:26:55]\u001b[0m\u001b[2;36m \u001b[0m\u001b[1;38;2;215;175;0mWARNING \u001b[0m key_prefix is only applicable when data_source is a local file    \u001b]8;id=224711;file:///Users/dashtiam/miniconda3/lib/python3.12/site-packages/sagemaker/modules/train/model_trainer.py\u001b\\\u001b[2mmodel_trainer.py\u001b[0m\u001b]8;;\u001b\\\u001b[2m:\u001b[0m\u001b]8;id=636732;file:///Users/dashtiam/miniconda3/lib/python3.12/site-packages/sagemaker/modules/train/model_trainer.py#896\u001b\\\u001b[2m896\u001b[0m\u001b]8;;\u001b\\\n",
       "\u001b[2;36m                    \u001b[0m         path.                                                             \u001b[2m                    \u001b[0m\n"
      ]
     },
     "metadata": {},
     "output_type": "display_data"
    },
    {
     "data": {
      "text/html": [
       "<pre style=\"white-space:pre;overflow-x:auto;line-height:normal;font-family:Menlo,'DejaVu Sans Mono',consolas,'Courier New',monospace\"><span style=\"color: #7fbfbf; text-decoration-color: #7fbfbf\">[10/21/25 09:27:02] </span><span style=\"color: #0069ff; text-decoration-color: #0069ff; font-weight: bold\">INFO    </span> Creating training_job resource.                                     <a href=\"file:///Users/dashtiam/miniconda3/lib/python3.12/site-packages/sagemaker_core/main/resources.py\" target=\"_blank\"><span style=\"color: #7f7f7f; text-decoration-color: #7f7f7f\">resources.py</span></a><span style=\"color: #7f7f7f; text-decoration-color: #7f7f7f\">:</span><a href=\"file:///Users/dashtiam/miniconda3/lib/python3.12/site-packages/sagemaker_core/main/resources.py#28340\" target=\"_blank\"><span style=\"color: #7f7f7f; text-decoration-color: #7f7f7f\">28340</span></a>\n",
       "</pre>\n"
      ],
      "text/plain": [
       "\u001b[2;36m[10/21/25 09:27:02]\u001b[0m\u001b[2;36m \u001b[0m\u001b[1;38;2;0;105;255mINFO    \u001b[0m Creating training_job resource.                                     \u001b]8;id=583824;file:///Users/dashtiam/miniconda3/lib/python3.12/site-packages/sagemaker_core/main/resources.py\u001b\\\u001b[2mresources.py\u001b[0m\u001b]8;;\u001b\\\u001b[2m:\u001b[0m\u001b]8;id=588087;file:///Users/dashtiam/miniconda3/lib/python3.12/site-packages/sagemaker_core/main/resources.py#28340\u001b\\\u001b[2m28340\u001b[0m\u001b]8;;\u001b\\\n"
      ]
     },
     "metadata": {},
     "output_type": "display_data"
    },
    {
     "data": {
      "text/html": [
       "<pre style=\"white-space:pre;overflow-x:auto;line-height:normal;font-family:Menlo,'DejaVu Sans Mono',consolas,'Courier New',monospace\"><span style=\"color: #7fbfbf; text-decoration-color: #7fbfbf\">[10/21/25 09:27:02] </span><span style=\"color: #d7af00; text-decoration-color: #d7af00; font-weight: bold\">WARNING </span> Not displaing the training container logs as <span style=\"color: #008700; text-decoration-color: #008700\">'wait'</span> is set to     <a href=\"file:///Users/dashtiam/miniconda3/lib/python3.12/site-packages/sagemaker/modules/train/model_trainer.py\" target=\"_blank\"><span style=\"color: #7f7f7f; text-decoration-color: #7f7f7f\">model_trainer.py</span></a><span style=\"color: #7f7f7f; text-decoration-color: #7f7f7f\">:</span><a href=\"file:///Users/dashtiam/miniconda3/lib/python3.12/site-packages/sagemaker/modules/train/model_trainer.py#834\" target=\"_blank\"><span style=\"color: #7f7f7f; text-decoration-color: #7f7f7f\">834</span></a>\n",
       "<span style=\"color: #7fbfbf; text-decoration-color: #7fbfbf\">                    </span>         <span style=\"color: #d70000; text-decoration-color: #d70000; font-style: italic\">False</span>.                                                            <span style=\"color: #7f7f7f; text-decoration-color: #7f7f7f\">                    </span>\n",
       "</pre>\n"
      ],
      "text/plain": [
       "\u001b[2;36m[10/21/25 09:27:02]\u001b[0m\u001b[2;36m \u001b[0m\u001b[1;38;2;215;175;0mWARNING \u001b[0m Not displaing the training container logs as \u001b[38;2;0;135;0m'wait'\u001b[0m is set to     \u001b]8;id=910984;file:///Users/dashtiam/miniconda3/lib/python3.12/site-packages/sagemaker/modules/train/model_trainer.py\u001b\\\u001b[2mmodel_trainer.py\u001b[0m\u001b]8;;\u001b\\\u001b[2m:\u001b[0m\u001b]8;id=663320;file:///Users/dashtiam/miniconda3/lib/python3.12/site-packages/sagemaker/modules/train/model_trainer.py#834\u001b\\\u001b[2m834\u001b[0m\u001b]8;;\u001b\\\n",
       "\u001b[2;36m                    \u001b[0m         \u001b[3;38;2;215;0;0mFalse\u001b[0m.                                                            \u001b[2m                    \u001b[0m\n"
      ]
     },
     "metadata": {},
     "output_type": "display_data"
    }
   ],
   "source": [
    "model_trainer.train(input_data_config=[training_data], wait=False)"
   ]
  },
  {
   "cell_type": "markdown",
   "id": "edbaa7ea-85c9-428c-a4cf-5a1ef9d59f88",
   "metadata": {},
   "source": [
    "## SFT Training Complete\n",
    "Now that your SFT training job has completed, you can retrieve the tuned artifact and use it for DPO training as a follow-up step."
   ]
  },
  {
   "cell_type": "code",
   "execution_count": 24,
   "id": "b0de460e-ce56-49e2-b1e4-2377d35bd868",
   "metadata": {},
   "outputs": [
    {
     "name": "stdout",
     "output_type": "stream",
     "text": [
      "Last training job name: model-trainer-distributed-function-calling-sft-20251021092655\n",
      "Final SFT Model Artifact Location: s3://sagemaker-us-east-1-783764584149/model-trainer-distributed-function-calling-sft/model-trainer-distributed-function-calling-sft-20251021092655/output/model.tar.gz\n"
     ]
    }
   ],
   "source": [
    "from utils import get_last_job_name\n",
    "\n",
    "job_name = get_last_job_name(job_prefix)\n",
    "print(f\"Last training job name: {job_name}\")\n",
    "\n",
    "if default_prefix:\n",
    "    model_data=f\"s3://{bucket_name}/{default_prefix}/{job_prefix}/{job_name}/output/model.tar.gz\"\n",
    "else:\n",
    "    model_data=f\"s3://{bucket_name}/{job_prefix}/{job_name}/output/model.tar.gz\"\n",
    "\n",
    "print(f\"Final SFT Model Artifact Location: {model_data}\")"
   ]
  },
  {
   "cell_type": "code",
   "execution_count": 40,
   "id": "5af9f077",
   "metadata": {},
   "outputs": [],
   "source": [
    "model_data = 's3://sagemaker-us-east-1-783764584149/model-trainer-distributed-function-calling-sft/model-trainer-distributed-function-calling-sft-20251021092640/output/model.tar.gz'"
   ]
  },
  {
   "cell_type": "markdown",
   "id": "2b504aea-ad14-49c6-8872-f16c7c169a6d",
   "metadata": {},
   "source": [
    "# Run Direct Preference Optimization (DPO) training on your SFT Model\n",
    "This section will configure default values for DPO similar to what was setup for SFT earlier."
   ]
  },
  {
   "cell_type": "code",
   "execution_count": 41,
   "id": "4d07fc86-9d53-4fbc-b3ca-8997c23e6816",
   "metadata": {},
   "outputs": [
    {
     "name": "stdout",
     "output_type": "stream",
     "text": [
      "DPO Training Image URI: 763104351884.dkr.ecr.us-east-1.amazonaws.com/pytorch-training:2.6.0-gpu-py312\n",
      "DPO Training Checkpoint Storage Path: s3://sagemaker-us-east-1-783764584149/function-calling-dpo-checkpoints/checkpoints\n",
      "DPO Training Job Name Prefix: model-trainer-distributed-function-calling-dpo\n"
     ]
    }
   ],
   "source": [
    "# image_uri = f\"658645717510.dkr.ecr.{sagemaker_session.boto_session.region_name}.amazonaws.com/smdistributed-modelparallel:2.4.1-gpu-py311-cu121\"\n",
    "instance_type = \"ml.p4d.24xlarge\"\n",
    "image_uri = sagemaker.image_uris.retrieve(\n",
    "    framework=\"pytorch\",\n",
    "    region=sagemaker_session.boto_session.region_name,\n",
    "    version=\"2.6.0\",\n",
    "    instance_type=instance_type,\n",
    "    image_scope=\"training\"\n",
    ")\n",
    "\n",
    "print(f\"DPO Training Image URI: {image_uri}\")\n",
    "\n",
    "checkpoint_s3_path = f\"s3://{bucket_name}/function-calling-dpo-checkpoints/checkpoints\"\n",
    "print(f\"DPO Training Checkpoint Storage Path: {checkpoint_s3_path}\")\n",
    "\n",
    "job_prefix = f\"model-trainer-distributed-function-calling-dpo\"\n",
    "print(f\"DPO Training Job Name Prefix: {job_prefix}\")"
   ]
  },
  {
   "cell_type": "markdown",
   "id": "b47862ad-e6dd-46ef-a0e7-8f26b2f6b0c2",
   "metadata": {},
   "source": [
    "Note that in this `ModelTrainer` configuration, the recipe configuration has changed from what was used for SFT as well as the entry script for training. If you remove `model_location` from environment it will run DPO on base model specified in the training recipe."
   ]
  },
  {
   "cell_type": "code",
   "execution_count": null,
   "id": "6578fe89-d170-4152-a263-e38238583864",
   "metadata": {},
   "outputs": [
    {
     "data": {
      "text/html": [
       "<pre style=\"white-space:pre;overflow-x:auto;line-height:normal;font-family:Menlo,'DejaVu Sans Mono',consolas,'Courier New',monospace\"><span style=\"color: #7fbfbf; text-decoration-color: #7fbfbf\">[10/21/25 11:18:24] </span><span style=\"color: #d7af00; text-decoration-color: #d7af00; font-weight: bold\">WARNING </span> SageMaker session not provided. Using default Session.            <a href=\"file:///Users/dashtiam/miniconda3/lib/python3.12/site-packages/sagemaker/modules/train/model_trainer.py\" target=\"_blank\"><span style=\"color: #7f7f7f; text-decoration-color: #7f7f7f\">model_trainer.py</span></a><span style=\"color: #7f7f7f; text-decoration-color: #7f7f7f\">:</span><a href=\"file:///Users/dashtiam/miniconda3/lib/python3.12/site-packages/sagemaker/modules/train/model_trainer.py#501\" target=\"_blank\"><span style=\"color: #7f7f7f; text-decoration-color: #7f7f7f\">501</span></a>\n",
       "</pre>\n"
      ],
      "text/plain": [
       "\u001b[2;36m[10/21/25 11:18:24]\u001b[0m\u001b[2;36m \u001b[0m\u001b[1;38;2;215;175;0mWARNING \u001b[0m SageMaker session not provided. Using default Session.            \u001b]8;id=215951;file:///Users/dashtiam/miniconda3/lib/python3.12/site-packages/sagemaker/modules/train/model_trainer.py\u001b\\\u001b[2mmodel_trainer.py\u001b[0m\u001b]8;;\u001b\\\u001b[2m:\u001b[0m\u001b]8;id=362503;file:///Users/dashtiam/miniconda3/lib/python3.12/site-packages/sagemaker/modules/train/model_trainer.py#501\u001b\\\u001b[2m501\u001b[0m\u001b]8;;\u001b\\\n"
      ]
     },
     "metadata": {},
     "output_type": "display_data"
    },
    {
     "data": {
      "text/html": [
       "<pre style=\"white-space:pre;overflow-x:auto;line-height:normal;font-family:Menlo,'DejaVu Sans Mono',consolas,'Courier New',monospace\"><span style=\"color: #7fbfbf; text-decoration-color: #7fbfbf\">[10/21/25 11:18:25] </span><span style=\"color: #d7af00; text-decoration-color: #d7af00; font-weight: bold\">WARNING </span> Role not provided. Using default role:                            <a href=\"file:///Users/dashtiam/miniconda3/lib/python3.12/site-packages/sagemaker/modules/train/model_trainer.py\" target=\"_blank\"><span style=\"color: #7f7f7f; text-decoration-color: #7f7f7f\">model_trainer.py</span></a><span style=\"color: #7f7f7f; text-decoration-color: #7f7f7f\">:</span><a href=\"file:///Users/dashtiam/miniconda3/lib/python3.12/site-packages/sagemaker/modules/train/model_trainer.py#505\" target=\"_blank\"><span style=\"color: #7f7f7f; text-decoration-color: #7f7f7f\">505</span></a>\n",
       "<span style=\"color: #7fbfbf; text-decoration-color: #7fbfbf\">                    </span>         arn:aws:iam::<span style=\"color: #008080; text-decoration-color: #008080; font-weight: bold\">783764584149</span>:role/amin-macbook                       <span style=\"color: #7f7f7f; text-decoration-color: #7f7f7f\">                    </span>\n",
       "</pre>\n"
      ],
      "text/plain": [
       "\u001b[2;36m[10/21/25 11:18:25]\u001b[0m\u001b[2;36m \u001b[0m\u001b[1;38;2;215;175;0mWARNING \u001b[0m Role not provided. Using default role:                            \u001b]8;id=960185;file:///Users/dashtiam/miniconda3/lib/python3.12/site-packages/sagemaker/modules/train/model_trainer.py\u001b\\\u001b[2mmodel_trainer.py\u001b[0m\u001b]8;;\u001b\\\u001b[2m:\u001b[0m\u001b]8;id=713632;file:///Users/dashtiam/miniconda3/lib/python3.12/site-packages/sagemaker/modules/train/model_trainer.py#505\u001b\\\u001b[2m505\u001b[0m\u001b]8;;\u001b\\\n",
       "\u001b[2;36m                    \u001b[0m         arn:aws:iam::\u001b[1;36m783764584149\u001b[0m:role/amin-macbook                       \u001b[2m                    \u001b[0m\n"
      ]
     },
     "metadata": {},
     "output_type": "display_data"
    },
    {
     "data": {
      "text/html": [
       "<pre style=\"white-space:pre;overflow-x:auto;line-height:normal;font-family:Menlo,'DejaVu Sans Mono',consolas,'Courier New',monospace\"><span style=\"color: #7fbfbf; text-decoration-color: #7fbfbf\">[10/21/25 11:18:26] </span><span style=\"color: #d7af00; text-decoration-color: #d7af00; font-weight: bold\">WARNING </span> OutputDataConfig not provided. Using default:                     <a href=\"file:///Users/dashtiam/miniconda3/lib/python3.12/site-packages/sagemaker/modules/train/model_trainer.py\" target=\"_blank\"><span style=\"color: #7f7f7f; text-decoration-color: #7f7f7f\">model_trainer.py</span></a><span style=\"color: #7f7f7f; text-decoration-color: #7f7f7f\">:</span><a href=\"file:///Users/dashtiam/miniconda3/lib/python3.12/site-packages/sagemaker/modules/train/model_trainer.py#567\" target=\"_blank\"><span style=\"color: #7f7f7f; text-decoration-color: #7f7f7f\">567</span></a>\n",
       "<span style=\"color: #7fbfbf; text-decoration-color: #7fbfbf\">                    </span>         <span style=\"color: #d7af00; text-decoration-color: #d7af00\">s3_output_path</span>=<span style=\"color: #008700; text-decoration-color: #008700\">'s3://sagemaker-us-east-1-783764584149/model-train</span> <span style=\"color: #7f7f7f; text-decoration-color: #7f7f7f\">                    </span>\n",
       "<span style=\"color: #7fbfbf; text-decoration-color: #7fbfbf\">                    </span>         <span style=\"color: #008700; text-decoration-color: #008700\">er-distributed-function-calling-dpo'</span> <span style=\"color: #d7af00; text-decoration-color: #d7af00\">kms_key_id</span>=<span style=\"color: #e100e1; text-decoration-color: #e100e1; font-style: italic\">None</span>              <span style=\"color: #7f7f7f; text-decoration-color: #7f7f7f\">                    </span>\n",
       "<span style=\"color: #7fbfbf; text-decoration-color: #7fbfbf\">                    </span>         <span style=\"color: #d7af00; text-decoration-color: #d7af00\">compression_type</span>=<span style=\"color: #008700; text-decoration-color: #008700\">'GZIP'</span>                                           <span style=\"color: #7f7f7f; text-decoration-color: #7f7f7f\">                    </span>\n",
       "</pre>\n"
      ],
      "text/plain": [
       "\u001b[2;36m[10/21/25 11:18:26]\u001b[0m\u001b[2;36m \u001b[0m\u001b[1;38;2;215;175;0mWARNING \u001b[0m OutputDataConfig not provided. Using default:                     \u001b]8;id=339629;file:///Users/dashtiam/miniconda3/lib/python3.12/site-packages/sagemaker/modules/train/model_trainer.py\u001b\\\u001b[2mmodel_trainer.py\u001b[0m\u001b]8;;\u001b\\\u001b[2m:\u001b[0m\u001b]8;id=336930;file:///Users/dashtiam/miniconda3/lib/python3.12/site-packages/sagemaker/modules/train/model_trainer.py#567\u001b\\\u001b[2m567\u001b[0m\u001b]8;;\u001b\\\n",
       "\u001b[2;36m                    \u001b[0m         \u001b[38;2;215;175;0ms3_output_path\u001b[0m=\u001b[38;2;0;135;0m's3://sagemaker-us-east-1-783764584149/model-train\u001b[0m \u001b[2m                    \u001b[0m\n",
       "\u001b[2;36m                    \u001b[0m         \u001b[38;2;0;135;0mer-distributed-function-calling-dpo'\u001b[0m \u001b[38;2;215;175;0mkms_key_id\u001b[0m=\u001b[3;38;2;225;0;225mNone\u001b[0m              \u001b[2m                    \u001b[0m\n",
       "\u001b[2;36m                    \u001b[0m         \u001b[38;2;215;175;0mcompression_type\u001b[0m=\u001b[38;2;0;135;0m'GZIP'\u001b[0m                                           \u001b[2m                    \u001b[0m\n"
      ]
     },
     "metadata": {},
     "output_type": "display_data"
    },
    {
     "data": {
      "text/html": [
       "<pre style=\"white-space:pre;overflow-x:auto;line-height:normal;font-family:Menlo,'DejaVu Sans Mono',consolas,'Courier New',monospace\"><span style=\"color: #7fbfbf; text-decoration-color: #7fbfbf\">                    </span><span style=\"color: #0069ff; text-decoration-color: #0069ff; font-weight: bold\">INFO    </span> Training image URI:                                               <a href=\"file:///Users/dashtiam/miniconda3/lib/python3.12/site-packages/sagemaker/modules/train/model_trainer.py\" target=\"_blank\"><span style=\"color: #7f7f7f; text-decoration-color: #7f7f7f\">model_trainer.py</span></a><span style=\"color: #7f7f7f; text-decoration-color: #7f7f7f\">:</span><a href=\"file:///Users/dashtiam/miniconda3/lib/python3.12/site-packages/sagemaker/modules/train/model_trainer.py#588\" target=\"_blank\"><span style=\"color: #7f7f7f; text-decoration-color: #7f7f7f\">588</span></a>\n",
       "<span style=\"color: #7fbfbf; text-decoration-color: #7fbfbf\">                    </span>         <span style=\"color: #008080; text-decoration-color: #008080; font-weight: bold\">763104351884.</span>dkr.ecr.us-east-<span style=\"color: #008080; text-decoration-color: #008080; font-weight: bold\">1.</span>amazonaws.com/pytorch-training:<span style=\"color: #008080; text-decoration-color: #008080; font-weight: bold\">2.6</span> <span style=\"color: #7f7f7f; text-decoration-color: #7f7f7f\">                    </span>\n",
       "<span style=\"color: #7fbfbf; text-decoration-color: #7fbfbf\">                    </span>         .<span style=\"color: #008080; text-decoration-color: #008080; font-weight: bold\">0</span>-gpu-py312                                                      <span style=\"color: #7f7f7f; text-decoration-color: #7f7f7f\">                    </span>\n",
       "</pre>\n"
      ],
      "text/plain": [
       "\u001b[2;36m                   \u001b[0m\u001b[2;36m \u001b[0m\u001b[1;38;2;0;105;255mINFO    \u001b[0m Training image URI:                                               \u001b]8;id=765488;file:///Users/dashtiam/miniconda3/lib/python3.12/site-packages/sagemaker/modules/train/model_trainer.py\u001b\\\u001b[2mmodel_trainer.py\u001b[0m\u001b]8;;\u001b\\\u001b[2m:\u001b[0m\u001b]8;id=380570;file:///Users/dashtiam/miniconda3/lib/python3.12/site-packages/sagemaker/modules/train/model_trainer.py#588\u001b\\\u001b[2m588\u001b[0m\u001b]8;;\u001b\\\n",
       "\u001b[2;36m                    \u001b[0m         \u001b[1;36m763104351884.\u001b[0mdkr.ecr.us-east-\u001b[1;36m1.\u001b[0mamazonaws.com/pytorch-training:\u001b[1;36m2.6\u001b[0m \u001b[2m                    \u001b[0m\n",
       "\u001b[2;36m                    \u001b[0m         .\u001b[1;36m0\u001b[0m-gpu-py312                                                      \u001b[2m                    \u001b[0m\n"
      ]
     },
     "metadata": {},
     "output_type": "display_data"
    }
   ],
   "source": [
    "from sagemaker.config import load_sagemaker_config\n",
    "configs = load_sagemaker_config()\n",
    "from sagemaker.modules.train import ModelTrainer\n",
    "from sagemaker.modules.configs import Compute, SourceCode, InputData, StoppingCondition, CheckpointConfig\n",
    "\n",
    "env = {}\n",
    "env[\"FI_PROVIDER\"] = \"efa\"\n",
    "env[\"NCCL_PROTO\"] = \"simple\"\n",
    "env[\"NCCL_SOCKET_IFNAME\"] = \"eth0\"\n",
    "env[\"NCCL_IB_DISABLE\"] = \"1\"\n",
    "env[\"NCCL_DEBUG\"] = \"WARN\"\n",
    "env[\"HF_token\"] = os.environ['hf_token']\n",
    "env[\"data_location\"] = perf_dataset_s3_path\n",
    "env[\"model_location\"] = model_data\n",
    "env[\"training_recipe\"] = \"recipes/sft-dpo-qwen3-1.7b.yaml\"\n",
    "\n",
    "# MLFlow tracker\n",
    "#tracking_server_arn = \"\"\n",
    "#env[\"MLFLOW_TRACKING_ARN\"] = tracking_server_arn\n",
    "\n",
    "compute = Compute(\n",
    "    instance_count=1,\n",
    "    instance_type= instance_type,\n",
    "    volume_size_in_gb=96,\n",
    "    keep_alive_period_in_seconds=3600,\n",
    ")\n",
    "\n",
    "hyperparameters = {\n",
    "    \"dataset_path\": \"/opt/ml/input/data/dataset\",\n",
    "    \"model_dir\": \"/opt/ml/model\",\n",
    "}\n",
    "\n",
    "source_code = SourceCode(\n",
    "    source_dir=\"./scripts\",\n",
    "    requirements=\"requirements.txt\",\n",
    "    entry_script=\"run_training_dpo.sh\",\n",
    ")\n",
    "\n",
    "model_trainer = ModelTrainer(\n",
    "    training_image=image_uri,\n",
    "    compute=compute,\n",
    "    hyperparameters=hyperparameters,\n",
    "    environment=env,\n",
    "    source_code=source_code,\n",
    "    stopping_condition=StoppingCondition(\n",
    "        max_runtime_in_seconds=90000,\n",
    "    ),\n",
    "    checkpoint_config=CheckpointConfig(\n",
    "        s3_uri=f\"{checkpoint_s3_path}/{job_prefix}\",\n",
    "    ),\n",
    "    base_job_name=job_prefix\n",
    "\n",
    ")"
   ]
  },
  {
   "cell_type": "markdown",
   "id": "17c402ce-b7df-4254-9d82-a25ff9dd755d",
   "metadata": {},
   "source": [
    "### Configure Training Data Channels"
   ]
  },
  {
   "cell_type": "code",
   "execution_count": 43,
   "id": "5833f8da-ac03-4ea8-bc3e-3f63ab786064",
   "metadata": {},
   "outputs": [
    {
     "data": {
      "text/plain": [
       "'s3://sagemaker-us-east-1-783764584149/datasets/nvidia_function_calling/pref/dataset.json'"
      ]
     },
     "execution_count": 43,
     "metadata": {},
     "output_type": "execute_result"
    }
   ],
   "source": [
    "perf_dataset_s3_path"
   ]
  },
  {
   "cell_type": "code",
   "execution_count": 44,
   "id": "49ae3861-f1c6-42e5-a22b-e87b125a285f",
   "metadata": {},
   "outputs": [],
   "source": [
    "training_data = InputData(\n",
    "    channel_name=\"training_dataset\",\n",
    "    data_source=perf_dataset_s3_path,\n",
    ")"
   ]
  },
  {
   "cell_type": "markdown",
   "id": "3dc6a1c1-02c9-4ed0-9982-f157edb9794f",
   "metadata": {},
   "source": [
    "### Begin DPO Training"
   ]
  },
  {
   "cell_type": "code",
   "execution_count": 45,
   "id": "2a2ca6e4-f124-4457-b43b-02e0dcc1b6bc",
   "metadata": {
    "scrolled": true
   },
   "outputs": [
    {
     "data": {
      "text/html": [
       "<pre style=\"white-space:pre;overflow-x:auto;line-height:normal;font-family:Menlo,'DejaVu Sans Mono',consolas,'Courier New',monospace\"><span style=\"color: #7fbfbf; text-decoration-color: #7fbfbf\">                    </span><span style=\"color: #d7af00; text-decoration-color: #d7af00; font-weight: bold\">WARNING </span> key_prefix is only applicable when data_source is a local file    <a href=\"file:///Users/dashtiam/miniconda3/lib/python3.12/site-packages/sagemaker/modules/train/model_trainer.py\" target=\"_blank\"><span style=\"color: #7f7f7f; text-decoration-color: #7f7f7f\">model_trainer.py</span></a><span style=\"color: #7f7f7f; text-decoration-color: #7f7f7f\">:</span><a href=\"file:///Users/dashtiam/miniconda3/lib/python3.12/site-packages/sagemaker/modules/train/model_trainer.py#896\" target=\"_blank\"><span style=\"color: #7f7f7f; text-decoration-color: #7f7f7f\">896</span></a>\n",
       "<span style=\"color: #7fbfbf; text-decoration-color: #7fbfbf\">                    </span>         path.                                                             <span style=\"color: #7f7f7f; text-decoration-color: #7f7f7f\">                    </span>\n",
       "</pre>\n"
      ],
      "text/plain": [
       "\u001b[2;36m                   \u001b[0m\u001b[2;36m \u001b[0m\u001b[1;38;2;215;175;0mWARNING \u001b[0m key_prefix is only applicable when data_source is a local file    \u001b]8;id=195653;file:///Users/dashtiam/miniconda3/lib/python3.12/site-packages/sagemaker/modules/train/model_trainer.py\u001b\\\u001b[2mmodel_trainer.py\u001b[0m\u001b]8;;\u001b\\\u001b[2m:\u001b[0m\u001b]8;id=241621;file:///Users/dashtiam/miniconda3/lib/python3.12/site-packages/sagemaker/modules/train/model_trainer.py#896\u001b\\\u001b[2m896\u001b[0m\u001b]8;;\u001b\\\n",
       "\u001b[2;36m                    \u001b[0m         path.                                                             \u001b[2m                    \u001b[0m\n"
      ]
     },
     "metadata": {},
     "output_type": "display_data"
    },
    {
     "data": {
      "text/html": [
       "<pre style=\"white-space:pre;overflow-x:auto;line-height:normal;font-family:Menlo,'DejaVu Sans Mono',consolas,'Courier New',monospace\"><span style=\"color: #7fbfbf; text-decoration-color: #7fbfbf\">[10/21/25 11:18:33] </span><span style=\"color: #0069ff; text-decoration-color: #0069ff; font-weight: bold\">INFO    </span> Creating training_job resource.                                     <a href=\"file:///Users/dashtiam/miniconda3/lib/python3.12/site-packages/sagemaker_core/main/resources.py\" target=\"_blank\"><span style=\"color: #7f7f7f; text-decoration-color: #7f7f7f\">resources.py</span></a><span style=\"color: #7f7f7f; text-decoration-color: #7f7f7f\">:</span><a href=\"file:///Users/dashtiam/miniconda3/lib/python3.12/site-packages/sagemaker_core/main/resources.py#28340\" target=\"_blank\"><span style=\"color: #7f7f7f; text-decoration-color: #7f7f7f\">28340</span></a>\n",
       "</pre>\n"
      ],
      "text/plain": [
       "\u001b[2;36m[10/21/25 11:18:33]\u001b[0m\u001b[2;36m \u001b[0m\u001b[1;38;2;0;105;255mINFO    \u001b[0m Creating training_job resource.                                     \u001b]8;id=744311;file:///Users/dashtiam/miniconda3/lib/python3.12/site-packages/sagemaker_core/main/resources.py\u001b\\\u001b[2mresources.py\u001b[0m\u001b]8;;\u001b\\\u001b[2m:\u001b[0m\u001b]8;id=320330;file:///Users/dashtiam/miniconda3/lib/python3.12/site-packages/sagemaker_core/main/resources.py#28340\u001b\\\u001b[2m28340\u001b[0m\u001b]8;;\u001b\\\n"
      ]
     },
     "metadata": {},
     "output_type": "display_data"
    },
    {
     "data": {
      "text/html": [
       "<pre style=\"white-space:pre;overflow-x:auto;line-height:normal;font-family:Menlo,'DejaVu Sans Mono',consolas,'Courier New',monospace\"><span style=\"color: #7fbfbf; text-decoration-color: #7fbfbf\">[10/21/25 11:18:34] </span><span style=\"color: #d7af00; text-decoration-color: #d7af00; font-weight: bold\">WARNING </span> Not displaing the training container logs as <span style=\"color: #008700; text-decoration-color: #008700\">'wait'</span> is set to     <a href=\"file:///Users/dashtiam/miniconda3/lib/python3.12/site-packages/sagemaker/modules/train/model_trainer.py\" target=\"_blank\"><span style=\"color: #7f7f7f; text-decoration-color: #7f7f7f\">model_trainer.py</span></a><span style=\"color: #7f7f7f; text-decoration-color: #7f7f7f\">:</span><a href=\"file:///Users/dashtiam/miniconda3/lib/python3.12/site-packages/sagemaker/modules/train/model_trainer.py#834\" target=\"_blank\"><span style=\"color: #7f7f7f; text-decoration-color: #7f7f7f\">834</span></a>\n",
       "<span style=\"color: #7fbfbf; text-decoration-color: #7fbfbf\">                    </span>         <span style=\"color: #d70000; text-decoration-color: #d70000; font-style: italic\">False</span>.                                                            <span style=\"color: #7f7f7f; text-decoration-color: #7f7f7f\">                    </span>\n",
       "</pre>\n"
      ],
      "text/plain": [
       "\u001b[2;36m[10/21/25 11:18:34]\u001b[0m\u001b[2;36m \u001b[0m\u001b[1;38;2;215;175;0mWARNING \u001b[0m Not displaing the training container logs as \u001b[38;2;0;135;0m'wait'\u001b[0m is set to     \u001b]8;id=388411;file:///Users/dashtiam/miniconda3/lib/python3.12/site-packages/sagemaker/modules/train/model_trainer.py\u001b\\\u001b[2mmodel_trainer.py\u001b[0m\u001b]8;;\u001b\\\u001b[2m:\u001b[0m\u001b]8;id=378168;file:///Users/dashtiam/miniconda3/lib/python3.12/site-packages/sagemaker/modules/train/model_trainer.py#834\u001b\\\u001b[2m834\u001b[0m\u001b]8;;\u001b\\\n",
       "\u001b[2;36m                    \u001b[0m         \u001b[3;38;2;215;0;0mFalse\u001b[0m.                                                            \u001b[2m                    \u001b[0m\n"
      ]
     },
     "metadata": {},
     "output_type": "display_data"
    }
   ],
   "source": [
    "model_trainer.train(input_data_config=[training_data], wait=False)"
   ]
  },
  {
   "cell_type": "code",
   "execution_count": 46,
   "id": "3451a7f1",
   "metadata": {},
   "outputs": [
    {
     "name": "stdout",
     "output_type": "stream",
     "text": [
      "Last training job name: model-trainer-distributed-function-calling-dpo-20251021103550\n",
      "Final DPO Model Artifact Location: s3://sagemaker-us-east-1-783764584149/model-trainer-distributed-function-calling-dpo/model-trainer-distributed-function-calling-dpo-20251021103550/output/model.tar.gz\n"
     ]
    }
   ],
   "source": [
    "from utils import get_last_job_name\n",
    "\n",
    "job_name = get_last_job_name(job_prefix)\n",
    "print(f\"Last training job name: {job_name}\")\n",
    "\n",
    "if default_prefix:\n",
    "    model_data=f\"s3://{bucket_name}/{default_prefix}/{job_prefix}/{job_name}/output/model.tar.gz\"\n",
    "else:\n",
    "    model_data=f\"s3://{bucket_name}/{job_prefix}/{job_name}/output/model.tar.gz\"\n",
    "\n",
    "print(f\"Final DPO Model Artifact Location: {model_data}\")"
   ]
  },
  {
   "cell_type": "code",
   "execution_count": null,
   "id": "f28158a8",
   "metadata": {},
   "outputs": [],
   "source": []
  }
 ],
 "metadata": {
  "kernelspec": {
   "display_name": "base",
   "language": "python",
   "name": "python3"
  },
  "language_info": {
   "codemirror_mode": {
    "name": "ipython",
    "version": 3
   },
   "file_extension": ".py",
   "mimetype": "text/x-python",
   "name": "python",
   "nbconvert_exporter": "python",
   "pygments_lexer": "ipython3",
   "version": "3.12.2"
  }
 },
 "nbformat": 4,
 "nbformat_minor": 5
}
