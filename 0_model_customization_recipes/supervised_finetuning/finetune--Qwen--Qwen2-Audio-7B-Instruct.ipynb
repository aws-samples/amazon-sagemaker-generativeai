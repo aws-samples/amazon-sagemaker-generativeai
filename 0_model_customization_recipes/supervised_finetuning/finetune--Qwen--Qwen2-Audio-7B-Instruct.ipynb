{
 "cells": [
  {
   "cell_type": "markdown",
   "id": "e60b91a9-7d9c-4c45-be0f-5a224581f644",
   "metadata": {},
   "source": [
    "# 🚀 Customize and Deploy `Qwen/Qwen2-Audio-7B-Instruct` on Amazon SageMaker AI\n",
    "---\n",
    "In this notebook, we explore **Qwen2-Audio-7B-Instruct**, a 7-billion-parameter audio-language model from Alibaba’s Qwen2-Audio series. You’ll learn how to fine-tune it (or use it out-of-the-box), evaluate its audio + text understanding, and deploy it using SageMaker for voice interaction, audio analysis, and multimodal workflows.\n",
    "\n",
    "**What is Qwen2-Audio-7B-Instruct?**\n",
    "\n",
    "Qwen2-Audio-7B-Instruct is the instruction-tuned variant of the Qwen2-Audio-7B model. It can take **audio inputs** (speech, other sound signals) and **text instructions** to perform tasks such as transcription, translation, conversational voice chat, audio analysis, and sound-event detection. It supports two primary audio interaction modes: *voice chat* (audio in, audio/text out conversationally) and *audio analysis* (audio + text instructions to analyze or respond). It is released under the **Apache-2.0 license**.  \n",
    "🔗 Model card: [Qwen/Qwen2-Audio-7B-Instruct on Hugging Face](https://huggingface.co/Qwen/Qwen2-Audio-7B-Instruct)\n",
    "\n",
    "---\n",
    "\n",
    "**Key Specifications**\n",
    "\n",
    "| Feature | Details |\n",
    "|---|---|\n",
    "| **Parameters** | ~7 billion |\n",
    "| **Modalities** | Audio input + Text input → Text output |\n",
    "| **Interaction Modes** | Voice chat; Audio analysis (audio + instruction) |\n",
    "| **Context / Window Length** | ~32,768 tokens for text; audio input support for various sampling rates |\n",
    "| **Languages Supported** | English and Chinese (at minimum) |\n",
    "| **License** | Apache-2.0 |\n",
    "\n",
    "---\n",
    "\n",
    "**Benchmarks & Behavior**\n",
    "\n",
    "- Qwen2-Audio has been evaluated across tasks like automatic speech recognition (ASR), speech-to-text translation, emotion recognition, and sound event classification, showing state-of-the-art or competitive performance.  \n",
    "- It is designed to understand complex audio environments (multi-speaker or noisy input) and respond appropriately to natural instructions.  \n",
    "- Strong fit for applications in **multilingual speech agents, customer service bots, transcription services, and audio analytics pipelines**.  \n",
    "\n",
    "---\n",
    "\n",
    "**Using This Notebook**\n",
    "\n",
    "Here’s what you’ll cover:\n",
    "\n",
    "* Load a sample dataset from Hugging Face and prepare it for fine-tuning  \n",
    "* Fine-tune with SageMaker Training Jobs  \n",
    "* Run Model Evaluation  \n",
    "* Deploy to SageMaker Endpoints  \n"
   ]
  },
  {
   "cell_type": "code",
   "execution_count": 1,
   "id": "0ce40054-610a-4acc-a546-943893f293c1",
   "metadata": {},
   "outputs": [],
   "source": [
    "%pip install -Uq sagemaker datasets"
   ]
  },
  {
   "cell_type": "code",
   "execution_count": 2,
   "id": "b791e72e-82b5-4f8e-a7fe-700e8afdeba5",
   "metadata": {},
   "outputs": [],
   "source": [
    "import boto3\n",
    "import sagemaker\n",
    "from PIL import Image\n",
    "import torch"
   ]
  },
  {
   "cell_type": "code",
   "execution_count": 3,
   "id": "23c673a9-5b9f-47e0-92cf-bb97486b3e1a",
   "metadata": {},
   "outputs": [],
   "source": [
    "region = boto3.Session().region_name\n",
    "\n",
    "from sagemaker.local import LocalSession \n",
    "sess = LocalSession() #sagemaker.Session(boto3.Session(region_name=region))\n",
    "sess.config = {\"local\": {\"local_code\": True}}\n",
    "\n",
    "sagemaker_session_bucket = None\n",
    "if sagemaker_session_bucket is None and sess is not None:\n",
    "    # set to default bucket if a bucket name is not given\n",
    "    sagemaker_session_bucket = sess.default_bucket()\n",
    "\n",
    "role = sagemaker.get_execution_role()"
   ]
  },
  {
   "cell_type": "code",
   "execution_count": 4,
   "id": "d9786901-b012-41ff-a98a-b16e5f60ec9c",
   "metadata": {},
   "outputs": [],
   "source": [
    "print(f\"sagemaker role arn: {role}\")\n",
    "print(f\"sagemaker bucket: {sess.default_bucket()}\")\n",
    "print(f\"sagemaker session region: {sess.boto_region_name}\")"
   ]
  },
  {
   "cell_type": "markdown",
   "id": "145954cd",
   "metadata": {},
   "source": [
    "## Data Preparation for Supervised Fine-tuning"
   ]
  },
  {
   "cell_type": "markdown",
   "id": "d1bdc257",
   "metadata": {},
   "source": [
    "### [AudioSet-Audio-Instructions](https://huggingface.co/datasets/mesolitica/AudioSet-Audio-Instructions)\n",
    "\n",
    "**AudioSet-Audio-Instructions** is a multimodal dataset created by pairing **Google AudioSet audio clips** with human-written instruction–response examples. It is designed to support **instruction tuning for audio understanding** tasks such as event detection, audio classification, and acoustic reasoning.\n",
    "\n",
    "**Data Format & Structure**:\n",
    "- Built on **AudioSet**, a large ontology of over 500 audio event classes.  \n",
    "- Each example contains:  \n",
    "  • `audio` — a 10-second audio clip from AudioSet.  \n",
    "  • `instruction` — a natural language prompt about the audio (e.g., “Identify the main sound in this clip”).  \n",
    "  • `response` — the assistant’s answer (e.g., “This audio contains the sound of a violin being played”).  \n",
    "- Distributed in **JSON/Parquet** formats for ease of use.  \n",
    "- Includes `train`, `validation`, and `test` splits.  \n",
    "\n",
    "**License**: Same as **AudioSet** (Creative Commons Attribution license) with additional generated annotations shared openly for research.  \n",
    "\n",
    "**Applications**:\n",
    "\n",
    "The dataset is useful for training and evaluating multimodal models on:  \n",
    "- Audio event classification and tagging  \n",
    "- Instruction-following tasks for sound and acoustic scenes  \n",
    "- Building conversational audio assistants  \n",
    "- Enhancing models for **multimodal reasoning** (sound + text)  \n",
    "\n",
    "---\n",
    "\n",
    "*This dataset bridges raw audio perception with natural language supervision, making it a valuable resource for instruction-tuned audio understanding models.*  \n"
   ]
  },
  {
   "cell_type": "code",
   "execution_count": null,
   "id": "cc26be5c",
   "metadata": {},
   "outputs": [],
   "source": [
    "import os\n",
    "import json\n",
    "import pprint\n",
    "from tqdm import tqdm\n",
    "import soundfile as sf\n",
    "from datasets import load_dataset, Audio"
   ]
  },
  {
   "cell_type": "code",
   "execution_count": null,
   "id": "052b31a1",
   "metadata": {},
   "outputs": [],
   "source": [
    "dataset_parent_path = os.path.join(os.getcwd(), \"tmp_cache_local_dataset\")\n",
    "os.makedirs(dataset_parent_path, exist_ok=True)"
   ]
  },
  {
   "cell_type": "markdown",
   "id": "baed7366",
   "metadata": {},
   "source": [
    "**Preparing Your Dataset in `messages` format**\n",
    "\n",
    "This section walks you through creating a conversation-style dataset—the required `messages` format—for directly training LLMs using SageMaker AI.\n",
    "\n",
    "**What Is the `messages` Format?**\n",
    "\n",
    "The `messages` format structures instances as chat-like exchanges, wrapping each conversation turn into a role-labeled JSON array. It’s widely used by frameworks like TRL.\n",
    "\n",
    "Example entry:\n",
    "\n",
    "```json\n",
    "{\n",
    "  \"messages\": [\n",
    "    { \"role\": \"system\", \"content\": \"You are a helpful assistant.\" },\n",
    "    { \"role\": \"user\", \"content\": \"How do I bake sourdough?\" },\n",
    "    { \"role\": \"assistant\", \"content\": \"First, you need to create a starter by...\" }\n",
    "  ]\n",
    "}\n"
   ]
  },
  {
   "cell_type": "code",
   "execution_count": null,
   "id": "a3921310",
   "metadata": {},
   "outputs": [],
   "source": [
    "dataset_name = \"mesolitica/AudioSet-Audio-Instructions\"\n",
    "dataset = load_dataset(dataset_name, split=\"500k_part1_speech[:1000]\") \n",
    "dataset = dataset.cast_column(\"audio_filename\", Audio(sampling_rate=16000))"
   ]
  },
  {
   "cell_type": "code",
   "execution_count": null,
   "id": "479d54cd",
   "metadata": {},
   "outputs": [],
   "source": [
    "dataset_parent_path = os.path.join(os.getcwd(), \"tmp_cache_local_dataset\")\n",
    "os.makedirs(dataset_parent_path, exist_ok=True)\n",
    "audio_dir = os.path.join(dataset_parent_path, \"audio_files\")\n",
    "\n",
    "# final dataset file path\n",
    "dataset_filename = os.path.join(\n",
    "    dataset_parent_path,\n",
    "    f\"{dataset_name.replace('/', '--').replace('.', '-')}.jsonl\"\n",
    ")"
   ]
  },
  {
   "cell_type": "code",
   "execution_count": null,
   "id": "c3ee8fbe",
   "metadata": {},
   "outputs": [],
   "source": [
    "pprint.pp(dataset[0])"
   ]
  },
  {
   "cell_type": "code",
   "execution_count": null,
   "id": "773ec6b6",
   "metadata": {},
   "outputs": [],
   "source": [
    "print(f\"total number of fine-tunable samples: {len(dataset)}\")"
   ]
  },
  {
   "cell_type": "code",
   "execution_count": null,
   "id": "025f7f74",
   "metadata": {},
   "outputs": [],
   "source": [
    "def convert_to_messages_audio(row, idx):\n",
    "    os.makedirs(audio_dir, exist_ok=True)\n",
    "\n",
    "    # decode audio\n",
    "    audio = row[\"audio_filename\"]\n",
    "    array, sr = audio[\"array\"], audio[\"sampling_rate\"]\n",
    "\n",
    "    # choose filename\n",
    "    key = f\"sample-{idx:06d}\"\n",
    "    filename = f\"{key}.wav\"\n",
    "    filepath = os.path.join(audio_dir, filename)\n",
    "\n",
    "    # save wav\n",
    "    sf.write(filepath, array, sr)\n",
    "\n",
    "    # system instruction\n",
    "    system_content = (\n",
    "        \"You are an audio understanding assistant. Listen carefully to the audio clip, \"\n",
    "        \"analyze the sounds, and provide a clear and concise description.\"\n",
    "    )\n",
    "\n",
    "    # messages schema (all content fields are lists of dicts)\n",
    "    return {\n",
    "        \"messages\": [\n",
    "            {\n",
    "                \"role\": \"system\",\n",
    "                \"content\": [\n",
    "                    {\"type\": \"text\", \"text\": system_content}\n",
    "                ],\n",
    "            },\n",
    "            {\n",
    "                \"role\": \"user\",\n",
    "                \"content\": [\n",
    "                    {\n",
    "                        \"type\": \"audio\",\n",
    "                        \"audio_url\": f\"file:///opt/ml/input/data/training/{os.path.relpath(filepath, dataset_parent_path)}\"\n",
    "                    },\n",
    "                    {\"type\": \"text\", \"text\": row[\"question\"]},\n",
    "                ],\n",
    "            },\n",
    "            {\n",
    "                \"role\": \"assistant\",\n",
    "                \"content\": [\n",
    "                    {\"type\": \"text\", \"text\": row[\"answer\"]}\n",
    "                ],\n",
    "            },\n",
    "        ]\n",
    "    }\n",
    "\n",
    "with open(dataset_filename, \"w\") as f: \n",
    "    for idx, row in tqdm(enumerate(dataset), total=len(dataset)): \n",
    "        processed = convert_to_messages_audio(row, idx) \n",
    "        f.write(json.dumps(processed) + \"\\n\") \n",
    "        \n",
    "print(f\"✅ Saved JSONL dataset to {dataset_filename}\") \n",
    "print(f\"✅ Audio files saved under {audio_dir}\")"
   ]
  },
  {
   "cell_type": "markdown",
   "id": "afc8bf70",
   "metadata": {},
   "source": [
    "#### Upload file to S3"
   ]
  },
  {
   "cell_type": "code",
   "execution_count": null,
   "id": "72c9686a",
   "metadata": {},
   "outputs": [],
   "source": [
    "from sagemaker.s3 import S3Uploader"
   ]
  },
  {
   "cell_type": "code",
   "execution_count": null,
   "id": "819d2e5d",
   "metadata": {},
   "outputs": [],
   "source": [
    "data_s3_uri = f\"s3://{sess.default_bucket()}/dataset\"\n",
    "\n",
    "uploaded_s3_uri = S3Uploader.upload(\n",
    "    local_path=dataset_filename,\n",
    "    desired_s3_uri=data_s3_uri\n",
    ")\n",
    "print(f\"Uploaded {dataset_filename} to > {uploaded_s3_uri}\")"
   ]
  },
  {
   "cell_type": "markdown",
   "id": "eafb0000",
   "metadata": {},
   "source": [
    "## Fine-Tune LLMs using SageMaker `Estimator`/`ModelTrainer`"
   ]
  },
  {
   "cell_type": "code",
   "execution_count": null,
   "id": "f80210ca",
   "metadata": {},
   "outputs": [],
   "source": [
    "import time\n",
    "from sagemaker.pytorch import PyTorch\n",
    "from getpass import getpass\n",
    "import yaml\n",
    "from jinja2 import Template"
   ]
  },
  {
   "cell_type": "code",
   "execution_count": null,
   "id": "cc62cd9b",
   "metadata": {},
   "outputs": [],
   "source": [
    "hf_token = getpass()"
   ]
  },
  {
   "cell_type": "markdown",
   "id": "9f3d2e06",
   "metadata": {},
   "source": [
    "### Training using `PyTorch` Estimator\n",
    "\n",
    "**Training Using `PyTorch` Estimator**\n",
    "Leverages the official PyTorch SageMaker container to run a custom training script using the Accelerate and DeepSpeed libraries. This option is ideal for users who want full control over the training pipeline \n",
    "\n",
    "---\n",
    "**Observability**: SageMaker AI has [SageMaker MLflow](https://docs.aws.amazon.com/sagemaker/latest/dg/mlflow.html) which enables you to accelerate generative AI by making it easier to track experiments and monitor performance of models and AI applications using a single tool.\n",
    "\n",
    "You can choose to include MLflow as a part of your training workflow to track your model fine-tuning metrics in realtime by simply specifying a **mlflow** tracking arn.\n",
    "\n",
    "Optionally you can also report to : **tensorboard**, **wandb**."
   ]
  },
  {
   "cell_type": "code",
   "execution_count": null,
   "id": "bd327996",
   "metadata": {},
   "outputs": [],
   "source": [
    "MLFLOW_TRACKING_SERVER_ARN = None # or \"arn:aws:sagemaker:us-west-2:<account-id>:mlflow-tracking-server/<server-name>\"\n",
    "\n",
    "if MLFLOW_TRACKING_SERVER_ARN:\n",
    "    reports_to = \"mlflow\"\n",
    "else:\n",
    "    reports_to = \"tensorboard\""
   ]
  },
  {
   "cell_type": "code",
   "execution_count": null,
   "id": "a6ff69ae",
   "metadata": {},
   "outputs": [],
   "source": [
    "job_name = 'Qwen--Qwen2-Audio-7B-Instruct'\n",
    "training_instance_type = \"local_gpu\""
   ]
  },
  {
   "cell_type": "code",
   "execution_count": null,
   "id": "8d1f65b3",
   "metadata": {},
   "outputs": [],
   "source": [
    "if MLFLOW_TRACKING_SERVER_ARN:\n",
    "    training_env = {\n",
    "        \"MLFLOW_EXPERIMENT_NAME\": f\"exp-{job_name}\",\n",
    "        \"MLFLOW_TAGS\": '{\"source.job\": \"sm-training-jobs\", \"source.type\": \"sft\", \"source.framework\": \"pytorch\"}',\n",
    "        \"HF_TOKEN\": hf_token,\n",
    "        \"MLFLOW_TRACKING_URI\": MLFLOW_TRACKING_SERVER_ARN,\n",
    "    }\n",
    "else:\n",
    "    training_env = {\n",
    "        \"HF_TOKEN\": hf_token\n",
    "    }"
   ]
  },
  {
   "cell_type": "code",
   "execution_count": null,
   "id": "7c7868fb",
   "metadata": {},
   "outputs": [],
   "source": [
    "pytorch_image_uri = f\"763104351884.dkr.ecr.{region}.amazonaws.com/pytorch-training:2.8.0-gpu-py312-cu129-ubuntu22.04-sagemaker\"\n",
    "print(f\"Using image: {pytorch_image_uri}\")"
   ]
  },
  {
   "cell_type": "markdown",
   "id": "0fe43f9a",
   "metadata": {},
   "source": [
    "#### Training strategy: `PeFT/LoRA`"
   ]
  },
  {
   "cell_type": "code",
   "execution_count": null,
   "id": "4a32ecd8",
   "metadata": {},
   "outputs": [],
   "source": [
    "pytorch_estimator = PyTorch(\n",
    "    image_uri=pytorch_image_uri,\n",
    "    entry_point=\"sm_accelerate_train.sh\", # Adapted bash script to train using accelerate on SageMaker - Multi-GPU\n",
    "    source_dir=\"sagemaker_code\",\n",
    "    instance_type=training_instance_type,\n",
    "    instance_count=1,\n",
    "    base_job_name=f\"{job_name}-pytorch\",\n",
    "    role=role,\n",
    "    volume_size=300,\n",
    "    py_version=\"py312\",\n",
    "    keep_alive_period_in_seconds=3600,\n",
    "    environment=training_env,\n",
    "    sagemaker_session=sess,\n",
    "    hyperparameters={\n",
    "        \"config\": \"hf_recipes/Qwen/Qwen2-Audio-7B-Instruct-vanilla-peft-qlora.yaml\"\n",
    "    }\n",
    ")\n",
    "\n",
    "# fit or train\n",
    "pytorch_estimator.fit(\n",
    "    {\"training\": uploaded_s3_uri}, \n",
    "    wait=False\n",
    ")"
   ]
  },
  {
   "cell_type": "code",
   "execution_count": null,
   "id": "23aecced",
   "metadata": {},
   "outputs": [],
   "source": [
    "s3_model_data_uri = pytorch_estimator.model_data\n",
    "print(f\"Fine-tuned model location: {s3_model_data_uri}\")"
   ]
  },
  {
   "cell_type": "markdown",
   "id": "db6da361",
   "metadata": {},
   "source": [
    "#### Training strategy: `Full-Finetuning`"
   ]
  },
  {
   "cell_type": "code",
   "execution_count": null,
   "id": "11d7c00e",
   "metadata": {},
   "outputs": [],
   "source": [
    "pytorch_estimator = PyTorch(\n",
    "    image_uri=pytorch_image_uri,\n",
    "    entry_point=\"sm_accelerate_train.sh\", # Adapted bash script to train using accelerate on SageMaker - Multi-GPU\n",
    "    source_dir=\"sagemaker_code\",\n",
    "    instance_type=training_instance_type,\n",
    "    instance_count=1,\n",
    "    base_job_name=f\"{job_name}-pytorch\",\n",
    "    role=role,\n",
    "    volume_size=300,\n",
    "    py_version=\"py312\",\n",
    "    keep_alive_period_in_seconds=3600,\n",
    "    environment=training_env,\n",
    "    sagemaker_session=sess,\n",
    "    hyperparameters={\n",
    "        \"config\": \"hf_recipes/Qwen/Qwen2-Audio-7B-Instruct-vanilla-full.yaml\"\n",
    "    }\n",
    ")\n",
    "\n",
    "# fit or train\n",
    "pytorch_estimator.fit(\n",
    "    {\"training\": uploaded_s3_uri}, \n",
    "    wait=False\n",
    ")"
   ]
  },
  {
   "cell_type": "code",
   "execution_count": null,
   "id": "243825cd",
   "metadata": {},
   "outputs": [],
   "source": [
    "s3_model_data_uri = pytorch_estimator.model_data\n",
    "print(f\"Fine-tuned model location: {s3_model_data_uri}\")"
   ]
  }
 ],
 "metadata": {
  "kernelspec": {
   "display_name": "Python 3 (ipykernel)",
   "language": "python",
   "name": "python3"
  },
  "language_info": {
   "codemirror_mode": {
    "name": "ipython",
    "version": 3
   },
   "file_extension": ".py",
   "mimetype": "text/x-python",
   "name": "python",
   "nbconvert_exporter": "python",
   "pygments_lexer": "ipython3",
   "version": "3.10.14"
  }
 },
 "nbformat": 4,
 "nbformat_minor": 5
}
