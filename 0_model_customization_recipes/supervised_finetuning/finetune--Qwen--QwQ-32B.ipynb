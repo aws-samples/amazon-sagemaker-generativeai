{
 "cells": [
  {
   "cell_type": "markdown",
   "id": "e60b91a9-7d9c-4c45-be0f-5a224581f644",
   "metadata": {},
   "source": [
    "# 🚀 Customize and Deploy `Qwen/QwQ-32B` on Amazon SageMaker AI\n",
    "---\n",
    "In this notebook, we explore **QwQ-32B**, a 32-billion-parameter reasoning model from Alibaba’s Qwen series. You’ll learn how to fine-tune it on sample data, evaluate its reasoning, math, and coding capabilities, and deploy it at scale with SageMaker.\n",
    "\n",
    "**What is QwQ-32B?**\n",
    "\n",
    "QwQ-32B is the medium-sized reasoning model in the Qwen family. It is pretrained and post-trained using both supervised fine-tuning and reinforcement learning. The model excels at logical, multi-step reasoning tasks, competitive against models much larger in size. It is released under the **Apache-2.0 license** and is fully open-weight.  \n",
    "🔗 Model card: [Qwen/QwQ-32B on Hugging Face](https://huggingface.co/Qwen/QwQ-32B)\n",
    "\n",
    "---\n",
    "\n",
    "**Key Specifications**\n",
    "\n",
    "| Feature | Details |\n",
    "|---|---|\n",
    "| **Parameters** | ≈ 32.5 billion total parameters; ≈ 31 billion non-embedding parameters |\n",
    "| **Architecture** | Transformer with RoPE embeddings, SwiGLU activation, RMSNorm, and QKV attention bias |\n",
    "| **Attention Heads / GQA** | Grouped-Query Attention: 40 heads for Q, 8 heads for K/V |\n",
    "| **Layers** | 64 layers |\n",
    "| **Context Length** | Up to **131,072 tokens** |\n",
    "| **Modalities** | Text-in / Text-out only (no vision) |\n",
    "| **License** | Apache-2.0 |\n",
    "\n",
    "---\n",
    "\n",
    "**Benchmarks & Behavior**\n",
    "\n",
    "- QwQ-32B shows strong performance on **mathematical reasoning, coding, and logical reasoning** benchmarks.  \n",
    "- In many tests, it comes close to or matches much larger reasoning models despite being significantly smaller.  \n",
    "- Designed for **agent-style tasks**, with improved tool use, instruction following, and long-context reasoning.  \n",
    "\n",
    "---\n",
    "\n",
    "**Using This Notebook**\n",
    "\n",
    "Here’s what you’ll cover:\n",
    "\n",
    "* Load a sample dataset from Hugging Face and prepare it for fine-tuning  \n",
    "* Fine-tune with SageMaker Training Jobs  \n",
    "* Run Model Evaluation  \n",
    "* Deploy to SageMaker Endpoints  "
   ]
  },
  {
   "cell_type": "code",
   "execution_count": 1,
   "id": "0ce40054-610a-4acc-a546-943893f293c1",
   "metadata": {},
   "outputs": [],
   "source": [
    "%pip install -Uq sagemaker datasets"
   ]
  },
  {
   "cell_type": "code",
   "execution_count": 2,
   "id": "b791e72e-82b5-4f8e-a7fe-700e8afdeba5",
   "metadata": {},
   "outputs": [],
   "source": [
    "import boto3\n",
    "import sagemaker\n",
    "from PIL import Image\n",
    "import torch"
   ]
  },
  {
   "cell_type": "code",
   "execution_count": 3,
   "id": "23c673a9-5b9f-47e0-92cf-bb97486b3e1a",
   "metadata": {},
   "outputs": [],
   "source": [
    "region = boto3.Session().region_name\n",
    "\n",
    "from sagemaker.local import LocalSession \n",
    "sess = LocalSession() #sagemaker.Session(boto3.Session(region_name=region))\n",
    "sess.config = {\"local\": {\"local_code\": True}}\n",
    "\n",
    "sagemaker_session_bucket = None\n",
    "if sagemaker_session_bucket is None and sess is not None:\n",
    "    # set to default bucket if a bucket name is not given\n",
    "    sagemaker_session_bucket = sess.default_bucket()\n",
    "\n",
    "role = sagemaker.get_execution_role()"
   ]
  },
  {
   "cell_type": "code",
   "execution_count": 4,
   "id": "d9786901-b012-41ff-a98a-b16e5f60ec9c",
   "metadata": {},
   "outputs": [],
   "source": [
    "print(f\"sagemaker role arn: {role}\")\n",
    "print(f\"sagemaker bucket: {sess.default_bucket()}\")\n",
    "print(f\"sagemaker session region: {sess.boto_region_name}\")"
   ]
  },
  {
   "cell_type": "markdown",
   "id": "145954cd",
   "metadata": {},
   "source": [
    "## Data Preparation for Supervised Fine-tuning"
   ]
  },
  {
   "cell_type": "markdown",
   "id": "d1bdc257",
   "metadata": {},
   "source": [
    "### [NuminaMath-CoT](https://huggingface.co/datasets/AI-MO/NuminaMath-CoT)\n",
    "\n",
    "**NuminaMath-CoT** is a large-scale dataset of **~860,000+ math competition question-solution pairs**, designed to support chain-of-thought reasoning in mathematical problem solving.\n",
    "\n",
    "**Data Format & Structure**:\n",
    "- Each example is a question followed by a solution; the solution is formatted with detailed **Chain-of-Thought (CoT)** reasoning.  \n",
    "- The data sources include *Chinese high school math exercises*, *US and international mathematics competition problems*, *online test-papers PDFs*, and *math discussion forums*.  \n",
    "- Preprocessing includes OCR from PDFs, segmentation to extract problem-solution pairs, translation into English, alignment into CoT style, and formatting of final answers.  \n",
    "\n",
    "**License**: Released under the **Apache-2.0** license.  \n",
    "\n",
    "**Applications**:\n",
    "\n",
    "This dataset is useful for training and evaluating models on tasks including:  \n",
    "- Complex math problem solving with reasoning steps (algebra, geometry, number theory, etc.)  \n",
    "- Benchmarking chain-of-thought performance of LLMs on competition-level math tasks  \n",
    "- Educational tools and tutoring systems that require explainable math solutions  \n",
    "- Fine-tuning models to improve consistency, reasoning depth, and accuracy in mathematical domains  \n"
   ]
  },
  {
   "cell_type": "code",
   "execution_count": null,
   "id": "cc26be5c",
   "metadata": {},
   "outputs": [],
   "source": [
    "import os\n",
    "import json\n",
    "import pprint\n",
    "from tqdm import tqdm\n",
    "from datasets import load_dataset"
   ]
  },
  {
   "cell_type": "code",
   "execution_count": null,
   "id": "052b31a1",
   "metadata": {},
   "outputs": [],
   "source": [
    "dataset_parent_path = os.path.join(os.getcwd(), \"tmp_cache_local_dataset\")\n",
    "os.makedirs(dataset_parent_path, exist_ok=True)"
   ]
  },
  {
   "cell_type": "markdown",
   "id": "baed7366",
   "metadata": {},
   "source": [
    "**Preparing Your Dataset in `messages` format**\n",
    "\n",
    "This section walks you through creating a conversation-style dataset—the required `messages` format—for directly training LLMs using SageMaker AI.\n",
    "\n",
    "**What Is the `messages` Format?**\n",
    "\n",
    "The `messages` format structures instances as chat-like exchanges, wrapping each conversation turn into a role-labeled JSON array. It’s widely used by frameworks like TRL.\n",
    "\n",
    "Example entry:\n",
    "\n",
    "```json\n",
    "{\n",
    "  \"messages\": [\n",
    "    { \"role\": \"system\", \"content\": \"You are a helpful assistant.\" },\n",
    "    { \"role\": \"user\", \"content\": \"How do I bake sourdough?\" },\n",
    "    { \"role\": \"assistant\", \"content\": \"First, you need to create a starter by...\" }\n",
    "  ]\n",
    "}\n"
   ]
  },
  {
   "cell_type": "code",
   "execution_count": null,
   "id": "a3921310",
   "metadata": {},
   "outputs": [],
   "source": [
    "dataset_name = \"AI-MO/NuminaMath-CoT\"\n",
    "dataset = load_dataset(dataset_name, split=\"train[:1000]\")"
   ]
  },
  {
   "cell_type": "code",
   "execution_count": null,
   "id": "c3ee8fbe",
   "metadata": {},
   "outputs": [],
   "source": [
    "pprint.pp(dataset[0])"
   ]
  },
  {
   "cell_type": "code",
   "execution_count": null,
   "id": "773ec6b6",
   "metadata": {},
   "outputs": [],
   "source": [
    "print(f\"total number of fine-tunable samples: {len(dataset)}\")"
   ]
  },
  {
   "cell_type": "code",
   "execution_count": null,
   "id": "025f7f74",
   "metadata": {},
   "outputs": [],
   "source": [
    "def convert_to_messages_reasoning(row):\n",
    "    system_content = \"You are a mathematical reasoning assistant. Read the problem, restate the key givens and goal, then solve step-by-step with clear algebra (use LaTeX), keeping exact arithmetic (fractions/surds) and justifying each transformation (e.g., equal differences for arithmetic sequences). Verify any domain or extraneous-solution constraints, and present the final simplified answer concisely on the last line.\"\n",
    "    \n",
    "    messages_user_row = row[\"messages\"][0]\n",
    "    assert messages_user_row[\"role\"] == \"user\", f\"user row unmatched\"\n",
    "    user_content = messages_user_row[\"content\"]\n",
    "    \n",
    "    messages_assistant_row = row[\"messages\"][1]\n",
    "    assert messages_assistant_row[\"role\"] == \"assistant\", f\"assistant row unmatched\"\n",
    "    assistant_content = messages_assistant_row[\"content\"]\n",
    "\n",
    "    think_block = f\"<think>{row['solution']}</think>\"\n",
    "    \n",
    "    return {\n",
    "        \"messages\": [\n",
    "            { \"role\": \"system\", \"content\": system_content},\n",
    "            { \"role\": \"user\", \"content\": user_content },\n",
    "            { \"role\": \"assistant\", \"content\": f\"{think_block}\\n\\n{assistant_content}\" }\n",
    "        ]\n",
    "    }\n",
    "    \n",
    "    \n",
    "dataset = dataset.map(convert_to_messages_reasoning, remove_columns=dataset.column_names)"
   ]
  },
  {
   "cell_type": "code",
   "execution_count": null,
   "id": "0434ac7a",
   "metadata": {},
   "outputs": [],
   "source": [
    "dataset_filename = os.path.join(dataset_parent_path, f\"{dataset_name.replace('/', '--').replace('.', '-')}.jsonl\")\n",
    "dataset.to_json(dataset_filename, lines=True)"
   ]
  },
  {
   "cell_type": "markdown",
   "id": "afc8bf70",
   "metadata": {},
   "source": [
    "#### Upload file to S3"
   ]
  },
  {
   "cell_type": "code",
   "execution_count": null,
   "id": "72c9686a",
   "metadata": {},
   "outputs": [],
   "source": [
    "from sagemaker.s3 import S3Uploader"
   ]
  },
  {
   "cell_type": "code",
   "execution_count": null,
   "id": "819d2e5d",
   "metadata": {},
   "outputs": [],
   "source": [
    "data_s3_uri = f\"s3://{sess.default_bucket()}/dataset\"\n",
    "\n",
    "uploaded_s3_uri = S3Uploader.upload(\n",
    "    local_path=dataset_filename,\n",
    "    desired_s3_uri=data_s3_uri\n",
    ")\n",
    "print(f\"Uploaded {dataset_filename} to > {uploaded_s3_uri}\")"
   ]
  },
  {
   "cell_type": "markdown",
   "id": "eafb0000",
   "metadata": {},
   "source": [
    "## Fine-Tune LLMs using SageMaker `Estimator`/`ModelTrainer`"
   ]
  },
  {
   "cell_type": "code",
   "execution_count": null,
   "id": "f80210ca",
   "metadata": {},
   "outputs": [],
   "source": [
    "import time\n",
    "from sagemaker.pytorch import PyTorch\n",
    "from getpass import getpass\n",
    "import yaml\n",
    "from jinja2 import Template"
   ]
  },
  {
   "cell_type": "code",
   "execution_count": null,
   "id": "cc62cd9b",
   "metadata": {},
   "outputs": [],
   "source": [
    "hf_token = getpass()"
   ]
  },
  {
   "cell_type": "markdown",
   "id": "9f3d2e06",
   "metadata": {},
   "source": [
    "### Training using `PyTorch` Estimator\n",
    "\n",
    "**Training Using `PyTorch` Estimator**\n",
    "Leverages the official PyTorch SageMaker container to run a custom training script using the Accelerate and DeepSpeed libraries. This option is ideal for users who want full control over the training pipeline \n",
    "\n",
    "---\n",
    "**Observability**: SageMaker AI has [SageMaker MLflow](https://docs.aws.amazon.com/sagemaker/latest/dg/mlflow.html) which enables you to accelerate generative AI by making it easier to track experiments and monitor performance of models and AI applications using a single tool.\n",
    "\n",
    "You can choose to include MLflow as a part of your training workflow to track your model fine-tuning metrics in realtime by simply specifying a **mlflow** tracking arn.\n",
    "\n",
    "Optionally you can also report to : **tensorboard**, **wandb**."
   ]
  },
  {
   "cell_type": "code",
   "execution_count": null,
   "id": "bd327996",
   "metadata": {},
   "outputs": [],
   "source": [
    "MLFLOW_TRACKING_SERVER_ARN = None # or \"arn:aws:sagemaker:us-west-2:<account-id>:mlflow-tracking-server/<server-name>\"\n",
    "\n",
    "if MLFLOW_TRACKING_SERVER_ARN:\n",
    "    reports_to = \"mlflow\"\n",
    "else:\n",
    "    reports_to = \"tensorboard\""
   ]
  },
  {
   "cell_type": "code",
   "execution_count": null,
   "id": "a6ff69ae",
   "metadata": {},
   "outputs": [],
   "source": [
    "job_name = 'Qwen--Qwen2.5-3B-Instruct'\n",
    "training_instance_type = \"local_gpu\""
   ]
  },
  {
   "cell_type": "code",
   "execution_count": null,
   "id": "8d1f65b3",
   "metadata": {},
   "outputs": [],
   "source": [
    "if MLFLOW_TRACKING_SERVER_ARN:\n",
    "    training_env = {\n",
    "        \"MLFLOW_EXPERIMENT_NAME\": f\"exp-{job_name}\",\n",
    "        \"MLFLOW_TAGS\": '{\"source.job\": \"sm-training-jobs\", \"source.type\": \"sft\", \"source.framework\": \"pytorch\"}',\n",
    "        \"HF_TOKEN\": hf_token,\n",
    "        \"MLFLOW_TRACKING_URI\": MLFLOW_TRACKING_SERVER_ARN,\n",
    "    }\n",
    "else:\n",
    "    training_env = {\n",
    "        \"HF_TOKEN\": hf_token\n",
    "    }"
   ]
  },
  {
   "cell_type": "code",
   "execution_count": null,
   "id": "7c7868fb",
   "metadata": {},
   "outputs": [],
   "source": [
    "pytorch_image_uri = f\"763104351884.dkr.ecr.{region}.amazonaws.com/pytorch-training:2.8.0-gpu-py312-cu129-ubuntu22.04-sagemaker\"\n",
    "print(f\"Using image: {pytorch_image_uri}\")"
   ]
  },
  {
   "cell_type": "markdown",
   "id": "0fe43f9a",
   "metadata": {},
   "source": [
    "#### Training strategy: `PeFT/LoRA`"
   ]
  },
  {
   "cell_type": "code",
   "execution_count": null,
   "id": "4a32ecd8",
   "metadata": {},
   "outputs": [],
   "source": [
    "pytorch_estimator = PyTorch(\n",
    "    image_uri=pytorch_image_uri,\n",
    "    entry_point=\"sm_accelerate_train.sh\", # Adapted bash script to train using accelerate on SageMaker - Multi-GPU\n",
    "    source_dir=\"sagemaker_code\",\n",
    "    instance_type=training_instance_type,\n",
    "    instance_count=1,\n",
    "    base_job_name=f\"{job_name}-pytorch\",\n",
    "    role=role,\n",
    "    volume_size=300,\n",
    "    py_version=\"py312\",\n",
    "    keep_alive_period_in_seconds=3600,\n",
    "    environment=training_env,\n",
    "    sagemaker_session=sess,\n",
    "    hyperparameters={\n",
    "        \"config\": \"hf_recipes/Qwen/QwQ-32B--vanilla-peft-qlora.yaml\"\n",
    "    }\n",
    ")\n",
    "\n",
    "# fit or train\n",
    "pytorch_estimator.fit(\n",
    "    {\"training\": uploaded_s3_uri}, \n",
    "    wait=False\n",
    ")"
   ]
  },
  {
   "cell_type": "code",
   "execution_count": null,
   "id": "23aecced",
   "metadata": {},
   "outputs": [],
   "source": [
    "s3_model_data_uri = pytorch_estimator.model_data\n",
    "print(f\"Fine-tuned model location: {s3_model_data_uri}\")"
   ]
  },
  {
   "cell_type": "markdown",
   "id": "6839b611",
   "metadata": {},
   "source": [
    "#### Training strategy: `Spectrum`"
   ]
  },
  {
   "cell_type": "code",
   "execution_count": null,
   "id": "e5b5fa7d",
   "metadata": {},
   "outputs": [],
   "source": [
    "pytorch_estimator = PyTorch(\n",
    "    image_uri=pytorch_image_uri,\n",
    "    entry_point=\"sm_accelerate_train.sh\", # Adapted bash script to train using accelerate on SageMaker - Multi-GPU\n",
    "    source_dir=\"sagemaker_code\",\n",
    "    instance_type=training_instance_type,\n",
    "    instance_count=1,\n",
    "    base_job_name=f\"{job_name}-pytorch\",\n",
    "    role=role,\n",
    "    volume_size=300,\n",
    "    py_version=\"py312\",\n",
    "    keep_alive_period_in_seconds=3600,\n",
    "    environment=training_env,\n",
    "    sagemaker_session=sess,\n",
    "    hyperparameters={\n",
    "        \"config\": \"hf_recipes/Qwen/QwQ-32B--vanilla-spectrum.yaml\"\n",
    "    }\n",
    ")\n",
    "\n",
    "# fit or train\n",
    "pytorch_estimator.fit(\n",
    "    {\"training\": uploaded_s3_uri}, \n",
    "    wait=False\n",
    ")"
   ]
  },
  {
   "cell_type": "code",
   "execution_count": null,
   "id": "bf77218c",
   "metadata": {},
   "outputs": [],
   "source": [
    "s3_model_data_uri = pytorch_estimator.model_data\n",
    "print(f\"Fine-tuned model location: {s3_model_data_uri}\")"
   ]
  },
  {
   "cell_type": "markdown",
   "id": "db6da361",
   "metadata": {},
   "source": [
    "#### Training strategy: `Full-Finetuning`"
   ]
  },
  {
   "cell_type": "code",
   "execution_count": null,
   "id": "11d7c00e",
   "metadata": {},
   "outputs": [],
   "source": [
    "pytorch_estimator = PyTorch(\n",
    "    image_uri=pytorch_image_uri,\n",
    "    entry_point=\"sm_accelerate_train.sh\", # Adapted bash script to train using accelerate on SageMaker - Multi-GPU\n",
    "    source_dir=\"sagemaker_code\",\n",
    "    instance_type=training_instance_type,\n",
    "    instance_count=1,\n",
    "    base_job_name=f\"{job_name}-pytorch\",\n",
    "    role=role,\n",
    "    volume_size=300,\n",
    "    py_version=\"py312\",\n",
    "    keep_alive_period_in_seconds=3600,\n",
    "    environment=training_env,\n",
    "    sagemaker_session=sess,\n",
    "    hyperparameters={\n",
    "        \"config\": \"hf_recipes/Qwen/QwQ-32B--vanilla-full.yaml\"\n",
    "    }\n",
    ")\n",
    "\n",
    "# fit or train\n",
    "pytorch_estimator.fit(\n",
    "    {\"training\": uploaded_s3_uri}, \n",
    "    wait=False\n",
    ")"
   ]
  },
  {
   "cell_type": "code",
   "execution_count": null,
   "id": "243825cd",
   "metadata": {},
   "outputs": [],
   "source": [
    "s3_model_data_uri = pytorch_estimator.model_data\n",
    "print(f\"Fine-tuned model location: {s3_model_data_uri}\")"
   ]
  }
 ],
 "metadata": {
  "kernelspec": {
   "display_name": "Python 3 (ipykernel)",
   "language": "python",
   "name": "python3"
  },
  "language_info": {
   "codemirror_mode": {
    "name": "ipython",
    "version": 3
   },
   "file_extension": ".py",
   "mimetype": "text/x-python",
   "name": "python",
   "nbconvert_exporter": "python",
   "pygments_lexer": "ipython3",
   "version": "3.10.14"
  }
 },
 "nbformat": 4,
 "nbformat_minor": 5
}
