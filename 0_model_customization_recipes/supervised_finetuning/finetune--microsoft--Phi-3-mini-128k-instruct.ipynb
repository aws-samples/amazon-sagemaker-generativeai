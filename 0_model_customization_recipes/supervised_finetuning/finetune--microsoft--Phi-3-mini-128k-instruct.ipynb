{
 "cells": [
  {
   "cell_type": "markdown",
   "id": "e60b91a9-7d9c-4c45-be0f-5a224581f644",
   "metadata": {},
   "source": [
    "# 🚀 Customize and Deploy `microsoft/Phi-3-mini-128k-instruct` on Amazon SageMaker AI\n",
    "---\n",
    "In this notebook, we explore **Phi-3-mini-128k-instruct**, a compact yet powerful instruction-tuned model from Microsoft's Phi-3 family. You'll learn how to fine-tune it on your data, evaluate its performance, and deploy it using SageMaker for efficient inference.\n",
    "\n",
    "**What is Phi-3-mini-128k-instruct?**\n",
    "\n",
    "Microsoft's **Phi-3-mini-128k-instruct** is a 3.8-billion-parameter language model that punches above its weight class. Despite its compact size, it delivers impressive performance on reasoning, coding, and instruction-following tasks. The model features an extended **128K context window**, making it ideal for long-document processing and complex reasoning chains.  \n",
    "🔗 Model card: [microsoft/Phi-3-mini-128k-instruct on Hugging Face](https://huggingface.co/microsoft/Phi-3-mini-128k-instruct)\n",
    "\n",
    "---\n",
    "\n",
    "**Key Specifications**\n",
    "\n",
    "| Feature | Details |\n",
    "|---|---|\n",
    "| **Parameters** | ~3.8 billion |\n",
    "| **Architecture** | Transformer with optimized attention mechanisms |\n",
    "| **Context Length** | Up to **128,000 tokens** |\n",
    "| **Training Data** | High-quality web data, synthetic data, and filtered academic sources |\n",
    "| **Modalities** | Text-in / Text-out |\n",
    "| **License** | MIT License |\n",
    "| **Optimization** | Designed for efficiency and fast inference |\n",
    "\n",
    "---\n",
    "\n",
    "**Benchmarks & Behavior**\n",
    "\n",
    "- Phi-3-mini demonstrates **exceptional performance per parameter**, often matching larger models on reasoning benchmarks.  \n",
    "- Strong capabilities in **mathematics, coding, common sense reasoning**, and instruction following.  \n",
    "- Optimized for **edge deployment** and resource-constrained environments while maintaining high quality.  \n",
    "- Excellent **multilingual capabilities** with support for multiple languages.  \n",
    "\n",
    "---\n",
    "\n",
    "**Using This Notebook**\n",
    "\n",
    "Here's what you'll cover:\n",
    "\n",
    "* Load a sample dataset from Hugging Face and prepare it for fine-tuning  \n",
    "* Fine-tune with SageMaker Training Jobs using optimized configurations  \n",
    "* Run Model Evaluation on various benchmarks  \n",
    "* Deploy to SageMaker Endpoints for efficient inference  \n",
    "\n",
    "---\n",
    "\n",
    "Let's begin by exploring `microsoft/Phi-3-mini-128k-instruct` and testing its baseline performance.\n"
   ]
  },
  {
   "cell_type": "code",
   "execution_count": 1,
   "id": "0ce40054-610a-4acc-a546-943893f293c1",
   "metadata": {},
   "outputs": [],
   "source": [
    "%pip install -Uq sagemaker datasets"
   ]
  },
  {
   "cell_type": "code",
   "execution_count": 2,
   "id": "b791e72e-82b5-4f8e-a7fe-700e8afdeba5",
   "metadata": {},
   "outputs": [],
   "source": [
    "import boto3\n",
    "import sagemaker"
   ]
  },
  {
   "cell_type": "code",
   "execution_count": 3,
   "id": "23c673a9-5b9f-47e0-92cf-bb97486b3e1a",
   "metadata": {},
   "outputs": [],
   "source": [
    "region = boto3.Session().region_name\n",
    "\n",
    "sess = sagemaker.Session(boto3.Session(region_name=region))\n",
    "\n",
    "sagemaker_session_bucket = None\n",
    "if sagemaker_session_bucket is None and sess is not None:\n",
    "    # set to default bucket if a bucket name is not given\n",
    "    sagemaker_session_bucket = sess.default_bucket()\n",
    "\n",
    "role = sagemaker.get_execution_role()"
   ]
  },
  {
   "cell_type": "code",
   "execution_count": 4,
   "id": "d9786901-b012-41ff-a98a-b16e5f60ec9c",
   "metadata": {},
   "outputs": [],
   "source": [
    "print(f\"sagemaker role arn: {role}\")\n",
    "print(f\"sagemaker bucket: {sess.default_bucket()}\")\n",
    "print(f\"sagemaker session region: {sess.boto_region_name}\")"
   ]
  }
 ],
 "metadata": {
  "kernelspec": {
   "display_name": "Python 3 (ipykernel)",
   "language": "python",
   "name": "python3"
  },
  "language_info": {
   "codemirror_mode": {
    "name": "ipython",
    "version": 3
   },
   "file_extension": ".py",
   "mimetype": "text/x-python",
   "name": "python",
   "nbconvert_exporter": "python",
   "pygments_lexer": "ipython3",
   "version": "3.10.14"
  }
 },
 "nbformat": 4,
 "nbformat_minor": 5
}