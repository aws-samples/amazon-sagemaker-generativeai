{
 "cells": [
  {
   "cell_type": "markdown",
   "id": "e60b91a9-7d9c-4c45-be0f-5a224581f644",
   "metadata": {},
   "source": [
    "# 🚀 Customize and Deploy `Qwen/Qwen3-VL-4B-Instruct` on Amazon SageMaker AI\n",
    "\n",
    "---\n",
    "\n",
    "In this notebook, we explore **Qwen3-VL-4B-Instruct**, a ~4-billion-parameter vision-language instruction-tuned model from Alibaba’s Qwen3 “VL” series. You’ll learn how to fine-tune it with image + text instruction workflows, evaluate its vision-language output performance, and deploy it via SageMaker for multimodal assistant use cases.\n",
    "\n",
    "**What is Qwen3-VL-4B-Instruct?**\n",
    "Qwen3-VL-4B-Instruct is a vision-language (“VL”) variant of the Qwen3 model family, tuned for instruction-following tasks that involve image (and text) inputs and text outputs. The “4B” denotes the parameter scale (~4 billion), and “Instruct” signals it is optimized for human-instruction compatibility. The broader Qwen3 model family is open-weight and released under the **Apache-2.0** license.\n",
    "\n",
    "---\n",
    "\n",
    "**Key Specifications**\n",
    "\n",
    "| Feature                   | Details                                                                          |\n",
    "| ------------------------- | -------------------------------------------------------------------------------- |\n",
    "| **Parameters**            | ~4 billion                                                                       |\n",
    "| **Modalities**            | Image + Text input → Text output                                                 |\n",
    "| **Context / Window Size** | Large text context (e.g., 32 K+ tokens) combined with vision inputs              |\n",
    "| **Architecture**          | Dense Transformer backbone + vision encoder front end + instruction-tuned output |\n",
    "| **License**               | Apache-2.0                                                                       |\n",
    "\n",
    "---\n",
    "\n",
    "**Benchmarks & Behavior**\n",
    "\n",
    "* The Qwen3 series reports strong performance across vision-language reasoning, multilingual understanding, and instruction-following.\n",
    "* At the ~4B scale, this model offers a strong balance of **capability vs efficiency**, delivering vision-language assistant functionality at moderate hardware cost.\n",
    "* Ideal for tasks where image comprehension + instruction-based response is required, such as visual question answering, image-guided advice, captioning with user queries.\n",
    "\n",
    "---\n",
    "\n",
    "**Using This Notebook**\n",
    "\n",
    "Here’s what you’ll cover:\n",
    "\n",
    "* Load a sample image + instruction dataset from Hugging Face and prepare it for fine-tuning\n",
    "* Fine-tune with SageMaker Training Jobs\n",
    "* Run model evaluation (vision + instruction tasks)\n",
    "* Deploy to SageMaker Endpoints\n"
   ]
  },
  {
   "cell_type": "code",
   "execution_count": 1,
   "id": "0ce40054-610a-4acc-a546-943893f293c1",
   "metadata": {},
   "outputs": [],
   "source": [
    "# %pip install -Uq sagemaker datasets"
   ]
  },
  {
   "cell_type": "code",
   "execution_count": 2,
   "id": "b791e72e-82b5-4f8e-a7fe-700e8afdeba5",
   "metadata": {},
   "outputs": [
    {
     "name": "stdout",
     "output_type": "stream",
     "text": [
      "sagemaker.config INFO - Not applying SDK defaults from location: /etc/xdg/sagemaker/config.yaml\n",
      "sagemaker.config INFO - Not applying SDK defaults from location: /home/ubuntu/.config/sagemaker/config.yaml\n"
     ]
    }
   ],
   "source": [
    "import boto3\n",
    "import sagemaker"
   ]
  },
  {
   "cell_type": "code",
   "execution_count": 3,
   "id": "23c673a9-5b9f-47e0-92cf-bb97486b3e1a",
   "metadata": {},
   "outputs": [],
   "source": [
    "region = boto3.Session().region_name\n",
    "\n",
    "from sagemaker.local import LocalSession \n",
    "sess = LocalSession() #sagemaker.Session(boto3.Session(region_name=region))\n",
    "sess.config = {\"local\": {\"local_code\": True}}\n",
    "\n",
    "sagemaker_session_bucket = None\n",
    "if sagemaker_session_bucket is None and sess is not None:\n",
    "    # set to default bucket if a bucket name is not given\n",
    "    sagemaker_session_bucket = sess.default_bucket()\n",
    "\n",
    "role = sagemaker.get_execution_role()"
   ]
  },
  {
   "cell_type": "code",
   "execution_count": 4,
   "id": "d9786901-b012-41ff-a98a-b16e5f60ec9c",
   "metadata": {},
   "outputs": [
    {
     "name": "stdout",
     "output_type": "stream",
     "text": [
      "sagemaker role arn: arn:aws:iam::811828458885:role/Admin\n",
      "sagemaker bucket: sagemaker-us-east-1-811828458885\n",
      "sagemaker session region: us-east-1\n"
     ]
    }
   ],
   "source": [
    "print(f\"sagemaker role arn: {role}\")\n",
    "print(f\"sagemaker bucket: {sess.default_bucket()}\")\n",
    "print(f\"sagemaker session region: {sess.boto_region_name}\")"
   ]
  },
  {
   "cell_type": "markdown",
   "id": "c7b2bf05-a59f-43f5-ad2a-8279d3ab8f1c",
   "metadata": {},
   "source": [
    "## Data Preparation for Supervised Fine-tuning"
   ]
  },
  {
   "cell_type": "markdown",
   "id": "a6ad12e3-c97a-4fde-a16e-3db093b318c1",
   "metadata": {},
   "source": [
    "### [DoclingMatix](https://huggingface.co/datasets/HuggingFaceM4/DoclingMatix)\n",
    "\n",
    "**DoclingMatix** is a large-scale, multimodal dataset designed for document-intelligence tasks involving vision + instruction-tuned structured output. Built by augmenting the original Docmatix dataset, DoclingMatix converts each document image and QA pair into an instruction-based format for document conversion or visual question answering.\n",
    "\n",
    "**Data Format & Structure**:\n",
    "\n",
    "* Distributed in **Parquet** and/or **JSONL** formats.\n",
    "* Contains a single `train` split with approximately **1,270,911** samples.\n",
    "* Each record includes:\n",
    "\n",
    "  * `images` – one or more images of the document page(s)\n",
    "  * `instruction` – a natural-language prompt specifying the desired conversion or QA task (e.g., “Convert this page into structured DocTag format” or “Answer the question about the document”)\n",
    "  * `response` – the target output (structured text or answer)\n",
    "\n",
    "**License**: Released under the terms indicated on the Hugging Face dataset page (please verify before use).\n",
    "\n",
    "**Applications**:\n",
    "\n",
    "The dataset can support a variety of document-intelligence tasks, including:\n",
    "\n",
    "* Instruction-tuned document conversion (image + instruction → structured text)\n",
    "* Document visual question answering (DocVQA) and document understanding workflows\n",
    "* Training vision–language models that parse document layouts and generate structured outputs\n",
    "* Fine-tuning multimodal assistants or agents for enterprises, knowledge work, and document automation\n"
   ]
  },
  {
   "cell_type": "code",
   "execution_count": 5,
   "id": "edcd6608-a09f-4521-8ac8-36ec94cc76b3",
   "metadata": {},
   "outputs": [],
   "source": [
    "import os\n",
    "import io\n",
    "import base64\n",
    "import json\n",
    "import pprint\n",
    "from tqdm import tqdm\n",
    "from datasets import load_dataset"
   ]
  },
  {
   "cell_type": "code",
   "execution_count": 6,
   "id": "ca9a6564-4a41-4d05-a550-e43784cb2901",
   "metadata": {},
   "outputs": [],
   "source": [
    "dataset_parent_path = os.path.join(os.getcwd(), \"tmp_cache_local_dataset\")\n",
    "os.makedirs(dataset_parent_path, exist_ok=True)"
   ]
  },
  {
   "cell_type": "markdown",
   "id": "b0d27052-23fd-4a8b-863b-06b325be7502",
   "metadata": {},
   "source": [
    "**Preparing Your Dataset in `messages` format**\n",
    "\n",
    "This section walks you through creating a conversation-style dataset—the required `messages` format—for directly training LLMs using SageMaker AI.\n",
    "\n",
    "**What Is the `messages` Format?**\n",
    "\n",
    "The `messages` format structures instances as chat-like exchanges, wrapping each conversation turn into a role-labeled JSON array. It’s widely used by frameworks like TRL.\n",
    "\n",
    "Example entry:\n",
    "\n",
    "```json\n",
    "{\n",
    "  \"messages\": [\n",
    "    { \"role\": \"system\", \"content\": \"You are a helpful assistant.\" },\n",
    "    { \"role\": \"user\", \"content\": \"How do I bake sourdough?\" },\n",
    "    { \"role\": \"assistant\", \"content\": \"First, you need to create a starter by...\" }\n",
    "  ]\n",
    "}\n"
   ]
  },
  {
   "cell_type": "code",
   "execution_count": 7,
   "id": "27099587-c67f-4268-bbad-ad881dc78b35",
   "metadata": {},
   "outputs": [],
   "source": [
    "os.environ[\"HF_HOME_CACHE\"]=\"/opt/dlami/nvme/pranavvm-tmp/\""
   ]
  },
  {
   "cell_type": "code",
   "execution_count": 8,
   "id": "3c962155-197b-447a-99ad-de6642153d48",
   "metadata": {
    "scrolled": true
   },
   "outputs": [
    {
     "data": {
      "application/vnd.jupyter.widget-view+json": {
       "model_id": "b8b8555380434bc79d4d70499b932a4e",
       "version_major": 2,
       "version_minor": 0
      },
      "text/plain": [
       "Resolving data files:   0%|          | 0/1104 [00:00<?, ?it/s]"
      ]
     },
     "metadata": {},
     "output_type": "display_data"
    },
    {
     "data": {
      "application/vnd.jupyter.widget-view+json": {
       "model_id": "a4897a15701d411189d29a482127a9c4",
       "version_major": 2,
       "version_minor": 0
      },
      "text/plain": [
       "Downloading data:   0%|          | 0/1104 [00:00<?, ?files/s]"
      ]
     },
     "metadata": {},
     "output_type": "display_data"
    },
    {
     "data": {
      "application/vnd.jupyter.widget-view+json": {
       "model_id": "3f02e7006b9c4175b87575890ace1259",
       "version_major": 2,
       "version_minor": 0
      },
      "text/plain": [
       "train-00000-of-01106-8ce5201aa40b0141.pa(…):   0%|          | 0.00/798M [00:00<?, ?B/s]"
      ]
     },
     "metadata": {},
     "output_type": "display_data"
    },
    {
     "data": {
      "application/vnd.jupyter.widget-view+json": {
       "model_id": "71141217cdbf4b29a1cd595a327cd423",
       "version_major": 2,
       "version_minor": 0
      },
      "text/plain": [
       "train-00001-of-01106-97f9db5e7314e467.pa(…):   0%|          | 0.00/782M [00:00<?, ?B/s]"
      ]
     },
     "metadata": {},
     "output_type": "display_data"
    },
    {
     "data": {
      "application/vnd.jupyter.widget-view+json": {
       "model_id": "a0c4f580c9f446fc9b96c20652a36c58",
       "version_major": 2,
       "version_minor": 0
      },
      "text/plain": [
       "train-00002-of-01106-2df0467087cd12cb.pa(…):   0%|          | 0.00/801M [00:00<?, ?B/s]"
      ]
     },
     "metadata": {},
     "output_type": "display_data"
    },
    {
     "data": {
      "application/vnd.jupyter.widget-view+json": {
       "model_id": "2eacfa9e16d4483da21012ed7b2caab4",
       "version_major": 2,
       "version_minor": 0
      },
      "text/plain": [
       "train-00003-of-01106-2bdb0522e322f17c.pa(…):   0%|          | 0.00/836M [00:00<?, ?B/s]"
      ]
     },
     "metadata": {},
     "output_type": "display_data"
    },
    {
     "data": {
      "application/vnd.jupyter.widget-view+json": {
       "model_id": "d90ce6f930894c56b0a3f19bff338585",
       "version_major": 2,
       "version_minor": 0
      },
      "text/plain": [
       "train-00004-of-01106-0c340d9a64fe9b09.pa(…):   0%|          | 0.00/823M [00:00<?, ?B/s]"
      ]
     },
     "metadata": {},
     "output_type": "display_data"
    },
    {
     "data": {
      "application/vnd.jupyter.widget-view+json": {
       "model_id": "67a0ef6db0044197986c3c95cb13b1f2",
       "version_major": 2,
       "version_minor": 0
      },
      "text/plain": [
       "train-00005-of-01106-eb9495f3368dc674.pa(…):   0%|          | 0.00/813M [00:00<?, ?B/s]"
      ]
     },
     "metadata": {},
     "output_type": "display_data"
    },
    {
     "data": {
      "application/vnd.jupyter.widget-view+json": {
       "model_id": "168a63af12b74ca6b00d744ffecac359",
       "version_major": 2,
       "version_minor": 0
      },
      "text/plain": [
       "train-00006-of-01106-886d145d25483785.pa(…):   0%|          | 0.00/853M [00:00<?, ?B/s]"
      ]
     },
     "metadata": {},
     "output_type": "display_data"
    },
    {
     "data": {
      "application/vnd.jupyter.widget-view+json": {
       "model_id": "57d191acc1464160a586c2a9a4935d6f",
       "version_major": 2,
       "version_minor": 0
      },
      "text/plain": [
       "train-00007-of-01106-9d4daa5599858f25.pa(…):   0%|          | 0.00/821M [00:00<?, ?B/s]"
      ]
     },
     "metadata": {},
     "output_type": "display_data"
    },
    {
     "data": {
      "application/vnd.jupyter.widget-view+json": {
       "model_id": "865b75f4aea0444c8cc65c5a83d2c2f5",
       "version_major": 2,
       "version_minor": 0
      },
      "text/plain": [
       "train-00008-of-01106-63ced42496e0d2a8.pa(…):   0%|          | 0.00/808M [00:00<?, ?B/s]"
      ]
     },
     "metadata": {},
     "output_type": "display_data"
    },
    {
     "data": {
      "application/vnd.jupyter.widget-view+json": {
       "model_id": "e71ff106cdf94f8f87f8c581cbd8b349",
       "version_major": 2,
       "version_minor": 0
      },
      "text/plain": [
       "train-00009-of-01106-c64833d4e011fb12.pa(…):   0%|          | 0.00/894M [00:00<?, ?B/s]"
      ]
     },
     "metadata": {},
     "output_type": "display_data"
    },
    {
     "data": {
      "application/vnd.jupyter.widget-view+json": {
       "model_id": "e83e3d45516c4039bab46e691bb1cf4e",
       "version_major": 2,
       "version_minor": 0
      },
      "text/plain": [
       "train-00010-of-01106-68ed55e7b9f347da.pa(…):   0%|          | 0.00/832M [00:00<?, ?B/s]"
      ]
     },
     "metadata": {},
     "output_type": "display_data"
    },
    {
     "data": {
      "application/vnd.jupyter.widget-view+json": {
       "model_id": "f57e0e4c967a4b0197c7abfe90f50a41",
       "version_major": 2,
       "version_minor": 0
      },
      "text/plain": [
       "train-00011-of-01106-a3c35de9d47aff6d.pa(…):   0%|          | 0.00/788M [00:00<?, ?B/s]"
      ]
     },
     "metadata": {},
     "output_type": "display_data"
    },
    {
     "data": {
      "application/vnd.jupyter.widget-view+json": {
       "model_id": "e57a68973e6843c69164601acba86fef",
       "version_major": 2,
       "version_minor": 0
      },
      "text/plain": [
       "train-00012-of-01106-a8759b0b373a24f1.pa(…):   0%|          | 0.00/836M [00:00<?, ?B/s]"
      ]
     },
     "metadata": {},
     "output_type": "display_data"
    },
    {
     "data": {
      "application/vnd.jupyter.widget-view+json": {
       "model_id": "cab04f59e685458bae29725f8da9d416",
       "version_major": 2,
       "version_minor": 0
      },
      "text/plain": [
       "train-00013-of-01106-ebdff7af1faa1df3.pa(…):   0%|          | 0.00/853M [00:00<?, ?B/s]"
      ]
     },
     "metadata": {},
     "output_type": "display_data"
    },
    {
     "data": {
      "application/vnd.jupyter.widget-view+json": {
       "model_id": "ff16d890dcf3481989c0429a0c312704",
       "version_major": 2,
       "version_minor": 0
      },
      "text/plain": [
       "train-00014-of-01106-90f7fbfc7f51e501.pa(…):   0%|          | 0.00/858M [00:00<?, ?B/s]"
      ]
     },
     "metadata": {},
     "output_type": "display_data"
    },
    {
     "data": {
      "application/vnd.jupyter.widget-view+json": {
       "model_id": "723db76ff1dc4220903384ba7a14d3c8",
       "version_major": 2,
       "version_minor": 0
      },
      "text/plain": [
       "train-00015-of-01106-5a97ed2b3982e8e5.pa(…):   0%|          | 0.00/825M [00:00<?, ?B/s]"
      ]
     },
     "metadata": {},
     "output_type": "display_data"
    },
    {
     "data": {
      "application/vnd.jupyter.widget-view+json": {
       "model_id": "518b10e3e841404b8823672f600db2df",
       "version_major": 2,
       "version_minor": 0
      },
      "text/plain": [
       "train-00016-of-01106-9c55fc3ed5dc3573.pa(…):   0%|          | 0.00/820M [00:00<?, ?B/s]"
      ]
     },
     "metadata": {},
     "output_type": "display_data"
    },
    {
     "data": {
      "application/vnd.jupyter.widget-view+json": {
       "model_id": "ead9cf1213fa496eb632f5f1861a5d77",
       "version_major": 2,
       "version_minor": 0
      },
      "text/plain": [
       "train-00017-of-01106-bdaad1c2f761acff.pa(…):   0%|          | 0.00/825M [00:00<?, ?B/s]"
      ]
     },
     "metadata": {},
     "output_type": "display_data"
    },
    {
     "data": {
      "application/vnd.jupyter.widget-view+json": {
       "model_id": "6b2091c064d74fbc8dffa2da45fc0259",
       "version_major": 2,
       "version_minor": 0
      },
      "text/plain": [
       "train-00018-of-01106-f25eba66277aaf5d.pa(…):   0%|          | 0.00/792M [00:00<?, ?B/s]"
      ]
     },
     "metadata": {},
     "output_type": "display_data"
    },
    {
     "data": {
      "application/vnd.jupyter.widget-view+json": {
       "model_id": "d5e11b1a61374e0fbf19eaecb472141e",
       "version_major": 2,
       "version_minor": 0
      },
      "text/plain": [
       "train-00019-of-01106-42e0dd0f7f226497.pa(…):   0%|          | 0.00/788M [00:00<?, ?B/s]"
      ]
     },
     "metadata": {},
     "output_type": "display_data"
    },
    {
     "data": {
      "application/vnd.jupyter.widget-view+json": {
       "model_id": "c5064b77cb4145deb7384500f10b9f04",
       "version_major": 2,
       "version_minor": 0
      },
      "text/plain": [
       "train-00020-of-01106-dd9a1783af91e2b4.pa(…):   0%|          | 0.00/818M [00:00<?, ?B/s]"
      ]
     },
     "metadata": {},
     "output_type": "display_data"
    },
    {
     "data": {
      "application/vnd.jupyter.widget-view+json": {
       "model_id": "74ec38baea8a47529db03c01e280793e",
       "version_major": 2,
       "version_minor": 0
      },
      "text/plain": [
       "train-00021-of-01106-c80c10e9eb721931.pa(…):   0%|          | 0.00/861M [00:00<?, ?B/s]"
      ]
     },
     "metadata": {},
     "output_type": "display_data"
    },
    {
     "data": {
      "application/vnd.jupyter.widget-view+json": {
       "model_id": "bc30d2b585cd4d4c9f76d0359e2bbd23",
       "version_major": 2,
       "version_minor": 0
      },
      "text/plain": [
       "train-00022-of-01106-064ed960e7326e54.pa(…):   0%|          | 0.00/832M [00:00<?, ?B/s]"
      ]
     },
     "metadata": {},
     "output_type": "display_data"
    },
    {
     "data": {
      "application/vnd.jupyter.widget-view+json": {
       "model_id": "d0f4497c845b42c98ac549d41f7c47df",
       "version_major": 2,
       "version_minor": 0
      },
      "text/plain": [
       "train-00023-of-01106-c3142604dde6dedb.pa(…):   0%|          | 0.00/812M [00:00<?, ?B/s]"
      ]
     },
     "metadata": {},
     "output_type": "display_data"
    },
    {
     "data": {
      "application/vnd.jupyter.widget-view+json": {
       "model_id": "189807a4a3794777aed913700287788b",
       "version_major": 2,
       "version_minor": 0
      },
      "text/plain": [
       "train-00024-of-01106-080056e62002a0bd.pa(…):   0%|          | 0.00/823M [00:00<?, ?B/s]"
      ]
     },
     "metadata": {},
     "output_type": "display_data"
    },
    {
     "data": {
      "application/vnd.jupyter.widget-view+json": {
       "model_id": "fc96d9ee5be24dde9747dec0de7b3eca",
       "version_major": 2,
       "version_minor": 0
      },
      "text/plain": [
       "train-00025-of-01106-3053f2c24a6807cf.pa(…):   0%|          | 0.00/828M [00:00<?, ?B/s]"
      ]
     },
     "metadata": {},
     "output_type": "display_data"
    },
    {
     "data": {
      "application/vnd.jupyter.widget-view+json": {
       "model_id": "a88e0e68a5554ebaa25bea9262734bed",
       "version_major": 2,
       "version_minor": 0
      },
      "text/plain": [
       "train-00026-of-01106-ea75af4489185b0f.pa(…):   0%|          | 0.00/832M [00:00<?, ?B/s]"
      ]
     },
     "metadata": {},
     "output_type": "display_data"
    },
    {
     "data": {
      "application/vnd.jupyter.widget-view+json": {
       "model_id": "c7b1e1557f64400db1697448446feb03",
       "version_major": 2,
       "version_minor": 0
      },
      "text/plain": [
       "train-00027-of-01106-fadbeb9f26827d83.pa(…):   0%|          | 0.00/816M [00:00<?, ?B/s]"
      ]
     },
     "metadata": {},
     "output_type": "display_data"
    },
    {
     "data": {
      "application/vnd.jupyter.widget-view+json": {
       "model_id": "4fc7eb4117ab4398aa02b77796981fa8",
       "version_major": 2,
       "version_minor": 0
      },
      "text/plain": [
       "train-00028-of-01106-1250a3b52cd1f11a.pa(…):   0%|          | 0.00/838M [00:00<?, ?B/s]"
      ]
     },
     "metadata": {},
     "output_type": "display_data"
    },
    {
     "data": {
      "application/vnd.jupyter.widget-view+json": {
       "model_id": "47ccde6042304d3cbca92bacaaee9e36",
       "version_major": 2,
       "version_minor": 0
      },
      "text/plain": [
       "train-00029-of-01106-f35092773987ea4d.pa(…):   0%|          | 0.00/812M [00:00<?, ?B/s]"
      ]
     },
     "metadata": {},
     "output_type": "display_data"
    },
    {
     "data": {
      "application/vnd.jupyter.widget-view+json": {
       "model_id": "5cf1225db4bf445f8251698116eb79be",
       "version_major": 2,
       "version_minor": 0
      },
      "text/plain": [
       "train-00030-of-01106-1156e62085aed94a.pa(…):   0%|          | 0.00/839M [00:00<?, ?B/s]"
      ]
     },
     "metadata": {},
     "output_type": "display_data"
    },
    {
     "data": {
      "application/vnd.jupyter.widget-view+json": {
       "model_id": "2c4fc39fd1604b5bb77caa418eab55e4",
       "version_major": 2,
       "version_minor": 0
      },
      "text/plain": [
       "train-00031-of-01106-6d6c4965e6b09e2d.pa(…):   0%|          | 0.00/816M [00:00<?, ?B/s]"
      ]
     },
     "metadata": {},
     "output_type": "display_data"
    },
    {
     "data": {
      "application/vnd.jupyter.widget-view+json": {
       "model_id": "25553e9b085946a7b35d50fb8f42d611",
       "version_major": 2,
       "version_minor": 0
      },
      "text/plain": [
       "train-00032-of-01106-5be4e3a214462930.pa(…):   0%|          | 0.00/813M [00:00<?, ?B/s]"
      ]
     },
     "metadata": {},
     "output_type": "display_data"
    },
    {
     "data": {
      "application/vnd.jupyter.widget-view+json": {
       "model_id": "2200f4c7ae24464b842d6f91c7210837",
       "version_major": 2,
       "version_minor": 0
      },
      "text/plain": [
       "train-00033-of-01106-9ea599fc39dee629.pa(…):   0%|          | 0.00/810M [00:00<?, ?B/s]"
      ]
     },
     "metadata": {},
     "output_type": "display_data"
    },
    {
     "data": {
      "application/vnd.jupyter.widget-view+json": {
       "model_id": "1a9cb0a093e14ca18f0688c0ee2e2ae7",
       "version_major": 2,
       "version_minor": 0
      },
      "text/plain": [
       "train-00034-of-01106-5f58d8b088f7f144.pa(…):   0%|          | 0.00/822M [00:00<?, ?B/s]"
      ]
     },
     "metadata": {},
     "output_type": "display_data"
    },
    {
     "data": {
      "application/vnd.jupyter.widget-view+json": {
       "model_id": "9b01446ef93444e8bbbf80a886734aa1",
       "version_major": 2,
       "version_minor": 0
      },
      "text/plain": [
       "train-00035-of-01106-fca91ed09af5c999.pa(…):   0%|          | 0.00/836M [00:00<?, ?B/s]"
      ]
     },
     "metadata": {},
     "output_type": "display_data"
    },
    {
     "data": {
      "application/vnd.jupyter.widget-view+json": {
       "model_id": "5ad55504443f454bb8d5938dfc0b4966",
       "version_major": 2,
       "version_minor": 0
      },
      "text/plain": [
       "train-00036-of-01106-bb31dadab5e5edeb.pa(…):   0%|          | 0.00/813M [00:00<?, ?B/s]"
      ]
     },
     "metadata": {},
     "output_type": "display_data"
    },
    {
     "data": {
      "application/vnd.jupyter.widget-view+json": {
       "model_id": "b798e091292042388cf0a164087b80d7",
       "version_major": 2,
       "version_minor": 0
      },
      "text/plain": [
       "train-00037-of-01106-854428c7f99068d6.pa(…):   0%|          | 0.00/799M [00:00<?, ?B/s]"
      ]
     },
     "metadata": {},
     "output_type": "display_data"
    },
    {
     "data": {
      "application/vnd.jupyter.widget-view+json": {
       "model_id": "9464ba8c99c1413f8330156b7808abd8",
       "version_major": 2,
       "version_minor": 0
      },
      "text/plain": [
       "train-00038-of-01106-866f5503cabb1b8b.pa(…):   0%|          | 0.00/838M [00:00<?, ?B/s]"
      ]
     },
     "metadata": {},
     "output_type": "display_data"
    },
    {
     "data": {
      "application/vnd.jupyter.widget-view+json": {
       "model_id": "074f4411ce1e4fc09d2e39cce3dbb59d",
       "version_major": 2,
       "version_minor": 0
      },
      "text/plain": [
       "train-00039-of-01106-e1feb959fe89d3d9.pa(…):   0%|          | 0.00/814M [00:00<?, ?B/s]"
      ]
     },
     "metadata": {},
     "output_type": "display_data"
    },
    {
     "data": {
      "application/vnd.jupyter.widget-view+json": {
       "model_id": "e703b99d22af4bce87fa587ec89af5ab",
       "version_major": 2,
       "version_minor": 0
      },
      "text/plain": [
       "train-00040-of-01106-b61dc8052061004d.pa(…):   0%|          | 0.00/807M [00:00<?, ?B/s]"
      ]
     },
     "metadata": {},
     "output_type": "display_data"
    },
    {
     "data": {
      "application/vnd.jupyter.widget-view+json": {
       "model_id": "133348f4748543bb8ca2b2b659ae34e5",
       "version_major": 2,
       "version_minor": 0
      },
      "text/plain": [
       "train-00041-of-01106-87614b2bafc4196c.pa(…):   0%|          | 0.00/871M [00:00<?, ?B/s]"
      ]
     },
     "metadata": {},
     "output_type": "display_data"
    },
    {
     "data": {
      "application/vnd.jupyter.widget-view+json": {
       "model_id": "e8655a83c3bd48e1ba6c05b6091ef196",
       "version_major": 2,
       "version_minor": 0
      },
      "text/plain": [
       "train-00042-of-01106-e2af94c40e511ab4.pa(…):   0%|          | 0.00/886M [00:00<?, ?B/s]"
      ]
     },
     "metadata": {},
     "output_type": "display_data"
    },
    {
     "data": {
      "application/vnd.jupyter.widget-view+json": {
       "model_id": "968e2ec2d95a4e54bed8d8e1ec291daf",
       "version_major": 2,
       "version_minor": 0
      },
      "text/plain": [
       "train-00043-of-01106-cba9db393a32a546.pa(…):   0%|          | 0.00/795M [00:00<?, ?B/s]"
      ]
     },
     "metadata": {},
     "output_type": "display_data"
    },
    {
     "data": {
      "application/vnd.jupyter.widget-view+json": {
       "model_id": "0b38a843cf214d80a44ca025bc67ef8a",
       "version_major": 2,
       "version_minor": 0
      },
      "text/plain": [
       "train-00044-of-01106-6a49e2fadfb90455.pa(…):   0%|          | 0.00/804M [00:00<?, ?B/s]"
      ]
     },
     "metadata": {},
     "output_type": "display_data"
    },
    {
     "data": {
      "application/vnd.jupyter.widget-view+json": {
       "model_id": "0958c23e1a0f4a06814623b83b20c5b2",
       "version_major": 2,
       "version_minor": 0
      },
      "text/plain": [
       "train-00045-of-01106-dbe788e20c5e8c3a.pa(…):   0%|          | 0.00/791M [00:00<?, ?B/s]"
      ]
     },
     "metadata": {},
     "output_type": "display_data"
    },
    {
     "data": {
      "application/vnd.jupyter.widget-view+json": {
       "model_id": "8514e41f3ccd4f0880da5909352918e0",
       "version_major": 2,
       "version_minor": 0
      },
      "text/plain": [
       "train-00046-of-01106-b9031c4919c71c42.pa(…):   0%|          | 0.00/799M [00:00<?, ?B/s]"
      ]
     },
     "metadata": {},
     "output_type": "display_data"
    },
    {
     "data": {
      "application/vnd.jupyter.widget-view+json": {
       "model_id": "d8a672101395407aa3d96b360d80c984",
       "version_major": 2,
       "version_minor": 0
      },
      "text/plain": [
       "train-00047-of-01106-9f6878e4117cb3e4.pa(…):   0%|          | 0.00/826M [00:00<?, ?B/s]"
      ]
     },
     "metadata": {},
     "output_type": "display_data"
    },
    {
     "data": {
      "application/vnd.jupyter.widget-view+json": {
       "model_id": "aebc17db33f64ff58bec8c6361334b08",
       "version_major": 2,
       "version_minor": 0
      },
      "text/plain": [
       "train-00048-of-01106-03106d5df5d80071.pa(…):   0%|          | 0.00/874M [00:00<?, ?B/s]"
      ]
     },
     "metadata": {},
     "output_type": "display_data"
    },
    {
     "data": {
      "application/vnd.jupyter.widget-view+json": {
       "model_id": "5ed2f8f2f2d14c609a3a6fc3acd0884b",
       "version_major": 2,
       "version_minor": 0
      },
      "text/plain": [
       "train-00049-of-01106-fd0a3cc070a0e0ad.pa(…):   0%|          | 0.00/838M [00:00<?, ?B/s]"
      ]
     },
     "metadata": {},
     "output_type": "display_data"
    },
    {
     "data": {
      "application/vnd.jupyter.widget-view+json": {
       "model_id": "b96c8800fec24a77924511d0f9b36d3a",
       "version_major": 2,
       "version_minor": 0
      },
      "text/plain": [
       "train-00050-of-01106-37344a59aa5ef639.pa(…):   0%|          | 0.00/827M [00:00<?, ?B/s]"
      ]
     },
     "metadata": {},
     "output_type": "display_data"
    },
    {
     "data": {
      "application/vnd.jupyter.widget-view+json": {
       "model_id": "f49972c51e234a8e900282c57044f6aa",
       "version_major": 2,
       "version_minor": 0
      },
      "text/plain": [
       "train-00051-of-01106-f13d4f43c8322369.pa(…):   0%|          | 0.00/820M [00:00<?, ?B/s]"
      ]
     },
     "metadata": {},
     "output_type": "display_data"
    },
    {
     "data": {
      "application/vnd.jupyter.widget-view+json": {
       "model_id": "aff32157cdbc4ecb8529ddc46750e1e2",
       "version_major": 2,
       "version_minor": 0
      },
      "text/plain": [
       "train-00052-of-01106-9359cea70938a3ae.pa(…):   0%|          | 0.00/800M [00:00<?, ?B/s]"
      ]
     },
     "metadata": {},
     "output_type": "display_data"
    },
    {
     "data": {
      "application/vnd.jupyter.widget-view+json": {
       "model_id": "b1036c46e306402aa822caf9a210ae67",
       "version_major": 2,
       "version_minor": 0
      },
      "text/plain": [
       "train-00053-of-01106-7faffabbca0951ed.pa(…):   0%|          | 0.00/859M [00:00<?, ?B/s]"
      ]
     },
     "metadata": {},
     "output_type": "display_data"
    },
    {
     "data": {
      "application/vnd.jupyter.widget-view+json": {
       "model_id": "34514a94cd754690a18f625910b525b6",
       "version_major": 2,
       "version_minor": 0
      },
      "text/plain": [
       "train-00054-of-01106-c7acad797293264c.pa(…):   0%|          | 0.00/828M [00:00<?, ?B/s]"
      ]
     },
     "metadata": {},
     "output_type": "display_data"
    },
    {
     "data": {
      "application/vnd.jupyter.widget-view+json": {
       "model_id": "a9d2261404c44c2fabe687b30bca79d7",
       "version_major": 2,
       "version_minor": 0
      },
      "text/plain": [
       "train-00055-of-01106-f7e8309db1205b9b.pa(…):   0%|          | 0.00/848M [00:00<?, ?B/s]"
      ]
     },
     "metadata": {},
     "output_type": "display_data"
    },
    {
     "data": {
      "application/vnd.jupyter.widget-view+json": {
       "model_id": "51846cb490504efdb3cd62e14741abaa",
       "version_major": 2,
       "version_minor": 0
      },
      "text/plain": [
       "train-00056-of-01106-d383a6de06f2f16c.pa(…):   0%|          | 0.00/817M [00:00<?, ?B/s]"
      ]
     },
     "metadata": {},
     "output_type": "display_data"
    },
    {
     "data": {
      "application/vnd.jupyter.widget-view+json": {
       "model_id": "f03e96651fcd48dca14bbc36f065b157",
       "version_major": 2,
       "version_minor": 0
      },
      "text/plain": [
       "train-00057-of-01106-4235504f6700a26f.pa(…):   0%|          | 0.00/820M [00:00<?, ?B/s]"
      ]
     },
     "metadata": {},
     "output_type": "display_data"
    },
    {
     "data": {
      "application/vnd.jupyter.widget-view+json": {
       "model_id": "c1299d1e2762457f8a33591007257534",
       "version_major": 2,
       "version_minor": 0
      },
      "text/plain": [
       "train-00059-of-01106-d8db6e6e51e632e3.pa(…):   0%|          | 0.00/813M [00:00<?, ?B/s]"
      ]
     },
     "metadata": {},
     "output_type": "display_data"
    },
    {
     "data": {
      "application/vnd.jupyter.widget-view+json": {
       "model_id": "526fe8e659394653bb6562ae3684de3f",
       "version_major": 2,
       "version_minor": 0
      },
      "text/plain": [
       "train-00060-of-01106-9f01608137cd9734.pa(…):   0%|          | 0.00/820M [00:00<?, ?B/s]"
      ]
     },
     "metadata": {},
     "output_type": "display_data"
    },
    {
     "data": {
      "application/vnd.jupyter.widget-view+json": {
       "model_id": "0a222133114841f3a4873d36688cce8e",
       "version_major": 2,
       "version_minor": 0
      },
      "text/plain": [
       "train-00061-of-01106-181dab8591a29e06.pa(…):   0%|          | 0.00/831M [00:00<?, ?B/s]"
      ]
     },
     "metadata": {},
     "output_type": "display_data"
    },
    {
     "data": {
      "application/vnd.jupyter.widget-view+json": {
       "model_id": "588b53dc881e4dd6a9ef954b74d4662a",
       "version_major": 2,
       "version_minor": 0
      },
      "text/plain": [
       "train-00062-of-01106-fa145fa7fef0a885.pa(…):   0%|          | 0.00/854M [00:00<?, ?B/s]"
      ]
     },
     "metadata": {},
     "output_type": "display_data"
    },
    {
     "data": {
      "application/vnd.jupyter.widget-view+json": {
       "model_id": "37be4c50042a4b219b061324e7887560",
       "version_major": 2,
       "version_minor": 0
      },
      "text/plain": [
       "train-00063-of-01106-9c6581dce3280514.pa(…):   0%|          | 0.00/819M [00:00<?, ?B/s]"
      ]
     },
     "metadata": {},
     "output_type": "display_data"
    },
    {
     "data": {
      "application/vnd.jupyter.widget-view+json": {
       "model_id": "acd25297caf44731bbb7f5187145d38c",
       "version_major": 2,
       "version_minor": 0
      },
      "text/plain": [
       "train-00064-of-01106-4d0381df39a0e0b2.pa(…):   0%|          | 0.00/826M [00:00<?, ?B/s]"
      ]
     },
     "metadata": {},
     "output_type": "display_data"
    },
    {
     "data": {
      "application/vnd.jupyter.widget-view+json": {
       "model_id": "330573dbac9b4710a3fd2dfc2cf1dbe8",
       "version_major": 2,
       "version_minor": 0
      },
      "text/plain": [
       "train-00065-of-01106-c20705197a1a4ce3.pa(…):   0%|          | 0.00/835M [00:00<?, ?B/s]"
      ]
     },
     "metadata": {},
     "output_type": "display_data"
    },
    {
     "data": {
      "application/vnd.jupyter.widget-view+json": {
       "model_id": "dfb444bc361b4618b4360ea0160dc78b",
       "version_major": 2,
       "version_minor": 0
      },
      "text/plain": [
       "train-00066-of-01106-e6e8a7d1b4833bcb.pa(…):   0%|          | 0.00/856M [00:00<?, ?B/s]"
      ]
     },
     "metadata": {},
     "output_type": "display_data"
    },
    {
     "data": {
      "application/vnd.jupyter.widget-view+json": {
       "model_id": "8aff4b76970c46fa9c4bee9ea3bb95b6",
       "version_major": 2,
       "version_minor": 0
      },
      "text/plain": [
       "train-00067-of-01106-4e703ced96759fdd.pa(…):   0%|          | 0.00/849M [00:00<?, ?B/s]"
      ]
     },
     "metadata": {},
     "output_type": "display_data"
    },
    {
     "data": {
      "application/vnd.jupyter.widget-view+json": {
       "model_id": "a50deb46395942ea9c3fb77a9cb942c8",
       "version_major": 2,
       "version_minor": 0
      },
      "text/plain": [
       "train-00068-of-01106-06d9d206387be3ef.pa(…):   0%|          | 0.00/789M [00:00<?, ?B/s]"
      ]
     },
     "metadata": {},
     "output_type": "display_data"
    },
    {
     "data": {
      "application/vnd.jupyter.widget-view+json": {
       "model_id": "098c7fc9120a4ad681c22283fc71b9b0",
       "version_major": 2,
       "version_minor": 0
      },
      "text/plain": [
       "train-00069-of-01106-a76d1e4ad789bd02.pa(…):   0%|          | 0.00/810M [00:00<?, ?B/s]"
      ]
     },
     "metadata": {},
     "output_type": "display_data"
    },
    {
     "data": {
      "application/vnd.jupyter.widget-view+json": {
       "model_id": "c543b72ea871445f9811859c5dd718ef",
       "version_major": 2,
       "version_minor": 0
      },
      "text/plain": [
       "train-00070-of-01106-646911c0dbe4885e.pa(…):   0%|          | 0.00/816M [00:00<?, ?B/s]"
      ]
     },
     "metadata": {},
     "output_type": "display_data"
    },
    {
     "data": {
      "application/vnd.jupyter.widget-view+json": {
       "model_id": "bbb9c943b2664134a89dda3f6ce71462",
       "version_major": 2,
       "version_minor": 0
      },
      "text/plain": [
       "train-00071-of-01106-04fc2f2a299f77f4.pa(…):   0%|          | 0.00/816M [00:00<?, ?B/s]"
      ]
     },
     "metadata": {},
     "output_type": "display_data"
    },
    {
     "data": {
      "application/vnd.jupyter.widget-view+json": {
       "model_id": "09dabc32c2574f1d9af7b78ba61f5e9a",
       "version_major": 2,
       "version_minor": 0
      },
      "text/plain": [
       "train-00072-of-01106-7bda54041a3d3bfd.pa(…):   0%|          | 0.00/907M [00:00<?, ?B/s]"
      ]
     },
     "metadata": {},
     "output_type": "display_data"
    },
    {
     "data": {
      "application/vnd.jupyter.widget-view+json": {
       "model_id": "1f68f1e1ceba42b28638f86e728e1bde",
       "version_major": 2,
       "version_minor": 0
      },
      "text/plain": [
       "train-00073-of-01106-64f5eb1838c2f2a9.pa(…):   0%|          | 0.00/831M [00:00<?, ?B/s]"
      ]
     },
     "metadata": {},
     "output_type": "display_data"
    },
    {
     "data": {
      "application/vnd.jupyter.widget-view+json": {
       "model_id": "975ba343838a4a2bb24255ea16817b09",
       "version_major": 2,
       "version_minor": 0
      },
      "text/plain": [
       "train-00074-of-01106-34284b6b7aa24416.pa(…):   0%|          | 0.00/846M [00:00<?, ?B/s]"
      ]
     },
     "metadata": {},
     "output_type": "display_data"
    },
    {
     "data": {
      "application/vnd.jupyter.widget-view+json": {
       "model_id": "bc88ea8199b648c79f37b9d46e0c5d5d",
       "version_major": 2,
       "version_minor": 0
      },
      "text/plain": [
       "train-00075-of-01106-a2e80418c05a4933.pa(…):   0%|          | 0.00/834M [00:00<?, ?B/s]"
      ]
     },
     "metadata": {},
     "output_type": "display_data"
    },
    {
     "data": {
      "application/vnd.jupyter.widget-view+json": {
       "model_id": "199114350e3449159454c2fb679ef285",
       "version_major": 2,
       "version_minor": 0
      },
      "text/plain": [
       "train-00076-of-01106-983c99a3b3903ec9.pa(…):   0%|          | 0.00/841M [00:00<?, ?B/s]"
      ]
     },
     "metadata": {},
     "output_type": "display_data"
    },
    {
     "data": {
      "application/vnd.jupyter.widget-view+json": {
       "model_id": "0f8e61714d014b98bbeb9d79c3d42fb2",
       "version_major": 2,
       "version_minor": 0
      },
      "text/plain": [
       "train-00077-of-01106-85960e61306486b0.pa(…):   0%|          | 0.00/834M [00:00<?, ?B/s]"
      ]
     },
     "metadata": {},
     "output_type": "display_data"
    },
    {
     "data": {
      "application/vnd.jupyter.widget-view+json": {
       "model_id": "1b8cf8847a6e4034884ca934bc84652a",
       "version_major": 2,
       "version_minor": 0
      },
      "text/plain": [
       "train-00078-of-01106-d3dd047de2436040.pa(…):   0%|          | 0.00/838M [00:00<?, ?B/s]"
      ]
     },
     "metadata": {},
     "output_type": "display_data"
    },
    {
     "data": {
      "application/vnd.jupyter.widget-view+json": {
       "model_id": "62b671677215460d8732fd442fb56224",
       "version_major": 2,
       "version_minor": 0
      },
      "text/plain": [
       "train-00079-of-01106-f6097046aba5ae73.pa(…):   0%|          | 0.00/839M [00:00<?, ?B/s]"
      ]
     },
     "metadata": {},
     "output_type": "display_data"
    },
    {
     "data": {
      "application/vnd.jupyter.widget-view+json": {
       "model_id": "29718509a2ce4c4393c3e504559771dd",
       "version_major": 2,
       "version_minor": 0
      },
      "text/plain": [
       "train-00080-of-01106-9362a0aa7e2ac18e.pa(…):   0%|          | 0.00/862M [00:00<?, ?B/s]"
      ]
     },
     "metadata": {},
     "output_type": "display_data"
    },
    {
     "data": {
      "application/vnd.jupyter.widget-view+json": {
       "model_id": "f6dbe07885ef4011bc437f5e41ec6563",
       "version_major": 2,
       "version_minor": 0
      },
      "text/plain": [
       "train-00081-of-01106-5e76e52ed4cb5ae6.pa(…):   0%|          | 0.00/855M [00:00<?, ?B/s]"
      ]
     },
     "metadata": {},
     "output_type": "display_data"
    },
    {
     "data": {
      "application/vnd.jupyter.widget-view+json": {
       "model_id": "c163511cd97e443da7e755f8a4a71d54",
       "version_major": 2,
       "version_minor": 0
      },
      "text/plain": [
       "train-00082-of-01106-242c5e7fac0ddb97.pa(…):   0%|          | 0.00/820M [00:00<?, ?B/s]"
      ]
     },
     "metadata": {},
     "output_type": "display_data"
    },
    {
     "data": {
      "application/vnd.jupyter.widget-view+json": {
       "model_id": "e000df193f194e789f2ee5972b336b0b",
       "version_major": 2,
       "version_minor": 0
      },
      "text/plain": [
       "train-00083-of-01106-ab2390f39f40f9bf.pa(…):   0%|          | 0.00/857M [00:00<?, ?B/s]"
      ]
     },
     "metadata": {},
     "output_type": "display_data"
    },
    {
     "data": {
      "application/vnd.jupyter.widget-view+json": {
       "model_id": "ecee4a26b43e47b3948cfb2383f8ae76",
       "version_major": 2,
       "version_minor": 0
      },
      "text/plain": [
       "train-00084-of-01106-397937a13a122c36.pa(…):   0%|          | 0.00/821M [00:00<?, ?B/s]"
      ]
     },
     "metadata": {},
     "output_type": "display_data"
    },
    {
     "data": {
      "application/vnd.jupyter.widget-view+json": {
       "model_id": "351fa10a2f864f959efa4583e042887c",
       "version_major": 2,
       "version_minor": 0
      },
      "text/plain": [
       "train-00086-of-01106-9377f6a7d47fe345.pa(…):   0%|          | 0.00/813M [00:00<?, ?B/s]"
      ]
     },
     "metadata": {},
     "output_type": "display_data"
    },
    {
     "data": {
      "application/vnd.jupyter.widget-view+json": {
       "model_id": "d482d5f123424c518f8d897ce62e13e0",
       "version_major": 2,
       "version_minor": 0
      },
      "text/plain": [
       "train-00087-of-01106-93fcff36718fb08c.pa(…):   0%|          | 0.00/782M [00:00<?, ?B/s]"
      ]
     },
     "metadata": {},
     "output_type": "display_data"
    },
    {
     "data": {
      "application/vnd.jupyter.widget-view+json": {
       "model_id": "1a0386b6399945eab8fce907e71fdb98",
       "version_major": 2,
       "version_minor": 0
      },
      "text/plain": [
       "train-00088-of-01106-3a918d44b639d35b.pa(…):   0%|          | 0.00/806M [00:00<?, ?B/s]"
      ]
     },
     "metadata": {},
     "output_type": "display_data"
    },
    {
     "data": {
      "application/vnd.jupyter.widget-view+json": {
       "model_id": "363d44b81bc74ac7952db174ac4ae38a",
       "version_major": 2,
       "version_minor": 0
      },
      "text/plain": [
       "train-00089-of-01106-06cf245bca1d0f99.pa(…):   0%|          | 0.00/852M [00:00<?, ?B/s]"
      ]
     },
     "metadata": {},
     "output_type": "display_data"
    },
    {
     "data": {
      "application/vnd.jupyter.widget-view+json": {
       "model_id": "cb694003d60242b9a496376c38c79801",
       "version_major": 2,
       "version_minor": 0
      },
      "text/plain": [
       "train-00090-of-01106-b346584393b90848.pa(…):   0%|          | 0.00/834M [00:00<?, ?B/s]"
      ]
     },
     "metadata": {},
     "output_type": "display_data"
    },
    {
     "data": {
      "application/vnd.jupyter.widget-view+json": {
       "model_id": "2412fc6bfbc2409eb1520758d8b94238",
       "version_major": 2,
       "version_minor": 0
      },
      "text/plain": [
       "train-00091-of-01106-cefb038f51b055ef.pa(…):   0%|          | 0.00/820M [00:00<?, ?B/s]"
      ]
     },
     "metadata": {},
     "output_type": "display_data"
    },
    {
     "data": {
      "application/vnd.jupyter.widget-view+json": {
       "model_id": "dfbc06596d3f486d830b031892d0dc1a",
       "version_major": 2,
       "version_minor": 0
      },
      "text/plain": [
       "train-00092-of-01106-f21af8d5e44eff8e.pa(…):   0%|          | 0.00/870M [00:00<?, ?B/s]"
      ]
     },
     "metadata": {},
     "output_type": "display_data"
    },
    {
     "data": {
      "application/vnd.jupyter.widget-view+json": {
       "model_id": "649056fb08bb4208842fd9a8ba8a2a8f",
       "version_major": 2,
       "version_minor": 0
      },
      "text/plain": [
       "train-00093-of-01106-9864f09e7ef1a079.pa(…):   0%|          | 0.00/857M [00:00<?, ?B/s]"
      ]
     },
     "metadata": {},
     "output_type": "display_data"
    },
    {
     "data": {
      "application/vnd.jupyter.widget-view+json": {
       "model_id": "8e1eeb581ac241a4bef45995e0533cc5",
       "version_major": 2,
       "version_minor": 0
      },
      "text/plain": [
       "train-00094-of-01106-d5eb95c1c1272e39.pa(…):   0%|          | 0.00/813M [00:00<?, ?B/s]"
      ]
     },
     "metadata": {},
     "output_type": "display_data"
    },
    {
     "data": {
      "application/vnd.jupyter.widget-view+json": {
       "model_id": "b6553a1b2f6d4d8a8018fb5d9d39fc74",
       "version_major": 2,
       "version_minor": 0
      },
      "text/plain": [
       "train-00095-of-01106-9439e59efe240b9f.pa(…):   0%|          | 0.00/837M [00:00<?, ?B/s]"
      ]
     },
     "metadata": {},
     "output_type": "display_data"
    },
    {
     "data": {
      "application/vnd.jupyter.widget-view+json": {
       "model_id": "92f212173c464c63bbf41931c20e2323",
       "version_major": 2,
       "version_minor": 0
      },
      "text/plain": [
       "train-00096-of-01106-4fb95d9eb6a1294a.pa(…):   0%|          | 0.00/787M [00:00<?, ?B/s]"
      ]
     },
     "metadata": {},
     "output_type": "display_data"
    },
    {
     "data": {
      "application/vnd.jupyter.widget-view+json": {
       "model_id": "d27e2975aec94d7099bf2ecd6b2e0a93",
       "version_major": 2,
       "version_minor": 0
      },
      "text/plain": [
       "train-00097-of-01106-cae0d108e45b80e0.pa(…):   0%|          | 0.00/835M [00:00<?, ?B/s]"
      ]
     },
     "metadata": {},
     "output_type": "display_data"
    },
    {
     "data": {
      "application/vnd.jupyter.widget-view+json": {
       "model_id": "d341b40967dc4d66bdbf144a285026c2",
       "version_major": 2,
       "version_minor": 0
      },
      "text/plain": [
       "train-00098-of-01106-8e38a735620d270e.pa(…):   0%|          | 0.00/815M [00:00<?, ?B/s]"
      ]
     },
     "metadata": {},
     "output_type": "display_data"
    },
    {
     "data": {
      "application/vnd.jupyter.widget-view+json": {
       "model_id": "69d2e5a35bc743678de9e3ba377250e6",
       "version_major": 2,
       "version_minor": 0
      },
      "text/plain": [
       "train-00099-of-01106-8c7cf4b9164af7e6.pa(…):   0%|          | 0.00/827M [00:00<?, ?B/s]"
      ]
     },
     "metadata": {},
     "output_type": "display_data"
    },
    {
     "data": {
      "application/vnd.jupyter.widget-view+json": {
       "model_id": "d43aec6dbc444122b0821dd45dee44b5",
       "version_major": 2,
       "version_minor": 0
      },
      "text/plain": [
       "train-00100-of-01106-37251f841c609781.pa(…):   0%|          | 0.00/813M [00:00<?, ?B/s]"
      ]
     },
     "metadata": {},
     "output_type": "display_data"
    },
    {
     "data": {
      "application/vnd.jupyter.widget-view+json": {
       "model_id": "e0b696537fd6492f9c7840f20d0e5e4b",
       "version_major": 2,
       "version_minor": 0
      },
      "text/plain": [
       "train-00101-of-01106-921d6a650154aebf.pa(…):   0%|          | 0.00/789M [00:00<?, ?B/s]"
      ]
     },
     "metadata": {},
     "output_type": "display_data"
    },
    {
     "data": {
      "application/vnd.jupyter.widget-view+json": {
       "model_id": "574c1357ff584e2e817fae5e23859a14",
       "version_major": 2,
       "version_minor": 0
      },
      "text/plain": [
       "train-00102-of-01106-1baa6b6b29536d56.pa(…):   0%|          | 0.00/816M [00:00<?, ?B/s]"
      ]
     },
     "metadata": {},
     "output_type": "display_data"
    },
    {
     "data": {
      "application/vnd.jupyter.widget-view+json": {
       "model_id": "8ee1a68e2cf54009aba61afeac16367f",
       "version_major": 2,
       "version_minor": 0
      },
      "text/plain": [
       "train-00103-of-01106-82b99407465e19ce.pa(…):   0%|          | 0.00/846M [00:00<?, ?B/s]"
      ]
     },
     "metadata": {},
     "output_type": "display_data"
    },
    {
     "data": {
      "application/vnd.jupyter.widget-view+json": {
       "model_id": "419ea3fb61a84f439780eafa155163be",
       "version_major": 2,
       "version_minor": 0
      },
      "text/plain": [
       "train-00104-of-01106-66b6cdf9ace2c3e5.pa(…):   0%|          | 0.00/822M [00:00<?, ?B/s]"
      ]
     },
     "metadata": {},
     "output_type": "display_data"
    },
    {
     "data": {
      "application/vnd.jupyter.widget-view+json": {
       "model_id": "2dbe53bf8ed2436391aa1249eb3bf6b9",
       "version_major": 2,
       "version_minor": 0
      },
      "text/plain": [
       "train-00105-of-01106-c6a2356eaaf05e93.pa(…):   0%|          | 0.00/844M [00:00<?, ?B/s]"
      ]
     },
     "metadata": {},
     "output_type": "display_data"
    },
    {
     "data": {
      "application/vnd.jupyter.widget-view+json": {
       "model_id": "def43fc64f40499dac670410a42ae361",
       "version_major": 2,
       "version_minor": 0
      },
      "text/plain": [
       "train-00106-of-01106-b8cb110443cad8aa.pa(…):   0%|          | 0.00/847M [00:00<?, ?B/s]"
      ]
     },
     "metadata": {},
     "output_type": "display_data"
    },
    {
     "data": {
      "application/vnd.jupyter.widget-view+json": {
       "model_id": "18099027c6cf41e29df820965541fb84",
       "version_major": 2,
       "version_minor": 0
      },
      "text/plain": [
       "train-00107-of-01106-68bf91fbf7b95368.pa(…):   0%|          | 0.00/822M [00:00<?, ?B/s]"
      ]
     },
     "metadata": {},
     "output_type": "display_data"
    },
    {
     "data": {
      "application/vnd.jupyter.widget-view+json": {
       "model_id": "86d9f84bc26d4594ace705c60d5f19b8",
       "version_major": 2,
       "version_minor": 0
      },
      "text/plain": [
       "train-00108-of-01106-985086eae0e52ca2.pa(…):   0%|          | 0.00/831M [00:00<?, ?B/s]"
      ]
     },
     "metadata": {},
     "output_type": "display_data"
    },
    {
     "data": {
      "application/vnd.jupyter.widget-view+json": {
       "model_id": "8ea3abff28234aacb05407ce8e7f5aa7",
       "version_major": 2,
       "version_minor": 0
      },
      "text/plain": [
       "train-00109-of-01106-53694dda37262b62.pa(…):   0%|          | 0.00/813M [00:00<?, ?B/s]"
      ]
     },
     "metadata": {},
     "output_type": "display_data"
    },
    {
     "data": {
      "application/vnd.jupyter.widget-view+json": {
       "model_id": "cb840873ef9349e88bd36c6c844576f7",
       "version_major": 2,
       "version_minor": 0
      },
      "text/plain": [
       "train-00110-of-01106-601b7e25fa097eec.pa(…):   0%|          | 0.00/813M [00:00<?, ?B/s]"
      ]
     },
     "metadata": {},
     "output_type": "display_data"
    },
    {
     "data": {
      "application/vnd.jupyter.widget-view+json": {
       "model_id": "ad989edea4e747db98c4422bbe317ee3",
       "version_major": 2,
       "version_minor": 0
      },
      "text/plain": [
       "train-00111-of-01106-92184e8ad6e31b38.pa(…):   0%|          | 0.00/781M [00:00<?, ?B/s]"
      ]
     },
     "metadata": {},
     "output_type": "display_data"
    },
    {
     "data": {
      "application/vnd.jupyter.widget-view+json": {
       "model_id": "ed00aac9670b4b059247faa80cdea221",
       "version_major": 2,
       "version_minor": 0
      },
      "text/plain": [
       "train-00112-of-01106-3e61c831405cf641.pa(…):   0%|          | 0.00/823M [00:00<?, ?B/s]"
      ]
     },
     "metadata": {},
     "output_type": "display_data"
    },
    {
     "data": {
      "application/vnd.jupyter.widget-view+json": {
       "model_id": "ea6e119a2ce447b0a0492b2d80abf01f",
       "version_major": 2,
       "version_minor": 0
      },
      "text/plain": [
       "train-00113-of-01106-5355171a795fc29a.pa(…):   0%|          | 0.00/821M [00:00<?, ?B/s]"
      ]
     },
     "metadata": {},
     "output_type": "display_data"
    },
    {
     "data": {
      "application/vnd.jupyter.widget-view+json": {
       "model_id": "13230a6ecc92436a8d1e252348b8bbf8",
       "version_major": 2,
       "version_minor": 0
      },
      "text/plain": [
       "train-00114-of-01106-3ed6350baed7af90.pa(…):   0%|          | 0.00/850M [00:00<?, ?B/s]"
      ]
     },
     "metadata": {},
     "output_type": "display_data"
    },
    {
     "data": {
      "application/vnd.jupyter.widget-view+json": {
       "model_id": "9e9c2f69cced461ca6583adff79c4eb2",
       "version_major": 2,
       "version_minor": 0
      },
      "text/plain": [
       "train-00115-of-01106-1976964f9b0fe327.pa(…):   0%|          | 0.00/817M [00:00<?, ?B/s]"
      ]
     },
     "metadata": {},
     "output_type": "display_data"
    },
    {
     "data": {
      "application/vnd.jupyter.widget-view+json": {
       "model_id": "66b0cab17a674e5a8dfd466eb58ed1af",
       "version_major": 2,
       "version_minor": 0
      },
      "text/plain": [
       "train-00116-of-01106-971de77d17976559.pa(…):   0%|          | 0.00/832M [00:00<?, ?B/s]"
      ]
     },
     "metadata": {},
     "output_type": "display_data"
    },
    {
     "data": {
      "application/vnd.jupyter.widget-view+json": {
       "model_id": "ec41b1c09cbc4651b605859acd07acc3",
       "version_major": 2,
       "version_minor": 0
      },
      "text/plain": [
       "train-00117-of-01106-6ddb393d6287a39e.pa(…):   0%|          | 0.00/850M [00:00<?, ?B/s]"
      ]
     },
     "metadata": {},
     "output_type": "display_data"
    },
    {
     "data": {
      "application/vnd.jupyter.widget-view+json": {
       "model_id": "2d0e6351b8084993b6dd3d8d4e95d8b2",
       "version_major": 2,
       "version_minor": 0
      },
      "text/plain": [
       "train-00118-of-01106-91dd87a6922f8b26.pa(…):   0%|          | 0.00/834M [00:00<?, ?B/s]"
      ]
     },
     "metadata": {},
     "output_type": "display_data"
    },
    {
     "data": {
      "application/vnd.jupyter.widget-view+json": {
       "model_id": "e307704b33e240589ede14f879dee046",
       "version_major": 2,
       "version_minor": 0
      },
      "text/plain": [
       "train-00119-of-01106-a7ac0befebd564c8.pa(…):   0%|          | 0.00/827M [00:00<?, ?B/s]"
      ]
     },
     "metadata": {},
     "output_type": "display_data"
    },
    {
     "data": {
      "application/vnd.jupyter.widget-view+json": {
       "model_id": "d4457a9d9cc745b19b2be8b4ebf2b56e",
       "version_major": 2,
       "version_minor": 0
      },
      "text/plain": [
       "train-00120-of-01106-4c26979b0cd308da.pa(…):   0%|          | 0.00/829M [00:00<?, ?B/s]"
      ]
     },
     "metadata": {},
     "output_type": "display_data"
    },
    {
     "data": {
      "application/vnd.jupyter.widget-view+json": {
       "model_id": "41d84098ae6b4f46948f6ceab64cacae",
       "version_major": 2,
       "version_minor": 0
      },
      "text/plain": [
       "train-00121-of-01106-1583b0b4cd361d85.pa(…):   0%|          | 0.00/837M [00:00<?, ?B/s]"
      ]
     },
     "metadata": {},
     "output_type": "display_data"
    },
    {
     "data": {
      "application/vnd.jupyter.widget-view+json": {
       "model_id": "c944452bd40c4b13902663e1e6e99ea5",
       "version_major": 2,
       "version_minor": 0
      },
      "text/plain": [
       "train-00122-of-01106-21753788cfdc705d.pa(…):   0%|          | 0.00/836M [00:00<?, ?B/s]"
      ]
     },
     "metadata": {},
     "output_type": "display_data"
    },
    {
     "data": {
      "application/vnd.jupyter.widget-view+json": {
       "model_id": "24f8877c7f96488bbe57b09fef3d9799",
       "version_major": 2,
       "version_minor": 0
      },
      "text/plain": [
       "train-00123-of-01106-0c33c4a529fe5b9c.pa(…):   0%|          | 0.00/824M [00:00<?, ?B/s]"
      ]
     },
     "metadata": {},
     "output_type": "display_data"
    },
    {
     "data": {
      "application/vnd.jupyter.widget-view+json": {
       "model_id": "b464350f39bd48308632731e3f493d5c",
       "version_major": 2,
       "version_minor": 0
      },
      "text/plain": [
       "train-00124-of-01106-e19633a7d0a93219.pa(…):   0%|          | 0.00/818M [00:00<?, ?B/s]"
      ]
     },
     "metadata": {},
     "output_type": "display_data"
    },
    {
     "data": {
      "application/vnd.jupyter.widget-view+json": {
       "model_id": "cf4a597c7507485993359635f4433bc5",
       "version_major": 2,
       "version_minor": 0
      },
      "text/plain": [
       "train-00125-of-01106-6ac83ada5b9dfbaa.pa(…):   0%|          | 0.00/815M [00:00<?, ?B/s]"
      ]
     },
     "metadata": {},
     "output_type": "display_data"
    },
    {
     "data": {
      "application/vnd.jupyter.widget-view+json": {
       "model_id": "85cd32e5fb5a4fc38814679807f8aceb",
       "version_major": 2,
       "version_minor": 0
      },
      "text/plain": [
       "train-00126-of-01106-e62fc53b7e3a6761.pa(…):   0%|          | 0.00/969M [00:00<?, ?B/s]"
      ]
     },
     "metadata": {},
     "output_type": "display_data"
    },
    {
     "data": {
      "application/vnd.jupyter.widget-view+json": {
       "model_id": "18a2c66361df43378bec920df4adfd24",
       "version_major": 2,
       "version_minor": 0
      },
      "text/plain": [
       "train-00127-of-01106-035e9c04637e2931.pa(…):   0%|          | 0.00/933M [00:00<?, ?B/s]"
      ]
     },
     "metadata": {},
     "output_type": "display_data"
    },
    {
     "data": {
      "application/vnd.jupyter.widget-view+json": {
       "model_id": "60b6fa363ab54d23a097ea30fa27cbba",
       "version_major": 2,
       "version_minor": 0
      },
      "text/plain": [
       "train-00128-of-01106-25c1bd0d56e0f44c.pa(…):   0%|          | 0.00/950M [00:00<?, ?B/s]"
      ]
     },
     "metadata": {},
     "output_type": "display_data"
    },
    {
     "data": {
      "application/vnd.jupyter.widget-view+json": {
       "model_id": "eb3d01bc3c8e4295aaed1acf4178ff82",
       "version_major": 2,
       "version_minor": 0
      },
      "text/plain": [
       "train-00129-of-01106-fc78ad58b7a0e95e.pa(…):   0%|          | 0.00/958M [00:00<?, ?B/s]"
      ]
     },
     "metadata": {},
     "output_type": "display_data"
    },
    {
     "data": {
      "application/vnd.jupyter.widget-view+json": {
       "model_id": "f3d5e9c8b6154a53b61f4eb4567fdc71",
       "version_major": 2,
       "version_minor": 0
      },
      "text/plain": [
       "train-00130-of-01106-91a58093ff541abb.pa(…):   0%|          | 0.00/939M [00:00<?, ?B/s]"
      ]
     },
     "metadata": {},
     "output_type": "display_data"
    },
    {
     "data": {
      "application/vnd.jupyter.widget-view+json": {
       "model_id": "45f04589139f4aa7bcc4ed558152c982",
       "version_major": 2,
       "version_minor": 0
      },
      "text/plain": [
       "train-00131-of-01106-3780999fb9cb6a6f.pa(…):   0%|          | 0.00/895M [00:00<?, ?B/s]"
      ]
     },
     "metadata": {},
     "output_type": "display_data"
    },
    {
     "data": {
      "application/vnd.jupyter.widget-view+json": {
       "model_id": "42aba635eb5846dcb1c1c8d148625184",
       "version_major": 2,
       "version_minor": 0
      },
      "text/plain": [
       "train-00132-of-01106-61c02e356ca826bb.pa(…):   0%|          | 0.00/843M [00:00<?, ?B/s]"
      ]
     },
     "metadata": {},
     "output_type": "display_data"
    },
    {
     "data": {
      "application/vnd.jupyter.widget-view+json": {
       "model_id": "a12840e69a0046e68540d0ed54d5e962",
       "version_major": 2,
       "version_minor": 0
      },
      "text/plain": [
       "train-00133-of-01106-d50ba90e696028ed.pa(…):   0%|          | 0.00/818M [00:00<?, ?B/s]"
      ]
     },
     "metadata": {},
     "output_type": "display_data"
    },
    {
     "data": {
      "application/vnd.jupyter.widget-view+json": {
       "model_id": "b60c92a92cc3457c90eb817d968e9b03",
       "version_major": 2,
       "version_minor": 0
      },
      "text/plain": [
       "train-00134-of-01106-7f8d3ec33d02e2f3.pa(…):   0%|          | 0.00/812M [00:00<?, ?B/s]"
      ]
     },
     "metadata": {},
     "output_type": "display_data"
    },
    {
     "data": {
      "application/vnd.jupyter.widget-view+json": {
       "model_id": "d81ea8f4d44a4972977706a6e0a65f4f",
       "version_major": 2,
       "version_minor": 0
      },
      "text/plain": [
       "train-00135-of-01106-7a4a5ffa5d1a3a1f.pa(…):   0%|          | 0.00/829M [00:00<?, ?B/s]"
      ]
     },
     "metadata": {},
     "output_type": "display_data"
    },
    {
     "data": {
      "application/vnd.jupyter.widget-view+json": {
       "model_id": "aafb292ec47742e5bb4f97bf196a1a54",
       "version_major": 2,
       "version_minor": 0
      },
      "text/plain": [
       "train-00136-of-01106-d176aadee86f9f4f.pa(…):   0%|          | 0.00/845M [00:00<?, ?B/s]"
      ]
     },
     "metadata": {},
     "output_type": "display_data"
    },
    {
     "data": {
      "application/vnd.jupyter.widget-view+json": {
       "model_id": "d22fa3e844e84233b37807c50f3f7cb8",
       "version_major": 2,
       "version_minor": 0
      },
      "text/plain": [
       "train-00137-of-01106-f244f82158860a3e.pa(…):   0%|          | 0.00/825M [00:00<?, ?B/s]"
      ]
     },
     "metadata": {},
     "output_type": "display_data"
    },
    {
     "data": {
      "application/vnd.jupyter.widget-view+json": {
       "model_id": "aa7c2bb21a2c4019bc8b0348ac8c3c09",
       "version_major": 2,
       "version_minor": 0
      },
      "text/plain": [
       "train-00138-of-01106-835276646c0d3092.pa(…):   0%|          | 0.00/834M [00:00<?, ?B/s]"
      ]
     },
     "metadata": {},
     "output_type": "display_data"
    },
    {
     "data": {
      "application/vnd.jupyter.widget-view+json": {
       "model_id": "42427c356d85478b87bd3a6f1bf2604f",
       "version_major": 2,
       "version_minor": 0
      },
      "text/plain": [
       "train-00139-of-01106-45b65b9740244f25.pa(…):   0%|          | 0.00/801M [00:00<?, ?B/s]"
      ]
     },
     "metadata": {},
     "output_type": "display_data"
    },
    {
     "data": {
      "application/vnd.jupyter.widget-view+json": {
       "model_id": "c3514f784e704cb3ba37ca028cb8b527",
       "version_major": 2,
       "version_minor": 0
      },
      "text/plain": [
       "train-00140-of-01106-b2cf460f74df7697.pa(…):   0%|          | 0.00/816M [00:00<?, ?B/s]"
      ]
     },
     "metadata": {},
     "output_type": "display_data"
    },
    {
     "data": {
      "application/vnd.jupyter.widget-view+json": {
       "model_id": "c2d17372ed5048918b918ba83df2376d",
       "version_major": 2,
       "version_minor": 0
      },
      "text/plain": [
       "train-00141-of-01106-34249ac1fd8f942d.pa(…):   0%|          | 0.00/803M [00:00<?, ?B/s]"
      ]
     },
     "metadata": {},
     "output_type": "display_data"
    },
    {
     "data": {
      "application/vnd.jupyter.widget-view+json": {
       "model_id": "2390abf553f24911abccbb2d4b4cd85e",
       "version_major": 2,
       "version_minor": 0
      },
      "text/plain": [
       "train-00142-of-01106-75850fb72b55bb57.pa(…):   0%|          | 0.00/831M [00:00<?, ?B/s]"
      ]
     },
     "metadata": {},
     "output_type": "display_data"
    },
    {
     "data": {
      "application/vnd.jupyter.widget-view+json": {
       "model_id": "40e1ec878cbd4e5d8e95f6427b005131",
       "version_major": 2,
       "version_minor": 0
      },
      "text/plain": [
       "train-00143-of-01106-c52f70427081e8b9.pa(…):   0%|          | 0.00/779M [00:00<?, ?B/s]"
      ]
     },
     "metadata": {},
     "output_type": "display_data"
    },
    {
     "data": {
      "application/vnd.jupyter.widget-view+json": {
       "model_id": "6ee70c8703c74ffdbe6bc0eda4aace45",
       "version_major": 2,
       "version_minor": 0
      },
      "text/plain": [
       "train-00144-of-01106-54c6df61ddeb3b27.pa(…):   0%|          | 0.00/869M [00:00<?, ?B/s]"
      ]
     },
     "metadata": {},
     "output_type": "display_data"
    },
    {
     "data": {
      "application/vnd.jupyter.widget-view+json": {
       "model_id": "c5f626d4248446f68a9d31e76ecfa07d",
       "version_major": 2,
       "version_minor": 0
      },
      "text/plain": [
       "train-00145-of-01106-632391fa88171d55.pa(…):   0%|          | 0.00/790M [00:00<?, ?B/s]"
      ]
     },
     "metadata": {},
     "output_type": "display_data"
    },
    {
     "data": {
      "application/vnd.jupyter.widget-view+json": {
       "model_id": "c1dbd4dea38348e98d3db3b227519e70",
       "version_major": 2,
       "version_minor": 0
      },
      "text/plain": [
       "train-00146-of-01106-41de1edec6e6e523.pa(…):   0%|          | 0.00/842M [00:00<?, ?B/s]"
      ]
     },
     "metadata": {},
     "output_type": "display_data"
    },
    {
     "data": {
      "application/vnd.jupyter.widget-view+json": {
       "model_id": "1a610393d26e4b2c8bacf7734459f0b3",
       "version_major": 2,
       "version_minor": 0
      },
      "text/plain": [
       "train-00147-of-01106-5302cd3193399924.pa(…):   0%|          | 0.00/872M [00:00<?, ?B/s]"
      ]
     },
     "metadata": {},
     "output_type": "display_data"
    },
    {
     "data": {
      "application/vnd.jupyter.widget-view+json": {
       "model_id": "17e6c37a8e834f7d94a4363b95c1bbe1",
       "version_major": 2,
       "version_minor": 0
      },
      "text/plain": [
       "train-00148-of-01106-a355be154d6501e8.pa(…):   0%|          | 0.00/832M [00:00<?, ?B/s]"
      ]
     },
     "metadata": {},
     "output_type": "display_data"
    },
    {
     "data": {
      "application/vnd.jupyter.widget-view+json": {
       "model_id": "5ba0d9997a5142cab6be3ad5cf4917b7",
       "version_major": 2,
       "version_minor": 0
      },
      "text/plain": [
       "train-00149-of-01106-4de8105028d8c01e.pa(…):   0%|          | 0.00/838M [00:00<?, ?B/s]"
      ]
     },
     "metadata": {},
     "output_type": "display_data"
    },
    {
     "data": {
      "application/vnd.jupyter.widget-view+json": {
       "model_id": "4c55f48937314fb8834d1b34471b092f",
       "version_major": 2,
       "version_minor": 0
      },
      "text/plain": [
       "train-00150-of-01106-60bf8c03bcc6375b.pa(…):   0%|          | 0.00/807M [00:00<?, ?B/s]"
      ]
     },
     "metadata": {},
     "output_type": "display_data"
    },
    {
     "data": {
      "application/vnd.jupyter.widget-view+json": {
       "model_id": "c0e5803fe1a249f8afdea7937890db1e",
       "version_major": 2,
       "version_minor": 0
      },
      "text/plain": [
       "train-00151-of-01106-71daf8ce03dab127.pa(…):   0%|          | 0.00/846M [00:00<?, ?B/s]"
      ]
     },
     "metadata": {},
     "output_type": "display_data"
    },
    {
     "data": {
      "application/vnd.jupyter.widget-view+json": {
       "model_id": "bd25ad520ab84bd3aceb19e393857412",
       "version_major": 2,
       "version_minor": 0
      },
      "text/plain": [
       "train-00152-of-01106-6d106fa8818c9fcf.pa(…):   0%|          | 0.00/795M [00:00<?, ?B/s]"
      ]
     },
     "metadata": {},
     "output_type": "display_data"
    },
    {
     "data": {
      "application/vnd.jupyter.widget-view+json": {
       "model_id": "f7cff8ec470545bca91665ee546f178c",
       "version_major": 2,
       "version_minor": 0
      },
      "text/plain": [
       "train-00153-of-01106-831158886378b633.pa(…):   0%|          | 0.00/787M [00:00<?, ?B/s]"
      ]
     },
     "metadata": {},
     "output_type": "display_data"
    },
    {
     "data": {
      "application/vnd.jupyter.widget-view+json": {
       "model_id": "0e2d4a0f1c894495bd0a7d9c141ce39b",
       "version_major": 2,
       "version_minor": 0
      },
      "text/plain": [
       "train-00154-of-01106-550355192d766349.pa(…):   0%|          | 0.00/797M [00:00<?, ?B/s]"
      ]
     },
     "metadata": {},
     "output_type": "display_data"
    },
    {
     "data": {
      "application/vnd.jupyter.widget-view+json": {
       "model_id": "73e77ea682e44e99b219f12ac925592a",
       "version_major": 2,
       "version_minor": 0
      },
      "text/plain": [
       "train-00155-of-01106-aeaa1eb3d1ccc3db.pa(…):   0%|          | 0.00/806M [00:00<?, ?B/s]"
      ]
     },
     "metadata": {},
     "output_type": "display_data"
    },
    {
     "data": {
      "application/vnd.jupyter.widget-view+json": {
       "model_id": "91cc00dc78e8486f9b99cc3fd6b3ed23",
       "version_major": 2,
       "version_minor": 0
      },
      "text/plain": [
       "train-00156-of-01106-d703a1a84d5f6fe4.pa(…):   0%|          | 0.00/818M [00:00<?, ?B/s]"
      ]
     },
     "metadata": {},
     "output_type": "display_data"
    },
    {
     "data": {
      "application/vnd.jupyter.widget-view+json": {
       "model_id": "284db6292471498c9db12bd6262222be",
       "version_major": 2,
       "version_minor": 0
      },
      "text/plain": [
       "train-00157-of-01106-b0562cb0c2f44691.pa(…):   0%|          | 0.00/775M [00:00<?, ?B/s]"
      ]
     },
     "metadata": {},
     "output_type": "display_data"
    },
    {
     "data": {
      "application/vnd.jupyter.widget-view+json": {
       "model_id": "0dab63f4b5a74787bd3e929cb01c32f1",
       "version_major": 2,
       "version_minor": 0
      },
      "text/plain": [
       "train-00158-of-01106-484fe54084e02229.pa(…):   0%|          | 0.00/838M [00:00<?, ?B/s]"
      ]
     },
     "metadata": {},
     "output_type": "display_data"
    },
    {
     "data": {
      "application/vnd.jupyter.widget-view+json": {
       "model_id": "306accee7a9b4bae9aa71731e902542e",
       "version_major": 2,
       "version_minor": 0
      },
      "text/plain": [
       "train-00159-of-01106-6a5a11ebddb39f98.pa(…):   0%|          | 0.00/822M [00:00<?, ?B/s]"
      ]
     },
     "metadata": {},
     "output_type": "display_data"
    },
    {
     "data": {
      "application/vnd.jupyter.widget-view+json": {
       "model_id": "70453bd9a7bb4167bfb37fe60fbc3e73",
       "version_major": 2,
       "version_minor": 0
      },
      "text/plain": [
       "train-00160-of-01106-8b0f3064b27cd8e2.pa(…):   0%|          | 0.00/831M [00:00<?, ?B/s]"
      ]
     },
     "metadata": {},
     "output_type": "display_data"
    },
    {
     "data": {
      "application/vnd.jupyter.widget-view+json": {
       "model_id": "0d5c06f56c4c40fb9adf8773cef4b1f0",
       "version_major": 2,
       "version_minor": 0
      },
      "text/plain": [
       "train-00161-of-01106-aaa4c7022ca84013.pa(…):   0%|          | 0.00/817M [00:00<?, ?B/s]"
      ]
     },
     "metadata": {},
     "output_type": "display_data"
    },
    {
     "data": {
      "application/vnd.jupyter.widget-view+json": {
       "model_id": "f8bcc870cf4a4d9e96cc8c68687078cf",
       "version_major": 2,
       "version_minor": 0
      },
      "text/plain": [
       "train-00162-of-01106-d130617b9b832c9f.pa(…):   0%|          | 0.00/836M [00:00<?, ?B/s]"
      ]
     },
     "metadata": {},
     "output_type": "display_data"
    },
    {
     "data": {
      "application/vnd.jupyter.widget-view+json": {
       "model_id": "f58e56a6fae5423d86b99c0c3878ebf0",
       "version_major": 2,
       "version_minor": 0
      },
      "text/plain": [
       "train-00163-of-01106-563634bfedfa2643.pa(…):   0%|          | 0.00/861M [00:00<?, ?B/s]"
      ]
     },
     "metadata": {},
     "output_type": "display_data"
    },
    {
     "data": {
      "application/vnd.jupyter.widget-view+json": {
       "model_id": "a7fdee2580644cb2961a33adcecf73a3",
       "version_major": 2,
       "version_minor": 0
      },
      "text/plain": [
       "train-00164-of-01106-f9ecc3c901b10e1c.pa(…):   0%|          | 0.00/827M [00:00<?, ?B/s]"
      ]
     },
     "metadata": {},
     "output_type": "display_data"
    },
    {
     "data": {
      "application/vnd.jupyter.widget-view+json": {
       "model_id": "8c747f10cc47420d83b652b42f523197",
       "version_major": 2,
       "version_minor": 0
      },
      "text/plain": [
       "train-00165-of-01106-d7430a09760c19b2.pa(…):   0%|          | 0.00/819M [00:00<?, ?B/s]"
      ]
     },
     "metadata": {},
     "output_type": "display_data"
    },
    {
     "data": {
      "application/vnd.jupyter.widget-view+json": {
       "model_id": "6be3f8f7d11248c8a087755b06ec5620",
       "version_major": 2,
       "version_minor": 0
      },
      "text/plain": [
       "train-00166-of-01106-93781f506ac52871.pa(…):   0%|          | 0.00/796M [00:00<?, ?B/s]"
      ]
     },
     "metadata": {},
     "output_type": "display_data"
    },
    {
     "data": {
      "application/vnd.jupyter.widget-view+json": {
       "model_id": "df2e93c4ce834fecbc4954c6766f044d",
       "version_major": 2,
       "version_minor": 0
      },
      "text/plain": [
       "train-00167-of-01106-e6457d303cbbfad0.pa(…):   0%|          | 0.00/810M [00:00<?, ?B/s]"
      ]
     },
     "metadata": {},
     "output_type": "display_data"
    },
    {
     "data": {
      "application/vnd.jupyter.widget-view+json": {
       "model_id": "45dcf1b253c9456e94d9b295d0fc2db2",
       "version_major": 2,
       "version_minor": 0
      },
      "text/plain": [
       "train-00168-of-01106-cc22052779a08cb7.pa(…):   0%|          | 0.00/843M [00:00<?, ?B/s]"
      ]
     },
     "metadata": {},
     "output_type": "display_data"
    },
    {
     "data": {
      "application/vnd.jupyter.widget-view+json": {
       "model_id": "3055448795bb4441b1eaf0dcd62e86ff",
       "version_major": 2,
       "version_minor": 0
      },
      "text/plain": [
       "train-00169-of-01106-de56ddd28a3064a2.pa(…):   0%|          | 0.00/848M [00:00<?, ?B/s]"
      ]
     },
     "metadata": {},
     "output_type": "display_data"
    },
    {
     "data": {
      "application/vnd.jupyter.widget-view+json": {
       "model_id": "a4edd629486e4eecabead5a709614371",
       "version_major": 2,
       "version_minor": 0
      },
      "text/plain": [
       "train-00170-of-01106-ca24a3a84dfe64ff.pa(…):   0%|          | 0.00/838M [00:00<?, ?B/s]"
      ]
     },
     "metadata": {},
     "output_type": "display_data"
    },
    {
     "data": {
      "application/vnd.jupyter.widget-view+json": {
       "model_id": "0e31c51a951447e78530cb22bd14cfa1",
       "version_major": 2,
       "version_minor": 0
      },
      "text/plain": [
       "train-00171-of-01106-ba40ea748b116256.pa(…):   0%|          | 0.00/830M [00:00<?, ?B/s]"
      ]
     },
     "metadata": {},
     "output_type": "display_data"
    },
    {
     "data": {
      "application/vnd.jupyter.widget-view+json": {
       "model_id": "079b230775a54784b73d0b508572503c",
       "version_major": 2,
       "version_minor": 0
      },
      "text/plain": [
       "train-00172-of-01106-dee73d85b5e48ae0.pa(…):   0%|          | 0.00/816M [00:00<?, ?B/s]"
      ]
     },
     "metadata": {},
     "output_type": "display_data"
    },
    {
     "data": {
      "application/vnd.jupyter.widget-view+json": {
       "model_id": "b78282f536d34dfd840e630628d02087",
       "version_major": 2,
       "version_minor": 0
      },
      "text/plain": [
       "train-00173-of-01106-0c2aad1c45ee4ece.pa(…):   0%|          | 0.00/858M [00:00<?, ?B/s]"
      ]
     },
     "metadata": {},
     "output_type": "display_data"
    },
    {
     "data": {
      "application/vnd.jupyter.widget-view+json": {
       "model_id": "9d0727088e304ca1940bea4c1f3233ba",
       "version_major": 2,
       "version_minor": 0
      },
      "text/plain": [
       "train-00174-of-01106-63512ee8669a8c9a.pa(…):   0%|          | 0.00/834M [00:00<?, ?B/s]"
      ]
     },
     "metadata": {},
     "output_type": "display_data"
    },
    {
     "data": {
      "application/vnd.jupyter.widget-view+json": {
       "model_id": "efa8702787944af1a8891e47c6c4db02",
       "version_major": 2,
       "version_minor": 0
      },
      "text/plain": [
       "train-00175-of-01106-1abc431575c5b60f.pa(…):   0%|          | 0.00/850M [00:00<?, ?B/s]"
      ]
     },
     "metadata": {},
     "output_type": "display_data"
    },
    {
     "data": {
      "application/vnd.jupyter.widget-view+json": {
       "model_id": "da7b628ae3b64cf8ab7c8cce296cb032",
       "version_major": 2,
       "version_minor": 0
      },
      "text/plain": [
       "train-00176-of-01106-b15d273016a1c228.pa(…):   0%|          | 0.00/848M [00:00<?, ?B/s]"
      ]
     },
     "metadata": {},
     "output_type": "display_data"
    },
    {
     "data": {
      "application/vnd.jupyter.widget-view+json": {
       "model_id": "ab5de0274a9b4c9696731150b5dd47d5",
       "version_major": 2,
       "version_minor": 0
      },
      "text/plain": [
       "train-00177-of-01106-dacf4b10cef8d56b.pa(…):   0%|          | 0.00/794M [00:00<?, ?B/s]"
      ]
     },
     "metadata": {},
     "output_type": "display_data"
    },
    {
     "data": {
      "application/vnd.jupyter.widget-view+json": {
       "model_id": "14da96b46caf4524bf23eb840abce4c9",
       "version_major": 2,
       "version_minor": 0
      },
      "text/plain": [
       "train-00178-of-01106-e5bccedeb8df6a6f.pa(…):   0%|          | 0.00/805M [00:00<?, ?B/s]"
      ]
     },
     "metadata": {},
     "output_type": "display_data"
    },
    {
     "data": {
      "application/vnd.jupyter.widget-view+json": {
       "model_id": "882b10c06d594258a4778d3fca72487a",
       "version_major": 2,
       "version_minor": 0
      },
      "text/plain": [
       "train-00179-of-01106-41af345d9735ad6d.pa(…):   0%|          | 0.00/831M [00:00<?, ?B/s]"
      ]
     },
     "metadata": {},
     "output_type": "display_data"
    },
    {
     "data": {
      "application/vnd.jupyter.widget-view+json": {
       "model_id": "2ea70409e2374d27b922c0f329179379",
       "version_major": 2,
       "version_minor": 0
      },
      "text/plain": [
       "train-00180-of-01106-b8b2cedcce6de80c.pa(…):   0%|          | 0.00/836M [00:00<?, ?B/s]"
      ]
     },
     "metadata": {},
     "output_type": "display_data"
    },
    {
     "data": {
      "application/vnd.jupyter.widget-view+json": {
       "model_id": "591d15471d0d49828b0d21157fec7dc7",
       "version_major": 2,
       "version_minor": 0
      },
      "text/plain": [
       "train-00181-of-01106-307bcb730da4043d.pa(…):   0%|          | 0.00/845M [00:00<?, ?B/s]"
      ]
     },
     "metadata": {},
     "output_type": "display_data"
    },
    {
     "data": {
      "application/vnd.jupyter.widget-view+json": {
       "model_id": "9cff6c58d8e24e39a6de5d3c8b81c6c4",
       "version_major": 2,
       "version_minor": 0
      },
      "text/plain": [
       "train-00182-of-01106-d5a5d76874e39a81.pa(…):   0%|          | 0.00/838M [00:00<?, ?B/s]"
      ]
     },
     "metadata": {},
     "output_type": "display_data"
    },
    {
     "data": {
      "application/vnd.jupyter.widget-view+json": {
       "model_id": "149f7b051717486a859656b413456a3c",
       "version_major": 2,
       "version_minor": 0
      },
      "text/plain": [
       "train-00183-of-01106-fbf7f675a542ba64.pa(…):   0%|          | 0.00/814M [00:00<?, ?B/s]"
      ]
     },
     "metadata": {},
     "output_type": "display_data"
    },
    {
     "data": {
      "application/vnd.jupyter.widget-view+json": {
       "model_id": "408abba54101470faa6d27df6774d29d",
       "version_major": 2,
       "version_minor": 0
      },
      "text/plain": [
       "train-00184-of-01106-ea15a38010ad9bd2.pa(…):   0%|          | 0.00/816M [00:00<?, ?B/s]"
      ]
     },
     "metadata": {},
     "output_type": "display_data"
    },
    {
     "data": {
      "application/vnd.jupyter.widget-view+json": {
       "model_id": "a26535159c7746bdb80ab8fc3221dc35",
       "version_major": 2,
       "version_minor": 0
      },
      "text/plain": [
       "train-00185-of-01106-7eee9d1a3e669ae7.pa(…):   0%|          | 0.00/786M [00:00<?, ?B/s]"
      ]
     },
     "metadata": {},
     "output_type": "display_data"
    },
    {
     "data": {
      "application/vnd.jupyter.widget-view+json": {
       "model_id": "ed1e647c9ac240f7b99c856d9864517e",
       "version_major": 2,
       "version_minor": 0
      },
      "text/plain": [
       "train-00186-of-01106-d9ac79e257db3673.pa(…):   0%|          | 0.00/794M [00:00<?, ?B/s]"
      ]
     },
     "metadata": {},
     "output_type": "display_data"
    },
    {
     "data": {
      "application/vnd.jupyter.widget-view+json": {
       "model_id": "5c6820b0b5d24b4292d84012b20b48fa",
       "version_major": 2,
       "version_minor": 0
      },
      "text/plain": [
       "train-00187-of-01106-b9a7989f5d6f442b.pa(…):   0%|          | 0.00/831M [00:00<?, ?B/s]"
      ]
     },
     "metadata": {},
     "output_type": "display_data"
    },
    {
     "data": {
      "application/vnd.jupyter.widget-view+json": {
       "model_id": "1d687b8d462b4119aba01d16ed05f25f",
       "version_major": 2,
       "version_minor": 0
      },
      "text/plain": [
       "train-00188-of-01106-3d980e3090506e49.pa(…):   0%|          | 0.00/835M [00:00<?, ?B/s]"
      ]
     },
     "metadata": {},
     "output_type": "display_data"
    },
    {
     "data": {
      "application/vnd.jupyter.widget-view+json": {
       "model_id": "5dffc9d554b246fa80f6ff3aceca2294",
       "version_major": 2,
       "version_minor": 0
      },
      "text/plain": [
       "train-00189-of-01106-e4e0af00b85f5833.pa(…):   0%|          | 0.00/817M [00:00<?, ?B/s]"
      ]
     },
     "metadata": {},
     "output_type": "display_data"
    },
    {
     "data": {
      "application/vnd.jupyter.widget-view+json": {
       "model_id": "777250c931f64a5ea1f8e9873fdc16ec",
       "version_major": 2,
       "version_minor": 0
      },
      "text/plain": [
       "train-00190-of-01106-bfb96342fc9aa5fc.pa(…):   0%|          | 0.00/822M [00:00<?, ?B/s]"
      ]
     },
     "metadata": {},
     "output_type": "display_data"
    },
    {
     "data": {
      "application/vnd.jupyter.widget-view+json": {
       "model_id": "c9e254a812384883b1e5171f8a88725f",
       "version_major": 2,
       "version_minor": 0
      },
      "text/plain": [
       "train-00191-of-01106-7c9d20ea2934067b.pa(…):   0%|          | 0.00/774M [00:00<?, ?B/s]"
      ]
     },
     "metadata": {},
     "output_type": "display_data"
    },
    {
     "data": {
      "application/vnd.jupyter.widget-view+json": {
       "model_id": "be4fe02cdfbf43d4b4ff53c792918c36",
       "version_major": 2,
       "version_minor": 0
      },
      "text/plain": [
       "train-00192-of-01106-d8a4703dd54d4372.pa(…):   0%|          | 0.00/832M [00:00<?, ?B/s]"
      ]
     },
     "metadata": {},
     "output_type": "display_data"
    },
    {
     "data": {
      "application/vnd.jupyter.widget-view+json": {
       "model_id": "1af4433aa5b94afba9f118f007cc48ee",
       "version_major": 2,
       "version_minor": 0
      },
      "text/plain": [
       "train-00193-of-01106-159801f1d22cd7fb.pa(…):   0%|          | 0.00/865M [00:00<?, ?B/s]"
      ]
     },
     "metadata": {},
     "output_type": "display_data"
    },
    {
     "data": {
      "application/vnd.jupyter.widget-view+json": {
       "model_id": "f72d7209863f4b40bd91c53be0ff88ae",
       "version_major": 2,
       "version_minor": 0
      },
      "text/plain": [
       "train-00194-of-01106-e1e30fe41b4c4690.pa(…):   0%|          | 0.00/820M [00:00<?, ?B/s]"
      ]
     },
     "metadata": {},
     "output_type": "display_data"
    },
    {
     "data": {
      "application/vnd.jupyter.widget-view+json": {
       "model_id": "7199105b2158479e8885d1a88e0c13a2",
       "version_major": 2,
       "version_minor": 0
      },
      "text/plain": [
       "train-00195-of-01106-7d92bf161602573f.pa(…):   0%|          | 0.00/820M [00:00<?, ?B/s]"
      ]
     },
     "metadata": {},
     "output_type": "display_data"
    },
    {
     "data": {
      "application/vnd.jupyter.widget-view+json": {
       "model_id": "2827aaa8203742a0a7ac0278995218e0",
       "version_major": 2,
       "version_minor": 0
      },
      "text/plain": [
       "train-00196-of-01106-ad6f441061f63f70.pa(…):   0%|          | 0.00/821M [00:00<?, ?B/s]"
      ]
     },
     "metadata": {},
     "output_type": "display_data"
    },
    {
     "data": {
      "application/vnd.jupyter.widget-view+json": {
       "model_id": "3dbe6f87d2ac4586a438bc12ef798884",
       "version_major": 2,
       "version_minor": 0
      },
      "text/plain": [
       "train-00197-of-01106-a53fa50476d007b6.pa(…):   0%|          | 0.00/849M [00:00<?, ?B/s]"
      ]
     },
     "metadata": {},
     "output_type": "display_data"
    },
    {
     "data": {
      "application/vnd.jupyter.widget-view+json": {
       "model_id": "a709bd51efa742e08ab469441cc6bd66",
       "version_major": 2,
       "version_minor": 0
      },
      "text/plain": [
       "train-00198-of-01106-faad2b3a6c1b7bb7.pa(…):   0%|          | 0.00/808M [00:00<?, ?B/s]"
      ]
     },
     "metadata": {},
     "output_type": "display_data"
    },
    {
     "data": {
      "application/vnd.jupyter.widget-view+json": {
       "model_id": "401c43dc4e7b47ccbaa1621ce901391d",
       "version_major": 2,
       "version_minor": 0
      },
      "text/plain": [
       "train-00199-of-01106-88578ddd2b7d50c6.pa(…):   0%|          | 0.00/821M [00:00<?, ?B/s]"
      ]
     },
     "metadata": {},
     "output_type": "display_data"
    },
    {
     "data": {
      "application/vnd.jupyter.widget-view+json": {
       "model_id": "b05770c6955c4f68a68a600209b82a55",
       "version_major": 2,
       "version_minor": 0
      },
      "text/plain": [
       "train-00200-of-01106-4cb86144cfd94771.pa(…):   0%|          | 0.00/832M [00:00<?, ?B/s]"
      ]
     },
     "metadata": {},
     "output_type": "display_data"
    },
    {
     "data": {
      "application/vnd.jupyter.widget-view+json": {
       "model_id": "68dc7d751da84d85bc22e6b555657887",
       "version_major": 2,
       "version_minor": 0
      },
      "text/plain": [
       "train-00201-of-01106-6d045b05a5281c75.pa(…):   0%|          | 0.00/819M [00:00<?, ?B/s]"
      ]
     },
     "metadata": {},
     "output_type": "display_data"
    },
    {
     "data": {
      "application/vnd.jupyter.widget-view+json": {
       "model_id": "188eb70928fd4b3790a25278f61ad731",
       "version_major": 2,
       "version_minor": 0
      },
      "text/plain": [
       "train-00202-of-01106-ebd002c56bdeb0c0.pa(…):   0%|          | 0.00/829M [00:00<?, ?B/s]"
      ]
     },
     "metadata": {},
     "output_type": "display_data"
    },
    {
     "data": {
      "application/vnd.jupyter.widget-view+json": {
       "model_id": "2b6661f239334706948b5e524477f6f9",
       "version_major": 2,
       "version_minor": 0
      },
      "text/plain": [
       "train-00203-of-01106-911a2992eede0397.pa(…):   0%|          | 0.00/838M [00:00<?, ?B/s]"
      ]
     },
     "metadata": {},
     "output_type": "display_data"
    },
    {
     "data": {
      "application/vnd.jupyter.widget-view+json": {
       "model_id": "953fd52a208d473f9ee39ef97ae66db2",
       "version_major": 2,
       "version_minor": 0
      },
      "text/plain": [
       "train-00204-of-01106-2e9f09719ce0af0c.pa(…):   0%|          | 0.00/789M [00:00<?, ?B/s]"
      ]
     },
     "metadata": {},
     "output_type": "display_data"
    },
    {
     "data": {
      "application/vnd.jupyter.widget-view+json": {
       "model_id": "b5c9be7253c1473b948b755004a3673d",
       "version_major": 2,
       "version_minor": 0
      },
      "text/plain": [
       "train-00205-of-01106-7fef277b5fe2fab9.pa(…):   0%|          | 0.00/807M [00:00<?, ?B/s]"
      ]
     },
     "metadata": {},
     "output_type": "display_data"
    },
    {
     "data": {
      "application/vnd.jupyter.widget-view+json": {
       "model_id": "9d3fc8ff302d4369be39b8ba606bd84c",
       "version_major": 2,
       "version_minor": 0
      },
      "text/plain": [
       "train-00206-of-01106-131b33d20cc60671.pa(…):   0%|          | 0.00/820M [00:00<?, ?B/s]"
      ]
     },
     "metadata": {},
     "output_type": "display_data"
    },
    {
     "data": {
      "application/vnd.jupyter.widget-view+json": {
       "model_id": "02f83641f3b74b28ad4f41ecb6830867",
       "version_major": 2,
       "version_minor": 0
      },
      "text/plain": [
       "train-00207-of-01106-9420456d98c10fdf.pa(…):   0%|          | 0.00/837M [00:00<?, ?B/s]"
      ]
     },
     "metadata": {},
     "output_type": "display_data"
    },
    {
     "data": {
      "application/vnd.jupyter.widget-view+json": {
       "model_id": "6277f6ca5af344e389ffc01edd57d872",
       "version_major": 2,
       "version_minor": 0
      },
      "text/plain": [
       "train-00208-of-01106-6e6202a84aafb13a.pa(…):   0%|          | 0.00/863M [00:00<?, ?B/s]"
      ]
     },
     "metadata": {},
     "output_type": "display_data"
    },
    {
     "data": {
      "application/vnd.jupyter.widget-view+json": {
       "model_id": "8ed664bee9a04084aacfacdf953f155a",
       "version_major": 2,
       "version_minor": 0
      },
      "text/plain": [
       "train-00209-of-01106-cfc66e01a14f76a6.pa(…):   0%|          | 0.00/807M [00:00<?, ?B/s]"
      ]
     },
     "metadata": {},
     "output_type": "display_data"
    },
    {
     "data": {
      "application/vnd.jupyter.widget-view+json": {
       "model_id": "d3c12e9737d94911a14b1bb5d1b61f9f",
       "version_major": 2,
       "version_minor": 0
      },
      "text/plain": [
       "train-00210-of-01106-64f9e2741d01c123.pa(…):   0%|          | 0.00/807M [00:00<?, ?B/s]"
      ]
     },
     "metadata": {},
     "output_type": "display_data"
    },
    {
     "data": {
      "application/vnd.jupyter.widget-view+json": {
       "model_id": "175ded56dc82496089c1066b11040440",
       "version_major": 2,
       "version_minor": 0
      },
      "text/plain": [
       "train-00211-of-01106-ec3f5c3739463ee0.pa(…):   0%|          | 0.00/842M [00:00<?, ?B/s]"
      ]
     },
     "metadata": {},
     "output_type": "display_data"
    },
    {
     "data": {
      "application/vnd.jupyter.widget-view+json": {
       "model_id": "34bf33329ca546ee835329871a2b5fad",
       "version_major": 2,
       "version_minor": 0
      },
      "text/plain": [
       "train-00212-of-01106-f75974d7c50fe830.pa(…):   0%|          | 0.00/832M [00:00<?, ?B/s]"
      ]
     },
     "metadata": {},
     "output_type": "display_data"
    },
    {
     "data": {
      "application/vnd.jupyter.widget-view+json": {
       "model_id": "8404f86afaf64b4cb34cda6d110acc7e",
       "version_major": 2,
       "version_minor": 0
      },
      "text/plain": [
       "train-00213-of-01106-8a01ec234ddf29d4.pa(…):   0%|          | 0.00/826M [00:00<?, ?B/s]"
      ]
     },
     "metadata": {},
     "output_type": "display_data"
    },
    {
     "data": {
      "application/vnd.jupyter.widget-view+json": {
       "model_id": "2fa70690fcbc400e88cb7c685d20327d",
       "version_major": 2,
       "version_minor": 0
      },
      "text/plain": [
       "train-00214-of-01106-30cb6e2864f86628.pa(…):   0%|          | 0.00/805M [00:00<?, ?B/s]"
      ]
     },
     "metadata": {},
     "output_type": "display_data"
    },
    {
     "data": {
      "application/vnd.jupyter.widget-view+json": {
       "model_id": "90867fec8d2a4afb8f005c21b79ddc46",
       "version_major": 2,
       "version_minor": 0
      },
      "text/plain": [
       "train-00215-of-01106-9d2c8ae48e101fe9.pa(…):   0%|          | 0.00/846M [00:00<?, ?B/s]"
      ]
     },
     "metadata": {},
     "output_type": "display_data"
    },
    {
     "data": {
      "application/vnd.jupyter.widget-view+json": {
       "model_id": "20b6a7c0f5af460b939ccbbc00cc9d42",
       "version_major": 2,
       "version_minor": 0
      },
      "text/plain": [
       "train-00216-of-01106-9adaa8eaeac9d3e5.pa(…):   0%|          | 0.00/809M [00:00<?, ?B/s]"
      ]
     },
     "metadata": {},
     "output_type": "display_data"
    },
    {
     "data": {
      "application/vnd.jupyter.widget-view+json": {
       "model_id": "6cc7a6cc00cb4ac3972c3407c690277e",
       "version_major": 2,
       "version_minor": 0
      },
      "text/plain": [
       "train-00217-of-01106-5487e795be831de8.pa(…):   0%|          | 0.00/851M [00:00<?, ?B/s]"
      ]
     },
     "metadata": {},
     "output_type": "display_data"
    },
    {
     "data": {
      "application/vnd.jupyter.widget-view+json": {
       "model_id": "0454faf2abad48b78c1fa924f2e10c69",
       "version_major": 2,
       "version_minor": 0
      },
      "text/plain": [
       "train-00218-of-01106-b4a630977f4e1c6c.pa(…):   0%|          | 0.00/790M [00:00<?, ?B/s]"
      ]
     },
     "metadata": {},
     "output_type": "display_data"
    },
    {
     "data": {
      "application/vnd.jupyter.widget-view+json": {
       "model_id": "6592ced07e8d4cc8aaa3241c1a73d0f9",
       "version_major": 2,
       "version_minor": 0
      },
      "text/plain": [
       "train-00219-of-01106-9b16871c33c66125.pa(…):   0%|          | 0.00/887M [00:00<?, ?B/s]"
      ]
     },
     "metadata": {},
     "output_type": "display_data"
    },
    {
     "data": {
      "application/vnd.jupyter.widget-view+json": {
       "model_id": "7be7af21196a44ada7a9d66ae996bdbe",
       "version_major": 2,
       "version_minor": 0
      },
      "text/plain": [
       "train-00220-of-01106-9b6e78d2b3ee784c.pa(…):   0%|          | 0.00/829M [00:00<?, ?B/s]"
      ]
     },
     "metadata": {},
     "output_type": "display_data"
    },
    {
     "data": {
      "application/vnd.jupyter.widget-view+json": {
       "model_id": "6ab2ce39c28f4177841f4d8b771397ac",
       "version_major": 2,
       "version_minor": 0
      },
      "text/plain": [
       "train-00221-of-01106-78210e0000f92438.pa(…):   0%|          | 0.00/839M [00:00<?, ?B/s]"
      ]
     },
     "metadata": {},
     "output_type": "display_data"
    },
    {
     "data": {
      "application/vnd.jupyter.widget-view+json": {
       "model_id": "3c0a3d63f8e44d8e90c7a3449fce2217",
       "version_major": 2,
       "version_minor": 0
      },
      "text/plain": [
       "train-00222-of-01106-b54b926f5456784c.pa(…):   0%|          | 0.00/822M [00:00<?, ?B/s]"
      ]
     },
     "metadata": {},
     "output_type": "display_data"
    },
    {
     "data": {
      "application/vnd.jupyter.widget-view+json": {
       "model_id": "a1875673693744eeb0584f27e89290a4",
       "version_major": 2,
       "version_minor": 0
      },
      "text/plain": [
       "train-00223-of-01106-a43d32c367c8343a.pa(…):   0%|          | 0.00/802M [00:00<?, ?B/s]"
      ]
     },
     "metadata": {},
     "output_type": "display_data"
    },
    {
     "data": {
      "application/vnd.jupyter.widget-view+json": {
       "model_id": "5263592abe2349efa46628a154920d45",
       "version_major": 2,
       "version_minor": 0
      },
      "text/plain": [
       "train-00224-of-01106-ba1928e474c5b198.pa(…):   0%|          | 0.00/824M [00:00<?, ?B/s]"
      ]
     },
     "metadata": {},
     "output_type": "display_data"
    },
    {
     "data": {
      "application/vnd.jupyter.widget-view+json": {
       "model_id": "e99569815951450ba22d68c7fd89286a",
       "version_major": 2,
       "version_minor": 0
      },
      "text/plain": [
       "train-00225-of-01106-73b01a54d68efe52.pa(…):   0%|          | 0.00/823M [00:00<?, ?B/s]"
      ]
     },
     "metadata": {},
     "output_type": "display_data"
    },
    {
     "data": {
      "application/vnd.jupyter.widget-view+json": {
       "model_id": "42a6e4c6199f41e89acfdcfef109e9a4",
       "version_major": 2,
       "version_minor": 0
      },
      "text/plain": [
       "train-00226-of-01106-427671293d2238fd.pa(…):   0%|          | 0.00/824M [00:00<?, ?B/s]"
      ]
     },
     "metadata": {},
     "output_type": "display_data"
    },
    {
     "data": {
      "application/vnd.jupyter.widget-view+json": {
       "model_id": "ff86c8cd1f43499290bf98faf00c4923",
       "version_major": 2,
       "version_minor": 0
      },
      "text/plain": [
       "train-00227-of-01106-f8d22a1d1c540ad5.pa(…):   0%|          | 0.00/837M [00:00<?, ?B/s]"
      ]
     },
     "metadata": {},
     "output_type": "display_data"
    },
    {
     "data": {
      "application/vnd.jupyter.widget-view+json": {
       "model_id": "63be26ad58bc417fbff9ab85dc01c349",
       "version_major": 2,
       "version_minor": 0
      },
      "text/plain": [
       "train-00228-of-01106-c3e928a15aa46ae7.pa(…):   0%|          | 0.00/873M [00:00<?, ?B/s]"
      ]
     },
     "metadata": {},
     "output_type": "display_data"
    },
    {
     "data": {
      "application/vnd.jupyter.widget-view+json": {
       "model_id": "3a81ae3728bb458ebc7f2cf61e1c007f",
       "version_major": 2,
       "version_minor": 0
      },
      "text/plain": [
       "train-00229-of-01106-e61576abdd25b9eb.pa(…):   0%|          | 0.00/823M [00:00<?, ?B/s]"
      ]
     },
     "metadata": {},
     "output_type": "display_data"
    },
    {
     "data": {
      "application/vnd.jupyter.widget-view+json": {
       "model_id": "fe455ee4dc474f189f37a18d1693da8f",
       "version_major": 2,
       "version_minor": 0
      },
      "text/plain": [
       "train-00230-of-01106-43052c210353ed60.pa(…):   0%|          | 0.00/834M [00:00<?, ?B/s]"
      ]
     },
     "metadata": {},
     "output_type": "display_data"
    },
    {
     "data": {
      "application/vnd.jupyter.widget-view+json": {
       "model_id": "a3b9a4774a6b46039324808a83a55667",
       "version_major": 2,
       "version_minor": 0
      },
      "text/plain": [
       "train-00231-of-01106-110589ec1c3ddd33.pa(…):   0%|          | 0.00/836M [00:00<?, ?B/s]"
      ]
     },
     "metadata": {},
     "output_type": "display_data"
    },
    {
     "data": {
      "application/vnd.jupyter.widget-view+json": {
       "model_id": "7002bde4d7d74e49a43f7fa21b0d3b3c",
       "version_major": 2,
       "version_minor": 0
      },
      "text/plain": [
       "train-00232-of-01106-2297d3401754f921.pa(…):   0%|          | 0.00/873M [00:00<?, ?B/s]"
      ]
     },
     "metadata": {},
     "output_type": "display_data"
    },
    {
     "data": {
      "application/vnd.jupyter.widget-view+json": {
       "model_id": "5f80c35459c743deae82a6563293e282",
       "version_major": 2,
       "version_minor": 0
      },
      "text/plain": [
       "train-00233-of-01106-f1fd34885cb6eace.pa(…):   0%|          | 0.00/832M [00:00<?, ?B/s]"
      ]
     },
     "metadata": {},
     "output_type": "display_data"
    },
    {
     "data": {
      "application/vnd.jupyter.widget-view+json": {
       "model_id": "9993a9250c76459eb207bb3d5dd07508",
       "version_major": 2,
       "version_minor": 0
      },
      "text/plain": [
       "train-00234-of-01106-dc71035e6a93b191.pa(…):   0%|          | 0.00/811M [00:00<?, ?B/s]"
      ]
     },
     "metadata": {},
     "output_type": "display_data"
    },
    {
     "data": {
      "application/vnd.jupyter.widget-view+json": {
       "model_id": "c1ceab2cdd2d49a4ac0bdeddc7f5b08f",
       "version_major": 2,
       "version_minor": 0
      },
      "text/plain": [
       "train-00235-of-01106-b7abc7627bd226f6.pa(…):   0%|          | 0.00/832M [00:00<?, ?B/s]"
      ]
     },
     "metadata": {},
     "output_type": "display_data"
    },
    {
     "data": {
      "application/vnd.jupyter.widget-view+json": {
       "model_id": "f44a43ae4f0f4c148ccdcd997c610d13",
       "version_major": 2,
       "version_minor": 0
      },
      "text/plain": [
       "train-00236-of-01106-51ac53230b9ec697.pa(…):   0%|          | 0.00/799M [00:00<?, ?B/s]"
      ]
     },
     "metadata": {},
     "output_type": "display_data"
    },
    {
     "data": {
      "application/vnd.jupyter.widget-view+json": {
       "model_id": "7cdbb9650a954943872300125b310607",
       "version_major": 2,
       "version_minor": 0
      },
      "text/plain": [
       "train-00237-of-01106-7f3b26f1a1188d14.pa(…):   0%|          | 0.00/829M [00:00<?, ?B/s]"
      ]
     },
     "metadata": {},
     "output_type": "display_data"
    },
    {
     "data": {
      "application/vnd.jupyter.widget-view+json": {
       "model_id": "a6a63e1e7ec047e3b217842de4a3ab11",
       "version_major": 2,
       "version_minor": 0
      },
      "text/plain": [
       "train-00238-of-01106-e7760f7340e21b06.pa(…):   0%|          | 0.00/808M [00:00<?, ?B/s]"
      ]
     },
     "metadata": {},
     "output_type": "display_data"
    },
    {
     "data": {
      "application/vnd.jupyter.widget-view+json": {
       "model_id": "c04c581da6064d6fb6d046e9eb03a983",
       "version_major": 2,
       "version_minor": 0
      },
      "text/plain": [
       "train-00239-of-01106-644cbe324e60796e.pa(…):   0%|          | 0.00/831M [00:00<?, ?B/s]"
      ]
     },
     "metadata": {},
     "output_type": "display_data"
    },
    {
     "data": {
      "application/vnd.jupyter.widget-view+json": {
       "model_id": "b45796b77a304f90a5abc7bc224875f5",
       "version_major": 2,
       "version_minor": 0
      },
      "text/plain": [
       "train-00240-of-01106-654dd616d1f3263f.pa(…):   0%|          | 0.00/834M [00:00<?, ?B/s]"
      ]
     },
     "metadata": {},
     "output_type": "display_data"
    },
    {
     "data": {
      "application/vnd.jupyter.widget-view+json": {
       "model_id": "b113cf82b4594cc7b5dbe3f110f36836",
       "version_major": 2,
       "version_minor": 0
      },
      "text/plain": [
       "train-00241-of-01106-08a9a426225ac284.pa(…):   0%|          | 0.00/831M [00:00<?, ?B/s]"
      ]
     },
     "metadata": {},
     "output_type": "display_data"
    },
    {
     "data": {
      "application/vnd.jupyter.widget-view+json": {
       "model_id": "d0f802781d544e4db3e74b8e7451b2d9",
       "version_major": 2,
       "version_minor": 0
      },
      "text/plain": [
       "train-00242-of-01106-5ae4be796e9e333f.pa(…):   0%|          | 0.00/854M [00:00<?, ?B/s]"
      ]
     },
     "metadata": {},
     "output_type": "display_data"
    },
    {
     "data": {
      "application/vnd.jupyter.widget-view+json": {
       "model_id": "955e556607204678a5c02b3a4582ab64",
       "version_major": 2,
       "version_minor": 0
      },
      "text/plain": [
       "train-00243-of-01106-65972e5f360b473b.pa(…):   0%|          | 0.00/835M [00:00<?, ?B/s]"
      ]
     },
     "metadata": {},
     "output_type": "display_data"
    },
    {
     "data": {
      "application/vnd.jupyter.widget-view+json": {
       "model_id": "30dd614212b3445d9423edb1c1d57446",
       "version_major": 2,
       "version_minor": 0
      },
      "text/plain": [
       "train-00244-of-01106-9b82d949f7212200.pa(…):   0%|          | 0.00/851M [00:00<?, ?B/s]"
      ]
     },
     "metadata": {},
     "output_type": "display_data"
    },
    {
     "data": {
      "application/vnd.jupyter.widget-view+json": {
       "model_id": "28d2c0ad499f494dbfa859030681308f",
       "version_major": 2,
       "version_minor": 0
      },
      "text/plain": [
       "train-00245-of-01106-33fb2b9a614055c4.pa(…):   0%|          | 0.00/834M [00:00<?, ?B/s]"
      ]
     },
     "metadata": {},
     "output_type": "display_data"
    },
    {
     "data": {
      "application/vnd.jupyter.widget-view+json": {
       "model_id": "286e62b3f43441e98a4524a75b772db2",
       "version_major": 2,
       "version_minor": 0
      },
      "text/plain": [
       "train-00246-of-01106-5201bf6a06e20bc0.pa(…):   0%|          | 0.00/813M [00:00<?, ?B/s]"
      ]
     },
     "metadata": {},
     "output_type": "display_data"
    },
    {
     "data": {
      "application/vnd.jupyter.widget-view+json": {
       "model_id": "2b58d08075e84a24a4de97e22c3137d0",
       "version_major": 2,
       "version_minor": 0
      },
      "text/plain": [
       "train-00247-of-01106-a4dde7479cdfd124.pa(…):   0%|          | 0.00/853M [00:00<?, ?B/s]"
      ]
     },
     "metadata": {},
     "output_type": "display_data"
    },
    {
     "data": {
      "application/vnd.jupyter.widget-view+json": {
       "model_id": "1ca8f4bf8df44bfda0eb4f70d1f8b0d8",
       "version_major": 2,
       "version_minor": 0
      },
      "text/plain": [
       "train-00248-of-01106-933139cee701d6e0.pa(…):   0%|          | 0.00/817M [00:00<?, ?B/s]"
      ]
     },
     "metadata": {},
     "output_type": "display_data"
    },
    {
     "data": {
      "application/vnd.jupyter.widget-view+json": {
       "model_id": "3feb9ad2b4af4afc887e4b33f47241f2",
       "version_major": 2,
       "version_minor": 0
      },
      "text/plain": [
       "train-00249-of-01106-02904a8a48692776.pa(…):   0%|          | 0.00/817M [00:00<?, ?B/s]"
      ]
     },
     "metadata": {},
     "output_type": "display_data"
    },
    {
     "data": {
      "application/vnd.jupyter.widget-view+json": {
       "model_id": "fd4c62a3674944dab6cb94b0b57cec2a",
       "version_major": 2,
       "version_minor": 0
      },
      "text/plain": [
       "train-00250-of-01106-2e7cd2c57f7367c5.pa(…):   0%|          | 0.00/764M [00:00<?, ?B/s]"
      ]
     },
     "metadata": {},
     "output_type": "display_data"
    },
    {
     "data": {
      "application/vnd.jupyter.widget-view+json": {
       "model_id": "e4ad077cbb484f85b0a9eba197ba1e80",
       "version_major": 2,
       "version_minor": 0
      },
      "text/plain": [
       "train-00251-of-01106-5455542a398694c9.pa(…):   0%|          | 0.00/850M [00:00<?, ?B/s]"
      ]
     },
     "metadata": {},
     "output_type": "display_data"
    },
    {
     "data": {
      "application/vnd.jupyter.widget-view+json": {
       "model_id": "e15af5dd5c8b47b38f4c9dc734be9a44",
       "version_major": 2,
       "version_minor": 0
      },
      "text/plain": [
       "train-00252-of-01106-28c5661c2818415f.pa(…):   0%|          | 0.00/813M [00:00<?, ?B/s]"
      ]
     },
     "metadata": {},
     "output_type": "display_data"
    },
    {
     "data": {
      "application/vnd.jupyter.widget-view+json": {
       "model_id": "ffc9b7fe3271421797333bf973e0cf8d",
       "version_major": 2,
       "version_minor": 0
      },
      "text/plain": [
       "train-00253-of-01106-0f518f96c24cfc52.pa(…):   0%|          | 0.00/804M [00:00<?, ?B/s]"
      ]
     },
     "metadata": {},
     "output_type": "display_data"
    },
    {
     "data": {
      "application/vnd.jupyter.widget-view+json": {
       "model_id": "f044cfc44082412bb1040f473265282a",
       "version_major": 2,
       "version_minor": 0
      },
      "text/plain": [
       "train-00254-of-01106-18fa1c7e88d2b824.pa(…):   0%|          | 0.00/825M [00:00<?, ?B/s]"
      ]
     },
     "metadata": {},
     "output_type": "display_data"
    },
    {
     "data": {
      "application/vnd.jupyter.widget-view+json": {
       "model_id": "4d82a1240f344033889cafcba4c67394",
       "version_major": 2,
       "version_minor": 0
      },
      "text/plain": [
       "train-00255-of-01106-2f72ed9ace225534.pa(…):   0%|          | 0.00/828M [00:00<?, ?B/s]"
      ]
     },
     "metadata": {},
     "output_type": "display_data"
    },
    {
     "data": {
      "application/vnd.jupyter.widget-view+json": {
       "model_id": "47a7017eb4374c3cb5764b63a96b0839",
       "version_major": 2,
       "version_minor": 0
      },
      "text/plain": [
       "train-00256-of-01106-fd804431433aa642.pa(…):   0%|          | 0.00/861M [00:00<?, ?B/s]"
      ]
     },
     "metadata": {},
     "output_type": "display_data"
    },
    {
     "data": {
      "application/vnd.jupyter.widget-view+json": {
       "model_id": "68dca6d05b4241219260b7ae25467626",
       "version_major": 2,
       "version_minor": 0
      },
      "text/plain": [
       "train-00257-of-01106-9be49e8b51b1a82c.pa(…):   0%|          | 0.00/977M [00:00<?, ?B/s]"
      ]
     },
     "metadata": {},
     "output_type": "display_data"
    },
    {
     "data": {
      "application/vnd.jupyter.widget-view+json": {
       "model_id": "d41bbf350bec41a5ae57dedb95870ba8",
       "version_major": 2,
       "version_minor": 0
      },
      "text/plain": [
       "train-00258-of-01106-295db011776182d1.pa(…):   0%|          | 0.00/930M [00:00<?, ?B/s]"
      ]
     },
     "metadata": {},
     "output_type": "display_data"
    },
    {
     "data": {
      "application/vnd.jupyter.widget-view+json": {
       "model_id": "cc88d433a3574b108d182ab7c8e8074a",
       "version_major": 2,
       "version_minor": 0
      },
      "text/plain": [
       "train-00259-of-01106-9f623c84057b10f5.pa(…):   0%|          | 0.00/943M [00:00<?, ?B/s]"
      ]
     },
     "metadata": {},
     "output_type": "display_data"
    },
    {
     "data": {
      "application/vnd.jupyter.widget-view+json": {
       "model_id": "b5b97fd2e81c46caa68d6319b6441933",
       "version_major": 2,
       "version_minor": 0
      },
      "text/plain": [
       "train-00260-of-01106-ed8c73193ceb133f.pa(…):   0%|          | 0.00/930M [00:00<?, ?B/s]"
      ]
     },
     "metadata": {},
     "output_type": "display_data"
    },
    {
     "data": {
      "application/vnd.jupyter.widget-view+json": {
       "model_id": "c67be0aec7d5448d8eec3b0300ca338e",
       "version_major": 2,
       "version_minor": 0
      },
      "text/plain": [
       "train-00261-of-01106-259e358164858855.pa(…):   0%|          | 0.00/946M [00:00<?, ?B/s]"
      ]
     },
     "metadata": {},
     "output_type": "display_data"
    },
    {
     "data": {
      "application/vnd.jupyter.widget-view+json": {
       "model_id": "c69af4b4a4b442268e058744a29fc883",
       "version_major": 2,
       "version_minor": 0
      },
      "text/plain": [
       "train-00262-of-01106-dbb25f52a0308dea.pa(…):   0%|          | 0.00/870M [00:00<?, ?B/s]"
      ]
     },
     "metadata": {},
     "output_type": "display_data"
    },
    {
     "data": {
      "application/vnd.jupyter.widget-view+json": {
       "model_id": "78902d3078fb44dfa2606c442c6b33da",
       "version_major": 2,
       "version_minor": 0
      },
      "text/plain": [
       "train-00263-of-01106-2361daa064520cc0.pa(…):   0%|          | 0.00/840M [00:00<?, ?B/s]"
      ]
     },
     "metadata": {},
     "output_type": "display_data"
    },
    {
     "data": {
      "application/vnd.jupyter.widget-view+json": {
       "model_id": "72f3b404c96e4a1a8666c99be3f84eee",
       "version_major": 2,
       "version_minor": 0
      },
      "text/plain": [
       "train-00264-of-01106-85b8cbc0baf0458e.pa(…):   0%|          | 0.00/837M [00:00<?, ?B/s]"
      ]
     },
     "metadata": {},
     "output_type": "display_data"
    },
    {
     "data": {
      "application/vnd.jupyter.widget-view+json": {
       "model_id": "19557e502d57409f86496b4a385306fb",
       "version_major": 2,
       "version_minor": 0
      },
      "text/plain": [
       "train-00265-of-01106-4f53710b39d084e4.pa(…):   0%|          | 0.00/827M [00:00<?, ?B/s]"
      ]
     },
     "metadata": {},
     "output_type": "display_data"
    },
    {
     "data": {
      "application/vnd.jupyter.widget-view+json": {
       "model_id": "ffab0854559b41cb83dfba06be707dc4",
       "version_major": 2,
       "version_minor": 0
      },
      "text/plain": [
       "train-00266-of-01106-ae23ad1e333d2f9b.pa(…):   0%|          | 0.00/837M [00:00<?, ?B/s]"
      ]
     },
     "metadata": {},
     "output_type": "display_data"
    },
    {
     "data": {
      "application/vnd.jupyter.widget-view+json": {
       "model_id": "d5d9bce031f14b5483d93efa5d5d0ac8",
       "version_major": 2,
       "version_minor": 0
      },
      "text/plain": [
       "train-00267-of-01106-2faf77e8485c451b.pa(…):   0%|          | 0.00/822M [00:00<?, ?B/s]"
      ]
     },
     "metadata": {},
     "output_type": "display_data"
    },
    {
     "data": {
      "application/vnd.jupyter.widget-view+json": {
       "model_id": "4f577d7ae2534627a8f3657e65c875ba",
       "version_major": 2,
       "version_minor": 0
      },
      "text/plain": [
       "train-00268-of-01106-e0730457a0f1718e.pa(…):   0%|          | 0.00/925M [00:00<?, ?B/s]"
      ]
     },
     "metadata": {},
     "output_type": "display_data"
    },
    {
     "data": {
      "application/vnd.jupyter.widget-view+json": {
       "model_id": "9e7b8444065940aca37af623b718dce4",
       "version_major": 2,
       "version_minor": 0
      },
      "text/plain": [
       "train-00269-of-01106-aec00fe3a5c45d9e.pa(…):   0%|          | 0.00/963M [00:00<?, ?B/s]"
      ]
     },
     "metadata": {},
     "output_type": "display_data"
    },
    {
     "data": {
      "application/vnd.jupyter.widget-view+json": {
       "model_id": "a835193bb8f843788f6a14cafad55d00",
       "version_major": 2,
       "version_minor": 0
      },
      "text/plain": [
       "train-00270-of-01106-1f1ce3a023fc5a5d.pa(…):   0%|          | 0.00/901M [00:00<?, ?B/s]"
      ]
     },
     "metadata": {},
     "output_type": "display_data"
    },
    {
     "data": {
      "application/vnd.jupyter.widget-view+json": {
       "model_id": "4f77874108f348e98acedad9bcb4fd3f",
       "version_major": 2,
       "version_minor": 0
      },
      "text/plain": [
       "train-00271-of-01106-65f33ace7092683b.pa(…):   0%|          | 0.00/977M [00:00<?, ?B/s]"
      ]
     },
     "metadata": {},
     "output_type": "display_data"
    },
    {
     "data": {
      "application/vnd.jupyter.widget-view+json": {
       "model_id": "4b39a755d161422e853cb2c29d91578b",
       "version_major": 2,
       "version_minor": 0
      },
      "text/plain": [
       "train-00272-of-01106-3d5ac4937810b122.pa(…):   0%|          | 0.00/906M [00:00<?, ?B/s]"
      ]
     },
     "metadata": {},
     "output_type": "display_data"
    },
    {
     "data": {
      "application/vnd.jupyter.widget-view+json": {
       "model_id": "7eba4a518fd84a19b580ffb2ff0f8d28",
       "version_major": 2,
       "version_minor": 0
      },
      "text/plain": [
       "train-00273-of-01106-6ce89827426423f4.pa(…):   0%|          | 0.00/958M [00:00<?, ?B/s]"
      ]
     },
     "metadata": {},
     "output_type": "display_data"
    },
    {
     "data": {
      "application/vnd.jupyter.widget-view+json": {
       "model_id": "ebecc2e3f9cf48c5a6423b4e4c8ca278",
       "version_major": 2,
       "version_minor": 0
      },
      "text/plain": [
       "train-00274-of-01106-e49fe47d0c64be01.pa(…):   0%|          | 0.00/849M [00:00<?, ?B/s]"
      ]
     },
     "metadata": {},
     "output_type": "display_data"
    },
    {
     "data": {
      "application/vnd.jupyter.widget-view+json": {
       "model_id": "d9f69a0455b2405fa51adfc54d5e8a9a",
       "version_major": 2,
       "version_minor": 0
      },
      "text/plain": [
       "train-00275-of-01106-9e36893025765a3b.pa(…):   0%|          | 0.00/793M [00:00<?, ?B/s]"
      ]
     },
     "metadata": {},
     "output_type": "display_data"
    },
    {
     "data": {
      "application/vnd.jupyter.widget-view+json": {
       "model_id": "292bcce3e7a04a65a9c9431b2186bd7c",
       "version_major": 2,
       "version_minor": 0
      },
      "text/plain": [
       "train-00276-of-01106-0aef0e163df31fa8.pa(…):   0%|          | 0.00/822M [00:00<?, ?B/s]"
      ]
     },
     "metadata": {},
     "output_type": "display_data"
    },
    {
     "data": {
      "application/vnd.jupyter.widget-view+json": {
       "model_id": "7068cd2bf1e74f36a0535e82a485ff5f",
       "version_major": 2,
       "version_minor": 0
      },
      "text/plain": [
       "train-00277-of-01106-4d78a1361698128b.pa(…):   0%|          | 0.00/810M [00:00<?, ?B/s]"
      ]
     },
     "metadata": {},
     "output_type": "display_data"
    },
    {
     "data": {
      "application/vnd.jupyter.widget-view+json": {
       "model_id": "4631ba98ce11405eae9eb91713136874",
       "version_major": 2,
       "version_minor": 0
      },
      "text/plain": [
       "train-00278-of-01106-512196572ac6a6e3.pa(…):   0%|          | 0.00/812M [00:00<?, ?B/s]"
      ]
     },
     "metadata": {},
     "output_type": "display_data"
    },
    {
     "data": {
      "application/vnd.jupyter.widget-view+json": {
       "model_id": "8fa8c34945bb426b99fc16624e456654",
       "version_major": 2,
       "version_minor": 0
      },
      "text/plain": [
       "train-00279-of-01106-94f1631860346d69.pa(…):   0%|          | 0.00/805M [00:00<?, ?B/s]"
      ]
     },
     "metadata": {},
     "output_type": "display_data"
    },
    {
     "data": {
      "application/vnd.jupyter.widget-view+json": {
       "model_id": "e16f1ff44ee44fee85466deac4084e82",
       "version_major": 2,
       "version_minor": 0
      },
      "text/plain": [
       "train-00280-of-01106-20bcba5e1e02daa6.pa(…):   0%|          | 0.00/837M [00:00<?, ?B/s]"
      ]
     },
     "metadata": {},
     "output_type": "display_data"
    },
    {
     "data": {
      "application/vnd.jupyter.widget-view+json": {
       "model_id": "7d01a3f5d64a430d8106bc941654471e",
       "version_major": 2,
       "version_minor": 0
      },
      "text/plain": [
       "train-00281-of-01106-d26caa5fd47043f2.pa(…):   0%|          | 0.00/845M [00:00<?, ?B/s]"
      ]
     },
     "metadata": {},
     "output_type": "display_data"
    },
    {
     "data": {
      "application/vnd.jupyter.widget-view+json": {
       "model_id": "42bfeb30ad05478781e1de0cafd7ee51",
       "version_major": 2,
       "version_minor": 0
      },
      "text/plain": [
       "train-00282-of-01106-b446d7a25eecf0ed.pa(…):   0%|          | 0.00/843M [00:00<?, ?B/s]"
      ]
     },
     "metadata": {},
     "output_type": "display_data"
    },
    {
     "data": {
      "application/vnd.jupyter.widget-view+json": {
       "model_id": "01ba657a188f4fc99a9d8665a8804c31",
       "version_major": 2,
       "version_minor": 0
      },
      "text/plain": [
       "train-00283-of-01106-ed98246998a3aec4.pa(…):   0%|          | 0.00/863M [00:00<?, ?B/s]"
      ]
     },
     "metadata": {},
     "output_type": "display_data"
    },
    {
     "data": {
      "application/vnd.jupyter.widget-view+json": {
       "model_id": "c7f3183a5a964fb98fb6cd8586ac1c00",
       "version_major": 2,
       "version_minor": 0
      },
      "text/plain": [
       "train-00284-of-01106-65b558aab272a2b4.pa(…):   0%|          | 0.00/853M [00:00<?, ?B/s]"
      ]
     },
     "metadata": {},
     "output_type": "display_data"
    },
    {
     "data": {
      "application/vnd.jupyter.widget-view+json": {
       "model_id": "5014f9808bb74b0d9f82a2b483ad2505",
       "version_major": 2,
       "version_minor": 0
      },
      "text/plain": [
       "train-00285-of-01106-f64907d30e6bf219.pa(…):   0%|          | 0.00/832M [00:00<?, ?B/s]"
      ]
     },
     "metadata": {},
     "output_type": "display_data"
    },
    {
     "data": {
      "application/vnd.jupyter.widget-view+json": {
       "model_id": "1f82b22d4287440ca5dfcaed531ff6d7",
       "version_major": 2,
       "version_minor": 0
      },
      "text/plain": [
       "train-00286-of-01106-2ba9d8d23806e9f0.pa(…):   0%|          | 0.00/829M [00:00<?, ?B/s]"
      ]
     },
     "metadata": {},
     "output_type": "display_data"
    },
    {
     "data": {
      "application/vnd.jupyter.widget-view+json": {
       "model_id": "8864c6cc0ac74aef96245aec18a12e95",
       "version_major": 2,
       "version_minor": 0
      },
      "text/plain": [
       "train-00287-of-01106-fa5e3983944f3156.pa(…):   0%|          | 0.00/811M [00:00<?, ?B/s]"
      ]
     },
     "metadata": {},
     "output_type": "display_data"
    },
    {
     "data": {
      "application/vnd.jupyter.widget-view+json": {
       "model_id": "c1f33b61da9947bdb44edf30b5edecd3",
       "version_major": 2,
       "version_minor": 0
      },
      "text/plain": [
       "train-00288-of-01106-eecd33e2e7bc1ebe.pa(…):   0%|          | 0.00/862M [00:00<?, ?B/s]"
      ]
     },
     "metadata": {},
     "output_type": "display_data"
    },
    {
     "data": {
      "application/vnd.jupyter.widget-view+json": {
       "model_id": "bda082f39d284f02a6b1860902ea3ffe",
       "version_major": 2,
       "version_minor": 0
      },
      "text/plain": [
       "train-00289-of-01106-7f321ce1e10be857.pa(…):   0%|          | 0.00/826M [00:00<?, ?B/s]"
      ]
     },
     "metadata": {},
     "output_type": "display_data"
    },
    {
     "data": {
      "application/vnd.jupyter.widget-view+json": {
       "model_id": "d0ce193d9326414898b1fcc66f81b629",
       "version_major": 2,
       "version_minor": 0
      },
      "text/plain": [
       "train-00290-of-01106-2f9056702daf2181.pa(…):   0%|          | 0.00/838M [00:00<?, ?B/s]"
      ]
     },
     "metadata": {},
     "output_type": "display_data"
    },
    {
     "data": {
      "application/vnd.jupyter.widget-view+json": {
       "model_id": "4730934814854aabb7568a9db0152dfa",
       "version_major": 2,
       "version_minor": 0
      },
      "text/plain": [
       "train-00291-of-01106-2881af0abcf11ec3.pa(…):   0%|          | 0.00/859M [00:00<?, ?B/s]"
      ]
     },
     "metadata": {},
     "output_type": "display_data"
    },
    {
     "data": {
      "application/vnd.jupyter.widget-view+json": {
       "model_id": "d96228a93baa4d3bade3f7bd311c9826",
       "version_major": 2,
       "version_minor": 0
      },
      "text/plain": [
       "train-00292-of-01106-7e0d86a50604fd6a.pa(…):   0%|          | 0.00/961M [00:00<?, ?B/s]"
      ]
     },
     "metadata": {},
     "output_type": "display_data"
    },
    {
     "data": {
      "application/vnd.jupyter.widget-view+json": {
       "model_id": "0df1a8c9774648938962ab33bccbf189",
       "version_major": 2,
       "version_minor": 0
      },
      "text/plain": [
       "train-00293-of-01106-3e9478d5de955461.pa(…):   0%|          | 0.00/900M [00:00<?, ?B/s]"
      ]
     },
     "metadata": {},
     "output_type": "display_data"
    },
    {
     "data": {
      "application/vnd.jupyter.widget-view+json": {
       "model_id": "1b45c8b76e6d43ed944e09c5375bf5ab",
       "version_major": 2,
       "version_minor": 0
      },
      "text/plain": [
       "train-00294-of-01106-0d3a1ce78f2e7f10.pa(…):   0%|          | 0.00/921M [00:00<?, ?B/s]"
      ]
     },
     "metadata": {},
     "output_type": "display_data"
    },
    {
     "data": {
      "application/vnd.jupyter.widget-view+json": {
       "model_id": "846f3cf9d4334cd5a9a66ee67e854519",
       "version_major": 2,
       "version_minor": 0
      },
      "text/plain": [
       "train-00295-of-01106-b5e2e692670c9398.pa(…):   0%|          | 0.00/928M [00:00<?, ?B/s]"
      ]
     },
     "metadata": {},
     "output_type": "display_data"
    },
    {
     "data": {
      "application/vnd.jupyter.widget-view+json": {
       "model_id": "4129517361364b5b8dbefbeb4afc9dea",
       "version_major": 2,
       "version_minor": 0
      },
      "text/plain": [
       "train-00296-of-01106-e6b39a2d60cdc71f.pa(…):   0%|          | 0.00/959M [00:00<?, ?B/s]"
      ]
     },
     "metadata": {},
     "output_type": "display_data"
    },
    {
     "data": {
      "application/vnd.jupyter.widget-view+json": {
       "model_id": "5a86673929bb498e80147e2781bd7cac",
       "version_major": 2,
       "version_minor": 0
      },
      "text/plain": [
       "train-00297-of-01106-401c709bba5f76c3.pa(…):   0%|          | 0.00/876M [00:00<?, ?B/s]"
      ]
     },
     "metadata": {},
     "output_type": "display_data"
    },
    {
     "data": {
      "application/vnd.jupyter.widget-view+json": {
       "model_id": "9eb36d5bdec249f684fd6e557817be52",
       "version_major": 2,
       "version_minor": 0
      },
      "text/plain": [
       "train-00298-of-01106-c6af2e87fd947397.pa(…):   0%|          | 0.00/838M [00:00<?, ?B/s]"
      ]
     },
     "metadata": {},
     "output_type": "display_data"
    },
    {
     "data": {
      "application/vnd.jupyter.widget-view+json": {
       "model_id": "5066c0d6d6ea4ff892f81ef66abbfff5",
       "version_major": 2,
       "version_minor": 0
      },
      "text/plain": [
       "train-00299-of-01106-9383db726fa0d6fc.pa(…):   0%|          | 0.00/829M [00:00<?, ?B/s]"
      ]
     },
     "metadata": {},
     "output_type": "display_data"
    },
    {
     "data": {
      "application/vnd.jupyter.widget-view+json": {
       "model_id": "9af998bdd5514229a4806f049c5c1a32",
       "version_major": 2,
       "version_minor": 0
      },
      "text/plain": [
       "train-00300-of-01106-47be8989297b488b.pa(…):   0%|          | 0.00/821M [00:00<?, ?B/s]"
      ]
     },
     "metadata": {},
     "output_type": "display_data"
    },
    {
     "data": {
      "application/vnd.jupyter.widget-view+json": {
       "model_id": "19458de854e14f99889d29b94f71738e",
       "version_major": 2,
       "version_minor": 0
      },
      "text/plain": [
       "train-00301-of-01106-2af99e06991a0a19.pa(…):   0%|          | 0.00/833M [00:00<?, ?B/s]"
      ]
     },
     "metadata": {},
     "output_type": "display_data"
    },
    {
     "data": {
      "application/vnd.jupyter.widget-view+json": {
       "model_id": "b824b1a29e8847faba7a8b0b68b4491a",
       "version_major": 2,
       "version_minor": 0
      },
      "text/plain": [
       "train-00302-of-01106-fe85ec9ca5029a4d.pa(…):   0%|          | 0.00/851M [00:00<?, ?B/s]"
      ]
     },
     "metadata": {},
     "output_type": "display_data"
    },
    {
     "data": {
      "application/vnd.jupyter.widget-view+json": {
       "model_id": "64642eaeb13046d4bd6d913a3efe3b07",
       "version_major": 2,
       "version_minor": 0
      },
      "text/plain": [
       "train-00303-of-01106-ae785af807a468b9.pa(…):   0%|          | 0.00/814M [00:00<?, ?B/s]"
      ]
     },
     "metadata": {},
     "output_type": "display_data"
    },
    {
     "data": {
      "application/vnd.jupyter.widget-view+json": {
       "model_id": "0ab57f8ac2cc48beb2343bab72d9a0a6",
       "version_major": 2,
       "version_minor": 0
      },
      "text/plain": [
       "train-00304-of-01106-aae80148b02240be.pa(…):   0%|          | 0.00/807M [00:00<?, ?B/s]"
      ]
     },
     "metadata": {},
     "output_type": "display_data"
    },
    {
     "data": {
      "application/vnd.jupyter.widget-view+json": {
       "model_id": "4fe358b686354484941a79030a8103c5",
       "version_major": 2,
       "version_minor": 0
      },
      "text/plain": [
       "train-00305-of-01106-537cc91dd42dc5d2.pa(…):   0%|          | 0.00/832M [00:00<?, ?B/s]"
      ]
     },
     "metadata": {},
     "output_type": "display_data"
    },
    {
     "data": {
      "application/vnd.jupyter.widget-view+json": {
       "model_id": "2eb581d046204ee7ae265957a20d56ce",
       "version_major": 2,
       "version_minor": 0
      },
      "text/plain": [
       "train-00306-of-01106-9749cd9a29741c5d.pa(…):   0%|          | 0.00/859M [00:00<?, ?B/s]"
      ]
     },
     "metadata": {},
     "output_type": "display_data"
    },
    {
     "data": {
      "application/vnd.jupyter.widget-view+json": {
       "model_id": "c31ddd5e48ce4c70accddc49625090f9",
       "version_major": 2,
       "version_minor": 0
      },
      "text/plain": [
       "train-00307-of-01106-84c5402ab7e1f747.pa(…):   0%|          | 0.00/813M [00:00<?, ?B/s]"
      ]
     },
     "metadata": {},
     "output_type": "display_data"
    },
    {
     "data": {
      "application/vnd.jupyter.widget-view+json": {
       "model_id": "8237b62533144cde97c4ffd210df44d5",
       "version_major": 2,
       "version_minor": 0
      },
      "text/plain": [
       "train-00308-of-01106-463181e3d8c40e9d.pa(…):   0%|          | 0.00/899M [00:00<?, ?B/s]"
      ]
     },
     "metadata": {},
     "output_type": "display_data"
    },
    {
     "data": {
      "application/vnd.jupyter.widget-view+json": {
       "model_id": "25bc7ac403d94189b5f1bea988349ad8",
       "version_major": 2,
       "version_minor": 0
      },
      "text/plain": [
       "train-00309-of-01106-dbc57caf0656ba47.pa(…):   0%|          | 0.00/933M [00:00<?, ?B/s]"
      ]
     },
     "metadata": {},
     "output_type": "display_data"
    },
    {
     "data": {
      "application/vnd.jupyter.widget-view+json": {
       "model_id": "c68745774dae4cad95be241b1bc1887c",
       "version_major": 2,
       "version_minor": 0
      },
      "text/plain": [
       "train-00310-of-01106-2e5a3635be16f461.pa(…):   0%|          | 0.00/927M [00:00<?, ?B/s]"
      ]
     },
     "metadata": {},
     "output_type": "display_data"
    },
    {
     "data": {
      "application/vnd.jupyter.widget-view+json": {
       "model_id": "9e34ba3cf2884a40a40bad0665499f3f",
       "version_major": 2,
       "version_minor": 0
      },
      "text/plain": [
       "train-00311-of-01106-00afa46af065e8ba.pa(…):   0%|          | 0.00/958M [00:00<?, ?B/s]"
      ]
     },
     "metadata": {},
     "output_type": "display_data"
    },
    {
     "data": {
      "application/vnd.jupyter.widget-view+json": {
       "model_id": "a377ef4a6e9149aba0b57acebf8ef1c8",
       "version_major": 2,
       "version_minor": 0
      },
      "text/plain": [
       "train-00312-of-01106-9d7feb46d55c260a.pa(…):   0%|          | 0.00/968M [00:00<?, ?B/s]"
      ]
     },
     "metadata": {},
     "output_type": "display_data"
    },
    {
     "data": {
      "application/vnd.jupyter.widget-view+json": {
       "model_id": "8f7b111e3d0c44f8a695f8e8b1e2e3f3",
       "version_major": 2,
       "version_minor": 0
      },
      "text/plain": [
       "train-00313-of-01106-2719fa6f754f3e02.pa(…):   0%|          | 0.00/970M [00:00<?, ?B/s]"
      ]
     },
     "metadata": {},
     "output_type": "display_data"
    },
    {
     "data": {
      "application/vnd.jupyter.widget-view+json": {
       "model_id": "15cc9cb274e44ca7b708010db0831412",
       "version_major": 2,
       "version_minor": 0
      },
      "text/plain": [
       "train-00314-of-01106-a2373c90762667fc.pa(…):   0%|          | 0.00/851M [00:00<?, ?B/s]"
      ]
     },
     "metadata": {},
     "output_type": "display_data"
    },
    {
     "data": {
      "application/vnd.jupyter.widget-view+json": {
       "model_id": "504c3db84233414484f7826d24c4d132",
       "version_major": 2,
       "version_minor": 0
      },
      "text/plain": [
       "train-00315-of-01106-8658874dc8a44656.pa(…):   0%|          | 0.00/856M [00:00<?, ?B/s]"
      ]
     },
     "metadata": {},
     "output_type": "display_data"
    },
    {
     "data": {
      "application/vnd.jupyter.widget-view+json": {
       "model_id": "afa8464b419548929f0e0aa52f928756",
       "version_major": 2,
       "version_minor": 0
      },
      "text/plain": [
       "train-00316-of-01106-53a57cf9ad5c5309.pa(…):   0%|          | 0.00/823M [00:00<?, ?B/s]"
      ]
     },
     "metadata": {},
     "output_type": "display_data"
    },
    {
     "data": {
      "application/vnd.jupyter.widget-view+json": {
       "model_id": "2a27f1d5837e455ea58dc5b8ae587dcf",
       "version_major": 2,
       "version_minor": 0
      },
      "text/plain": [
       "train-00317-of-01106-ed8c2fef1d2683fe.pa(…):   0%|          | 0.00/812M [00:00<?, ?B/s]"
      ]
     },
     "metadata": {},
     "output_type": "display_data"
    },
    {
     "data": {
      "application/vnd.jupyter.widget-view+json": {
       "model_id": "0b4ef4f61b7046ecb16c0b44c82c9fee",
       "version_major": 2,
       "version_minor": 0
      },
      "text/plain": [
       "train-00318-of-01106-19e02ef740461633.pa(…):   0%|          | 0.00/815M [00:00<?, ?B/s]"
      ]
     },
     "metadata": {},
     "output_type": "display_data"
    },
    {
     "data": {
      "application/vnd.jupyter.widget-view+json": {
       "model_id": "b143e850be32463ca4f126b973ad1fd4",
       "version_major": 2,
       "version_minor": 0
      },
      "text/plain": [
       "train-00319-of-01106-725396febf0afd0f.pa(…):   0%|          | 0.00/808M [00:00<?, ?B/s]"
      ]
     },
     "metadata": {},
     "output_type": "display_data"
    },
    {
     "data": {
      "application/vnd.jupyter.widget-view+json": {
       "model_id": "2e48add8bce3485485e007c7ce838db5",
       "version_major": 2,
       "version_minor": 0
      },
      "text/plain": [
       "train-00320-of-01106-e17a61c65d654b2d.pa(…):   0%|          | 0.00/831M [00:00<?, ?B/s]"
      ]
     },
     "metadata": {},
     "output_type": "display_data"
    },
    {
     "data": {
      "application/vnd.jupyter.widget-view+json": {
       "model_id": "db0d5f06ab3b4eacac063e9f4d8dfe93",
       "version_major": 2,
       "version_minor": 0
      },
      "text/plain": [
       "train-00321-of-01106-a09efe58667a94fc.pa(…):   0%|          | 0.00/811M [00:00<?, ?B/s]"
      ]
     },
     "metadata": {},
     "output_type": "display_data"
    },
    {
     "data": {
      "application/vnd.jupyter.widget-view+json": {
       "model_id": "3798e800b7f64857ad490c7c05f2c3b3",
       "version_major": 2,
       "version_minor": 0
      },
      "text/plain": [
       "train-00322-of-01106-ec1e7f69009b0789.pa(…):   0%|          | 0.00/832M [00:00<?, ?B/s]"
      ]
     },
     "metadata": {},
     "output_type": "display_data"
    },
    {
     "data": {
      "application/vnd.jupyter.widget-view+json": {
       "model_id": "0fcb407dec43493abbe0b18d7ae9c118",
       "version_major": 2,
       "version_minor": 0
      },
      "text/plain": [
       "train-00323-of-01106-4f3d888b73e91b45.pa(…):   0%|          | 0.00/807M [00:00<?, ?B/s]"
      ]
     },
     "metadata": {},
     "output_type": "display_data"
    },
    {
     "data": {
      "application/vnd.jupyter.widget-view+json": {
       "model_id": "af765c13b82b48efbd57a4d3ac571f54",
       "version_major": 2,
       "version_minor": 0
      },
      "text/plain": [
       "train-00324-of-01106-93870835abcbd419.pa(…):   0%|          | 0.00/831M [00:00<?, ?B/s]"
      ]
     },
     "metadata": {},
     "output_type": "display_data"
    },
    {
     "data": {
      "application/vnd.jupyter.widget-view+json": {
       "model_id": "2cebdb697609438990b324ca98207c7c",
       "version_major": 2,
       "version_minor": 0
      },
      "text/plain": [
       "train-00325-of-01106-8fa61153851b6475.pa(…):   0%|          | 0.00/850M [00:00<?, ?B/s]"
      ]
     },
     "metadata": {},
     "output_type": "display_data"
    },
    {
     "data": {
      "application/vnd.jupyter.widget-view+json": {
       "model_id": "a87be0f1049f4603acc33d40341a7705",
       "version_major": 2,
       "version_minor": 0
      },
      "text/plain": [
       "train-00326-of-01106-ea3fb56ffdfb7591.pa(…):   0%|          | 0.00/904M [00:00<?, ?B/s]"
      ]
     },
     "metadata": {},
     "output_type": "display_data"
    },
    {
     "data": {
      "application/vnd.jupyter.widget-view+json": {
       "model_id": "8c11107b2c1b42da94cac6d8f24f10f8",
       "version_major": 2,
       "version_minor": 0
      },
      "text/plain": [
       "train-00327-of-01106-0f2292b0c19ced56.pa(…):   0%|          | 0.00/954M [00:00<?, ?B/s]"
      ]
     },
     "metadata": {},
     "output_type": "display_data"
    },
    {
     "data": {
      "application/vnd.jupyter.widget-view+json": {
       "model_id": "3151038af9dc40539e9b92d8ffa989c9",
       "version_major": 2,
       "version_minor": 0
      },
      "text/plain": [
       "train-00328-of-01106-11febf20f4b500e1.pa(…):   0%|          | 0.00/919M [00:00<?, ?B/s]"
      ]
     },
     "metadata": {},
     "output_type": "display_data"
    },
    {
     "data": {
      "application/vnd.jupyter.widget-view+json": {
       "model_id": "dc82af6137d147eebcb2e064a5a9df8f",
       "version_major": 2,
       "version_minor": 0
      },
      "text/plain": [
       "train-00329-of-01106-d80f608ffbba9573.pa(…):   0%|          | 0.00/941M [00:00<?, ?B/s]"
      ]
     },
     "metadata": {},
     "output_type": "display_data"
    },
    {
     "data": {
      "application/vnd.jupyter.widget-view+json": {
       "model_id": "fd085353fbba424482a145c8571d6b94",
       "version_major": 2,
       "version_minor": 0
      },
      "text/plain": [
       "train-00330-of-01106-89f0735234564027.pa(…):   0%|          | 0.00/915M [00:00<?, ?B/s]"
      ]
     },
     "metadata": {},
     "output_type": "display_data"
    },
    {
     "data": {
      "application/vnd.jupyter.widget-view+json": {
       "model_id": "0bac818045194677b780ce6fda629600",
       "version_major": 2,
       "version_minor": 0
      },
      "text/plain": [
       "train-00331-of-01106-1c6237d099b70fc9.pa(…):   0%|          | 0.00/842M [00:00<?, ?B/s]"
      ]
     },
     "metadata": {},
     "output_type": "display_data"
    },
    {
     "data": {
      "application/vnd.jupyter.widget-view+json": {
       "model_id": "230ceb76dd0049638e43648989633641",
       "version_major": 2,
       "version_minor": 0
      },
      "text/plain": [
       "train-00332-of-01106-f84f83bd65e59a79.pa(…):   0%|          | 0.00/880M [00:00<?, ?B/s]"
      ]
     },
     "metadata": {},
     "output_type": "display_data"
    },
    {
     "data": {
      "application/vnd.jupyter.widget-view+json": {
       "model_id": "b346c74e7bd6418e8d812d4c71373c8d",
       "version_major": 2,
       "version_minor": 0
      },
      "text/plain": [
       "train-00333-of-01106-81bd0246e66027b7.pa(…):   0%|          | 0.00/856M [00:00<?, ?B/s]"
      ]
     },
     "metadata": {},
     "output_type": "display_data"
    },
    {
     "data": {
      "application/vnd.jupyter.widget-view+json": {
       "model_id": "e2a031001fcf46cdb4622e8d2fc8cda3",
       "version_major": 2,
       "version_minor": 0
      },
      "text/plain": [
       "train-00334-of-01106-47bcca8c6abb28c6.pa(…):   0%|          | 0.00/832M [00:00<?, ?B/s]"
      ]
     },
     "metadata": {},
     "output_type": "display_data"
    },
    {
     "data": {
      "application/vnd.jupyter.widget-view+json": {
       "model_id": "be83e36bc6df476f9bf08aa533df2cca",
       "version_major": 2,
       "version_minor": 0
      },
      "text/plain": [
       "train-00335-of-01106-a129b85d44a7fba2.pa(…):   0%|          | 0.00/798M [00:00<?, ?B/s]"
      ]
     },
     "metadata": {},
     "output_type": "display_data"
    },
    {
     "data": {
      "application/vnd.jupyter.widget-view+json": {
       "model_id": "29156869d97a4159a09b13cf0c99a961",
       "version_major": 2,
       "version_minor": 0
      },
      "text/plain": [
       "train-00336-of-01106-149311b336fcbd4c.pa(…):   0%|          | 0.00/856M [00:00<?, ?B/s]"
      ]
     },
     "metadata": {},
     "output_type": "display_data"
    },
    {
     "data": {
      "application/vnd.jupyter.widget-view+json": {
       "model_id": "08e874fb91b3422dae1acb54cff29534",
       "version_major": 2,
       "version_minor": 0
      },
      "text/plain": [
       "train-00337-of-01106-59d4bc1a3838e707.pa(…):   0%|          | 0.00/811M [00:00<?, ?B/s]"
      ]
     },
     "metadata": {},
     "output_type": "display_data"
    },
    {
     "data": {
      "application/vnd.jupyter.widget-view+json": {
       "model_id": "40601b5cb1794d109d3dba16f20b6b6d",
       "version_major": 2,
       "version_minor": 0
      },
      "text/plain": [
       "train-00338-of-01106-e0ef6ee42800a08f.pa(…):   0%|          | 0.00/845M [00:00<?, ?B/s]"
      ]
     },
     "metadata": {},
     "output_type": "display_data"
    },
    {
     "data": {
      "application/vnd.jupyter.widget-view+json": {
       "model_id": "8d22651e12fd4b02b6ba3517728d60e8",
       "version_major": 2,
       "version_minor": 0
      },
      "text/plain": [
       "train-00339-of-01106-950083cfc295a242.pa(…):   0%|          | 0.00/814M [00:00<?, ?B/s]"
      ]
     },
     "metadata": {},
     "output_type": "display_data"
    },
    {
     "data": {
      "application/vnd.jupyter.widget-view+json": {
       "model_id": "f327380d8d3d4a1fab3c06053b4c4d2d",
       "version_major": 2,
       "version_minor": 0
      },
      "text/plain": [
       "train-00340-of-01106-47c00050342e63a4.pa(…):   0%|          | 0.00/814M [00:00<?, ?B/s]"
      ]
     },
     "metadata": {},
     "output_type": "display_data"
    },
    {
     "data": {
      "application/vnd.jupyter.widget-view+json": {
       "model_id": "6aba070e929d42c2959c0462723f1893",
       "version_major": 2,
       "version_minor": 0
      },
      "text/plain": [
       "train-00341-of-01106-37808f0ae60c9a0d.pa(…):   0%|          | 0.00/819M [00:00<?, ?B/s]"
      ]
     },
     "metadata": {},
     "output_type": "display_data"
    },
    {
     "data": {
      "application/vnd.jupyter.widget-view+json": {
       "model_id": "70031b300ac94e86945f281e30cd8d86",
       "version_major": 2,
       "version_minor": 0
      },
      "text/plain": [
       "train-00342-of-01106-c875315fe6b95b0e.pa(…):   0%|          | 0.00/812M [00:00<?, ?B/s]"
      ]
     },
     "metadata": {},
     "output_type": "display_data"
    },
    {
     "data": {
      "application/vnd.jupyter.widget-view+json": {
       "model_id": "9fb39b8f2c1048b0b2d76fb11a3c731d",
       "version_major": 2,
       "version_minor": 0
      },
      "text/plain": [
       "train-00343-of-01106-578a9fc42b8e5149.pa(…):   0%|          | 0.00/879M [00:00<?, ?B/s]"
      ]
     },
     "metadata": {},
     "output_type": "display_data"
    },
    {
     "data": {
      "application/vnd.jupyter.widget-view+json": {
       "model_id": "fcbfc358b886472d8326ee61c49dcf40",
       "version_major": 2,
       "version_minor": 0
      },
      "text/plain": [
       "train-00344-of-01106-e7cb250774ba91a1.pa(…):   0%|          | 0.00/874M [00:00<?, ?B/s]"
      ]
     },
     "metadata": {},
     "output_type": "display_data"
    },
    {
     "data": {
      "application/vnd.jupyter.widget-view+json": {
       "model_id": "b1e27b95eaa54a1eb0371de64cafcbbb",
       "version_major": 2,
       "version_minor": 0
      },
      "text/plain": [
       "train-00345-of-01106-6faee465a080818a.pa(…):   0%|          | 0.00/834M [00:00<?, ?B/s]"
      ]
     },
     "metadata": {},
     "output_type": "display_data"
    },
    {
     "data": {
      "application/vnd.jupyter.widget-view+json": {
       "model_id": "2d4922e7f1d74763be3fe3b58f41a23a",
       "version_major": 2,
       "version_minor": 0
      },
      "text/plain": [
       "train-00346-of-01106-d6d15b86091c4359.pa(…):   0%|          | 0.00/854M [00:00<?, ?B/s]"
      ]
     },
     "metadata": {},
     "output_type": "display_data"
    },
    {
     "data": {
      "application/vnd.jupyter.widget-view+json": {
       "model_id": "a851a76e7481424aa48b2cbe22b35dae",
       "version_major": 2,
       "version_minor": 0
      },
      "text/plain": [
       "train-00347-of-01106-61bfb93f47b55991.pa(…):   0%|          | 0.00/827M [00:00<?, ?B/s]"
      ]
     },
     "metadata": {},
     "output_type": "display_data"
    },
    {
     "data": {
      "application/vnd.jupyter.widget-view+json": {
       "model_id": "530da86eebc94836a43495c057148686",
       "version_major": 2,
       "version_minor": 0
      },
      "text/plain": [
       "train-00348-of-01106-dd97e3cc4da12c58.pa(…):   0%|          | 0.00/801M [00:00<?, ?B/s]"
      ]
     },
     "metadata": {},
     "output_type": "display_data"
    },
    {
     "data": {
      "application/vnd.jupyter.widget-view+json": {
       "model_id": "8065684dc6d945d59d255ee976988731",
       "version_major": 2,
       "version_minor": 0
      },
      "text/plain": [
       "train-00349-of-01106-4a591a20db3514c5.pa(…):   0%|          | 0.00/909M [00:00<?, ?B/s]"
      ]
     },
     "metadata": {},
     "output_type": "display_data"
    },
    {
     "data": {
      "application/vnd.jupyter.widget-view+json": {
       "model_id": "1345bcd529c04fdaa300bb7953310d56",
       "version_major": 2,
       "version_minor": 0
      },
      "text/plain": [
       "train-00350-of-01106-3efde8b9c6ef5dcf.pa(…):   0%|          | 0.00/960M [00:00<?, ?B/s]"
      ]
     },
     "metadata": {},
     "output_type": "display_data"
    },
    {
     "data": {
      "application/vnd.jupyter.widget-view+json": {
       "model_id": "a6b88c976c0c45f4a231d502fe1f8ae8",
       "version_major": 2,
       "version_minor": 0
      },
      "text/plain": [
       "train-00351-of-01106-6ec6750e89c7172d.pa(…):   0%|          | 0.00/930M [00:00<?, ?B/s]"
      ]
     },
     "metadata": {},
     "output_type": "display_data"
    },
    {
     "data": {
      "application/vnd.jupyter.widget-view+json": {
       "model_id": "3394b138409a4a23a646288db325e1a7",
       "version_major": 2,
       "version_minor": 0
      },
      "text/plain": [
       "train-00352-of-01106-2c4eccde5d7bd6b1.pa(…):   0%|          | 0.00/952M [00:00<?, ?B/s]"
      ]
     },
     "metadata": {},
     "output_type": "display_data"
    },
    {
     "data": {
      "application/vnd.jupyter.widget-view+json": {
       "model_id": "ac95322658294617a7d626931422c23b",
       "version_major": 2,
       "version_minor": 0
      },
      "text/plain": [
       "train-00353-of-01106-d4a5b258eb4fd09d.pa(…):   0%|          | 0.00/939M [00:00<?, ?B/s]"
      ]
     },
     "metadata": {},
     "output_type": "display_data"
    },
    {
     "data": {
      "application/vnd.jupyter.widget-view+json": {
       "model_id": "e7d4d97a63214d4c8eb7d26d8c5e1c53",
       "version_major": 2,
       "version_minor": 0
      },
      "text/plain": [
       "train-00354-of-01106-a0cf3da5fb32e20a.pa(…):   0%|          | 0.00/984M [00:00<?, ?B/s]"
      ]
     },
     "metadata": {},
     "output_type": "display_data"
    },
    {
     "data": {
      "application/vnd.jupyter.widget-view+json": {
       "model_id": "d0d243dc177a48daab1a0c8b1ce0c96f",
       "version_major": 2,
       "version_minor": 0
      },
      "text/plain": [
       "train-00355-of-01106-a7e3b6617256cd63.pa(…):   0%|          | 0.00/810M [00:00<?, ?B/s]"
      ]
     },
     "metadata": {},
     "output_type": "display_data"
    },
    {
     "data": {
      "application/vnd.jupyter.widget-view+json": {
       "model_id": "a4a49f21bf604df8909009a5ab40d358",
       "version_major": 2,
       "version_minor": 0
      },
      "text/plain": [
       "train-00356-of-01106-5a7cf678e23bad4f.pa(…):   0%|          | 0.00/843M [00:00<?, ?B/s]"
      ]
     },
     "metadata": {},
     "output_type": "display_data"
    },
    {
     "data": {
      "application/vnd.jupyter.widget-view+json": {
       "model_id": "048f122d86814bf7a0e3b4304902321e",
       "version_major": 2,
       "version_minor": 0
      },
      "text/plain": [
       "train-00357-of-01106-5ab5c2b3f03f5986.pa(…):   0%|          | 0.00/839M [00:00<?, ?B/s]"
      ]
     },
     "metadata": {},
     "output_type": "display_data"
    },
    {
     "data": {
      "application/vnd.jupyter.widget-view+json": {
       "model_id": "b2add9a785b94357a34dfc386a461e5f",
       "version_major": 2,
       "version_minor": 0
      },
      "text/plain": [
       "train-00358-of-01106-6a6a90dec60d9917.pa(…):   0%|          | 0.00/852M [00:00<?, ?B/s]"
      ]
     },
     "metadata": {},
     "output_type": "display_data"
    },
    {
     "data": {
      "application/vnd.jupyter.widget-view+json": {
       "model_id": "46c626346f2b4820a1c750be29e14d22",
       "version_major": 2,
       "version_minor": 0
      },
      "text/plain": [
       "train-00359-of-01106-0be95d9b1145afe2.pa(…):   0%|          | 0.00/853M [00:00<?, ?B/s]"
      ]
     },
     "metadata": {},
     "output_type": "display_data"
    },
    {
     "data": {
      "application/vnd.jupyter.widget-view+json": {
       "model_id": "ed370c037a14418eb301e4ea257cecf5",
       "version_major": 2,
       "version_minor": 0
      },
      "text/plain": [
       "train-00360-of-01106-fcf1e45c4f4b611a.pa(…):   0%|          | 0.00/809M [00:00<?, ?B/s]"
      ]
     },
     "metadata": {},
     "output_type": "display_data"
    },
    {
     "data": {
      "application/vnd.jupyter.widget-view+json": {
       "model_id": "28623ddf420748caaf76299300c4aca6",
       "version_major": 2,
       "version_minor": 0
      },
      "text/plain": [
       "train-00361-of-01106-1e40b8f8048a06cb.pa(…):   0%|          | 0.00/840M [00:00<?, ?B/s]"
      ]
     },
     "metadata": {},
     "output_type": "display_data"
    },
    {
     "data": {
      "application/vnd.jupyter.widget-view+json": {
       "model_id": "7e68d1f5e1b84327acabe3fd14343d2d",
       "version_major": 2,
       "version_minor": 0
      },
      "text/plain": [
       "train-00362-of-01106-945c172ad5d0f70e.pa(…):   0%|          | 0.00/803M [00:00<?, ?B/s]"
      ]
     },
     "metadata": {},
     "output_type": "display_data"
    },
    {
     "data": {
      "application/vnd.jupyter.widget-view+json": {
       "model_id": "7d80ccd578394477bac24be323d02f25",
       "version_major": 2,
       "version_minor": 0
      },
      "text/plain": [
       "train-00363-of-01106-e02453bf31134d9c.pa(…):   0%|          | 0.00/829M [00:00<?, ?B/s]"
      ]
     },
     "metadata": {},
     "output_type": "display_data"
    },
    {
     "data": {
      "application/vnd.jupyter.widget-view+json": {
       "model_id": "c47a27488b4b4bb8b1c88bf88d61e85d",
       "version_major": 2,
       "version_minor": 0
      },
      "text/plain": [
       "train-00364-of-01106-8d0ed981163f4fef.pa(…):   0%|          | 0.00/818M [00:00<?, ?B/s]"
      ]
     },
     "metadata": {},
     "output_type": "display_data"
    },
    {
     "data": {
      "application/vnd.jupyter.widget-view+json": {
       "model_id": "ab939eebb1c740029229b529f95ff5a4",
       "version_major": 2,
       "version_minor": 0
      },
      "text/plain": [
       "train-00365-of-01106-78eddb1804049e9e.pa(…):   0%|          | 0.00/827M [00:00<?, ?B/s]"
      ]
     },
     "metadata": {},
     "output_type": "display_data"
    },
    {
     "data": {
      "application/vnd.jupyter.widget-view+json": {
       "model_id": "cb102b91b5624ec4a328c5899b023da2",
       "version_major": 2,
       "version_minor": 0
      },
      "text/plain": [
       "train-00366-of-01106-029ee2ad93909296.pa(…):   0%|          | 0.00/827M [00:00<?, ?B/s]"
      ]
     },
     "metadata": {},
     "output_type": "display_data"
    },
    {
     "data": {
      "application/vnd.jupyter.widget-view+json": {
       "model_id": "b8f7b3b5e3a24f2fadd7875af67d123a",
       "version_major": 2,
       "version_minor": 0
      },
      "text/plain": [
       "train-00367-of-01106-4d5273c9175e2a2e.pa(…):   0%|          | 0.00/815M [00:00<?, ?B/s]"
      ]
     },
     "metadata": {},
     "output_type": "display_data"
    },
    {
     "data": {
      "application/vnd.jupyter.widget-view+json": {
       "model_id": "ba53967c2a694782a3a9a5d683020070",
       "version_major": 2,
       "version_minor": 0
      },
      "text/plain": [
       "train-00368-of-01106-e4e3f4931b69e3a9.pa(…):   0%|          | 0.00/830M [00:00<?, ?B/s]"
      ]
     },
     "metadata": {},
     "output_type": "display_data"
    },
    {
     "data": {
      "application/vnd.jupyter.widget-view+json": {
       "model_id": "12395a2e20e94a62a396cc32f3b41ef8",
       "version_major": 2,
       "version_minor": 0
      },
      "text/plain": [
       "train-00369-of-01106-d4eaf0416baa1cc4.pa(…):   0%|          | 0.00/795M [00:00<?, ?B/s]"
      ]
     },
     "metadata": {},
     "output_type": "display_data"
    },
    {
     "data": {
      "application/vnd.jupyter.widget-view+json": {
       "model_id": "a497f3b403d34b56bc9a2b9e1d1ab11c",
       "version_major": 2,
       "version_minor": 0
      },
      "text/plain": [
       "train-00370-of-01106-004af9a856b524e6.pa(…):   0%|          | 0.00/822M [00:00<?, ?B/s]"
      ]
     },
     "metadata": {},
     "output_type": "display_data"
    },
    {
     "data": {
      "application/vnd.jupyter.widget-view+json": {
       "model_id": "03a1b71eb6e84785932b14dd82edcfbf",
       "version_major": 2,
       "version_minor": 0
      },
      "text/plain": [
       "train-00371-of-01106-8fd8b47f913282b5.pa(…):   0%|          | 0.00/819M [00:00<?, ?B/s]"
      ]
     },
     "metadata": {},
     "output_type": "display_data"
    },
    {
     "data": {
      "application/vnd.jupyter.widget-view+json": {
       "model_id": "8829dd2497f64630b4592f2d2902d7d9",
       "version_major": 2,
       "version_minor": 0
      },
      "text/plain": [
       "train-00372-of-01106-e97a85e523f9cb75.pa(…):   0%|          | 0.00/832M [00:00<?, ?B/s]"
      ]
     },
     "metadata": {},
     "output_type": "display_data"
    },
    {
     "data": {
      "application/vnd.jupyter.widget-view+json": {
       "model_id": "5273176d88bc4666888cad012b40377f",
       "version_major": 2,
       "version_minor": 0
      },
      "text/plain": [
       "train-00373-of-01106-eb01853a0d538a9c.pa(…):   0%|          | 0.00/809M [00:00<?, ?B/s]"
      ]
     },
     "metadata": {},
     "output_type": "display_data"
    },
    {
     "data": {
      "application/vnd.jupyter.widget-view+json": {
       "model_id": "d183baed4fcb4ee49dd42b0ef2ca9d01",
       "version_major": 2,
       "version_minor": 0
      },
      "text/plain": [
       "train-00374-of-01106-c99e21728378abe3.pa(…):   0%|          | 0.00/828M [00:00<?, ?B/s]"
      ]
     },
     "metadata": {},
     "output_type": "display_data"
    },
    {
     "data": {
      "application/vnd.jupyter.widget-view+json": {
       "model_id": "bf16c8d0864b43909dad5b985a1feb68",
       "version_major": 2,
       "version_minor": 0
      },
      "text/plain": [
       "train-00375-of-01106-704181a5e6041547.pa(…):   0%|          | 0.00/799M [00:00<?, ?B/s]"
      ]
     },
     "metadata": {},
     "output_type": "display_data"
    },
    {
     "data": {
      "application/vnd.jupyter.widget-view+json": {
       "model_id": "feaa94f2e7724c51bf8171c039f5ba30",
       "version_major": 2,
       "version_minor": 0
      },
      "text/plain": [
       "train-00376-of-01106-92df01faa2ca9c19.pa(…):   0%|          | 0.00/839M [00:00<?, ?B/s]"
      ]
     },
     "metadata": {},
     "output_type": "display_data"
    },
    {
     "data": {
      "application/vnd.jupyter.widget-view+json": {
       "model_id": "ed3ceceef8964ca7b1143bebc20ffab8",
       "version_major": 2,
       "version_minor": 0
      },
      "text/plain": [
       "train-00377-of-01106-c6481811be0f8b0a.pa(…):   0%|          | 0.00/818M [00:00<?, ?B/s]"
      ]
     },
     "metadata": {},
     "output_type": "display_data"
    },
    {
     "data": {
      "application/vnd.jupyter.widget-view+json": {
       "model_id": "51b6fdf2e6204dadae88fa2aa088716b",
       "version_major": 2,
       "version_minor": 0
      },
      "text/plain": [
       "train-00378-of-01106-8457a54b8bed1b7f.pa(…):   0%|          | 0.00/914M [00:00<?, ?B/s]"
      ]
     },
     "metadata": {},
     "output_type": "display_data"
    },
    {
     "data": {
      "application/vnd.jupyter.widget-view+json": {
       "model_id": "ba11f0b67f5042a5b7532cd150f26556",
       "version_major": 2,
       "version_minor": 0
      },
      "text/plain": [
       "train-00379-of-01106-5880764017d8f297.pa(…):   0%|          | 0.00/942M [00:00<?, ?B/s]"
      ]
     },
     "metadata": {},
     "output_type": "display_data"
    },
    {
     "data": {
      "application/vnd.jupyter.widget-view+json": {
       "model_id": "200fbab84b294bd5b2e589e7cdb7dd40",
       "version_major": 2,
       "version_minor": 0
      },
      "text/plain": [
       "train-00380-of-01106-1930f1752722cce9.pa(…):   0%|          | 0.00/921M [00:00<?, ?B/s]"
      ]
     },
     "metadata": {},
     "output_type": "display_data"
    },
    {
     "data": {
      "application/vnd.jupyter.widget-view+json": {
       "model_id": "0486d1ab54c348dab25f707a4f9ba2cd",
       "version_major": 2,
       "version_minor": 0
      },
      "text/plain": [
       "train-00381-of-01106-753c02bdd37df980.pa(…):   0%|          | 0.00/968M [00:00<?, ?B/s]"
      ]
     },
     "metadata": {},
     "output_type": "display_data"
    },
    {
     "data": {
      "application/vnd.jupyter.widget-view+json": {
       "model_id": "e0c4b016e4f44ac18178ae92fa5d3508",
       "version_major": 2,
       "version_minor": 0
      },
      "text/plain": [
       "train-00382-of-01106-02d1c1e14c545ff2.pa(…):   0%|          | 0.00/945M [00:00<?, ?B/s]"
      ]
     },
     "metadata": {},
     "output_type": "display_data"
    },
    {
     "data": {
      "application/vnd.jupyter.widget-view+json": {
       "model_id": "1f599cac201941eda30778a40c336584",
       "version_major": 2,
       "version_minor": 0
      },
      "text/plain": [
       "train-00383-of-01106-63012d7762092385.pa(…):   0%|          | 0.00/934M [00:00<?, ?B/s]"
      ]
     },
     "metadata": {},
     "output_type": "display_data"
    },
    {
     "data": {
      "application/vnd.jupyter.widget-view+json": {
       "model_id": "acbd13db123349978e10db81e5e0479a",
       "version_major": 2,
       "version_minor": 0
      },
      "text/plain": [
       "train-00384-of-01106-300bde17ba21fd0d.pa(…):   0%|          | 0.00/814M [00:00<?, ?B/s]"
      ]
     },
     "metadata": {},
     "output_type": "display_data"
    },
    {
     "data": {
      "application/vnd.jupyter.widget-view+json": {
       "model_id": "1d682dc52bfb4308985665f492293b1e",
       "version_major": 2,
       "version_minor": 0
      },
      "text/plain": [
       "train-00385-of-01106-abb889547d561948.pa(…):   0%|          | 0.00/828M [00:00<?, ?B/s]"
      ]
     },
     "metadata": {},
     "output_type": "display_data"
    },
    {
     "data": {
      "application/vnd.jupyter.widget-view+json": {
       "model_id": "b30ad00db2934a019faa3ff635436723",
       "version_major": 2,
       "version_minor": 0
      },
      "text/plain": [
       "train-00386-of-01106-964e3e22d5bdf26d.pa(…):   0%|          | 0.00/836M [00:00<?, ?B/s]"
      ]
     },
     "metadata": {},
     "output_type": "display_data"
    },
    {
     "data": {
      "application/vnd.jupyter.widget-view+json": {
       "model_id": "a5bb6a97deca4ec09b4cb5a68d615761",
       "version_major": 2,
       "version_minor": 0
      },
      "text/plain": [
       "train-00387-of-01106-ce89628817b7c57f.pa(…):   0%|          | 0.00/818M [00:00<?, ?B/s]"
      ]
     },
     "metadata": {},
     "output_type": "display_data"
    },
    {
     "data": {
      "application/vnd.jupyter.widget-view+json": {
       "model_id": "b809175355fa4a0cace370a5c24fbca7",
       "version_major": 2,
       "version_minor": 0
      },
      "text/plain": [
       "train-00388-of-01106-1b10d3e5dfda0b40.pa(…):   0%|          | 0.00/828M [00:00<?, ?B/s]"
      ]
     },
     "metadata": {},
     "output_type": "display_data"
    },
    {
     "data": {
      "application/vnd.jupyter.widget-view+json": {
       "model_id": "db7475f919aa4f259275c850b2259b2e",
       "version_major": 2,
       "version_minor": 0
      },
      "text/plain": [
       "train-00389-of-01106-1ab9eb1b95ea8d90.pa(…):   0%|          | 0.00/847M [00:00<?, ?B/s]"
      ]
     },
     "metadata": {},
     "output_type": "display_data"
    },
    {
     "data": {
      "application/vnd.jupyter.widget-view+json": {
       "model_id": "bbc29a3fba7643f0b92712ad2f8f168f",
       "version_major": 2,
       "version_minor": 0
      },
      "text/plain": [
       "train-00390-of-01106-bc0f5c98f7217162.pa(…):   0%|          | 0.00/858M [00:00<?, ?B/s]"
      ]
     },
     "metadata": {},
     "output_type": "display_data"
    },
    {
     "data": {
      "application/vnd.jupyter.widget-view+json": {
       "model_id": "d87d268daf1d47018852b0fc8e96d684",
       "version_major": 2,
       "version_minor": 0
      },
      "text/plain": [
       "train-00391-of-01106-29f3c3ee9f786060.pa(…):   0%|          | 0.00/818M [00:00<?, ?B/s]"
      ]
     },
     "metadata": {},
     "output_type": "display_data"
    },
    {
     "data": {
      "application/vnd.jupyter.widget-view+json": {
       "model_id": "46c52314437d49ef94af4863dbb8828a",
       "version_major": 2,
       "version_minor": 0
      },
      "text/plain": [
       "train-00392-of-01106-ae81ccbd6acd639e.pa(…):   0%|          | 0.00/808M [00:00<?, ?B/s]"
      ]
     },
     "metadata": {},
     "output_type": "display_data"
    },
    {
     "data": {
      "application/vnd.jupyter.widget-view+json": {
       "model_id": "9092ce7ecae8453990e03b6d6ab93f02",
       "version_major": 2,
       "version_minor": 0
      },
      "text/plain": [
       "train-00393-of-01106-70953a34d279d3f6.pa(…):   0%|          | 0.00/856M [00:00<?, ?B/s]"
      ]
     },
     "metadata": {},
     "output_type": "display_data"
    },
    {
     "data": {
      "application/vnd.jupyter.widget-view+json": {
       "model_id": "d9e05654bc8b46d393354b46621ef1fc",
       "version_major": 2,
       "version_minor": 0
      },
      "text/plain": [
       "train-00394-of-01106-3f86663a678ac00c.pa(…):   0%|          | 0.00/858M [00:00<?, ?B/s]"
      ]
     },
     "metadata": {},
     "output_type": "display_data"
    },
    {
     "data": {
      "application/vnd.jupyter.widget-view+json": {
       "model_id": "b1cce58b00f5469999b1a7b21ab6638c",
       "version_major": 2,
       "version_minor": 0
      },
      "text/plain": [
       "train-00395-of-01106-9e5cd592097f5892.pa(…):   0%|          | 0.00/945M [00:00<?, ?B/s]"
      ]
     },
     "metadata": {},
     "output_type": "display_data"
    },
    {
     "data": {
      "application/vnd.jupyter.widget-view+json": {
       "model_id": "230a141f99ba45c5b34d66326079ed26",
       "version_major": 2,
       "version_minor": 0
      },
      "text/plain": [
       "train-00396-of-01106-4b67d476e783ca2c.pa(…):   0%|          | 0.00/985M [00:00<?, ?B/s]"
      ]
     },
     "metadata": {},
     "output_type": "display_data"
    },
    {
     "data": {
      "application/vnd.jupyter.widget-view+json": {
       "model_id": "6d349c07132940d29b5e35ac9fdda096",
       "version_major": 2,
       "version_minor": 0
      },
      "text/plain": [
       "train-00397-of-01106-a83dbf0184643d9c.pa(…):   0%|          | 0.00/950M [00:00<?, ?B/s]"
      ]
     },
     "metadata": {},
     "output_type": "display_data"
    },
    {
     "data": {
      "application/vnd.jupyter.widget-view+json": {
       "model_id": "0c530e84c6d5432999dac59abff21425",
       "version_major": 2,
       "version_minor": 0
      },
      "text/plain": [
       "train-00398-of-01106-b23600ee8732082a.pa(…):   0%|          | 0.00/903M [00:00<?, ?B/s]"
      ]
     },
     "metadata": {},
     "output_type": "display_data"
    },
    {
     "data": {
      "application/vnd.jupyter.widget-view+json": {
       "model_id": "b225cec85dcf46adb6d263e2973464dd",
       "version_major": 2,
       "version_minor": 0
      },
      "text/plain": [
       "train-00399-of-01106-4edb63d895ec8616.pa(…):   0%|          | 0.00/972M [00:00<?, ?B/s]"
      ]
     },
     "metadata": {},
     "output_type": "display_data"
    },
    {
     "data": {
      "application/vnd.jupyter.widget-view+json": {
       "model_id": "d8007a3c4061459e96ad2594b253477d",
       "version_major": 2,
       "version_minor": 0
      },
      "text/plain": [
       "train-00400-of-01106-ee382aafb951d170.pa(…):   0%|          | 0.00/917M [00:00<?, ?B/s]"
      ]
     },
     "metadata": {},
     "output_type": "display_data"
    },
    {
     "data": {
      "application/vnd.jupyter.widget-view+json": {
       "model_id": "3c3d767b23a648ab8d8fc50114a5bddd",
       "version_major": 2,
       "version_minor": 0
      },
      "text/plain": [
       "train-00401-of-01106-14c032f8d1f7c2da.pa(…):   0%|          | 0.00/826M [00:00<?, ?B/s]"
      ]
     },
     "metadata": {},
     "output_type": "display_data"
    },
    {
     "data": {
      "application/vnd.jupyter.widget-view+json": {
       "model_id": "8d4c21befaee4d6aaca29ea2b9ad93b0",
       "version_major": 2,
       "version_minor": 0
      },
      "text/plain": [
       "train-00402-of-01106-f52f88b146caaedc.pa(…):   0%|          | 0.00/843M [00:00<?, ?B/s]"
      ]
     },
     "metadata": {},
     "output_type": "display_data"
    },
    {
     "data": {
      "application/vnd.jupyter.widget-view+json": {
       "model_id": "1563f2e460df42baa56570b47450c2f9",
       "version_major": 2,
       "version_minor": 0
      },
      "text/plain": [
       "train-00403-of-01106-4033d3c738e62f63.pa(…):   0%|          | 0.00/806M [00:00<?, ?B/s]"
      ]
     },
     "metadata": {},
     "output_type": "display_data"
    },
    {
     "data": {
      "application/vnd.jupyter.widget-view+json": {
       "model_id": "43827c0520c74fa88c54541731d615b9",
       "version_major": 2,
       "version_minor": 0
      },
      "text/plain": [
       "train-00404-of-01106-fa0b01cccbdab7c1.pa(…):   0%|          | 0.00/843M [00:00<?, ?B/s]"
      ]
     },
     "metadata": {},
     "output_type": "display_data"
    },
    {
     "data": {
      "application/vnd.jupyter.widget-view+json": {
       "model_id": "3c4edca980744353b2246e668567f478",
       "version_major": 2,
       "version_minor": 0
      },
      "text/plain": [
       "train-00405-of-01106-470c637e04047710.pa(…):   0%|          | 0.00/810M [00:00<?, ?B/s]"
      ]
     },
     "metadata": {},
     "output_type": "display_data"
    },
    {
     "data": {
      "application/vnd.jupyter.widget-view+json": {
       "model_id": "17ba3a986fd74e7e95152c1d8b569fb2",
       "version_major": 2,
       "version_minor": 0
      },
      "text/plain": [
       "train-00406-of-01106-c4f80eecdecf321f.pa(…):   0%|          | 0.00/816M [00:00<?, ?B/s]"
      ]
     },
     "metadata": {},
     "output_type": "display_data"
    },
    {
     "data": {
      "application/vnd.jupyter.widget-view+json": {
       "model_id": "2ab385a3edd74a28bc5184d2197a4fc8",
       "version_major": 2,
       "version_minor": 0
      },
      "text/plain": [
       "train-00407-of-01106-394454ec0240859f.pa(…):   0%|          | 0.00/796M [00:00<?, ?B/s]"
      ]
     },
     "metadata": {},
     "output_type": "display_data"
    },
    {
     "data": {
      "application/vnd.jupyter.widget-view+json": {
       "model_id": "b29ab4e07b3a4f5481e47e2a7b4fc6e0",
       "version_major": 2,
       "version_minor": 0
      },
      "text/plain": [
       "train-00408-of-01106-d36a0c109e89a6eb.pa(…):   0%|          | 0.00/823M [00:00<?, ?B/s]"
      ]
     },
     "metadata": {},
     "output_type": "display_data"
    },
    {
     "data": {
      "application/vnd.jupyter.widget-view+json": {
       "model_id": "da470a1d37c840cbbac999b347328e0a",
       "version_major": 2,
       "version_minor": 0
      },
      "text/plain": [
       "train-00409-of-01106-a2b2282da3f76b61.pa(…):   0%|          | 0.00/811M [00:00<?, ?B/s]"
      ]
     },
     "metadata": {},
     "output_type": "display_data"
    },
    {
     "data": {
      "application/vnd.jupyter.widget-view+json": {
       "model_id": "595a0f57ca1a4a86b09f25a56bd62d83",
       "version_major": 2,
       "version_minor": 0
      },
      "text/plain": [
       "train-00410-of-01106-f6239bb95f192168.pa(…):   0%|          | 0.00/814M [00:00<?, ?B/s]"
      ]
     },
     "metadata": {},
     "output_type": "display_data"
    },
    {
     "data": {
      "application/vnd.jupyter.widget-view+json": {
       "model_id": "1642d77c4f0246ea8e93752e3f3b4822",
       "version_major": 2,
       "version_minor": 0
      },
      "text/plain": [
       "train-00411-of-01106-f11fb2ad02fc5e93.pa(…):   0%|          | 0.00/811M [00:00<?, ?B/s]"
      ]
     },
     "metadata": {},
     "output_type": "display_data"
    },
    {
     "data": {
      "application/vnd.jupyter.widget-view+json": {
       "model_id": "2cadc5f0e96f45f984a0de8c7873c9f8",
       "version_major": 2,
       "version_minor": 0
      },
      "text/plain": [
       "train-00412-of-01106-45be137b254080c1.pa(…):   0%|          | 0.00/851M [00:00<?, ?B/s]"
      ]
     },
     "metadata": {},
     "output_type": "display_data"
    },
    {
     "data": {
      "application/vnd.jupyter.widget-view+json": {
       "model_id": "fe3db073698e49fa89402575c4e243dc",
       "version_major": 2,
       "version_minor": 0
      },
      "text/plain": [
       "train-00413-of-01106-47b4575da3f63a4d.pa(…):   0%|          | 0.00/809M [00:00<?, ?B/s]"
      ]
     },
     "metadata": {},
     "output_type": "display_data"
    },
    {
     "data": {
      "application/vnd.jupyter.widget-view+json": {
       "model_id": "7f6d2aa629bc4bcfae0ba528c5160d3f",
       "version_major": 2,
       "version_minor": 0
      },
      "text/plain": [
       "train-00414-of-01106-dc7f71bc7723fd73.pa(…):   0%|          | 0.00/818M [00:00<?, ?B/s]"
      ]
     },
     "metadata": {},
     "output_type": "display_data"
    },
    {
     "data": {
      "application/vnd.jupyter.widget-view+json": {
       "model_id": "5468d18aa408433fb5d0b448eb1a82a0",
       "version_major": 2,
       "version_minor": 0
      },
      "text/plain": [
       "train-00415-of-01106-1ec10d5273783707.pa(…):   0%|          | 0.00/833M [00:00<?, ?B/s]"
      ]
     },
     "metadata": {},
     "output_type": "display_data"
    },
    {
     "data": {
      "application/vnd.jupyter.widget-view+json": {
       "model_id": "41f8e2c0dd93442ba1896a5b919b8993",
       "version_major": 2,
       "version_minor": 0
      },
      "text/plain": [
       "train-00416-of-01106-ab883864a909cf06.pa(…):   0%|          | 0.00/820M [00:00<?, ?B/s]"
      ]
     },
     "metadata": {},
     "output_type": "display_data"
    },
    {
     "data": {
      "application/vnd.jupyter.widget-view+json": {
       "model_id": "b3103ea63d3744af82e8c764e5d72c87",
       "version_major": 2,
       "version_minor": 0
      },
      "text/plain": [
       "train-00417-of-01106-7a645b584f0f545e.pa(…):   0%|          | 0.00/838M [00:00<?, ?B/s]"
      ]
     },
     "metadata": {},
     "output_type": "display_data"
    },
    {
     "data": {
      "application/vnd.jupyter.widget-view+json": {
       "model_id": "ff32739669984247b0847d3b572659d7",
       "version_major": 2,
       "version_minor": 0
      },
      "text/plain": [
       "train-00418-of-01106-dd2de0b2b0f56b46.pa(…):   0%|          | 0.00/821M [00:00<?, ?B/s]"
      ]
     },
     "metadata": {},
     "output_type": "display_data"
    },
    {
     "data": {
      "application/vnd.jupyter.widget-view+json": {
       "model_id": "502a5068e6aa4f90989546196d7bda37",
       "version_major": 2,
       "version_minor": 0
      },
      "text/plain": [
       "train-00419-of-01106-344e0a7d83bc7cac.pa(…):   0%|          | 0.00/814M [00:00<?, ?B/s]"
      ]
     },
     "metadata": {},
     "output_type": "display_data"
    },
    {
     "data": {
      "application/vnd.jupyter.widget-view+json": {
       "model_id": "50fc0182e3fa44c5b7a2475514d07282",
       "version_major": 2,
       "version_minor": 0
      },
      "text/plain": [
       "train-00420-of-01106-0ac378d8830931af.pa(…):   0%|          | 0.00/772M [00:00<?, ?B/s]"
      ]
     },
     "metadata": {},
     "output_type": "display_data"
    },
    {
     "data": {
      "application/vnd.jupyter.widget-view+json": {
       "model_id": "5b53d24ccfd64dabbc3ba4e7296f2c3a",
       "version_major": 2,
       "version_minor": 0
      },
      "text/plain": [
       "train-00421-of-01106-6b5a773c6e6e2ae6.pa(…):   0%|          | 0.00/836M [00:00<?, ?B/s]"
      ]
     },
     "metadata": {},
     "output_type": "display_data"
    },
    {
     "data": {
      "application/vnd.jupyter.widget-view+json": {
       "model_id": "55418656f77140a09887e7518b77bef6",
       "version_major": 2,
       "version_minor": 0
      },
      "text/plain": [
       "train-00422-of-01106-1e50378a4e7f561f.pa(…):   0%|          | 0.00/813M [00:00<?, ?B/s]"
      ]
     },
     "metadata": {},
     "output_type": "display_data"
    },
    {
     "data": {
      "application/vnd.jupyter.widget-view+json": {
       "model_id": "a6258c3207b6476380be314d85ea8d5c",
       "version_major": 2,
       "version_minor": 0
      },
      "text/plain": [
       "train-00423-of-01106-8d2477f922123a51.pa(…):   0%|          | 0.00/868M [00:00<?, ?B/s]"
      ]
     },
     "metadata": {},
     "output_type": "display_data"
    },
    {
     "data": {
      "application/vnd.jupyter.widget-view+json": {
       "model_id": "dc9288cd8083455194d2e8fcbd664e40",
       "version_major": 2,
       "version_minor": 0
      },
      "text/plain": [
       "train-00424-of-01106-2a022b3e3459027b.pa(…):   0%|          | 0.00/926M [00:00<?, ?B/s]"
      ]
     },
     "metadata": {},
     "output_type": "display_data"
    },
    {
     "data": {
      "application/vnd.jupyter.widget-view+json": {
       "model_id": "8382d7c32db446e78d60a724b9acd478",
       "version_major": 2,
       "version_minor": 0
      },
      "text/plain": [
       "train-00425-of-01106-7e356df7fc2339c7.pa(…):   0%|          | 0.00/904M [00:00<?, ?B/s]"
      ]
     },
     "metadata": {},
     "output_type": "display_data"
    },
    {
     "data": {
      "application/vnd.jupyter.widget-view+json": {
       "model_id": "b541c0590df642fa890c2c468379a68b",
       "version_major": 2,
       "version_minor": 0
      },
      "text/plain": [
       "train-00426-of-01106-303c4a1fd922c6cc.pa(…):   0%|          | 0.00/971M [00:00<?, ?B/s]"
      ]
     },
     "metadata": {},
     "output_type": "display_data"
    },
    {
     "data": {
      "application/vnd.jupyter.widget-view+json": {
       "model_id": "63c70023bb6e4b0f8b1d013de9bf5e12",
       "version_major": 2,
       "version_minor": 0
      },
      "text/plain": [
       "train-00427-of-01106-eeeb26f48087c748.pa(…):   0%|          | 0.00/891M [00:00<?, ?B/s]"
      ]
     },
     "metadata": {},
     "output_type": "display_data"
    },
    {
     "data": {
      "application/vnd.jupyter.widget-view+json": {
       "model_id": "eda461899a7c4ac894e5c796601cf54e",
       "version_major": 2,
       "version_minor": 0
      },
      "text/plain": [
       "train-00428-of-01106-d4597df8210c06d7.pa(…):   0%|          | 0.00/952M [00:00<?, ?B/s]"
      ]
     },
     "metadata": {},
     "output_type": "display_data"
    },
    {
     "data": {
      "application/vnd.jupyter.widget-view+json": {
       "model_id": "38b9b6e4b1c54b02abf1026636a787cf",
       "version_major": 2,
       "version_minor": 0
      },
      "text/plain": [
       "train-00429-of-01106-78e4b0bb80de9a9d.pa(…):   0%|          | 0.00/962M [00:00<?, ?B/s]"
      ]
     },
     "metadata": {},
     "output_type": "display_data"
    },
    {
     "data": {
      "application/vnd.jupyter.widget-view+json": {
       "model_id": "0292ece38c634feba010177589083eec",
       "version_major": 2,
       "version_minor": 0
      },
      "text/plain": [
       "train-00430-of-01106-d85ca7cca8387b9a.pa(…):   0%|          | 0.00/923M [00:00<?, ?B/s]"
      ]
     },
     "metadata": {},
     "output_type": "display_data"
    },
    {
     "data": {
      "application/vnd.jupyter.widget-view+json": {
       "model_id": "5d0e826b33de4891bffa8d4cd2e2fc30",
       "version_major": 2,
       "version_minor": 0
      },
      "text/plain": [
       "train-00431-of-01106-8da2f8daa9c6bdc5.pa(…):   0%|          | 0.00/961M [00:00<?, ?B/s]"
      ]
     },
     "metadata": {},
     "output_type": "display_data"
    },
    {
     "data": {
      "application/vnd.jupyter.widget-view+json": {
       "model_id": "d4143dabcffc47bf9f9df59bfe4e2e3e",
       "version_major": 2,
       "version_minor": 0
      },
      "text/plain": [
       "train-00432-of-01106-22852e92a7099cea.pa(…):   0%|          | 0.00/934M [00:00<?, ?B/s]"
      ]
     },
     "metadata": {},
     "output_type": "display_data"
    },
    {
     "data": {
      "application/vnd.jupyter.widget-view+json": {
       "model_id": "495c8f5f0cc241c6aaa6ab2be443094e",
       "version_major": 2,
       "version_minor": 0
      },
      "text/plain": [
       "train-00433-of-01106-2d296b65eb66e15d.pa(…):   0%|          | 0.00/964M [00:00<?, ?B/s]"
      ]
     },
     "metadata": {},
     "output_type": "display_data"
    },
    {
     "data": {
      "application/vnd.jupyter.widget-view+json": {
       "model_id": "fdf4d707893346c98622e422466750d0",
       "version_major": 2,
       "version_minor": 0
      },
      "text/plain": [
       "train-00434-of-01106-9050aecabd5f1f56.pa(…):   0%|          | 0.00/875M [00:00<?, ?B/s]"
      ]
     },
     "metadata": {},
     "output_type": "display_data"
    },
    {
     "data": {
      "application/vnd.jupyter.widget-view+json": {
       "model_id": "2bab4ffdd67e41c1b4d975a3417bb4d3",
       "version_major": 2,
       "version_minor": 0
      },
      "text/plain": [
       "train-00435-of-01106-65190dbd365b4256.pa(…):   0%|          | 0.00/896M [00:00<?, ?B/s]"
      ]
     },
     "metadata": {},
     "output_type": "display_data"
    },
    {
     "data": {
      "application/vnd.jupyter.widget-view+json": {
       "model_id": "c14cb02ff26d474f9c67fb0c8a7b99dc",
       "version_major": 2,
       "version_minor": 0
      },
      "text/plain": [
       "train-00436-of-01106-c99fa50bf495d06d.pa(…):   0%|          | 0.00/792M [00:00<?, ?B/s]"
      ]
     },
     "metadata": {},
     "output_type": "display_data"
    },
    {
     "data": {
      "application/vnd.jupyter.widget-view+json": {
       "model_id": "d846c6ebe7e94f7e837524ceae4f115d",
       "version_major": 2,
       "version_minor": 0
      },
      "text/plain": [
       "train-00437-of-01106-cc2595e16247b053.pa(…):   0%|          | 0.00/825M [00:00<?, ?B/s]"
      ]
     },
     "metadata": {},
     "output_type": "display_data"
    },
    {
     "data": {
      "application/vnd.jupyter.widget-view+json": {
       "model_id": "21f982dcd7ea470fbe7789c54d714786",
       "version_major": 2,
       "version_minor": 0
      },
      "text/plain": [
       "train-00438-of-01106-50a234a83730e53b.pa(…):   0%|          | 0.00/837M [00:00<?, ?B/s]"
      ]
     },
     "metadata": {},
     "output_type": "display_data"
    },
    {
     "data": {
      "application/vnd.jupyter.widget-view+json": {
       "model_id": "95a31375969e4a909720fd2254c4c886",
       "version_major": 2,
       "version_minor": 0
      },
      "text/plain": [
       "train-00439-of-01106-6f9b513d59f5ea52.pa(…):   0%|          | 0.00/829M [00:00<?, ?B/s]"
      ]
     },
     "metadata": {},
     "output_type": "display_data"
    },
    {
     "data": {
      "application/vnd.jupyter.widget-view+json": {
       "model_id": "b48943178e034cf4960d1d633686cb94",
       "version_major": 2,
       "version_minor": 0
      },
      "text/plain": [
       "train-00440-of-01106-5380bf48967d92b5.pa(…):   0%|          | 0.00/830M [00:00<?, ?B/s]"
      ]
     },
     "metadata": {},
     "output_type": "display_data"
    },
    {
     "data": {
      "application/vnd.jupyter.widget-view+json": {
       "model_id": "6e2cccd4e2ba46c4adb1848aa13390bf",
       "version_major": 2,
       "version_minor": 0
      },
      "text/plain": [
       "train-00441-of-01106-dffa370b31a36dcb.pa(…):   0%|          | 0.00/865M [00:00<?, ?B/s]"
      ]
     },
     "metadata": {},
     "output_type": "display_data"
    },
    {
     "data": {
      "application/vnd.jupyter.widget-view+json": {
       "model_id": "53d2fc1967a548f0bf7fb6a0b6cc8643",
       "version_major": 2,
       "version_minor": 0
      },
      "text/plain": [
       "train-00442-of-01106-fbd5d85df916f680.pa(…):   0%|          | 0.00/958M [00:00<?, ?B/s]"
      ]
     },
     "metadata": {},
     "output_type": "display_data"
    },
    {
     "data": {
      "application/vnd.jupyter.widget-view+json": {
       "model_id": "713e2a8fa33a4b7e9cefaeed9cb20cfc",
       "version_major": 2,
       "version_minor": 0
      },
      "text/plain": [
       "train-00443-of-01106-ac7d68dfe9cefcc5.pa(…):   0%|          | 0.00/966M [00:00<?, ?B/s]"
      ]
     },
     "metadata": {},
     "output_type": "display_data"
    },
    {
     "data": {
      "application/vnd.jupyter.widget-view+json": {
       "model_id": "4337e203032043e1a0e1174ca9465cca",
       "version_major": 2,
       "version_minor": 0
      },
      "text/plain": [
       "train-00444-of-01106-e9d913259aac8c4c.pa(…):   0%|          | 0.00/971M [00:00<?, ?B/s]"
      ]
     },
     "metadata": {},
     "output_type": "display_data"
    },
    {
     "data": {
      "application/vnd.jupyter.widget-view+json": {
       "model_id": "48eb903603e1431e9f36bdf018bd0242",
       "version_major": 2,
       "version_minor": 0
      },
      "text/plain": [
       "train-00445-of-01106-18684f9b9322569d.pa(…):   0%|          | 0.00/910M [00:00<?, ?B/s]"
      ]
     },
     "metadata": {},
     "output_type": "display_data"
    },
    {
     "data": {
      "application/vnd.jupyter.widget-view+json": {
       "model_id": "dad1b5a3d4f646f7a3eea0984bea3f87",
       "version_major": 2,
       "version_minor": 0
      },
      "text/plain": [
       "train-00446-of-01106-90c7a187905b2fdf.pa(…):   0%|          | 0.00/956M [00:00<?, ?B/s]"
      ]
     },
     "metadata": {},
     "output_type": "display_data"
    },
    {
     "data": {
      "application/vnd.jupyter.widget-view+json": {
       "model_id": "9ba1a75df6ca4b5f84ea17ce9ab196f9",
       "version_major": 2,
       "version_minor": 0
      },
      "text/plain": [
       "train-00447-of-01106-ff67968e007cb1b4.pa(…):   0%|          | 0.00/845M [00:00<?, ?B/s]"
      ]
     },
     "metadata": {},
     "output_type": "display_data"
    },
    {
     "data": {
      "application/vnd.jupyter.widget-view+json": {
       "model_id": "7e155f6d2bc74178bfe59e4394da518d",
       "version_major": 2,
       "version_minor": 0
      },
      "text/plain": [
       "train-00448-of-01106-1e7b7c64ee8367b5.pa(…):   0%|          | 0.00/814M [00:00<?, ?B/s]"
      ]
     },
     "metadata": {},
     "output_type": "display_data"
    },
    {
     "data": {
      "application/vnd.jupyter.widget-view+json": {
       "model_id": "b8b901f77eef4ef2b81ed3a7ef00ca47",
       "version_major": 2,
       "version_minor": 0
      },
      "text/plain": [
       "train-00449-of-01106-e194caecf3b8bb77.pa(…):   0%|          | 0.00/829M [00:00<?, ?B/s]"
      ]
     },
     "metadata": {},
     "output_type": "display_data"
    },
    {
     "data": {
      "application/vnd.jupyter.widget-view+json": {
       "model_id": "a9a919d2f1e5475b950099bc771e81f9",
       "version_major": 2,
       "version_minor": 0
      },
      "text/plain": [
       "train-00450-of-01106-77eb693f0aca94d5.pa(…):   0%|          | 0.00/829M [00:00<?, ?B/s]"
      ]
     },
     "metadata": {},
     "output_type": "display_data"
    },
    {
     "data": {
      "application/vnd.jupyter.widget-view+json": {
       "model_id": "f744757d69b0454181afd89ddf6527fd",
       "version_major": 2,
       "version_minor": 0
      },
      "text/plain": [
       "train-00451-of-01106-360556b4e766d867.pa(…):   0%|          | 0.00/798M [00:00<?, ?B/s]"
      ]
     },
     "metadata": {},
     "output_type": "display_data"
    },
    {
     "data": {
      "application/vnd.jupyter.widget-view+json": {
       "model_id": "9a24cbe79b3f413aa342233b4e9e675f",
       "version_major": 2,
       "version_minor": 0
      },
      "text/plain": [
       "train-00452-of-01106-58449f0f8f41d2d8.pa(…):   0%|          | 0.00/815M [00:00<?, ?B/s]"
      ]
     },
     "metadata": {},
     "output_type": "display_data"
    },
    {
     "data": {
      "application/vnd.jupyter.widget-view+json": {
       "model_id": "dea273d8ce044d67867ca636fb409d00",
       "version_major": 2,
       "version_minor": 0
      },
      "text/plain": [
       "train-00453-of-01106-44b90fd7d706404f.pa(…):   0%|          | 0.00/826M [00:00<?, ?B/s]"
      ]
     },
     "metadata": {},
     "output_type": "display_data"
    },
    {
     "data": {
      "application/vnd.jupyter.widget-view+json": {
       "model_id": "e49a5870c2e74a95aea0a15b02107482",
       "version_major": 2,
       "version_minor": 0
      },
      "text/plain": [
       "train-00454-of-01106-0d10ce1a9a979a76.pa(…):   0%|          | 0.00/823M [00:00<?, ?B/s]"
      ]
     },
     "metadata": {},
     "output_type": "display_data"
    },
    {
     "data": {
      "application/vnd.jupyter.widget-view+json": {
       "model_id": "8bc7402d80964ed185f1f623c1f8e45b",
       "version_major": 2,
       "version_minor": 0
      },
      "text/plain": [
       "train-00455-of-01106-1569f148fa8c5873.pa(…):   0%|          | 0.00/850M [00:00<?, ?B/s]"
      ]
     },
     "metadata": {},
     "output_type": "display_data"
    },
    {
     "data": {
      "application/vnd.jupyter.widget-view+json": {
       "model_id": "55dd61a800ad4c96b74b25158d0cf1ea",
       "version_major": 2,
       "version_minor": 0
      },
      "text/plain": [
       "train-00456-of-01106-5a18c8eb06fec6e5.pa(…):   0%|          | 0.00/832M [00:00<?, ?B/s]"
      ]
     },
     "metadata": {},
     "output_type": "display_data"
    },
    {
     "data": {
      "application/vnd.jupyter.widget-view+json": {
       "model_id": "cbdf6411012444bdabdc7511dbe7c35d",
       "version_major": 2,
       "version_minor": 0
      },
      "text/plain": [
       "train-00457-of-01106-230238702b79854b.pa(…):   0%|          | 0.00/886M [00:00<?, ?B/s]"
      ]
     },
     "metadata": {},
     "output_type": "display_data"
    },
    {
     "data": {
      "application/vnd.jupyter.widget-view+json": {
       "model_id": "67b24490198d4f14b03ee778ad78ade5",
       "version_major": 2,
       "version_minor": 0
      },
      "text/plain": [
       "train-00458-of-01106-d8a7bf78b3a87ec9.pa(…):   0%|          | 0.00/804M [00:00<?, ?B/s]"
      ]
     },
     "metadata": {},
     "output_type": "display_data"
    },
    {
     "data": {
      "application/vnd.jupyter.widget-view+json": {
       "model_id": "e644f6d9e3184945a09bb04a4c0e4dbe",
       "version_major": 2,
       "version_minor": 0
      },
      "text/plain": [
       "train-00459-of-01106-0ad4629babc8d189.pa(…):   0%|          | 0.00/929M [00:00<?, ?B/s]"
      ]
     },
     "metadata": {},
     "output_type": "display_data"
    },
    {
     "data": {
      "application/vnd.jupyter.widget-view+json": {
       "model_id": "521f76297d8d477fba6207312c6f73f3",
       "version_major": 2,
       "version_minor": 0
      },
      "text/plain": [
       "train-00460-of-01106-9f5aee042a2b4be2.pa(…):   0%|          | 0.00/969M [00:00<?, ?B/s]"
      ]
     },
     "metadata": {},
     "output_type": "display_data"
    },
    {
     "data": {
      "application/vnd.jupyter.widget-view+json": {
       "model_id": "02fcd2f2aab44f708be5501dc0a9c1b4",
       "version_major": 2,
       "version_minor": 0
      },
      "text/plain": [
       "train-00461-of-01106-88edf281a3d44b09.pa(…):   0%|          | 0.00/918M [00:00<?, ?B/s]"
      ]
     },
     "metadata": {},
     "output_type": "display_data"
    },
    {
     "data": {
      "application/vnd.jupyter.widget-view+json": {
       "model_id": "a5fe126c60fc4ffcb714121ca7b687e7",
       "version_major": 2,
       "version_minor": 0
      },
      "text/plain": [
       "train-00462-of-01106-74c9316dbb771e5a.pa(…):   0%|          | 0.00/942M [00:00<?, ?B/s]"
      ]
     },
     "metadata": {},
     "output_type": "display_data"
    },
    {
     "data": {
      "application/vnd.jupyter.widget-view+json": {
       "model_id": "939f2784531d496490d09816a7faea31",
       "version_major": 2,
       "version_minor": 0
      },
      "text/plain": [
       "train-00463-of-01106-261e5ead26c1c265.pa(…):   0%|          | 0.00/952M [00:00<?, ?B/s]"
      ]
     },
     "metadata": {},
     "output_type": "display_data"
    },
    {
     "data": {
      "application/vnd.jupyter.widget-view+json": {
       "model_id": "b6a2152378924c77845fad183297dd2c",
       "version_major": 2,
       "version_minor": 0
      },
      "text/plain": [
       "train-00464-of-01106-8e5a423ef3725c33.pa(…):   0%|          | 0.00/906M [00:00<?, ?B/s]"
      ]
     },
     "metadata": {},
     "output_type": "display_data"
    },
    {
     "data": {
      "application/vnd.jupyter.widget-view+json": {
       "model_id": "e881c841af92423b9d45446b5db6a2c3",
       "version_major": 2,
       "version_minor": 0
      },
      "text/plain": [
       "train-00465-of-01106-2c8e092c15850ad2.pa(…):   0%|          | 0.00/957M [00:00<?, ?B/s]"
      ]
     },
     "metadata": {},
     "output_type": "display_data"
    },
    {
     "data": {
      "application/vnd.jupyter.widget-view+json": {
       "model_id": "ffe1e974b6864438910e168b1135ad22",
       "version_major": 2,
       "version_minor": 0
      },
      "text/plain": [
       "train-00466-of-01106-d52f8f2dd4616af9.pa(…):   0%|          | 0.00/933M [00:00<?, ?B/s]"
      ]
     },
     "metadata": {},
     "output_type": "display_data"
    },
    {
     "data": {
      "application/vnd.jupyter.widget-view+json": {
       "model_id": "3e169c40bda744f0aa41dfd9fa1bd0b2",
       "version_major": 2,
       "version_minor": 0
      },
      "text/plain": [
       "train-00467-of-01106-7121e4fa4560ad2c.pa(…):   0%|          | 0.00/968M [00:00<?, ?B/s]"
      ]
     },
     "metadata": {},
     "output_type": "display_data"
    },
    {
     "data": {
      "application/vnd.jupyter.widget-view+json": {
       "model_id": "34a30aad5b774b17bd5ea5e02efbadf2",
       "version_major": 2,
       "version_minor": 0
      },
      "text/plain": [
       "train-00468-of-01106-cbae112f963dc069.pa(…):   0%|          | 0.00/942M [00:00<?, ?B/s]"
      ]
     },
     "metadata": {},
     "output_type": "display_data"
    },
    {
     "data": {
      "application/vnd.jupyter.widget-view+json": {
       "model_id": "4b17b8add25e4acbaa9fe28e7b76db8a",
       "version_major": 2,
       "version_minor": 0
      },
      "text/plain": [
       "train-00469-of-01106-94db062c0d307fb5.pa(…):   0%|          | 0.00/927M [00:00<?, ?B/s]"
      ]
     },
     "metadata": {},
     "output_type": "display_data"
    },
    {
     "data": {
      "application/vnd.jupyter.widget-view+json": {
       "model_id": "f68f623e6062448e9262a55c7d9f9566",
       "version_major": 2,
       "version_minor": 0
      },
      "text/plain": [
       "train-00470-of-01106-a9c117bb899ee5ed.pa(…):   0%|          | 0.00/848M [00:00<?, ?B/s]"
      ]
     },
     "metadata": {},
     "output_type": "display_data"
    },
    {
     "data": {
      "application/vnd.jupyter.widget-view+json": {
       "model_id": "ec25a647bad44851b66cfdfde6699dfd",
       "version_major": 2,
       "version_minor": 0
      },
      "text/plain": [
       "train-00471-of-01106-d78f14f4419a15ab.pa(…):   0%|          | 0.00/817M [00:00<?, ?B/s]"
      ]
     },
     "metadata": {},
     "output_type": "display_data"
    },
    {
     "data": {
      "application/vnd.jupyter.widget-view+json": {
       "model_id": "14f01ecd3fed4470b3ab19fa14e6e30c",
       "version_major": 2,
       "version_minor": 0
      },
      "text/plain": [
       "train-00472-of-01106-b4561272a528f30e.pa(…):   0%|          | 0.00/847M [00:00<?, ?B/s]"
      ]
     },
     "metadata": {},
     "output_type": "display_data"
    },
    {
     "data": {
      "application/vnd.jupyter.widget-view+json": {
       "model_id": "3eea41cbabe84b28a2d2bb5500e675fd",
       "version_major": 2,
       "version_minor": 0
      },
      "text/plain": [
       "train-00473-of-01106-728e328ba94a786f.pa(…):   0%|          | 0.00/800M [00:00<?, ?B/s]"
      ]
     },
     "metadata": {},
     "output_type": "display_data"
    },
    {
     "data": {
      "application/vnd.jupyter.widget-view+json": {
       "model_id": "9d70a0c02d274321b777b2824f826b72",
       "version_major": 2,
       "version_minor": 0
      },
      "text/plain": [
       "train-00474-of-01106-84fe26a62cb81b2f.pa(…):   0%|          | 0.00/876M [00:00<?, ?B/s]"
      ]
     },
     "metadata": {},
     "output_type": "display_data"
    },
    {
     "data": {
      "application/vnd.jupyter.widget-view+json": {
       "model_id": "b8e1c1d3d746400497c9457b1527b899",
       "version_major": 2,
       "version_minor": 0
      },
      "text/plain": [
       "train-00475-of-01106-ff5d61c771510eea.pa(…):   0%|          | 0.00/856M [00:00<?, ?B/s]"
      ]
     },
     "metadata": {},
     "output_type": "display_data"
    },
    {
     "data": {
      "application/vnd.jupyter.widget-view+json": {
       "model_id": "1d719a7a07124b1cbeeaec6fae9bcf1f",
       "version_major": 2,
       "version_minor": 0
      },
      "text/plain": [
       "train-00476-of-01106-9c2938d9710e8f75.pa(…):   0%|          | 0.00/976M [00:00<?, ?B/s]"
      ]
     },
     "metadata": {},
     "output_type": "display_data"
    },
    {
     "data": {
      "application/vnd.jupyter.widget-view+json": {
       "model_id": "b19fbf0562594b36b787b571ffe85979",
       "version_major": 2,
       "version_minor": 0
      },
      "text/plain": [
       "train-00477-of-01106-8b15233228157131.pa(…):   0%|          | 0.00/911M [00:00<?, ?B/s]"
      ]
     },
     "metadata": {},
     "output_type": "display_data"
    },
    {
     "data": {
      "application/vnd.jupyter.widget-view+json": {
       "model_id": "9f4698ff83d648abb0f2668365187cc2",
       "version_major": 2,
       "version_minor": 0
      },
      "text/plain": [
       "train-00478-of-01106-25cfaeed0bfb8716.pa(…):   0%|          | 0.00/925M [00:00<?, ?B/s]"
      ]
     },
     "metadata": {},
     "output_type": "display_data"
    },
    {
     "data": {
      "application/vnd.jupyter.widget-view+json": {
       "model_id": "3c2e6e39cea14e78be1374dd4ecef4d8",
       "version_major": 2,
       "version_minor": 0
      },
      "text/plain": [
       "train-00479-of-01106-78f952572dcf930c.pa(…):   0%|          | 0.00/914M [00:00<?, ?B/s]"
      ]
     },
     "metadata": {},
     "output_type": "display_data"
    },
    {
     "data": {
      "application/vnd.jupyter.widget-view+json": {
       "model_id": "4c6ca14eb2ad488a8a12d3b386867ece",
       "version_major": 2,
       "version_minor": 0
      },
      "text/plain": [
       "train-00480-of-01106-59be6b4b25d9d4fc.pa(…):   0%|          | 0.00/963M [00:00<?, ?B/s]"
      ]
     },
     "metadata": {},
     "output_type": "display_data"
    },
    {
     "data": {
      "application/vnd.jupyter.widget-view+json": {
       "model_id": "d47ceb9d9f304fa1b53e45763c02a9f5",
       "version_major": 2,
       "version_minor": 0
      },
      "text/plain": [
       "train-00481-of-01106-d9bbf0648c1a3e5a.pa(…):   0%|          | 0.00/959M [00:00<?, ?B/s]"
      ]
     },
     "metadata": {},
     "output_type": "display_data"
    },
    {
     "data": {
      "application/vnd.jupyter.widget-view+json": {
       "model_id": "ac44e75ea547497d8a4a13dca80b93a2",
       "version_major": 2,
       "version_minor": 0
      },
      "text/plain": [
       "train-00482-of-01106-d2a7aaef7fc2001c.pa(…):   0%|          | 0.00/905M [00:00<?, ?B/s]"
      ]
     },
     "metadata": {},
     "output_type": "display_data"
    },
    {
     "data": {
      "application/vnd.jupyter.widget-view+json": {
       "model_id": "b3e8de08d68c4d05beaf4cdcbe3824b0",
       "version_major": 2,
       "version_minor": 0
      },
      "text/plain": [
       "train-00483-of-01106-59ec5f7dbf5bf5a4.pa(…):   0%|          | 0.00/964M [00:00<?, ?B/s]"
      ]
     },
     "metadata": {},
     "output_type": "display_data"
    },
    {
     "data": {
      "application/vnd.jupyter.widget-view+json": {
       "model_id": "5ef96118325f49b2bac9ce79693e08a3",
       "version_major": 2,
       "version_minor": 0
      },
      "text/plain": [
       "train-00484-of-01106-bcb058a522f0e357.pa(…):   0%|          | 0.00/920M [00:00<?, ?B/s]"
      ]
     },
     "metadata": {},
     "output_type": "display_data"
    },
    {
     "data": {
      "application/vnd.jupyter.widget-view+json": {
       "model_id": "178b41d1fb6c4ee99473fa6c114e83d4",
       "version_major": 2,
       "version_minor": 0
      },
      "text/plain": [
       "train-00485-of-01106-9f05fe5b72af31bd.pa(…):   0%|          | 0.00/906M [00:00<?, ?B/s]"
      ]
     },
     "metadata": {},
     "output_type": "display_data"
    },
    {
     "data": {
      "application/vnd.jupyter.widget-view+json": {
       "model_id": "b602d42fc1f9494384de65797f0c9182",
       "version_major": 2,
       "version_minor": 0
      },
      "text/plain": [
       "train-00486-of-01106-c7af87d3f0d6037d.pa(…):   0%|          | 0.00/958M [00:00<?, ?B/s]"
      ]
     },
     "metadata": {},
     "output_type": "display_data"
    },
    {
     "data": {
      "application/vnd.jupyter.widget-view+json": {
       "model_id": "4d279d193d3249b49d01d65f61507172",
       "version_major": 2,
       "version_minor": 0
      },
      "text/plain": [
       "train-00487-of-01106-05a12673545c926a.pa(…):   0%|          | 0.00/856M [00:00<?, ?B/s]"
      ]
     },
     "metadata": {},
     "output_type": "display_data"
    },
    {
     "data": {
      "application/vnd.jupyter.widget-view+json": {
       "model_id": "b8266ebe9ebf4eff80c8f6edce239a3e",
       "version_major": 2,
       "version_minor": 0
      },
      "text/plain": [
       "train-00488-of-01106-032de7655b19a205.pa(…):   0%|          | 0.00/820M [00:00<?, ?B/s]"
      ]
     },
     "metadata": {},
     "output_type": "display_data"
    },
    {
     "data": {
      "application/vnd.jupyter.widget-view+json": {
       "model_id": "531c926071b046439d219fdc95671e87",
       "version_major": 2,
       "version_minor": 0
      },
      "text/plain": [
       "train-00489-of-01106-64d79a28d67a59d8.pa(…):   0%|          | 0.00/804M [00:00<?, ?B/s]"
      ]
     },
     "metadata": {},
     "output_type": "display_data"
    },
    {
     "data": {
      "application/vnd.jupyter.widget-view+json": {
       "model_id": "54cca452c1c14f9cb1a86b7816836dee",
       "version_major": 2,
       "version_minor": 0
      },
      "text/plain": [
       "train-00490-of-01106-7c764432814e2aba.pa(…):   0%|          | 0.00/835M [00:00<?, ?B/s]"
      ]
     },
     "metadata": {},
     "output_type": "display_data"
    },
    {
     "data": {
      "application/vnd.jupyter.widget-view+json": {
       "model_id": "671b4c1eae98417082b00d17a1ae1a00",
       "version_major": 2,
       "version_minor": 0
      },
      "text/plain": [
       "train-00491-of-01106-16b72b0c0ab45b88.pa(…):   0%|          | 0.00/812M [00:00<?, ?B/s]"
      ]
     },
     "metadata": {},
     "output_type": "display_data"
    },
    {
     "data": {
      "application/vnd.jupyter.widget-view+json": {
       "model_id": "e3efeb953d99424e9d6c8929adc6d99d",
       "version_major": 2,
       "version_minor": 0
      },
      "text/plain": [
       "train-00492-of-01106-1c90081cc6211628.pa(…):   0%|          | 0.00/822M [00:00<?, ?B/s]"
      ]
     },
     "metadata": {},
     "output_type": "display_data"
    },
    {
     "data": {
      "application/vnd.jupyter.widget-view+json": {
       "model_id": "ff3b8d1be0d74792a3dfde0161079dad",
       "version_major": 2,
       "version_minor": 0
      },
      "text/plain": [
       "train-00493-of-01106-a39c1f02144a60da.pa(…):   0%|          | 0.00/841M [00:00<?, ?B/s]"
      ]
     },
     "metadata": {},
     "output_type": "display_data"
    },
    {
     "data": {
      "application/vnd.jupyter.widget-view+json": {
       "model_id": "8a52a4989a194e9990f511776fdf3114",
       "version_major": 2,
       "version_minor": 0
      },
      "text/plain": [
       "train-00494-of-01106-defdd88075244aa6.pa(…):   0%|          | 0.00/821M [00:00<?, ?B/s]"
      ]
     },
     "metadata": {},
     "output_type": "display_data"
    },
    {
     "data": {
      "application/vnd.jupyter.widget-view+json": {
       "model_id": "f7df127894c6480d8f3170ae1e6c2700",
       "version_major": 2,
       "version_minor": 0
      },
      "text/plain": [
       "train-00495-of-01106-809ff37552c37a38.pa(…):   0%|          | 0.00/838M [00:00<?, ?B/s]"
      ]
     },
     "metadata": {},
     "output_type": "display_data"
    },
    {
     "data": {
      "application/vnd.jupyter.widget-view+json": {
       "model_id": "074da0ecdbc3457583a98627885edacb",
       "version_major": 2,
       "version_minor": 0
      },
      "text/plain": [
       "train-00496-of-01106-326e0ece56fc9adb.pa(…):   0%|          | 0.00/821M [00:00<?, ?B/s]"
      ]
     },
     "metadata": {},
     "output_type": "display_data"
    },
    {
     "data": {
      "application/vnd.jupyter.widget-view+json": {
       "model_id": "7ced3aaf3228423698d02363557f9e34",
       "version_major": 2,
       "version_minor": 0
      },
      "text/plain": [
       "train-00497-of-01106-8f17beadf4fa2fb7.pa(…):   0%|          | 0.00/831M [00:00<?, ?B/s]"
      ]
     },
     "metadata": {},
     "output_type": "display_data"
    },
    {
     "data": {
      "application/vnd.jupyter.widget-view+json": {
       "model_id": "67732592d8a34681b3d7bed77d1e48e5",
       "version_major": 2,
       "version_minor": 0
      },
      "text/plain": [
       "train-00498-of-01106-e0844c7b8d2fb95f.pa(…):   0%|          | 0.00/799M [00:00<?, ?B/s]"
      ]
     },
     "metadata": {},
     "output_type": "display_data"
    },
    {
     "data": {
      "application/vnd.jupyter.widget-view+json": {
       "model_id": "ef3f91c1d04c4f83a8b06c6600f7536f",
       "version_major": 2,
       "version_minor": 0
      },
      "text/plain": [
       "train-00499-of-01106-fed56b1e325afde7.pa(…):   0%|          | 0.00/841M [00:00<?, ?B/s]"
      ]
     },
     "metadata": {},
     "output_type": "display_data"
    },
    {
     "data": {
      "application/vnd.jupyter.widget-view+json": {
       "model_id": "6d4ef21d32554b16999fae555d1328f0",
       "version_major": 2,
       "version_minor": 0
      },
      "text/plain": [
       "train-00500-of-01106-49d95626f5983588.pa(…):   0%|          | 0.00/823M [00:00<?, ?B/s]"
      ]
     },
     "metadata": {},
     "output_type": "display_data"
    },
    {
     "data": {
      "application/vnd.jupyter.widget-view+json": {
       "model_id": "7d71bd0042ff4cb891fd376a2c7b7f58",
       "version_major": 2,
       "version_minor": 0
      },
      "text/plain": [
       "train-00501-of-01106-6aee0325518d112f.pa(…):   0%|          | 0.00/826M [00:00<?, ?B/s]"
      ]
     },
     "metadata": {},
     "output_type": "display_data"
    },
    {
     "data": {
      "application/vnd.jupyter.widget-view+json": {
       "model_id": "243df21848094de0aed33ace008b4407",
       "version_major": 2,
       "version_minor": 0
      },
      "text/plain": [
       "train-00502-of-01106-14c41af278978bfd.pa(…):   0%|          | 0.00/818M [00:00<?, ?B/s]"
      ]
     },
     "metadata": {},
     "output_type": "display_data"
    },
    {
     "data": {
      "application/vnd.jupyter.widget-view+json": {
       "model_id": "59fedb79e9d94b528d7d02317e432732",
       "version_major": 2,
       "version_minor": 0
      },
      "text/plain": [
       "train-00503-of-01106-8847aee7add6e13e.pa(…):   0%|          | 0.00/822M [00:00<?, ?B/s]"
      ]
     },
     "metadata": {},
     "output_type": "display_data"
    },
    {
     "data": {
      "application/vnd.jupyter.widget-view+json": {
       "model_id": "e30e15e7b7544e7d8c5f4215b4141cbd",
       "version_major": 2,
       "version_minor": 0
      },
      "text/plain": [
       "train-00504-of-01106-fea666dd8d5cb9d2.pa(…):   0%|          | 0.00/837M [00:00<?, ?B/s]"
      ]
     },
     "metadata": {},
     "output_type": "display_data"
    },
    {
     "data": {
      "application/vnd.jupyter.widget-view+json": {
       "model_id": "0494d4efdf4b4609afeef49f0ec67682",
       "version_major": 2,
       "version_minor": 0
      },
      "text/plain": [
       "train-00505-of-01106-cd19827f4cbaacbc.pa(…):   0%|          | 0.00/804M [00:00<?, ?B/s]"
      ]
     },
     "metadata": {},
     "output_type": "display_data"
    },
    {
     "data": {
      "application/vnd.jupyter.widget-view+json": {
       "model_id": "59499447253946368522735cb72ad375",
       "version_major": 2,
       "version_minor": 0
      },
      "text/plain": [
       "train-00506-of-01106-cf55126e850f7ef7.pa(…):   0%|          | 0.00/833M [00:00<?, ?B/s]"
      ]
     },
     "metadata": {},
     "output_type": "display_data"
    },
    {
     "data": {
      "application/vnd.jupyter.widget-view+json": {
       "model_id": "ce85eaff6e1d4616b18bc382a57f2a9a",
       "version_major": 2,
       "version_minor": 0
      },
      "text/plain": [
       "train-00507-of-01106-e64f4910c9147b94.pa(…):   0%|          | 0.00/817M [00:00<?, ?B/s]"
      ]
     },
     "metadata": {},
     "output_type": "display_data"
    },
    {
     "data": {
      "application/vnd.jupyter.widget-view+json": {
       "model_id": "2bb6dfb0637640cea0b3b3d513d580a1",
       "version_major": 2,
       "version_minor": 0
      },
      "text/plain": [
       "train-00508-of-01106-3405209a3992f596.pa(…):   0%|          | 0.00/846M [00:00<?, ?B/s]"
      ]
     },
     "metadata": {},
     "output_type": "display_data"
    },
    {
     "data": {
      "application/vnd.jupyter.widget-view+json": {
       "model_id": "a287e5e660d549feaeaea9a0d082fdb1",
       "version_major": 2,
       "version_minor": 0
      },
      "text/plain": [
       "train-00509-of-01106-0516b172ff45ba2c.pa(…):   0%|          | 0.00/809M [00:00<?, ?B/s]"
      ]
     },
     "metadata": {},
     "output_type": "display_data"
    },
    {
     "data": {
      "application/vnd.jupyter.widget-view+json": {
       "model_id": "e6c08fe61e3448a895f35b72fdc56455",
       "version_major": 2,
       "version_minor": 0
      },
      "text/plain": [
       "train-00510-of-01106-9a1170fb32f94eeb.pa(…):   0%|          | 0.00/874M [00:00<?, ?B/s]"
      ]
     },
     "metadata": {},
     "output_type": "display_data"
    },
    {
     "data": {
      "application/vnd.jupyter.widget-view+json": {
       "model_id": "997b4f93957841c28b4e1a4d888a50bc",
       "version_major": 2,
       "version_minor": 0
      },
      "text/plain": [
       "train-00511-of-01106-2b451139086f5612.pa(…):   0%|          | 0.00/955M [00:00<?, ?B/s]"
      ]
     },
     "metadata": {},
     "output_type": "display_data"
    },
    {
     "data": {
      "application/vnd.jupyter.widget-view+json": {
       "model_id": "1aa9fe729e7445e586ff7987911ffe5b",
       "version_major": 2,
       "version_minor": 0
      },
      "text/plain": [
       "train-00512-of-01106-da0e4d097839196f.pa(…):   0%|          | 0.00/914M [00:00<?, ?B/s]"
      ]
     },
     "metadata": {},
     "output_type": "display_data"
    },
    {
     "data": {
      "application/vnd.jupyter.widget-view+json": {
       "model_id": "71aa5957b9ab40cf93f764b3c1db6524",
       "version_major": 2,
       "version_minor": 0
      },
      "text/plain": [
       "train-00513-of-01106-b57909ae02df53ef.pa(…):   0%|          | 0.00/958M [00:00<?, ?B/s]"
      ]
     },
     "metadata": {},
     "output_type": "display_data"
    },
    {
     "data": {
      "application/vnd.jupyter.widget-view+json": {
       "model_id": "a289043f5cfa4217b1049631571ba149",
       "version_major": 2,
       "version_minor": 0
      },
      "text/plain": [
       "train-00514-of-01106-da95ff36bb11bc2f.pa(…):   0%|          | 0.00/978M [00:00<?, ?B/s]"
      ]
     },
     "metadata": {},
     "output_type": "display_data"
    },
    {
     "data": {
      "application/vnd.jupyter.widget-view+json": {
       "model_id": "6d0c2c724ce74cbb8f8fccb58625893a",
       "version_major": 2,
       "version_minor": 0
      },
      "text/plain": [
       "train-00515-of-01106-ca6e605487de8545.pa(…):   0%|          | 0.00/884M [00:00<?, ?B/s]"
      ]
     },
     "metadata": {},
     "output_type": "display_data"
    },
    {
     "data": {
      "application/vnd.jupyter.widget-view+json": {
       "model_id": "67925c33cc5448c589621186349379df",
       "version_major": 2,
       "version_minor": 0
      },
      "text/plain": [
       "train-00516-of-01106-ca654767007dd598.pa(…):   0%|          | 0.00/952M [00:00<?, ?B/s]"
      ]
     },
     "metadata": {},
     "output_type": "display_data"
    },
    {
     "data": {
      "application/vnd.jupyter.widget-view+json": {
       "model_id": "857edc54483444a78403a4ba9c0a04e8",
       "version_major": 2,
       "version_minor": 0
      },
      "text/plain": [
       "train-00517-of-01106-0df67a88d0777dd9.pa(…):   0%|          | 0.00/907M [00:00<?, ?B/s]"
      ]
     },
     "metadata": {},
     "output_type": "display_data"
    },
    {
     "data": {
      "application/vnd.jupyter.widget-view+json": {
       "model_id": "f76ca194da7b487297ea3ce095981a90",
       "version_major": 2,
       "version_minor": 0
      },
      "text/plain": [
       "train-00518-of-01106-f52389da52d98c27.pa(…):   0%|          | 0.00/933M [00:00<?, ?B/s]"
      ]
     },
     "metadata": {},
     "output_type": "display_data"
    },
    {
     "data": {
      "application/vnd.jupyter.widget-view+json": {
       "model_id": "ef1b944a4a01452f98d11dd86788d047",
       "version_major": 2,
       "version_minor": 0
      },
      "text/plain": [
       "train-00519-of-01106-00807ba3583e962a.pa(…):   0%|          | 0.00/928M [00:00<?, ?B/s]"
      ]
     },
     "metadata": {},
     "output_type": "display_data"
    },
    {
     "data": {
      "application/vnd.jupyter.widget-view+json": {
       "model_id": "11188ee279c044b1b3d37635fe461b27",
       "version_major": 2,
       "version_minor": 0
      },
      "text/plain": [
       "train-00520-of-01106-c5c30eeeb77f75f8.pa(…):   0%|          | 0.00/948M [00:00<?, ?B/s]"
      ]
     },
     "metadata": {},
     "output_type": "display_data"
    },
    {
     "data": {
      "application/vnd.jupyter.widget-view+json": {
       "model_id": "176942a94a2c457bac7c3f37847bcd30",
       "version_major": 2,
       "version_minor": 0
      },
      "text/plain": [
       "train-00521-of-01106-e7eebc1c088ecca9.pa(…):   0%|          | 0.00/929M [00:00<?, ?B/s]"
      ]
     },
     "metadata": {},
     "output_type": "display_data"
    },
    {
     "data": {
      "application/vnd.jupyter.widget-view+json": {
       "model_id": "61602a5a38114916a139571a1e354ead",
       "version_major": 2,
       "version_minor": 0
      },
      "text/plain": [
       "train-00522-of-01106-5895b6e084d85662.pa(…):   0%|          | 0.00/819M [00:00<?, ?B/s]"
      ]
     },
     "metadata": {},
     "output_type": "display_data"
    },
    {
     "data": {
      "application/vnd.jupyter.widget-view+json": {
       "model_id": "39cd68efb63240cab3265a5869744151",
       "version_major": 2,
       "version_minor": 0
      },
      "text/plain": [
       "train-00523-of-01106-ebaacc098e7d80bf.pa(…):   0%|          | 0.00/894M [00:00<?, ?B/s]"
      ]
     },
     "metadata": {},
     "output_type": "display_data"
    },
    {
     "data": {
      "application/vnd.jupyter.widget-view+json": {
       "model_id": "6fa23d7dc0c041138c74d59fdb1579d8",
       "version_major": 2,
       "version_minor": 0
      },
      "text/plain": [
       "train-00524-of-01106-b25074fa51a95dc0.pa(…):   0%|          | 0.00/830M [00:00<?, ?B/s]"
      ]
     },
     "metadata": {},
     "output_type": "display_data"
    },
    {
     "data": {
      "application/vnd.jupyter.widget-view+json": {
       "model_id": "2d92a7d661e44f09838e315d1a621b83",
       "version_major": 2,
       "version_minor": 0
      },
      "text/plain": [
       "train-00525-of-01106-5523527537e27468.pa(…):   0%|          | 0.00/816M [00:00<?, ?B/s]"
      ]
     },
     "metadata": {},
     "output_type": "display_data"
    },
    {
     "data": {
      "application/vnd.jupyter.widget-view+json": {
       "model_id": "170a7c083ead4de493f759fc4231d020",
       "version_major": 2,
       "version_minor": 0
      },
      "text/plain": [
       "train-00526-of-01106-1636e461becca7e2.pa(…):   0%|          | 0.00/788M [00:00<?, ?B/s]"
      ]
     },
     "metadata": {},
     "output_type": "display_data"
    },
    {
     "data": {
      "application/vnd.jupyter.widget-view+json": {
       "model_id": "b6abd74abd054de99faf1402b91236be",
       "version_major": 2,
       "version_minor": 0
      },
      "text/plain": [
       "train-00527-of-01106-65ae0558e92fdb9a.pa(…):   0%|          | 0.00/906M [00:00<?, ?B/s]"
      ]
     },
     "metadata": {},
     "output_type": "display_data"
    },
    {
     "data": {
      "application/vnd.jupyter.widget-view+json": {
       "model_id": "42888879e8ca434b862cd4ad4a4e3641",
       "version_major": 2,
       "version_minor": 0
      },
      "text/plain": [
       "train-00528-of-01106-28a2a3e6bf85fc0a.pa(…):   0%|          | 0.00/981M [00:00<?, ?B/s]"
      ]
     },
     "metadata": {},
     "output_type": "display_data"
    },
    {
     "data": {
      "application/vnd.jupyter.widget-view+json": {
       "model_id": "f2e0a088d6c14284b5b2f4565ac9dd3a",
       "version_major": 2,
       "version_minor": 0
      },
      "text/plain": [
       "train-00529-of-01106-b6e36c4a57e4ab73.pa(…):   0%|          | 0.00/899M [00:00<?, ?B/s]"
      ]
     },
     "metadata": {},
     "output_type": "display_data"
    },
    {
     "data": {
      "application/vnd.jupyter.widget-view+json": {
       "model_id": "84c35d2d2be44cd9b71314e0e6ad8369",
       "version_major": 2,
       "version_minor": 0
      },
      "text/plain": [
       "train-00530-of-01106-974a69d043c1fd46.pa(…):   0%|          | 0.00/942M [00:00<?, ?B/s]"
      ]
     },
     "metadata": {},
     "output_type": "display_data"
    },
    {
     "data": {
      "application/vnd.jupyter.widget-view+json": {
       "model_id": "3ad809ff4e4d4ab8a461e807cd97114a",
       "version_major": 2,
       "version_minor": 0
      },
      "text/plain": [
       "train-00531-of-01106-059dadaf441dc584.pa(…):   0%|          | 0.00/942M [00:00<?, ?B/s]"
      ]
     },
     "metadata": {},
     "output_type": "display_data"
    },
    {
     "data": {
      "application/vnd.jupyter.widget-view+json": {
       "model_id": "c23bb648d516457cb77d38da7d155479",
       "version_major": 2,
       "version_minor": 0
      },
      "text/plain": [
       "train-00532-of-01106-07f65a2f90e4a2f7.pa(…):   0%|          | 0.00/946M [00:00<?, ?B/s]"
      ]
     },
     "metadata": {},
     "output_type": "display_data"
    },
    {
     "data": {
      "application/vnd.jupyter.widget-view+json": {
       "model_id": "06d3f1258af246f38885161fee45c36d",
       "version_major": 2,
       "version_minor": 0
      },
      "text/plain": [
       "train-00533-of-01106-e0c7f86e069aae55.pa(…):   0%|          | 0.00/864M [00:00<?, ?B/s]"
      ]
     },
     "metadata": {},
     "output_type": "display_data"
    },
    {
     "data": {
      "application/vnd.jupyter.widget-view+json": {
       "model_id": "01d0b8ff97c64b35b3aa5368b344becd",
       "version_major": 2,
       "version_minor": 0
      },
      "text/plain": [
       "train-00534-of-01106-b7c0ae0481be11e0.pa(…):   0%|          | 0.00/822M [00:00<?, ?B/s]"
      ]
     },
     "metadata": {},
     "output_type": "display_data"
    },
    {
     "data": {
      "application/vnd.jupyter.widget-view+json": {
       "model_id": "f92b5c2ee0654a75948f18fba3d7c9a7",
       "version_major": 2,
       "version_minor": 0
      },
      "text/plain": [
       "train-00535-of-01106-e8679207b83bb816.pa(…):   0%|          | 0.00/850M [00:00<?, ?B/s]"
      ]
     },
     "metadata": {},
     "output_type": "display_data"
    },
    {
     "data": {
      "application/vnd.jupyter.widget-view+json": {
       "model_id": "3113c2bf6f5c43b2a138c943c55ff6f2",
       "version_major": 2,
       "version_minor": 0
      },
      "text/plain": [
       "train-00536-of-01106-d302f070b3c07dca.pa(…):   0%|          | 0.00/829M [00:00<?, ?B/s]"
      ]
     },
     "metadata": {},
     "output_type": "display_data"
    },
    {
     "data": {
      "application/vnd.jupyter.widget-view+json": {
       "model_id": "ac13cff3021444ec899d658073c94e39",
       "version_major": 2,
       "version_minor": 0
      },
      "text/plain": [
       "train-00537-of-01106-dd30c9c755f50f04.pa(…):   0%|          | 0.00/859M [00:00<?, ?B/s]"
      ]
     },
     "metadata": {},
     "output_type": "display_data"
    },
    {
     "data": {
      "application/vnd.jupyter.widget-view+json": {
       "model_id": "54a9625332c147068a026f4a4d7e16f5",
       "version_major": 2,
       "version_minor": 0
      },
      "text/plain": [
       "train-00538-of-01106-468883fed4125ba6.pa(…):   0%|          | 0.00/831M [00:00<?, ?B/s]"
      ]
     },
     "metadata": {},
     "output_type": "display_data"
    },
    {
     "data": {
      "application/vnd.jupyter.widget-view+json": {
       "model_id": "3d028a17a923460788984d21c296a76e",
       "version_major": 2,
       "version_minor": 0
      },
      "text/plain": [
       "train-00539-of-01106-8e6e860aee67934c.pa(…):   0%|          | 0.00/829M [00:00<?, ?B/s]"
      ]
     },
     "metadata": {},
     "output_type": "display_data"
    },
    {
     "data": {
      "application/vnd.jupyter.widget-view+json": {
       "model_id": "694d1b0c1e1c42eb8158c63ccc385894",
       "version_major": 2,
       "version_minor": 0
      },
      "text/plain": [
       "train-00540-of-01106-97728c29dfa9ee8c.pa(…):   0%|          | 0.00/816M [00:00<?, ?B/s]"
      ]
     },
     "metadata": {},
     "output_type": "display_data"
    },
    {
     "data": {
      "application/vnd.jupyter.widget-view+json": {
       "model_id": "14ec3254dc1b49599a927d4c76e32e77",
       "version_major": 2,
       "version_minor": 0
      },
      "text/plain": [
       "train-00541-of-01106-f9e5ea84cfb9e8d9.pa(…):   0%|          | 0.00/812M [00:00<?, ?B/s]"
      ]
     },
     "metadata": {},
     "output_type": "display_data"
    },
    {
     "data": {
      "application/vnd.jupyter.widget-view+json": {
       "model_id": "557fd97bd9bd4a17b908a4331c1d76b2",
       "version_major": 2,
       "version_minor": 0
      },
      "text/plain": [
       "train-00542-of-01106-4796173e039f6865.pa(…):   0%|          | 0.00/790M [00:00<?, ?B/s]"
      ]
     },
     "metadata": {},
     "output_type": "display_data"
    },
    {
     "data": {
      "application/vnd.jupyter.widget-view+json": {
       "model_id": "cd4aa3037b35471692631ae4fa55158c",
       "version_major": 2,
       "version_minor": 0
      },
      "text/plain": [
       "train-00543-of-01106-f7a02f7043279705.pa(…):   0%|          | 0.00/820M [00:00<?, ?B/s]"
      ]
     },
     "metadata": {},
     "output_type": "display_data"
    },
    {
     "data": {
      "application/vnd.jupyter.widget-view+json": {
       "model_id": "b130a3d0758946f0aca5d4eb118f0637",
       "version_major": 2,
       "version_minor": 0
      },
      "text/plain": [
       "train-00544-of-01106-4592a5180ab829ff.pa(…):   0%|          | 0.00/839M [00:00<?, ?B/s]"
      ]
     },
     "metadata": {},
     "output_type": "display_data"
    },
    {
     "data": {
      "application/vnd.jupyter.widget-view+json": {
       "model_id": "1de5f1f97e434549a49f3b73ca918602",
       "version_major": 2,
       "version_minor": 0
      },
      "text/plain": [
       "train-00545-of-01106-83f5c926540b1342.pa(…):   0%|          | 0.00/818M [00:00<?, ?B/s]"
      ]
     },
     "metadata": {},
     "output_type": "display_data"
    },
    {
     "data": {
      "application/vnd.jupyter.widget-view+json": {
       "model_id": "dc73645361bf49e2b6db845ef0f1ee9c",
       "version_major": 2,
       "version_minor": 0
      },
      "text/plain": [
       "train-00546-of-01106-1dd6184e5c5f14ce.pa(…):   0%|          | 0.00/833M [00:00<?, ?B/s]"
      ]
     },
     "metadata": {},
     "output_type": "display_data"
    },
    {
     "data": {
      "application/vnd.jupyter.widget-view+json": {
       "model_id": "4ecf0426c09847f3a5e9ff2e033c2113",
       "version_major": 2,
       "version_minor": 0
      },
      "text/plain": [
       "train-00547-of-01106-b6cc0f15fc91faa6.pa(…):   0%|          | 0.00/839M [00:00<?, ?B/s]"
      ]
     },
     "metadata": {},
     "output_type": "display_data"
    },
    {
     "data": {
      "application/vnd.jupyter.widget-view+json": {
       "model_id": "74e45dc934024699a9692ee2f481f0f6",
       "version_major": 2,
       "version_minor": 0
      },
      "text/plain": [
       "train-00548-of-01106-b952aa594ca55eac.pa(…):   0%|          | 0.00/798M [00:00<?, ?B/s]"
      ]
     },
     "metadata": {},
     "output_type": "display_data"
    },
    {
     "data": {
      "application/vnd.jupyter.widget-view+json": {
       "model_id": "f4e579cc12c94b91b64a1c29d3270032",
       "version_major": 2,
       "version_minor": 0
      },
      "text/plain": [
       "train-00549-of-01106-7c19e3adf37c95f0.pa(…):   0%|          | 0.00/831M [00:00<?, ?B/s]"
      ]
     },
     "metadata": {},
     "output_type": "display_data"
    },
    {
     "data": {
      "application/vnd.jupyter.widget-view+json": {
       "model_id": "1f419547602e43df92c26468aaa5db3e",
       "version_major": 2,
       "version_minor": 0
      },
      "text/plain": [
       "train-00550-of-01106-962629e0c2ffeee5.pa(…):   0%|          | 0.00/816M [00:00<?, ?B/s]"
      ]
     },
     "metadata": {},
     "output_type": "display_data"
    },
    {
     "data": {
      "application/vnd.jupyter.widget-view+json": {
       "model_id": "4822d85ac1944cacaf7c68d7622ddd48",
       "version_major": 2,
       "version_minor": 0
      },
      "text/plain": [
       "train-00551-of-01106-ce5ca24abc6b04d1.pa(…):   0%|          | 0.00/793M [00:00<?, ?B/s]"
      ]
     },
     "metadata": {},
     "output_type": "display_data"
    },
    {
     "data": {
      "application/vnd.jupyter.widget-view+json": {
       "model_id": "f6b6298797844e52ae90a750da51196c",
       "version_major": 2,
       "version_minor": 0
      },
      "text/plain": [
       "train-00552-of-01106-1f75b0a7812bd0bd.pa(…):   0%|          | 0.00/813M [00:00<?, ?B/s]"
      ]
     },
     "metadata": {},
     "output_type": "display_data"
    },
    {
     "data": {
      "application/vnd.jupyter.widget-view+json": {
       "model_id": "f7aef58168244e5f872983f447d61d0c",
       "version_major": 2,
       "version_minor": 0
      },
      "text/plain": [
       "train-00553-of-01106-deb406e9878c6386.pa(…):   0%|          | 0.00/805M [00:00<?, ?B/s]"
      ]
     },
     "metadata": {},
     "output_type": "display_data"
    },
    {
     "data": {
      "application/vnd.jupyter.widget-view+json": {
       "model_id": "cde003b88c9b43b99b9bf8e78eee4d7a",
       "version_major": 2,
       "version_minor": 0
      },
      "text/plain": [
       "train-00554-of-01106-3ba43d76a27bd091.pa(…):   0%|          | 0.00/848M [00:00<?, ?B/s]"
      ]
     },
     "metadata": {},
     "output_type": "display_data"
    },
    {
     "data": {
      "application/vnd.jupyter.widget-view+json": {
       "model_id": "48f8191f2db9478bac2cf1b425ac577b",
       "version_major": 2,
       "version_minor": 0
      },
      "text/plain": [
       "train-00555-of-01106-67097ce51ddbe1b7.pa(…):   0%|          | 0.00/811M [00:00<?, ?B/s]"
      ]
     },
     "metadata": {},
     "output_type": "display_data"
    },
    {
     "data": {
      "application/vnd.jupyter.widget-view+json": {
       "model_id": "9b230aad1c684ab0b16b2d1fafa4fe38",
       "version_major": 2,
       "version_minor": 0
      },
      "text/plain": [
       "train-00556-of-01106-ecd84d8e1f3a4735.pa(…):   0%|          | 0.00/856M [00:00<?, ?B/s]"
      ]
     },
     "metadata": {},
     "output_type": "display_data"
    },
    {
     "data": {
      "application/vnd.jupyter.widget-view+json": {
       "model_id": "1c3839f0fbc74fd799619b3a3236b49b",
       "version_major": 2,
       "version_minor": 0
      },
      "text/plain": [
       "train-00557-of-01106-ec8a3c27716fafdd.pa(…):   0%|          | 0.00/932M [00:00<?, ?B/s]"
      ]
     },
     "metadata": {},
     "output_type": "display_data"
    },
    {
     "data": {
      "application/vnd.jupyter.widget-view+json": {
       "model_id": "e2ce57123d95426eb48e77e3f98afbf8",
       "version_major": 2,
       "version_minor": 0
      },
      "text/plain": [
       "train-00558-of-01106-bff1443d66f7daa8.pa(…):   0%|          | 0.00/909M [00:00<?, ?B/s]"
      ]
     },
     "metadata": {},
     "output_type": "display_data"
    },
    {
     "data": {
      "application/vnd.jupyter.widget-view+json": {
       "model_id": "b8866750a8744c2b9d1ed9ea18cb6f07",
       "version_major": 2,
       "version_minor": 0
      },
      "text/plain": [
       "train-00559-of-01106-587aca52890759e1.pa(…):   0%|          | 0.00/1.00G [00:00<?, ?B/s]"
      ]
     },
     "metadata": {},
     "output_type": "display_data"
    },
    {
     "data": {
      "application/vnd.jupyter.widget-view+json": {
       "model_id": "f0aa892aff4f4e43a04f5e28fd019375",
       "version_major": 2,
       "version_minor": 0
      },
      "text/plain": [
       "train-00560-of-01106-b5fb4ce855a07e95.pa(…):   0%|          | 0.00/927M [00:00<?, ?B/s]"
      ]
     },
     "metadata": {},
     "output_type": "display_data"
    },
    {
     "data": {
      "application/vnd.jupyter.widget-view+json": {
       "model_id": "d9cc440757fb4d349f75e9d7287e4dd6",
       "version_major": 2,
       "version_minor": 0
      },
      "text/plain": [
       "train-00561-of-01106-fde072b9e41b5a1c.pa(…):   0%|          | 0.00/924M [00:00<?, ?B/s]"
      ]
     },
     "metadata": {},
     "output_type": "display_data"
    },
    {
     "data": {
      "application/vnd.jupyter.widget-view+json": {
       "model_id": "672910a52e8c41b4931fff178c4cc96e",
       "version_major": 2,
       "version_minor": 0
      },
      "text/plain": [
       "train-00562-of-01106-903485b9267d99b5.pa(…):   0%|          | 0.00/881M [00:00<?, ?B/s]"
      ]
     },
     "metadata": {},
     "output_type": "display_data"
    },
    {
     "data": {
      "application/vnd.jupyter.widget-view+json": {
       "model_id": "1f71afe0a4d04b42a4fc3f5263d24a0e",
       "version_major": 2,
       "version_minor": 0
      },
      "text/plain": [
       "train-00563-of-01106-6e78b73f88f468ce.pa(…):   0%|          | 0.00/832M [00:00<?, ?B/s]"
      ]
     },
     "metadata": {},
     "output_type": "display_data"
    },
    {
     "data": {
      "application/vnd.jupyter.widget-view+json": {
       "model_id": "185c5237d4fd41cbb7c1fa374fb6ddd9",
       "version_major": 2,
       "version_minor": 0
      },
      "text/plain": [
       "train-00564-of-01106-c9793d05d91600e4.pa(…):   0%|          | 0.00/812M [00:00<?, ?B/s]"
      ]
     },
     "metadata": {},
     "output_type": "display_data"
    },
    {
     "data": {
      "application/vnd.jupyter.widget-view+json": {
       "model_id": "83454460dad34ff29f67c7466944751a",
       "version_major": 2,
       "version_minor": 0
      },
      "text/plain": [
       "train-00565-of-01106-291bf0df8ecac4fe.pa(…):   0%|          | 0.00/827M [00:00<?, ?B/s]"
      ]
     },
     "metadata": {},
     "output_type": "display_data"
    },
    {
     "data": {
      "application/vnd.jupyter.widget-view+json": {
       "model_id": "5fb6a19fd9be46108fc81e50a8e5dd03",
       "version_major": 2,
       "version_minor": 0
      },
      "text/plain": [
       "train-00566-of-01106-4e40fc0c6b6038c7.pa(…):   0%|          | 0.00/849M [00:00<?, ?B/s]"
      ]
     },
     "metadata": {},
     "output_type": "display_data"
    },
    {
     "data": {
      "application/vnd.jupyter.widget-view+json": {
       "model_id": "28697d4192dc4aeaa62ab06a3ff91150",
       "version_major": 2,
       "version_minor": 0
      },
      "text/plain": [
       "train-00567-of-01106-74c824fdf2cb2adc.pa(…):   0%|          | 0.00/838M [00:00<?, ?B/s]"
      ]
     },
     "metadata": {},
     "output_type": "display_data"
    },
    {
     "data": {
      "application/vnd.jupyter.widget-view+json": {
       "model_id": "d8980704f6314d36817025b61bade73d",
       "version_major": 2,
       "version_minor": 0
      },
      "text/plain": [
       "train-00568-of-01106-57f3170d4029131b.pa(…):   0%|          | 0.00/814M [00:00<?, ?B/s]"
      ]
     },
     "metadata": {},
     "output_type": "display_data"
    },
    {
     "data": {
      "application/vnd.jupyter.widget-view+json": {
       "model_id": "30cd58fd01b64a61a7d26a6d855b6055",
       "version_major": 2,
       "version_minor": 0
      },
      "text/plain": [
       "train-00569-of-01106-922ca302b29aac08.pa(…):   0%|          | 0.00/829M [00:00<?, ?B/s]"
      ]
     },
     "metadata": {},
     "output_type": "display_data"
    },
    {
     "data": {
      "application/vnd.jupyter.widget-view+json": {
       "model_id": "d46d87e782394abd859c63060cac013a",
       "version_major": 2,
       "version_minor": 0
      },
      "text/plain": [
       "train-00570-of-01106-a4658c11d7863f58.pa(…):   0%|          | 0.00/833M [00:00<?, ?B/s]"
      ]
     },
     "metadata": {},
     "output_type": "display_data"
    },
    {
     "data": {
      "application/vnd.jupyter.widget-view+json": {
       "model_id": "227e1b1d01a744e293665612a631cc47",
       "version_major": 2,
       "version_minor": 0
      },
      "text/plain": [
       "train-00571-of-01106-1d752c933d52b013.pa(…):   0%|          | 0.00/826M [00:00<?, ?B/s]"
      ]
     },
     "metadata": {},
     "output_type": "display_data"
    },
    {
     "data": {
      "application/vnd.jupyter.widget-view+json": {
       "model_id": "7b091531253c4bd5b2fb4eb4fca31cab",
       "version_major": 2,
       "version_minor": 0
      },
      "text/plain": [
       "train-00572-of-01106-03bc9fd84a403ced.pa(…):   0%|          | 0.00/830M [00:00<?, ?B/s]"
      ]
     },
     "metadata": {},
     "output_type": "display_data"
    },
    {
     "data": {
      "application/vnd.jupyter.widget-view+json": {
       "model_id": "7b5368811bf44bdcacc7b0dc0ae05701",
       "version_major": 2,
       "version_minor": 0
      },
      "text/plain": [
       "train-00573-of-01106-9cedb2a4247c1266.pa(…):   0%|          | 0.00/829M [00:00<?, ?B/s]"
      ]
     },
     "metadata": {},
     "output_type": "display_data"
    },
    {
     "data": {
      "application/vnd.jupyter.widget-view+json": {
       "model_id": "b8a7b614231c4f15ada7dade2b619fd7",
       "version_major": 2,
       "version_minor": 0
      },
      "text/plain": [
       "train-00574-of-01106-6e15005cf890398b.pa(…):   0%|          | 0.00/823M [00:00<?, ?B/s]"
      ]
     },
     "metadata": {},
     "output_type": "display_data"
    },
    {
     "data": {
      "application/vnd.jupyter.widget-view+json": {
       "model_id": "5219daedc1954aadb38371b3cf98a7ac",
       "version_major": 2,
       "version_minor": 0
      },
      "text/plain": [
       "train-00575-of-01106-d399eb84e202c176.pa(…):   0%|          | 0.00/853M [00:00<?, ?B/s]"
      ]
     },
     "metadata": {},
     "output_type": "display_data"
    },
    {
     "data": {
      "application/vnd.jupyter.widget-view+json": {
       "model_id": "667f0db6e0454fbc8faf869501f223cf",
       "version_major": 2,
       "version_minor": 0
      },
      "text/plain": [
       "train-00576-of-01106-bcf47bd073b17301.pa(…):   0%|          | 0.00/804M [00:00<?, ?B/s]"
      ]
     },
     "metadata": {},
     "output_type": "display_data"
    },
    {
     "data": {
      "application/vnd.jupyter.widget-view+json": {
       "model_id": "f5638e8a20534f6a82c9c5ba16302e76",
       "version_major": 2,
       "version_minor": 0
      },
      "text/plain": [
       "train-00577-of-01106-79727c083f26cf62.pa(…):   0%|          | 0.00/793M [00:00<?, ?B/s]"
      ]
     },
     "metadata": {},
     "output_type": "display_data"
    },
    {
     "data": {
      "application/vnd.jupyter.widget-view+json": {
       "model_id": "e90971c7941f4f0cbadb3f992565618a",
       "version_major": 2,
       "version_minor": 0
      },
      "text/plain": [
       "train-00578-of-01106-16716a0b80ca063b.pa(…):   0%|          | 0.00/827M [00:00<?, ?B/s]"
      ]
     },
     "metadata": {},
     "output_type": "display_data"
    },
    {
     "data": {
      "application/vnd.jupyter.widget-view+json": {
       "model_id": "767445529e954fd28ac995644e866354",
       "version_major": 2,
       "version_minor": 0
      },
      "text/plain": [
       "train-00579-of-01106-9392def3a17ca523.pa(…):   0%|          | 0.00/806M [00:00<?, ?B/s]"
      ]
     },
     "metadata": {},
     "output_type": "display_data"
    },
    {
     "data": {
      "application/vnd.jupyter.widget-view+json": {
       "model_id": "0ac892cbbc874be18a87bfa35a1ee7a6",
       "version_major": 2,
       "version_minor": 0
      },
      "text/plain": [
       "train-00580-of-01106-19cc07e03f1bb7c9.pa(…):   0%|          | 0.00/833M [00:00<?, ?B/s]"
      ]
     },
     "metadata": {},
     "output_type": "display_data"
    },
    {
     "data": {
      "application/vnd.jupyter.widget-view+json": {
       "model_id": "ffd07b72628441d8bfc3565f99ffc839",
       "version_major": 2,
       "version_minor": 0
      },
      "text/plain": [
       "train-00581-of-01106-aa9528639c569af2.pa(…):   0%|          | 0.00/836M [00:00<?, ?B/s]"
      ]
     },
     "metadata": {},
     "output_type": "display_data"
    },
    {
     "data": {
      "application/vnd.jupyter.widget-view+json": {
       "model_id": "44adc62d9690412c8cc5e0aaad0463ff",
       "version_major": 2,
       "version_minor": 0
      },
      "text/plain": [
       "train-00582-of-01106-a24e0ab51ee1025a.pa(…):   0%|          | 0.00/816M [00:00<?, ?B/s]"
      ]
     },
     "metadata": {},
     "output_type": "display_data"
    },
    {
     "data": {
      "application/vnd.jupyter.widget-view+json": {
       "model_id": "d7df4bf6e4c749329179b52f7b10c4a9",
       "version_major": 2,
       "version_minor": 0
      },
      "text/plain": [
       "train-00583-of-01106-ae0d2a751652f9ba.pa(…):   0%|          | 0.00/821M [00:00<?, ?B/s]"
      ]
     },
     "metadata": {},
     "output_type": "display_data"
    },
    {
     "data": {
      "application/vnd.jupyter.widget-view+json": {
       "model_id": "96b71ffa0c9b42fa9d195eddf57b6319",
       "version_major": 2,
       "version_minor": 0
      },
      "text/plain": [
       "train-00584-of-01106-5e54db2311ed33b5.pa(…):   0%|          | 0.00/797M [00:00<?, ?B/s]"
      ]
     },
     "metadata": {},
     "output_type": "display_data"
    },
    {
     "data": {
      "application/vnd.jupyter.widget-view+json": {
       "model_id": "ab678ce691e145eb956a0565db102638",
       "version_major": 2,
       "version_minor": 0
      },
      "text/plain": [
       "train-00585-of-01106-e59e74df9c9b2ffa.pa(…):   0%|          | 0.00/795M [00:00<?, ?B/s]"
      ]
     },
     "metadata": {},
     "output_type": "display_data"
    },
    {
     "data": {
      "application/vnd.jupyter.widget-view+json": {
       "model_id": "7b3358a6cd3341b786961cafc6056719",
       "version_major": 2,
       "version_minor": 0
      },
      "text/plain": [
       "train-00586-of-01106-382e9a4780fa0650.pa(…):   0%|          | 0.00/854M [00:00<?, ?B/s]"
      ]
     },
     "metadata": {},
     "output_type": "display_data"
    },
    {
     "data": {
      "application/vnd.jupyter.widget-view+json": {
       "model_id": "a5134d370baf47d1b190e8c5b30c09b1",
       "version_major": 2,
       "version_minor": 0
      },
      "text/plain": [
       "train-00587-of-01106-c4e505153f4b38e4.pa(…):   0%|          | 0.00/845M [00:00<?, ?B/s]"
      ]
     },
     "metadata": {},
     "output_type": "display_data"
    },
    {
     "data": {
      "application/vnd.jupyter.widget-view+json": {
       "model_id": "2221ccf85eef4371bcf78cea9baebaa5",
       "version_major": 2,
       "version_minor": 0
      },
      "text/plain": [
       "train-00588-of-01106-1ce5d5addbfd3e05.pa(…):   0%|          | 0.00/838M [00:00<?, ?B/s]"
      ]
     },
     "metadata": {},
     "output_type": "display_data"
    },
    {
     "data": {
      "application/vnd.jupyter.widget-view+json": {
       "model_id": "9fe5428083c34f66b2016c8b51e4bc74",
       "version_major": 2,
       "version_minor": 0
      },
      "text/plain": [
       "train-00589-of-01106-8649e150e5200b77.pa(…):   0%|          | 0.00/819M [00:00<?, ?B/s]"
      ]
     },
     "metadata": {},
     "output_type": "display_data"
    },
    {
     "data": {
      "application/vnd.jupyter.widget-view+json": {
       "model_id": "59d682a9326d43078063a80e019b0b41",
       "version_major": 2,
       "version_minor": 0
      },
      "text/plain": [
       "train-00590-of-01106-865f4c1668a7a664.pa(…):   0%|          | 0.00/817M [00:00<?, ?B/s]"
      ]
     },
     "metadata": {},
     "output_type": "display_data"
    },
    {
     "data": {
      "application/vnd.jupyter.widget-view+json": {
       "model_id": "73111338f65e412f97a4d73fa2200b00",
       "version_major": 2,
       "version_minor": 0
      },
      "text/plain": [
       "train-00591-of-01106-09f74f90281a367d.pa(…):   0%|          | 0.00/937M [00:00<?, ?B/s]"
      ]
     },
     "metadata": {},
     "output_type": "display_data"
    },
    {
     "data": {
      "application/vnd.jupyter.widget-view+json": {
       "model_id": "1ab9da2b47034aeebdbed51704df8f4d",
       "version_major": 2,
       "version_minor": 0
      },
      "text/plain": [
       "train-00592-of-01106-a49dc242cf90649a.pa(…):   0%|          | 0.00/944M [00:00<?, ?B/s]"
      ]
     },
     "metadata": {},
     "output_type": "display_data"
    },
    {
     "data": {
      "application/vnd.jupyter.widget-view+json": {
       "model_id": "b1f957ec0a814457b519867b16cc9c8d",
       "version_major": 2,
       "version_minor": 0
      },
      "text/plain": [
       "train-00593-of-01106-ddaf2a34f4017b80.pa(…):   0%|          | 0.00/916M [00:00<?, ?B/s]"
      ]
     },
     "metadata": {},
     "output_type": "display_data"
    },
    {
     "data": {
      "application/vnd.jupyter.widget-view+json": {
       "model_id": "fe53e1252dd44ecda93bd90e33dd31a2",
       "version_major": 2,
       "version_minor": 0
      },
      "text/plain": [
       "train-00594-of-01106-98caa5f7462bfd99.pa(…):   0%|          | 0.00/915M [00:00<?, ?B/s]"
      ]
     },
     "metadata": {},
     "output_type": "display_data"
    },
    {
     "data": {
      "application/vnd.jupyter.widget-view+json": {
       "model_id": "a06dc819ff0d4d74a3bdddf55da6470d",
       "version_major": 2,
       "version_minor": 0
      },
      "text/plain": [
       "train-00595-of-01106-1523c6eb2f49d775.pa(…):   0%|          | 0.00/951M [00:00<?, ?B/s]"
      ]
     },
     "metadata": {},
     "output_type": "display_data"
    },
    {
     "data": {
      "application/vnd.jupyter.widget-view+json": {
       "model_id": "5199ed32d59d46dda18e3adf3a76c698",
       "version_major": 2,
       "version_minor": 0
      },
      "text/plain": [
       "train-00596-of-01106-47e73dd6f5799459.pa(…):   0%|          | 0.00/901M [00:00<?, ?B/s]"
      ]
     },
     "metadata": {},
     "output_type": "display_data"
    },
    {
     "data": {
      "application/vnd.jupyter.widget-view+json": {
       "model_id": "c540c140ae2c40779b375d5974c41b01",
       "version_major": 2,
       "version_minor": 0
      },
      "text/plain": [
       "train-00597-of-01106-f29ccdd8a9e8add7.pa(…):   0%|          | 0.00/895M [00:00<?, ?B/s]"
      ]
     },
     "metadata": {},
     "output_type": "display_data"
    },
    {
     "data": {
      "application/vnd.jupyter.widget-view+json": {
       "model_id": "65735d609dc64c4298b071166c1c4b11",
       "version_major": 2,
       "version_minor": 0
      },
      "text/plain": [
       "train-00598-of-01106-83328aa2dabdf652.pa(…):   0%|          | 0.00/973M [00:00<?, ?B/s]"
      ]
     },
     "metadata": {},
     "output_type": "display_data"
    },
    {
     "data": {
      "application/vnd.jupyter.widget-view+json": {
       "model_id": "cf8fb9f4743447b6ae546846e9ec10d3",
       "version_major": 2,
       "version_minor": 0
      },
      "text/plain": [
       "train-00599-of-01106-ba3e7abb9117628c.pa(…):   0%|          | 0.00/919M [00:00<?, ?B/s]"
      ]
     },
     "metadata": {},
     "output_type": "display_data"
    },
    {
     "data": {
      "application/vnd.jupyter.widget-view+json": {
       "model_id": "9d8ad1fdb48e4b9fbaae0044406530a4",
       "version_major": 2,
       "version_minor": 0
      },
      "text/plain": [
       "train-00600-of-01106-a665647589b94c3f.pa(…):   0%|          | 0.00/938M [00:00<?, ?B/s]"
      ]
     },
     "metadata": {},
     "output_type": "display_data"
    },
    {
     "data": {
      "application/vnd.jupyter.widget-view+json": {
       "model_id": "f7528ef8469143aa93013be9f5c7c756",
       "version_major": 2,
       "version_minor": 0
      },
      "text/plain": [
       "train-00601-of-01106-cce96b40dd373151.pa(…):   0%|          | 0.00/978M [00:00<?, ?B/s]"
      ]
     },
     "metadata": {},
     "output_type": "display_data"
    },
    {
     "data": {
      "application/vnd.jupyter.widget-view+json": {
       "model_id": "e88f7b5c94104bb7abd5dd76989bbfbf",
       "version_major": 2,
       "version_minor": 0
      },
      "text/plain": [
       "train-00602-of-01106-424520f0633ebe1d.pa(…):   0%|          | 0.00/938M [00:00<?, ?B/s]"
      ]
     },
     "metadata": {},
     "output_type": "display_data"
    },
    {
     "data": {
      "application/vnd.jupyter.widget-view+json": {
       "model_id": "82a814cd39614279a3d6220f1191211f",
       "version_major": 2,
       "version_minor": 0
      },
      "text/plain": [
       "train-00603-of-01106-ca67e7938a863f18.pa(…):   0%|          | 0.00/836M [00:00<?, ?B/s]"
      ]
     },
     "metadata": {},
     "output_type": "display_data"
    },
    {
     "data": {
      "application/vnd.jupyter.widget-view+json": {
       "model_id": "a68b047b3ccc4a8e9efc0fd6a009d6ff",
       "version_major": 2,
       "version_minor": 0
      },
      "text/plain": [
       "train-00604-of-01106-93f5517c77026833.pa(…):   0%|          | 0.00/848M [00:00<?, ?B/s]"
      ]
     },
     "metadata": {},
     "output_type": "display_data"
    },
    {
     "data": {
      "application/vnd.jupyter.widget-view+json": {
       "model_id": "6fb511e2e3c8465087abcbb94e0f316b",
       "version_major": 2,
       "version_minor": 0
      },
      "text/plain": [
       "train-00605-of-01106-b837809574563178.pa(…):   0%|          | 0.00/827M [00:00<?, ?B/s]"
      ]
     },
     "metadata": {},
     "output_type": "display_data"
    },
    {
     "data": {
      "application/vnd.jupyter.widget-view+json": {
       "model_id": "b208b12b029a42e4a039af1851908878",
       "version_major": 2,
       "version_minor": 0
      },
      "text/plain": [
       "train-00606-of-01106-0d35795acc3e9a5d.pa(…):   0%|          | 0.00/791M [00:00<?, ?B/s]"
      ]
     },
     "metadata": {},
     "output_type": "display_data"
    },
    {
     "data": {
      "application/vnd.jupyter.widget-view+json": {
       "model_id": "fe40d9f63f9c415a9653ac76d7dd4b0f",
       "version_major": 2,
       "version_minor": 0
      },
      "text/plain": [
       "train-00607-of-01106-74224a9d98927542.pa(…):   0%|          | 0.00/856M [00:00<?, ?B/s]"
      ]
     },
     "metadata": {},
     "output_type": "display_data"
    },
    {
     "data": {
      "application/vnd.jupyter.widget-view+json": {
       "model_id": "2bb85fbe6b6e4385b1d61c2419e1771a",
       "version_major": 2,
       "version_minor": 0
      },
      "text/plain": [
       "train-00608-of-01106-907d08b3a172cd29.pa(…):   0%|          | 0.00/816M [00:00<?, ?B/s]"
      ]
     },
     "metadata": {},
     "output_type": "display_data"
    },
    {
     "data": {
      "application/vnd.jupyter.widget-view+json": {
       "model_id": "6cfbb7901b40477d83c7a1a975d62fe6",
       "version_major": 2,
       "version_minor": 0
      },
      "text/plain": [
       "train-00609-of-01106-40cdf94374844664.pa(…):   0%|          | 0.00/836M [00:00<?, ?B/s]"
      ]
     },
     "metadata": {},
     "output_type": "display_data"
    },
    {
     "data": {
      "application/vnd.jupyter.widget-view+json": {
       "model_id": "d84fd5422969489c8b6a9d22c59d5d99",
       "version_major": 2,
       "version_minor": 0
      },
      "text/plain": [
       "train-00610-of-01106-7f7a27b852abdcd3.pa(…):   0%|          | 0.00/807M [00:00<?, ?B/s]"
      ]
     },
     "metadata": {},
     "output_type": "display_data"
    },
    {
     "data": {
      "application/vnd.jupyter.widget-view+json": {
       "model_id": "97b46e1964b04967997fafe894779c96",
       "version_major": 2,
       "version_minor": 0
      },
      "text/plain": [
       "train-00611-of-01106-e06a130d61e72446.pa(…):   0%|          | 0.00/843M [00:00<?, ?B/s]"
      ]
     },
     "metadata": {},
     "output_type": "display_data"
    },
    {
     "data": {
      "application/vnd.jupyter.widget-view+json": {
       "model_id": "1f08c6fc8d1148128a6a6a4c834123c3",
       "version_major": 2,
       "version_minor": 0
      },
      "text/plain": [
       "train-00612-of-01106-5d9fea612471c27f.pa(…):   0%|          | 0.00/806M [00:00<?, ?B/s]"
      ]
     },
     "metadata": {},
     "output_type": "display_data"
    },
    {
     "data": {
      "application/vnd.jupyter.widget-view+json": {
       "model_id": "a1ea982b61474e6ba9a72b3e4ba18918",
       "version_major": 2,
       "version_minor": 0
      },
      "text/plain": [
       "train-00613-of-01106-fa3bd491a1e7c4d0.pa(…):   0%|          | 0.00/835M [00:00<?, ?B/s]"
      ]
     },
     "metadata": {},
     "output_type": "display_data"
    },
    {
     "data": {
      "application/vnd.jupyter.widget-view+json": {
       "model_id": "fc804f35aed640a98675c5d62e6aff01",
       "version_major": 2,
       "version_minor": 0
      },
      "text/plain": [
       "train-00614-of-01106-6e693284d0bf80a4.pa(…):   0%|          | 0.00/782M [00:00<?, ?B/s]"
      ]
     },
     "metadata": {},
     "output_type": "display_data"
    },
    {
     "data": {
      "application/vnd.jupyter.widget-view+json": {
       "model_id": "2a7e5c98eae1435ca1fd6ce1e649b8ad",
       "version_major": 2,
       "version_minor": 0
      },
      "text/plain": [
       "train-00615-of-01106-957fbcc791f448fc.pa(…):   0%|          | 0.00/855M [00:00<?, ?B/s]"
      ]
     },
     "metadata": {},
     "output_type": "display_data"
    },
    {
     "data": {
      "application/vnd.jupyter.widget-view+json": {
       "model_id": "087625ff6fc34c7bb0803e18e078c0cc",
       "version_major": 2,
       "version_minor": 0
      },
      "text/plain": [
       "train-00616-of-01106-528fa09969242790.pa(…):   0%|          | 0.00/818M [00:00<?, ?B/s]"
      ]
     },
     "metadata": {},
     "output_type": "display_data"
    },
    {
     "data": {
      "application/vnd.jupyter.widget-view+json": {
       "model_id": "1331681d2b0d40eeac848ec02c2b9a3e",
       "version_major": 2,
       "version_minor": 0
      },
      "text/plain": [
       "train-00617-of-01106-14f8036be7d89c4c.pa(…):   0%|          | 0.00/810M [00:00<?, ?B/s]"
      ]
     },
     "metadata": {},
     "output_type": "display_data"
    },
    {
     "data": {
      "application/vnd.jupyter.widget-view+json": {
       "model_id": "b7fdd0df75e9424fbcf917c048077e44",
       "version_major": 2,
       "version_minor": 0
      },
      "text/plain": [
       "train-00618-of-01106-9bb2da2b7d412678.pa(…):   0%|          | 0.00/816M [00:00<?, ?B/s]"
      ]
     },
     "metadata": {},
     "output_type": "display_data"
    },
    {
     "data": {
      "application/vnd.jupyter.widget-view+json": {
       "model_id": "9e6403e767ff4acf8e41ead3de16409b",
       "version_major": 2,
       "version_minor": 0
      },
      "text/plain": [
       "train-00619-of-01106-1401c9dc7e403a49.pa(…):   0%|          | 0.00/843M [00:00<?, ?B/s]"
      ]
     },
     "metadata": {},
     "output_type": "display_data"
    },
    {
     "data": {
      "application/vnd.jupyter.widget-view+json": {
       "model_id": "b47c3416cbce4ebaa9fd40208f8f19b0",
       "version_major": 2,
       "version_minor": 0
      },
      "text/plain": [
       "train-00620-of-01106-f0d7a9aff7efd404.pa(…):   0%|          | 0.00/807M [00:00<?, ?B/s]"
      ]
     },
     "metadata": {},
     "output_type": "display_data"
    },
    {
     "data": {
      "application/vnd.jupyter.widget-view+json": {
       "model_id": "c9e587c3bbb54ae7ab8a38702160befd",
       "version_major": 2,
       "version_minor": 0
      },
      "text/plain": [
       "train-00621-of-01106-2065ba41fe84a917.pa(…):   0%|          | 0.00/831M [00:00<?, ?B/s]"
      ]
     },
     "metadata": {},
     "output_type": "display_data"
    },
    {
     "data": {
      "application/vnd.jupyter.widget-view+json": {
       "model_id": "8d7e179a3e86429dbaa89f45a92803ae",
       "version_major": 2,
       "version_minor": 0
      },
      "text/plain": [
       "train-00622-of-01106-d18ac762e6f676be.pa(…):   0%|          | 0.00/835M [00:00<?, ?B/s]"
      ]
     },
     "metadata": {},
     "output_type": "display_data"
    },
    {
     "data": {
      "application/vnd.jupyter.widget-view+json": {
       "model_id": "0d88879f0fce4dc08eefa7a3e2c43a3f",
       "version_major": 2,
       "version_minor": 0
      },
      "text/plain": [
       "train-00623-of-01106-a415fe81194b7b25.pa(…):   0%|          | 0.00/868M [00:00<?, ?B/s]"
      ]
     },
     "metadata": {},
     "output_type": "display_data"
    },
    {
     "data": {
      "application/vnd.jupyter.widget-view+json": {
       "model_id": "a781236c9a6f4dc8a5090664e416f34b",
       "version_major": 2,
       "version_minor": 0
      },
      "text/plain": [
       "train-00624-of-01106-21ba99e7e2cddd9d.pa(…):   0%|          | 0.00/855M [00:00<?, ?B/s]"
      ]
     },
     "metadata": {},
     "output_type": "display_data"
    },
    {
     "data": {
      "application/vnd.jupyter.widget-view+json": {
       "model_id": "3689adea2d774a2baf9e1b96fccf5d02",
       "version_major": 2,
       "version_minor": 0
      },
      "text/plain": [
       "train-00625-of-01106-af9547070bf98444.pa(…):   0%|          | 0.00/798M [00:00<?, ?B/s]"
      ]
     },
     "metadata": {},
     "output_type": "display_data"
    },
    {
     "data": {
      "application/vnd.jupyter.widget-view+json": {
       "model_id": "f43a927caebf4c6dba99523696bfacc8",
       "version_major": 2,
       "version_minor": 0
      },
      "text/plain": [
       "train-00626-of-01106-e8173ea191378aad.pa(…):   0%|          | 0.00/842M [00:00<?, ?B/s]"
      ]
     },
     "metadata": {},
     "output_type": "display_data"
    },
    {
     "data": {
      "application/vnd.jupyter.widget-view+json": {
       "model_id": "31e4deb791794ce5835561e86900708f",
       "version_major": 2,
       "version_minor": 0
      },
      "text/plain": [
       "train-00627-of-01106-b8ffc07a763a8d5c.pa(…):   0%|          | 0.00/820M [00:00<?, ?B/s]"
      ]
     },
     "metadata": {},
     "output_type": "display_data"
    },
    {
     "data": {
      "application/vnd.jupyter.widget-view+json": {
       "model_id": "f9a9e7d3bd13453f830d7943a6ab3372",
       "version_major": 2,
       "version_minor": 0
      },
      "text/plain": [
       "train-00628-of-01106-785f3abf9e6d51f3.pa(…):   0%|          | 0.00/796M [00:00<?, ?B/s]"
      ]
     },
     "metadata": {},
     "output_type": "display_data"
    },
    {
     "data": {
      "application/vnd.jupyter.widget-view+json": {
       "model_id": "8fd314776131434abfa6519172825122",
       "version_major": 2,
       "version_minor": 0
      },
      "text/plain": [
       "train-00629-of-01106-bd6a7ba74fbe361c.pa(…):   0%|          | 0.00/818M [00:00<?, ?B/s]"
      ]
     },
     "metadata": {},
     "output_type": "display_data"
    },
    {
     "data": {
      "application/vnd.jupyter.widget-view+json": {
       "model_id": "4bd93a82b1dd4a9ab6363353a57b6dea",
       "version_major": 2,
       "version_minor": 0
      },
      "text/plain": [
       "train-00630-of-01106-6b90cb1f0f8b4d35.pa(…):   0%|          | 0.00/819M [00:00<?, ?B/s]"
      ]
     },
     "metadata": {},
     "output_type": "display_data"
    },
    {
     "data": {
      "application/vnd.jupyter.widget-view+json": {
       "model_id": "fd09f64d13c94e62b04a484a15f8b4be",
       "version_major": 2,
       "version_minor": 0
      },
      "text/plain": [
       "train-00631-of-01106-dd25f34e2aa2b226.pa(…):   0%|          | 0.00/898M [00:00<?, ?B/s]"
      ]
     },
     "metadata": {},
     "output_type": "display_data"
    },
    {
     "data": {
      "application/vnd.jupyter.widget-view+json": {
       "model_id": "b5d579de7e96419bb14cea04b1dadf39",
       "version_major": 2,
       "version_minor": 0
      },
      "text/plain": [
       "train-00632-of-01106-f1e69e3c4388324c.pa(…):   0%|          | 0.00/985M [00:00<?, ?B/s]"
      ]
     },
     "metadata": {},
     "output_type": "display_data"
    },
    {
     "data": {
      "application/vnd.jupyter.widget-view+json": {
       "model_id": "090671289d964ab1990e11490bed7c36",
       "version_major": 2,
       "version_minor": 0
      },
      "text/plain": [
       "train-00633-of-01106-a2063c80cf12e40e.pa(…):   0%|          | 0.00/920M [00:00<?, ?B/s]"
      ]
     },
     "metadata": {},
     "output_type": "display_data"
    },
    {
     "data": {
      "application/vnd.jupyter.widget-view+json": {
       "model_id": "598a7cf0bcfe4c06bc00ed8b561f157e",
       "version_major": 2,
       "version_minor": 0
      },
      "text/plain": [
       "train-00634-of-01106-c9f85fa7c70c775f.pa(…):   0%|          | 0.00/945M [00:00<?, ?B/s]"
      ]
     },
     "metadata": {},
     "output_type": "display_data"
    },
    {
     "data": {
      "application/vnd.jupyter.widget-view+json": {
       "model_id": "01271f2ac8d24f949a3cda089c240018",
       "version_major": 2,
       "version_minor": 0
      },
      "text/plain": [
       "train-00635-of-01106-8393efb686a43c1f.pa(…):   0%|          | 0.00/931M [00:00<?, ?B/s]"
      ]
     },
     "metadata": {},
     "output_type": "display_data"
    },
    {
     "data": {
      "application/vnd.jupyter.widget-view+json": {
       "model_id": "defcecea09734fdcad45711283c874d0",
       "version_major": 2,
       "version_minor": 0
      },
      "text/plain": [
       "train-00636-of-01106-683f1c90943de50b.pa(…):   0%|          | 0.00/961M [00:00<?, ?B/s]"
      ]
     },
     "metadata": {},
     "output_type": "display_data"
    },
    {
     "data": {
      "application/vnd.jupyter.widget-view+json": {
       "model_id": "3d86cd0f30aa4e299f095377182e08b2",
       "version_major": 2,
       "version_minor": 0
      },
      "text/plain": [
       "train-00637-of-01106-f2f1f206f02f65b7.pa(…):   0%|          | 0.00/827M [00:00<?, ?B/s]"
      ]
     },
     "metadata": {},
     "output_type": "display_data"
    },
    {
     "data": {
      "application/vnd.jupyter.widget-view+json": {
       "model_id": "795b5da8e5524ba08139186cc65d50a0",
       "version_major": 2,
       "version_minor": 0
      },
      "text/plain": [
       "train-00638-of-01106-c1999a90cdc0197b.pa(…):   0%|          | 0.00/826M [00:00<?, ?B/s]"
      ]
     },
     "metadata": {},
     "output_type": "display_data"
    },
    {
     "data": {
      "application/vnd.jupyter.widget-view+json": {
       "model_id": "8d9f75dbd08b47eda415324e7a001939",
       "version_major": 2,
       "version_minor": 0
      },
      "text/plain": [
       "train-00639-of-01106-5e107c0b1a922de1.pa(…):   0%|          | 0.00/889M [00:00<?, ?B/s]"
      ]
     },
     "metadata": {},
     "output_type": "display_data"
    },
    {
     "data": {
      "application/vnd.jupyter.widget-view+json": {
       "model_id": "31900e0e64f74ddabeeb41373d5cb0b7",
       "version_major": 2,
       "version_minor": 0
      },
      "text/plain": [
       "train-00640-of-01106-76a30b40379bf59e.pa(…):   0%|          | 0.00/943M [00:00<?, ?B/s]"
      ]
     },
     "metadata": {},
     "output_type": "display_data"
    },
    {
     "data": {
      "application/vnd.jupyter.widget-view+json": {
       "model_id": "effd6f4925164fb3b14008541d0ca02f",
       "version_major": 2,
       "version_minor": 0
      },
      "text/plain": [
       "train-00641-of-01106-6f3c5249acfd0b19.pa(…):   0%|          | 0.00/971M [00:00<?, ?B/s]"
      ]
     },
     "metadata": {},
     "output_type": "display_data"
    },
    {
     "data": {
      "application/vnd.jupyter.widget-view+json": {
       "model_id": "af7071f4d1ea464e8e5ee1348fd41a0e",
       "version_major": 2,
       "version_minor": 0
      },
      "text/plain": [
       "train-00642-of-01106-c3deb01309ca3921.pa(…):   0%|          | 0.00/923M [00:00<?, ?B/s]"
      ]
     },
     "metadata": {},
     "output_type": "display_data"
    },
    {
     "data": {
      "application/vnd.jupyter.widget-view+json": {
       "model_id": "5d2c7d6f8f8441a18b54b4f26715d010",
       "version_major": 2,
       "version_minor": 0
      },
      "text/plain": [
       "train-00643-of-01106-7a7b4abc97a0edf3.pa(…):   0%|          | 0.00/909M [00:00<?, ?B/s]"
      ]
     },
     "metadata": {},
     "output_type": "display_data"
    },
    {
     "data": {
      "application/vnd.jupyter.widget-view+json": {
       "model_id": "898cfe9cf5834f88b6e90385c88ff95f",
       "version_major": 2,
       "version_minor": 0
      },
      "text/plain": [
       "train-00644-of-01106-2eb223cf789b422d.pa(…):   0%|          | 0.00/976M [00:00<?, ?B/s]"
      ]
     },
     "metadata": {},
     "output_type": "display_data"
    },
    {
     "data": {
      "application/vnd.jupyter.widget-view+json": {
       "model_id": "7f51cf0fde1949c7b47af8852c798239",
       "version_major": 2,
       "version_minor": 0
      },
      "text/plain": [
       "train-00645-of-01106-583d1a4fd460844d.pa(…):   0%|          | 0.00/888M [00:00<?, ?B/s]"
      ]
     },
     "metadata": {},
     "output_type": "display_data"
    },
    {
     "data": {
      "application/vnd.jupyter.widget-view+json": {
       "model_id": "033246873e864de59206e06268a4f2be",
       "version_major": 2,
       "version_minor": 0
      },
      "text/plain": [
       "train-00646-of-01106-00d289731606a530.pa(…):   0%|          | 0.00/842M [00:00<?, ?B/s]"
      ]
     },
     "metadata": {},
     "output_type": "display_data"
    },
    {
     "data": {
      "application/vnd.jupyter.widget-view+json": {
       "model_id": "3d5891b96f26409896049fdefa1645e3",
       "version_major": 2,
       "version_minor": 0
      },
      "text/plain": [
       "train-00647-of-01106-a101524997374a8d.pa(…):   0%|          | 0.00/949M [00:00<?, ?B/s]"
      ]
     },
     "metadata": {},
     "output_type": "display_data"
    },
    {
     "data": {
      "application/vnd.jupyter.widget-view+json": {
       "model_id": "3b94d4e827b84f5981aa0b206d1c0f84",
       "version_major": 2,
       "version_minor": 0
      },
      "text/plain": [
       "train-00648-of-01106-49a4af331cb40dc2.pa(…):   0%|          | 0.00/917M [00:00<?, ?B/s]"
      ]
     },
     "metadata": {},
     "output_type": "display_data"
    },
    {
     "data": {
      "application/vnd.jupyter.widget-view+json": {
       "model_id": "5f3653d437074940a53a4c87aac1ff12",
       "version_major": 2,
       "version_minor": 0
      },
      "text/plain": [
       "train-00649-of-01106-9d983ce01dae23a2.pa(…):   0%|          | 0.00/944M [00:00<?, ?B/s]"
      ]
     },
     "metadata": {},
     "output_type": "display_data"
    },
    {
     "data": {
      "application/vnd.jupyter.widget-view+json": {
       "model_id": "1fba7e9e79c849a297b3be030ec55eae",
       "version_major": 2,
       "version_minor": 0
      },
      "text/plain": [
       "train-00650-of-01106-054f97ecb4de303e.pa(…):   0%|          | 0.00/934M [00:00<?, ?B/s]"
      ]
     },
     "metadata": {},
     "output_type": "display_data"
    },
    {
     "data": {
      "application/vnd.jupyter.widget-view+json": {
       "model_id": "de55d83d89614c20a07c93bf7d5589aa",
       "version_major": 2,
       "version_minor": 0
      },
      "text/plain": [
       "train-00651-of-01106-22b550f26b2cb73d.pa(…):   0%|          | 0.00/947M [00:00<?, ?B/s]"
      ]
     },
     "metadata": {},
     "output_type": "display_data"
    },
    {
     "data": {
      "application/vnd.jupyter.widget-view+json": {
       "model_id": "1298ed4078124e46850793513ed84bf0",
       "version_major": 2,
       "version_minor": 0
      },
      "text/plain": [
       "train-00652-of-01106-9bf1b4c133d5b84d.pa(…):   0%|          | 0.00/948M [00:00<?, ?B/s]"
      ]
     },
     "metadata": {},
     "output_type": "display_data"
    },
    {
     "data": {
      "application/vnd.jupyter.widget-view+json": {
       "model_id": "35e5e6286d864e128bad9cbc0686d30e",
       "version_major": 2,
       "version_minor": 0
      },
      "text/plain": [
       "train-00653-of-01106-9dec4efeadc701b6.pa(…):   0%|          | 0.00/935M [00:00<?, ?B/s]"
      ]
     },
     "metadata": {},
     "output_type": "display_data"
    },
    {
     "data": {
      "application/vnd.jupyter.widget-view+json": {
       "model_id": "c974c9cad51a413fb9a6626aef1b6b73",
       "version_major": 2,
       "version_minor": 0
      },
      "text/plain": [
       "train-00654-of-01106-c82f20ddbd8088ed.pa(…):   0%|          | 0.00/955M [00:00<?, ?B/s]"
      ]
     },
     "metadata": {},
     "output_type": "display_data"
    },
    {
     "data": {
      "application/vnd.jupyter.widget-view+json": {
       "model_id": "8dbbb9c73cce42d7a3a5b911544812a1",
       "version_major": 2,
       "version_minor": 0
      },
      "text/plain": [
       "train-00655-of-01106-b948a223869188fe.pa(…):   0%|          | 0.00/886M [00:00<?, ?B/s]"
      ]
     },
     "metadata": {},
     "output_type": "display_data"
    },
    {
     "data": {
      "application/vnd.jupyter.widget-view+json": {
       "model_id": "244983f4a44d46169a15efda7e5666d5",
       "version_major": 2,
       "version_minor": 0
      },
      "text/plain": [
       "train-00656-of-01106-3944d75ed650a588.pa(…):   0%|          | 0.00/914M [00:00<?, ?B/s]"
      ]
     },
     "metadata": {},
     "output_type": "display_data"
    },
    {
     "data": {
      "application/vnd.jupyter.widget-view+json": {
       "model_id": "3037db92831a4b0db0427c882d1fadb8",
       "version_major": 2,
       "version_minor": 0
      },
      "text/plain": [
       "train-00657-of-01106-2807d8686120c3fe.pa(…):   0%|          | 0.00/937M [00:00<?, ?B/s]"
      ]
     },
     "metadata": {},
     "output_type": "display_data"
    },
    {
     "data": {
      "application/vnd.jupyter.widget-view+json": {
       "model_id": "ed9539bf0d21425fa9bffbfac5809494",
       "version_major": 2,
       "version_minor": 0
      },
      "text/plain": [
       "train-00658-of-01106-935891c2f4fe00d2.pa(…):   0%|          | 0.00/864M [00:00<?, ?B/s]"
      ]
     },
     "metadata": {},
     "output_type": "display_data"
    },
    {
     "data": {
      "application/vnd.jupyter.widget-view+json": {
       "model_id": "78381c156e0245d8932263aee325d7b3",
       "version_major": 2,
       "version_minor": 0
      },
      "text/plain": [
       "train-00659-of-01106-b52e418aa7b3b1a7.pa(…):   0%|          | 0.00/823M [00:00<?, ?B/s]"
      ]
     },
     "metadata": {},
     "output_type": "display_data"
    },
    {
     "data": {
      "application/vnd.jupyter.widget-view+json": {
       "model_id": "4997b546086347fd8411dd79b083a2d2",
       "version_major": 2,
       "version_minor": 0
      },
      "text/plain": [
       "train-00660-of-01106-612172a4d0023ef7.pa(…):   0%|          | 0.00/814M [00:00<?, ?B/s]"
      ]
     },
     "metadata": {},
     "output_type": "display_data"
    },
    {
     "data": {
      "application/vnd.jupyter.widget-view+json": {
       "model_id": "7a65d33112954d049eb138983282aab2",
       "version_major": 2,
       "version_minor": 0
      },
      "text/plain": [
       "train-00661-of-01106-5b8b91be2f97a95e.pa(…):   0%|          | 0.00/863M [00:00<?, ?B/s]"
      ]
     },
     "metadata": {},
     "output_type": "display_data"
    },
    {
     "data": {
      "application/vnd.jupyter.widget-view+json": {
       "model_id": "ada831c0b1b24fb1a24c63f1c2be401e",
       "version_major": 2,
       "version_minor": 0
      },
      "text/plain": [
       "train-00662-of-01106-012a7f4a02566ec9.pa(…):   0%|          | 0.00/795M [00:00<?, ?B/s]"
      ]
     },
     "metadata": {},
     "output_type": "display_data"
    },
    {
     "data": {
      "application/vnd.jupyter.widget-view+json": {
       "model_id": "752f66c83ccf4574b23adb09d06d079e",
       "version_major": 2,
       "version_minor": 0
      },
      "text/plain": [
       "train-00663-of-01106-2f86ad390d6f2ac1.pa(…):   0%|          | 0.00/788M [00:00<?, ?B/s]"
      ]
     },
     "metadata": {},
     "output_type": "display_data"
    },
    {
     "data": {
      "application/vnd.jupyter.widget-view+json": {
       "model_id": "631e5f9d16a149d48cf892ffc0c443d7",
       "version_major": 2,
       "version_minor": 0
      },
      "text/plain": [
       "train-00664-of-01106-676d16d8f151dbea.pa(…):   0%|          | 0.00/804M [00:00<?, ?B/s]"
      ]
     },
     "metadata": {},
     "output_type": "display_data"
    },
    {
     "data": {
      "application/vnd.jupyter.widget-view+json": {
       "model_id": "013f841cb7e3408097a0926ba176529a",
       "version_major": 2,
       "version_minor": 0
      },
      "text/plain": [
       "train-00665-of-01106-7629004ff1a9dcaa.pa(…):   0%|          | 0.00/816M [00:00<?, ?B/s]"
      ]
     },
     "metadata": {},
     "output_type": "display_data"
    },
    {
     "data": {
      "application/vnd.jupyter.widget-view+json": {
       "model_id": "f48bc03826244ad78410ceb6872d0257",
       "version_major": 2,
       "version_minor": 0
      },
      "text/plain": [
       "train-00666-of-01106-ffa2c28b29996872.pa(…):   0%|          | 0.00/818M [00:00<?, ?B/s]"
      ]
     },
     "metadata": {},
     "output_type": "display_data"
    },
    {
     "data": {
      "application/vnd.jupyter.widget-view+json": {
       "model_id": "b08d984f8c8e4081a96d209c34bda89e",
       "version_major": 2,
       "version_minor": 0
      },
      "text/plain": [
       "train-00667-of-01106-96650899963c946c.pa(…):   0%|          | 0.00/812M [00:00<?, ?B/s]"
      ]
     },
     "metadata": {},
     "output_type": "display_data"
    },
    {
     "data": {
      "application/vnd.jupyter.widget-view+json": {
       "model_id": "aca4e943ce3444f8a33dc9f90aa665f7",
       "version_major": 2,
       "version_minor": 0
      },
      "text/plain": [
       "train-00668-of-01106-9b312d531388d9ed.pa(…):   0%|          | 0.00/818M [00:00<?, ?B/s]"
      ]
     },
     "metadata": {},
     "output_type": "display_data"
    },
    {
     "data": {
      "application/vnd.jupyter.widget-view+json": {
       "model_id": "0882b9072f41436daaf3f5fceb5622d4",
       "version_major": 2,
       "version_minor": 0
      },
      "text/plain": [
       "train-00669-of-01106-4df01b90f6101fe2.pa(…):   0%|          | 0.00/786M [00:00<?, ?B/s]"
      ]
     },
     "metadata": {},
     "output_type": "display_data"
    },
    {
     "data": {
      "application/vnd.jupyter.widget-view+json": {
       "model_id": "5976a22e0b1242998dc386136a537517",
       "version_major": 2,
       "version_minor": 0
      },
      "text/plain": [
       "train-00670-of-01106-aa45df9b2572dacc.pa(…):   0%|          | 0.00/789M [00:00<?, ?B/s]"
      ]
     },
     "metadata": {},
     "output_type": "display_data"
    },
    {
     "data": {
      "application/vnd.jupyter.widget-view+json": {
       "model_id": "1db4be2fbe2d4ddeb9cd83bd01e051ca",
       "version_major": 2,
       "version_minor": 0
      },
      "text/plain": [
       "train-00671-of-01106-36134319762bd194.pa(…):   0%|          | 0.00/820M [00:00<?, ?B/s]"
      ]
     },
     "metadata": {},
     "output_type": "display_data"
    },
    {
     "data": {
      "application/vnd.jupyter.widget-view+json": {
       "model_id": "e55bfedbb8f54e969d1b80cd3e98ba86",
       "version_major": 2,
       "version_minor": 0
      },
      "text/plain": [
       "train-00672-of-01106-7ff48f0b28b8c6fb.pa(…):   0%|          | 0.00/831M [00:00<?, ?B/s]"
      ]
     },
     "metadata": {},
     "output_type": "display_data"
    },
    {
     "data": {
      "application/vnd.jupyter.widget-view+json": {
       "model_id": "308a0536330849bdb7559cc8caec76f6",
       "version_major": 2,
       "version_minor": 0
      },
      "text/plain": [
       "train-00673-of-01106-1fbdabdb4737ce3d.pa(…):   0%|          | 0.00/804M [00:00<?, ?B/s]"
      ]
     },
     "metadata": {},
     "output_type": "display_data"
    },
    {
     "data": {
      "application/vnd.jupyter.widget-view+json": {
       "model_id": "d90316fe71c44686a2b1bafe9539148f",
       "version_major": 2,
       "version_minor": 0
      },
      "text/plain": [
       "train-00674-of-01106-b24557753447a208.pa(…):   0%|          | 0.00/774M [00:00<?, ?B/s]"
      ]
     },
     "metadata": {},
     "output_type": "display_data"
    },
    {
     "data": {
      "application/vnd.jupyter.widget-view+json": {
       "model_id": "785e37a5959d4bf09df7b4e63ad228b1",
       "version_major": 2,
       "version_minor": 0
      },
      "text/plain": [
       "train-00675-of-01106-f39761e8a14f097a.pa(…):   0%|          | 0.00/780M [00:00<?, ?B/s]"
      ]
     },
     "metadata": {},
     "output_type": "display_data"
    },
    {
     "data": {
      "application/vnd.jupyter.widget-view+json": {
       "model_id": "2d204975d34d44f686d1504c312baa17",
       "version_major": 2,
       "version_minor": 0
      },
      "text/plain": [
       "train-00676-of-01106-d1ba5bd80a2c170d.pa(…):   0%|          | 0.00/800M [00:00<?, ?B/s]"
      ]
     },
     "metadata": {},
     "output_type": "display_data"
    },
    {
     "data": {
      "application/vnd.jupyter.widget-view+json": {
       "model_id": "ccf6730d06a04c72bfa2af24eaea4bfa",
       "version_major": 2,
       "version_minor": 0
      },
      "text/plain": [
       "train-00677-of-01106-2c8bc6e4f2de533f.pa(…):   0%|          | 0.00/822M [00:00<?, ?B/s]"
      ]
     },
     "metadata": {},
     "output_type": "display_data"
    },
    {
     "data": {
      "application/vnd.jupyter.widget-view+json": {
       "model_id": "630cb9134a6e4e1e9be674f8a7eed8cd",
       "version_major": 2,
       "version_minor": 0
      },
      "text/plain": [
       "train-00678-of-01106-63f122510ae7f4df.pa(…):   0%|          | 0.00/871M [00:00<?, ?B/s]"
      ]
     },
     "metadata": {},
     "output_type": "display_data"
    },
    {
     "data": {
      "application/vnd.jupyter.widget-view+json": {
       "model_id": "9b1925c824474509b8542b09ce64ba88",
       "version_major": 2,
       "version_minor": 0
      },
      "text/plain": [
       "train-00679-of-01106-2c7ae571aa52226d.pa(…):   0%|          | 0.00/793M [00:00<?, ?B/s]"
      ]
     },
     "metadata": {},
     "output_type": "display_data"
    },
    {
     "data": {
      "application/vnd.jupyter.widget-view+json": {
       "model_id": "b44a3a990005472490bf63a978940f1a",
       "version_major": 2,
       "version_minor": 0
      },
      "text/plain": [
       "train-00680-of-01106-efda0f80e9a59073.pa(…):   0%|          | 0.00/802M [00:00<?, ?B/s]"
      ]
     },
     "metadata": {},
     "output_type": "display_data"
    },
    {
     "data": {
      "application/vnd.jupyter.widget-view+json": {
       "model_id": "15c95d17f30248248113de475e9bd505",
       "version_major": 2,
       "version_minor": 0
      },
      "text/plain": [
       "train-00681-of-01106-e67bc3cf7fe80fbc.pa(…):   0%|          | 0.00/811M [00:00<?, ?B/s]"
      ]
     },
     "metadata": {},
     "output_type": "display_data"
    },
    {
     "data": {
      "application/vnd.jupyter.widget-view+json": {
       "model_id": "0d9bf0a880be42c3a57dbd1d234ccafd",
       "version_major": 2,
       "version_minor": 0
      },
      "text/plain": [
       "train-00682-of-01106-f476c48dd1f96f8f.pa(…):   0%|          | 0.00/817M [00:00<?, ?B/s]"
      ]
     },
     "metadata": {},
     "output_type": "display_data"
    },
    {
     "data": {
      "application/vnd.jupyter.widget-view+json": {
       "model_id": "485a38c151694bd8bd662410b389c133",
       "version_major": 2,
       "version_minor": 0
      },
      "text/plain": [
       "train-00683-of-01106-8ab69c8e0c684eb2.pa(…):   0%|          | 0.00/819M [00:00<?, ?B/s]"
      ]
     },
     "metadata": {},
     "output_type": "display_data"
    },
    {
     "data": {
      "application/vnd.jupyter.widget-view+json": {
       "model_id": "19676967e1df4abc8d6d504c4eb191f8",
       "version_major": 2,
       "version_minor": 0
      },
      "text/plain": [
       "train-00684-of-01106-c93a7a5de1c742e0.pa(…):   0%|          | 0.00/815M [00:00<?, ?B/s]"
      ]
     },
     "metadata": {},
     "output_type": "display_data"
    },
    {
     "data": {
      "application/vnd.jupyter.widget-view+json": {
       "model_id": "6cedc2e863e945749f741a66b940905f",
       "version_major": 2,
       "version_minor": 0
      },
      "text/plain": [
       "train-00685-of-01106-c4fc1f78b8122292.pa(…):   0%|          | 0.00/854M [00:00<?, ?B/s]"
      ]
     },
     "metadata": {},
     "output_type": "display_data"
    },
    {
     "data": {
      "application/vnd.jupyter.widget-view+json": {
       "model_id": "ebc5d715a7a14754b5e9f9a24d238e85",
       "version_major": 2,
       "version_minor": 0
      },
      "text/plain": [
       "train-00686-of-01106-ace1764b24646d0f.pa(…):   0%|          | 0.00/800M [00:00<?, ?B/s]"
      ]
     },
     "metadata": {},
     "output_type": "display_data"
    },
    {
     "data": {
      "application/vnd.jupyter.widget-view+json": {
       "model_id": "a827803828b24dcfac3d774f93039ad3",
       "version_major": 2,
       "version_minor": 0
      },
      "text/plain": [
       "train-00687-of-01106-48f670b9feef54b0.pa(…):   0%|          | 0.00/821M [00:00<?, ?B/s]"
      ]
     },
     "metadata": {},
     "output_type": "display_data"
    },
    {
     "data": {
      "application/vnd.jupyter.widget-view+json": {
       "model_id": "de3128eff046450d8c4aa9bbf9c699c5",
       "version_major": 2,
       "version_minor": 0
      },
      "text/plain": [
       "train-00688-of-01106-f01469713d525690.pa(…):   0%|          | 0.00/799M [00:00<?, ?B/s]"
      ]
     },
     "metadata": {},
     "output_type": "display_data"
    },
    {
     "data": {
      "application/vnd.jupyter.widget-view+json": {
       "model_id": "847bea6a9a8d4466993d1fe049790adf",
       "version_major": 2,
       "version_minor": 0
      },
      "text/plain": [
       "train-00689-of-01106-9b36fb10c9dcb197.pa(…):   0%|          | 0.00/832M [00:00<?, ?B/s]"
      ]
     },
     "metadata": {},
     "output_type": "display_data"
    },
    {
     "data": {
      "application/vnd.jupyter.widget-view+json": {
       "model_id": "0839aaff393643ea9bb13d6ad458e97b",
       "version_major": 2,
       "version_minor": 0
      },
      "text/plain": [
       "train-00690-of-01106-b6180bf79098452f.pa(…):   0%|          | 0.00/856M [00:00<?, ?B/s]"
      ]
     },
     "metadata": {},
     "output_type": "display_data"
    },
    {
     "data": {
      "application/vnd.jupyter.widget-view+json": {
       "model_id": "cfa077cffe4d430e8601e23b88f6334f",
       "version_major": 2,
       "version_minor": 0
      },
      "text/plain": [
       "train-00691-of-01106-00fd23ed217740d3.pa(…):   0%|          | 0.00/843M [00:00<?, ?B/s]"
      ]
     },
     "metadata": {},
     "output_type": "display_data"
    },
    {
     "data": {
      "application/vnd.jupyter.widget-view+json": {
       "model_id": "8092d0e777a44c71b4902b8f16e114ee",
       "version_major": 2,
       "version_minor": 0
      },
      "text/plain": [
       "train-00692-of-01106-117087c88746110e.pa(…):   0%|          | 0.00/835M [00:00<?, ?B/s]"
      ]
     },
     "metadata": {},
     "output_type": "display_data"
    },
    {
     "data": {
      "application/vnd.jupyter.widget-view+json": {
       "model_id": "3ffac07f6fd44eb886d34ffcc0cdc55a",
       "version_major": 2,
       "version_minor": 0
      },
      "text/plain": [
       "train-00693-of-01106-8299868c789e065b.pa(…):   0%|          | 0.00/820M [00:00<?, ?B/s]"
      ]
     },
     "metadata": {},
     "output_type": "display_data"
    },
    {
     "data": {
      "application/vnd.jupyter.widget-view+json": {
       "model_id": "b3333238d76442c98de7520bb5e42bbd",
       "version_major": 2,
       "version_minor": 0
      },
      "text/plain": [
       "train-00694-of-01106-f05d11539e3ff719.pa(…):   0%|          | 0.00/828M [00:00<?, ?B/s]"
      ]
     },
     "metadata": {},
     "output_type": "display_data"
    },
    {
     "data": {
      "application/vnd.jupyter.widget-view+json": {
       "model_id": "3802dd5b1d194e12a0f8da9e40f13e42",
       "version_major": 2,
       "version_minor": 0
      },
      "text/plain": [
       "train-00695-of-01106-113281ebecdecd2c.pa(…):   0%|          | 0.00/810M [00:00<?, ?B/s]"
      ]
     },
     "metadata": {},
     "output_type": "display_data"
    },
    {
     "data": {
      "application/vnd.jupyter.widget-view+json": {
       "model_id": "01f3ea3a170d44fabe23565eab7eb8cb",
       "version_major": 2,
       "version_minor": 0
      },
      "text/plain": [
       "train-00696-of-01106-d84c23d5b3cfb483.pa(…):   0%|          | 0.00/816M [00:00<?, ?B/s]"
      ]
     },
     "metadata": {},
     "output_type": "display_data"
    },
    {
     "data": {
      "application/vnd.jupyter.widget-view+json": {
       "model_id": "5bfe2501a84c412086a1873b028d1f47",
       "version_major": 2,
       "version_minor": 0
      },
      "text/plain": [
       "train-00697-of-01106-876b365c5aa345e7.pa(…):   0%|          | 0.00/843M [00:00<?, ?B/s]"
      ]
     },
     "metadata": {},
     "output_type": "display_data"
    },
    {
     "data": {
      "application/vnd.jupyter.widget-view+json": {
       "model_id": "b7252d32fad54968bf7b0471dc728dfe",
       "version_major": 2,
       "version_minor": 0
      },
      "text/plain": [
       "train-00698-of-01106-42e77a160e626404.pa(…):   0%|          | 0.00/802M [00:00<?, ?B/s]"
      ]
     },
     "metadata": {},
     "output_type": "display_data"
    },
    {
     "data": {
      "application/vnd.jupyter.widget-view+json": {
       "model_id": "61bf91c946724131a5cfcbdab7e04496",
       "version_major": 2,
       "version_minor": 0
      },
      "text/plain": [
       "train-00699-of-01106-5b0479bba77b0137.pa(…):   0%|          | 0.00/853M [00:00<?, ?B/s]"
      ]
     },
     "metadata": {},
     "output_type": "display_data"
    },
    {
     "data": {
      "application/vnd.jupyter.widget-view+json": {
       "model_id": "494bc622bd144a7cad364fc97879cde1",
       "version_major": 2,
       "version_minor": 0
      },
      "text/plain": [
       "train-00700-of-01106-c883bcf81acaaf97.pa(…):   0%|          | 0.00/799M [00:00<?, ?B/s]"
      ]
     },
     "metadata": {},
     "output_type": "display_data"
    },
    {
     "data": {
      "application/vnd.jupyter.widget-view+json": {
       "model_id": "ad5fe0181a1946e5a2ff1a2184d313c5",
       "version_major": 2,
       "version_minor": 0
      },
      "text/plain": [
       "train-00701-of-01106-94396d20ceeb684c.pa(…):   0%|          | 0.00/851M [00:00<?, ?B/s]"
      ]
     },
     "metadata": {},
     "output_type": "display_data"
    },
    {
     "data": {
      "application/vnd.jupyter.widget-view+json": {
       "model_id": "5162218eaa0e431e9c2d242e9385d7ab",
       "version_major": 2,
       "version_minor": 0
      },
      "text/plain": [
       "train-00702-of-01106-124f4d9081f92843.pa(…):   0%|          | 0.00/809M [00:00<?, ?B/s]"
      ]
     },
     "metadata": {},
     "output_type": "display_data"
    },
    {
     "data": {
      "application/vnd.jupyter.widget-view+json": {
       "model_id": "077b49299c15449cbf586cdafac30395",
       "version_major": 2,
       "version_minor": 0
      },
      "text/plain": [
       "train-00703-of-01106-7732da28266cb29c.pa(…):   0%|          | 0.00/806M [00:00<?, ?B/s]"
      ]
     },
     "metadata": {},
     "output_type": "display_data"
    },
    {
     "data": {
      "application/vnd.jupyter.widget-view+json": {
       "model_id": "5e86950dccf0432c9a2dc002d9f431e0",
       "version_major": 2,
       "version_minor": 0
      },
      "text/plain": [
       "train-00704-of-01106-9c0c07cd53514551.pa(…):   0%|          | 0.00/837M [00:00<?, ?B/s]"
      ]
     },
     "metadata": {},
     "output_type": "display_data"
    },
    {
     "data": {
      "application/vnd.jupyter.widget-view+json": {
       "model_id": "f8c87043068b486e924ca08821054ab9",
       "version_major": 2,
       "version_minor": 0
      },
      "text/plain": [
       "train-00705-of-01106-2792b3b1652f45a8.pa(…):   0%|          | 0.00/851M [00:00<?, ?B/s]"
      ]
     },
     "metadata": {},
     "output_type": "display_data"
    },
    {
     "data": {
      "application/vnd.jupyter.widget-view+json": {
       "model_id": "56844b20ddf64094a86d361142015bf4",
       "version_major": 2,
       "version_minor": 0
      },
      "text/plain": [
       "train-00706-of-01106-da0d529c7b1d8989.pa(…):   0%|          | 0.00/825M [00:00<?, ?B/s]"
      ]
     },
     "metadata": {},
     "output_type": "display_data"
    },
    {
     "data": {
      "application/vnd.jupyter.widget-view+json": {
       "model_id": "1f3c2c5dc3ee4e7ca26df10aedb4aed8",
       "version_major": 2,
       "version_minor": 0
      },
      "text/plain": [
       "train-00707-of-01106-2655bdd078f862ff.pa(…):   0%|          | 0.00/798M [00:00<?, ?B/s]"
      ]
     },
     "metadata": {},
     "output_type": "display_data"
    },
    {
     "data": {
      "application/vnd.jupyter.widget-view+json": {
       "model_id": "e243b2e0ba7b47c192511cee4cfda2dc",
       "version_major": 2,
       "version_minor": 0
      },
      "text/plain": [
       "train-00708-of-01106-a9d2006ecc6e54fc.pa(…):   0%|          | 0.00/832M [00:00<?, ?B/s]"
      ]
     },
     "metadata": {},
     "output_type": "display_data"
    },
    {
     "data": {
      "application/vnd.jupyter.widget-view+json": {
       "model_id": "c784a4fba5a642c69445ec615f820ce5",
       "version_major": 2,
       "version_minor": 0
      },
      "text/plain": [
       "train-00709-of-01106-41fa7497c55b08cd.pa(…):   0%|          | 0.00/859M [00:00<?, ?B/s]"
      ]
     },
     "metadata": {},
     "output_type": "display_data"
    },
    {
     "data": {
      "application/vnd.jupyter.widget-view+json": {
       "model_id": "ee6a87eda995466b8f2c98835eb7c3cb",
       "version_major": 2,
       "version_minor": 0
      },
      "text/plain": [
       "train-00710-of-01106-f83d5eb33caee118.pa(…):   0%|          | 0.00/910M [00:00<?, ?B/s]"
      ]
     },
     "metadata": {},
     "output_type": "display_data"
    },
    {
     "data": {
      "application/vnd.jupyter.widget-view+json": {
       "model_id": "2356e1400f684dedadd8f6279ca7850b",
       "version_major": 2,
       "version_minor": 0
      },
      "text/plain": [
       "train-00711-of-01106-f37e94fb9b2f547d.pa(…):   0%|          | 0.00/910M [00:00<?, ?B/s]"
      ]
     },
     "metadata": {},
     "output_type": "display_data"
    },
    {
     "data": {
      "application/vnd.jupyter.widget-view+json": {
       "model_id": "c95980ec3116481a85cbdd4903a4f21a",
       "version_major": 2,
       "version_minor": 0
      },
      "text/plain": [
       "train-00712-of-01106-a98398024aed03a4.pa(…):   0%|          | 0.00/951M [00:00<?, ?B/s]"
      ]
     },
     "metadata": {},
     "output_type": "display_data"
    },
    {
     "data": {
      "application/vnd.jupyter.widget-view+json": {
       "model_id": "46ccc3cae6e549ecbef67baca39c6aba",
       "version_major": 2,
       "version_minor": 0
      },
      "text/plain": [
       "train-00713-of-01106-c15ce4ca128dc985.pa(…):   0%|          | 0.00/904M [00:00<?, ?B/s]"
      ]
     },
     "metadata": {},
     "output_type": "display_data"
    },
    {
     "data": {
      "application/vnd.jupyter.widget-view+json": {
       "model_id": "080f281fbca94747b3d3c55689fcc4bf",
       "version_major": 2,
       "version_minor": 0
      },
      "text/plain": [
       "train-00714-of-01106-3f195c06f91dd714.pa(…):   0%|          | 0.00/964M [00:00<?, ?B/s]"
      ]
     },
     "metadata": {},
     "output_type": "display_data"
    },
    {
     "data": {
      "application/vnd.jupyter.widget-view+json": {
       "model_id": "0df26ab276e9454384bd30b2993b467e",
       "version_major": 2,
       "version_minor": 0
      },
      "text/plain": [
       "train-00715-of-01106-75d6d72ca93346f0.pa(…):   0%|          | 0.00/920M [00:00<?, ?B/s]"
      ]
     },
     "metadata": {},
     "output_type": "display_data"
    },
    {
     "data": {
      "application/vnd.jupyter.widget-view+json": {
       "model_id": "88b53073633d484197d198d52644d8b4",
       "version_major": 2,
       "version_minor": 0
      },
      "text/plain": [
       "train-00716-of-01106-a30b1c22f72fa092.pa(…):   0%|          | 0.00/818M [00:00<?, ?B/s]"
      ]
     },
     "metadata": {},
     "output_type": "display_data"
    },
    {
     "data": {
      "application/vnd.jupyter.widget-view+json": {
       "model_id": "04bb23cb9059465993f14d91e6a4c1ad",
       "version_major": 2,
       "version_minor": 0
      },
      "text/plain": [
       "train-00717-of-01106-95edcbe4529f7a3c.pa(…):   0%|          | 0.00/840M [00:00<?, ?B/s]"
      ]
     },
     "metadata": {},
     "output_type": "display_data"
    },
    {
     "data": {
      "application/vnd.jupyter.widget-view+json": {
       "model_id": "2eb0001eaba440d5b3e0f0fb2a44bd8e",
       "version_major": 2,
       "version_minor": 0
      },
      "text/plain": [
       "train-00718-of-01106-9b65f383c78ca7fb.pa(…):   0%|          | 0.00/791M [00:00<?, ?B/s]"
      ]
     },
     "metadata": {},
     "output_type": "display_data"
    },
    {
     "data": {
      "application/vnd.jupyter.widget-view+json": {
       "model_id": "4d8f767f21d347e48563d8e460c0c05c",
       "version_major": 2,
       "version_minor": 0
      },
      "text/plain": [
       "train-00719-of-01106-a10e32dad26a6190.pa(…):   0%|          | 0.00/838M [00:00<?, ?B/s]"
      ]
     },
     "metadata": {},
     "output_type": "display_data"
    },
    {
     "data": {
      "application/vnd.jupyter.widget-view+json": {
       "model_id": "edad6eaeffb94159a8504b31c8bf941a",
       "version_major": 2,
       "version_minor": 0
      },
      "text/plain": [
       "train-00720-of-01106-2f36f73380e49d34.pa(…):   0%|          | 0.00/869M [00:00<?, ?B/s]"
      ]
     },
     "metadata": {},
     "output_type": "display_data"
    },
    {
     "data": {
      "application/vnd.jupyter.widget-view+json": {
       "model_id": "c59eb0aa7e7e417aa8dbe1b4db4f8259",
       "version_major": 2,
       "version_minor": 0
      },
      "text/plain": [
       "train-00721-of-01106-0b8a3681c5ea2525.pa(…):   0%|          | 0.00/802M [00:00<?, ?B/s]"
      ]
     },
     "metadata": {},
     "output_type": "display_data"
    },
    {
     "data": {
      "application/vnd.jupyter.widget-view+json": {
       "model_id": "9d273336e3fa4df5bfe0f61b56bd9c68",
       "version_major": 2,
       "version_minor": 0
      },
      "text/plain": [
       "train-00722-of-01106-01c5fdb1ff943cff.pa(…):   0%|          | 0.00/857M [00:00<?, ?B/s]"
      ]
     },
     "metadata": {},
     "output_type": "display_data"
    },
    {
     "data": {
      "application/vnd.jupyter.widget-view+json": {
       "model_id": "9bb8f4033bad4cc9b83a34a3d288f398",
       "version_major": 2,
       "version_minor": 0
      },
      "text/plain": [
       "train-00723-of-01106-937141cfcdb0752e.pa(…):   0%|          | 0.00/832M [00:00<?, ?B/s]"
      ]
     },
     "metadata": {},
     "output_type": "display_data"
    },
    {
     "data": {
      "application/vnd.jupyter.widget-view+json": {
       "model_id": "fecc5116a49d4bed8a52372d68a9b31e",
       "version_major": 2,
       "version_minor": 0
      },
      "text/plain": [
       "train-00724-of-01106-d468ba6a81ded3d8.pa(…):   0%|          | 0.00/799M [00:00<?, ?B/s]"
      ]
     },
     "metadata": {},
     "output_type": "display_data"
    },
    {
     "data": {
      "application/vnd.jupyter.widget-view+json": {
       "model_id": "8d1ac48423d94e2eb5fdd3088943f3d1",
       "version_major": 2,
       "version_minor": 0
      },
      "text/plain": [
       "train-00725-of-01106-df0c9bc1cc3604c3.pa(…):   0%|          | 0.00/817M [00:00<?, ?B/s]"
      ]
     },
     "metadata": {},
     "output_type": "display_data"
    },
    {
     "data": {
      "application/vnd.jupyter.widget-view+json": {
       "model_id": "76f8326a8ae64257b23b2e8932cedde9",
       "version_major": 2,
       "version_minor": 0
      },
      "text/plain": [
       "train-00726-of-01106-68cef9b28fa1355a.pa(…):   0%|          | 0.00/836M [00:00<?, ?B/s]"
      ]
     },
     "metadata": {},
     "output_type": "display_data"
    },
    {
     "data": {
      "application/vnd.jupyter.widget-view+json": {
       "model_id": "fa963f5860c348088a787c8059b8f507",
       "version_major": 2,
       "version_minor": 0
      },
      "text/plain": [
       "train-00727-of-01106-ff99c19ec63846e5.pa(…):   0%|          | 0.00/804M [00:00<?, ?B/s]"
      ]
     },
     "metadata": {},
     "output_type": "display_data"
    },
    {
     "data": {
      "application/vnd.jupyter.widget-view+json": {
       "model_id": "f08ae642a71145d381a30f6a31532bf5",
       "version_major": 2,
       "version_minor": 0
      },
      "text/plain": [
       "train-00728-of-01106-9e0555ef3f640647.pa(…):   0%|          | 0.00/843M [00:00<?, ?B/s]"
      ]
     },
     "metadata": {},
     "output_type": "display_data"
    },
    {
     "data": {
      "application/vnd.jupyter.widget-view+json": {
       "model_id": "056862724a1447e386014d36f12de976",
       "version_major": 2,
       "version_minor": 0
      },
      "text/plain": [
       "train-00729-of-01106-af256c7ec549aeb3.pa(…):   0%|          | 0.00/824M [00:00<?, ?B/s]"
      ]
     },
     "metadata": {},
     "output_type": "display_data"
    },
    {
     "data": {
      "application/vnd.jupyter.widget-view+json": {
       "model_id": "5a42ac69a4264908af75ead60e225164",
       "version_major": 2,
       "version_minor": 0
      },
      "text/plain": [
       "train-00730-of-01106-4c294a04b6b42e56.pa(…):   0%|          | 0.00/811M [00:00<?, ?B/s]"
      ]
     },
     "metadata": {},
     "output_type": "display_data"
    },
    {
     "data": {
      "application/vnd.jupyter.widget-view+json": {
       "model_id": "34e537485d8343f285e9a2d44094e569",
       "version_major": 2,
       "version_minor": 0
      },
      "text/plain": [
       "train-00731-of-01106-fdf4c374821443fe.pa(…):   0%|          | 0.00/824M [00:00<?, ?B/s]"
      ]
     },
     "metadata": {},
     "output_type": "display_data"
    },
    {
     "data": {
      "application/vnd.jupyter.widget-view+json": {
       "model_id": "f11e6a76625a418da89ce7356d1f5d9a",
       "version_major": 2,
       "version_minor": 0
      },
      "text/plain": [
       "train-00732-of-01106-9d4effc9d933d091.pa(…):   0%|          | 0.00/839M [00:00<?, ?B/s]"
      ]
     },
     "metadata": {},
     "output_type": "display_data"
    },
    {
     "data": {
      "application/vnd.jupyter.widget-view+json": {
       "model_id": "e89bc6a13dbc4bda8ef4cd3f1c847655",
       "version_major": 2,
       "version_minor": 0
      },
      "text/plain": [
       "train-00733-of-01106-213bff62fcc93d70.pa(…):   0%|          | 0.00/817M [00:00<?, ?B/s]"
      ]
     },
     "metadata": {},
     "output_type": "display_data"
    },
    {
     "data": {
      "application/vnd.jupyter.widget-view+json": {
       "model_id": "9d5bad26ddfd4c62b515ea45371c1fc4",
       "version_major": 2,
       "version_minor": 0
      },
      "text/plain": [
       "train-00734-of-01106-44010af531d78320.pa(…):   0%|          | 0.00/812M [00:00<?, ?B/s]"
      ]
     },
     "metadata": {},
     "output_type": "display_data"
    },
    {
     "data": {
      "application/vnd.jupyter.widget-view+json": {
       "model_id": "4843e1b2483b434691fed4d107aa49ba",
       "version_major": 2,
       "version_minor": 0
      },
      "text/plain": [
       "train-00735-of-01106-016439bab9129e07.pa(…):   0%|          | 0.00/815M [00:00<?, ?B/s]"
      ]
     },
     "metadata": {},
     "output_type": "display_data"
    },
    {
     "data": {
      "application/vnd.jupyter.widget-view+json": {
       "model_id": "835254a2d5c9476a9c76a17bddef9a2c",
       "version_major": 2,
       "version_minor": 0
      },
      "text/plain": [
       "train-00736-of-01106-2c75fb38f3dbcaf3.pa(…):   0%|          | 0.00/821M [00:00<?, ?B/s]"
      ]
     },
     "metadata": {},
     "output_type": "display_data"
    },
    {
     "data": {
      "application/vnd.jupyter.widget-view+json": {
       "model_id": "32fb36582d834378ab4dc5cfa475ee60",
       "version_major": 2,
       "version_minor": 0
      },
      "text/plain": [
       "train-00737-of-01106-c35c85763593e86f.pa(…):   0%|          | 0.00/833M [00:00<?, ?B/s]"
      ]
     },
     "metadata": {},
     "output_type": "display_data"
    },
    {
     "data": {
      "application/vnd.jupyter.widget-view+json": {
       "model_id": "50500d899d584b139789fff9c464b2f5",
       "version_major": 2,
       "version_minor": 0
      },
      "text/plain": [
       "train-00738-of-01106-f05f7952ff01153b.pa(…):   0%|          | 0.00/848M [00:00<?, ?B/s]"
      ]
     },
     "metadata": {},
     "output_type": "display_data"
    },
    {
     "data": {
      "application/vnd.jupyter.widget-view+json": {
       "model_id": "37dd1ab627b04caca01e437a1e7cc8ef",
       "version_major": 2,
       "version_minor": 0
      },
      "text/plain": [
       "train-00739-of-01106-b87cc553586e9d3a.pa(…):   0%|          | 0.00/789M [00:00<?, ?B/s]"
      ]
     },
     "metadata": {},
     "output_type": "display_data"
    },
    {
     "data": {
      "application/vnd.jupyter.widget-view+json": {
       "model_id": "5f89c723b5a74e3180936ad71719c296",
       "version_major": 2,
       "version_minor": 0
      },
      "text/plain": [
       "train-00740-of-01106-211ca38b75d5b400.pa(…):   0%|          | 0.00/783M [00:00<?, ?B/s]"
      ]
     },
     "metadata": {},
     "output_type": "display_data"
    },
    {
     "data": {
      "application/vnd.jupyter.widget-view+json": {
       "model_id": "5e89ab971411461f82dd5916c7344cc8",
       "version_major": 2,
       "version_minor": 0
      },
      "text/plain": [
       "train-00741-of-01106-9240b594c0c10f04.pa(…):   0%|          | 0.00/829M [00:00<?, ?B/s]"
      ]
     },
     "metadata": {},
     "output_type": "display_data"
    },
    {
     "data": {
      "application/vnd.jupyter.widget-view+json": {
       "model_id": "a72505ef4a274f448e85e2fec94755d4",
       "version_major": 2,
       "version_minor": 0
      },
      "text/plain": [
       "train-00742-of-01106-8f1c971a0a2aff1e.pa(…):   0%|          | 0.00/815M [00:00<?, ?B/s]"
      ]
     },
     "metadata": {},
     "output_type": "display_data"
    },
    {
     "data": {
      "application/vnd.jupyter.widget-view+json": {
       "model_id": "4fc05a4ede7e4567a5d469503b04568e",
       "version_major": 2,
       "version_minor": 0
      },
      "text/plain": [
       "train-00743-of-01106-229684fba00aa9e9.pa(…):   0%|          | 0.00/795M [00:00<?, ?B/s]"
      ]
     },
     "metadata": {},
     "output_type": "display_data"
    },
    {
     "data": {
      "application/vnd.jupyter.widget-view+json": {
       "model_id": "080a83bf6bf94739ae701d1a107c521d",
       "version_major": 2,
       "version_minor": 0
      },
      "text/plain": [
       "train-00744-of-01106-5cec3cf229e50e2e.pa(…):   0%|          | 0.00/821M [00:00<?, ?B/s]"
      ]
     },
     "metadata": {},
     "output_type": "display_data"
    },
    {
     "data": {
      "application/vnd.jupyter.widget-view+json": {
       "model_id": "28471e6d5c1849c2a506f8137974f892",
       "version_major": 2,
       "version_minor": 0
      },
      "text/plain": [
       "train-00745-of-01106-f583afd545c5fc5e.pa(…):   0%|          | 0.00/830M [00:00<?, ?B/s]"
      ]
     },
     "metadata": {},
     "output_type": "display_data"
    },
    {
     "data": {
      "application/vnd.jupyter.widget-view+json": {
       "model_id": "d657c451e8c4402b8c88bb93f1501227",
       "version_major": 2,
       "version_minor": 0
      },
      "text/plain": [
       "train-00746-of-01106-349ec2c2f46a8a11.pa(…):   0%|          | 0.00/813M [00:00<?, ?B/s]"
      ]
     },
     "metadata": {},
     "output_type": "display_data"
    },
    {
     "data": {
      "application/vnd.jupyter.widget-view+json": {
       "model_id": "a980b977c5ec4335a0585017148ce6de",
       "version_major": 2,
       "version_minor": 0
      },
      "text/plain": [
       "train-00747-of-01106-0359e4f72036aa1e.pa(…):   0%|          | 0.00/783M [00:00<?, ?B/s]"
      ]
     },
     "metadata": {},
     "output_type": "display_data"
    },
    {
     "data": {
      "application/vnd.jupyter.widget-view+json": {
       "model_id": "5674c4d373d64516a7fc81e40663f284",
       "version_major": 2,
       "version_minor": 0
      },
      "text/plain": [
       "train-00748-of-01106-bed812da5aa5c433.pa(…):   0%|          | 0.00/785M [00:00<?, ?B/s]"
      ]
     },
     "metadata": {},
     "output_type": "display_data"
    },
    {
     "data": {
      "application/vnd.jupyter.widget-view+json": {
       "model_id": "764aa8b1a91a4fe7bd3912306356da21",
       "version_major": 2,
       "version_minor": 0
      },
      "text/plain": [
       "train-00749-of-01106-f300f3787368fab2.pa(…):   0%|          | 0.00/796M [00:00<?, ?B/s]"
      ]
     },
     "metadata": {},
     "output_type": "display_data"
    },
    {
     "data": {
      "application/vnd.jupyter.widget-view+json": {
       "model_id": "465dc9c1398444928af72a9614042618",
       "version_major": 2,
       "version_minor": 0
      },
      "text/plain": [
       "train-00750-of-01106-237f32f94a40472c.pa(…):   0%|          | 0.00/835M [00:00<?, ?B/s]"
      ]
     },
     "metadata": {},
     "output_type": "display_data"
    },
    {
     "data": {
      "application/vnd.jupyter.widget-view+json": {
       "model_id": "14e32cb874114a3cbad6e31e35f32e7c",
       "version_major": 2,
       "version_minor": 0
      },
      "text/plain": [
       "train-00751-of-01106-b62055143629b020.pa(…):   0%|          | 0.00/857M [00:00<?, ?B/s]"
      ]
     },
     "metadata": {},
     "output_type": "display_data"
    },
    {
     "data": {
      "application/vnd.jupyter.widget-view+json": {
       "model_id": "36d69487b12348d681460867cdefc68d",
       "version_major": 2,
       "version_minor": 0
      },
      "text/plain": [
       "train-00752-of-01106-cd565ba7d6fa94ab.pa(…):   0%|          | 0.00/782M [00:00<?, ?B/s]"
      ]
     },
     "metadata": {},
     "output_type": "display_data"
    },
    {
     "data": {
      "application/vnd.jupyter.widget-view+json": {
       "model_id": "5bce28e065584323a82469ce397d211f",
       "version_major": 2,
       "version_minor": 0
      },
      "text/plain": [
       "train-00753-of-01106-fe90f7cb62aa3663.pa(…):   0%|          | 0.00/834M [00:00<?, ?B/s]"
      ]
     },
     "metadata": {},
     "output_type": "display_data"
    },
    {
     "data": {
      "application/vnd.jupyter.widget-view+json": {
       "model_id": "f646568aab14438487bbddf52b1895e4",
       "version_major": 2,
       "version_minor": 0
      },
      "text/plain": [
       "train-00754-of-01106-2237d0b109bcc422.pa(…):   0%|          | 0.00/809M [00:00<?, ?B/s]"
      ]
     },
     "metadata": {},
     "output_type": "display_data"
    },
    {
     "data": {
      "application/vnd.jupyter.widget-view+json": {
       "model_id": "2c023c41a4c54646a830bbf6dab75894",
       "version_major": 2,
       "version_minor": 0
      },
      "text/plain": [
       "train-00755-of-01106-2bcd3862c65c5eae.pa(…):   0%|          | 0.00/791M [00:00<?, ?B/s]"
      ]
     },
     "metadata": {},
     "output_type": "display_data"
    },
    {
     "data": {
      "application/vnd.jupyter.widget-view+json": {
       "model_id": "84741313274b4db4acaf5bcc86f8116e",
       "version_major": 2,
       "version_minor": 0
      },
      "text/plain": [
       "train-00756-of-01106-938c36f002d4b820.pa(…):   0%|          | 0.00/840M [00:00<?, ?B/s]"
      ]
     },
     "metadata": {},
     "output_type": "display_data"
    },
    {
     "data": {
      "application/vnd.jupyter.widget-view+json": {
       "model_id": "ea1413409ad34371859b0cfee36e3817",
       "version_major": 2,
       "version_minor": 0
      },
      "text/plain": [
       "train-00757-of-01106-17d7c6e990aac328.pa(…):   0%|          | 0.00/804M [00:00<?, ?B/s]"
      ]
     },
     "metadata": {},
     "output_type": "display_data"
    },
    {
     "data": {
      "application/vnd.jupyter.widget-view+json": {
       "model_id": "eaeed570579d4660a2ee144355deb7b4",
       "version_major": 2,
       "version_minor": 0
      },
      "text/plain": [
       "train-00758-of-01106-5e8eeaa19f869cf9.pa(…):   0%|          | 0.00/832M [00:00<?, ?B/s]"
      ]
     },
     "metadata": {},
     "output_type": "display_data"
    },
    {
     "data": {
      "application/vnd.jupyter.widget-view+json": {
       "model_id": "616bcab307cd4613ba0b399f97aed3b5",
       "version_major": 2,
       "version_minor": 0
      },
      "text/plain": [
       "train-00759-of-01106-7735742d52631567.pa(…):   0%|          | 0.00/818M [00:00<?, ?B/s]"
      ]
     },
     "metadata": {},
     "output_type": "display_data"
    },
    {
     "data": {
      "application/vnd.jupyter.widget-view+json": {
       "model_id": "5454023e5bff443b978fdb9e3977e36e",
       "version_major": 2,
       "version_minor": 0
      },
      "text/plain": [
       "train-00760-of-01106-13496705991147b8.pa(…):   0%|          | 0.00/798M [00:00<?, ?B/s]"
      ]
     },
     "metadata": {},
     "output_type": "display_data"
    },
    {
     "data": {
      "application/vnd.jupyter.widget-view+json": {
       "model_id": "0287cde0b41641c4a83fbaa3726f12cc",
       "version_major": 2,
       "version_minor": 0
      },
      "text/plain": [
       "train-00761-of-01106-8e12eeeb6265acf0.pa(…):   0%|          | 0.00/828M [00:00<?, ?B/s]"
      ]
     },
     "metadata": {},
     "output_type": "display_data"
    },
    {
     "data": {
      "application/vnd.jupyter.widget-view+json": {
       "model_id": "7788db6f5f2d4a118d4c6a7fec18138b",
       "version_major": 2,
       "version_minor": 0
      },
      "text/plain": [
       "train-00762-of-01106-4de01995fcb15876.pa(…):   0%|          | 0.00/862M [00:00<?, ?B/s]"
      ]
     },
     "metadata": {},
     "output_type": "display_data"
    },
    {
     "data": {
      "application/vnd.jupyter.widget-view+json": {
       "model_id": "323545832cf04a2d961adaad91b53e4d",
       "version_major": 2,
       "version_minor": 0
      },
      "text/plain": [
       "train-00763-of-01106-37c8a986e86bd79e.pa(…):   0%|          | 0.00/932M [00:00<?, ?B/s]"
      ]
     },
     "metadata": {},
     "output_type": "display_data"
    },
    {
     "data": {
      "application/vnd.jupyter.widget-view+json": {
       "model_id": "2d465290d5564827b7e519ecb7f33b63",
       "version_major": 2,
       "version_minor": 0
      },
      "text/plain": [
       "train-00764-of-01106-50efc236aedffb10.pa(…):   0%|          | 0.00/961M [00:00<?, ?B/s]"
      ]
     },
     "metadata": {},
     "output_type": "display_data"
    },
    {
     "data": {
      "application/vnd.jupyter.widget-view+json": {
       "model_id": "4e1eae63442748eb9adcc382431328cc",
       "version_major": 2,
       "version_minor": 0
      },
      "text/plain": [
       "train-00765-of-01106-cbbea6bd88adaac9.pa(…):   0%|          | 0.00/909M [00:00<?, ?B/s]"
      ]
     },
     "metadata": {},
     "output_type": "display_data"
    },
    {
     "data": {
      "application/vnd.jupyter.widget-view+json": {
       "model_id": "f7c1d5eea82143649da525f9cd99de95",
       "version_major": 2,
       "version_minor": 0
      },
      "text/plain": [
       "train-00766-of-01106-8f139ec1cd151808.pa(…):   0%|          | 0.00/954M [00:00<?, ?B/s]"
      ]
     },
     "metadata": {},
     "output_type": "display_data"
    },
    {
     "data": {
      "application/vnd.jupyter.widget-view+json": {
       "model_id": "77390e664c194fe2a965f380e6c3dcb2",
       "version_major": 2,
       "version_minor": 0
      },
      "text/plain": [
       "train-00767-of-01106-dded0dc3a6df5f02.pa(…):   0%|          | 0.00/948M [00:00<?, ?B/s]"
      ]
     },
     "metadata": {},
     "output_type": "display_data"
    },
    {
     "data": {
      "application/vnd.jupyter.widget-view+json": {
       "model_id": "8bd5a4f3d46444c9b1c6f4c5d224b2ad",
       "version_major": 2,
       "version_minor": 0
      },
      "text/plain": [
       "train-00768-of-01106-5d9b773c9eb2b0b6.pa(…):   0%|          | 0.00/889M [00:00<?, ?B/s]"
      ]
     },
     "metadata": {},
     "output_type": "display_data"
    },
    {
     "data": {
      "application/vnd.jupyter.widget-view+json": {
       "model_id": "4feac49fe39d48b0baaa33e4ec769b65",
       "version_major": 2,
       "version_minor": 0
      },
      "text/plain": [
       "train-00769-of-01106-f51729747ca0725c.pa(…):   0%|          | 0.00/833M [00:00<?, ?B/s]"
      ]
     },
     "metadata": {},
     "output_type": "display_data"
    },
    {
     "data": {
      "application/vnd.jupyter.widget-view+json": {
       "model_id": "f8499f6939ca49c8abb0f89959aa5d52",
       "version_major": 2,
       "version_minor": 0
      },
      "text/plain": [
       "train-00770-of-01106-3a4ee0b7d5d0ae15.pa(…):   0%|          | 0.00/822M [00:00<?, ?B/s]"
      ]
     },
     "metadata": {},
     "output_type": "display_data"
    },
    {
     "data": {
      "application/vnd.jupyter.widget-view+json": {
       "model_id": "7f8be31fa5f94b1ea043e770ba500fff",
       "version_major": 2,
       "version_minor": 0
      },
      "text/plain": [
       "train-00771-of-01106-642fca8c54f3f520.pa(…):   0%|          | 0.00/827M [00:00<?, ?B/s]"
      ]
     },
     "metadata": {},
     "output_type": "display_data"
    },
    {
     "data": {
      "application/vnd.jupyter.widget-view+json": {
       "model_id": "908429aa45eb472a801e25d696de93fc",
       "version_major": 2,
       "version_minor": 0
      },
      "text/plain": [
       "train-00772-of-01106-e42226bcf3ef2dd3.pa(…):   0%|          | 0.00/831M [00:00<?, ?B/s]"
      ]
     },
     "metadata": {},
     "output_type": "display_data"
    },
    {
     "data": {
      "application/vnd.jupyter.widget-view+json": {
       "model_id": "84754e23b92a406695b93ab70691a7d6",
       "version_major": 2,
       "version_minor": 0
      },
      "text/plain": [
       "train-00773-of-01106-f0e046bde604ff81.pa(…):   0%|          | 0.00/824M [00:00<?, ?B/s]"
      ]
     },
     "metadata": {},
     "output_type": "display_data"
    },
    {
     "data": {
      "application/vnd.jupyter.widget-view+json": {
       "model_id": "7b7e21140aa645c99506a850eda8eeef",
       "version_major": 2,
       "version_minor": 0
      },
      "text/plain": [
       "train-00774-of-01106-088ed9ca5095f31c.pa(…):   0%|          | 0.00/832M [00:00<?, ?B/s]"
      ]
     },
     "metadata": {},
     "output_type": "display_data"
    },
    {
     "data": {
      "application/vnd.jupyter.widget-view+json": {
       "model_id": "ad2a5c138c6c4d9097705fc53e65ea08",
       "version_major": 2,
       "version_minor": 0
      },
      "text/plain": [
       "train-00775-of-01106-5898c0cb73e2a05f.pa(…):   0%|          | 0.00/818M [00:00<?, ?B/s]"
      ]
     },
     "metadata": {},
     "output_type": "display_data"
    },
    {
     "data": {
      "application/vnd.jupyter.widget-view+json": {
       "model_id": "47c63f7d7efd4fa99696bb7dba9ab29b",
       "version_major": 2,
       "version_minor": 0
      },
      "text/plain": [
       "train-00776-of-01106-e48e5d575f7a5701.pa(…):   0%|          | 0.00/823M [00:00<?, ?B/s]"
      ]
     },
     "metadata": {},
     "output_type": "display_data"
    },
    {
     "data": {
      "application/vnd.jupyter.widget-view+json": {
       "model_id": "a5ed84a0686a4c1a8576aea20432b11e",
       "version_major": 2,
       "version_minor": 0
      },
      "text/plain": [
       "train-00777-of-01106-587257aa8aa0ffcc.pa(…):   0%|          | 0.00/806M [00:00<?, ?B/s]"
      ]
     },
     "metadata": {},
     "output_type": "display_data"
    },
    {
     "data": {
      "application/vnd.jupyter.widget-view+json": {
       "model_id": "c57ce118b53d4853b40ce82bca047d9f",
       "version_major": 2,
       "version_minor": 0
      },
      "text/plain": [
       "train-00778-of-01106-ea396e8fa98ace08.pa(…):   0%|          | 0.00/842M [00:00<?, ?B/s]"
      ]
     },
     "metadata": {},
     "output_type": "display_data"
    },
    {
     "data": {
      "application/vnd.jupyter.widget-view+json": {
       "model_id": "1f9121dbedd44b26888d37bb685ccbc5",
       "version_major": 2,
       "version_minor": 0
      },
      "text/plain": [
       "train-00779-of-01106-1f2a05a872927700.pa(…):   0%|          | 0.00/814M [00:00<?, ?B/s]"
      ]
     },
     "metadata": {},
     "output_type": "display_data"
    },
    {
     "data": {
      "application/vnd.jupyter.widget-view+json": {
       "model_id": "25342bfb59124af2b387c6ca3e0ca914",
       "version_major": 2,
       "version_minor": 0
      },
      "text/plain": [
       "train-00780-of-01106-8e9557309c86dbb8.pa(…):   0%|          | 0.00/864M [00:00<?, ?B/s]"
      ]
     },
     "metadata": {},
     "output_type": "display_data"
    },
    {
     "data": {
      "application/vnd.jupyter.widget-view+json": {
       "model_id": "772e68b4c73c41fe9399f456d3785d26",
       "version_major": 2,
       "version_minor": 0
      },
      "text/plain": [
       "train-00781-of-01106-d7015be43d228f1a.pa(…):   0%|          | 0.00/805M [00:00<?, ?B/s]"
      ]
     },
     "metadata": {},
     "output_type": "display_data"
    },
    {
     "data": {
      "application/vnd.jupyter.widget-view+json": {
       "model_id": "98a2ebd9c05a42a98f172c9d6e8ca57e",
       "version_major": 2,
       "version_minor": 0
      },
      "text/plain": [
       "train-00782-of-01106-6083ef248424d4cd.pa(…):   0%|          | 0.00/878M [00:00<?, ?B/s]"
      ]
     },
     "metadata": {},
     "output_type": "display_data"
    },
    {
     "data": {
      "application/vnd.jupyter.widget-view+json": {
       "model_id": "03ea9c061f974d2587611967b279bdb1",
       "version_major": 2,
       "version_minor": 0
      },
      "text/plain": [
       "train-00783-of-01106-c9b75b58567f8289.pa(…):   0%|          | 0.00/806M [00:00<?, ?B/s]"
      ]
     },
     "metadata": {},
     "output_type": "display_data"
    },
    {
     "data": {
      "application/vnd.jupyter.widget-view+json": {
       "model_id": "8170046d8fd1412e8957ca4415a5edf4",
       "version_major": 2,
       "version_minor": 0
      },
      "text/plain": [
       "train-00784-of-01106-9656c9d0352e199a.pa(…):   0%|          | 0.00/824M [00:00<?, ?B/s]"
      ]
     },
     "metadata": {},
     "output_type": "display_data"
    },
    {
     "data": {
      "application/vnd.jupyter.widget-view+json": {
       "model_id": "faa9c6c7f4b44cbf9d2b1240e47140b7",
       "version_major": 2,
       "version_minor": 0
      },
      "text/plain": [
       "train-00785-of-01106-7c1d9038fece288d.pa(…):   0%|          | 0.00/820M [00:00<?, ?B/s]"
      ]
     },
     "metadata": {},
     "output_type": "display_data"
    },
    {
     "data": {
      "application/vnd.jupyter.widget-view+json": {
       "model_id": "6ae0640fb8d347cd898ef7392cb35f1f",
       "version_major": 2,
       "version_minor": 0
      },
      "text/plain": [
       "train-00786-of-01106-6c5c6f6d252382aa.pa(…):   0%|          | 0.00/956M [00:00<?, ?B/s]"
      ]
     },
     "metadata": {},
     "output_type": "display_data"
    },
    {
     "data": {
      "application/vnd.jupyter.widget-view+json": {
       "model_id": "9245e6e4f30d4b099e85b877e8886c13",
       "version_major": 2,
       "version_minor": 0
      },
      "text/plain": [
       "train-00787-of-01106-91d1eac2a6910807.pa(…):   0%|          | 0.00/902M [00:00<?, ?B/s]"
      ]
     },
     "metadata": {},
     "output_type": "display_data"
    },
    {
     "data": {
      "application/vnd.jupyter.widget-view+json": {
       "model_id": "395459c968bf4a75936a5aa336235342",
       "version_major": 2,
       "version_minor": 0
      },
      "text/plain": [
       "train-00788-of-01106-500e2a0bbbc66476.pa(…):   0%|          | 0.00/925M [00:00<?, ?B/s]"
      ]
     },
     "metadata": {},
     "output_type": "display_data"
    },
    {
     "data": {
      "application/vnd.jupyter.widget-view+json": {
       "model_id": "9500de47e99047c5b1c05b5ee0f0ecf0",
       "version_major": 2,
       "version_minor": 0
      },
      "text/plain": [
       "train-00789-of-01106-164d8eab0633280e.pa(…):   0%|          | 0.00/912M [00:00<?, ?B/s]"
      ]
     },
     "metadata": {},
     "output_type": "display_data"
    },
    {
     "data": {
      "application/vnd.jupyter.widget-view+json": {
       "model_id": "fd13cc1fedf44dbc8ed090d128758c51",
       "version_major": 2,
       "version_minor": 0
      },
      "text/plain": [
       "train-00790-of-01106-4631c27f252b8082.pa(…):   0%|          | 0.00/938M [00:00<?, ?B/s]"
      ]
     },
     "metadata": {},
     "output_type": "display_data"
    },
    {
     "data": {
      "application/vnd.jupyter.widget-view+json": {
       "model_id": "1293a8eb8e4744b9abd3acfe293aa284",
       "version_major": 2,
       "version_minor": 0
      },
      "text/plain": [
       "train-00791-of-01106-01c23a0917c41d62.pa(…):   0%|          | 0.00/847M [00:00<?, ?B/s]"
      ]
     },
     "metadata": {},
     "output_type": "display_data"
    },
    {
     "data": {
      "application/vnd.jupyter.widget-view+json": {
       "model_id": "071cd3b183d24a89b319454235aa6154",
       "version_major": 2,
       "version_minor": 0
      },
      "text/plain": [
       "train-00792-of-01106-d6cbbff8738b0464.pa(…):   0%|          | 0.00/802M [00:00<?, ?B/s]"
      ]
     },
     "metadata": {},
     "output_type": "display_data"
    },
    {
     "data": {
      "application/vnd.jupyter.widget-view+json": {
       "model_id": "2d4d664a7c4a4028b75fc8d06a956d21",
       "version_major": 2,
       "version_minor": 0
      },
      "text/plain": [
       "train-00793-of-01106-d530646d2d1bab9d.pa(…):   0%|          | 0.00/797M [00:00<?, ?B/s]"
      ]
     },
     "metadata": {},
     "output_type": "display_data"
    },
    {
     "data": {
      "application/vnd.jupyter.widget-view+json": {
       "model_id": "fb7fd3367216484bac7f6be3de6c44bf",
       "version_major": 2,
       "version_minor": 0
      },
      "text/plain": [
       "train-00794-of-01106-e0a08fe357ddfe1a.pa(…):   0%|          | 0.00/805M [00:00<?, ?B/s]"
      ]
     },
     "metadata": {},
     "output_type": "display_data"
    },
    {
     "data": {
      "application/vnd.jupyter.widget-view+json": {
       "model_id": "05f8c0e1fed349898374c129d70cd614",
       "version_major": 2,
       "version_minor": 0
      },
      "text/plain": [
       "train-00795-of-01106-a5a2eaee179b5d56.pa(…):   0%|          | 0.00/807M [00:00<?, ?B/s]"
      ]
     },
     "metadata": {},
     "output_type": "display_data"
    },
    {
     "data": {
      "application/vnd.jupyter.widget-view+json": {
       "model_id": "4ac72951848b4798991418eea354efe4",
       "version_major": 2,
       "version_minor": 0
      },
      "text/plain": [
       "train-00796-of-01106-1f21af1e8ca7743a.pa(…):   0%|          | 0.00/814M [00:00<?, ?B/s]"
      ]
     },
     "metadata": {},
     "output_type": "display_data"
    },
    {
     "data": {
      "application/vnd.jupyter.widget-view+json": {
       "model_id": "4ca5fa30d68f4d019ee996b91735f140",
       "version_major": 2,
       "version_minor": 0
      },
      "text/plain": [
       "train-00797-of-01106-6a72ef8edcf3a156.pa(…):   0%|          | 0.00/803M [00:00<?, ?B/s]"
      ]
     },
     "metadata": {},
     "output_type": "display_data"
    },
    {
     "data": {
      "application/vnd.jupyter.widget-view+json": {
       "model_id": "4c6f9724b94743d09dd1d513048896ac",
       "version_major": 2,
       "version_minor": 0
      },
      "text/plain": [
       "train-00798-of-01106-000d73b46b623bf3.pa(…):   0%|          | 0.00/847M [00:00<?, ?B/s]"
      ]
     },
     "metadata": {},
     "output_type": "display_data"
    },
    {
     "data": {
      "application/vnd.jupyter.widget-view+json": {
       "model_id": "116c16420d644338a1a795e5d9af17e4",
       "version_major": 2,
       "version_minor": 0
      },
      "text/plain": [
       "train-00799-of-01106-00660bc71d3cfdeb.pa(…):   0%|          | 0.00/846M [00:00<?, ?B/s]"
      ]
     },
     "metadata": {},
     "output_type": "display_data"
    },
    {
     "data": {
      "application/vnd.jupyter.widget-view+json": {
       "model_id": "f178f182bea444d484aec64b7fa5243b",
       "version_major": 2,
       "version_minor": 0
      },
      "text/plain": [
       "train-00800-of-01106-51c8e5c85585650e.pa(…):   0%|          | 0.00/807M [00:00<?, ?B/s]"
      ]
     },
     "metadata": {},
     "output_type": "display_data"
    },
    {
     "data": {
      "application/vnd.jupyter.widget-view+json": {
       "model_id": "91b730038c414a44a9df0e7505f88478",
       "version_major": 2,
       "version_minor": 0
      },
      "text/plain": [
       "train-00801-of-01106-83109350323fcfd6.pa(…):   0%|          | 0.00/822M [00:00<?, ?B/s]"
      ]
     },
     "metadata": {},
     "output_type": "display_data"
    },
    {
     "data": {
      "application/vnd.jupyter.widget-view+json": {
       "model_id": "8543937b86cc4fe3bda20e6eb6b16a3e",
       "version_major": 2,
       "version_minor": 0
      },
      "text/plain": [
       "train-00802-of-01106-680f70a63cd1cafe.pa(…):   0%|          | 0.00/794M [00:00<?, ?B/s]"
      ]
     },
     "metadata": {},
     "output_type": "display_data"
    },
    {
     "data": {
      "application/vnd.jupyter.widget-view+json": {
       "model_id": "3d90e22089904012bc484bb2725fd6e9",
       "version_major": 2,
       "version_minor": 0
      },
      "text/plain": [
       "train-00803-of-01106-a5afff6b5dace1f0.pa(…):   0%|          | 0.00/979M [00:00<?, ?B/s]"
      ]
     },
     "metadata": {},
     "output_type": "display_data"
    },
    {
     "data": {
      "application/vnd.jupyter.widget-view+json": {
       "model_id": "4970a7858cd14ae391b618ff8488a360",
       "version_major": 2,
       "version_minor": 0
      },
      "text/plain": [
       "train-00804-of-01106-ffbea7838301a299.pa(…):   0%|          | 0.00/952M [00:00<?, ?B/s]"
      ]
     },
     "metadata": {},
     "output_type": "display_data"
    },
    {
     "data": {
      "application/vnd.jupyter.widget-view+json": {
       "model_id": "fd8281786fee415885b98ed868ca387d",
       "version_major": 2,
       "version_minor": 0
      },
      "text/plain": [
       "train-00805-of-01106-6dc05fdec18d733e.pa(…):   0%|          | 0.00/920M [00:00<?, ?B/s]"
      ]
     },
     "metadata": {},
     "output_type": "display_data"
    },
    {
     "data": {
      "application/vnd.jupyter.widget-view+json": {
       "model_id": "76c087868f884c3692f86e543310cb04",
       "version_major": 2,
       "version_minor": 0
      },
      "text/plain": [
       "train-00806-of-01106-2fe94a2f820eccb4.pa(…):   0%|          | 0.00/935M [00:00<?, ?B/s]"
      ]
     },
     "metadata": {},
     "output_type": "display_data"
    },
    {
     "data": {
      "application/vnd.jupyter.widget-view+json": {
       "model_id": "6e45c7bab3be40ec89adcb923b980db5",
       "version_major": 2,
       "version_minor": 0
      },
      "text/plain": [
       "train-00807-of-01106-6ec1ce31f20f3463.pa(…):   0%|          | 0.00/933M [00:00<?, ?B/s]"
      ]
     },
     "metadata": {},
     "output_type": "display_data"
    },
    {
     "data": {
      "application/vnd.jupyter.widget-view+json": {
       "model_id": "a82faf5631ee450bafe4ece2fc910b6a",
       "version_major": 2,
       "version_minor": 0
      },
      "text/plain": [
       "train-00808-of-01106-3c80faf64a998726.pa(…):   0%|          | 0.00/913M [00:00<?, ?B/s]"
      ]
     },
     "metadata": {},
     "output_type": "display_data"
    },
    {
     "data": {
      "application/vnd.jupyter.widget-view+json": {
       "model_id": "eee398e1adf94b4cbc79a1a857ee6ddd",
       "version_major": 2,
       "version_minor": 0
      },
      "text/plain": [
       "train-00809-of-01106-7726b668738ac329.pa(…):   0%|          | 0.00/817M [00:00<?, ?B/s]"
      ]
     },
     "metadata": {},
     "output_type": "display_data"
    },
    {
     "data": {
      "application/vnd.jupyter.widget-view+json": {
       "model_id": "4cb55add21b74445a2546c2148778e3b",
       "version_major": 2,
       "version_minor": 0
      },
      "text/plain": [
       "train-00810-of-01106-674092da7d18db7a.pa(…):   0%|          | 0.00/792M [00:00<?, ?B/s]"
      ]
     },
     "metadata": {},
     "output_type": "display_data"
    },
    {
     "data": {
      "application/vnd.jupyter.widget-view+json": {
       "model_id": "b29a61ac198c4eb5bf98202c5db2d1bd",
       "version_major": 2,
       "version_minor": 0
      },
      "text/plain": [
       "train-00811-of-01106-a507b50d564184fa.pa(…):   0%|          | 0.00/797M [00:00<?, ?B/s]"
      ]
     },
     "metadata": {},
     "output_type": "display_data"
    },
    {
     "data": {
      "application/vnd.jupyter.widget-view+json": {
       "model_id": "25070748505f4e5d9633c9ca4c155308",
       "version_major": 2,
       "version_minor": 0
      },
      "text/plain": [
       "train-00812-of-01106-c7ddefc230b24aef.pa(…):   0%|          | 0.00/822M [00:00<?, ?B/s]"
      ]
     },
     "metadata": {},
     "output_type": "display_data"
    },
    {
     "data": {
      "application/vnd.jupyter.widget-view+json": {
       "model_id": "12a242fdb7334f2bada1370edd57fe39",
       "version_major": 2,
       "version_minor": 0
      },
      "text/plain": [
       "train-00813-of-01106-39f24cbe9d58e830.pa(…):   0%|          | 0.00/831M [00:00<?, ?B/s]"
      ]
     },
     "metadata": {},
     "output_type": "display_data"
    },
    {
     "data": {
      "application/vnd.jupyter.widget-view+json": {
       "model_id": "00293c5d035b491593887362614c9591",
       "version_major": 2,
       "version_minor": 0
      },
      "text/plain": [
       "train-00814-of-01106-02b0aa8613b7fc6f.pa(…):   0%|          | 0.00/788M [00:00<?, ?B/s]"
      ]
     },
     "metadata": {},
     "output_type": "display_data"
    },
    {
     "data": {
      "application/vnd.jupyter.widget-view+json": {
       "model_id": "eb2403c2f39641f9945bb084c9fff989",
       "version_major": 2,
       "version_minor": 0
      },
      "text/plain": [
       "train-00815-of-01106-e2a7e40c4a203882.pa(…):   0%|          | 0.00/808M [00:00<?, ?B/s]"
      ]
     },
     "metadata": {},
     "output_type": "display_data"
    },
    {
     "data": {
      "application/vnd.jupyter.widget-view+json": {
       "model_id": "06ad87732c704d459021e646582b2eed",
       "version_major": 2,
       "version_minor": 0
      },
      "text/plain": [
       "train-00816-of-01106-bf70742b91f293b8.pa(…):   0%|          | 0.00/846M [00:00<?, ?B/s]"
      ]
     },
     "metadata": {},
     "output_type": "display_data"
    },
    {
     "data": {
      "application/vnd.jupyter.widget-view+json": {
       "model_id": "fc7b2a74d90448618294207fa43f3bbd",
       "version_major": 2,
       "version_minor": 0
      },
      "text/plain": [
       "train-00817-of-01106-bbcf3de289cd0a8a.pa(…):   0%|          | 0.00/816M [00:00<?, ?B/s]"
      ]
     },
     "metadata": {},
     "output_type": "display_data"
    },
    {
     "data": {
      "application/vnd.jupyter.widget-view+json": {
       "model_id": "0d90720eb6534e62acab7e7891e87670",
       "version_major": 2,
       "version_minor": 0
      },
      "text/plain": [
       "train-00818-of-01106-3387bad97aab6798.pa(…):   0%|          | 0.00/865M [00:00<?, ?B/s]"
      ]
     },
     "metadata": {},
     "output_type": "display_data"
    },
    {
     "data": {
      "application/vnd.jupyter.widget-view+json": {
       "model_id": "8ec360b89ff7448d88e8412a1971971c",
       "version_major": 2,
       "version_minor": 0
      },
      "text/plain": [
       "train-00819-of-01106-ac0c122ddfe7d2ea.pa(…):   0%|          | 0.00/863M [00:00<?, ?B/s]"
      ]
     },
     "metadata": {},
     "output_type": "display_data"
    },
    {
     "data": {
      "application/vnd.jupyter.widget-view+json": {
       "model_id": "d01ad7bc88704eddab5eba871df65fb4",
       "version_major": 2,
       "version_minor": 0
      },
      "text/plain": [
       "train-00820-of-01106-48827bf4201d0566.pa(…):   0%|          | 0.00/826M [00:00<?, ?B/s]"
      ]
     },
     "metadata": {},
     "output_type": "display_data"
    },
    {
     "data": {
      "application/vnd.jupyter.widget-view+json": {
       "model_id": "ead4ad423b2b4bf7a1e532786098f100",
       "version_major": 2,
       "version_minor": 0
      },
      "text/plain": [
       "train-00821-of-01106-9881ce122303ab6c.pa(…):   0%|          | 0.00/821M [00:00<?, ?B/s]"
      ]
     },
     "metadata": {},
     "output_type": "display_data"
    },
    {
     "data": {
      "application/vnd.jupyter.widget-view+json": {
       "model_id": "4e5a7dcaf4d44ced85c1a326d387d8dc",
       "version_major": 2,
       "version_minor": 0
      },
      "text/plain": [
       "train-00822-of-01106-1928a482ed5a8954.pa(…):   0%|          | 0.00/796M [00:00<?, ?B/s]"
      ]
     },
     "metadata": {},
     "output_type": "display_data"
    },
    {
     "data": {
      "application/vnd.jupyter.widget-view+json": {
       "model_id": "fa986fc33b64462daaabc32090f4ac7b",
       "version_major": 2,
       "version_minor": 0
      },
      "text/plain": [
       "train-00823-of-01106-254911f7274fdd16.pa(…):   0%|          | 0.00/822M [00:00<?, ?B/s]"
      ]
     },
     "metadata": {},
     "output_type": "display_data"
    },
    {
     "data": {
      "application/vnd.jupyter.widget-view+json": {
       "model_id": "364522175ead4558b1cefbb43dd01379",
       "version_major": 2,
       "version_minor": 0
      },
      "text/plain": [
       "train-00824-of-01106-fb6c5ccb29ec7af8.pa(…):   0%|          | 0.00/812M [00:00<?, ?B/s]"
      ]
     },
     "metadata": {},
     "output_type": "display_data"
    },
    {
     "data": {
      "application/vnd.jupyter.widget-view+json": {
       "model_id": "cb7fb93d025947388f2f908fa0947328",
       "version_major": 2,
       "version_minor": 0
      },
      "text/plain": [
       "train-00825-of-01106-10e301a01ade75f9.pa(…):   0%|          | 0.00/813M [00:00<?, ?B/s]"
      ]
     },
     "metadata": {},
     "output_type": "display_data"
    },
    {
     "data": {
      "application/vnd.jupyter.widget-view+json": {
       "model_id": "93f873410d7041998aa44c975544cb89",
       "version_major": 2,
       "version_minor": 0
      },
      "text/plain": [
       "train-00826-of-01106-1a2ea9bd4690570f.pa(…):   0%|          | 0.00/820M [00:00<?, ?B/s]"
      ]
     },
     "metadata": {},
     "output_type": "display_data"
    },
    {
     "data": {
      "application/vnd.jupyter.widget-view+json": {
       "model_id": "d3daf1db38114c878d838df316f5eb5c",
       "version_major": 2,
       "version_minor": 0
      },
      "text/plain": [
       "train-00827-of-01106-b4ccb0e9d48a2666.pa(…):   0%|          | 0.00/811M [00:00<?, ?B/s]"
      ]
     },
     "metadata": {},
     "output_type": "display_data"
    },
    {
     "data": {
      "application/vnd.jupyter.widget-view+json": {
       "model_id": "826ec9b042be4c65881988bb6762b9ce",
       "version_major": 2,
       "version_minor": 0
      },
      "text/plain": [
       "train-00828-of-01106-6550d48ce159743a.pa(…):   0%|          | 0.00/824M [00:00<?, ?B/s]"
      ]
     },
     "metadata": {},
     "output_type": "display_data"
    },
    {
     "data": {
      "application/vnd.jupyter.widget-view+json": {
       "model_id": "be298626650e41a990b3733f12a62b23",
       "version_major": 2,
       "version_minor": 0
      },
      "text/plain": [
       "train-00829-of-01106-82f4f4ae59573213.pa(…):   0%|          | 0.00/849M [00:00<?, ?B/s]"
      ]
     },
     "metadata": {},
     "output_type": "display_data"
    },
    {
     "data": {
      "application/vnd.jupyter.widget-view+json": {
       "model_id": "6efa6df0215140139e77c87ad7456fa1",
       "version_major": 2,
       "version_minor": 0
      },
      "text/plain": [
       "train-00830-of-01106-ab213e0296e97db0.pa(…):   0%|          | 0.00/825M [00:00<?, ?B/s]"
      ]
     },
     "metadata": {},
     "output_type": "display_data"
    },
    {
     "data": {
      "application/vnd.jupyter.widget-view+json": {
       "model_id": "773b2c488fde4243a3f3bfffea1f56b5",
       "version_major": 2,
       "version_minor": 0
      },
      "text/plain": [
       "train-00831-of-01106-a33c9b4d6aed3984.pa(…):   0%|          | 0.00/853M [00:00<?, ?B/s]"
      ]
     },
     "metadata": {},
     "output_type": "display_data"
    },
    {
     "data": {
      "application/vnd.jupyter.widget-view+json": {
       "model_id": "06178d568acd49aebda1478ee2ba79b7",
       "version_major": 2,
       "version_minor": 0
      },
      "text/plain": [
       "train-00832-of-01106-c3411ee31b0c9360.pa(…):   0%|          | 0.00/822M [00:00<?, ?B/s]"
      ]
     },
     "metadata": {},
     "output_type": "display_data"
    },
    {
     "data": {
      "application/vnd.jupyter.widget-view+json": {
       "model_id": "c5de603556924f56a9b3cc563575f733",
       "version_major": 2,
       "version_minor": 0
      },
      "text/plain": [
       "train-00833-of-01106-b2ec207906e599eb.pa(…):   0%|          | 0.00/829M [00:00<?, ?B/s]"
      ]
     },
     "metadata": {},
     "output_type": "display_data"
    },
    {
     "data": {
      "application/vnd.jupyter.widget-view+json": {
       "model_id": "62275d8d90904aa582ba5b96b64fe405",
       "version_major": 2,
       "version_minor": 0
      },
      "text/plain": [
       "train-00834-of-01106-478df2360d998d3f.pa(…):   0%|          | 0.00/794M [00:00<?, ?B/s]"
      ]
     },
     "metadata": {},
     "output_type": "display_data"
    },
    {
     "data": {
      "application/vnd.jupyter.widget-view+json": {
       "model_id": "e73277d173f94e5297ec0d01d7a78dba",
       "version_major": 2,
       "version_minor": 0
      },
      "text/plain": [
       "train-00835-of-01106-059b3e57fcfc850f.pa(…):   0%|          | 0.00/814M [00:00<?, ?B/s]"
      ]
     },
     "metadata": {},
     "output_type": "display_data"
    },
    {
     "data": {
      "application/vnd.jupyter.widget-view+json": {
       "model_id": "318e4b9fcf424baf9e76f3ef29ca3b0c",
       "version_major": 2,
       "version_minor": 0
      },
      "text/plain": [
       "train-00836-of-01106-31cd5364a211019c.pa(…):   0%|          | 0.00/844M [00:00<?, ?B/s]"
      ]
     },
     "metadata": {},
     "output_type": "display_data"
    },
    {
     "data": {
      "application/vnd.jupyter.widget-view+json": {
       "model_id": "906c17b066ad4932ae7d067477fb0556",
       "version_major": 2,
       "version_minor": 0
      },
      "text/plain": [
       "train-00837-of-01106-33c97b8b3b371c88.pa(…):   0%|          | 0.00/816M [00:00<?, ?B/s]"
      ]
     },
     "metadata": {},
     "output_type": "display_data"
    },
    {
     "data": {
      "application/vnd.jupyter.widget-view+json": {
       "model_id": "52a2d24db1474bc596ad22c5670b9143",
       "version_major": 2,
       "version_minor": 0
      },
      "text/plain": [
       "train-00838-of-01106-253f4ccc87061a9d.pa(…):   0%|          | 0.00/871M [00:00<?, ?B/s]"
      ]
     },
     "metadata": {},
     "output_type": "display_data"
    },
    {
     "data": {
      "application/vnd.jupyter.widget-view+json": {
       "model_id": "cb46c71965c44204b91de5b3a93f31bf",
       "version_major": 2,
       "version_minor": 0
      },
      "text/plain": [
       "train-00839-of-01106-c89e65303bc577cb.pa(…):   0%|          | 0.00/857M [00:00<?, ?B/s]"
      ]
     },
     "metadata": {},
     "output_type": "display_data"
    },
    {
     "data": {
      "application/vnd.jupyter.widget-view+json": {
       "model_id": "027bd18269b6487f9696491d774419ad",
       "version_major": 2,
       "version_minor": 0
      },
      "text/plain": [
       "train-00840-of-01106-8cd84388b64828b2.pa(…):   0%|          | 0.00/805M [00:00<?, ?B/s]"
      ]
     },
     "metadata": {},
     "output_type": "display_data"
    },
    {
     "data": {
      "application/vnd.jupyter.widget-view+json": {
       "model_id": "25e4d42ff5ea4c44807cf86712bcdeb4",
       "version_major": 2,
       "version_minor": 0
      },
      "text/plain": [
       "train-00841-of-01106-cb67888e3ee9cfb6.pa(…):   0%|          | 0.00/834M [00:00<?, ?B/s]"
      ]
     },
     "metadata": {},
     "output_type": "display_data"
    },
    {
     "data": {
      "application/vnd.jupyter.widget-view+json": {
       "model_id": "da92ad7e00eb4896bd985b88287aed22",
       "version_major": 2,
       "version_minor": 0
      },
      "text/plain": [
       "train-00842-of-01106-5741b00f077d000b.pa(…):   0%|          | 0.00/831M [00:00<?, ?B/s]"
      ]
     },
     "metadata": {},
     "output_type": "display_data"
    },
    {
     "data": {
      "application/vnd.jupyter.widget-view+json": {
       "model_id": "a5cfbb9125e54a04b4e0f4dc32aea9b7",
       "version_major": 2,
       "version_minor": 0
      },
      "text/plain": [
       "train-00843-of-01106-18cee70a4df3bbc5.pa(…):   0%|          | 0.00/821M [00:00<?, ?B/s]"
      ]
     },
     "metadata": {},
     "output_type": "display_data"
    },
    {
     "data": {
      "application/vnd.jupyter.widget-view+json": {
       "model_id": "b0f168a84d7c495a843189eea501af2a",
       "version_major": 2,
       "version_minor": 0
      },
      "text/plain": [
       "train-00844-of-01106-c8ee0590791d6854.pa(…):   0%|          | 0.00/790M [00:00<?, ?B/s]"
      ]
     },
     "metadata": {},
     "output_type": "display_data"
    },
    {
     "data": {
      "application/vnd.jupyter.widget-view+json": {
       "model_id": "bdf7af49df4e4c85a3f3cf30be7c3012",
       "version_major": 2,
       "version_minor": 0
      },
      "text/plain": [
       "train-00845-of-01106-f0a76b30e7d9a5e1.pa(…):   0%|          | 0.00/828M [00:00<?, ?B/s]"
      ]
     },
     "metadata": {},
     "output_type": "display_data"
    },
    {
     "data": {
      "application/vnd.jupyter.widget-view+json": {
       "model_id": "8eb9bcb19b1c4035945fb6970849a4c0",
       "version_major": 2,
       "version_minor": 0
      },
      "text/plain": [
       "train-00846-of-01106-cfbad659de754b9d.pa(…):   0%|          | 0.00/848M [00:00<?, ?B/s]"
      ]
     },
     "metadata": {},
     "output_type": "display_data"
    },
    {
     "data": {
      "application/vnd.jupyter.widget-view+json": {
       "model_id": "e4af8d994e054022bd5d758cdf538006",
       "version_major": 2,
       "version_minor": 0
      },
      "text/plain": [
       "train-00847-of-01106-ea3bc3fc73b302c6.pa(…):   0%|          | 0.00/820M [00:00<?, ?B/s]"
      ]
     },
     "metadata": {},
     "output_type": "display_data"
    },
    {
     "data": {
      "application/vnd.jupyter.widget-view+json": {
       "model_id": "568fde0295bb4fcd8143bac3981a30e8",
       "version_major": 2,
       "version_minor": 0
      },
      "text/plain": [
       "train-00848-of-01106-a222fd16df5cd4c1.pa(…):   0%|          | 0.00/816M [00:00<?, ?B/s]"
      ]
     },
     "metadata": {},
     "output_type": "display_data"
    },
    {
     "data": {
      "application/vnd.jupyter.widget-view+json": {
       "model_id": "a406d39faf014ac6bb30e22e8637ef04",
       "version_major": 2,
       "version_minor": 0
      },
      "text/plain": [
       "train-00849-of-01106-eb19c24cd4ae17c2.pa(…):   0%|          | 0.00/798M [00:00<?, ?B/s]"
      ]
     },
     "metadata": {},
     "output_type": "display_data"
    },
    {
     "data": {
      "application/vnd.jupyter.widget-view+json": {
       "model_id": "edbc620c51474e68abb033d2c790fb3c",
       "version_major": 2,
       "version_minor": 0
      },
      "text/plain": [
       "train-00850-of-01106-385dc3dd87521ee9.pa(…):   0%|          | 0.00/822M [00:00<?, ?B/s]"
      ]
     },
     "metadata": {},
     "output_type": "display_data"
    },
    {
     "data": {
      "application/vnd.jupyter.widget-view+json": {
       "model_id": "817a4197e7c745c4b2fd8bbe62556e69",
       "version_major": 2,
       "version_minor": 0
      },
      "text/plain": [
       "train-00851-of-01106-1d24d0c0dc54fa19.pa(…):   0%|          | 0.00/839M [00:00<?, ?B/s]"
      ]
     },
     "metadata": {},
     "output_type": "display_data"
    },
    {
     "data": {
      "application/vnd.jupyter.widget-view+json": {
       "model_id": "19ee3d6709664c8b8aecf876f0cfcb68",
       "version_major": 2,
       "version_minor": 0
      },
      "text/plain": [
       "train-00852-of-01106-0e9fb8d2cac20f57.pa(…):   0%|          | 0.00/816M [00:00<?, ?B/s]"
      ]
     },
     "metadata": {},
     "output_type": "display_data"
    },
    {
     "data": {
      "application/vnd.jupyter.widget-view+json": {
       "model_id": "fae89b0ed09e4378bd09950802ce6ef2",
       "version_major": 2,
       "version_minor": 0
      },
      "text/plain": [
       "train-00853-of-01106-a50e3d06547f1735.pa(…):   0%|          | 0.00/802M [00:00<?, ?B/s]"
      ]
     },
     "metadata": {},
     "output_type": "display_data"
    },
    {
     "data": {
      "application/vnd.jupyter.widget-view+json": {
       "model_id": "5b154bda142248d9bdb16228ad91352d",
       "version_major": 2,
       "version_minor": 0
      },
      "text/plain": [
       "train-00854-of-01106-d8c5a242699c730c.pa(…):   0%|          | 0.00/827M [00:00<?, ?B/s]"
      ]
     },
     "metadata": {},
     "output_type": "display_data"
    },
    {
     "data": {
      "application/vnd.jupyter.widget-view+json": {
       "model_id": "08980ca766f34397bbe5f380ec794d9a",
       "version_major": 2,
       "version_minor": 0
      },
      "text/plain": [
       "train-00855-of-01106-2cff3f3beaf96c87.pa(…):   0%|          | 0.00/816M [00:00<?, ?B/s]"
      ]
     },
     "metadata": {},
     "output_type": "display_data"
    },
    {
     "data": {
      "application/vnd.jupyter.widget-view+json": {
       "model_id": "697a2117f27d466a965fdc4030ed8ddb",
       "version_major": 2,
       "version_minor": 0
      },
      "text/plain": [
       "train-00856-of-01106-6c65f1181a3c6ccc.pa(…):   0%|          | 0.00/822M [00:00<?, ?B/s]"
      ]
     },
     "metadata": {},
     "output_type": "display_data"
    },
    {
     "data": {
      "application/vnd.jupyter.widget-view+json": {
       "model_id": "8de39453c9894a5a8dbf940c059de39a",
       "version_major": 2,
       "version_minor": 0
      },
      "text/plain": [
       "train-00857-of-01106-d76d2c1bbd759008.pa(…):   0%|          | 0.00/833M [00:00<?, ?B/s]"
      ]
     },
     "metadata": {},
     "output_type": "display_data"
    },
    {
     "data": {
      "application/vnd.jupyter.widget-view+json": {
       "model_id": "43b2acf03a264f05b0e3bc96f8643a87",
       "version_major": 2,
       "version_minor": 0
      },
      "text/plain": [
       "train-00858-of-01106-901157b22c783c4f.pa(…):   0%|          | 0.00/820M [00:00<?, ?B/s]"
      ]
     },
     "metadata": {},
     "output_type": "display_data"
    },
    {
     "data": {
      "application/vnd.jupyter.widget-view+json": {
       "model_id": "9b04ede5b3274b21bc3900fa7ff982d0",
       "version_major": 2,
       "version_minor": 0
      },
      "text/plain": [
       "train-00859-of-01106-fbc4bd7b263ffb57.pa(…):   0%|          | 0.00/823M [00:00<?, ?B/s]"
      ]
     },
     "metadata": {},
     "output_type": "display_data"
    },
    {
     "data": {
      "application/vnd.jupyter.widget-view+json": {
       "model_id": "8191f01982d34e33b761510e8a31d952",
       "version_major": 2,
       "version_minor": 0
      },
      "text/plain": [
       "train-00860-of-01106-a85b11471486725b.pa(…):   0%|          | 0.00/834M [00:00<?, ?B/s]"
      ]
     },
     "metadata": {},
     "output_type": "display_data"
    },
    {
     "data": {
      "application/vnd.jupyter.widget-view+json": {
       "model_id": "c2444400bf544f9294a5ace308c71584",
       "version_major": 2,
       "version_minor": 0
      },
      "text/plain": [
       "train-00861-of-01106-cd63353973f81094.pa(…):   0%|          | 0.00/854M [00:00<?, ?B/s]"
      ]
     },
     "metadata": {},
     "output_type": "display_data"
    },
    {
     "data": {
      "application/vnd.jupyter.widget-view+json": {
       "model_id": "593d06ce676f44c6a499c9840ba73281",
       "version_major": 2,
       "version_minor": 0
      },
      "text/plain": [
       "train-00862-of-01106-9f4a101352f27af8.pa(…):   0%|          | 0.00/826M [00:00<?, ?B/s]"
      ]
     },
     "metadata": {},
     "output_type": "display_data"
    },
    {
     "data": {
      "application/vnd.jupyter.widget-view+json": {
       "model_id": "15881174d9d7421a8d9e92f0a0326644",
       "version_major": 2,
       "version_minor": 0
      },
      "text/plain": [
       "train-00863-of-01106-db85175b8c353127.pa(…):   0%|          | 0.00/830M [00:00<?, ?B/s]"
      ]
     },
     "metadata": {},
     "output_type": "display_data"
    },
    {
     "data": {
      "application/vnd.jupyter.widget-view+json": {
       "model_id": "e0de6c8d17f54bb3b28c8333879e60f0",
       "version_major": 2,
       "version_minor": 0
      },
      "text/plain": [
       "train-00864-of-01106-2e405aac72612834.pa(…):   0%|          | 0.00/842M [00:00<?, ?B/s]"
      ]
     },
     "metadata": {},
     "output_type": "display_data"
    },
    {
     "data": {
      "application/vnd.jupyter.widget-view+json": {
       "model_id": "a9b170426cb244e39de1d5bf3acf13e9",
       "version_major": 2,
       "version_minor": 0
      },
      "text/plain": [
       "train-00865-of-01106-bf0302f03a084bc2.pa(…):   0%|          | 0.00/816M [00:00<?, ?B/s]"
      ]
     },
     "metadata": {},
     "output_type": "display_data"
    },
    {
     "data": {
      "application/vnd.jupyter.widget-view+json": {
       "model_id": "8b4c8499e600461fac06b0fd1efe61aa",
       "version_major": 2,
       "version_minor": 0
      },
      "text/plain": [
       "train-00866-of-01106-de85956d906e9bbf.pa(…):   0%|          | 0.00/769M [00:00<?, ?B/s]"
      ]
     },
     "metadata": {},
     "output_type": "display_data"
    },
    {
     "data": {
      "application/vnd.jupyter.widget-view+json": {
       "model_id": "a1f70b07bb17472cbf4c1c7a88a4879c",
       "version_major": 2,
       "version_minor": 0
      },
      "text/plain": [
       "train-00867-of-01106-f7d5b0badeee619b.pa(…):   0%|          | 0.00/842M [00:00<?, ?B/s]"
      ]
     },
     "metadata": {},
     "output_type": "display_data"
    },
    {
     "data": {
      "application/vnd.jupyter.widget-view+json": {
       "model_id": "ee594e329a3e4f079dc93c1a77f79639",
       "version_major": 2,
       "version_minor": 0
      },
      "text/plain": [
       "train-00868-of-01106-5defb8f0d143564d.pa(…):   0%|          | 0.00/810M [00:00<?, ?B/s]"
      ]
     },
     "metadata": {},
     "output_type": "display_data"
    },
    {
     "data": {
      "application/vnd.jupyter.widget-view+json": {
       "model_id": "0f999a4c0c8d41399e3cc1fc4c4f7500",
       "version_major": 2,
       "version_minor": 0
      },
      "text/plain": [
       "train-00869-of-01106-ee4538ea4ab4e6fd.pa(…):   0%|          | 0.00/801M [00:00<?, ?B/s]"
      ]
     },
     "metadata": {},
     "output_type": "display_data"
    },
    {
     "data": {
      "application/vnd.jupyter.widget-view+json": {
       "model_id": "a8205d8fb75f4ccd9735f96af53c7b5e",
       "version_major": 2,
       "version_minor": 0
      },
      "text/plain": [
       "train-00870-of-01106-4dac29d985f261ea.pa(…):   0%|          | 0.00/827M [00:00<?, ?B/s]"
      ]
     },
     "metadata": {},
     "output_type": "display_data"
    },
    {
     "data": {
      "application/vnd.jupyter.widget-view+json": {
       "model_id": "abbd2c8aa76d4baf9caa307d06714199",
       "version_major": 2,
       "version_minor": 0
      },
      "text/plain": [
       "train-00871-of-01106-eea55b0bcb5c1511.pa(…):   0%|          | 0.00/828M [00:00<?, ?B/s]"
      ]
     },
     "metadata": {},
     "output_type": "display_data"
    },
    {
     "data": {
      "application/vnd.jupyter.widget-view+json": {
       "model_id": "d3f979b418624211a52860d6a0f464a3",
       "version_major": 2,
       "version_minor": 0
      },
      "text/plain": [
       "train-00872-of-01106-5b9fa498804d38be.pa(…):   0%|          | 0.00/788M [00:00<?, ?B/s]"
      ]
     },
     "metadata": {},
     "output_type": "display_data"
    },
    {
     "data": {
      "application/vnd.jupyter.widget-view+json": {
       "model_id": "d21201df9e27408089943045939d13dd",
       "version_major": 2,
       "version_minor": 0
      },
      "text/plain": [
       "train-00873-of-01106-e7024792a51b952d.pa(…):   0%|          | 0.00/799M [00:00<?, ?B/s]"
      ]
     },
     "metadata": {},
     "output_type": "display_data"
    },
    {
     "data": {
      "application/vnd.jupyter.widget-view+json": {
       "model_id": "7f66b06d14654c328ff83b061db50074",
       "version_major": 2,
       "version_minor": 0
      },
      "text/plain": [
       "train-00874-of-01106-2077afaaa10d81c7.pa(…):   0%|          | 0.00/826M [00:00<?, ?B/s]"
      ]
     },
     "metadata": {},
     "output_type": "display_data"
    },
    {
     "data": {
      "application/vnd.jupyter.widget-view+json": {
       "model_id": "7d9012cd725d42edbb3c4412699ebcfe",
       "version_major": 2,
       "version_minor": 0
      },
      "text/plain": [
       "train-00875-of-01106-227ce1f211f97339.pa(…):   0%|          | 0.00/814M [00:00<?, ?B/s]"
      ]
     },
     "metadata": {},
     "output_type": "display_data"
    },
    {
     "data": {
      "application/vnd.jupyter.widget-view+json": {
       "model_id": "08f38b97d50f46efa7661a9bfd162a26",
       "version_major": 2,
       "version_minor": 0
      },
      "text/plain": [
       "train-00876-of-01106-ed83a39d1672ff89.pa(…):   0%|          | 0.00/820M [00:00<?, ?B/s]"
      ]
     },
     "metadata": {},
     "output_type": "display_data"
    },
    {
     "data": {
      "application/vnd.jupyter.widget-view+json": {
       "model_id": "592dc466711e4b52bd1565c8f80ac8b5",
       "version_major": 2,
       "version_minor": 0
      },
      "text/plain": [
       "train-00877-of-01106-4bcde869a7635bd2.pa(…):   0%|          | 0.00/855M [00:00<?, ?B/s]"
      ]
     },
     "metadata": {},
     "output_type": "display_data"
    },
    {
     "data": {
      "application/vnd.jupyter.widget-view+json": {
       "model_id": "9c7df552cae6422182726a9cb02b099c",
       "version_major": 2,
       "version_minor": 0
      },
      "text/plain": [
       "train-00878-of-01106-23b2df8b03e91b3d.pa(…):   0%|          | 0.00/815M [00:00<?, ?B/s]"
      ]
     },
     "metadata": {},
     "output_type": "display_data"
    },
    {
     "data": {
      "application/vnd.jupyter.widget-view+json": {
       "model_id": "0b7f4ffece20477d9da3b7679cedb448",
       "version_major": 2,
       "version_minor": 0
      },
      "text/plain": [
       "train-00879-of-01106-e90fcdbf88b36a63.pa(…):   0%|          | 0.00/822M [00:00<?, ?B/s]"
      ]
     },
     "metadata": {},
     "output_type": "display_data"
    },
    {
     "data": {
      "application/vnd.jupyter.widget-view+json": {
       "model_id": "92a5cb7c89aa430e9a767904c5d3cc79",
       "version_major": 2,
       "version_minor": 0
      },
      "text/plain": [
       "train-00880-of-01106-86675ee01a0a44e7.pa(…):   0%|          | 0.00/860M [00:00<?, ?B/s]"
      ]
     },
     "metadata": {},
     "output_type": "display_data"
    },
    {
     "data": {
      "application/vnd.jupyter.widget-view+json": {
       "model_id": "22cf27b06ba94fa28522a387015867ac",
       "version_major": 2,
       "version_minor": 0
      },
      "text/plain": [
       "train-00881-of-01106-9d3048dd5210ee53.pa(…):   0%|          | 0.00/836M [00:00<?, ?B/s]"
      ]
     },
     "metadata": {},
     "output_type": "display_data"
    },
    {
     "data": {
      "application/vnd.jupyter.widget-view+json": {
       "model_id": "e14d82702ab248959fd77b84a4ac6f78",
       "version_major": 2,
       "version_minor": 0
      },
      "text/plain": [
       "train-00882-of-01106-c0ccad6c10e3f964.pa(…):   0%|          | 0.00/826M [00:00<?, ?B/s]"
      ]
     },
     "metadata": {},
     "output_type": "display_data"
    },
    {
     "data": {
      "application/vnd.jupyter.widget-view+json": {
       "model_id": "d28f3d90692f4bdd89282685d6fa9a2f",
       "version_major": 2,
       "version_minor": 0
      },
      "text/plain": [
       "train-00883-of-01106-47d627f3cd218bbc.pa(…):   0%|          | 0.00/842M [00:00<?, ?B/s]"
      ]
     },
     "metadata": {},
     "output_type": "display_data"
    },
    {
     "data": {
      "application/vnd.jupyter.widget-view+json": {
       "model_id": "d79087ca73ac4d0b8f1834cacf6a9116",
       "version_major": 2,
       "version_minor": 0
      },
      "text/plain": [
       "train-00884-of-01106-8d4ce46f1bc0cd02.pa(…):   0%|          | 0.00/976M [00:00<?, ?B/s]"
      ]
     },
     "metadata": {},
     "output_type": "display_data"
    },
    {
     "data": {
      "application/vnd.jupyter.widget-view+json": {
       "model_id": "55c5f85749f643b490e649e1248cb589",
       "version_major": 2,
       "version_minor": 0
      },
      "text/plain": [
       "train-00885-of-01106-77cdfe8ea65719be.pa(…):   0%|          | 0.00/919M [00:00<?, ?B/s]"
      ]
     },
     "metadata": {},
     "output_type": "display_data"
    },
    {
     "data": {
      "application/vnd.jupyter.widget-view+json": {
       "model_id": "c139c44958db41b08f0e904e774222b0",
       "version_major": 2,
       "version_minor": 0
      },
      "text/plain": [
       "train-00886-of-01106-b2d865a0607221f6.pa(…):   0%|          | 0.00/915M [00:00<?, ?B/s]"
      ]
     },
     "metadata": {},
     "output_type": "display_data"
    },
    {
     "data": {
      "application/vnd.jupyter.widget-view+json": {
       "model_id": "df20d0c8facb4da5828d357160648968",
       "version_major": 2,
       "version_minor": 0
      },
      "text/plain": [
       "train-00887-of-01106-b087e5c65377036d.pa(…):   0%|          | 0.00/916M [00:00<?, ?B/s]"
      ]
     },
     "metadata": {},
     "output_type": "display_data"
    },
    {
     "data": {
      "application/vnd.jupyter.widget-view+json": {
       "model_id": "5067d9519d8149f8bd48171ac1b91190",
       "version_major": 2,
       "version_minor": 0
      },
      "text/plain": [
       "train-00888-of-01106-1a60adc0b8dc149d.pa(…):   0%|          | 0.00/944M [00:00<?, ?B/s]"
      ]
     },
     "metadata": {},
     "output_type": "display_data"
    },
    {
     "data": {
      "application/vnd.jupyter.widget-view+json": {
       "model_id": "9e2e35155fa04ee3b75b3025c1785fc6",
       "version_major": 2,
       "version_minor": 0
      },
      "text/plain": [
       "train-00889-of-01106-17cfd8ed74644875.pa(…):   0%|          | 0.00/888M [00:00<?, ?B/s]"
      ]
     },
     "metadata": {},
     "output_type": "display_data"
    },
    {
     "data": {
      "application/vnd.jupyter.widget-view+json": {
       "model_id": "e446e324402541998fdca66823c02070",
       "version_major": 2,
       "version_minor": 0
      },
      "text/plain": [
       "train-00890-of-01106-060ffaad395fe71a.pa(…):   0%|          | 0.00/838M [00:00<?, ?B/s]"
      ]
     },
     "metadata": {},
     "output_type": "display_data"
    },
    {
     "data": {
      "application/vnd.jupyter.widget-view+json": {
       "model_id": "adc54c3f7a0346b5bf1962661c585d5c",
       "version_major": 2,
       "version_minor": 0
      },
      "text/plain": [
       "train-00891-of-01106-7e49914418db3569.pa(…):   0%|          | 0.00/831M [00:00<?, ?B/s]"
      ]
     },
     "metadata": {},
     "output_type": "display_data"
    },
    {
     "data": {
      "application/vnd.jupyter.widget-view+json": {
       "model_id": "dfb92e41f222445c845265bab7f7983c",
       "version_major": 2,
       "version_minor": 0
      },
      "text/plain": [
       "train-00892-of-01106-c7c1defc3618345c.pa(…):   0%|          | 0.00/790M [00:00<?, ?B/s]"
      ]
     },
     "metadata": {},
     "output_type": "display_data"
    },
    {
     "data": {
      "application/vnd.jupyter.widget-view+json": {
       "model_id": "94fbcd9ed5814a628235f6ebdcc65e66",
       "version_major": 2,
       "version_minor": 0
      },
      "text/plain": [
       "train-00893-of-01106-5cf2dade13b9aaff.pa(…):   0%|          | 0.00/818M [00:00<?, ?B/s]"
      ]
     },
     "metadata": {},
     "output_type": "display_data"
    },
    {
     "data": {
      "application/vnd.jupyter.widget-view+json": {
       "model_id": "daf54552f689466cbbb9bc22ccbd60fc",
       "version_major": 2,
       "version_minor": 0
      },
      "text/plain": [
       "train-00894-of-01106-4a49fc83f1849e29.pa(…):   0%|          | 0.00/814M [00:00<?, ?B/s]"
      ]
     },
     "metadata": {},
     "output_type": "display_data"
    },
    {
     "data": {
      "application/vnd.jupyter.widget-view+json": {
       "model_id": "fd62f847a90c48a2a3257260e39be3c3",
       "version_major": 2,
       "version_minor": 0
      },
      "text/plain": [
       "train-00895-of-01106-5411d518a81acf58.pa(…):   0%|          | 0.00/862M [00:00<?, ?B/s]"
      ]
     },
     "metadata": {},
     "output_type": "display_data"
    },
    {
     "data": {
      "application/vnd.jupyter.widget-view+json": {
       "model_id": "78b6c977e7984a5f9cdeef395c87e972",
       "version_major": 2,
       "version_minor": 0
      },
      "text/plain": [
       "train-00896-of-01106-499eaa4ef3bac4f1.pa(…):   0%|          | 0.00/924M [00:00<?, ?B/s]"
      ]
     },
     "metadata": {},
     "output_type": "display_data"
    },
    {
     "data": {
      "application/vnd.jupyter.widget-view+json": {
       "model_id": "b0c2e7316c9d426c9d4eb194524da90a",
       "version_major": 2,
       "version_minor": 0
      },
      "text/plain": [
       "train-00897-of-01106-35d897e5fffed67f.pa(…):   0%|          | 0.00/933M [00:00<?, ?B/s]"
      ]
     },
     "metadata": {},
     "output_type": "display_data"
    },
    {
     "data": {
      "application/vnd.jupyter.widget-view+json": {
       "model_id": "46b59e50fa094b20b7d165d553bf4e34",
       "version_major": 2,
       "version_minor": 0
      },
      "text/plain": [
       "train-00898-of-01106-ffd404673d41cea5.pa(…):   0%|          | 0.00/911M [00:00<?, ?B/s]"
      ]
     },
     "metadata": {},
     "output_type": "display_data"
    },
    {
     "data": {
      "application/vnd.jupyter.widget-view+json": {
       "model_id": "2b51043e5b5d453eb3938c72a0e77e77",
       "version_major": 2,
       "version_minor": 0
      },
      "text/plain": [
       "train-00899-of-01106-07c742f09d5b6258.pa(…):   0%|          | 0.00/963M [00:00<?, ?B/s]"
      ]
     },
     "metadata": {},
     "output_type": "display_data"
    },
    {
     "data": {
      "application/vnd.jupyter.widget-view+json": {
       "model_id": "9fb1247521e349f798e6972504a1ab43",
       "version_major": 2,
       "version_minor": 0
      },
      "text/plain": [
       "train-00900-of-01106-f0b09f82c39b78ea.pa(…):   0%|          | 0.00/914M [00:00<?, ?B/s]"
      ]
     },
     "metadata": {},
     "output_type": "display_data"
    },
    {
     "data": {
      "application/vnd.jupyter.widget-view+json": {
       "model_id": "00631551d0754a829c657f01fc983a2e",
       "version_major": 2,
       "version_minor": 0
      },
      "text/plain": [
       "train-00901-of-01106-290c9e8da60bb6f4.pa(…):   0%|          | 0.00/858M [00:00<?, ?B/s]"
      ]
     },
     "metadata": {},
     "output_type": "display_data"
    },
    {
     "data": {
      "application/vnd.jupyter.widget-view+json": {
       "model_id": "f9cc06845e884755ad84da3c8737e953",
       "version_major": 2,
       "version_minor": 0
      },
      "text/plain": [
       "train-00902-of-01106-b998f02943e48239.pa(…):   0%|          | 0.00/818M [00:00<?, ?B/s]"
      ]
     },
     "metadata": {},
     "output_type": "display_data"
    },
    {
     "data": {
      "application/vnd.jupyter.widget-view+json": {
       "model_id": "62f2578a9d1944e5a5782e36fc339ee0",
       "version_major": 2,
       "version_minor": 0
      },
      "text/plain": [
       "train-00903-of-01106-2847fa887670de76.pa(…):   0%|          | 0.00/844M [00:00<?, ?B/s]"
      ]
     },
     "metadata": {},
     "output_type": "display_data"
    },
    {
     "data": {
      "application/vnd.jupyter.widget-view+json": {
       "model_id": "a627d22d4df748e3a996f152622fa455",
       "version_major": 2,
       "version_minor": 0
      },
      "text/plain": [
       "train-00904-of-01106-cb433d9d729d4a3b.pa(…):   0%|          | 0.00/831M [00:00<?, ?B/s]"
      ]
     },
     "metadata": {},
     "output_type": "display_data"
    },
    {
     "data": {
      "application/vnd.jupyter.widget-view+json": {
       "model_id": "d8d58e4661d74a708b54aa067f5032de",
       "version_major": 2,
       "version_minor": 0
      },
      "text/plain": [
       "train-00905-of-01106-8d260261263e65b4.pa(…):   0%|          | 0.00/843M [00:00<?, ?B/s]"
      ]
     },
     "metadata": {},
     "output_type": "display_data"
    },
    {
     "data": {
      "application/vnd.jupyter.widget-view+json": {
       "model_id": "c1280c7370284fcfb11eabb67118e1e4",
       "version_major": 2,
       "version_minor": 0
      },
      "text/plain": [
       "train-00906-of-01106-1e38c67987599a29.pa(…):   0%|          | 0.00/844M [00:00<?, ?B/s]"
      ]
     },
     "metadata": {},
     "output_type": "display_data"
    },
    {
     "data": {
      "application/vnd.jupyter.widget-view+json": {
       "model_id": "4dcaf083313d456688ae10df50b71862",
       "version_major": 2,
       "version_minor": 0
      },
      "text/plain": [
       "train-00907-of-01106-a521964091890be4.pa(…):   0%|          | 0.00/831M [00:00<?, ?B/s]"
      ]
     },
     "metadata": {},
     "output_type": "display_data"
    },
    {
     "data": {
      "application/vnd.jupyter.widget-view+json": {
       "model_id": "6902675359494bfa8389fc4d5279889e",
       "version_major": 2,
       "version_minor": 0
      },
      "text/plain": [
       "train-00908-of-01106-b78958cc92a5e506.pa(…):   0%|          | 0.00/837M [00:00<?, ?B/s]"
      ]
     },
     "metadata": {},
     "output_type": "display_data"
    },
    {
     "data": {
      "application/vnd.jupyter.widget-view+json": {
       "model_id": "e6f484c712ac4211afbd546977317c2d",
       "version_major": 2,
       "version_minor": 0
      },
      "text/plain": [
       "train-00909-of-01106-9409a47ea18b6f16.pa(…):   0%|          | 0.00/797M [00:00<?, ?B/s]"
      ]
     },
     "metadata": {},
     "output_type": "display_data"
    },
    {
     "data": {
      "application/vnd.jupyter.widget-view+json": {
       "model_id": "3dbd51bb392b45bc8f8dd12ab989b388",
       "version_major": 2,
       "version_minor": 0
      },
      "text/plain": [
       "train-00910-of-01106-11ecfa0c5e6256c1.pa(…):   0%|          | 0.00/817M [00:00<?, ?B/s]"
      ]
     },
     "metadata": {},
     "output_type": "display_data"
    },
    {
     "data": {
      "application/vnd.jupyter.widget-view+json": {
       "model_id": "f195e14b5c1342ce892dd5ba6ab2271f",
       "version_major": 2,
       "version_minor": 0
      },
      "text/plain": [
       "train-00911-of-01106-df2287b871e996e1.pa(…):   0%|          | 0.00/814M [00:00<?, ?B/s]"
      ]
     },
     "metadata": {},
     "output_type": "display_data"
    },
    {
     "data": {
      "application/vnd.jupyter.widget-view+json": {
       "model_id": "e8f650e3c4b646d3a1da1e292d367fcf",
       "version_major": 2,
       "version_minor": 0
      },
      "text/plain": [
       "train-00912-of-01106-7906d9bc7505c379.pa(…):   0%|          | 0.00/896M [00:00<?, ?B/s]"
      ]
     },
     "metadata": {},
     "output_type": "display_data"
    },
    {
     "data": {
      "application/vnd.jupyter.widget-view+json": {
       "model_id": "0a1a1b008e344c8084470d70d2cdd8b0",
       "version_major": 2,
       "version_minor": 0
      },
      "text/plain": [
       "train-00913-of-01106-0610b654b1bd209a.pa(…):   0%|          | 0.00/945M [00:00<?, ?B/s]"
      ]
     },
     "metadata": {},
     "output_type": "display_data"
    },
    {
     "data": {
      "application/vnd.jupyter.widget-view+json": {
       "model_id": "215326207f5f461db5093dcf6a37ccb2",
       "version_major": 2,
       "version_minor": 0
      },
      "text/plain": [
       "train-00914-of-01106-08cb4ad477c19e2b.pa(…):   0%|          | 0.00/945M [00:00<?, ?B/s]"
      ]
     },
     "metadata": {},
     "output_type": "display_data"
    },
    {
     "data": {
      "application/vnd.jupyter.widget-view+json": {
       "model_id": "c44d4ac5463542d0a017091aa24842ed",
       "version_major": 2,
       "version_minor": 0
      },
      "text/plain": [
       "train-00915-of-01106-efd132efb002e9c7.pa(…):   0%|          | 0.00/911M [00:00<?, ?B/s]"
      ]
     },
     "metadata": {},
     "output_type": "display_data"
    },
    {
     "data": {
      "application/vnd.jupyter.widget-view+json": {
       "model_id": "0dd7736280be49e9870b49f4f843cff5",
       "version_major": 2,
       "version_minor": 0
      },
      "text/plain": [
       "train-00916-of-01106-cddaff46d51519a8.pa(…):   0%|          | 0.00/951M [00:00<?, ?B/s]"
      ]
     },
     "metadata": {},
     "output_type": "display_data"
    },
    {
     "data": {
      "application/vnd.jupyter.widget-view+json": {
       "model_id": "367622aaf7424457befa0d8169212f29",
       "version_major": 2,
       "version_minor": 0
      },
      "text/plain": [
       "train-00917-of-01106-be9104198234fd2d.pa(…):   0%|          | 0.00/939M [00:00<?, ?B/s]"
      ]
     },
     "metadata": {},
     "output_type": "display_data"
    },
    {
     "data": {
      "application/vnd.jupyter.widget-view+json": {
       "model_id": "457ef819ea1e48429b71ff7528178e44",
       "version_major": 2,
       "version_minor": 0
      },
      "text/plain": [
       "train-00918-of-01106-454cd0573b6efa78.pa(…):   0%|          | 0.00/840M [00:00<?, ?B/s]"
      ]
     },
     "metadata": {},
     "output_type": "display_data"
    },
    {
     "data": {
      "application/vnd.jupyter.widget-view+json": {
       "model_id": "e4ed26b0e607435c922ca37def05900b",
       "version_major": 2,
       "version_minor": 0
      },
      "text/plain": [
       "train-00919-of-01106-7515a8072a128199.pa(…):   0%|          | 0.00/834M [00:00<?, ?B/s]"
      ]
     },
     "metadata": {},
     "output_type": "display_data"
    },
    {
     "data": {
      "application/vnd.jupyter.widget-view+json": {
       "model_id": "1f42c1ab0db149b390536420c497c7a8",
       "version_major": 2,
       "version_minor": 0
      },
      "text/plain": [
       "train-00920-of-01106-157aa0954f1f21cd.pa(…):   0%|          | 0.00/816M [00:00<?, ?B/s]"
      ]
     },
     "metadata": {},
     "output_type": "display_data"
    },
    {
     "data": {
      "application/vnd.jupyter.widget-view+json": {
       "model_id": "185d6d3437bb40829fd1a1750ed1916e",
       "version_major": 2,
       "version_minor": 0
      },
      "text/plain": [
       "train-00921-of-01106-ec20caa7321c6d5e.pa(…):   0%|          | 0.00/821M [00:00<?, ?B/s]"
      ]
     },
     "metadata": {},
     "output_type": "display_data"
    },
    {
     "data": {
      "application/vnd.jupyter.widget-view+json": {
       "model_id": "bf4b47a9fcc341b29b02481bddd80ae4",
       "version_major": 2,
       "version_minor": 0
      },
      "text/plain": [
       "train-00922-of-01106-85806f783a6192c2.pa(…):   0%|          | 0.00/804M [00:00<?, ?B/s]"
      ]
     },
     "metadata": {},
     "output_type": "display_data"
    },
    {
     "data": {
      "application/vnd.jupyter.widget-view+json": {
       "model_id": "5ed8d0427637482cb9948cd425759edf",
       "version_major": 2,
       "version_minor": 0
      },
      "text/plain": [
       "train-00923-of-01106-a9af39f916edba94.pa(…):   0%|          | 0.00/841M [00:00<?, ?B/s]"
      ]
     },
     "metadata": {},
     "output_type": "display_data"
    },
    {
     "data": {
      "application/vnd.jupyter.widget-view+json": {
       "model_id": "514777130c834911bdf1e48b94a6d3de",
       "version_major": 2,
       "version_minor": 0
      },
      "text/plain": [
       "train-00924-of-01106-0c984554c628a21d.pa(…):   0%|          | 0.00/787M [00:00<?, ?B/s]"
      ]
     },
     "metadata": {},
     "output_type": "display_data"
    },
    {
     "data": {
      "application/vnd.jupyter.widget-view+json": {
       "model_id": "eb8aa35b0c574f94b63e35519bb55852",
       "version_major": 2,
       "version_minor": 0
      },
      "text/plain": [
       "train-00925-of-01106-37b0fb18efa2a4f8.pa(…):   0%|          | 0.00/831M [00:00<?, ?B/s]"
      ]
     },
     "metadata": {},
     "output_type": "display_data"
    },
    {
     "data": {
      "application/vnd.jupyter.widget-view+json": {
       "model_id": "312c46113d2140aea7f7a055e35f0a98",
       "version_major": 2,
       "version_minor": 0
      },
      "text/plain": [
       "train-00926-of-01106-33b3c1dd3926bbb3.pa(…):   0%|          | 0.00/820M [00:00<?, ?B/s]"
      ]
     },
     "metadata": {},
     "output_type": "display_data"
    },
    {
     "data": {
      "application/vnd.jupyter.widget-view+json": {
       "model_id": "d7ae36e864754aa2a60328030950bcad",
       "version_major": 2,
       "version_minor": 0
      },
      "text/plain": [
       "train-00927-of-01106-6434c644c9cb444b.pa(…):   0%|          | 0.00/822M [00:00<?, ?B/s]"
      ]
     },
     "metadata": {},
     "output_type": "display_data"
    },
    {
     "data": {
      "application/vnd.jupyter.widget-view+json": {
       "model_id": "61cba7ea9ba04599aa6a8b0675bf4fb4",
       "version_major": 2,
       "version_minor": 0
      },
      "text/plain": [
       "train-00928-of-01106-1baa3fff4afbb105.pa(…):   0%|          | 0.00/804M [00:00<?, ?B/s]"
      ]
     },
     "metadata": {},
     "output_type": "display_data"
    },
    {
     "data": {
      "application/vnd.jupyter.widget-view+json": {
       "model_id": "24d0b4a65a2741eaac6ab31d83e5e9f8",
       "version_major": 2,
       "version_minor": 0
      },
      "text/plain": [
       "train-00929-of-01106-3d782a51993917e0.pa(…):   0%|          | 0.00/817M [00:00<?, ?B/s]"
      ]
     },
     "metadata": {},
     "output_type": "display_data"
    },
    {
     "data": {
      "application/vnd.jupyter.widget-view+json": {
       "model_id": "6cb15a6327524ee0a62921215764ab67",
       "version_major": 2,
       "version_minor": 0
      },
      "text/plain": [
       "train-00930-of-01106-3352a37863db118c.pa(…):   0%|          | 0.00/836M [00:00<?, ?B/s]"
      ]
     },
     "metadata": {},
     "output_type": "display_data"
    },
    {
     "data": {
      "application/vnd.jupyter.widget-view+json": {
       "model_id": "5eb3c719a7374d50992b204af3c9445a",
       "version_major": 2,
       "version_minor": 0
      },
      "text/plain": [
       "train-00931-of-01106-01b0be069581a8fe.pa(…):   0%|          | 0.00/826M [00:00<?, ?B/s]"
      ]
     },
     "metadata": {},
     "output_type": "display_data"
    },
    {
     "data": {
      "application/vnd.jupyter.widget-view+json": {
       "model_id": "30ce1a168f254c58a4d549aa0bb52e10",
       "version_major": 2,
       "version_minor": 0
      },
      "text/plain": [
       "train-00932-of-01106-aa3cb13fa8555f54.pa(…):   0%|          | 0.00/762M [00:00<?, ?B/s]"
      ]
     },
     "metadata": {},
     "output_type": "display_data"
    },
    {
     "data": {
      "application/vnd.jupyter.widget-view+json": {
       "model_id": "efba9d0555e3480faeba2583550e990a",
       "version_major": 2,
       "version_minor": 0
      },
      "text/plain": [
       "train-00933-of-01106-158a8fc45426f055.pa(…):   0%|          | 0.00/820M [00:00<?, ?B/s]"
      ]
     },
     "metadata": {},
     "output_type": "display_data"
    },
    {
     "data": {
      "application/vnd.jupyter.widget-view+json": {
       "model_id": "e7edf47f37094cb0bea63d0a9a49a605",
       "version_major": 2,
       "version_minor": 0
      },
      "text/plain": [
       "train-00934-of-01106-93cad5f278dc22a2.pa(…):   0%|          | 0.00/808M [00:00<?, ?B/s]"
      ]
     },
     "metadata": {},
     "output_type": "display_data"
    },
    {
     "data": {
      "application/vnd.jupyter.widget-view+json": {
       "model_id": "b2d93dfe990f4752ae4655b8d9d6eaf3",
       "version_major": 2,
       "version_minor": 0
      },
      "text/plain": [
       "train-00935-of-01106-72e9b886383857b6.pa(…):   0%|          | 0.00/827M [00:00<?, ?B/s]"
      ]
     },
     "metadata": {},
     "output_type": "display_data"
    },
    {
     "data": {
      "application/vnd.jupyter.widget-view+json": {
       "model_id": "9c228fe8318c4460a115100b4fe95d97",
       "version_major": 2,
       "version_minor": 0
      },
      "text/plain": [
       "train-00936-of-01106-cfcc990608a7f5fe.pa(…):   0%|          | 0.00/842M [00:00<?, ?B/s]"
      ]
     },
     "metadata": {},
     "output_type": "display_data"
    },
    {
     "data": {
      "application/vnd.jupyter.widget-view+json": {
       "model_id": "0bc53626df524d72ad123eca77e869b6",
       "version_major": 2,
       "version_minor": 0
      },
      "text/plain": [
       "train-00937-of-01106-5bcc45385cf98605.pa(…):   0%|          | 0.00/864M [00:00<?, ?B/s]"
      ]
     },
     "metadata": {},
     "output_type": "display_data"
    },
    {
     "data": {
      "application/vnd.jupyter.widget-view+json": {
       "model_id": "c5fa94cf2f06403e8bb06d510727e664",
       "version_major": 2,
       "version_minor": 0
      },
      "text/plain": [
       "train-00938-of-01106-b2a82f212db0fdfb.pa(…):   0%|          | 0.00/805M [00:00<?, ?B/s]"
      ]
     },
     "metadata": {},
     "output_type": "display_data"
    },
    {
     "data": {
      "application/vnd.jupyter.widget-view+json": {
       "model_id": "9728f2f1baf14b64bfbf494d60bdf604",
       "version_major": 2,
       "version_minor": 0
      },
      "text/plain": [
       "train-00939-of-01106-e68648272d338282.pa(…):   0%|          | 0.00/821M [00:00<?, ?B/s]"
      ]
     },
     "metadata": {},
     "output_type": "display_data"
    },
    {
     "data": {
      "application/vnd.jupyter.widget-view+json": {
       "model_id": "5cf01363475d4eee9e05e1f826a4cf57",
       "version_major": 2,
       "version_minor": 0
      },
      "text/plain": [
       "train-00940-of-01106-cb97ceb214aaa6ff.pa(…):   0%|          | 0.00/824M [00:00<?, ?B/s]"
      ]
     },
     "metadata": {},
     "output_type": "display_data"
    },
    {
     "data": {
      "application/vnd.jupyter.widget-view+json": {
       "model_id": "605e587a446a40b986f7602282f81ff1",
       "version_major": 2,
       "version_minor": 0
      },
      "text/plain": [
       "train-00941-of-01106-e8e07d539a171b49.pa(…):   0%|          | 0.00/926M [00:00<?, ?B/s]"
      ]
     },
     "metadata": {},
     "output_type": "display_data"
    },
    {
     "data": {
      "application/vnd.jupyter.widget-view+json": {
       "model_id": "81262a6d5f164d1989d36416f824f480",
       "version_major": 2,
       "version_minor": 0
      },
      "text/plain": [
       "train-00942-of-01106-1dc037af7df78cd4.pa(…):   0%|          | 0.00/931M [00:00<?, ?B/s]"
      ]
     },
     "metadata": {},
     "output_type": "display_data"
    },
    {
     "data": {
      "application/vnd.jupyter.widget-view+json": {
       "model_id": "cda601d982094f9a9ecce5f57e270c7a",
       "version_major": 2,
       "version_minor": 0
      },
      "text/plain": [
       "train-00943-of-01106-ded4a5a1b4544a49.pa(…):   0%|          | 0.00/931M [00:00<?, ?B/s]"
      ]
     },
     "metadata": {},
     "output_type": "display_data"
    },
    {
     "data": {
      "application/vnd.jupyter.widget-view+json": {
       "model_id": "189314d7451945ff87bb2f22d30fe478",
       "version_major": 2,
       "version_minor": 0
      },
      "text/plain": [
       "train-00944-of-01106-6c17d54c0c96492d.pa(…):   0%|          | 0.00/922M [00:00<?, ?B/s]"
      ]
     },
     "metadata": {},
     "output_type": "display_data"
    },
    {
     "data": {
      "application/vnd.jupyter.widget-view+json": {
       "model_id": "f61f8cd8a02a43e79263074b0a454969",
       "version_major": 2,
       "version_minor": 0
      },
      "text/plain": [
       "train-00945-of-01106-44a1393080a15f73.pa(…):   0%|          | 0.00/910M [00:00<?, ?B/s]"
      ]
     },
     "metadata": {},
     "output_type": "display_data"
    },
    {
     "data": {
      "application/vnd.jupyter.widget-view+json": {
       "model_id": "4be43beff7344d6a8a660d2645d029b9",
       "version_major": 2,
       "version_minor": 0
      },
      "text/plain": [
       "train-00946-of-01106-b1c0c90fe7cd93aa.pa(…):   0%|          | 0.00/843M [00:00<?, ?B/s]"
      ]
     },
     "metadata": {},
     "output_type": "display_data"
    },
    {
     "data": {
      "application/vnd.jupyter.widget-view+json": {
       "model_id": "8ab0dfb2083647b78316cc84b72d8043",
       "version_major": 2,
       "version_minor": 0
      },
      "text/plain": [
       "train-00947-of-01106-a85c6a9eefd2f2bd.pa(…):   0%|          | 0.00/821M [00:00<?, ?B/s]"
      ]
     },
     "metadata": {},
     "output_type": "display_data"
    },
    {
     "data": {
      "application/vnd.jupyter.widget-view+json": {
       "model_id": "c875765689284a1aace0f1f37650a493",
       "version_major": 2,
       "version_minor": 0
      },
      "text/plain": [
       "train-00948-of-01106-691d174da75ee8ba.pa(…):   0%|          | 0.00/802M [00:00<?, ?B/s]"
      ]
     },
     "metadata": {},
     "output_type": "display_data"
    },
    {
     "data": {
      "application/vnd.jupyter.widget-view+json": {
       "model_id": "0942790741944ec789c376246e595d2c",
       "version_major": 2,
       "version_minor": 0
      },
      "text/plain": [
       "train-00949-of-01106-d4b280bc0ea00be0.pa(…):   0%|          | 0.00/800M [00:00<?, ?B/s]"
      ]
     },
     "metadata": {},
     "output_type": "display_data"
    },
    {
     "data": {
      "application/vnd.jupyter.widget-view+json": {
       "model_id": "7e7dc759137e4246aaa8bd2973cd8985",
       "version_major": 2,
       "version_minor": 0
      },
      "text/plain": [
       "train-00950-of-01106-cab3da87d1fdd6b3.pa(…):   0%|          | 0.00/839M [00:00<?, ?B/s]"
      ]
     },
     "metadata": {},
     "output_type": "display_data"
    },
    {
     "data": {
      "application/vnd.jupyter.widget-view+json": {
       "model_id": "65f07dcb398c41c0bfc82468ba219ff4",
       "version_major": 2,
       "version_minor": 0
      },
      "text/plain": [
       "train-00951-of-01106-512797513634b8ed.pa(…):   0%|          | 0.00/823M [00:00<?, ?B/s]"
      ]
     },
     "metadata": {},
     "output_type": "display_data"
    },
    {
     "data": {
      "application/vnd.jupyter.widget-view+json": {
       "model_id": "11854ad7e73749b99c3840cd2b6bf61c",
       "version_major": 2,
       "version_minor": 0
      },
      "text/plain": [
       "train-00952-of-01106-83703192bd064811.pa(…):   0%|          | 0.00/801M [00:00<?, ?B/s]"
      ]
     },
     "metadata": {},
     "output_type": "display_data"
    },
    {
     "data": {
      "application/vnd.jupyter.widget-view+json": {
       "model_id": "2bc8f38381b34d93b3099ecbdeaab6ce",
       "version_major": 2,
       "version_minor": 0
      },
      "text/plain": [
       "train-00953-of-01106-4d7d71e20953b888.pa(…):   0%|          | 0.00/808M [00:00<?, ?B/s]"
      ]
     },
     "metadata": {},
     "output_type": "display_data"
    },
    {
     "data": {
      "application/vnd.jupyter.widget-view+json": {
       "model_id": "fc3ee67ef83b467298000592ca08d083",
       "version_major": 2,
       "version_minor": 0
      },
      "text/plain": [
       "train-00954-of-01106-470b19cecfbf6e88.pa(…):   0%|          | 0.00/822M [00:00<?, ?B/s]"
      ]
     },
     "metadata": {},
     "output_type": "display_data"
    },
    {
     "data": {
      "application/vnd.jupyter.widget-view+json": {
       "model_id": "8f81a5650751486fbb9003a0d8261537",
       "version_major": 2,
       "version_minor": 0
      },
      "text/plain": [
       "train-00955-of-01106-b93a1753062f1b39.pa(…):   0%|          | 0.00/805M [00:00<?, ?B/s]"
      ]
     },
     "metadata": {},
     "output_type": "display_data"
    },
    {
     "data": {
      "application/vnd.jupyter.widget-view+json": {
       "model_id": "90978b8987a54dcf9d56508e7d276c34",
       "version_major": 2,
       "version_minor": 0
      },
      "text/plain": [
       "train-00956-of-01106-7b1f8db975450ea9.pa(…):   0%|          | 0.00/848M [00:00<?, ?B/s]"
      ]
     },
     "metadata": {},
     "output_type": "display_data"
    },
    {
     "data": {
      "application/vnd.jupyter.widget-view+json": {
       "model_id": "22a9437915a84139a04e75831a806ee3",
       "version_major": 2,
       "version_minor": 0
      },
      "text/plain": [
       "train-00957-of-01106-aa3753af2b0028d1.pa(…):   0%|          | 0.00/828M [00:00<?, ?B/s]"
      ]
     },
     "metadata": {},
     "output_type": "display_data"
    },
    {
     "data": {
      "application/vnd.jupyter.widget-view+json": {
       "model_id": "b1249e6aa3a44d1684259f9ac95ebc8a",
       "version_major": 2,
       "version_minor": 0
      },
      "text/plain": [
       "train-00958-of-01106-38996047b195ff05.pa(…):   0%|          | 0.00/833M [00:00<?, ?B/s]"
      ]
     },
     "metadata": {},
     "output_type": "display_data"
    },
    {
     "data": {
      "application/vnd.jupyter.widget-view+json": {
       "model_id": "d7e13e3b84d845b782882b25e4f46dfc",
       "version_major": 2,
       "version_minor": 0
      },
      "text/plain": [
       "train-00959-of-01106-f4ae8e1702b7ff04.pa(…):   0%|          | 0.00/795M [00:00<?, ?B/s]"
      ]
     },
     "metadata": {},
     "output_type": "display_data"
    },
    {
     "data": {
      "application/vnd.jupyter.widget-view+json": {
       "model_id": "c1b0c41a2a0247a588bdf0cee85feffd",
       "version_major": 2,
       "version_minor": 0
      },
      "text/plain": [
       "train-00960-of-01106-a57dd21b262c83f8.pa(…):   0%|          | 0.00/832M [00:00<?, ?B/s]"
      ]
     },
     "metadata": {},
     "output_type": "display_data"
    },
    {
     "data": {
      "application/vnd.jupyter.widget-view+json": {
       "model_id": "1dd8993ea78841158a2936e1163d038d",
       "version_major": 2,
       "version_minor": 0
      },
      "text/plain": [
       "train-00961-of-01106-a39bcc791cd3bd51.pa(…):   0%|          | 0.00/826M [00:00<?, ?B/s]"
      ]
     },
     "metadata": {},
     "output_type": "display_data"
    },
    {
     "data": {
      "application/vnd.jupyter.widget-view+json": {
       "model_id": "8f0f2556390e46a88b74570e7f03faf5",
       "version_major": 2,
       "version_minor": 0
      },
      "text/plain": [
       "train-00962-of-01106-49400ef47f94c889.pa(…):   0%|          | 0.00/849M [00:00<?, ?B/s]"
      ]
     },
     "metadata": {},
     "output_type": "display_data"
    },
    {
     "data": {
      "application/vnd.jupyter.widget-view+json": {
       "model_id": "575ccca697d54ad998f96e3823d06254",
       "version_major": 2,
       "version_minor": 0
      },
      "text/plain": [
       "train-00963-of-01106-e60c2a50fdc4173a.pa(…):   0%|          | 0.00/826M [00:00<?, ?B/s]"
      ]
     },
     "metadata": {},
     "output_type": "display_data"
    },
    {
     "data": {
      "application/vnd.jupyter.widget-view+json": {
       "model_id": "c5d030461d7f4cd59edbbb127a94f27a",
       "version_major": 2,
       "version_minor": 0
      },
      "text/plain": [
       "train-00964-of-01106-396c9b704fdbab50.pa(…):   0%|          | 0.00/827M [00:00<?, ?B/s]"
      ]
     },
     "metadata": {},
     "output_type": "display_data"
    },
    {
     "data": {
      "application/vnd.jupyter.widget-view+json": {
       "model_id": "dd2f15f4ad064ac1b70790be7792c7f9",
       "version_major": 2,
       "version_minor": 0
      },
      "text/plain": [
       "train-00965-of-01106-eb8f391c10d161b5.pa(…):   0%|          | 0.00/842M [00:00<?, ?B/s]"
      ]
     },
     "metadata": {},
     "output_type": "display_data"
    },
    {
     "data": {
      "application/vnd.jupyter.widget-view+json": {
       "model_id": "9e5c0c3362694ba59e99483a75415c88",
       "version_major": 2,
       "version_minor": 0
      },
      "text/plain": [
       "train-00966-of-01106-d8093d780d5b582b.pa(…):   0%|          | 0.00/840M [00:00<?, ?B/s]"
      ]
     },
     "metadata": {},
     "output_type": "display_data"
    },
    {
     "data": {
      "application/vnd.jupyter.widget-view+json": {
       "model_id": "c3c91e5783b1426697ed400535e83910",
       "version_major": 2,
       "version_minor": 0
      },
      "text/plain": [
       "train-00967-of-01106-fbd72825fb03944e.pa(…):   0%|          | 0.00/852M [00:00<?, ?B/s]"
      ]
     },
     "metadata": {},
     "output_type": "display_data"
    },
    {
     "data": {
      "application/vnd.jupyter.widget-view+json": {
       "model_id": "c1e3f5c9a47f48ff827fa26bab3faae5",
       "version_major": 2,
       "version_minor": 0
      },
      "text/plain": [
       "train-00968-of-01106-42a5695862f3ce85.pa(…):   0%|          | 0.00/802M [00:00<?, ?B/s]"
      ]
     },
     "metadata": {},
     "output_type": "display_data"
    },
    {
     "data": {
      "application/vnd.jupyter.widget-view+json": {
       "model_id": "23dd3d1420d049b087d5b68527f7c329",
       "version_major": 2,
       "version_minor": 0
      },
      "text/plain": [
       "train-00969-of-01106-50309bd50904207c.pa(…):   0%|          | 0.00/810M [00:00<?, ?B/s]"
      ]
     },
     "metadata": {},
     "output_type": "display_data"
    },
    {
     "data": {
      "application/vnd.jupyter.widget-view+json": {
       "model_id": "b546d1d673bd4968886cb06d45d43032",
       "version_major": 2,
       "version_minor": 0
      },
      "text/plain": [
       "train-00970-of-01106-f567a670c2ad5fcc.pa(…):   0%|          | 0.00/811M [00:00<?, ?B/s]"
      ]
     },
     "metadata": {},
     "output_type": "display_data"
    },
    {
     "data": {
      "application/vnd.jupyter.widget-view+json": {
       "model_id": "5960b04c79aa4cdb93ae0c6ba084c89c",
       "version_major": 2,
       "version_minor": 0
      },
      "text/plain": [
       "train-00971-of-01106-052fff0054185867.pa(…):   0%|          | 0.00/781M [00:00<?, ?B/s]"
      ]
     },
     "metadata": {},
     "output_type": "display_data"
    },
    {
     "data": {
      "application/vnd.jupyter.widget-view+json": {
       "model_id": "6e52460827774b3b9406bea04a81b157",
       "version_major": 2,
       "version_minor": 0
      },
      "text/plain": [
       "train-00972-of-01106-cc14491bc5cb08fa.pa(…):   0%|          | 0.00/789M [00:00<?, ?B/s]"
      ]
     },
     "metadata": {},
     "output_type": "display_data"
    },
    {
     "data": {
      "application/vnd.jupyter.widget-view+json": {
       "model_id": "7656ed0585634906ae6400eda2657b0d",
       "version_major": 2,
       "version_minor": 0
      },
      "text/plain": [
       "train-00973-of-01106-c17ee5f430305de5.pa(…):   0%|          | 0.00/820M [00:00<?, ?B/s]"
      ]
     },
     "metadata": {},
     "output_type": "display_data"
    },
    {
     "data": {
      "application/vnd.jupyter.widget-view+json": {
       "model_id": "d22cb47eb18544239c6036cff039914b",
       "version_major": 2,
       "version_minor": 0
      },
      "text/plain": [
       "train-00974-of-01106-73c04c107e319886.pa(…):   0%|          | 0.00/832M [00:00<?, ?B/s]"
      ]
     },
     "metadata": {},
     "output_type": "display_data"
    },
    {
     "data": {
      "application/vnd.jupyter.widget-view+json": {
       "model_id": "280d0c3d1ce941be837752a521c1ecfa",
       "version_major": 2,
       "version_minor": 0
      },
      "text/plain": [
       "train-00975-of-01106-2ab911526e53c995.pa(…):   0%|          | 0.00/840M [00:00<?, ?B/s]"
      ]
     },
     "metadata": {},
     "output_type": "display_data"
    },
    {
     "data": {
      "application/vnd.jupyter.widget-view+json": {
       "model_id": "42a62676dde849b5840d201c1b3d0992",
       "version_major": 2,
       "version_minor": 0
      },
      "text/plain": [
       "train-00976-of-01106-09b4f9a7fbe4e192.pa(…):   0%|          | 0.00/811M [00:00<?, ?B/s]"
      ]
     },
     "metadata": {},
     "output_type": "display_data"
    },
    {
     "data": {
      "application/vnd.jupyter.widget-view+json": {
       "model_id": "bf3041d6d3d245c6b20435aa518902ac",
       "version_major": 2,
       "version_minor": 0
      },
      "text/plain": [
       "train-00977-of-01106-8ea573d265852349.pa(…):   0%|          | 0.00/853M [00:00<?, ?B/s]"
      ]
     },
     "metadata": {},
     "output_type": "display_data"
    },
    {
     "data": {
      "application/vnd.jupyter.widget-view+json": {
       "model_id": "c6724e3d4c1a450996b1444588f040b1",
       "version_major": 2,
       "version_minor": 0
      },
      "text/plain": [
       "train-00978-of-01106-6648f99d12af0c57.pa(…):   0%|          | 0.00/819M [00:00<?, ?B/s]"
      ]
     },
     "metadata": {},
     "output_type": "display_data"
    },
    {
     "data": {
      "application/vnd.jupyter.widget-view+json": {
       "model_id": "49b0bd626c324bd7a6d5d92fac1fe370",
       "version_major": 2,
       "version_minor": 0
      },
      "text/plain": [
       "train-00979-of-01106-5c5020edbcaabdaa.pa(…):   0%|          | 0.00/854M [00:00<?, ?B/s]"
      ]
     },
     "metadata": {},
     "output_type": "display_data"
    },
    {
     "data": {
      "application/vnd.jupyter.widget-view+json": {
       "model_id": "70e528a8441f4cb1af09674232bf800c",
       "version_major": 2,
       "version_minor": 0
      },
      "text/plain": [
       "train-00980-of-01106-d55fbd036dc39442.pa(…):   0%|          | 0.00/826M [00:00<?, ?B/s]"
      ]
     },
     "metadata": {},
     "output_type": "display_data"
    },
    {
     "data": {
      "application/vnd.jupyter.widget-view+json": {
       "model_id": "eb6c0a60b6bb4be6a4c6667d8909520c",
       "version_major": 2,
       "version_minor": 0
      },
      "text/plain": [
       "train-00981-of-01106-4074120096d39c4e.pa(…):   0%|          | 0.00/799M [00:00<?, ?B/s]"
      ]
     },
     "metadata": {},
     "output_type": "display_data"
    },
    {
     "data": {
      "application/vnd.jupyter.widget-view+json": {
       "model_id": "7507a805d63e4e31b85017d69859a723",
       "version_major": 2,
       "version_minor": 0
      },
      "text/plain": [
       "train-00982-of-01106-06be9ec0e6b55300.pa(…):   0%|          | 0.00/818M [00:00<?, ?B/s]"
      ]
     },
     "metadata": {},
     "output_type": "display_data"
    },
    {
     "data": {
      "application/vnd.jupyter.widget-view+json": {
       "model_id": "bca105557eea41848f309d406606fb0f",
       "version_major": 2,
       "version_minor": 0
      },
      "text/plain": [
       "train-00983-of-01106-a927659bfcf64293.pa(…):   0%|          | 0.00/827M [00:00<?, ?B/s]"
      ]
     },
     "metadata": {},
     "output_type": "display_data"
    },
    {
     "data": {
      "application/vnd.jupyter.widget-view+json": {
       "model_id": "4282160b6ebf4ba0b6a78ca0bd34c49c",
       "version_major": 2,
       "version_minor": 0
      },
      "text/plain": [
       "train-00984-of-01106-8fc051f7b5b1b380.pa(…):   0%|          | 0.00/812M [00:00<?, ?B/s]"
      ]
     },
     "metadata": {},
     "output_type": "display_data"
    },
    {
     "data": {
      "application/vnd.jupyter.widget-view+json": {
       "model_id": "7898d45c09da48d081d1d3ec9f5961d0",
       "version_major": 2,
       "version_minor": 0
      },
      "text/plain": [
       "train-00985-of-01106-139e6f064a3da864.pa(…):   0%|          | 0.00/830M [00:00<?, ?B/s]"
      ]
     },
     "metadata": {},
     "output_type": "display_data"
    },
    {
     "data": {
      "application/vnd.jupyter.widget-view+json": {
       "model_id": "8497d3f1eedb489a9c2b6cd371e0b210",
       "version_major": 2,
       "version_minor": 0
      },
      "text/plain": [
       "train-00986-of-01106-5e1e5dc14bb534ac.pa(…):   0%|          | 0.00/835M [00:00<?, ?B/s]"
      ]
     },
     "metadata": {},
     "output_type": "display_data"
    },
    {
     "data": {
      "application/vnd.jupyter.widget-view+json": {
       "model_id": "89201b6a11f945bf90a9088163806196",
       "version_major": 2,
       "version_minor": 0
      },
      "text/plain": [
       "train-00987-of-01106-b23cff440d3a35a2.pa(…):   0%|          | 0.00/829M [00:00<?, ?B/s]"
      ]
     },
     "metadata": {},
     "output_type": "display_data"
    },
    {
     "data": {
      "application/vnd.jupyter.widget-view+json": {
       "model_id": "05d4b274d02346e1874a52386690fb0a",
       "version_major": 2,
       "version_minor": 0
      },
      "text/plain": [
       "train-00988-of-01106-d1fc35cd2861c93b.pa(…):   0%|          | 0.00/795M [00:00<?, ?B/s]"
      ]
     },
     "metadata": {},
     "output_type": "display_data"
    },
    {
     "data": {
      "application/vnd.jupyter.widget-view+json": {
       "model_id": "66b1c8ff76f84e739bfa7dc7e0fa21d1",
       "version_major": 2,
       "version_minor": 0
      },
      "text/plain": [
       "train-00989-of-01106-98aa4001b0b7abb1.pa(…):   0%|          | 0.00/792M [00:00<?, ?B/s]"
      ]
     },
     "metadata": {},
     "output_type": "display_data"
    },
    {
     "data": {
      "application/vnd.jupyter.widget-view+json": {
       "model_id": "2d815662bb174af389d5f3ed44fe9e21",
       "version_major": 2,
       "version_minor": 0
      },
      "text/plain": [
       "train-00990-of-01106-794ac7ea960b1386.pa(…):   0%|          | 0.00/825M [00:00<?, ?B/s]"
      ]
     },
     "metadata": {},
     "output_type": "display_data"
    },
    {
     "data": {
      "application/vnd.jupyter.widget-view+json": {
       "model_id": "619c30d58311495e81dd0d00242273bf",
       "version_major": 2,
       "version_minor": 0
      },
      "text/plain": [
       "train-00991-of-01106-e3a416a873f2fb25.pa(…):   0%|          | 0.00/783M [00:00<?, ?B/s]"
      ]
     },
     "metadata": {},
     "output_type": "display_data"
    },
    {
     "data": {
      "application/vnd.jupyter.widget-view+json": {
       "model_id": "c6582ed487194064b9043abb3795c3c3",
       "version_major": 2,
       "version_minor": 0
      },
      "text/plain": [
       "train-00992-of-01106-d0cacc15e150042f.pa(…):   0%|          | 0.00/840M [00:00<?, ?B/s]"
      ]
     },
     "metadata": {},
     "output_type": "display_data"
    },
    {
     "data": {
      "application/vnd.jupyter.widget-view+json": {
       "model_id": "8ad6303ef0d84fc98dbbeeaa7e62389e",
       "version_major": 2,
       "version_minor": 0
      },
      "text/plain": [
       "train-00993-of-01106-95c20c622299c659.pa(…):   0%|          | 0.00/788M [00:00<?, ?B/s]"
      ]
     },
     "metadata": {},
     "output_type": "display_data"
    },
    {
     "data": {
      "application/vnd.jupyter.widget-view+json": {
       "model_id": "7429ec3276ef4fcfb9066d9a7159b849",
       "version_major": 2,
       "version_minor": 0
      },
      "text/plain": [
       "train-00994-of-01106-1128ef9650756f0d.pa(…):   0%|          | 0.00/812M [00:00<?, ?B/s]"
      ]
     },
     "metadata": {},
     "output_type": "display_data"
    },
    {
     "data": {
      "application/vnd.jupyter.widget-view+json": {
       "model_id": "c96d7f9382614d1cb2e1a2129decca94",
       "version_major": 2,
       "version_minor": 0
      },
      "text/plain": [
       "train-00995-of-01106-3539b6fddc0506ab.pa(…):   0%|          | 0.00/824M [00:00<?, ?B/s]"
      ]
     },
     "metadata": {},
     "output_type": "display_data"
    },
    {
     "data": {
      "application/vnd.jupyter.widget-view+json": {
       "model_id": "7f8abf271e91431f8bd42f41f5af1957",
       "version_major": 2,
       "version_minor": 0
      },
      "text/plain": [
       "train-00996-of-01106-cf4a295e40298c0a.pa(…):   0%|          | 0.00/830M [00:00<?, ?B/s]"
      ]
     },
     "metadata": {},
     "output_type": "display_data"
    },
    {
     "data": {
      "application/vnd.jupyter.widget-view+json": {
       "model_id": "2f548dd9fb834f99897ef41d10d67e89",
       "version_major": 2,
       "version_minor": 0
      },
      "text/plain": [
       "train-00997-of-01106-b9ed145df9b015f1.pa(…):   0%|          | 0.00/839M [00:00<?, ?B/s]"
      ]
     },
     "metadata": {},
     "output_type": "display_data"
    },
    {
     "data": {
      "application/vnd.jupyter.widget-view+json": {
       "model_id": "5d79785d0fb94b8ea21571d9f74cfd23",
       "version_major": 2,
       "version_minor": 0
      },
      "text/plain": [
       "train-00998-of-01106-5bc71e2264b95c32.pa(…):   0%|          | 0.00/823M [00:00<?, ?B/s]"
      ]
     },
     "metadata": {},
     "output_type": "display_data"
    },
    {
     "data": {
      "application/vnd.jupyter.widget-view+json": {
       "model_id": "312bea1e466c4f02a51a00a05c2537e7",
       "version_major": 2,
       "version_minor": 0
      },
      "text/plain": [
       "train-00999-of-01106-9445a2d918dd6054.pa(…):   0%|          | 0.00/783M [00:00<?, ?B/s]"
      ]
     },
     "metadata": {},
     "output_type": "display_data"
    },
    {
     "data": {
      "application/vnd.jupyter.widget-view+json": {
       "model_id": "b4785482d6ae434a978310d0c4795a8f",
       "version_major": 2,
       "version_minor": 0
      },
      "text/plain": [
       "train-01000-of-01106-ef145266c626736b.pa(…):   0%|          | 0.00/830M [00:00<?, ?B/s]"
      ]
     },
     "metadata": {},
     "output_type": "display_data"
    },
    {
     "data": {
      "application/vnd.jupyter.widget-view+json": {
       "model_id": "487d22ae92e64ccb8f56a90d675c1cf7",
       "version_major": 2,
       "version_minor": 0
      },
      "text/plain": [
       "train-01001-of-01106-de7adc990320d1a7.pa(…):   0%|          | 0.00/803M [00:00<?, ?B/s]"
      ]
     },
     "metadata": {},
     "output_type": "display_data"
    },
    {
     "data": {
      "application/vnd.jupyter.widget-view+json": {
       "model_id": "7d2bf6e839254559b09fbf7f5dd5405c",
       "version_major": 2,
       "version_minor": 0
      },
      "text/plain": [
       "train-01002-of-01106-d516264c6be36359.pa(…):   0%|          | 0.00/837M [00:00<?, ?B/s]"
      ]
     },
     "metadata": {},
     "output_type": "display_data"
    },
    {
     "data": {
      "application/vnd.jupyter.widget-view+json": {
       "model_id": "4c98a01b3a60438ca3e09b69a65dcdc5",
       "version_major": 2,
       "version_minor": 0
      },
      "text/plain": [
       "train-01003-of-01106-1df15f13329c125a.pa(…):   0%|          | 0.00/834M [00:00<?, ?B/s]"
      ]
     },
     "metadata": {},
     "output_type": "display_data"
    },
    {
     "data": {
      "application/vnd.jupyter.widget-view+json": {
       "model_id": "ce82d90bafa04908beb566692faeb4a7",
       "version_major": 2,
       "version_minor": 0
      },
      "text/plain": [
       "train-01004-of-01106-357e02bef816b13d.pa(…):   0%|          | 0.00/821M [00:00<?, ?B/s]"
      ]
     },
     "metadata": {},
     "output_type": "display_data"
    },
    {
     "data": {
      "application/vnd.jupyter.widget-view+json": {
       "model_id": "e03ce49bfa174983b173f843675fea39",
       "version_major": 2,
       "version_minor": 0
      },
      "text/plain": [
       "train-01005-of-01106-c2977abc1e6e0fe0.pa(…):   0%|          | 0.00/798M [00:00<?, ?B/s]"
      ]
     },
     "metadata": {},
     "output_type": "display_data"
    },
    {
     "data": {
      "application/vnd.jupyter.widget-view+json": {
       "model_id": "ca416f3e453349da87ee9899e244dd27",
       "version_major": 2,
       "version_minor": 0
      },
      "text/plain": [
       "train-01006-of-01106-f9d05fb3e3579f52.pa(…):   0%|          | 0.00/835M [00:00<?, ?B/s]"
      ]
     },
     "metadata": {},
     "output_type": "display_data"
    },
    {
     "data": {
      "application/vnd.jupyter.widget-view+json": {
       "model_id": "c204e403f33d47bc8b29b843939cff91",
       "version_major": 2,
       "version_minor": 0
      },
      "text/plain": [
       "train-01007-of-01106-66e64c051b7eb1c2.pa(…):   0%|          | 0.00/785M [00:00<?, ?B/s]"
      ]
     },
     "metadata": {},
     "output_type": "display_data"
    },
    {
     "data": {
      "application/vnd.jupyter.widget-view+json": {
       "model_id": "674a3490dcc24f11a16789a401e9fde5",
       "version_major": 2,
       "version_minor": 0
      },
      "text/plain": [
       "train-01008-of-01106-c21f9f4cf640a3ec.pa(…):   0%|          | 0.00/836M [00:00<?, ?B/s]"
      ]
     },
     "metadata": {},
     "output_type": "display_data"
    },
    {
     "data": {
      "application/vnd.jupyter.widget-view+json": {
       "model_id": "5b746045bf494ae09ad0d54f00caff21",
       "version_major": 2,
       "version_minor": 0
      },
      "text/plain": [
       "train-01009-of-01106-7982e011f3eb8b35.pa(…):   0%|          | 0.00/817M [00:00<?, ?B/s]"
      ]
     },
     "metadata": {},
     "output_type": "display_data"
    },
    {
     "data": {
      "application/vnd.jupyter.widget-view+json": {
       "model_id": "b298e58b791b418a8dc83fa930ba33c2",
       "version_major": 2,
       "version_minor": 0
      },
      "text/plain": [
       "train-01010-of-01106-fd315697d7a92e83.pa(…):   0%|          | 0.00/786M [00:00<?, ?B/s]"
      ]
     },
     "metadata": {},
     "output_type": "display_data"
    },
    {
     "data": {
      "application/vnd.jupyter.widget-view+json": {
       "model_id": "ebfcca12bd3e45d18599d1206ca9e66f",
       "version_major": 2,
       "version_minor": 0
      },
      "text/plain": [
       "train-01011-of-01106-eada0ef23bda19a5.pa(…):   0%|          | 0.00/803M [00:00<?, ?B/s]"
      ]
     },
     "metadata": {},
     "output_type": "display_data"
    },
    {
     "data": {
      "application/vnd.jupyter.widget-view+json": {
       "model_id": "d22136f8990048ff85f6f803fb5326d6",
       "version_major": 2,
       "version_minor": 0
      },
      "text/plain": [
       "train-01012-of-01106-b0a710a460f3d5b5.pa(…):   0%|          | 0.00/792M [00:00<?, ?B/s]"
      ]
     },
     "metadata": {},
     "output_type": "display_data"
    },
    {
     "data": {
      "application/vnd.jupyter.widget-view+json": {
       "model_id": "236ff65fb0b24d17b81bc38d0294feb8",
       "version_major": 2,
       "version_minor": 0
      },
      "text/plain": [
       "train-01013-of-01106-52a2204b80da9607.pa(…):   0%|          | 0.00/783M [00:00<?, ?B/s]"
      ]
     },
     "metadata": {},
     "output_type": "display_data"
    },
    {
     "data": {
      "application/vnd.jupyter.widget-view+json": {
       "model_id": "608c12f51b67484ea5dba41e56deac18",
       "version_major": 2,
       "version_minor": 0
      },
      "text/plain": [
       "train-01014-of-01106-79d328795225fdfb.pa(…):   0%|          | 0.00/835M [00:00<?, ?B/s]"
      ]
     },
     "metadata": {},
     "output_type": "display_data"
    },
    {
     "data": {
      "application/vnd.jupyter.widget-view+json": {
       "model_id": "364cd8b54b0f487bb098c771f2eed693",
       "version_major": 2,
       "version_minor": 0
      },
      "text/plain": [
       "train-01015-of-01106-8a39a92bedae3aae.pa(…):   0%|          | 0.00/794M [00:00<?, ?B/s]"
      ]
     },
     "metadata": {},
     "output_type": "display_data"
    },
    {
     "data": {
      "application/vnd.jupyter.widget-view+json": {
       "model_id": "44154954f1e9495eb441345c43207493",
       "version_major": 2,
       "version_minor": 0
      },
      "text/plain": [
       "train-01016-of-01106-b1a2a888b70a7798.pa(…):   0%|          | 0.00/842M [00:00<?, ?B/s]"
      ]
     },
     "metadata": {},
     "output_type": "display_data"
    },
    {
     "data": {
      "application/vnd.jupyter.widget-view+json": {
       "model_id": "6847e05ce96d4d0a9d42ed8b6c511d02",
       "version_major": 2,
       "version_minor": 0
      },
      "text/plain": [
       "train-01017-of-01106-b391982fc57f7331.pa(…):   0%|          | 0.00/825M [00:00<?, ?B/s]"
      ]
     },
     "metadata": {},
     "output_type": "display_data"
    },
    {
     "data": {
      "application/vnd.jupyter.widget-view+json": {
       "model_id": "b991e685ae9741f4b942b41958d83c58",
       "version_major": 2,
       "version_minor": 0
      },
      "text/plain": [
       "train-01018-of-01106-470a4065362be769.pa(…):   0%|          | 0.00/842M [00:00<?, ?B/s]"
      ]
     },
     "metadata": {},
     "output_type": "display_data"
    },
    {
     "data": {
      "application/vnd.jupyter.widget-view+json": {
       "model_id": "600e79c825eb4c32a8c40fa5a36a2810",
       "version_major": 2,
       "version_minor": 0
      },
      "text/plain": [
       "train-01019-of-01106-7155983c0d9c28b8.pa(…):   0%|          | 0.00/840M [00:00<?, ?B/s]"
      ]
     },
     "metadata": {},
     "output_type": "display_data"
    },
    {
     "data": {
      "application/vnd.jupyter.widget-view+json": {
       "model_id": "e625007c96c7493899818127ac6fc4b3",
       "version_major": 2,
       "version_minor": 0
      },
      "text/plain": [
       "train-01020-of-01106-1d882c40a9edf7fb.pa(…):   0%|          | 0.00/849M [00:00<?, ?B/s]"
      ]
     },
     "metadata": {},
     "output_type": "display_data"
    },
    {
     "data": {
      "application/vnd.jupyter.widget-view+json": {
       "model_id": "ebed99a8625646c7a36e4946a81b18c0",
       "version_major": 2,
       "version_minor": 0
      },
      "text/plain": [
       "train-01021-of-01106-9cb505b0fb658af2.pa(…):   0%|          | 0.00/817M [00:00<?, ?B/s]"
      ]
     },
     "metadata": {},
     "output_type": "display_data"
    },
    {
     "data": {
      "application/vnd.jupyter.widget-view+json": {
       "model_id": "8fb70c0ccdd64ebd9c777c572f32c10e",
       "version_major": 2,
       "version_minor": 0
      },
      "text/plain": [
       "train-01022-of-01106-728f2042c36d340d.pa(…):   0%|          | 0.00/856M [00:00<?, ?B/s]"
      ]
     },
     "metadata": {},
     "output_type": "display_data"
    },
    {
     "data": {
      "application/vnd.jupyter.widget-view+json": {
       "model_id": "0d07d9416c07496a9c26064ba8883d9e",
       "version_major": 2,
       "version_minor": 0
      },
      "text/plain": [
       "train-01023-of-01106-ea767ba455e87ec7.pa(…):   0%|          | 0.00/851M [00:00<?, ?B/s]"
      ]
     },
     "metadata": {},
     "output_type": "display_data"
    },
    {
     "data": {
      "application/vnd.jupyter.widget-view+json": {
       "model_id": "f0b84c81075c484c9edd19fe4946cb7d",
       "version_major": 2,
       "version_minor": 0
      },
      "text/plain": [
       "train-01024-of-01106-a8bad102d0b85b1a.pa(…):   0%|          | 0.00/811M [00:00<?, ?B/s]"
      ]
     },
     "metadata": {},
     "output_type": "display_data"
    },
    {
     "data": {
      "application/vnd.jupyter.widget-view+json": {
       "model_id": "b0a843e3e68d440682f1e6868e8c8c24",
       "version_major": 2,
       "version_minor": 0
      },
      "text/plain": [
       "train-01025-of-01106-a48d85a46bda28b2.pa(…):   0%|          | 0.00/814M [00:00<?, ?B/s]"
      ]
     },
     "metadata": {},
     "output_type": "display_data"
    },
    {
     "data": {
      "application/vnd.jupyter.widget-view+json": {
       "model_id": "cc2202b71d254061b3222b21f63a5e87",
       "version_major": 2,
       "version_minor": 0
      },
      "text/plain": [
       "train-01026-of-01106-827a8e0abf0b52a5.pa(…):   0%|          | 0.00/823M [00:00<?, ?B/s]"
      ]
     },
     "metadata": {},
     "output_type": "display_data"
    },
    {
     "data": {
      "application/vnd.jupyter.widget-view+json": {
       "model_id": "46207f85c42849168aa96c9fcceead46",
       "version_major": 2,
       "version_minor": 0
      },
      "text/plain": [
       "train-01027-of-01106-d2cbabc3b8838ac0.pa(…):   0%|          | 0.00/845M [00:00<?, ?B/s]"
      ]
     },
     "metadata": {},
     "output_type": "display_data"
    },
    {
     "data": {
      "application/vnd.jupyter.widget-view+json": {
       "model_id": "cc07d009642542b98af4626004f24cb3",
       "version_major": 2,
       "version_minor": 0
      },
      "text/plain": [
       "train-01028-of-01106-d7f3f1648b9db5c2.pa(…):   0%|          | 0.00/856M [00:00<?, ?B/s]"
      ]
     },
     "metadata": {},
     "output_type": "display_data"
    },
    {
     "data": {
      "application/vnd.jupyter.widget-view+json": {
       "model_id": "10a442c35dbd4f9db84511214f0f1d90",
       "version_major": 2,
       "version_minor": 0
      },
      "text/plain": [
       "train-01029-of-01106-fb2b9f1293bce811.pa(…):   0%|          | 0.00/802M [00:00<?, ?B/s]"
      ]
     },
     "metadata": {},
     "output_type": "display_data"
    },
    {
     "data": {
      "application/vnd.jupyter.widget-view+json": {
       "model_id": "eae70abb7d424227a3910a2d78e70ff1",
       "version_major": 2,
       "version_minor": 0
      },
      "text/plain": [
       "train-01030-of-01106-27d03b66004ee80f.pa(…):   0%|          | 0.00/835M [00:00<?, ?B/s]"
      ]
     },
     "metadata": {},
     "output_type": "display_data"
    },
    {
     "data": {
      "application/vnd.jupyter.widget-view+json": {
       "model_id": "44eb829dd6764da19e4373a41c6b19a3",
       "version_major": 2,
       "version_minor": 0
      },
      "text/plain": [
       "train-01031-of-01106-6b4b9273465e5ad5.pa(…):   0%|          | 0.00/848M [00:00<?, ?B/s]"
      ]
     },
     "metadata": {},
     "output_type": "display_data"
    },
    {
     "data": {
      "application/vnd.jupyter.widget-view+json": {
       "model_id": "02733235d3014891b7969eb4103f1200",
       "version_major": 2,
       "version_minor": 0
      },
      "text/plain": [
       "train-01032-of-01106-df062a3500558bbd.pa(…):   0%|          | 0.00/793M [00:00<?, ?B/s]"
      ]
     },
     "metadata": {},
     "output_type": "display_data"
    },
    {
     "data": {
      "application/vnd.jupyter.widget-view+json": {
       "model_id": "8bac3866e9f4411ba083b524d1321805",
       "version_major": 2,
       "version_minor": 0
      },
      "text/plain": [
       "train-01033-of-01106-c9cd78bfff2cf2ae.pa(…):   0%|          | 0.00/839M [00:00<?, ?B/s]"
      ]
     },
     "metadata": {},
     "output_type": "display_data"
    },
    {
     "data": {
      "application/vnd.jupyter.widget-view+json": {
       "model_id": "fb77f46f5d354e21a5fcf0caeb8086dc",
       "version_major": 2,
       "version_minor": 0
      },
      "text/plain": [
       "train-01034-of-01106-d883175e497bd425.pa(…):   0%|          | 0.00/830M [00:00<?, ?B/s]"
      ]
     },
     "metadata": {},
     "output_type": "display_data"
    },
    {
     "data": {
      "application/vnd.jupyter.widget-view+json": {
       "model_id": "9a3ecd842e66497ea3bd224a8364d923",
       "version_major": 2,
       "version_minor": 0
      },
      "text/plain": [
       "train-01035-of-01106-f5fd644ad0d694bf.pa(…):   0%|          | 0.00/840M [00:00<?, ?B/s]"
      ]
     },
     "metadata": {},
     "output_type": "display_data"
    },
    {
     "data": {
      "application/vnd.jupyter.widget-view+json": {
       "model_id": "f99b138fdee544ed92ec4c7b6cb64a27",
       "version_major": 2,
       "version_minor": 0
      },
      "text/plain": [
       "train-01036-of-01106-eccdbee8a6e4a461.pa(…):   0%|          | 0.00/772M [00:00<?, ?B/s]"
      ]
     },
     "metadata": {},
     "output_type": "display_data"
    },
    {
     "data": {
      "application/vnd.jupyter.widget-view+json": {
       "model_id": "89e61d56ae034ea296a7f6c6b081ce7c",
       "version_major": 2,
       "version_minor": 0
      },
      "text/plain": [
       "train-01037-of-01106-26c1581e6e506ee5.pa(…):   0%|          | 0.00/841M [00:00<?, ?B/s]"
      ]
     },
     "metadata": {},
     "output_type": "display_data"
    },
    {
     "data": {
      "application/vnd.jupyter.widget-view+json": {
       "model_id": "8c9aba558a354fa7a43294acd3818cf4",
       "version_major": 2,
       "version_minor": 0
      },
      "text/plain": [
       "train-01038-of-01106-7df5d6d00f2d1534.pa(…):   0%|          | 0.00/828M [00:00<?, ?B/s]"
      ]
     },
     "metadata": {},
     "output_type": "display_data"
    },
    {
     "data": {
      "application/vnd.jupyter.widget-view+json": {
       "model_id": "88b544a1681b41098eda9bc23c9fdef0",
       "version_major": 2,
       "version_minor": 0
      },
      "text/plain": [
       "train-01039-of-01106-9b91db349ec2b4ed.pa(…):   0%|          | 0.00/855M [00:00<?, ?B/s]"
      ]
     },
     "metadata": {},
     "output_type": "display_data"
    },
    {
     "data": {
      "application/vnd.jupyter.widget-view+json": {
       "model_id": "72222ce9e0654b149f8e4fd123d8f7fd",
       "version_major": 2,
       "version_minor": 0
      },
      "text/plain": [
       "train-01040-of-01106-d70a9e03380f53ab.pa(…):   0%|          | 0.00/829M [00:00<?, ?B/s]"
      ]
     },
     "metadata": {},
     "output_type": "display_data"
    },
    {
     "data": {
      "application/vnd.jupyter.widget-view+json": {
       "model_id": "c8607545117e487b8dd81f6d2e5c6e13",
       "version_major": 2,
       "version_minor": 0
      },
      "text/plain": [
       "train-01041-of-01106-bf43075c9ceac340.pa(…):   0%|          | 0.00/826M [00:00<?, ?B/s]"
      ]
     },
     "metadata": {},
     "output_type": "display_data"
    },
    {
     "data": {
      "application/vnd.jupyter.widget-view+json": {
       "model_id": "f08d588767b34306874971eecb0dd82f",
       "version_major": 2,
       "version_minor": 0
      },
      "text/plain": [
       "train-01042-of-01106-74559bf34a60a128.pa(…):   0%|          | 0.00/816M [00:00<?, ?B/s]"
      ]
     },
     "metadata": {},
     "output_type": "display_data"
    },
    {
     "data": {
      "application/vnd.jupyter.widget-view+json": {
       "model_id": "799eadc9b3a14b3085b9cbbf6ac88010",
       "version_major": 2,
       "version_minor": 0
      },
      "text/plain": [
       "train-01043-of-01106-5e6376dfc08ec333.pa(…):   0%|          | 0.00/850M [00:00<?, ?B/s]"
      ]
     },
     "metadata": {},
     "output_type": "display_data"
    },
    {
     "data": {
      "application/vnd.jupyter.widget-view+json": {
       "model_id": "f5a404b199354c1798e1ee51e3d936ef",
       "version_major": 2,
       "version_minor": 0
      },
      "text/plain": [
       "train-01044-of-01106-31c024272e009fc3.pa(…):   0%|          | 0.00/809M [00:00<?, ?B/s]"
      ]
     },
     "metadata": {},
     "output_type": "display_data"
    },
    {
     "data": {
      "application/vnd.jupyter.widget-view+json": {
       "model_id": "f71bd2d8e41147c3bb4d98dc3f375172",
       "version_major": 2,
       "version_minor": 0
      },
      "text/plain": [
       "train-01045-of-01106-3ad493a969d5ae17.pa(…):   0%|          | 0.00/796M [00:00<?, ?B/s]"
      ]
     },
     "metadata": {},
     "output_type": "display_data"
    },
    {
     "data": {
      "application/vnd.jupyter.widget-view+json": {
       "model_id": "8d6fad095d684e0cb0cb8d3db7e4c6df",
       "version_major": 2,
       "version_minor": 0
      },
      "text/plain": [
       "train-01046-of-01106-c354ca7780988165.pa(…):   0%|          | 0.00/821M [00:00<?, ?B/s]"
      ]
     },
     "metadata": {},
     "output_type": "display_data"
    },
    {
     "data": {
      "application/vnd.jupyter.widget-view+json": {
       "model_id": "ec34b61636bc4f5883366fc31c197f64",
       "version_major": 2,
       "version_minor": 0
      },
      "text/plain": [
       "train-01047-of-01106-1a18bd2c341db35a.pa(…):   0%|          | 0.00/851M [00:00<?, ?B/s]"
      ]
     },
     "metadata": {},
     "output_type": "display_data"
    },
    {
     "data": {
      "application/vnd.jupyter.widget-view+json": {
       "model_id": "4ac0d16531bb4d719a8b84443acba288",
       "version_major": 2,
       "version_minor": 0
      },
      "text/plain": [
       "train-01048-of-01106-4631c10072c07e88.pa(…):   0%|          | 0.00/810M [00:00<?, ?B/s]"
      ]
     },
     "metadata": {},
     "output_type": "display_data"
    },
    {
     "data": {
      "application/vnd.jupyter.widget-view+json": {
       "model_id": "bdd98a7f3d2d4111a93aa4d9c997f338",
       "version_major": 2,
       "version_minor": 0
      },
      "text/plain": [
       "train-01049-of-01106-00de846591232fe6.pa(…):   0%|          | 0.00/862M [00:00<?, ?B/s]"
      ]
     },
     "metadata": {},
     "output_type": "display_data"
    },
    {
     "data": {
      "application/vnd.jupyter.widget-view+json": {
       "model_id": "503c478522b54dc0bf619b5adf22d189",
       "version_major": 2,
       "version_minor": 0
      },
      "text/plain": [
       "train-01050-of-01106-4a6f0541baafa01a.pa(…):   0%|          | 0.00/857M [00:00<?, ?B/s]"
      ]
     },
     "metadata": {},
     "output_type": "display_data"
    },
    {
     "data": {
      "application/vnd.jupyter.widget-view+json": {
       "model_id": "594cc15ea3e1436bb5d840a787d31b24",
       "version_major": 2,
       "version_minor": 0
      },
      "text/plain": [
       "train-01051-of-01106-cada479aa4d59067.pa(…):   0%|          | 0.00/847M [00:00<?, ?B/s]"
      ]
     },
     "metadata": {},
     "output_type": "display_data"
    },
    {
     "data": {
      "application/vnd.jupyter.widget-view+json": {
       "model_id": "e77521315070451ba36b3b7f698262d9",
       "version_major": 2,
       "version_minor": 0
      },
      "text/plain": [
       "train-01052-of-01106-2b9d497bf2c2a92c.pa(…):   0%|          | 0.00/845M [00:00<?, ?B/s]"
      ]
     },
     "metadata": {},
     "output_type": "display_data"
    },
    {
     "data": {
      "application/vnd.jupyter.widget-view+json": {
       "model_id": "178bc5dedfe24305987d0c677bdb180c",
       "version_major": 2,
       "version_minor": 0
      },
      "text/plain": [
       "train-01053-of-01106-ee3d63cfe514806f.pa(…):   0%|          | 0.00/853M [00:00<?, ?B/s]"
      ]
     },
     "metadata": {},
     "output_type": "display_data"
    },
    {
     "data": {
      "application/vnd.jupyter.widget-view+json": {
       "model_id": "bc21df3adeb741d9882503fb636a69e5",
       "version_major": 2,
       "version_minor": 0
      },
      "text/plain": [
       "train-01054-of-01106-ad1e513276cf92dc.pa(…):   0%|          | 0.00/785M [00:00<?, ?B/s]"
      ]
     },
     "metadata": {},
     "output_type": "display_data"
    },
    {
     "data": {
      "application/vnd.jupyter.widget-view+json": {
       "model_id": "754f59ad1df34d2590374d6119ae4c8e",
       "version_major": 2,
       "version_minor": 0
      },
      "text/plain": [
       "train-01055-of-01106-1b230f1dcf09c6ad.pa(…):   0%|          | 0.00/841M [00:00<?, ?B/s]"
      ]
     },
     "metadata": {},
     "output_type": "display_data"
    },
    {
     "data": {
      "application/vnd.jupyter.widget-view+json": {
       "model_id": "6116f16b666d462180d113d3276ae70b",
       "version_major": 2,
       "version_minor": 0
      },
      "text/plain": [
       "train-01056-of-01106-738df2f5c460d192.pa(…):   0%|          | 0.00/875M [00:00<?, ?B/s]"
      ]
     },
     "metadata": {},
     "output_type": "display_data"
    },
    {
     "data": {
      "application/vnd.jupyter.widget-view+json": {
       "model_id": "a194511d793649e083eb3f294b2f08a1",
       "version_major": 2,
       "version_minor": 0
      },
      "text/plain": [
       "train-01057-of-01106-0c2acf094af15f94.pa(…):   0%|          | 0.00/844M [00:00<?, ?B/s]"
      ]
     },
     "metadata": {},
     "output_type": "display_data"
    },
    {
     "data": {
      "application/vnd.jupyter.widget-view+json": {
       "model_id": "8b677d23611149878ad11925a359c398",
       "version_major": 2,
       "version_minor": 0
      },
      "text/plain": [
       "train-01058-of-01106-f63ced28c6994973.pa(…):   0%|          | 0.00/843M [00:00<?, ?B/s]"
      ]
     },
     "metadata": {},
     "output_type": "display_data"
    },
    {
     "data": {
      "application/vnd.jupyter.widget-view+json": {
       "model_id": "8d721bdc79c048e8a524f42108331b3c",
       "version_major": 2,
       "version_minor": 0
      },
      "text/plain": [
       "train-01059-of-01106-4bb469e6a4bbc3b6.pa(…):   0%|          | 0.00/839M [00:00<?, ?B/s]"
      ]
     },
     "metadata": {},
     "output_type": "display_data"
    },
    {
     "data": {
      "application/vnd.jupyter.widget-view+json": {
       "model_id": "950fd523036040af9478b19aa3206d75",
       "version_major": 2,
       "version_minor": 0
      },
      "text/plain": [
       "train-01060-of-01106-ffd4b57944cf30b6.pa(…):   0%|          | 0.00/775M [00:00<?, ?B/s]"
      ]
     },
     "metadata": {},
     "output_type": "display_data"
    },
    {
     "data": {
      "application/vnd.jupyter.widget-view+json": {
       "model_id": "bad37e4b9fae4a9a90f885a1fd0446cb",
       "version_major": 2,
       "version_minor": 0
      },
      "text/plain": [
       "train-01061-of-01106-ff00de08705ca893.pa(…):   0%|          | 0.00/805M [00:00<?, ?B/s]"
      ]
     },
     "metadata": {},
     "output_type": "display_data"
    },
    {
     "data": {
      "application/vnd.jupyter.widget-view+json": {
       "model_id": "6c95bdb691184bbda6a5e7503f0da020",
       "version_major": 2,
       "version_minor": 0
      },
      "text/plain": [
       "train-01062-of-01106-938d85bdf1633f37.pa(…):   0%|          | 0.00/857M [00:00<?, ?B/s]"
      ]
     },
     "metadata": {},
     "output_type": "display_data"
    },
    {
     "data": {
      "application/vnd.jupyter.widget-view+json": {
       "model_id": "0ddd66e022a84551b87b4a39b9e7aee2",
       "version_major": 2,
       "version_minor": 0
      },
      "text/plain": [
       "train-01063-of-01106-b0ab74819a3f769c.pa(…):   0%|          | 0.00/851M [00:00<?, ?B/s]"
      ]
     },
     "metadata": {},
     "output_type": "display_data"
    },
    {
     "data": {
      "application/vnd.jupyter.widget-view+json": {
       "model_id": "ddadd13cf0534c7ea925a8205a11a336",
       "version_major": 2,
       "version_minor": 0
      },
      "text/plain": [
       "train-01064-of-01106-5e7495afbf0f9e64.pa(…):   0%|          | 0.00/845M [00:00<?, ?B/s]"
      ]
     },
     "metadata": {},
     "output_type": "display_data"
    },
    {
     "data": {
      "application/vnd.jupyter.widget-view+json": {
       "model_id": "c3f89503b8354be0aeb3ef97e54197a7",
       "version_major": 2,
       "version_minor": 0
      },
      "text/plain": [
       "train-01065-of-01106-030f85579788a96c.pa(…):   0%|          | 0.00/788M [00:00<?, ?B/s]"
      ]
     },
     "metadata": {},
     "output_type": "display_data"
    },
    {
     "data": {
      "application/vnd.jupyter.widget-view+json": {
       "model_id": "81f875dcc9a4463c8fb526320e8b8584",
       "version_major": 2,
       "version_minor": 0
      },
      "text/plain": [
       "train-01066-of-01106-ade894cafa51a0e3.pa(…):   0%|          | 0.00/817M [00:00<?, ?B/s]"
      ]
     },
     "metadata": {},
     "output_type": "display_data"
    },
    {
     "data": {
      "application/vnd.jupyter.widget-view+json": {
       "model_id": "e503ddc813ec46e58e3209da650daa7a",
       "version_major": 2,
       "version_minor": 0
      },
      "text/plain": [
       "train-01067-of-01106-43fd19f2e57be9ea.pa(…):   0%|          | 0.00/814M [00:00<?, ?B/s]"
      ]
     },
     "metadata": {},
     "output_type": "display_data"
    },
    {
     "data": {
      "application/vnd.jupyter.widget-view+json": {
       "model_id": "8e9eb1a6110e434c9e5ffb13bce0817f",
       "version_major": 2,
       "version_minor": 0
      },
      "text/plain": [
       "train-01068-of-01106-6b5240b4b942c6e6.pa(…):   0%|          | 0.00/876M [00:00<?, ?B/s]"
      ]
     },
     "metadata": {},
     "output_type": "display_data"
    },
    {
     "data": {
      "application/vnd.jupyter.widget-view+json": {
       "model_id": "0a1ae19f10e549e99cfb0c66bf8e7dcf",
       "version_major": 2,
       "version_minor": 0
      },
      "text/plain": [
       "train-01069-of-01106-6714303f1a2fb14c.pa(…):   0%|          | 0.00/820M [00:00<?, ?B/s]"
      ]
     },
     "metadata": {},
     "output_type": "display_data"
    },
    {
     "data": {
      "application/vnd.jupyter.widget-view+json": {
       "model_id": "809e5aeafc104f9db85b7dbb4498da70",
       "version_major": 2,
       "version_minor": 0
      },
      "text/plain": [
       "train-01070-of-01106-4ab88626abe0db85.pa(…):   0%|          | 0.00/868M [00:00<?, ?B/s]"
      ]
     },
     "metadata": {},
     "output_type": "display_data"
    },
    {
     "data": {
      "application/vnd.jupyter.widget-view+json": {
       "model_id": "c54a385cd48444549d708bdac7150f2a",
       "version_major": 2,
       "version_minor": 0
      },
      "text/plain": [
       "train-01071-of-01106-c15a72883965d064.pa(…):   0%|          | 0.00/833M [00:00<?, ?B/s]"
      ]
     },
     "metadata": {},
     "output_type": "display_data"
    },
    {
     "data": {
      "application/vnd.jupyter.widget-view+json": {
       "model_id": "0b974803e8f34b71bea4fadafbeefff9",
       "version_major": 2,
       "version_minor": 0
      },
      "text/plain": [
       "train-01072-of-01106-778370daa44e0166.pa(…):   0%|          | 0.00/841M [00:00<?, ?B/s]"
      ]
     },
     "metadata": {},
     "output_type": "display_data"
    },
    {
     "data": {
      "application/vnd.jupyter.widget-view+json": {
       "model_id": "736a5548054847ae85c71aafcd95e263",
       "version_major": 2,
       "version_minor": 0
      },
      "text/plain": [
       "train-01073-of-01106-e5428f21e64be471.pa(…):   0%|          | 0.00/786M [00:00<?, ?B/s]"
      ]
     },
     "metadata": {},
     "output_type": "display_data"
    },
    {
     "data": {
      "application/vnd.jupyter.widget-view+json": {
       "model_id": "2d2e01caa02b495da2f2686255873026",
       "version_major": 2,
       "version_minor": 0
      },
      "text/plain": [
       "train-01074-of-01106-602405dc48119ec7.pa(…):   0%|          | 0.00/806M [00:00<?, ?B/s]"
      ]
     },
     "metadata": {},
     "output_type": "display_data"
    },
    {
     "data": {
      "application/vnd.jupyter.widget-view+json": {
       "model_id": "034f45a951f8451eaa5f398ec2d19a06",
       "version_major": 2,
       "version_minor": 0
      },
      "text/plain": [
       "train-01075-of-01106-e861e76bd47f510a.pa(…):   0%|          | 0.00/808M [00:00<?, ?B/s]"
      ]
     },
     "metadata": {},
     "output_type": "display_data"
    },
    {
     "data": {
      "application/vnd.jupyter.widget-view+json": {
       "model_id": "74f01e8c170a4afc93c5d3de01873b82",
       "version_major": 2,
       "version_minor": 0
      },
      "text/plain": [
       "train-01076-of-01106-fc35de96c2a07e7b.pa(…):   0%|          | 0.00/819M [00:00<?, ?B/s]"
      ]
     },
     "metadata": {},
     "output_type": "display_data"
    },
    {
     "data": {
      "application/vnd.jupyter.widget-view+json": {
       "model_id": "44138d4bb35f48d397503a04b56dd3fb",
       "version_major": 2,
       "version_minor": 0
      },
      "text/plain": [
       "train-01077-of-01106-647ab5fe52e54fda.pa(…):   0%|          | 0.00/812M [00:00<?, ?B/s]"
      ]
     },
     "metadata": {},
     "output_type": "display_data"
    },
    {
     "data": {
      "application/vnd.jupyter.widget-view+json": {
       "model_id": "65cfd804291342e9b4f3ad82eb4e65ac",
       "version_major": 2,
       "version_minor": 0
      },
      "text/plain": [
       "train-01078-of-01106-0f3d629667954fef.pa(…):   0%|          | 0.00/851M [00:00<?, ?B/s]"
      ]
     },
     "metadata": {},
     "output_type": "display_data"
    },
    {
     "data": {
      "application/vnd.jupyter.widget-view+json": {
       "model_id": "517584ca50b64bfb84132a5fa0ea3e8f",
       "version_major": 2,
       "version_minor": 0
      },
      "text/plain": [
       "train-01079-of-01106-ecc697cc2212a825.pa(…):   0%|          | 0.00/815M [00:00<?, ?B/s]"
      ]
     },
     "metadata": {},
     "output_type": "display_data"
    },
    {
     "data": {
      "application/vnd.jupyter.widget-view+json": {
       "model_id": "ea28c1fec2624668a197e77922ad185e",
       "version_major": 2,
       "version_minor": 0
      },
      "text/plain": [
       "train-01080-of-01106-62269c7510550b91.pa(…):   0%|          | 0.00/839M [00:00<?, ?B/s]"
      ]
     },
     "metadata": {},
     "output_type": "display_data"
    },
    {
     "data": {
      "application/vnd.jupyter.widget-view+json": {
       "model_id": "129c6730ebf94ea2b6ecd8b7ebaeaffa",
       "version_major": 2,
       "version_minor": 0
      },
      "text/plain": [
       "train-01081-of-01106-fb35b9134eee9c05.pa(…):   0%|          | 0.00/811M [00:00<?, ?B/s]"
      ]
     },
     "metadata": {},
     "output_type": "display_data"
    },
    {
     "data": {
      "application/vnd.jupyter.widget-view+json": {
       "model_id": "8626b7ad3e494feeb6fd19f2202284c4",
       "version_major": 2,
       "version_minor": 0
      },
      "text/plain": [
       "train-01082-of-01106-231ec5cf674a6dd4.pa(…):   0%|          | 0.00/823M [00:00<?, ?B/s]"
      ]
     },
     "metadata": {},
     "output_type": "display_data"
    },
    {
     "data": {
      "application/vnd.jupyter.widget-view+json": {
       "model_id": "7a90b230c1c645e893a6f1baf12577a8",
       "version_major": 2,
       "version_minor": 0
      },
      "text/plain": [
       "train-01083-of-01106-2326a518e6c020d1.pa(…):   0%|          | 0.00/828M [00:00<?, ?B/s]"
      ]
     },
     "metadata": {},
     "output_type": "display_data"
    },
    {
     "data": {
      "application/vnd.jupyter.widget-view+json": {
       "model_id": "ef0daa457f3c4138b6c620ee13c3730a",
       "version_major": 2,
       "version_minor": 0
      },
      "text/plain": [
       "train-01084-of-01106-82fc10c4deecaa02.pa(…):   0%|          | 0.00/778M [00:00<?, ?B/s]"
      ]
     },
     "metadata": {},
     "output_type": "display_data"
    },
    {
     "data": {
      "application/vnd.jupyter.widget-view+json": {
       "model_id": "f120ffb0e3ff4852a277f9cd773059ed",
       "version_major": 2,
       "version_minor": 0
      },
      "text/plain": [
       "train-01085-of-01106-432172c66250158f.pa(…):   0%|          | 0.00/850M [00:00<?, ?B/s]"
      ]
     },
     "metadata": {},
     "output_type": "display_data"
    },
    {
     "data": {
      "application/vnd.jupyter.widget-view+json": {
       "model_id": "90608eb629ee4c4eb71af4b252db4f8a",
       "version_major": 2,
       "version_minor": 0
      },
      "text/plain": [
       "train-01086-of-01106-a2aff04465a72d1f.pa(…):   0%|          | 0.00/809M [00:00<?, ?B/s]"
      ]
     },
     "metadata": {},
     "output_type": "display_data"
    },
    {
     "data": {
      "application/vnd.jupyter.widget-view+json": {
       "model_id": "cf5e526af6ea41b89f89f0e850ebeb74",
       "version_major": 2,
       "version_minor": 0
      },
      "text/plain": [
       "train-01087-of-01106-17db527e2ee2e610.pa(…):   0%|          | 0.00/853M [00:00<?, ?B/s]"
      ]
     },
     "metadata": {},
     "output_type": "display_data"
    },
    {
     "data": {
      "application/vnd.jupyter.widget-view+json": {
       "model_id": "c33d6a9797024f82a5ea6e3e1176edae",
       "version_major": 2,
       "version_minor": 0
      },
      "text/plain": [
       "train-01088-of-01106-8497ddc39a9c21f1.pa(…):   0%|          | 0.00/847M [00:00<?, ?B/s]"
      ]
     },
     "metadata": {},
     "output_type": "display_data"
    },
    {
     "data": {
      "application/vnd.jupyter.widget-view+json": {
       "model_id": "74c6f2904527485a9f2614a5928e6ab0",
       "version_major": 2,
       "version_minor": 0
      },
      "text/plain": [
       "train-01089-of-01106-15c790894d11d351.pa(…):   0%|          | 0.00/823M [00:00<?, ?B/s]"
      ]
     },
     "metadata": {},
     "output_type": "display_data"
    },
    {
     "data": {
      "application/vnd.jupyter.widget-view+json": {
       "model_id": "9dc0b4ece3a4465ea3027d34a194d944",
       "version_major": 2,
       "version_minor": 0
      },
      "text/plain": [
       "train-01090-of-01106-ebed5df06a15b5ee.pa(…):   0%|          | 0.00/825M [00:00<?, ?B/s]"
      ]
     },
     "metadata": {},
     "output_type": "display_data"
    },
    {
     "data": {
      "application/vnd.jupyter.widget-view+json": {
       "model_id": "a187505649584823bea9b2acab2fbeb3",
       "version_major": 2,
       "version_minor": 0
      },
      "text/plain": [
       "train-01091-of-01106-0c3fff066233a1c5.pa(…):   0%|          | 0.00/810M [00:00<?, ?B/s]"
      ]
     },
     "metadata": {},
     "output_type": "display_data"
    },
    {
     "data": {
      "application/vnd.jupyter.widget-view+json": {
       "model_id": "48a2411ca753475ba85f411320de8eb5",
       "version_major": 2,
       "version_minor": 0
      },
      "text/plain": [
       "train-01092-of-01106-c1b2d63a97b65176.pa(…):   0%|          | 0.00/816M [00:00<?, ?B/s]"
      ]
     },
     "metadata": {},
     "output_type": "display_data"
    },
    {
     "data": {
      "application/vnd.jupyter.widget-view+json": {
       "model_id": "9e83b765279b47458a797dff78716277",
       "version_major": 2,
       "version_minor": 0
      },
      "text/plain": [
       "train-01093-of-01106-c29e63d759d18300.pa(…):   0%|          | 0.00/818M [00:00<?, ?B/s]"
      ]
     },
     "metadata": {},
     "output_type": "display_data"
    },
    {
     "data": {
      "application/vnd.jupyter.widget-view+json": {
       "model_id": "a679bc7e2d544dc188fcd29d4b525bd5",
       "version_major": 2,
       "version_minor": 0
      },
      "text/plain": [
       "train-01094-of-01106-a460f459bccbe290.pa(…):   0%|          | 0.00/830M [00:00<?, ?B/s]"
      ]
     },
     "metadata": {},
     "output_type": "display_data"
    },
    {
     "data": {
      "application/vnd.jupyter.widget-view+json": {
       "model_id": "2b414ce3a89346239e5bd2a00054d2f3",
       "version_major": 2,
       "version_minor": 0
      },
      "text/plain": [
       "train-01095-of-01106-ae215f37750a7d7a.pa(…):   0%|          | 0.00/810M [00:00<?, ?B/s]"
      ]
     },
     "metadata": {},
     "output_type": "display_data"
    },
    {
     "data": {
      "application/vnd.jupyter.widget-view+json": {
       "model_id": "d50ff6348a9c452496d21d0218ff9cf0",
       "version_major": 2,
       "version_minor": 0
      },
      "text/plain": [
       "train-01096-of-01106-20615d0ab69454e9.pa(…):   0%|          | 0.00/806M [00:00<?, ?B/s]"
      ]
     },
     "metadata": {},
     "output_type": "display_data"
    },
    {
     "data": {
      "application/vnd.jupyter.widget-view+json": {
       "model_id": "62d734a2d7174ec895dd40935d89d95b",
       "version_major": 2,
       "version_minor": 0
      },
      "text/plain": [
       "train-01097-of-01106-11d6b2a6cb4c8315.pa(…):   0%|          | 0.00/857M [00:00<?, ?B/s]"
      ]
     },
     "metadata": {},
     "output_type": "display_data"
    },
    {
     "data": {
      "application/vnd.jupyter.widget-view+json": {
       "model_id": "68df81f5fd03497abc63ba602d1d5716",
       "version_major": 2,
       "version_minor": 0
      },
      "text/plain": [
       "train-01098-of-01106-8d566934b4f8800e.pa(…):   0%|          | 0.00/840M [00:00<?, ?B/s]"
      ]
     },
     "metadata": {},
     "output_type": "display_data"
    },
    {
     "data": {
      "application/vnd.jupyter.widget-view+json": {
       "model_id": "800cc4fb3bcc446897a4f35ac07d236a",
       "version_major": 2,
       "version_minor": 0
      },
      "text/plain": [
       "train-01099-of-01106-25102e53d0ea759b.pa(…):   0%|          | 0.00/787M [00:00<?, ?B/s]"
      ]
     },
     "metadata": {},
     "output_type": "display_data"
    },
    {
     "data": {
      "application/vnd.jupyter.widget-view+json": {
       "model_id": "c6545895b505420b80a2937c043c0c3c",
       "version_major": 2,
       "version_minor": 0
      },
      "text/plain": [
       "train-01100-of-01106-79bd31c50996a6fa.pa(…):   0%|          | 0.00/797M [00:00<?, ?B/s]"
      ]
     },
     "metadata": {},
     "output_type": "display_data"
    },
    {
     "data": {
      "application/vnd.jupyter.widget-view+json": {
       "model_id": "3433d17707e642be83689919392478df",
       "version_major": 2,
       "version_minor": 0
      },
      "text/plain": [
       "train-01101-of-01106-c86036b358a4fcc0.pa(…):   0%|          | 0.00/804M [00:00<?, ?B/s]"
      ]
     },
     "metadata": {},
     "output_type": "display_data"
    },
    {
     "data": {
      "application/vnd.jupyter.widget-view+json": {
       "model_id": "a91d376b041c46ccb36be1901d384e04",
       "version_major": 2,
       "version_minor": 0
      },
      "text/plain": [
       "train-01102-of-01106-c9714fb20a4c5cfb.pa(…):   0%|          | 0.00/809M [00:00<?, ?B/s]"
      ]
     },
     "metadata": {},
     "output_type": "display_data"
    },
    {
     "data": {
      "application/vnd.jupyter.widget-view+json": {
       "model_id": "72f00fa9d3cb47b4ba92ee8118229150",
       "version_major": 2,
       "version_minor": 0
      },
      "text/plain": [
       "train-01103-of-01106-ba4e6ade3a4321bd.pa(…):   0%|          | 0.00/815M [00:00<?, ?B/s]"
      ]
     },
     "metadata": {},
     "output_type": "display_data"
    },
    {
     "data": {
      "application/vnd.jupyter.widget-view+json": {
       "model_id": "0a8bbe9a50394f46b3cefc1a3353424c",
       "version_major": 2,
       "version_minor": 0
      },
      "text/plain": [
       "train-01104-of-01106-d0b86c1328b55c9c.pa(…):   0%|          | 0.00/853M [00:00<?, ?B/s]"
      ]
     },
     "metadata": {},
     "output_type": "display_data"
    },
    {
     "data": {
      "application/vnd.jupyter.widget-view+json": {
       "model_id": "3f5b2df0ddd84bd8bb92749e59144202",
       "version_major": 2,
       "version_minor": 0
      },
      "text/plain": [
       "train-01105-of-01106-6994aa69c3d83d12.pa(…):   0%|          | 0.00/813M [00:00<?, ?B/s]"
      ]
     },
     "metadata": {},
     "output_type": "display_data"
    },
    {
     "data": {
      "application/vnd.jupyter.widget-view+json": {
       "model_id": "634b290bda4d43daa68671273a6420fe",
       "version_major": 2,
       "version_minor": 0
      },
      "text/plain": [
       "Generating train split: 0 examples [00:00, ? examples/s]"
      ]
     },
     "metadata": {},
     "output_type": "display_data"
    }
   ],
   "source": [
    "dataset_name = \"HuggingFaceM4/DoclingMatix\"\n",
    "dataset = load_dataset(dataset_name, split=\"train[:100]\")"
   ]
  },
  {
   "cell_type": "code",
   "execution_count": 9,
   "id": "323c87fc-597c-4ee7-9181-27c9a101299e",
   "metadata": {
    "scrolled": true
   },
   "outputs": [
    {
     "name": "stdout",
     "output_type": "stream",
     "text": [
      "{'images': [<PIL.PngImagePlugin.PngImageFile image mode=RGB size=1241x1754 at 0x7B5401BC6360>,\n",
      "            <PIL.PngImagePlugin.PngImageFile image mode=RGB size=1241x1754 at 0x7B54018EE570>,\n",
      "            <PIL.PngImagePlugin.PngImageFile image mode=RGB size=1241x1754 at 0x7B54018EE0C0>],\n",
      " 'texts': [{'user': 'What is the purpose of the Confirmation Statement '\n",
      "                    'mentioned in the document?',\n",
      "            'assistant': 'The purpose of the Confirmation Statement is to '\n",
      "                         'confirm that all information required to be '\n",
      "                         'delivered by the company to the registrar in '\n",
      "                         'relation to the confirmation period concerned has '\n",
      "                         'been delivered or is being delivered at the same '\n",
      "                         'time as the confirmation statement.',\n",
      "            'source': 'PDFA key: 244'},\n",
      "           {'user': 'When was the filing received as per the document?',\n",
      "            'assistant': 'The filing was received for filing in Electronic '\n",
      "                         'Format on the 23/03/2021.',\n",
      "            'source': 'PDFA key: 244'},\n",
      "           {'user': 'What is the company name and company number provided in '\n",
      "                    'the document?',\n",
      "            'assistant': 'The company name is HERBERT ULRICH FRICK LTD. and '\n",
      "                         'the company number is 07101641.',\n",
      "            'source': 'PDFA key: 244'},\n",
      "           {'user': 'When was the last confirmation date provided in the '\n",
      "                    'document?',\n",
      "            'assistant': 'The last confirmation date provided in the document '\n",
      "                         'is 11/12/2020.',\n",
      "            'source': 'PDFA key: 244'},\n",
      "           {'user': 'Who is authorised to authenticate the form?',\n",
      "            'assistant': 'The form was authenticated by one of the following: '\n",
      "                         'Director, Secretary, Person Authorised, Charity '\n",
      "                         'Commission Receiver and Manager, CIC Manager, '\n",
      "                         'Judicial Factor.',\n",
      "            'source': 'PDFA key: 244'},\n",
      "           {'user': 'What is the purpose of the Confirmation Statement '\n",
      "                    'document?',\n",
      "            'assistant': 'The Confirmation Statement is a document that '\n",
      "                         'confirms all required information has been delivered '\n",
      "                         'to the registrar or is being delivered at the same '\n",
      "                         'time as the statement.',\n",
      "            'source': 'PDFA key: 244'},\n",
      "           {'user': 'When was the document for Company Number 07101641 '\n",
      "                    'received for filing in Electronic Format?',\n",
      "            'assistant': 'The document was received for filing in Electronic '\n",
      "                         'Format on 23/03/2021.',\n",
      "            'source': 'PDFA key: 244'},\n",
      "           {'user': 'What is the name and company number of the company '\n",
      "                    'associated with the provided Confirmation Statement?',\n",
      "            'assistant': 'The company name is Herbert Ullrich Frick Ltd. and '\n",
      "                         'the company number is 07101641.',\n",
      "            'source': 'PDFA key: 244'},\n",
      "           {'user': 'When was the most recent Confirmation Statement date '\n",
      "                    'before the date of the document?',\n",
      "            'assistant': 'The most recent Confirmation Statement date before '\n",
      "                         'the date of the document was 11/12/2019.',\n",
      "            'source': 'PDFA key: 244'},\n",
      "           {'user': 'Who is permitted to authorize the Confirmation Statement '\n",
      "                    'document?',\n",
      "            'assistant': 'The Confirmation Statement document can be '\n",
      "                         'authorized by a Director, Secretary, Person '\n",
      "                         'Authorized, Charity Commission Receiver and Manager, '\n",
      "                         'CIC Manager, or Judicial Factor.',\n",
      "            'source': 'PDFA key: 244'},\n",
      "           {'user': 'What does the statement \"All information required to be '\n",
      "                    'delivered by the company to the registrar in relation to '\n",
      "                    'the confirmation period concerned either has been '\n",
      "                    'delivered or is being delivered at the same time as the '\n",
      "                    'confirmation statement\" imply about the company\\'s '\n",
      "                    'compliance?',\n",
      "            'assistant': 'The statement implies that the company is in '\n",
      "                         'compliance with the requirement to deliver all '\n",
      "                         'necessary information to the registrar for the '\n",
      "                         'specified confirmation period.',\n",
      "            'source': 'PDFA key: 244'},\n",
      "           {'user': 'What type of document was electronically filed for '\n",
      "                    'Company Number 07101641?',\n",
      "            'assistant': 'The electronically filed document for Company Number '\n",
      "                         '07101641 was a Confirmation Statement.',\n",
      "            'source': 'PDFA key: 244'},\n",
      "           {'user': 'Convert this page to docling.',\n",
      "            'assistant': '<doctag><picture><loc_26><loc_9><loc_151><loc_39></picture>\\n'\n",
      "                         '<picture><loc_344><loc_11><loc_470><loc_36></picture>\\n'\n",
      "                         '<section_header_level_1><loc_265><loc_48><loc_408><loc_56>Confirmation '\n",
      "                         'Statement</section_header_level_1>\\n'\n",
      "                         '<text><loc_24><loc_88><loc_99><loc_95>Company '\n",
      "                         'Name:</text>\\n'\n",
      "                         '<text><loc_119><loc_88><loc_267><loc_95>HERBERT '\n",
      "                         'ULRICH FRICK LTD.</text>\\n'\n",
      "                         '<text><loc_24><loc_98><loc_108><loc_105>Company '\n",
      "                         'Number:</text>\\n'\n",
      "                         '<text><loc_119><loc_98><loc_164><loc_105>07101641</text>\\n'\n",
      "                         '<text><loc_24><loc_98><loc_108><loc_105>Company '\n",
      "                         'Number:</text>\\n'\n",
      "                         '<text><loc_119><loc_98><loc_164><loc_105>07101641</text>\\n'\n",
      "                         '<text><loc_24><loc_130><loc_283><loc_137>Received '\n",
      "                         'for filing in Electronic Format on the: '\n",
      "                         '23/03/2021</text>\\n'\n",
      "                         '<text><loc_310><loc_130><loc_353><loc_135>XA0ULB9D</text>\\n'\n",
      "                         '<text><loc_24><loc_167><loc_99><loc_174>Company '\n",
      "                         'Name:</text>\\n'\n",
      "                         '<text><loc_135><loc_167><loc_283><loc_174>HERBERT '\n",
      "                         'ULRICH FRICK LTD.</text>\\n'\n",
      "                         '<text><loc_24><loc_187><loc_108><loc_194>Company '\n",
      "                         'Number:</text>\\n'\n",
      "                         '<text><loc_135><loc_187><loc_180><loc_194>07101641</text>\\n'\n",
      "                         '<text><loc_24><loc_207><loc_84><loc_214>Confirmation</text>\\n'\n",
      "                         '<text><loc_24><loc_220><loc_95><loc_226>Statement '\n",
      "                         'date:</text>\\n'\n",
      "                         '<text><loc_135><loc_207><loc_185><loc_214>11/12/2020</text>\\n'\n",
      "                         '<page_footer><loc_24><loc_478><loc_231><loc_483>Electronically '\n",
      "                         'filed document for Company Number:</page_footer>\\n'\n",
      "                         '<page_footer><loc_357><loc_478><loc_395><loc_483>07101641</page_footer>\\n'\n",
      "                         '<picture><loc_308><loc_104><loc_465><loc_128></picture>\\n'\n",
      "                         '<page_break>\\n'\n",
      "                         '<section_header_level_1><loc_161><loc_35><loc_333><loc_46>Confirmation '\n",
      "                         'Statement</section_header_level_1>\\n'\n",
      "                         '<text><loc_24><loc_56><loc_465><loc_80>I confirm '\n",
      "                         'that all information required to be delivered by the '\n",
      "                         'company to the registrar in relation to the '\n",
      "                         'confirmation period concerned either has been '\n",
      "                         'delivered or is being delivered at the same time as '\n",
      "                         'the confirmation statement</text>\\n'\n",
      "                         '<page_footer><loc_24><loc_478><loc_231><loc_483>Electronically '\n",
      "                         'filed document for Company Number:</page_footer>\\n'\n",
      "                         '<page_footer><loc_357><loc_478><loc_395><loc_483>07101641</page_footer>\\n'\n",
      "                         '<page_break>\\n'\n",
      "                         '<section_header_level_1><loc_198><loc_35><loc_296><loc_46>Authorisation</section_header_level_1>\\n'\n",
      "                         '<text><loc_24><loc_56><loc_85><loc_63>Authenticated</text>\\n'\n",
      "                         '<text><loc_24><loc_66><loc_242><loc_73>This form was '\n",
      "                         'authorised by one of the following:</text>\\n'\n",
      "                         '<text><loc_24><loc_77><loc_465><loc_92>Director, '\n",
      "                         'Secretary, Person Authorised, Charity Commission '\n",
      "                         'Receiver and Manager, CIC Manager, Judicial '\n",
      "                         'Factor</text>\\n'\n",
      "                         '<page_footer><loc_24><loc_478><loc_260><loc_483>End '\n",
      "                         'of Electronically filed document for Company '\n",
      "                         'Number:</page_footer>\\n'\n",
      "                         '<page_footer><loc_357><loc_478><loc_395><loc_483>07101641</page_footer>\\n'\n",
      "                         '</doctag>',\n",
      "            'source': 'PDFA key: 244'}]}\n"
     ]
    }
   ],
   "source": [
    "pprint.pp(dataset[0])"
   ]
  },
  {
   "cell_type": "code",
   "execution_count": 10,
   "id": "48951960-8766-4f89-9e44-ae736f370ad4",
   "metadata": {},
   "outputs": [
    {
     "name": "stdout",
     "output_type": "stream",
     "text": [
      "total number of fine-tunable samples: 100\n"
     ]
    }
   ],
   "source": [
    "print(f\"total number of fine-tunable samples: {len(dataset)}\")"
   ]
  },
  {
   "cell_type": "code",
   "execution_count": 11,
   "id": "4889d18f-a156-4b0e-975f-51684421aaa6",
   "metadata": {},
   "outputs": [
    {
     "data": {
      "application/vnd.jupyter.widget-view+json": {
       "model_id": "9590c4cf31d04c86867ee8a44f0bb787",
       "version_major": 2,
       "version_minor": 0
      },
      "text/plain": [
       "Map:   0%|          | 0/100 [00:00<?, ? examples/s]"
      ]
     },
     "metadata": {},
     "output_type": "display_data"
    }
   ],
   "source": [
    "def pil_to_base64(pil_img, resize_perc=0.5):\n",
    "    \"\"\"Convert a PIL image to base64-encoded PNG string.\"\"\"\n",
    "    pil_img = pil_img.resize([int(resize_perc * s) for s in pil_img.size])\n",
    "    buffer = io.BytesIO()\n",
    "    pil_img.save(buffer, format=\"PNG\")\n",
    "    return base64.b64encode(buffer.getvalue()).decode(\"utf-8\")\n",
    "\n",
    "def convert_to_messages_multimodal(row):\n",
    "    system_content = (\n",
    "        \"You are a multimodal document reasoning assistant. Given an image of a document page and an instruction \"\n",
    "        \"in natural language, your task is to generate a structured text output or answer that fully follows the instruction.\"\n",
    "        \"Process the visual content and text cues in the image, apply the instruction precisely, and then provide a concise, well-formatted result. \"\n",
    "        \"Explain briefly how you used the document image to arrive at the structured output or answer.\"\n",
    "    )\n",
    "    user_assistant_contents = row[\"texts\"]\n",
    "    images_contents = row[\"images\"]\n",
    "\n",
    "    images = []\n",
    "    if images_contents is not None:\n",
    "        if isinstance(images_contents, list):\n",
    "            for img in images_contents:\n",
    "                if hasattr(img, \"save\"):  # PIL image\n",
    "                    b64_img = pil_to_base64(img)\n",
    "                    images.append({\n",
    "                        \"type\": \"image_url\",\n",
    "                        \"image_url\": {\"url\": f\"data:image/png;base64,{b64_img}\"}\n",
    "                    })\n",
    "        else:\n",
    "            if hasattr(images_contents, \"save\"):  # PIL image\n",
    "                b64_img = pil_to_base64(images_contents)\n",
    "                images.append({\n",
    "                    \"type\": \"image_url\",\n",
    "                    \"image_url\": {\"url\": f\"data:image/png;base64,{b64_img}\"}\n",
    "                })\n",
    "                \n",
    "    messages = []\n",
    "    for u_a in user_assistant_contents:\n",
    "        user_content = u_a[\"user\"]\n",
    "        assistant_content = u_a[\"assistant\"]\n",
    "        # if you're adding the first set of conversations to the list\n",
    "        # then images need to be added with the conversation\n",
    "        if not messages:\n",
    "            messages.extend(\n",
    "                [{\"role\": \"system\", \"content\": [{\"type\": \"text\", \"text\": system_content}]},\n",
    "                {\"role\": \"user\", \"content\": images + [{\"type\": \"text\", \"text\": user_content}]},\n",
    "                {\"role\": \"assistant\", \"content\": [{\"type\": \"text\", \"text\": assistant_content}]}]\n",
    "            )\n",
    "        else:\n",
    "            messages.extend(\n",
    "                [{\"role\": \"user\", \"content\": [{\"type\": \"text\", \"text\": user_content}]},\n",
    "                {\"role\": \"assistant\", \"content\": [{\"type\": \"text\", \"text\": assistant_content}]}]\n",
    "            )\n",
    "            \n",
    "        \n",
    "\n",
    "    return {\n",
    "        \"messages\": messages\n",
    "    }\n",
    "\n",
    "dataset = dataset.map(convert_to_messages_multimodal, remove_columns=dataset.column_names)"
   ]
  },
  {
   "cell_type": "code",
   "execution_count": 12,
   "id": "7dd52a37-8bd7-4031-ad86-22e262767f93",
   "metadata": {
    "scrolled": true
   },
   "outputs": [
    {
     "data": {
      "text/plain": [
       "[{'content': [{'image_url': None,\n",
       "    'text': 'You are a multimodal document reasoning assistant. Given an image of a document page and an instruction in natural language, your task is to generate a structured text output or answer that fully follows the instruction.Process the visual content and text cues in the image, apply the instruction precisely, and then provide a concise, well-formatted result. Explain briefly how you used the document image to arrive at the structured output or answer.',\n",
       "    'type': 'text'}],\n",
       "  'role': 'system'},\n",
       " {'content': [{'image_url': {'url': 'data:image/png;base64,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'},\n",
       "    'text': None,\n",
       "    'type': 'image_url'},\n",
       "   {'image_url': {'url': 'data:image/png;base64,iVBORw0KGgoAAAANSUhEUgAAAmwAAANtCAIAAACi3LBjAACXcUlEQVR4nOz9ZXwU5/4//s9KduPurhDiAgQiRAmB4BYkuLsXKS2lxVpairu7FC0WCO4eCBZIQjwhnuxuNrub3fnfuH5n/vtJ5fRcp/T0fM/reaOPdJmduWZ2Zl6j15vHsiwDAAAA/zr+f7oBAAAA/60QogAAAJQQogAAAJQQogAAAJQQogAAAJQQogAAAJQQogAAAJQQogAAAJQQogAAAJQQogAAAJQQogAAAJQQogAAAJQQogAAAJQQogAAAJQQogAAAJQQogAAAJQQogAAAJQQogAAAJQQogAAAJQQogAAAJQQogAAAJQQogAAAJQQogAAAJQQogAAAJQQogAAAJQQogAAAJQQogAAAJQQogAAAJQQogAAAJQQogAAAJQQogAAAJQQogAAAJQQogAAAJQQogAAAJQQogAAAJQQogAAAJQQogAAAJQQogAAAJQQogAAAJQQogAAAJQQogAAAJQQogAAAJQQogAAAJQQogAAAJQQogAAAJQQogAAAJQQogAAAJQQogAAAJQQogAAAJQQogAAAJQQogAAAJQQogAAAJQQogAAAJQQogAAAJQQogAAAJQQogAAAJQQogAAAJQQogAAAJQQogAAAJQQogAAAJSE/+kGwP8EiUTy8eNHuVxuaWlpY2PD53+SozeZTFZYWMiyrK2trZGRUWNjo0aj0dXVFYlEn2Jyf5BGo2loaGBZVldXV0dH55NOq6mpqaKioqqqSiAQ2NjYmJubf9LJAQDOROHTKigomDVrVkhISGBgYNu2bX18fLp27XrhwoU/fULp6ekRERGhoaFBQUEJCQkPHz4MDw/39/fftWvXnz6tP9KYly9fkr+zsrLatGnj5+d34MCBTzrRY8eOderUqVWrVm3atAkNDfX19R04cGBGRkazwS5duvT27ds/PtrS0tITJ06wLPtntvXPJpfLT548WVNT859uCPzvYQE+mWfPnnl7e5M1jcfjCQQC8rdIJFq3bt2fOCGpVBocHMwwjFAobNWqVY8ePZ49e0amtXjx4j9xQv9UeXn5+PHjhULhsWPHyCdPnjwhLVm5cuWnm+6OHTu4xaunp8ed8jo6OmZmZpJhSktLR44cKRQKz5079wdHe/To0RYtWoSHh3+yhv8J7t69GxUV5eDgUFJS8p9uC/zPQYjCp1JTU0OCTSAQjB07Ni0t7caNGwsWLNDX12cYRl9f/9mzZ3/WtEpKSqytrRmGGT58eFNTk1KprK6uXrdu3cqVKx89evRnTeWPuHHjBkmvs2fPkk/Ky8vXrl27cuXKP3F+m6mrqyMHK15eXkeOHHnz5s39+/dHjhxJWjJgwACNRsOy7MWLF8knV69e/YNjDgkJYRgmPj7+E7X8TzFu3DiGYVxdXWtqav7TbYH/ObgnCp/KoUOHyOngzJkzv/vuO/Jhhw4djI2N58+fLxAIHj9+HBQUxA3//Pnzhw8fSqVSR0fHyMhIOzs77p/evHlTWFhoaWkZEhKSkZFx7949hmHCw8MDAwMZhsnPz79582ZjYyPDME1NTTdv3mzZsqWFhUVYWFhTU5O9vT3DMEql8vHjxzKZLDAwsKam5tKlS46OjomJiVlZWZWVlV5eXs7Ozunp6W/evHF0dOzUqZORkVFNTU1aWtrHjx99fX1jY2O58zyGYUpLS2/fvl1cXMwwjK2tbWRkpKOjI8MwRUVF9+/fJ8M8fvzYxMQkNDTU0NAwLCxMrVbb2tpyY2BZ9unTp48ePWpsbHR2do6KirKysuL+NTMzs7S01NbWNiAg4PHjxw8ePBAKhVFRUT4+Pr+6qEtKSkpLSxmGSUpK6t+/P/nQ19c3IyPjw4cP1dXVSqWyvLz84cOH5J8ePHggEolCQ0N1dXXJ5B49elRbWysSiTw9PTt06KCvr69QKB4/fiyRSBiGqaqqSk9Pd3Nz8/DwIGO4f//+kydPWJb18/OLiIjgTnxLSkpevXplYGDQvn37rKysGzdusCwbHR3dqlUrhmFu37799OlTMzOzhIQE7d+XYZisrKzbt29LpVJXV9fo6GhTU1PyeU1NzdOnTxmGiYqKqq+vv3TpUnl5ecuWLePi4sRiMcMwT548KSgoYBhGLpdfunTJ29s7ICDg19dIgE/hPxzi8P8otVrduXNnhmEsLCxycnK0/6mmpub06dOFhYWNjY3kk4qKihEjRujp6XGrpbOz87Zt27ivjBkzRiAQhIeHL168mAszIyOjtWvXsiy7ZMmSZmv1+vXrP3z4YGxsLBAIvvvuO5ZlS0tLPTw8BALB6NGjXVxcGIbR09N78uRJQkKCQCBITU3t2bMn9/VOnTqlpaX5+vqS/xUKhSNHjuRae/78eVdXV+3JOTk5kfPO77//XvtzU1PTDx8+vH792sDAQCAQcFewS0pKBgwYQDKAcHd3P3DgADe/KSkpAoEgISFh/vz53DBmZmY7d+781aX98eNHMlNWVlbLli17+fIleZRJoVDU1tZKJBKNRvPNN99ot83KyiovL49l2S+//NLQ0JD7nM/nR0REFBYWlpaWkuMPzvz581mWraurGzlyJPesFp/PT0xM/PDhA2nJrl27BAKBp6fn/PnzDQwMuGkdPHhw2rRp3Ki8vLy483KNRrNixQozMzPuX/39/W/dukX+9cqVK0KhUFdXd82aNVyE8/n87t2719bWsizbtm1b7UZ27tyZbo0FoIMQhU+iurqaXGAMCAhQq9W/M6RCoeBOnlq3bp2SkkL23QKBYM+ePWQYcmVSKBTq6+sPGTJk9OjRZAdtY2NTVlZ28ODBkJAQoVBI8iwiIuLkyZPZ2dnkNGv58uUsy5aWlpKYYRhGV1fXyckpOjpaLpdHREQwDMPj8RwcHKZPnx4TE0OGEQgEXl5eM2fO9Pf3J59cuHCBjIecUHp4eMyePXvs2LEmJiak5SqV6uDBg15eXmR4Dw+Pjh07lpaWvnz5kpyorV69mmVZmUxGDi8Yhmnfvn2/fv3IhWixWEye32FZtk+fPmR+jYyMRo4cOWzYMJK4rq6u5eXlv7oYv/zySy5I9PX1g4KCJk+efPHiRW7h79y5kwshLy+vpKSkyspK7gmvuLi4BQsWdO/encfjMQzzxRdf1NfXJycnk2vvRkZGoaGhGzduZFl2ypQpZImlpKRMnTqVnEAnJiaS2N6+fTv5Vz6f379//7Fjx5JfSiAQ6OrqDh8+fMCAAeTZ7L59+5KGcU9+xcbGzpkzh5yzOjs75+fnsyybnp5O/lUoFEZERMyaNYu7y759+3aWZUeMGGFhYcEwjEgkCggImD59+r+56gL8SxCi8EkUFRWRLIyIiPj9IdPS0sg+cfTo0VKplGXZd+/ecXf4qqurWZYdNWoUGYbsx1mWnT17NtlZ37hxQ61WZ2VlkT3pvHnzFAqFWq1+/fo1CYAVK1awLFtaWkpOHw0NDdPS0urq6goKCjQaDQlRY2Pj+/fvsyz7/v178lqIjY3Nu3fvWJa9du0ayZXvv/+eZdmysrKlS5eOGTMmIyODtGT06NFkp19WVtbU1HT+/HnS1KNHjyoUCo1Gk5GRQSJwzZo1LMseO3aMDDBjxgxydpuZmens7MwwTHBwcH19Pcuyffv2JcGzb98+MpWxY8eSnHj69OmvLka5XD5v3jzt8znm/54mNjU1HT9+nHx+9uxZhULBsuyDBw8+++yzGTNmyGQylmUVCkXLli0Zhunduzf5X3JPlBxwqFSqt2/fGhsbMwwzc+ZMMt0LFy6Qg5X09HSWZXfs2MHNHRlg4MCB5JNvv/2WZVmNRtO6dWuGYYKCghoaGuRyObmkHxcXR5qUn5/v4ODAMMyyZctYrRDt1KkTWT3u3LlDftmJEyeyLKtUKsnq4eLikp+fr1Qq/4XVFODfhldc4JMg5yIMw6hUqt8f8uzZswzDGBkZTZs2jZy1eHl5kWTKycnRfkPDysqqS5cu5G+yc2dZVqlU8vl8sVhMok4oFIpEot95DzUoKCgxMdHY2NjJyYn9x2sbnp6e5KqgqakpCdHQ0FByTmlnZ0d22QqFgmEYGxubBQsWbN68WV9f/9ChQ3PmzLl69SrDMGq1WqVSkfMtMk6RSCQSiUirtP38888Mw1haWk6ZMoWEq5+f37BhwxiGefnyZVZWFjekg4NDYmIi+Zs8oqVSqX5reerq6i5fvvzBgwerV6/u27cvuUer0WguXbo0duzYhoYGgUDAXUAmbWMYpm3btt9+++0333zz+vXrzZs3jx8/ntzoJTPLLUkyX0Kh8Pnz5/X19QzDODo63rt3786dO2q1mpyL3759W7s93OVxNzc3Mqpu3boxDMPj8ZycnBiGaWpqYhgmNzc3JyeHYRhnZ+enT5/evn27pKSE3C69desWGZ6Mp0ePHmT18PT0JAdMcrmcYRgdHR1yEYLH42k/lgzw18CDRfBJGBkZmZubFxUVVVVVSaVS7btuEonkzp07oaGhFhYWfD6/pKSEYRgzMzMbGxtuGBJgGo2murqa+1BfX5+7b9psX6nRaMgf7D97nZGkSzN6enpkZ81lv3Y3BdqPFDEM89NPP61aterRo0dNTU06OjqkSTwej4zhn7aEzK+VlRVJAqJFixYMw6hUqtraWu5DAwMD7dj7nZlSKBQNDQ0SicTT03PatGnTpk2rqam5cePG/Pnz3759e+XKlczMzLCwMK5J3B9yuXzlypV79+4lSWZoaEiyrdlRCDd8eXk5+WPWrFnN/jUvL0/7K9wNUTIqQ0NDbl5I5pF/qq2tbWhoYBhmz5495Oo9j8cjIyTT4kKUO8kWCATNfhGuedzCB/jLIEThkzAyMvL393/x4kVRUdHDhw/j4uK4f7p+/XrPnj1tbW2XLFkyYsQI8hxmQ0ODVCrlnlCtrKwkf3D7YkYr4f4d5LSymV+eL/7yE+Lu3btDhw6Vy+WJiYlDhw6NiIjYtGnTd999x+fzf+srzZD5lUqlcrmcXBplGKaiooJhGD6fr928Pz6/27Zt++qrr5qamn7++eeoqCiGYczMzHr27FlUVDRlyhSNRkOe3f2lVatWLVq0SCAQTJo0KTk5OSQkJDk5+cmTJ81SisMdxMyZM8fd3Z1lWYFAoKenp1aryRmnduN/538JlmVFIpFQKFSr1b17905MTNRoNHw+X09Pj2VZkppcQH6iXq4A/k1YL+FTGT58OJ/PVygUn3/+OTnRYRgmJyfnyy+/1Gg03Jud7du3ZximsrLy5MmTZBi5XH748GGGYWxsbLhHZP8svxUPf9CFCxfkcrmJicnGjRsHDx7s6upaVlZG/ok7lyX/+1s7/fDwcIZhioqKzpw5Qz6pr68nN0pdXFy455L+Je7u7lVVVXV1dcuXL+eOP+rq6sgNRT6fTxZ1s7axLEuWebt27davX9+5c2cjI6O6urpfjp9LMm9vb7IAXV1dx40bN378+O7du5eWlhoYGJCbqf8StVrt6upKjpz09fXHjh07fvz4sWPHktNxsij+6aUF7bFpP/AM8NfAmSh8KnFxcePHj9+4ceP9+/ejo6Pj4+MFAsHly5eLiooYhunfv3+nTp0YhunRo8f333//9u3bhQsXFhQUeHh4pKWlXb58mWGYcePGkftnfx/kurREItm1a1f//v3T0tKOHDnCMIxSqVQqlQzDcPvxLVu2vH37dvjw4c1iu1+/fqtXrya9Ib5//97R0fHMmTPkzdfJkydrvy36x0VHR0dHR9+4cePChQuxsbHR0dE8Hu/OnTvkPd2IiAjyQi3Xtg0bNjx79mzEiBHkVPjdu3dHjx51dXVdt25ddnY284/bjcw/LiO/fv36iy++aNOmTceOHcPDw2/durVo0SKNRuPu7r5mzZq0tDShUHjr1i3tC/J/hFqttrS07NOnz5o1aw4fPuzo6BgbG3vq1KmNGzcyDLNx40buQdzfR86PP378+NVXXwUEBIwYMeIPXhUA+BP81U8ywf+ShoaG6dOnc8/aEDwer2fPnh8/fuQGu3//vp+fn/YwfD5/woQJ5K0JlmVTU1MZhrG2tuZe8Dh06BAZ8uLFiyzLZmdnkz3pnDlzyABc17Vff/01q9Wl0dChQ7npqtVq8oBSaGgo+aSiooLcNO3Xrx/55PXr1yQFFy1axLLshw8fuBdFyLxERkaSv8njqcXFxdy7NAzDPHz48NWrV+Rv8nwvy7LXrl0jN0E5QqFw1qxZ3JOlXbt2ZRjG1dW1rq6OfLJ582Yy5N27d391UWdlZYWFhf1yAw8KCuK6/fvw4YN2FweZmZknT57UPnuzsLAgcevi4kKei9Z+UbVHjx4sy2ZkZDTLNrFYvHz5ctIpEtdOrqOozz77jGEYXV3d9+/fk0/IE0bu7u6kg6Hy8vKkpKRmzR46dCh5Fpd7eJt7j7aiooL8lIMGDSKfHD16lPtiixYtuNUG4C+AM1H4hPT09H788cf+/fufO3cuJydHpVI5OjrGxcV16dKFe7qEYZiwsLDr16//9NNPDx48qK+vt7e379Kli/aOtV+/fp6enqamptwt0oCAgK+++or5x0U/CwuLxYsXNzQ0kDuCDMPY2NgsXbpUpVKR27FGRkYLFiyora0lqUnweLxJkyYVFhaSN0wYhjEwMJg7d25VVRXX6421tfWSJUsUCgUZj6ur6/nz53fs2JGTk2Nubt6rV6+2bdtu375dLpeT25n29vaHDh3atWtXTU2Nk5OTo6Ojjo7ON998o1arubiNiYm5efPmsWPHHj9+LJVKnZycunXrpn3beOjQoa1bt7aysuKOP9q2bUvml2tqMy1atLh8+fKpU6fu379fWlrKsqydnV3btm179uzJ9f7j6up6+PDhffv21dXVOTs7W1pa+vn5nT59+vjx41VVVR4eHiNGjFCr1cePHyfX4RmGmTt3rrGx8dOnTw0NDcmj0YGBgVevXj18+DB5UtfJyalnz56xsbHN2kleU2EYJikpiTwRxj1INWTIkNDQUGtrazJ3VlZWJ06c+Omnn27dulVZWWlpaZmQkNC7d2+yhnh5eZERknQnvxH5Kbnurnr37r1jx44rV67weLzw8PB/84o9wL/k/3sQDgAAAP5VeLAIAACAEkIUAACAEkIUAACAEkIUAACAEkIUAACAEkIUAACAEkIUAACAEkIUAACAEkIUAACAEkIUAACAEkIUAACAEkIUAACAEkIUAACAEkIUAACAEkIUAACAEkIUAACAEkIUAACAEkIUAACAEkIUAACAEkIUAACAEkIUAACA0icM0efPn+/bt0+tVv9ZI2xsbPzxxx8nTpx4+vTpXbt2NTU1UY+qrq5OqVQ2NDRs3769srLyj3yloaGhvr7+nw6WlZV14MAB7g+WZbl/qq+v37Rp029NjmXZgwcPjhs37vLly39sJv41LMuSSdfU1GzatKmmpuZTTOWPU6lUO3fufP/+/b/0LYlEsnv37vLycu0PNRpNRUXFP/2uUqncu3dvQUHBv9ZQLbm5uXv27Pmtfz1+/PiTJ0+ampq2bdv270zl96Wnp1+5ckX7k4cPH546depfGolGoyErQ2Fh4e7duxUKxZ/Ywr8DtVr9B7frpqamqqoqhmFu3Lhx8eLFT9wuhvlnG6BMJpNKpdQjZ1l2586dWVlZ1GPgnD9//tatW7/1r0qlsrq6mmGYjIyMgwcPau/o/iUSiUQmk1E28e/hE4bo7du3v/vuu38n6po5duzYypUrnZ2dpVJpenq6RqOhG09tbW2/fv3Ky8tlMtnixYtLSkr+6Vc0Gs3UqVOvXr36T4d88uTJ999/zzDM06dPv//+e+11Sy6XX758WSKR/OoXMzIypkyZYmRkZGJi8odn5V9w6dKladOmMQwjk8kuX778H19x1Wr1tWvXysrK/qVv1dXVLVu2rLCwUPvDkydPzp07959+t7Gxcfny5f/O/uXVq1fLli37rf3Fxo0br127xrJsenr6H9yDUzh69OixY8e0P7l8+fLWrVv/pZHs2rXrm2++YRjm3bt3y5Yt+38vRNevX79q1ao/MuS6detWr17NMMyJEyfI4e+nJpPJLl269Fsb4LBhwx4+fEg9cpZlr1+//kf2af/U3r17z5w581v/unTp0t27dzMMk5eXd/v2bboQVavVgwcPfv36NXUj/w6En3DUQqFYLP7l501NTbm5uXw+38PDg8fjkQ8/fPggl8vd3d11dXUZhpHL5UKhsLGxsbCw0MbGxsLCQi6XP3v2rF27djNmzBAKhUlJSSKRSC6XCwQCssOytLRUq9V8Pj83N9fS0tLKykoqlRYUFNjb25uamnJTZ1m2sLAwMzOzsrLS2tpaX1+fx+Pl5eU1NTVpt6eqqqq4uNjIyMjV1ZXH41VVVWVkZISFhTU2NpIWcpoNKRAIyFxzf3AsLS23bdtmamqqUqnUajWPx8vNzTUxMbG3t1epVM+fP7e1tV20aJGRkRHDMDU1NUVFRVZWVra2tgzDaDQauVzO4/FKSkocHR3VarWenl5xcXFjY6OXlxfDMDk5OXw+383NjUxLpVLl5eUpFApnZ2djY+Ompqbnz5/n5+fX1NTY2dmRZpAhi4qKamtrXVxcyHSVSiU5OsnNzTUzM7Ozs9OeBZZlGxoadHR0CgoKrK2tjY2NGxsbc3Nz9fX1XV1ducHq6+sLCwudnJzIEhCLxRKJRFdXV0dHh2EYqVSqo6Ojq6u7Zs0aQ0NDtVrd2NjIsuzHjx+dnJxEIlF1dXVxcbGtra2VlRU3zpKSEqlUKhKJ9PT0+Pz//8GfSqXKyMgoKiqqqakxMzNjGKaysrKkpMTe3t7S0rLZuqerqysQCPLy8tRqtYeHB/d5Q0PDhw8fjIyMnJ2df7nGsiybk5MjFoub/aaFhYX19fVubm76+voMw4hEIj6fr6Ojs3HjRmNjY5lMxuPxyD8xDCORSEQikVgsVqvVOTk5DMN4enry+XzyywoEgqKiIltbW7JAtAcgX29sbPzw4YOtra2enl6zw0ehUKinpyeVSvPz852dnY2MjDQaTX19vYmJCVmf1Wq1VCrlDs6USuWzZ88+fvxYV1fH5/P19PSUSmVWVpa+vr6TkxM32vLy8o8fPzo6OpKl2oxEIikoKDAzM7O3t+dGm5OTo6Ojw21HUqlUX1//48ePEonEw8NDIBB8+PCBLHkej6dSqZqamliW/fDhg7W1tfZvXVxcXFFRYWNjQ1Y/sjdoaGgoKiqys7MzNzdXq9USiYSbwaamJplMxs1gY2Pj06dPBQJBfX29sbExWXmqqqqcnZ2bHaGSIXV1dcmvo6enJ5PJ8vPzm+00cnNzFQqFh4eHSCTS/jpZdXk8Xmlpqb29vZ6enkKhyM3NFYvF7u7u2kuysrLS3d1do9Ho6OiQDZAs1cbGxry8PKFQ6O7uzufza2trnz59WllZqVAoWJbl8/kfP37U0dEhO4GCgoKamhpbW1sbGxvmH5uqVCqVyWSOjo4CgYBhGD6fv3r1agMDA7Je6erq5ubmCgQC7fYQZK0rKysTi8U2NjZkJSe/jlAoJOsz2WDJz52fny8Sidzd3clv8fTpU19fX5lMlpSUFB0dTVZUbtUlPzfDMA0NDWKxuLa2tqysjKyc2m0oLy/n5lcsFstksg8fPhgbG//qZvj3xX4ymzdvDg0NJftHzvv37zt16hQZGRkcHDx8+HCZTFZbWzts2LDg4ODo6OiIiIhnz56xLPvtt9927do1OTk5LCzMy8vr2rVrp0+fdnR0tLS0HDly5KVLl6Kjo1mWXb58eVJSUsuWLZOSks6fPx8XF9enT5+wsLCWLVuuX7++V69erVu39vf3f/nyJdeAxsbG4cOH6+joxMfHX79+vUWLFt26dYuIiPDw8Bg+fLhcLtdoNGvXrg0KCkpMTPTy8kpNTW1sbFy5cqWBgYGXl9fZs2e5UWk0mjVr1nBDDh06VKFQHD16NCwsjGXZI0eOhIWFqdVqbviioqKwsLC8vLy0tLS4uLjevXu3b9/eyclp27ZtmZmZvr6+BgYG3bp1Ky0tPXz4sL+/f0JCgp+f37fffsuybH5+flhYWNeuXR0cHE6dOjVs2LCUlJTo6GhPT89x48Z9+eWXYWFhjo6O5Dzp7du3CQkJUVFRkZGRvr6+d+7cKSgoaNmypbGx8bhx43Jzc8PCwvLz85VK5Zw5c/z9/ePi4oKDgy9evMiy7PHjx+Pj43v27Nm+fXtnZ+cdO3Zo/3wymaxv375du3a1s7Nbs2ZNZmZmZGRkTExMaGjo5MmTGxoaWJa9evVq69atu3bt2rNnz4iIiP3796tUqri4uCtXrpCR9OzZc8+ePRqNJiEh4erVq6Q9nTt3dnBwuHfv3tGjRwMCAhITE4OCgrZs2UK+smrVKh8fn7i4uMTERHd394yMDK5JL1++dHV1NTU1nTx5MsuymzZt8vPzI4tu06ZN2o2vr68PDQ2NiYlJSEgIDAwcPXq0VCplWfbevXvt2rWLi4sLCQmZPXs22X9x6urqhgwZEhISkpCQQIYha9HMmTODgoLi4+Pbt2//4MEDlmWTkpJ+/PHHxsbGqKiox48fHzx4MCkpiawAFRUV7dq1e/r0aXFxcXJycnh4eHh4eO/evcvLy2tqapKTk7t06WJvb793796SkpIuXbpERESEh4f36dPn48ePLMu+fv06IiKiQ4cOHTt29Pf3nzFjhnYLv//+e3d3986dO8fGxgYHB9+9e1cul4eHh586dYoMsGHDhkGDBnHD37t3jxxhfPXVV/fu3XN0dOzevTv5ucn6w7Ls2rVr/f39ya9w9OjR/7tlsxcvXmzdunV8fHyrVq1++OEH0sKYmJioqKjWrVv379+/oqKCZdm+ffumpqbGxsa2bNly2LBhX3/9dXh4uLOz89y5c1mWvXbtWps2bXr27JmcnBwQELBv3z6WZaVS6eTJk8nSdnFxWb58Ocuy3333XXJyclJSErc3kEgkrVu3Tk9PJ+1ZsWLF2LFjuealp6dbW1vb2NgsXbpUo9F8+eWXfn5+8fHxgYGBJ0+e1J6RS5cuWVlZ2djY/PDDD4sXL/b19e3SpUtYWJi3t/eNGzdYlq2pqRk2bBhZbTp27Pju3Tvtr+fk5CQkJHTs2NHe3v7y5ctv376Njo6Ojo5u06bN6NGj6+vrWZbdsmWLr69vXFxc165dQ0NDb926VVxc3LZt28LCwuzs7JiYmPj4+NatW/fq1auqqmrp0qVisdjPz+/69evffPNNUlKSh4dH//79q6qqRo0aRZa5i4vLhg0bWJY9evRodHR027ZtfXx8SkpKSJOampoSEhIuXrz44cOH2NjYAQMGtGvXzsXFZfr06UqlUrvx8+bN69y5s7u7e2pq6sePH1NSUtq2bduhQ4fk5OT8/HyWZYcMGTJ//nyWZY8fP05+kYCAgISEhIqKip9++snMzMzR0XHXrl3Hjh3r06ePRqMpKCjo2rVrWFhY+/btO3funJeXx7LsrFmzevXqReYxICCA7N45c+fOFYlEISEhjx8/vnPnTuvWrWNjYwMDA6dMmUJ2Jv8V/tIQbWpq6tOnz4gRI6RSaXFxcbt27c6cOfPVV1+Fh4eT84zPP/+8devWTU1NixcvtrS0fPLkiUQimTBhQqdOnZRK5bx58/r37y+TydLS0ry9vVmWXbhwoYWFxf3794uLiy9evCgWi48cOVJfXz927FhTU9OHDx/W19fHxMR8/vnn2g3LyspycnJ6/fr1x48fzczMZs+eXVdX9+TJE1tb2zt37lRUVISGhpILFO/evbO3t79161ZDQ0O7du12796tvSIWFxeHhobevXuXZdm3b9/a29s/evTo5MmTvxWiBQUFbm5uOTk5Z8+e1dXVPXnypEQi2bRpk4uLi1wuP3z4cGBgoEQiefXqlZ2d3alTpxoaGh49euTk5HTx4sXS0lJdXd0vv/wyLy+vsrKSBGpNTc39+/d1dHTmzZtXV1d36NAhJyenxsbGuXPnjh8/XqlUqtVqErck72NiYmQy2fv3793c3IqKinbv3u3p6ZmVlSWTybZu3eru7l5RUXHkyBF9ff0LFy5IJJJVq1Z5eXlph0pDQ4O/v3/Pnj3fv39fWFgYERHxzTffaDSampqa8PDwDRs2SKXSwMDAtWvXNjY23r5928DAYPv27UqlMjAw8Pz582Qk0dHRmzdv1mg0QUFBFy5cIEfKK1euzM/Pf/DggbOz89WrV1mWffbsmYeHR0ZGRkZGhoODw/3792Uy2Q8//GBgYPDixQvtlWrJkiWdO3eWyWR37961sbG5du1aQ0PD1atX7e3t79y5ww1ZX1/fsmXLQYMGkRNlHx+frVu3SqXS4ODgH3/8kWXZioqKkJCQnTt3aq8tK1eubNOmTVlZWW1tbffu3f39/cm6HRAQUFZWxrLsxo0b27RpI5fLu3TpQkLU29ub7Cvd3NzIXuPIkSOhoaEqlWrAgAHDhg1TqVQqlWrw4METJ06UyWTOzs6jRo3Kzs6ur69PSUkZMWKESqVSKpWDBg2aMGGCRqPp1KnTtGnTpFLp27dvHRwcpk+frt3CH374wczM7MGDBzKZbMmSJa1bt1YoFHPmzOnZsyfLsiqVKjw8fO/evdzwKpVq5syZAwcOlMvlt27dEolEu3btkkgkZP2prKy8c+eOs7MzafnVq1c9PT2zs7O5r5eXl7ds2XLr1q0NDQ03b9709/d/9+5dfHz8lClTpFJpRUVFYmLi+PHjWZbt0KFDVFRUeXn5ixcvDA0Nx40bV1dX9/PPPzs7O1dUVFy9elUgEBw8eLCxsfHcuXMuLi5FRUU3btxo165daWkpy7LHjh1zdXWtra1dtGiRtbV1RkaGRCIZM2ZMp06dWJYdN27c0KFDWZZtbGwMDg7mjhjIDI4ZM2bs2LFyufzo0aMuLi6ZmZkNDQ0HDx50cnLKycnhhlQqlaNGjZowYUJjY+O8efPs7OwyMzPr6+uHDRvWvXt3lmUXLFgQGxtbX1+v0WjmzZvXtWtX7T1Adna2qanpwoULc3Jy6urqyK5Go9FIJJKEhIRvv/02OzvbxcWF3D3Zv3+/UCi8evVqYWEh2QAXLlyYnJzc1NRUX1+fmppKjn5atGhx8uRJlUo1ceJE8iuUlpaeOHEiJiamqqqKZdmtW7e2atVKqVQeOnRILBafOXMmLy+Pa1VTU1NQUNCpU6dyc3ONjIyWL19eX19/48YNMzOz169fa682o0eP9vDweP78eVlZ2ZQpU7p3797Q0KBWqydOnDho0CCNRjN06NAFCxZoNJqYmJiDBw+Szbxly5Y7d+5UKpW9e/f+/PPPFQrFli1bYmNj1Wr1oEGD+vTpU1NTU1dXN3jw4N69e6vV6uHDh3t7e5N1u0uXLmPGjNFuQ2Vlpaur67Vr12pqalq0aPHjjz+Sk9GAgABycPZf4S99Ore2tvbZs2cTJkwwMDAgx25RUVFpaWmjR4+2s7MzMDCYMmVKWVkZuSDQoUOHkJAQQ0PDyMhIiURCLgCKRCJyAZZcK1Cr1R06dAgLCyPXlBwdHXv06GFkZOTr69u6des2bdoYGRm1atWqtrZWuxkGBgZ8Pt/IyIjH45mYmAwaNMjY2NjPz8/Nza2kpMTCwiI9Pd3Y2PjIkSP79+8nF0z09PR0dHQMDAy46xsMw9jZ2aWnpxsaGh4+fPjAgQNkSO6C8K/imu3u7t6zZ09DQ0Oy/imVSkNDQ4FAYGhoeP36dXd39x49eujp6ZFDswsXLqjVaisrq/79+7u4uJiYmLAs27dvX1NTUw8PDw8Pj27duhkbG4eEhDAMU1dX99VXXy1YsODatWsbN27Mz88nV5zILJClRy7XnD59esCAAS1atNDX1x8yZIi+vv7Dhw/5fH6LFi2SkpJI2xQKRUNDg/Ys8Pn8AQMGeHp6SqXSFy9eKBSKjRs3Hjx4UFdX9+eff87Ozq6pqRk0aJBYLI6IiIiIiFCpVGTGuSXD5/PJ3+RDtVptZ2fXt29fZ2fnJ0+eNDY2vnnzZv369ffu3ZNKpTdu3Lh+/XpAQEBYWJi+vv7gwYPd3d21b7QLBAJuxUhLSyMnDXp6erGxsUFBQZcuXeKGZFlWT09v7NixRkZGjo6O/fv3v3TpUk5Ozvv37yUSyYYNG44dO0YObrTn99y5c6mpqTY2NiYmJhMmTCAtP3PmjJmZ2YkTJzZs2FBeXv769eucnByyVEmT1Gq1vb19mzZtTpw4wTDMgQMHBg0aJJfL79y5o6+vv2XLli1btohEogsXLtTU1IjF4tTUVA8PD4VCwQ2wbds2HR2dy5cvZ2dnf/jwYeTIkQYGBi1btuzdu3ez5wzIiX7btm319fWHDh1aXV2dk5MzbNiwFy9elJWVvXz5sq6urnPnztzwQqGQLDFdXd2mpiZXV1eyKrZr187AwKC+vv7KlStCofDevXvr169//fp1WVnZvXv3uK8/f/6cx+MNGjRIT08vKirq5s2b5ELu5MmTDQwMLC0tp0yZcuPGDaVSKRQKe/XqZWVl1bJlSzs7u379+hkbG/v4+Ojr68tkMo1GExAQ0KdPH7FY3KVLFzMzs5s3b0ZGRp45cyY/P3/37t2XL19mWVahUGg0msjIyMDAQENDw5iYGLI5Dxky5P79+3V1dQ8fPmRZNjY2VnsGxWKxWCzW1dU9d+5ccnKyn5+fnp7ewIEDzc3N79y5ww2po6Mj/gelUhkTE+Pn52dkZBQXF0eeNjp//ryZmdm+ffs2btyoUCju3r3b7C6+gYFBamqqu7t7WVnZ8+fPWZbduHHjvn37xGLxxYsX09LSPDw8EhISyKrr7e1Nfjs+n8+ybEBAwOPHj8eOHXvhwoUffvihffv25HaDoaGhUChUq9Xx8fFBQUG2trbdunU7cuTImzdvduzYcevWLY1Go1KpNBqNr69v586dXVxctPdL3LZmamo6ePBgIyOjdu3amZiYkOeAOGq1mpxcWlpaXrhwwdjYeNeuXZs2bdJoNNeuXaurqxMIBCzL8ni806dPh4SEnDp1atu2bSqVityOIVe/RSIR2Z/U1tbeuXNnxowZpqamxsbGU6dOffr0KXl4qnPnzh4eHkZGRuHh4c2eFdDX1xcIBKamps+fP2cYZuTIkeTGUGpq6sWLF6mfevmLfcJ7or+kUqkUCoWhoSH5X0NDw/r6+sbGRu5GBVnvyaM33M0khmHIOkFiX3uELMuSex4Mw2g0GgMDA+5z7s4lWQ+0v0V+G/JfoVBI1j9yP5XP50ul0rFjx+bn5wcGBtra2nLNYFm22Y9aU1Mzbty4wsLCgIAA7SH/CH19fY1GQ7YlHo+nPfK6ujrtOzempqZkj0P2eqTl3P1mtVqto6PD3foSCAQ6OjrHjx9ftmxZq1atyCXcX116arVaJpOZm5uT/yX31WQyGZ/P154R7buPZCQ6Ojp6enoMw8hkMpZl6+rqyMWG8PDwVq1aSaVSPp/P3Tjkbixp/wq//BF1dXXJV2pqagwMDAoKCpqamng83rhx48LCws6dO8ctEJFIRO75NRsDGWd9fb32DTxTU1Ptx7jIhLi5MzExkcvlZJarqqrIxbe4uDhvb2/tkTc0NHBTNzExIYdB5O5sfn5+U1OTUCj87LPPLCwsfrnNDxkyZMmSJQMHDszOzl69ejVpTENDQ0FBATl0mDNnDvllyeyTxzLJvXy1Wu3g4DB79uyGhgYej8etzxYWFr98aolbziKRSCAQSKXSNm3aODo6Xrp0KTc3Nzw8vNntYW6JsSxL9oPkb7JC1tbW6unpFRQUqFQqPp8/a9asVq1acd+VyWTcVkOWCTmA4FpIfiCFQsHdEtZoNDwej3yF/M3j8TQajbGxMXeXUV9fn9xfHzZsmL6+fqtWrQwMDMi/kkPAZrMcFhZmYmJy9erVW7duxcXFcfsBbgbJH1KpVPtGr7GxcV1d3a8uCu2pkNVVo9GQI8j8/Hy1Wi0Wi+fMmcPtZMhg+vr65OCprq5OKBTW1NSQeAsKCvLz88vOztZ+hEJ7y1Iqlf369TMzMztw4MA333yzcOFCckrH/GPXxOPxuF3ls2fPJk2aZGFh0bJlSxKxZLBmtxibzZdYLNb+ZZsNwI1foVDI5XK1Wk1m08zMbObMmSKRiPxSGo3miy++uHbtWkhIiKurq/Y+llvIPB5PoVCo1WpuSzEyMmpqampqauLz+c0eIvnVn6m+vt7AwIA7DDUxMSEHT79s9t/QXxqiBgYGpqamL1++JNvkggULXFxcXF1dHz9+3Lt3b4ZhsrKyJBKJq6urRqNhaZ+ZJn7/62QNIztE7SFFItGlS5fu3buXmZlpampaXV1NLu4xDEMeCtAeyc8///zw4cMXL16YmJhUVlbu2LHjT2mej4/Pjh07ZDIZWV+fPXuWnJxMmvpPR8Xn86urq5cuXTp58uSJEycyDDNp0qS8vLxmg5EsbNGixf3798knJSUlpaWlrq6uHz58+KdLngxgYWFhamo6fPhwcgZ8+vRpHR0dJycnjUbz7t27kJAQtVqdnZ0dHx8vEAiamprI/kihUJSWlv5y2yDj9PT01NHRWb58Odn4169fb2Ji4u/vf/LkSRJXpaWlhYWF3MbWbAn4+Pikp6eTgwmVSvXixYvo6GhuMB6PV1dXl5OT06ZNG4Zh7t+/36pVKxsbGyMjowkTJrRs2ZJhmKNHjzbbHbds2fL+/fvDhg1jGCYzM5OcWLu6ugqFwhUrVjAMU11dvXv37l9GO8MwMTExK1asWLx4sY+Pj5ubW0NDg5GRUefOnVNSUhiGefTo0cuXLw0NDbn9kZWVlaGhYXJycr9+/RiGefjw4atXr8jjRa9fv27RogXDMM+fP3d0dNSeCo/He/PmDfk7OzubnAQzDJOamkpuQCxZsqRZw8j+8Vd/XB6P5+npefv27eXLl5NPVq1aZWFhwQ3g6OhYX19fWlrq4uLS1NQ0aNCgESNG8Hi8t2/fkudBHj16ZGJiQp5t+dWfiRAKhfn5+RUVFVZWVjU1NaWlpX5+fhs2bDAwMCDXD65cuXLkyJFf/S75ekpKyubNm+vq6jZs2NDsX1mWJZtMixYtHj16RD6srq7Ozc0lP7T2ouDWxmZT4fP5Tk5OQUFBX3zxBcMwOTk5Fy5c0A5RbY6OjmKxeMiQIe3bt2cYJi0trbGxsW3btvv27auurjY3N8/Nzf3w4QNpFTmMOHLkiI2Nza5duzQaTd++fbdt2xYbG0sOqpq154cffnB3dz98+DDDMMeOHeNexfmDm+rvE4vFDg4O7du3nzJlCsMwL1++vHPnjlgsJnuJly9f7t+///bt22SnfeLECe4khNspaTQaU1NTc3Pzhw8f+vn5MQzz5MkTIyMjslH8fhvIeFq1alVWVlZUVERW8ocPHzo4ODTbzP+2PmErVSpVsyuBRkZGY8eOXbRoEdlmDh8+fOLECS8vL3KpytbWdv369cOGDbOwsGhoaGhsbCTfampqksvlDMMolUryoVqtJmNWKpXc0/nch2TS3NfJIZJ2M3R1ddVq9cKFC0eMGEGOd8jncrlcoVA4ODg0Njbu27fPysrq9OnTlZWV5DKIoaHhunXrbGxswsPDyfBOTk4NDQ379u2zsLA4depUVVVVTU0Ny7KktVyzOSzLNjQ0aDQaLlEYhtFoNOSUjnzIsmx8fLyrq+ugQYP69u1769aturq61NRUpVJJzke5ppLrQmScZAbJ9WRdXV0XF5cLFy7Y29u/fPny/Pnztra2LMva2Ng8ffp09erVSUlJDQ0NCoVi4sSJ3bp1mzNnjp+f3+7duyMjI0NDQ1+9esU1mxyJN9sGGhoayKRdXFxSUlKGDx8+derUioqKtWvXbtiwwdnZecCAARMmTBg/fvzz589fvHghFAr5fH5ISMg333xTVlaWmZmZn5/PjUqtVmtPpVOnThs3buzRo0e/fv1u3bp15cqV5OTkzp07r1+/fvjw4QkJCUeOHKmsrGzWJBsbG3LtccCAAdu3bx8yZEiXLl0uXLhgaGjYq1cv7SHVavWSJUvq6+s/fPjw7Nmzr776yt3dvVu3boMHD54wYUJRUdGmTZt27dql/ZVp06alpKR8/fXXNjY233//Pdmwp06d2qdPH7Lotm/fbmFhMW3aNLlcTiKW+0UMDQ0TEhIWL158+vRphmH09fWnTJkyd+7cjx8/ikSiFStWTJw4kTzrSIYndzTmzJlTVlZGDiYmTpxoYGAwYcKE+fPnl5eXFxUVpaWljRw5kvm/Hjx4MGfOnFatWq1bty41NdXBwYFhmK5duy5evNjR0bFdu3bNhrexsTlw4MCePXucnZ25hU9+CIVC0adPn61bt6ampiYlJZ09e/bNmzeDBg3ivhsYGBgZGTl69OjU1NRr164VFBS0b99++PDh06dPnz59en19/fr167///ns+n9/Q0EAWiPYy4X5ugUBQWFg4ZcqUzp07Hzt2rE2bNsHBwbdu3Tp16tShQ4fkcvnevXvr6upkMpn25qy9WfXu3Xv58uVBQUEBAQHNZtDa2nrv3r1t27YdPXp0ly5dJk+eHBYWduDAgdDQ0IiIiGZDHjx4kDy+wO1MuKnMmDFj/PjxDMPY29uvWbMmMjJS+0iazAvZKu3s7IYPHz5q1Kjp06dLJJIffvjh22+/7datW2BgYP/+/SMjI8kTHuRcXyaTCQSCqqqqOXPmzJ8/XygUvnv3btasWQzDmJqarlixgjubJxPy8PA4ceLE0aNHa2pqdu/eTS7g/XIPwy3qpqamZhsvt/w5CoWCjF8gEMyYMeOzzz6Ty+VmZmbff/997969+Xx+Y2NjY2OjpaWlnp7ewYMHg4KCLl++/OHDB3Kh29LS8tChQ4GBgWTkenp6U6dOXbp0Kbm0s2bNmunTp+vr68vlcqVSSabI7cA5AoFAX1//iy++WLp0abdu3YYPHz527Nj3799fu3bt4MGDv5y1v6dPGKLt27cXiUTNjiamTp1qY2NDnik4dOhQUFAQwzB79+49cuRIYWHhzJkzBw8ezDBMUlISdyMzODh40qRJDMMkJia2bt2aYZgWLVrMnj2bYZguXbpw1+u8vb1nzZpFJhcVFcU9ed+nT59m5z2Wlpbr1q27evWqUCicP38+eYxeR0dn0qRJrVq18vHx2bRpU1pampGR0bhx43r16kUeKF+yZMn+/fu1Lw/GxcVt3Ljx8uXLRkZGEydO7N27N3kbhxzQkWfMtI/3TU1N582bZ2Fh4evrO336dPJP1tbWCxcu1NPT8/X1nTFjBsMwhoaGR44c2bx5861bt6ytrU+fPu3g4FBTUzNv3jxyUU4gEEyePJksOiMjo9mzZ5PXS2xsbObPn29hYbFp06b169dfunTJ19f35MmTt2/fVqvViYmJc+bMqampMTY2njdvnrGxsaur68mTJ3ft2nX37t0+ffqMHDmSpN3kyZNJg+3t7RcsWKB9JU1HR2f69OnkYJPH461YscLHx+f+/fsCgWDv3r0dO3ZkGGbp0qU7d+68f/9+UFBQ27ZtyYb6/fffr1+//unTpzExMTExMeQlh+nTp7ds2dLMzIy0h2EYExOTY8eObdmy5caNG6ampufPnycv7Rw5cmT9+vUPHjwYMmRIv379yC/C6dGjB3l7x9LS8uTJk5s2bbpx44a3t/cPP/yg/eKEWCxesGABuQbIsuzRo0fJlds1a9bs2rXrwYMHQqHwyJEj2ievDMOEhoYePHhw7969NTU1q1atIv08hIaGnjhxYt++fbdu3erevfv48eMFAsHIkSM9PT2FQuHs2bO592dGjBhhYGAQExND/nf8+PG2trZpaWlqtXr58uXk6R7uF2QYZuLEiXZ2dpcuXVKr1d9+++2AAQMYhpkyZYq1tfW1a9ecnJz27NnT7CJeZGTk3r17P378eP/+/cmTJ48YMYJ8bmdn17Jly7i4uF9eT0tNTa2qqqqtre3QocPs2bPJT2xhYTFnzhwLCwty+Lh161Zye37lypXkFQtCKBRu3bp1y5Ytt2/ftre3X7JkiampKbmqdPPmTR0dnV27dpHLkhMmTCCrilAonDt3LlkmlpaWc+bMMTU1fffuna+vb1RU1P379zt06DBhwgShUDhhwgSBQHD16lU7O7vVq1ffvXtXIBB06tSJbPgMwwQHB5Pti2EYNzc3T0/Pnj17NrtExDDMmDFj5HJ5bW2tu7v76dOnt2/ffuvWrcTExDFjxjS77TJu3DiFQlFXV9elSxfu0LZ169Zkn5OcnLxv375jx44VFBRMnDiRbCPcdy0tLefOnctdKl+8eHGLFi1u377N4/G2b9/epUuXpqamzZs3nzx5Mj8/f/bs2W/fvhUKhSYmJmSFnzBhgrGx8c2bNwUCwVdffdW3b1+GYVatWnXo0CGpVNqnTx8u9sjw6enpjo6OW7duvXHjhlqtDg0NnThxYrOdG5/Pnz59uq+vr4WFxbx588h1frKj495/I/r378+tGAMGDDAzMzt9+vT79+/nzZs3bNgwHo83YMAAY2Nje3v7ffv2HT58+ObNm126dOnduzfZB86cOVNXV7e+vr5t27bktHXUqFFWVlYXLlzg8XirVq3q2rUrwzApKSncpZ2EhAQfHx/tNojF4rVr1548eVIqlW7cuHHz5s137941MjI6fvw42b/9d/hnTx4B0IuNjV2/fv1/uhX/i6RS6YMHD3x9fbOysv7Tbfl158+fDwgIaPbexR8nkUiuX7/u5+dXWFj45zbsT/To0aOkpKSioiKWZckTyH/n1gKd/46LzvBfytTU9JePhMBfYO3atatXr54xYwa5yfQ3JBaLzc3NlUrlL88j/4jly5dv27btyy+/bHaH+G/F19fX1dW1U6dOdnZ25eXly5cv/zu3Fujw2H/v+R2A30Gehv/Vjqvgk6qurq6urvb09PxPN+Q3kTudhoaGv/9W2G+pqKior6/X7nbqbysvL6++vt7JyelX+36C/3YIUQAAAEr/BW/hAAAA/D19whBtamoiL4cUFBTs3r2be9j9LyCXy1etWkWKpu3evftPKcfGlUJLT08/f/78vz/CP+7t27fc66q/7+HDh+Rtiv86R44cefHixT8d7PTp0zdu3GAYRqFQkOe3nz9/fvToUerpKhSKPXv2/PuVy8rKynbu3Pmrrxz86fbu3ftbJeRkMtnOnTtJF/xbt25t9kbBn6WyspK8aEH39dzcXNIZ5O8Pdvjw4ZcvX/7TsZG+M/9ILbx/6uzZs9p9MzWzb9++9+/fS6XSTZs2Nev958+iVCq3bdv2R0obaTSaqqqqZm/iqlQq8v7Jq1evjhw58vfs8UepVJKejH7++edr1679p5vzJ/iEIbpjx46lS5cyDPPu3bslS5b8lSF65MiRH374wcXFRSKR/DtF0zjapdBevnz59OnTP6OZf1RJScn169f/yJCXL1/evn37J27OJ7FmzRrt/th+y6NHj0jhpIULF5I3yW7fvk1KWdFpbGxctmzZv19/MS8v75tvvvlrQvTbb78l3aT9Un19/ZIlS4qLi2tqaq5cufKJNrrS0tIlS5aQ/TWF8vLya9eu/dMiiT/++OPvRBrn9ysM/kt27tz5OyVFyWJXKBSXLl36d0p+/g6VSrVo0aI/ckiXlpY2derUZu+3fPvtt9u2bWMY5sGDBz/++OOnaOG/7+uvv963bx/DME+ePHn16tV/ujl/gk/1dK5CoXj69GldXV19fT3pSU6lUmVlZRkYGGg/n0ZXbolU5CHPI8hkMj09PVINw9XVVU9Pr6GhISMjIzw8fPr06QKBoHPnzjo6OqTuT0VFBZ/PJz20kUpkpGiaRCIpLCx0cHDguq36nVJoo0eP5lJZoVDk5OTo6uqSSkMsy5L3jsvKyurq6tzc3Jq9okeKOtXW1lZUVLi6umq/skbKLZEuexiGIRXHyEv34eHhQUFBXA9eOTk5pHAb91hjU1NTTk6Oubm5SCRqVq2JKCkpqa6u5uqdMQxDyo2RYhfMP4o66enpkSp12oWTamtri4qKbGxsuHcum5U/Y7Xqo1lZWZEeBIuLi2UymXYjf7VoWl1dXXFxsYuLC9d9WjNFRUV1dXVcf2Nz5swhvRM8evSIdMEqFAq5HuMsLS2tra2575JSZdx3SU/6pB67vb0913eMWCwWCoWkwaTSE9e2wsJCXV1d0j8RN866ujrtJUmQlVyhULx9+9bU1FT7xcrKykpSKku735+CggKJROLu7k6eXm5sbOTz+aSAXbO6YJzq6uqysjKyknOdxchksry8PGNjY9K5HZmdpqYm8rqzrq5uXV0d1/Wjdskwsuk5ODiQrh9V/1BVVeXi4iIQCH512ywoKCAVuPT09H75QFCzamikGhefzy8uLra3t+fW9pCQkHXr1pEZJ8UAuPZrE4vFIpGIlKbgSmuRpnJTYRjGwsJi27ZtJiYmZHJ6enqk1y3tyoakB2nSO3GzUnrMP/pZdHR01NPT435oblfDPbtEno8zMzPbvn27iYlJbW2tkZERaRXpdN7IyIjP55PVxtLSkqwDZMtiGKasrMzBwUFXV5dsUNwAxMePH2tqakhxxl/258VVNiQrnkqlyszMzMvLq6mpMTU1JbMpl8ufPn3q4uIilUrJRtHQ0FBYWGhmZqY9IXKA9csVmPvX6upqJycnriNJpVJJOrh3dXUl3QRKpVIDA4PCwkKlUkmeXHv//r1IJHJxceHGQwosurm5NevgidRQCw4Olslks2bNIi0n5dKqq6urqqrIHqOwsFAul2v/6GS7c3d3/5d6V/2LfKJXZ27cuEEqly1dupS8JM5V11qxYgUZZs2aNaTcUnBw8LFjx5qN4cKFCyEhIfHx8T4+PqtWrWJZ9tWrVzExMaRjnQEDBlRUVGg0mhEjRvTv3z86OjooKCg8PLygoOD48eMODg5WVlajR4++ePFiTEwMy7Kk0EeLFi2Sk5PPnTvHFU3z9vbesGFDz549SaWeN2/esCz7O6XQrl69umzZMlJGIyMjIyoqqkOHDsHBwUOGDKmpqSE1ZlNSUjp06BAQENChQ4dmr4V98cUXHTt2TEpKSkpKCg8Pz8zMZFm2urp6yJAhrVu3jo6OTkhIeP/+Pcuy8+bNS05O9vDw6Nu37+nTpzt27MiybFlZWZ8+fdq0aRMZGRkXF0deASwqKiJj69ixY5s2bVJSUrSnqFKpvvzyy6CgIFLGixTt2r17N1cvjFRLyMnJCQsLGz58eLt27VxdXSdPnqxSqViWPXjwYGBgIHlLes+ePWSuufJnkyZNksvlDQ0Nffv2TU5Otre3//rrrwcMGDBo0CBShS0pKYkU83ry5ElERERsbGxoaChX5+jy5cukYV27dnVycmpWPoXU7SFTDwsLu3XrFsuy48aN++GHH3766ScTExNnZ+e9e/fu2bPHzc2NFPNydXU9dOgQy7IKheKzzz7jvksq7ezevTshIcHf379NmzakVhfLsnV1dcHBwaQmore3d8+ePaurq1mWPXDgQHBwcMeOHX19fbt27VpRUaFWq+fNmxcaGkq67eaK0hCPHj1ycHBISkoiBcLWrVtHPt+6dStZyQMDA0kpFblcPn36dFJGLSIi4tGjRyzLbt68uVOnTsnJye3atXNzc9OuSUIcP37c398/Pj6+e/futra2Z86cYVn2+vXrpDxWcHDw559/rlary8rKvL29X7x48eTJk+jo6Pz8/PDwcK4I3dKlS0eNGsWy7Lp167hN78iRIyzL3rp1q3379rGxsS4uLm/fvt20aVOzUmhNTU0LFy709fWNjY3t2LGjt7c3qXXFef36dXR0NFcNraqqqqysrFOnTp06dbK3t9eup3bt2rXY2NjGxsabN2+2adMmMTHR399/6tSpcrlce4RxcXERERHx8fHt2rXr3r17eXk5y7Lv3r2Li4sjZSeGDh1aV1dXVlYWFhb27t27srKy+Pj4QYMGtW/f3t3dfeTIkaRjr9mzZ/v7+3fo0KFHjx7h4eGkzhfn/v37rVu3jomJSUxM9Pb2JsXg3rx5ExMTQwqNjRw5sq6ujmXZkJCQEydOkMnl5OT07t178+bNZCRHjhzp3LmzSqU6ffp0UFBQx44dg4KCyF6L9HyZkJBgb29/5cqVs2fPBgYGkgFI7SCWZTdt2kTKpfXo0cPKyurJkyfNFmx8fHyHDh0iIiJIZcP379+TjvInTZrElck6efKkubm5vb39li1bfvrpJ3d39+TkZLLLJVsW+QUDAgI6duzYtm1bUkCeo1arv/rqq5CQkMTERF9f359++oll2czMzNjY2Ojo6Pbt2/v7+9+7d49UMBw+fHhUVJS7u/uMGTPmzJlD6jCuXr36tzZbzsGDB01NTZ2cnHbs2DF79uwlS5awLDtz5sxevXqRbbNbt26rVq2KjIz09PQcM2aMUqlUKpWzZ88ODAwka8K9e/fYv5lPFaIqlWrq1KmDBw+Wy+XXr1/X1dUl5ZYOHz5sa2srkUhu3brl4uKiXW5Ju0RRRUWFp6fn9u3bSbklPz+/d+/eJSQkTJo0SSqVlpeXx8fHT506lWXZhISEDh06lJSUkDpWS5YsIQt94MCBMpnswoULPj4+LMuS7n4ePHhQXFx87tw5sVj8008/1dfXjxo1yszM7PHjx3V1dVFRUYsXL66urv6dUmgqlWrGjBmjRo1qbGwMDw+fPXu2VCotLS2NjIycN2+eRqOJiIhITEwsKysrKyvz9fUlGxJn2rRp1tbWb9++lcvlc+bM6dixo0aj+eyzzzp27CiRSDQazdy5c7t27cqy7KRJk+zt7Z8+fVpSUnL06NHg4GCWZceMGdO5c+fKykqpVDphwoT4+Hi1Wj169Og+ffqQI/qgoKDevXtrT/HkyZPu7u5v3ryRyWRffPHFgAEDMjMzbW1tz50719DQQMpJkvJMurq6y5YtI4WTrK2tX758mZ+f7+joeObMmYaGhhMnTrRu3bqoqCgyMvLrr78mdZEiIiLWrVvX1NTk7+/fu3fv7OzsgoKCwMDAvn37VlVVFRYWurq67tu3r7GxsV27dkuXLmVZtrq6un379ps2bZJIJAEBAevWrZPJZNeuXTMwMNi9e7d2y/fs2dOqVSvyovquXbuCgoJkMtnAgQMXLFigVCoTExO/+eYbhUKxY8cOIyOjK1euSCSSb775hpQq27lzp4+PT3FxMcuy27ZtCwkJkclkmzdvNjIyunTp0ocPH0iXnizL1tfXt2jRIjU1taamJjc3l5RrlcvlMTExx48f12g0FRUVTk5OZ86cef/+vYODAznu2bhxIym1yHny5ImOjs6GDRtkMtnVq1cdHBxev36dkZHh6OhINvu7d+96eHhkZ2dv2bIlKCiIHFusXbu2Xbt2jY2Nq1evNjU1vXv3rkQimTt3btu2bbkWsixbUlLi6em5f/9+mUx25swZsVh8/vz5uro6X19fUnKVdDx7/Pjx6upqb2/vzMzMe/fueXt7NzQ0TJo0afjw4SzLNjQ0BAUFkQ6fnZycnj59yrLs9evXPT09CwoK7ty5w+fzd+7cWVBQkJaW1qwUWmFh4aVLl1xcXN68eSOVSkk3PQUFBVwLlUplhw4dpk6dSqqhdezYcfLkyVVVVdbW1tOmTSOVwriBL1686Ofn19jY2KVLF7IYs7Oz+/btqz1ClmVJQdyPHz9WV1fHx8fPmjWLZdnExMQZM2aQPu2Sk5O//PLLyspKNzc3UtmQdNNTV1f39OlTMzOzZ8+enTp1qkWLFtnZ2aTZRkZG2tmvUCjatm37zTffyGSyJ0+emJmZLV++XKPRxMbGzp07l/Sj2alTp8WLF7P/CNGSkhI3N7f8/PwNGzbExMSQY83u3buvWLGitLTU3d2dHAC9f/+edEGcn59vbGz85Zdf5ubmvnjxwt3dnRwAvXv3ztPT8+7du1lZWc7Ozunp6TKZjNT2aVZ0c968eePHj1epVKSyYb9+/dRq9Zo1a6Kjo0mPodxPkJKSMmfOnMbGxgMHDhgYGJw/f14ikXz33Xf+/v4qlerw4cPcoc/+/fv9/f1JbTXiw4cPdnZ2jx8/Zll29+7dc+bMYVl25syZ06ZNI+XTU1JSSO05Ly+vAQMG1NbWpqeni0Sir7/+ur6+ntTxVSqVe/fu9fHxIZvtzp07g4ODa2trtRd4jx49Fi1apFAohgwZQirLpqam+vj4FBQUkEtZvXv3rqqqevTokYWFRV5e3q5du/z9/UnB1C1btoSGhkokEvbv5FNdztWuRkTqUaSkpOjp6cXExAiFQqlUeunSJZFIdO/evTt37pBHkG7evMldRSSF6VNTU8VicVRU1K1bt8rLy1+9erVp0yYDAwMDA4PJkyd//vnncrmcx+P17t2bdN0XEhJCCsH/atG0mJiYtm3bMgyTkZHh5OTUvXt3HR0d0uNJaGgowzDe3t5VVVWmpqbp6emFhYVHjhx5/fp1s1JoQqGQ1KMoLCzMy8s7cuQIac/EiRO/++67r776is/n9+3bl1wjDQwMJL3Ecci6SLrAHjNmTEJCQnZ29vXr111cXMhpilqtvnHjBnlko2PHjsHBwQzDcMWG7t+/v2zZMnJVcMaMGQkJCZmZmc+ePVu8eDHp7nnw4MHNbiP9/PPPnTt3Jv3bLVq0SCaT7dixo2XLll26dGEYpl27dpGRkRcvXnR3d7exsenXr5+RkREpX1NXV/fy5UtSholhmF69esXFxRUUFDx//jwmJmbjxo2ktMipU6fGjh1LOgkjl8sYhiE1p8zNzVu1akXS9NWrVx07dtywYQOp8fLzzz+HhYXV19eTEmzkp2n2pMmZM2dMTU3PnDmj0Whqa2vfv3//5s0bUphCR0eHFJMRiUQqlYocxZMltnv3bo1G8/PPP5NuzEjYZ2VlZWVl8fl8Hx8f0jehNoFAMGTIEFNTU1NTUy8vr+LiYlKmsbCw8MSJE7m5uWq1WiqVkiv/06dPT05OJqdi2iNRqVSenp5kdmJjY11dXe/evUvunD179uzx48cCgaC6uvrWrVvnzp0zMzMjCV1ZWZmZmUkuoQcHB5O+y+Pi4s6cOaNWq7lLi8+fPxcKhf369ROJRN26dfP19WVZ9s2bNwUFBVVVVWSpikSikydPkuVA1hlSymro0KHDhg2rr6/PyMhQq9VxcXHff/+9QCC4f/8+Cc6PHz/evXvX2dnZ1dW1V69epqam27ZtEwgE9+7dIz3YlZWV3b9//8mTJzExMWSuhw8ffvbsWe1HDXJzcwsKCrZt20Y2h6lTp86fP7+qqopU2dO+O8C1jcfjtW3bdvfu3Y2NjYmJiTt27GjW9T/DMGPHjiXX50eOHLlmzZrs7OyMjIzAwECy+onF4rNnz44aNYoUMmJZ1tDQMDU11djYODg42NbWtqKi4sKFC926dSOXZEeNGnXq1CntZr97966qqorUjQkJCUlKSmJZtqSk5Pnz52FhYdpTWbhwoXYtP1Ia+ccff8zOzjYwMHj79u3GjRtv375dV1eXm5tLfhGy9U2dOtXIyCg1NdXNze3gwYN1dXXZ2dlkAJZl09LS3N3dXV1d4+PjGYYZOnTod9991+xO9qJFiyoqKq5cufL+/fv8/HwTExNSGoVUNuQGIy9kk4JIKpXKz88vMTFRIBB06NBh7969EokkLS2NJCu5wpyVlZWZmcl1cmlubu7s7Dxr1qyuXbsmJCSQ3pKXLFlSXl6enp6enZ1dXFxM7sTp6ur27dvXxMTEz8/PysqK7DQCAgJ4PF5DQ0NaWpqxsTHZbKVS6atXr16/fk1WbIZhyP0mroYaWUqkYq6TkxPLsmTXZG5urqenZ2xsXFlZSUZIfrj6+vrMzMw3b96QGhJ/E5+wxyKS0uRvXV1dsu6y/6j8JZFIdHV1STEpPp8/ZcoU0s0mUVdXR6p+kv81MTEpLCzk8XjcdXxTU9PGxkZSr4N7l5/URmg2aQ63ibIsa2BgwP6j023t25ZCoVAikYwbNy4vL+93SqGR1YXP53NX/E1NTUk5Ie32/Cqu+piuri6JRlIziNT/0tHR+eKLL7hCUdy3eDweKbLNVUciK2J1dbV2DThzc/NmN1Tq6+u5OyICgcDAwKC2trZZvTCpVMqyrI6ODtlrk6pwDMPU1tZqt8HY2JjcVqytrSUXkdq3b+/l5aVWq7kybaQ0m3YfNGRZkW+R63WRkZE+Pj4SiYSUAiWDkSKp2i2XSCRcuTGBQDBnzhwbGxvuQWvtn/iXFay0S5WR71pbW6vV6l/eB2JZVigUcnFF1h+lUjlnzpwHDx4EBQV5eXmRvRLpy3fr1q2nT59esWJFamrqd999x92zYVlWX1+f++kNDAxkMlltba2+vj5XU2zq1Kn+/v47d+7U09PTLqNmbm6uVqu11zSyjXCNbGho0L7bTeaC3PriCiQkJycHBgY2e1pHqVSGhISYmZldv379ypUriYmJ+vr61dXV2q2aOXOmj48PKUJHZqdZs2fNmtWyZcvLly9z98n09fWbFWkhN8W1q6GxLEvuUP5Wh0TkIRpvb+8TJ05MmTLF1NT00KFD2r1D8Hg8bopGRkZqtbqmpkYgENTV1eXn52s0mlatWnXt2pXUvWf+UdaNW//JmlBfX8/1tEwO67UXrEwm015dSS+4EomEbJikOoK/v3+PHj2arZxNTU02NjZt27Y9deoUOVgkHVyLxWJyzkRKrkZGRiqVSu5+f319vVgsLi0tJc9kDB48ODY29vnz59xPr12qj3P06NFvv/2WVDbkHtr41V1cs10ut1hI1V6pVCoWi8nPKhAIFixYQM49CGNj47Nnz27duvXChQsrV67s06fPmjVrDh48uGrVKl9fX1JUkQzJ5/PJFkcK4HB12bipkMcjyFQ+//xz7ccUfrXlXPlFsufhalOSEXLPW6hUKqFQuHDhwmZ1/f7jPmGI/k41OJZl3dzcjIyMSDEphmF+/PFH7ccuPDw8ysrKKioq7O3tybM8AwcONDAwyMjI6NSpE8Mw9+7ds7e3J5vEL1em35roP/2cK4X24sWL3ymFptFobG1teTxeZmZmhw4dSHucnJzIbu532sPn8zMyMsjfmZmZOjo6pAf21q1bL1iwgGGYnJycs2fPkn1Qs0aamJiYmpo+e/aM9GaemZmpVCr9/PxMTU0zMjLIh8+fP2/2Pk+LFi24JzkfPHiwbt26pKSkI0eONDY2ks0sIyMjJSXll1XhWJZt0aLFhw8fGhoa9PX1KyoqpkyZMmrUKEtLy+HDh5Nz9zNnznAHLr+1SDUajaWlpYmJyahRo0jNh1OnTonFYicnJ5VKRe7uqFSq3NzcZuXeXF1d6+vryRoikUi2bt2qHbTsP2pd/XKB8/l8FxeXxsZG8t26urrt27cbGxv/zkPazdaBzMzMw4cPP3361N3dnWXZXbt2CQSC3NzckydPLlq0aNGiReQEaObMmaReCsMwAoGgrKyspKTE1dW1oaEhLy/Px8fn48ePYrGYqym2evVqCwsL8mQQaVtlZeXevXv/acUoV1fXurq6goICZ2dnmUxGDijt7Oz09PSmT59OHsk5cODAL3cu5BBhwIABa9askUgkGzduZBjG09Pzzp072pXOzMzMyJ1g8omnp+eDBw+0BzA3N/f19T1+/Dj5JC8v7+PHj9q/l4ODg1Kp1K6GZmxs/Ks1VjlqtXr16tXdu3dPSUmRSqVhYWGnT58mlUwIjUbz4sULciHk4cOH9vb2LVq0EIvF/fv3J+dt169fLysr09PTa7becn8LBILg4GCuMPuzZ88+fvyovVNydXVtbGzMyckhB5ovXryws7MjO5bBgwdHRkYyDJOenl5VVUVO65vNwsCBA8mJI2m2o6Ojrq7uokWLyJHu1q1bLSwsuCRjGMbJyUlPT2/RokXkqHfLli3k4sfmzZvJc0mFhYXl5eXaLVQqlV9++eXcuXMnTJjAMMzkyZN/WdlQe4n9Vlk3HR0dFxcXUvaAYZiGhoYNGzZo73Jzc3NPnTq1YMGCBQsWXL16tXfv3lOnTv3mm2+++uqr4cOHMwwzatSoX32pqdm24+zsrKenR6YikUg2b97MnTZwjfzlI4S/9QuKxWJHR0epVEpGWFtbu3379mYj/I/7hCFqa2v7008/7d+/38rKipyCMAzDsqxMJpPL5QMHDty1a9eQIUMSExPPnj377t077XJL/v7+MTExw4YNS01NvXr1ak5OTkRExPDhw8k1+tra2q1bt65atUpHR0e73JJCoSDr0O8XTdOuRNasaJpcLv/9UmjkmoNMJrO2th4yZMjkyZOnTp1aXl6+b9++jRs3kgdHubOBxsbGZpcoxWLxpUuXvvjiC2dn5zVr1kyePJlUgZ88eTLLsra2tqTcEmkMtwNqamoiR5FTp04ld14NDQ1Xr149YcIEKyuryZMnf/bZZ3w+X6FQHDx4kKvURowcObJbt26zZ8/28fFZv359UlJSjx49duzYMWjQoF69el27dk2hUAwYMEAqlXKl1liWJaXoIiIiWrRoMXTo0O7du584cUKpVEZGRvbr12/EiBFTp06trKxcs2bNhg0bBAKB9lxr/00eO7K3t+/fv/+wYcMmT55cXl6+bt26TZs2ubm59erVa8yYMWPHjn327NkvXxKdPHlyjx49pk+fHhISsnv3bpFIRJ49IYvU1tZ279693t7e5JlM8hXyc6tUqilTpvTo0WPmzJlBQUE7d+4kFxiVSuUvX0FhtWrJMf8oh2dubq6rq3vgwAFvb+/Lly8XFxdXVVXp6emtW7cuJycnMjLy7NmzrVu31t4HMQxTXFw8e/bsrl27nj171s3NLSIiQi6Xr127tl+/fj169Lh8+fLDhw9TUlKmT5/eq1evuXPn+vj4bN261dbWdtq0adpVorSL+hGBgYHR0dEjRowYOnTorVu3cnNzVSpVq1atEhIS+vfvP3bs2JycnB07dhw9epSc92s0GjISstH17Nlz/vz5bdq0IZUx+vXrt3PnzkGDBnXp0uXcuXOvXr0aMmSI9vD9+/fftWuXdim0IUOGDBgwYPfu3RMnTgwNDd21axe5esG10NramlQB46qh/fjjjyKRSLt+H4dMSyQSvX37ds+ePVOnTq2pqVEoFM1KtqlUqi1bthgbG5ObfOSZ2DFjxkyYMGHmzJkKheK7775bvHgxqblGjkK4wmRkPVQoFMOGDTt69OjgwYNbtGjxy2M+GxsbslpOnjz5zZs3d+/ejY+PNzY2Hjly5JgxY6ZPny6Tyb7//nvyqh5ZsbWnEhcXN3v2bJlMlpCQwDAMeTatV69eqampz549O3HiRFpamvbwsbGxXl5evXv3HjRo0NOnT0+dOnXhwoX4+HgXF5cRI0aQNefjx4/aC0EgELi7u1+4cMHOzu7169enT5/28PDQaDRWVlYZGRk//vjjxIkTuesfVlZWx44dIwe42quTTCZTq9VjxoxJTk4mVeH279/f1NREqrwRenp6W7ZsefnyZUJCwuXLl9u0aWNra+vs7Pzzzz+bmppmZmZeuHAhMDBQqVRy2wvZE5JZ46Yybty47t27k812z549Ojo6pLAxx8LCYv/+/a1atVKr1WRb1t5Pahd5JCMfP358jx49Zs2aFRgYSB6AIAV2/j4+Ybd/ZHdpaWmZnJx8+fLl0aNH6+joSKXSbdu2DRs2zNzcPD8/n7xZbGNjM378+GbPuEul0i1btrx9+9bKymrixImOjo4syx48eJCUW+rXrx+5mr9v375WrVqRSkk///yzjo5OUlLS1atX6+vre/bsmZOTc+nSpQkTJly+fLmhoaFHjx4Mw7x///7KlStjxowhN37y8vIGDhxIvi4SiTp16nT8+PGLFy8aGRmRZwJtbGyio6MfPXq0f//+nj17siwrlUq7d++u0Wj27dt39+5dsVickpISERGh0Wj27t0bHBxMTrlOnDhhYmJCjpqJadOmffz4MTAwMD8/Py4urn///uTza9eu/fTTT0qlMjQ0lNzjOXv2LHk/h2GY169f3759e+zYsQzDpKWlnT59mmXZuLg4UrqZYZiLFy+ePn3a3Ny8devWGo2mT58+2kvy9evXO3bsqK+vb9OmzciRI4VCYUVFxebNmwsKCuzs7MaMGePk5FRVVXXgwIGhQ4eS69J79+5NTEx0c3OrqqratGlTXl6ei4vLxIkTLSwsmpqa9u3bd+/ePYFA0KtXr8TERJVKtXv37ujo6BYtWpC/O3ToQO77HjhwwNXVNSIioqmpac+ePQ8ePBAIBH369CE7HaVSuX379ufPnwcFBenq6gYGBpL63pzMzMzdu3fX1dV5eHhMmDDB1NT0+PHjZmZmcXFx79+/37hxY1hYWMuWLV+8eEGKZhcVFZ08eXLcuHEikej58+d79uypr6/38vIaP368iYnJw4cPs7KyhgwZoj0JhUKxc+fOpKQkUihqz549Pj4+bdq0SUtLO3HihK6ubmJiIrms1K1btxcvXuzcuVMqlbq4uIwbN077OhV5YM3IyOjGjRs2NjZTpkwh54UlJSVbtmwpLi62sLAYP348mcrjx4/3798vlUq9vb3Hjx9vaGh49+7dvLw8chyZk5OTlpY2fvx47TMS8tRJVlYWqXwZFRXl7e0tl8t37Njx4sULkUg0aNCg8PBwqVS6Z8+efv36kSdFR44cSS6x7tixw83NjbtjWlhYuGXLlrKyMmtr6/Hjxzs7O+fm5qalpY0aNYpcTSkoKNi6dSsZYMKECWTbzM3N3bRpk0wmi4uLq6+v7927N3e5lThw4ADZPPv06RMbGyuRSEhjmpWuy8nJITsElUq1devWzMxMsVjcr18/rmAcsW/fPlNT01u3bkkkkgEDBnB37w4dOnT9+nUej9e5c+cePXpIJJJdu3YNGjSIPL04YMAA8oLQxo0bExIS3NzcSkpKyMbl6en59ddfX7hwQfstO41Gs3v37gcPHnh5eTk5Odnb20dFRXG7Gh6P17VrV1LVa+vWrR06dHB0dNy5c+fgwYPJIdSpU6eUSiW3IdfU1Gzbtu39+/cGBgYjR44MCAioqqo6ePBgamoquYdSU1OzdevW7OxsQ0PDkSNH+vv7MwxTWVm5adOm4uLimJiY6urqnj17ci/1kcW+ceNGmUzm7+8fFhb25MmTYcOGNTU1rV+/vqGhYe7cudwV4A8fPqxfvz4oKCgoKOjJkydDhw7l8/lFRUVnzpwZNmyYgYHBq1evdu3aRV4+mTBhQrNTurdv327fvr22ttbBwWHs2LEODg7v37/ftGlTY2NjUFBQcHDwixcvBg4cuG/fvri4OC8vL+2deUFBwblz58jd5RcvXuzZs0d7s9Weyrt37zZv3tymTRtDQ0N9ff34+PiTJ0+amJjExcVp7z+VSuWmTZv69u3r4OCQkZGxZ88eiUTi5eVF6scxfyfoO/cvNWnSJI1Gs2nTpv90QwD+Jxw4cODs2bO7d+8Wi8XLli27cOHC5cuXf1lgFYAaSqH9pcjzEf/pVgD8r4iJiTlw4EBUVBTp72XVqlVIUPhz4Uz0L0XuDf8dO90A+H8U6c9LrVa7ubmhui386RCiAAAAlFAKDQAAgNLf654oeYHBxMSE9P2RnJz8l026oKBgw4YNQqGwdevWYrGYdOjzb6qtrSVdIhw4cCAgICAgIODfHyfDMCzLVlVV/bJfBQ55NPxXO5j+c5E39H+1y3sAgP8Ff6MzUZZlZ8+efe7cOYZhfv755z179vyVU//qq69Il6fv3r37UyqdVVZWkm64eTzerVu3/v2KlZz09PTJkyf/VoKS17/+SA2pf1NhYWH//v3/lBJUAAD/pT7tmahcLif9a5BeWsiHpMSSra1ts3pPtbW1z549a9GihVwuJz3fkhJFtra23PtM5BkBgUCgXedI28ePH0mP4Vz/WKSrFwsLC/LqFem6Wl9fPy8vT6PRkPGQrlkHDhw4btw40psgwzAymUwkEpFaQqS/x9LSUplM5uXlRcqosSzLlUliGKaoqKiqqsrGxob0flJQUJCZmVlRUWFtbb1ixQrumcCampqioiIrKysyGCksRUZoYmKi/X4Yp7S0tKqqyt7e3tzcvKmp6cWLFwUFBdXV1WSxkArMxsbGLi4uPB6vvLz8+fPnSUlJXJ9Eubm55CU5HR0d9h/F2oqKihQKhZeXF8MwOTk5fD6fvMJINCudplQqSc9Qubm55ubmtra2LMt++PDh9evXpLfhZp0NAQD8r2A/GVJcKS4urnXr1m3atHn9+jXLslu2bAkODu7UqZOPj8+GDRu0S1WsXbvW0NDQ3d39/PnzK1as8PPzS0pKateunZeX18WLF1mWzc7OTkxMjIqKCgsLGzx4sHYJApZlNRrNypUrScWcgICA9PR0lmVPnDgREBAQHx/v5+f31VdfaTSa8vLy9u3bjxgxon379h4eHsOGDZPL5V9++aWRkZG7u/umTZu++eYbUuls6NChXbt2dXBwmDt3Lim4FhMT07JlyxEjRnz99dft2rVzcnL68ssvWZYl3e2SolSurq6rVq1SKpWDBw/W0dFJSEh4+/Ztnz59Dh8+zLLsoUOH/P39SQ0yUnSJ1GXr1atX+/btnZycNm7c2GymvvvuO1KfyMfH58iRI0VFRd7e3kZGRsOHD1er1StXriRV2zw8PMjb64sXL9bT0/P29r527Vptbe3AgQPbtGnToUOHTp06kZ5u+vXrl5KSEh0d7enpOWHChIULF5JKRt9++y3Lsk1NTV9++SWpl9SmTZurV6+yLHvs2LGEhIQePXqQRu7Zs6ehoaFXr146OjqdO3duVu4NAOB/x6cK0aamptTU1KVLlzY1NTU2NkZHRy9cuFCpVHp5eR0/fpxl2YsXL44YMYJ0aE5IJJLo6OgNGzYolcrFixdbWlo+fvxYIpFMnDixc+fOjY2NPXr0mDhxolqtlsvl3bt3nzdvnvYUr1696uzs/Pjx44aGhh9++CE5Ofndu3dOTk4HDx5saGh48eKFm5vbTz/9VFtba2JiMmfOHFIvycbG5saNGw0NDbGxsWvWrGlsbJw5c+aIESNYlo2KioqNjc3KyiopKSGVPisrK58+fSoWi6dPn15XV3fq1Ck7OzuZTJaWlhYZGUnqHR4+fNjR0VEul79+/drJySkrK6upqSkqKmrfvn15eXl2dnYnTpxoaGh4/Pixs7PzxYsXz58/r6end+rUKdK1qaurq3Z5o+LiYmdnZ1L578iRIxMnTtRoNBs2bIiKipJKpXl5ecHBwaR6Een288mTJ3V1dSEhIUePHlWpVNOnT+/SpQu5RTpz5sw+ffqoVKqQkJCePXvW1tbeuXOHdOhcV1e3f/9+Z2dnlUp17NgxLy8vUi/p0KFDfn5+dXV1hw4d0tfXv3DhgkQi+eGHH1q0aKFWqx8+fOji4pKXl0d6AAcA+B/0qS7nCgQC0q/YhQsXcnJyampq5HK5QCDw9fVdtmzZy5cvExMTN27cqP1MClfcR0dHh5QnJJ1ARkdHk+ui9+7dGzhw4KZNm3g8nkgkOnv27Ndff811Cn/x4kVSr5thmOnTp48ePfrEiRM2NjYDBgzg8Xj+/v5dunQ5f/58dHS0ubn5gAEDjI2NfXx8XF1dKysrSa0JPT09sVjM5/O52419+vRp0aIFwzAajaZXr14WFhZCodDT07Nr166k3JJAIKiqqoqPjw8JCXn//v3Zs2cfPHig0WiUSqWhoSGfzzcyMhIIBKRS1fXr10m1KYZhSG1n0nOmu7s76Y8wNjZ22bJlMpmMe5HU2NjY3d39888/79atW2JiYs+ePUkBMlKXTV9f/8qVKwUFBYcOHXr58qVGoyHf1dHRMTY25vF4V69e9fHxIXU6NRrNtWvXSktLhUIhqWTk6enp4eFB5oX0t6dSqc6ePWtiYnL+/HlSCyUvL+/58+d8Pr9ly5ZJSUmkkWvXrlUoFKTMjpGR0W/dnQUA+H/epwpRjUazbt26vXv3BgYGtmzZ0tDQkFQYOHjw4LZt2y5evLh161ZSTVC7QhlB/le7RwIej6dQKFQqVUNDA6mC1LJly9jYWO3bovX19VyZMFKkrK6ujmQJ+dDU1LSqqoqUaeSq7WgXPWD/7yuzQqGQK9AjFAq1S31xNUpJ4Z63b9+OGTPG0NCwVatWRkZGQqGQ/UfdNO3et+vq6rg7tQzDmJiYSCQSUgOLK7/QrAaWoaHhyZMnt27dmp6evmbNmk6dOm3fvp35R6GDysrKMWPGlJeXBwQEWFlZkdZyi5GU0m1qasrPz1er1Xp6ep9//jkp+0V6rCbzQqZL5kWj0TQrQDZ79mxHR8eioqJfFur65QwCAPyv+VQhWl5e/u233x48eJCcvty/f59hGFLeYc6cOVOnTn379m1ERERGRgYpJUZolxtj/29xHGNjY0tLyx49epD3Xq5fv15cXKxdUsfLy+vUqVPk7zdv3ixatCglJeXDhw/cAzhPnjwJCQkRiUS/zMt/SbOvi0SiVatWWVpanjlzhmGYixcv7t+/nxuMK7Cg0Wh8fHxWr14tlUpJ2D99+rRz584kcX9rWiUlJXv27Jk/f/5nn3324MGDLl265OXlcU/xnDx5MjMz88WLFwYGBiUlJdu2bWP/UbWNpL65uXm7du1InaZ3795dvny5WUWwZvPC4/Hc3Nw0Gg0p1CWXyzdu3GhqavpbhbpYlkUnagDwv+xThaienp6dnd3x48cbGxsfPHhw7949Ozs7sVh87ty5Bw8e9O/f/+nTp87OzuRiKSEQCIyNjTdv3kyKOHKlfEghMEtLy3Hjxk2bNo2cJK1cuXLevHnaUyTlBSZOnNi2bdtt27YFBgYmJSXt2bNn0KBBgwYNevToEXkTlNRB44KEq7wjl8tJSTWFQkGKpnGfaP/NalXOIpdPNRqNl5fXzZs3jxw5IpVKd+3a1djYWFNTo6+vr1QqP//883nz5pH6QVFRUZ6engMHDuzfv//t27erq6tTU1Pv378vk8nIVMgIteNKV1f34MGDL1++TE5OvnXrlre3t52dnYWFBamC5OXlJZFI9u/fb2RkdOLEiZqampqaGqFQqKent3LlSnNz89mzZ0+ePFmpVFpbW69atapTp04ikUi72JD2vJDSUePGjevSpcvkyZPbtm174MABlUo1ceJElUrFFREjQ7Isa2hoKJFIFixYMH/+fO3qvgAA/zs+1d0sExOT/fv3i8Xiy5cv+/r6njt3LiYmRiwWHzt2LCAg4Nq1awKB4NChQ+Q1j/+vKXz+V1991bp1a4lE0qlTJ668aGBg4KRJk1iWnTVr1rJly168ePHq1as1a9Y0qypHMtvY2PjOnTspKSmrVq0yMDAgVXtu375taGh4+vRpd3d3XV3defPmkZ2+jo7O5MmTSTWisWPHknKG3bp1IyXGxo8f37ZtW9Iw7m99ff2ZM2d6enoyDGNhYbFw4ULynNGECRPS09MLCgrWrl373XffsSxrZWW1du1akUikUCgmTpwYEhIiFosPHz7cvn37W7dukWKlDg4OrVq1mj59OrnmbG1tvXDhQu6iNMMw5ubmp06dcnR0vHr1qrm5+YEDBwwMDOLi4ubNm0fuxa5du/bx48dPnz6dPn36rl27rK2teTzeihUrWrZsKZFIevTosWvXrqKiovv370+fPn3lypUCgWDy5Mmk2wdjY+PZs2eTKsq2trYLFiwQi8VeXl5nzpzR09O7efNmVFTUsWPH9PT0goODJ0+eTJrk4OCwYMECoVDo4uKyevVqlmWb1UwFAPjfgb5zAQAAKOG5SgAAAEoIUQAAAEoIUQAAAEoIUQAAAEoIUQAAAEoIUQAAAEoIUQAAAEoIUQAAAEoIUQAAAEoIUQAAAEoIUQAAAEoIUQAAAEoIUQAAAEoIUQAAAEoIUQAAAEoIUQAAAEoIUQAAAEoIUQAAAEoIUQAAAEoIUQAAAEoIUQAAAEoIUQAAAEoIUQAAAEoIUQAAAEoIUQAAAEoIUQAAAEoIUQAAAEoIUQAAAEoIUQAAAEoIUQAAAEoIUQAAAEoIUQAAAEoIUQAAAEoIUQAAAEoIUQAAAEoIUQAAAEoIUQAAAEoIUQAAAEoIUQAAAEoIUQAAAEoIUQAAAEoIUQAAAEoIUQAAAEoIUQAAAEoIUQAAAEoIUQAAAEoIUQAAAEoIUQAAAEoIUQAAAEoIUQAAAEoIUQAAAEoIUQAAAEoIUQAAAEoIUQAAAEoIUQAAAEoIUQAAAEoIUQAAAEoIUQAAAEoIUQAAAEoIUQAAAEoIUQAAAEoIUQAAAEoIUQAAAEoIUQAAAEoIUQAAAEoIUQAAAEoIUQAAAEoIUQAAAEoIUQAAAEoIUQAAAEoIUQAAAEoIUQAAAEoIUQAAAEoIUQAAAEoIUQAAAEoIUQAAAEoIUQAAAEoIUQAAAEoIUQAAAEoIUQAAAEoIUQAAAEoIUQAAAEoIUQAAAEoIUQAAAEoIUQAAAEoIUQAAAEoIUQAAAEoIUQAAAEoIUQAAAEoIUQAAAEoIUQAAAEoIUQAAAEoIUQAAAEoIUQAAAEoIUQAAAEoIUQAAAEoIUQAAAEoIUQAAAEoIUQAAAEoIUQAAAEoIUQAAAEoIUQAAAEoIUQAAAEoIUQAAAEoIUQAAAEoIUQAAAEoIUQAAAEoIUQAAAEoIUQAAAEoIUQAAAEoIUQAAAEoIUQAAAEoIUQAAAEoIUQAAAEoIUQAAAEoIUQAAAEoIUQAAAEoIUQAAAEoIUQAAAEoIUQAAAEoIUQAAAEoIUQAAAEoIUQAAAEoIUQAAAEoIUQAAAEoIUQAAAEoIUQAAAEoIUQAAAEoIUQAAAEoIUQAAAEoIUQAAAEoIUQAAAEoIUQAAAEoIUQAAAEoIUQAAAEoIUQAAAEoIUQAAAEoIUQAAAEoIUQAAAEoIUQAAAEoIUQAAAEoIUQAAAEoIUQAAAEoIUQAAAEoIUQAAAEoIUQAAAEoIUQAAAEoIUQAAAEoIUQAAAEoIUQAAAEoIUQAAAEoIUQAAAEoIUQAAAEoIUQAAAEoIUQAAAEoIUQAAAEoIUQAAAEoIUQAAAEoIUQAAAEoIUQAAAEoIUQAAAEoIUQAAAEoIUQAAAEoIUQAAAEoIUQAAAEoIUQAAAEoIUQAAAEoIUQAAAEoIUQAAAEoIUQAAAEoIUQAAAEoIUQAAAEoIUQAAAEoIUQAAAEoIUQAAAEoIUQAAAEoIUQAAAEoIUQAAAEoIUQAAAEoIUQAAAEoIUQAAAEoIUQAAAEoIUQAAAEoIUQAAAEoIUQAAAEoIUQAAAEoIUQAAAEoIUQAAAEoIUQAAAEoIUQAAAEoIUQAAAEoIUQAAAEoIUQAAAEoIUQAAAEoIUQAAAEoIUQAAAEoIUQAAAEoIUQAAAEoIUQAAAEoIUQAAAEoIUQAAAEoIUQAAAEoIUQAAAEoIUQAAAEoIUQAAAEoIUQAAAEoIUQAAAEoIUQAAAEoIUQAAAEoIUQAAAEoIUQAAAEoIUQAAAEoIUQAAAEoIUQAAAEoIUQAAAEoIUQAAAEoIUQAAAEoIUQAAAEoIUQAAAEoIUQAAAEoIUQAAAEoIUQAAAEoIUQAAAEoIUQAAAEoIUQAAAEoIUQAAAEoIUQAAAEoIUQAAAEoIUQAAAEoIUQAAAEoIUQAAAEoIUQAAAEoIUQAAAEoIUQAAAEoIUQAAAEoIUQAAAEoIUQAAAEoIUQAAAEoIUQAAAEoIUQAAAEoIUQAAAEoIUQAAAEoIUQAAAEoIUQAAAEoIUQAAAEoIUQAAAEoIUQAAAEoIUQAAAEoIUQAAAEoIUQAAAEoIUQAAAEoIUQAAAEoIUQAAAEoIUQAAAEoIUQAAAEoIUQAAAEoIUQAAAEoIUQAAAEoIUQAAAEoIUQAAAEoIUQAAAEoIUQAAAEoIUQAAAEoIUQAAAEoIUQAAAEoIUQAAAEoIUQAAAEoIUQAAAEoIUQAAAEoIUQAAAEoIUQAAAEoIUQAAAEoIUQAAAEoIUQAAAEoIUQAAAEoIUQAAAEoIUQAAAEoIUQAAAEoIUQAAAEoIUQAAAEoIUQAAAEoIUQAAAEoIUQAAAEoIUQAAAEoIUQAAAEoIUQAAAEoIUQAAAEoIUQAAAEoIUQAAAEoIUQAAAEoIUQAAAEoIUQAAAEoIUQAAAEoIUQAAAEoIUQAAAEoIUQAAAEoIUQAAAEoIUQAAAEoIUQAAAEoIUQAAAEoIUQAAAEoIUQAAAEoIUQAAAEoIUQAAAEoIUQAAAEoIUQAAAEoIUQAAAEoIUQAAAEoIUQAAAEoIUQAAAEoIUQAAAEoIUQAAAEoIUQAAAEoIUQAAAEoIUQAAAEoIUQAAAEoIUQAAAEoIUQAAAEoIUQAAAEoIUQAAAEoIUQAAAEoIUQAAAEoIUQAAAEoIUQAAAEoIUQAAAEoIUQAAAEoIUQAAAEoIUQAAAEoIUQAAAEoIUQAAAEoIUQAAAEoIUQAAAEoIUQAAAEoIUQAAAEoIUQAAAEoIUQAAAEoIUQAAAEoIUQAAAEoIUQAAAEoIUQAAAEoIUQAAAEoIUQAAAEoIUQAAAEoIUQAAAEoIUQAAAEoIUQAAAEoIUQAAAEoIUQAAAEoIUQAAAEoIUQAAAEoIUQAAAEoIUQAAAEoIUQAAAEoIUQAAAEoIUQAAAEoIUQAAAEoIUQAAAEoIUQAAAEoIUQAAAEoIUQAAAEoIUQAAAEoIUQAAAEoIUQAAAEoIUQAAAEoIUQAAAEoIUQAAAEoIUQAAAEoIUQAAAEoIUQAAAEoIUQAAAEoIUQAAAEoIUQAAAEoIUQAAAEoIUQAAAEoIUQAAAEoIUQAAAEoIUQAAAEoIUQAAAEoIUQAAAEoIUQAAAEoIUQAAAEoIUQAAAEoIUQAAAEoIUQAAAEoIUQAAAEoIUQAAAEoIUQAAAEoIUQAAAEoIUQAAAEoIUQAAAEoIUQAAAEoIUQAAAEoIUQAAAEoIUQAAAEoIUQAAAEoIUQAAAEoIUQAAAEoIUQAAAEoIUQAAAEoIUQAAAEoIUQAAAEoIUQAAAEoIUQAAAEoIUQAAAEoIUQAAAEoIUQAAAEoIUQAAAEoIUQAAAEoIUQAAAEoIUQAAAEoIUQAAAEoIUQAAAEoIUQAAAEoIUQAAAEoIUQAAAEoIUQAAAEoIUQAAAEoIUQAAAEoIUQAAAEoIUQAAAEoIUQAAAEoIUQAAAEoIUQAAAEoIUQAAAEoIUQAAAEoIUQAAAEoIUQAAAEoIUQAAAEoIUQAAAEoIUQAAAEoIUQAAAEoIUQAAAEoIUQAAAEoIUQAAAEoIUQAAAEoIUQAAAEoIUQAAAEoIUQAAAEoIUQAAAEoIUQAAAEoIUQAAAEoIUQAAAEoIUQAAAEoIUQAAAEoIUQAAAEoIUQAAAEoIUQAAAEoIUQAAAEoIUQAAAEoIUQAAAEoIUQAAAEoIUQAAAEoIUQAAAEoIUQAAAEoIUQAAAEoIUQAAAEoIUQAAAEoIUQAAAEoIUQAAAEoIUQAAAEoIUQAAAEoIUQAAAEoIUQAAAEoIUQAAAEoIUQAAAEoIUQAAAEoIUQAAAEoIUQAAAEoIUQAAAEoIUQAAAEoIUQAAAEoIUQAAAEoIUQAAAEoIUQAAAEoIUQAAAEoIUQAAAEoIUQAAAEoIUQAAAEoIUQAAAEoIUQAAAEoIUQAAAEoIUQAAAEoIUQAAAEoIUQAAAEoIUQAAAEoIUQAAAEoIUQAAAEoIUQAAAEoIUQAAAEoIUQAAAEoIUQAAAEoIUQAAAEoIUQAAAEoIUQAAAEoIUQAAAEoIUQAAAEoIUQAAAEoIUQAAAEoIUQAAAEoIUQAAAEoIUQAAAEoIUQAAAEoIUQAAAEoIUQAAAEoIUQAAAEoIUQAAAEoIUQAAAEoIUQAAAEoIUQAAAEoIUQAAAEoIUQAAAEoIUQAAAEoIUQAAAEoIUQAAAEoIUQAAAEoIUQAAAEoIUQAAAEoIUQAAAEoIUQAAAEoIUQAAAEoIUQAAAEoIUQAAAEoIUQAAAEoIUQAAAEoIUQAAAEoIUQAAAEoIUQAAAEoIUQAAAEoIUQAAAEoIUQAAAEoIUQAAAEoIUQAAAEoIUQAAAEoIUQAAAEoIUQAAAEoIUQAAAEoIUQAAAEoIUQAAAEoIUQAAAEoIUQAAAEoIUQAAAEoIUQAAAEoIUQAAAEoIUQAAAEoIUQAAAEoIUQAAAEoIUQAAAEoIUQAAAEoIUQAAAEoIUQAAAEoIUQAAAEoIUQAAAEoIUQAAAEoIUQAAAEoIUQAAAEoIUQAAAEoIUQAAAEoIUQAAAEoIUQAAAEoIUQAAAEoIUQAAAEoIUQAAAEoIUQAAAEoIUQAAAEoIUQAAAEoIUQAAAEoIUQAAAEoIUQAAAEoIUQAAAEoIUQAAAEoIUQAAAEoIUQAAAEoIUQAAAEoIUQAAAEoIUQAAAEoIUQAAAEoIUQAAAEoIUQAAAEoIUQAAAEoIUQAAAEoIUQAAAEoIUQAAAEoIUQAAAEoIUQAAAEoIUQAAAEoIUQAAAEoIUQAAAEoIUQAAAEoIUQAAAEoIUQAAAEoIUQAAAEoIUQAAAEoIUQAAAEoIUQAAAEoIUQAAAEoIUQAAAEoIUQAAAEoIUQAAAEoIUQAAAEoIUQAAAEoIUQAAAEoIUQAAAEoIUQAAAEoIUQAAAEoIUQAAAEoIUQAAAEoIUQAAAEoIUQAAAEoIUQAAAEoIUQAAAEoIUQAAAEoIUQAAAEoIUQAAAEoIUQAAAEoIUQAAAEoIUQAAAEoIUQAAAEoIUQAAAEoIUQAAAEoIUQAAAEoIUQAAAEoIUQAAAEoIUQAAAEoIUQAAAEoIUQAAAEoIUQAAAEoIUQAAAEoIUQAAAEoIUQAAAEoIUQAAAEoIUQAAAEoIUQAAAEoIUQAAAEoIUQAAAEoIUQAAAEoIUQAAAEoIUQAAAEoIUQAAAEoIUQAAAEoIUQAAAEoIUQAAAEoIUQAAAEoIUQAAAEoIUQAAAEoIUQAAAEoIUQAAAEoIUQAAAEoIUQAAAEoIUQAAAEoIUQAAAEoIUQAAAEoIUQAAAEoIUQAAAEoIUQAAAEoIUQAAAEoIUQAAAEoIUQAAAEoIUQAAAEoIUQAAAEoIUQAAAEoIUQAAAEoIUQAAAEoIUQAAAEoIUQAAAEoIUQAAAEoIUQAAAEoIUQAAAEoIUQAAAEoIUQAAAEoIUQAAAEoIUQAAAEoIUQAAAEoIUQAAAEoIUQAAAEoIUQAAAEoIUQAAAEoIUQAAAEoIUQAAAEoIUQAAAEoIUQAAAEoIUQAAAEoIUQAAAEoIUQAAAEoIUQAAAEoIUQAAAEoIUQAAAEoIUQAAAEoIUQAAAEoIUQAAAEoIUQAAAErCTzRehUKhUCh4PN4nGj8AAIA2lmV1dHT09PT+yol+qhDdsmXLli1bhMJPNX4AAABtarU6MTFx1apVf+VEeSzLforx5ufnFxYW4kwUAAD+GizLWlpaent7/5UT/VQhCgAA8P88PFgEAABACSEKAABACSEKAABACSEKAABA6VO9gqLRaI4fP/7+/XuNRsMwjFqtbtGiRf/+/Q8fPmxsbNytW7c/MpKKigp9fX0DA4N/derFxcX79u3r16+fh4fHPx34xIkTKpWqT58+Bw4csLGxSUpK+q0hWZa9cuXK2bNnW7RoIRKJHB0dY2Njt23b1rp163bt2v3OJI4fP65SqQYMGPDLf7p3796TJ09GjRr1F7/bpK2oqMjBwYF7lFqj0Rw+fPjevXudOnXq2rXrHxxJeXn5oUOHsrOzHR0dBw0a5OTk9Mna+0c9efLkypUrqamp9vb2jY2Ne/fu9fX1jYiI+JdG8vTp0zt37gwbNszY2PgTtRP+i7Ase/LkyRcvXiQmJoaHh1dUVJw/f76pqYlsPs7OzgkJCQzD1NTUbN++vW/fvm5ubgzDvHjx4vTp025ubv379xeJRGRUt2/ffvXq1ciRI3V0dBiGuXXr1tWrV/39/Xv27Mnn/3+nN1euXHn37t2oUaPIt6qqqnbu3JmSkuLs7PwfmX34FeynoVKpIiMjBQJBSEhIaGhoUFDQ1KlTGxsbQ0NDe/fu/UfG8ODBg+Dg4Ly8PIqpZ2RktG7d+vbt239k4MTExKioKLlc3qpVq9TU1N8Zsr6+3tbWNjw8fOvWrf369Vu2bFl1dbW+vv7XX3/9+5Po2LFjeHj4r/7T4sWLDQ0NKysr/0hTP4UlS5b06tVL+5OsrCw+n9+9e/e0tLQ/OJL8/Hx/f39LS8vo6GgjIyN3d/f3799/gsb+a8jrYqNHj2ZZtqamxs7O7vPPP/9XR7J69Wo9Pb3i4uJP0ED477N27Vo9Pb2AgABTU9MHDx48f/7c3t7ezMzMwsKCYZgBAwawLFtdXT106FCGYdLT01mWffPmjb29va+vr5GR0fz588l4Hj586ODg4O3tLZVKWZY9dOiQsbFx+/bthULh999/T4b58OGDtbW1l5eXRCJhWbaysnLgwIEMw9y4ceM/M/Pwaz5hZwh8Pj8mJiY9PZ37RKVSiUQi7pBq7969FRUVPXv2bNu2LcMw+fn5Bw8elEqlXbt2DQkJWbt2bUZGxp49e8aPH3/p0iVLS8tHjx517do1ODj4zJkzd+/edXFxGTRokImJyc2bNysrK8Vi8e3btyMjI5OTk62trQcPHmxvb88wzIsXL06cOMHj8fr06ePn56dUKo8dO5aRkWFlZZWSkuLi4iISicjpsq6uroGBwd27d9++fZuamioSidLT08vLywcOHMjj8Zqamg4cOFBWVhYVFdW2bVsDAwMbGxuWZfX09MiBZFlZ2d69e+vr6/v27RsUFMQwzJMnT06ePOnp6cmyrK6urvbCKS4u3rt3r66ubnV1tYGBATmMvX379oULF0xMTAYMGECONJ88eXLq1CmxWNyvX7+WLVveuXMnOzt76NChDQ0N+/fvj42NNTExuXDhgpubW3p6uo+PT0RExN69e42NjYcOHWpqalpTU7Nnz56PHz927969ffv2VVVVp06d8vX1vXLlioGBwciRI0tLS3fs2NHU1HT69OkePXowDCOVSrdu3arRaNzc3AICAhQKxYEDB7KyskJDQ/v06SMQCM6ePavRaHJzcx0dHfv27UtmZ9myZbm5uffu3fP19b19+/acOXOys7M9PT0rKysPHTpUXFwcHR3duXNnpVJ5/PhxBweHZ8+eKRSKgQMHXrt27f379ykpKX5+flevXq2treXxeA8fPuzSpUtUVBTDMFevXk1LSxOJRMnJye3atXv69GlWVpatrW1aWlpwcHD//v3T0tKqq6sHDRrEMMypU6d4PB6ZEYZhSF8fu3fvHjhwYHh4uK6urkgkUigUBw8eDA4ODgoKun///vv37wcNGnTx4kWGYWpqarKysgYOHFhYWHj9+vWOHTvGxcUJhUIDA4P09PQ3b96QhcDj8crKyvbs2SORSMhvXVFR8fPPP9va2j58+HDEiBEPHz40NzePj4//dBsX/EeoVKoNGzb06tVr27Ztvr6+mzdv3rZt26tXr3g83vHjxxcuXLhw4cKamprk5OTc3FyhUCgQCBiGOXbsmFwuz8jIWLNmzZYtW+bPn3/jxo3hw4fzeDw7Ozs+n6/RaJYuXdqpU6c9e/acPHmSXHtTq9Vz5syprKx0dHQUCoUVFRVdu3bNz88XCoXceSr8LXyicFapVHFxcU5OTtOnT58xY8aMGTOuXr2qVqvbt28/aNCghoaGuLg4Pz+/3r17W1tb3717t7y83Nvb28/PLz4+3sTE5Pz585GRkXw+v3Pnzq9evbK2tjYzMwsMDExPT1+6dKmurm58fLytrW18fHxDQ8OkSZNEIlGPHj3atm2rq6v77Nmzx48fCwSCS5cuvXz50tbWtl27dmFhYQ4ODgUFBTt37rSysho5cqS7u3t0dLRare7WrVtCQoJcLg8ODp40adLx48cZhrlz545KpfLy8ho2bBiZI6VSOX78eIZhWrVqdejQoZCQkHHjxtXW1lpYWHz77bcymSwsLCw4OLh79+52dnbPnz/PysqysbEJCgrq1auXWCxOSkriFk59fX27du0cHBxSUlIsLS3t7e2lUumhQ4cMDAwiIyNbtGjh5eVVUFDw4MEDS0vLyMjIkJAQNze38vLymTNnWlpaqtXqgoIChmH27Nlz//59hmHCw8M7d+4sFAqDg4P79Omjo6OzcOFCuVyelJTUqlWr3r17W1pa3r59Oysri2EYkj0CgWD27NnXr183Nzc3Njb+4osvSNuqqqo6duzIMEy7du3u3r3bv39/S0vLjh07GhgYTJs2TaPRJCUlicViLy+vFStWkK80NDT4+fl17tyZm0GFQqHRaCorK9u2bevs7BwbGysSiX788UepVOrh4UFm3NDQ0M3NrXfv3s7OzkFBQQqFYsSIETo6Oh07dmzTpo2Jicn9+/czMzPt7e379u0bHR1tbW1dVFT03Xff8fn8rl27xsfH83i89PT09evXi0SinJycqqoqc3PzhQsXcs348ccfzczM3N3d27RpU1xc7OHhsWTJksrKSmNjY9L4OXPm2NnZKRSKzp076+vrp6SkODo62tjYdO3atU2bNqampnl5edu3b+fxeOHh4cnJyTweb/PmzfX19WFhYSEhId27d7e3t3/16lVGRgbDMHZ2du3atcvMzAwPDx87duwn2rLgP6i4uNjc3JxceYqLi+vQoYNGo2FZViKReHt7L126lGXZkpKSbdu2nThxQiQSXb16lWXZlJSU4OBglmUPHDjAMExubu7NmzdPnTo1fvx4Pz+/xsbGsrIyKyuryMjIhISE4cOHl5aWsiy7adMmPz+/oUOH+vn5yeXy0tLS7du3Hzt2TCwW37x58z+5FOD/+oQhGh8fb2pqmpCQkJCQEBcXd/jwYZZl27dvP2zYsGvXrvF4vBUrVty+fdve3n7ixIlbt24VCoWvXr1SKpX79+/Pzc3duXOnoaHh+/fva2trjYyMRowY0djYWFJSoq+vP2fOHI1Gc/nyZYZhzpw5M2vWLFNT0/r6+nfv3jEMc/DgwYyMDJFIdP369blz55qZmdXU1JBzsrKyso8fP16+fPnnn3+OioqysrJSKBTdu3fnQnTMmDFSqdTJyenzzz9/+vQpORnlZqqwsFAoFG7btk2j0QQEBEyYMIGE6KpVq8ipzNq1a69du2Zubj5//vxvv/3WwMAgPz9fqVQGBwcnJCRw47l+/TrDMMePH2dZdtSoUVZWViUlJaGhoZ06dWpqasrJyTEyMlqyZMmECRPs7e0bGhrKy8v37NlTU1Mze/Zse3t7tVpNWrJv374HDx4wDHPq1Kna2lpjY+PJkyezLNuhQ4du3bqRfF2yZMm9e/dcXV2HDBlCQnTLli0sy3bq1Klt27YkFKOiotRqNde8q1evCgSCe/fu3b59m2GYI0eOsCy7bNkysViclZXVtWtXNze36upq7iu1tbUeHh4pKSnN1gHym969e1ej0YwcOdLe3j47O9vLy2vw4MEsy3bv3t3BwUGlUv34448mJibl5eWjR4+2sbGprKysqqpydHQcO3ZsY2PjtWvXrl27NmnSJIZhHj9+vGrVKgMDg6ysrPLyclNT05UrV378+NHQ0HDr1q3nzp0Ti8UvX77kGvDDDz+4urqS/c6cOXNatmxJQtTCwmLlypUsy86bN8/JyUmhUCQlJXl7e7Ps/6+9e42Jo9oDAH7mtbvDMrDvhS7dBaFdoHQJfVBoCmmpFBtj3A9iUForjSa1TYxKTKqh1gdULNSGtrbG1iqN2tJHTN36QQgKpWlsQFOBgpQolMLyWFhg2Qe7s7tzP5w42aAx925uvXrz/31olsnZs2dmzsx/zn/mTIV3332XYZiBgYGuri58LfXxxx9LpdKuri5BEDZv3pyXl3ft2jWE0AcffNDW1qZUKl999dXe3l6E0JEjRwKBQDgcdjgcc3Nz/83DCfw9DA0NKRSKQ4cOCYJQUlKSn58fDAYFQfjoo4/0ev3ExIRY8saNGzRN4yD6+OOPr1u3ThCECxcuIITELrp3796srCy/34+rTU9P/+yzz1asWPHUU0/19fUlJSVdvXr14MGDZrN5fn4ef+W7775jGAaC6N/KA0zn8jy/fv365uZmcUkwGEQIkSTpcDgIgrh+/frPP/9cWFhosVjsdrtMJlu2bBnDMKWlpQRB4BSrVCrFn81ms1Qq9Xg8Xq83MzOTIIjVq1cjhCYnJwmCUKlUHMe5XC7xbb0EQQiC4HQ6FQqFQqFACOHh17lz5+rq6vAwl2GYJS8mDIfDcrm8tLTUZrPNzs6mpqZGPoeCsygkSS75FkmSU1NTJEm2trb++OOPxcXFZrO5u7s7JiYmMTGRYRitVsvzvFh+bm6OpmmDwYAQSkpKIknS6/VOT08XFBRQFLV8+fKEhISxsTGHw6FWq1mWZVm2tLSUYZhQKIR/jqIo/FkQBJqmtVotQRASiQQngXHq2OFwIIRwBjgvLy87Oxtvf5zljo2NdTqdBEEQBEFRVGSCCH+mKMput9M0jd+hZbFYAoGA0+lECBmNRqVSKZaXy+U6na6/vx//OTMzU1NTU15ePjk5GRcXl5aWRhDEqlWrrly5Mj8/TxBEUlISQkgikWg0GpqmpVIpzmiFw2GO4/C9pYSEhLm5ub6+vsrKypSUFI7jKIrCPYHjOI1GgxBiWZbneZ1O98gjj1y4cEGr1ebl5WVmZkbuGr/fX1xc/MILLxw9elQikeD0GkEQeB1DoZC4K3GdEolEoVCo1Wqv14uXC4IglUp1Oh1u1Z07d8bGxhBCLS0tnZ2d27ZtW7FiBe6rWVlZOLGPqwL/fziOo2na4/EghBYWFmJjY3GPamxs3LJli16vF0viwxNTKpWDg4MIIZ/PR5JkTEwMXi4IAv43Pj4eIbRly5by8vKBgYGmpqb6+vrR0dG6urrh4WGHw7F///7jx4+LRz34W3mwuXW73W6z2b7++mubzdbW1hYMBsPhMM/zGRkZFEVt2rTpwIEDMTExZrN5w4YNbrf7iy++uHnzZlpa2sWLF1mW9fv9vb29Pp9P+O3dhHq9Pi0t7ZNPPunt7T127BhN0xs2bMDJQ5xXEYdH+MOaNWuGh4dtNttXX32VnJzc2tra2Nio1WoPHz6s1+v9fr8gCPi7CKFwOIz76I4dO3755ZezZ8+WlZVF3svE1YqFxQePeZ63WCyCIDz88MOvvfaaTCbLyMjIzc2dnp6+fPnyjRs3bt26Ffku/vT0dHwTpb+/32azhUIhlUq1du3aS5cudXZ2fv7554ODg0VFRbm5uQMDAy0tLU1NTSaTqaenR61Wz8zM3L59u7m5WTwCI9ddbFIwGFy5ciXDMPn5+W+88QbHcRaLBUcOsYxYw/T09PDwsNg8vB2CwaDFYqEoCt/1OXXqlNFoNJvNgUBgyS0ZmqZ3797d3d39+uuvt7W1vfLKK0ePHp2dnS0oKHA6nWfPnv3pp5/wk7FGo5HnebEBSzY7wzD379+/dOlSa2trX1/fxo0bL1++PDg4WF9fn5ubu2TPih8QQhUVFR0dHV9++eUzzzwTeX2DywSDwaqqKqPRiOOiRCJhGOb27dv37t3r6OjANSzpA3ir4hoIgnC5XE1NTd3d3e3t7VlZWevWrUMIlZSU7N+/n2XZ7OxsXAn+6XA43NjYiDMT4P+MSqVKT09vbW3t6Ojo7e3Fz+SPj4/39/cXFhZGlozsn/n5+Xfv3v3mm2+uXbuWkZGBL8jQb70uFAoplcr169e3trbeunWro6PDYDBYrdaDBw8WFBQYDAaWZVetWvX7asHfxAMciarV6p6enoqKCvxnWlpaS0uLUqmUyWRZWVnV1dUNDQ0nT55MTEzU6/Vms/nll18+cOAARVFr167dtm2b3W7XarX79u3DM0/w5RvHcadPn37xxRe3bt3KMExDQ8Pq1aslEgkeGJEkqdFopFIpTdNqtVoQhB07drS3t+/atYskyccee6ygoKCsrOzNN98sLi7WaDQqlWpiYkKhUNA0TRCEQqGIjY1FCOXk5OTm5l6/ft1qtUauEa4fh1VcmCAItVrNMEx2dnZVVdWhQ4dqa2tTUlI0Go3FYikvL9+3b19GRobZbOY4TqzHbDa/8847hw8fxqHd7/czDFNbW/v8888/+uijgiBUVlZarVaXy3Xz5s2ysjKSJJ944omsrCyKoj799NPt27fje404Hmg0GjykxsNWhFBcXBxJkitXrnzvvfeOHDly+vRpjUbz0ksvURSlVCrxg10cx+E5G5s3b66pqamsrMQ3gxFCuE68y44fP15dXX3x4kW1Wn3mzBmlUimXy39/DFdUVDgcjmPHjp06dUoikdTV1W3dujUcDr/99tsNDQ3vv/++0Wj88MMPY2JiFAqFuCtxhkAmk6nVajwYlcvlJ06cuHPnTmFh4c6dO+/evXv+/Pnt27c/9NBDSUlJeMqTSqXC4UqlUuH1LSoqSk1NnZqaKikpiWwVy7IqlSoUCul0uurqanzvnOO4Z5999uTJkz09PYmJiThDEBcXh4cULMuq1WqCIGiaViqVDMNIJJLU1NRvv/22rq5Or9dXVVVlZmZWVVW99dZbNTU1JpNJr9e73W5cGCEUCoVOnDixZs2aP5krBf6h8E2o5557zmq15uTk7N27FyE0NTXFsmxGRkZkSXwQ4UvnJ598srm5+emnn8bdW5yzFxsbq1AocGeur6/fuXMnfijyzJkzGzduxPMAa2trr169umfPHtw/xeP9L15x8Cce4Avo3W43z/Ni/SRJxsfHu91ukiRxN7Lb7W6322QySaVSXGZkZITn+eTkZNxjxsfHfT7f8uXLPR6PTCYTB4Uej2d0dFSpVOJrOq/Xy/N8fHx8OByen5+Xy+UURS0sLMjlcoZhBEEYGhqiKMpkMuGv379/PxwOGwwGt9stl8sDgYAgCHK5fGFhgaZpmqYnJyetVqtcLm9vb48c2eD6Y2JipFIpTh2zLDs/Py+2bXR01OfzJScni+fT4eFhfK7neT4yjuKVpShKp9N5vV6O40iS5Hn+3r17UqlUnGSJa2AYRpwW5nQ6nU6nyWTy+XwymYwkyYWFBZztFFvidrsRQviCYHx8fGFhwWg0ymSyUCjkcrliY2MZhvF4PDg1GgqFhoaGOI4Tk1HBYBDXiU8BMzMzDodj2bJlOOhGVr7E9PS0w+HQarWR+cyJiYn5+Xmj0ciyrCAILpdLIpGwLOvxeEKhUFxcnN/v9/l8cXFxu3bt6uzs/OGHH+x2O35qGtc5OztrMpkWFxfxEr/fj1vicrlwtn9kZKSoqGjTpk3nz5+PbM/i4qLf78fbFiE0OzvLsqxMJsNdQi6Xq1Qqr9eLu6UgCBzHLS4uLi4u4r7kcrnw9gkEAhKJZGRkJCEhQdyJeF/jduIthjcsbhhFUVHMbwb/CHNzc1NTU+KJa8nxgi1ZGAqFfv311/j4eHEYihDyer3BYJDjOHyScbvdY2NjiYmJkTOSfT4fPnXgMn/4W+B/C/4Xl6W+//57PJP13Llz+DlV8NfYs2dPV1cXfqLn32ez2Xbv3s1x3JUrV3Jych5Q2wAA4A9BEF3K5/N1d3cbDAb8/Av4yzidzkAgkJCQ8B99y+Vy9ff3p6SkRF7jAwDAXwOCKAAAABAlePMFAAAAECUIogAAAECUIIgCAAAAUYIgCgAAAEQJgigAAAAQJQiiAAAAQJQgiAIAAABRgiAKAAAARAmCKAAAABAlCKIAAABAlCCIAgAAAFGCIAoAAABECYIoAAAAECUIogAAAECUIIgCAAAAUYIgCgAAAEQJgigAAAAQJQiiAAAAQJQgiAIAAABRgiAKAAAARAmCKAAAABAlCKIAAABAlCCIAgAAAFGCIAoAAABECYIoAAAAECUIogAAAECUIIgCAAAAUYIgCgAAAETpX7J1iu+Fi0M8AAAAAElFTkSuQmCC'},\n",
       "    'text': None,\n",
       "    'type': 'image_url'},\n",
       "   {'image_url': {'url': 'data:image/png;base64,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'},\n",
       "    'text': None,\n",
       "    'type': 'image_url'},\n",
       "   {'image_url': None,\n",
       "    'text': 'What is the purpose of the Confirmation Statement mentioned in the document?',\n",
       "    'type': 'text'}],\n",
       "  'role': 'user'},\n",
       " {'content': [{'image_url': None,\n",
       "    'text': 'The purpose of the Confirmation Statement is to confirm that all information required to be delivered by the company to the registrar in relation to the confirmation period concerned has been delivered or is being delivered at the same time as the confirmation statement.',\n",
       "    'type': 'text'}],\n",
       "  'role': 'assistant'},\n",
       " {'content': [{'image_url': None,\n",
       "    'text': 'When was the filing received as per the document?',\n",
       "    'type': 'text'}],\n",
       "  'role': 'user'},\n",
       " {'content': [{'image_url': None,\n",
       "    'text': 'The filing was received for filing in Electronic Format on the 23/03/2021.',\n",
       "    'type': 'text'}],\n",
       "  'role': 'assistant'},\n",
       " {'content': [{'image_url': None,\n",
       "    'text': 'What is the company name and company number provided in the document?',\n",
       "    'type': 'text'}],\n",
       "  'role': 'user'},\n",
       " {'content': [{'image_url': None,\n",
       "    'text': 'The company name is HERBERT ULRICH FRICK LTD. and the company number is 07101641.',\n",
       "    'type': 'text'}],\n",
       "  'role': 'assistant'},\n",
       " {'content': [{'image_url': None,\n",
       "    'text': 'When was the last confirmation date provided in the document?',\n",
       "    'type': 'text'}],\n",
       "  'role': 'user'},\n",
       " {'content': [{'image_url': None,\n",
       "    'text': 'The last confirmation date provided in the document is 11/12/2020.',\n",
       "    'type': 'text'}],\n",
       "  'role': 'assistant'},\n",
       " {'content': [{'image_url': None,\n",
       "    'text': 'Who is authorised to authenticate the form?',\n",
       "    'type': 'text'}],\n",
       "  'role': 'user'},\n",
       " {'content': [{'image_url': None,\n",
       "    'text': 'The form was authenticated by one of the following: Director, Secretary, Person Authorised, Charity Commission Receiver and Manager, CIC Manager, Judicial Factor.',\n",
       "    'type': 'text'}],\n",
       "  'role': 'assistant'},\n",
       " {'content': [{'image_url': None,\n",
       "    'text': 'What is the purpose of the Confirmation Statement document?',\n",
       "    'type': 'text'}],\n",
       "  'role': 'user'},\n",
       " {'content': [{'image_url': None,\n",
       "    'text': 'The Confirmation Statement is a document that confirms all required information has been delivered to the registrar or is being delivered at the same time as the statement.',\n",
       "    'type': 'text'}],\n",
       "  'role': 'assistant'},\n",
       " {'content': [{'image_url': None,\n",
       "    'text': 'When was the document for Company Number 07101641 received for filing in Electronic Format?',\n",
       "    'type': 'text'}],\n",
       "  'role': 'user'},\n",
       " {'content': [{'image_url': None,\n",
       "    'text': 'The document was received for filing in Electronic Format on 23/03/2021.',\n",
       "    'type': 'text'}],\n",
       "  'role': 'assistant'},\n",
       " {'content': [{'image_url': None,\n",
       "    'text': 'What is the name and company number of the company associated with the provided Confirmation Statement?',\n",
       "    'type': 'text'}],\n",
       "  'role': 'user'},\n",
       " {'content': [{'image_url': None,\n",
       "    'text': 'The company name is Herbert Ullrich Frick Ltd. and the company number is 07101641.',\n",
       "    'type': 'text'}],\n",
       "  'role': 'assistant'},\n",
       " {'content': [{'image_url': None,\n",
       "    'text': 'When was the most recent Confirmation Statement date before the date of the document?',\n",
       "    'type': 'text'}],\n",
       "  'role': 'user'},\n",
       " {'content': [{'image_url': None,\n",
       "    'text': 'The most recent Confirmation Statement date before the date of the document was 11/12/2019.',\n",
       "    'type': 'text'}],\n",
       "  'role': 'assistant'},\n",
       " {'content': [{'image_url': None,\n",
       "    'text': 'Who is permitted to authorize the Confirmation Statement document?',\n",
       "    'type': 'text'}],\n",
       "  'role': 'user'},\n",
       " {'content': [{'image_url': None,\n",
       "    'text': 'The Confirmation Statement document can be authorized by a Director, Secretary, Person Authorized, Charity Commission Receiver and Manager, CIC Manager, or Judicial Factor.',\n",
       "    'type': 'text'}],\n",
       "  'role': 'assistant'},\n",
       " {'content': [{'image_url': None,\n",
       "    'text': 'What does the statement \"All information required to be delivered by the company to the registrar in relation to the confirmation period concerned either has been delivered or is being delivered at the same time as the confirmation statement\" imply about the company\\'s compliance?',\n",
       "    'type': 'text'}],\n",
       "  'role': 'user'},\n",
       " {'content': [{'image_url': None,\n",
       "    'text': 'The statement implies that the company is in compliance with the requirement to deliver all necessary information to the registrar for the specified confirmation period.',\n",
       "    'type': 'text'}],\n",
       "  'role': 'assistant'},\n",
       " {'content': [{'image_url': None,\n",
       "    'text': 'What type of document was electronically filed for Company Number 07101641?',\n",
       "    'type': 'text'}],\n",
       "  'role': 'user'},\n",
       " {'content': [{'image_url': None,\n",
       "    'text': 'The electronically filed document for Company Number 07101641 was a Confirmation Statement.',\n",
       "    'type': 'text'}],\n",
       "  'role': 'assistant'},\n",
       " {'content': [{'image_url': None,\n",
       "    'text': 'Convert this page to docling.',\n",
       "    'type': 'text'}],\n",
       "  'role': 'user'},\n",
       " {'content': [{'image_url': None,\n",
       "    'text': '<doctag><picture><loc_26><loc_9><loc_151><loc_39></picture>\\n<picture><loc_344><loc_11><loc_470><loc_36></picture>\\n<section_header_level_1><loc_265><loc_48><loc_408><loc_56>Confirmation Statement</section_header_level_1>\\n<text><loc_24><loc_88><loc_99><loc_95>Company Name:</text>\\n<text><loc_119><loc_88><loc_267><loc_95>HERBERT ULRICH FRICK LTD.</text>\\n<text><loc_24><loc_98><loc_108><loc_105>Company Number:</text>\\n<text><loc_119><loc_98><loc_164><loc_105>07101641</text>\\n<text><loc_24><loc_98><loc_108><loc_105>Company Number:</text>\\n<text><loc_119><loc_98><loc_164><loc_105>07101641</text>\\n<text><loc_24><loc_130><loc_283><loc_137>Received for filing in Electronic Format on the: 23/03/2021</text>\\n<text><loc_310><loc_130><loc_353><loc_135>XA0ULB9D</text>\\n<text><loc_24><loc_167><loc_99><loc_174>Company Name:</text>\\n<text><loc_135><loc_167><loc_283><loc_174>HERBERT ULRICH FRICK LTD.</text>\\n<text><loc_24><loc_187><loc_108><loc_194>Company Number:</text>\\n<text><loc_135><loc_187><loc_180><loc_194>07101641</text>\\n<text><loc_24><loc_207><loc_84><loc_214>Confirmation</text>\\n<text><loc_24><loc_220><loc_95><loc_226>Statement date:</text>\\n<text><loc_135><loc_207><loc_185><loc_214>11/12/2020</text>\\n<page_footer><loc_24><loc_478><loc_231><loc_483>Electronically filed document for Company Number:</page_footer>\\n<page_footer><loc_357><loc_478><loc_395><loc_483>07101641</page_footer>\\n<picture><loc_308><loc_104><loc_465><loc_128></picture>\\n<page_break>\\n<section_header_level_1><loc_161><loc_35><loc_333><loc_46>Confirmation Statement</section_header_level_1>\\n<text><loc_24><loc_56><loc_465><loc_80>I confirm that all information required to be delivered by the company to the registrar in relation to the confirmation period concerned either has been delivered or is being delivered at the same time as the confirmation statement</text>\\n<page_footer><loc_24><loc_478><loc_231><loc_483>Electronically filed document for Company Number:</page_footer>\\n<page_footer><loc_357><loc_478><loc_395><loc_483>07101641</page_footer>\\n<page_break>\\n<section_header_level_1><loc_198><loc_35><loc_296><loc_46>Authorisation</section_header_level_1>\\n<text><loc_24><loc_56><loc_85><loc_63>Authenticated</text>\\n<text><loc_24><loc_66><loc_242><loc_73>This form was authorised by one of the following:</text>\\n<text><loc_24><loc_77><loc_465><loc_92>Director, Secretary, Person Authorised, Charity Commission Receiver and Manager, CIC Manager, Judicial Factor</text>\\n<page_footer><loc_24><loc_478><loc_260><loc_483>End of Electronically filed document for Company Number:</page_footer>\\n<page_footer><loc_357><loc_478><loc_395><loc_483>07101641</page_footer>\\n</doctag>',\n",
       "    'type': 'text'}],\n",
       "  'role': 'assistant'}]"
      ]
     },
     "execution_count": 12,
     "metadata": {},
     "output_type": "execute_result"
    }
   ],
   "source": [
    "dataset[0]['messages']"
   ]
  },
  {
   "cell_type": "code",
   "execution_count": 13,
   "id": "f470cad1-5bd4-4c8c-89df-d73fff34b06f",
   "metadata": {},
   "outputs": [
    {
     "data": {
      "application/vnd.jupyter.widget-view+json": {
       "model_id": "2543f97369fe4d4f93a2d4579530ba26",
       "version_major": 2,
       "version_minor": 0
      },
      "text/plain": [
       "Creating json from Arrow format:   0%|          | 0/1 [00:00<?, ?ba/s]"
      ]
     },
     "metadata": {},
     "output_type": "display_data"
    },
    {
     "data": {
      "text/plain": [
       "49994251"
      ]
     },
     "execution_count": 13,
     "metadata": {},
     "output_type": "execute_result"
    }
   ],
   "source": [
    "dataset_filename = os.path.join(dataset_parent_path, f\"{dataset_name.replace('/', '--').replace('.', '-')}.jsonl\")\n",
    "dataset.to_json(dataset_filename, lines=True)"
   ]
  },
  {
   "cell_type": "markdown",
   "id": "53373d8c-1ddf-4575-a26d-11d7f7df3a90",
   "metadata": {},
   "source": [
    "#### Upload file to S3"
   ]
  },
  {
   "cell_type": "code",
   "execution_count": 49,
   "id": "cc2c2989-d283-4305-afb7-a7a04a5b60b4",
   "metadata": {},
   "outputs": [],
   "source": [
    "from sagemaker.s3 import S3Uploader"
   ]
  },
  {
   "cell_type": "code",
   "execution_count": null,
   "id": "9455282f-5330-41e2-a020-b94a60d1a8ea",
   "metadata": {},
   "outputs": [],
   "source": [
    "data_s3_uri = f\"s3://{sess.default_bucket()}/dataset\"\n",
    "\n",
    "uploaded_s3_uri = S3Uploader.upload(\n",
    "    local_path=dataset_filename,\n",
    "    desired_s3_uri=data_s3_uri\n",
    ")\n",
    "print(f\"Uploaded {dataset_filename} to > {uploaded_s3_uri}\")"
   ]
  },
  {
   "cell_type": "markdown",
   "id": "dc65e320-cb5c-4cce-8d71-ff7152ac9f95",
   "metadata": {},
   "source": [
    "## Fine-Tune LLMs using SageMaker `Estimator`/`ModelTrainer`"
   ]
  },
  {
   "cell_type": "code",
   "execution_count": null,
   "id": "2a7c12ae-a6d4-4225-af55-89776bf09cf6",
   "metadata": {},
   "outputs": [],
   "source": [
    "import time\n",
    "from sagemaker.pytorch import PyTorch\n",
    "from sagemaker.huggingface import HuggingFace\n",
    "from getpass import getpass\n",
    "import yaml\n",
    "from jinja2 import Template"
   ]
  },
  {
   "cell_type": "code",
   "execution_count": null,
   "id": "f97c597d",
   "metadata": {},
   "outputs": [],
   "source": [
    "# Get Hugging Face token for model downloads (if needed)\n",
    "hf_token = getpass()"
   ]
  },
  {
   "cell_type": "markdown",
   "id": "8a530ca5-253a-4202-a144-7203a207b8d2",
   "metadata": {},
   "source": [
    "### Training using `PyTorch` Estimator\n",
    "\n",
    "**Training Using `PyTorch` Estimator**\n",
    "Leverages the official PyTorch SageMaker container to run a custom training script using the Accelerate and DeepSpeed libraries. This option is ideal for users who want full control over the training pipeline \n",
    "\n",
    "---\n",
    "**Observability**: SageMaker AI has [SageMaker MLflow](https://docs.aws.amazon.com/sagemaker/latest/dg/mlflow.html) which enables you to accelerate generative AI by making it easier to track experiments and monitor performance of models and AI applications using a single tool.\n",
    "\n",
    "You can choose to include MLflow as a part of your training workflow to track your model fine-tuning metrics in realtime by simply specifying a **mlflow** tracking arn.\n",
    "\n",
    "Optionally you can also report to : **tensorboard**, **wandb**."
   ]
  },
  {
   "cell_type": "code",
   "execution_count": null,
   "id": "574b173f",
   "metadata": {},
   "outputs": [],
   "source": [
    "MLFLOW_TRACKING_SERVER_ARN = None # or \"arn:aws:sagemaker:us-west-2:<account-id>:mlflow-tracking-server/<server-name>\"\n",
    "\n",
    "if MLFLOW_TRACKING_SERVER_ARN:\n",
    "    reports_to = \"mlflow\"\n",
    "else:\n",
    "    reports_to = \"tensorboard\""
   ]
  },
  {
   "cell_type": "code",
   "execution_count": null,
   "id": "49dea7f3",
   "metadata": {},
   "outputs": [],
   "source": [
    "job_name = 'meta-llama--Llama-3.2-11B-Instruct'\n",
    "training_instance_type = \"local_gpu\""
   ]
  },
  {
   "cell_type": "code",
   "execution_count": null,
   "id": "c182e8ef-1cb0-4ca7-89d9-0ab229991d4d",
   "metadata": {},
   "outputs": [],
   "source": [
    "if MLFLOW_TRACKING_SERVER_ARN:\n",
    "    training_env = {\n",
    "        \"MLFLOW_EXPERIMENT_NAME\": f\"exp-{job_name}\",\n",
    "        \"MLFLOW_TAGS\": '{\"source.job\": \"sm-training-jobs\", \"source.type\": \"sft\", \"source.framework\": \"pytorch\"}',\n",
    "        \"HF_TOKEN\": hf_token,\n",
    "        \"MLFLOW_TRACKING_URI\": MLFLOW_TRACKING_SERVER_ARN,\n",
    "    }\n",
    "else:\n",
    "    training_env = {\n",
    "        \"HF_TOKEN\": hf_token\n",
    "    }"
   ]
  },
  {
   "cell_type": "code",
   "execution_count": null,
   "id": "66ddd3d3",
   "metadata": {},
   "outputs": [],
   "source": [
    "pytorch_image_uri = f\"763104351884.dkr.ecr.{region}.amazonaws.com/pytorch-training:2.8.0-gpu-py312-cu129-ubuntu22.04-sagemaker\"\n",
    "print(f\"Using image: {pytorch_image_uri}\")"
   ]
  },
  {
   "cell_type": "markdown",
   "id": "ca7fa5fa-d826-4c8c-a4ce-c121004c6d8b",
   "metadata": {},
   "source": [
    "#### Training strategy: `PeFT/LoRA`"
   ]
  },
  {
   "cell_type": "code",
   "execution_count": null,
   "id": "3ad8abf8-fe48-4285-a460-41f034473383",
   "metadata": {},
   "outputs": [],
   "source": [
    "pytorch_estimator = PyTorch(\n",
    "    image_uri=pytorch_image_uri,\n",
    "    entry_point=\"sm_accelerate_train.sh\", # Adapted bash script to train using accelerate on SageMaker - Multi-GPU\n",
    "    source_dir=\"sagemaker_code\",\n",
    "    instance_type=training_instance_type,\n",
    "    instance_count=1,\n",
    "    base_job_name=f\"{job_name}-pytorch\",\n",
    "    role=role,\n",
    "    volume_size=300,\n",
    "    py_version=\"py312\",\n",
    "    keep_alive_period_in_seconds=3600,\n",
    "    environment=training_env,\n",
    "    sagemaker_session=sess,\n",
    "    hyperparameters={\n",
    "        \"config\": \"hf_recipes/meta-llama/Llama-3.2-11B-Vision-Instruct--vanilla-peft-qlora.yaml\"\n",
    "    }\n",
    ")\n",
    "\n",
    "# fit or train\n",
    "pytorch_estimator.fit(\n",
    "    {\"training\": uploaded_s3_uri}, \n",
    "    wait=False\n",
    ")"
   ]
  },
  {
   "cell_type": "code",
   "execution_count": null,
   "id": "98df5c04-80e1-4e1f-af74-044bad6990de",
   "metadata": {},
   "outputs": [],
   "source": [
    "s3_model_data_uri = pytorch_estimator.model_data\n",
    "print(f\"Fine-tuned model location: {s3_model_data_uri}\")"
   ]
  },
  {
   "cell_type": "markdown",
   "id": "0d3193be",
   "metadata": {},
   "source": [
    "#### Training strategy: `Spectrum`"
   ]
  },
  {
   "cell_type": "code",
   "execution_count": null,
   "id": "913ad894",
   "metadata": {},
   "outputs": [],
   "source": [
    "pytorch_estimator = PyTorch(\n",
    "    image_uri=pytorch_image_uri,\n",
    "    entry_point=\"sm_accelerate_train.sh\", # Adapted bash script to train using accelerate on SageMaker - Multi-GPU\n",
    "    source_dir=\"sagemaker_code\",\n",
    "    instance_type=training_instance_type,\n",
    "    instance_count=1,\n",
    "    base_job_name=f\"{job_name}-pytorch\",\n",
    "    role=role,\n",
    "    volume_size=300,\n",
    "    py_version=\"py312\",\n",
    "    keep_alive_period_in_seconds=3600,\n",
    "    environment=training_env,\n",
    "    sagemaker_session=sess,\n",
    "    hyperparameters={\n",
    "        \"config\": \"hf_recipes/meta-llama/Llama-3.2-11B-Vision-Instruct--vanilla-spectrum.yaml\"\n",
    "    }\n",
    ")\n",
    "\n",
    "# fit or train\n",
    "pytorch_estimator.fit(\n",
    "    {\"training\": uploaded_s3_uri}, \n",
    "    wait=False\n",
    ")"
   ]
  },
  {
   "cell_type": "code",
   "execution_count": null,
   "id": "cedab520",
   "metadata": {},
   "outputs": [],
   "source": [
    "s3_model_data_uri = pytorch_estimator.model_data\n",
    "print(f\"Fine-tuned model location: {s3_model_data_uri}\")"
   ]
  },
  {
   "cell_type": "markdown",
   "id": "540ca01d",
   "metadata": {},
   "source": [
    "#### Training strategy: `Full-Finetuning`"
   ]
  },
  {
   "cell_type": "code",
   "execution_count": null,
   "id": "f70fb6f9",
   "metadata": {},
   "outputs": [],
   "source": [
    "pytorch_estimator = PyTorch(\n",
    "    image_uri=pytorch_image_uri,\n",
    "    entry_point=\"sm_accelerate_train.sh\", # Adapted bash script to train using accelerate on SageMaker - Multi-GPU\n",
    "    source_dir=\"sagemaker_code\",\n",
    "    instance_type=training_instance_type,\n",
    "    instance_count=1,\n",
    "    base_job_name=f\"{job_name}-pytorch\",\n",
    "    role=role,\n",
    "    volume_size=300,\n",
    "    py_version=\"py312\",\n",
    "    keep_alive_period_in_seconds=3600,\n",
    "    environment=training_env,\n",
    "    sagemaker_session=sess,\n",
    "     hyperparameters={\n",
    "        \"config\": \"hf_recipes/meta-llama/Llama-3.2-11B-Vision-Instruct--vanilla-full.yaml\"\n",
    "    }\n",
    ")\n",
    "\n",
    "# fit or train\n",
    "pytorch_estimator.fit(\n",
    "    {\"training\": uploaded_s3_uri}, \n",
    "    wait=False\n",
    ")"
   ]
  },
  {
   "cell_type": "code",
   "execution_count": null,
   "id": "fa7539bb",
   "metadata": {},
   "outputs": [],
   "source": [
    "s3_model_data_uri = pytorch_estimator.model_data\n",
    "print(f\"Fine-tuned model location: {s3_model_data_uri}\")"
   ]
  }
 ],
 "metadata": {
  "kernelspec": {
   "display_name": "user-env:(py312)",
   "language": "python",
   "name": "py312"
  },
  "language_info": {
   "codemirror_mode": {
    "name": "ipython",
    "version": 3
   },
   "file_extension": ".py",
   "mimetype": "text/x-python",
   "name": "python",
   "nbconvert_exporter": "python",
   "pygments_lexer": "ipython3",
   "version": "3.12.10"
  }
 },
 "nbformat": 4,
 "nbformat_minor": 5
}
