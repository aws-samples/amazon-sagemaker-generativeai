{
 "cells": [
  {
   "cell_type": "markdown",
   "id": "e60b91a9-7d9c-4c45-be0f-5a224581f644",
   "metadata": {},
   "source": [
    "# 🚀 Customize and Deploy `meta-llama/Llama-3.2-11B-Vision-Instruct` on Amazon SageMaker AI\n",
    "---\n",
    "In this notebook, we explore **Llama 3.2-11B-Vision-Instruct**, a multimodal, instruction-tuned model from Meta’s Llama 3.2 family. You’ll learn how to fine-tune it with sample data, evaluate its performance, and deploy it on SageMaker for tasks that combine **text and images**.\n",
    "\n",
    "**What is Llama 3.2-11B-Vision-Instruct?**\n",
    "\n",
    "Meta released Llama 3.2 on **September 25, 2024**, introducing both text-only and vision-capable variants. The **Llama 3.2-11B-Vision-Instruct** model is a **11-billion-parameter multimodal transformer** trained for **text-in, image-in, text-out** tasks. It is instruction-tuned to perform well on both natural language and image understanding problems, including captioning, visual reasoning, VQA (visual question answering), and multimodal dialogue.  \n",
    "🔗 Model card: [meta-llama/Llama-3.2-11B-Vision-Instruct on Hugging Face](https://huggingface.co/meta-llama/Llama-3.2-11B-Vision-Instruct)\n",
    "\n",
    "---\n",
    "\n",
    "**Key Specifications**\n",
    "\n",
    "| Feature | Details |\n",
    "|---|---|\n",
    "| **Parameters** | ~11 billion |\n",
    "| **Architecture** | Multimodal auto-regressive transformer; instruction-tuned (SFT + RLHF-style) |\n",
    "| **Modalities** | Text-in, Image-in → Text-out |\n",
    "| **Vision Encoder** | Integrated vision transformer (ViT) for handling image inputs |\n",
    "| **Context Length** | Up to **128 K tokens** (for text); images supported with multimodal embeddings |\n",
    "| **Languages** | English + multilingual coverage from training data |\n",
    "| **License** | Llama 3.2 Community License |\n",
    "\n",
    "---\n",
    "\n",
    "**Benchmarks & Behavior**\n",
    "\n",
    "- Strong performance on **multimodal reasoning benchmarks** such as visual question answering, caption generation, and grounded image understanding.  \n",
    "- Performs competitively with larger closed-weight multimodal models in tasks requiring **combined image + text reasoning**.  \n",
    "- Optimized with **Grouped Query Attention (GQA)** to deliver efficient inference, even in large-scale deployment scenarios.  \n",
    "\n",
    "---\n",
    "\n",
    "**Using This Notebook**\n",
    "\n",
    "Here’s what you’ll cover:\n",
    "\n",
    "* Load a sample dataset from Hugging Face and prepare it for fine-tuning  \n",
    "* Fine-tune with SageMaker Training Jobs  \n",
    "* Run Model Evaluation  \n",
    "* Deploy to SageMaker Endpoints  \n"
   ]
  },
  {
   "cell_type": "code",
   "execution_count": null,
   "id": "0ce40054-610a-4acc-a546-943893f293c1",
   "metadata": {},
   "outputs": [],
   "source": [
    "%pip install -Uq sagemaker datasets"
   ]
  },
  {
   "cell_type": "code",
   "execution_count": null,
   "id": "b791e72e-82b5-4f8e-a7fe-700e8afdeba5",
   "metadata": {},
   "outputs": [],
   "source": [
    "import boto3\n",
    "import sagemaker"
   ]
  },
  {
   "cell_type": "code",
   "execution_count": null,
   "id": "23c673a9-5b9f-47e0-92cf-bb97486b3e1a",
   "metadata": {},
   "outputs": [],
   "source": [
    "region = boto3.Session().region_name\n",
    "\n",
    "from sagemaker.local import LocalSession \n",
    "sess = LocalSession() #sagemaker.Session(boto3.Session(region_name=region))\n",
    "sess.config = {\"local\": {\"local_code\": True}}\n",
    "\n",
    "sagemaker_session_bucket = None\n",
    "if sagemaker_session_bucket is None and sess is not None:\n",
    "    # set to default bucket if a bucket name is not given\n",
    "    sagemaker_session_bucket = sess.default_bucket()\n",
    "\n",
    "role = sagemaker.get_execution_role()"
   ]
  },
  {
   "cell_type": "code",
   "execution_count": null,
   "id": "d9786901-b012-41ff-a98a-b16e5f60ec9c",
   "metadata": {},
   "outputs": [],
   "source": [
    "print(f\"sagemaker role arn: {role}\")\n",
    "print(f\"sagemaker bucket: {sess.default_bucket()}\")\n",
    "print(f\"sagemaker session region: {sess.boto_region_name}\")"
   ]
  },
  {
   "cell_type": "markdown",
   "id": "c7b2bf05-a59f-43f5-ad2a-8279d3ab8f1c",
   "metadata": {},
   "source": [
    "## Data Preparation for Supervised Fine-tuning"
   ]
  },
  {
   "cell_type": "markdown",
   "id": "a6ad12e3-c97a-4fde-a16e-3db093b318c1",
   "metadata": {},
   "source": [
    "### [Visual-TableQA](https://huggingface.co/datasets/AI-4-Everyone/Visual-TableQA)\n",
    "\n",
    "**Visual-TableQA** is a large-scale benchmark for **open-domain reasoning over table images**, designed to advance research in multimodal understanding of structured data. The dataset provides high-quality synthetic question–answer pairs associated with rendered LaTeX table images, making it well-suited for training and evaluating vision–language models on table reasoning tasks.\n",
    "\n",
    "**Data Format & Structure**:\n",
    "- Distributed in **JSON** format.  \n",
    "- Contains standard splits for training, validation, and testing.  \n",
    "- Each record includes:  \n",
    "  - `table_id` – a unique identifier for the table  \n",
    "  - `image` – rendered PNG image of the LaTeX table  \n",
    "  - `question` – a natural language query about the table  \n",
    "  - `answer` – the ground-truth response grounded in the table  \n",
    "\n",
    "**Dataset Quality**:\n",
    "- Questions are automatically generated and verified with reasoning-oriented LLMs.  \n",
    "- Ensures strong alignment between the table structure, visual representation, and annotated answers.  \n",
    "\n",
    "**License**: Released under the **Apache-2.0** license.  \n",
    "\n",
    "**Applications**:\n",
    "\n",
    "The dataset can support a variety of multimodal and structured reasoning tasks, including:  \n",
    "- Table-based question answering (QA)  \n",
    "- Document QA and table parsing  \n",
    "- Multimodal reasoning and visual understanding  \n",
    "- Benchmarking pipelines for table reasoning tasks  \n",
    "- Fine-tuning and evaluation of vision–language models on structured visual data  \n",
    " "
   ]
  },
  {
   "cell_type": "code",
   "execution_count": 1,
   "id": "edcd6608-a09f-4521-8ac8-36ec94cc76b3",
   "metadata": {},
   "outputs": [],
   "source": [
    "import os\n",
    "import io\n",
    "import base64\n",
    "import json\n",
    "import pprint\n",
    "from tqdm import tqdm\n",
    "from datasets import load_dataset"
   ]
  },
  {
   "cell_type": "code",
   "execution_count": 2,
   "id": "ca9a6564-4a41-4d05-a550-e43784cb2901",
   "metadata": {},
   "outputs": [],
   "source": [
    "dataset_parent_path = os.path.join(os.getcwd(), \"tmp_cache_local_dataset\")\n",
    "os.makedirs(dataset_parent_path, exist_ok=True)"
   ]
  },
  {
   "cell_type": "markdown",
   "id": "b0d27052-23fd-4a8b-863b-06b325be7502",
   "metadata": {},
   "source": [
    "**Preparing Your Dataset in `messages` format**\n",
    "\n",
    "This section walks you through creating a conversation-style dataset—the required `messages` format—for directly training LLMs using SageMaker AI.\n",
    "\n",
    "**What Is the `messages` Format?**\n",
    "\n",
    "The `messages` format structures instances as chat-like exchanges, wrapping each conversation turn into a role-labeled JSON array. It’s widely used by frameworks like TRL.\n",
    "\n",
    "Example entry:\n",
    "\n",
    "```json\n",
    "{\n",
    "  \"messages\": [\n",
    "    { \"role\": \"system\", \"content\": \"You are a helpful assistant.\" },\n",
    "    { \"role\": \"user\", \"content\": \"How do I bake sourdough?\" },\n",
    "    { \"role\": \"assistant\", \"content\": \"First, you need to create a starter by...\" }\n",
    "  ]\n",
    "}\n"
   ]
  },
  {
   "cell_type": "code",
   "execution_count": null,
   "id": "3c962155-197b-447a-99ad-de6642153d48",
   "metadata": {},
   "outputs": [],
   "source": [
    "dataset_name = \"AI-4-Everyone/Visual-TableQA\"\n",
    "dataset = load_dataset(dataset_name, split=\"train[:1000]\")"
   ]
  },
  {
   "cell_type": "code",
   "execution_count": null,
   "id": "323c87fc-597c-4ee7-9181-27c9a101299e",
   "metadata": {
    "scrolled": true
   },
   "outputs": [],
   "source": [
    "pprint.pp(dataset[0])"
   ]
  },
  {
   "cell_type": "code",
   "execution_count": null,
   "id": "48951960-8766-4f89-9e44-ae736f370ad4",
   "metadata": {},
   "outputs": [],
   "source": [
    "print(f\"total number of fine-tunable samples: {len(dataset)}\")"
   ]
  },
  {
   "cell_type": "code",
   "execution_count": null,
   "id": "4889d18f-a156-4b0e-975f-51684421aaa6",
   "metadata": {},
   "outputs": [],
   "source": [
    "def pil_to_base64(pil_img):\n",
    "    \"\"\"Convert a PIL image to base64-encoded PNG string.\"\"\"\n",
    "    buffer = io.BytesIO()\n",
    "    pil_img.save(buffer, format=\"PNG\")\n",
    "    return base64.b64encode(buffer.getvalue()).decode(\"utf-8\")\n",
    "\n",
    "def convert_to_messages_multimodal(row):\n",
    "    system_content = (\n",
    "        \"You are a multimodal reasoning assistant. Given a table (and its image if present) \"\n",
    "        \"and a question, provide a clear, concise answer followed by a brief explanation of \"\n",
    "        \"how the table supports your conclusion. Keep the reasoning grounded in the data and avoid speculation.\"\n",
    "    )\n",
    "    user_content = row[\"question\"]\n",
    "    assistant_content = row[\"answer\"]\n",
    "    image_content = row[\"image\"]\n",
    "\n",
    "    images = []\n",
    "    if image_content is not None:\n",
    "        if isinstance(image_content, list):\n",
    "            for img in image_content:\n",
    "                if hasattr(img, \"save\"):  # PIL image\n",
    "                    b64_img = pil_to_base64(img)\n",
    "                    images.append({\n",
    "                        \"type\": \"image_url\",\n",
    "                        \"image_url\": {\"url\": f\"data:image/png;base64,{b64_img}\"}\n",
    "                    })\n",
    "        else:\n",
    "            if hasattr(image_content, \"save\"):  # PIL image\n",
    "                b64_img = pil_to_base64(image_content)\n",
    "                images.append({\n",
    "                    \"type\": \"image_url\",\n",
    "                    \"image_url\": {\"url\": f\"data:image/png;base64,{b64_img}\"}\n",
    "                })\n",
    "\n",
    "    return {\n",
    "        \"messages\": [\n",
    "            {\"role\": \"system\", \"content\": [{\"type\": \"text\", \"text\": system_content}]},\n",
    "            {\"role\": \"user\", \"content\": images + [{\"type\": \"text\", \"text\": user_content}]},\n",
    "            {\"role\": \"assistant\", \"content\": [{\"type\": \"text\", \"text\": assistant_content}]}\n",
    "        ]\n",
    "    }\n",
    "\n",
    "dataset = dataset.map(convert_to_messages_multimodal, remove_columns=dataset.column_names)\n"
   ]
  },
  {
   "cell_type": "code",
   "execution_count": null,
   "id": "f470cad1-5bd4-4c8c-89df-d73fff34b06f",
   "metadata": {},
   "outputs": [],
   "source": [
    "dataset_filename = os.path.join(dataset_parent_path, f\"{dataset_name.replace('/', '--').replace('.', '-')}.jsonl\")\n",
    "dataset.to_json(dataset_filename, lines=True)"
   ]
  },
  {
   "cell_type": "markdown",
   "id": "53373d8c-1ddf-4575-a26d-11d7f7df3a90",
   "metadata": {},
   "source": [
    "#### Upload file to S3"
   ]
  },
  {
   "cell_type": "code",
   "execution_count": 49,
   "id": "cc2c2989-d283-4305-afb7-a7a04a5b60b4",
   "metadata": {},
   "outputs": [],
   "source": [
    "from sagemaker.s3 import S3Uploader"
   ]
  },
  {
   "cell_type": "code",
   "execution_count": null,
   "id": "9455282f-5330-41e2-a020-b94a60d1a8ea",
   "metadata": {},
   "outputs": [],
   "source": [
    "data_s3_uri = f\"s3://{sess.default_bucket()}/dataset\"\n",
    "\n",
    "uploaded_s3_uri = S3Uploader.upload(\n",
    "    local_path=dataset_filename,\n",
    "    desired_s3_uri=data_s3_uri\n",
    ")\n",
    "print(f\"Uploaded {dataset_filename} to > {uploaded_s3_uri}\")"
   ]
  },
  {
   "cell_type": "markdown",
   "id": "dc65e320-cb5c-4cce-8d71-ff7152ac9f95",
   "metadata": {},
   "source": [
    "## Fine-Tune LLMs using SageMaker `Estimator`/`ModelTrainer`"
   ]
  },
  {
   "cell_type": "code",
   "execution_count": null,
   "id": "2a7c12ae-a6d4-4225-af55-89776bf09cf6",
   "metadata": {},
   "outputs": [],
   "source": [
    "import time\n",
    "from sagemaker.pytorch import PyTorch\n",
    "from sagemaker.huggingface import HuggingFace\n",
    "from getpass import getpass\n",
    "import yaml\n",
    "from jinja2 import Template"
   ]
  },
  {
   "cell_type": "code",
   "execution_count": null,
   "id": "f97c597d",
   "metadata": {},
   "outputs": [],
   "source": [
    "# Get Hugging Face token for model downloads (if needed)\n",
    "hf_token = getpass()"
   ]
  },
  {
   "cell_type": "markdown",
   "id": "8a530ca5-253a-4202-a144-7203a207b8d2",
   "metadata": {},
   "source": [
    "### Training using `PyTorch` Estimator\n",
    "\n",
    "**Training Using `PyTorch` Estimator**\n",
    "Leverages the official PyTorch SageMaker container to run a custom training script using the Accelerate and DeepSpeed libraries. This option is ideal for users who want full control over the training pipeline \n",
    "\n",
    "---\n",
    "**Observability**: SageMaker AI has [SageMaker MLflow](https://docs.aws.amazon.com/sagemaker/latest/dg/mlflow.html) which enables you to accelerate generative AI by making it easier to track experiments and monitor performance of models and AI applications using a single tool.\n",
    "\n",
    "You can choose to include MLflow as a part of your training workflow to track your model fine-tuning metrics in realtime by simply specifying a **mlflow** tracking arn.\n",
    "\n",
    "Optionally you can also report to : **tensorboard**, **wandb**."
   ]
  },
  {
   "cell_type": "code",
   "execution_count": null,
   "id": "574b173f",
   "metadata": {},
   "outputs": [],
   "source": [
    "MLFLOW_TRACKING_SERVER_ARN = None # or \"arn:aws:sagemaker:us-west-2:<account-id>:mlflow-tracking-server/<server-name>\"\n",
    "\n",
    "if MLFLOW_TRACKING_SERVER_ARN:\n",
    "    reports_to = \"mlflow\"\n",
    "else:\n",
    "    reports_to = \"tensorboard\""
   ]
  },
  {
   "cell_type": "code",
   "execution_count": null,
   "id": "49dea7f3",
   "metadata": {},
   "outputs": [],
   "source": [
    "job_name = 'meta-llama--Llama-3.2-11B-Instruct'\n",
    "training_instance_type = \"local_gpu\""
   ]
  },
  {
   "cell_type": "code",
   "execution_count": null,
   "id": "c182e8ef-1cb0-4ca7-89d9-0ab229991d4d",
   "metadata": {},
   "outputs": [],
   "source": [
    "if MLFLOW_TRACKING_SERVER_ARN:\n",
    "    training_env = {\n",
    "        \"MLFLOW_EXPERIMENT_NAME\": f\"exp-{job_name}\",\n",
    "        \"MLFLOW_TAGS\": '{\"source.job\": \"sm-training-jobs\", \"source.type\": \"sft\", \"source.framework\": \"pytorch\"}',\n",
    "        \"HF_TOKEN\": hf_token,\n",
    "        \"MLFLOW_TRACKING_URI\": MLFLOW_TRACKING_SERVER_ARN,\n",
    "    }\n",
    "else:\n",
    "    training_env = {\n",
    "        \"HF_TOKEN\": hf_token\n",
    "    }"
   ]
  },
  {
   "cell_type": "code",
   "execution_count": null,
   "id": "66ddd3d3",
   "metadata": {},
   "outputs": [],
   "source": [
    "pytorch_image_uri = f\"763104351884.dkr.ecr.{region}.amazonaws.com/pytorch-training:2.8.0-gpu-py312-cu129-ubuntu22.04-sagemaker\"\n",
    "print(f\"Using image: {pytorch_image_uri}\")"
   ]
  },
  {
   "cell_type": "markdown",
   "id": "ca7fa5fa-d826-4c8c-a4ce-c121004c6d8b",
   "metadata": {},
   "source": [
    "#### Training strategy: `PeFT/LoRA`"
   ]
  },
  {
   "cell_type": "code",
   "execution_count": null,
   "id": "3ad8abf8-fe48-4285-a460-41f034473383",
   "metadata": {},
   "outputs": [],
   "source": [
    "pytorch_estimator = PyTorch(\n",
    "    image_uri=pytorch_image_uri,\n",
    "    entry_point=\"sm_accelerate_train.sh\", # Adapted bash script to train using accelerate on SageMaker - Multi-GPU\n",
    "    source_dir=\"sagemaker_code\",\n",
    "    instance_type=training_instance_type,\n",
    "    instance_count=1,\n",
    "    base_job_name=f\"{job_name}-pytorch\",\n",
    "    role=role,\n",
    "    volume_size=300,\n",
    "    py_version=\"py312\",\n",
    "    keep_alive_period_in_seconds=3600,\n",
    "    environment=training_env,\n",
    "    sagemaker_session=sess,\n",
    "    hyperparameters={\n",
    "        \"config\": \"hf_recipes/meta-llama/Llama-3.2-11B-Vision-Instruct--vanilla-peft-qlora.yaml\"\n",
    "    }\n",
    ")\n",
    "\n",
    "# fit or train\n",
    "pytorch_estimator.fit(\n",
    "    {\"training\": uploaded_s3_uri}, \n",
    "    wait=False\n",
    ")"
   ]
  },
  {
   "cell_type": "code",
   "execution_count": null,
   "id": "98df5c04-80e1-4e1f-af74-044bad6990de",
   "metadata": {},
   "outputs": [],
   "source": [
    "s3_model_data_uri = pytorch_estimator.model_data\n",
    "print(f\"Fine-tuned model location: {s3_model_data_uri}\")"
   ]
  },
  {
   "cell_type": "markdown",
   "id": "0d3193be",
   "metadata": {},
   "source": [
    "#### Training strategy: `Spectrum`"
   ]
  },
  {
   "cell_type": "code",
   "execution_count": null,
   "id": "913ad894",
   "metadata": {},
   "outputs": [],
   "source": [
    "pytorch_estimator = PyTorch(\n",
    "    image_uri=pytorch_image_uri,\n",
    "    entry_point=\"sm_accelerate_train.sh\", # Adapted bash script to train using accelerate on SageMaker - Multi-GPU\n",
    "    source_dir=\"sagemaker_code\",\n",
    "    instance_type=training_instance_type,\n",
    "    instance_count=1,\n",
    "    base_job_name=f\"{job_name}-pytorch\",\n",
    "    role=role,\n",
    "    volume_size=300,\n",
    "    py_version=\"py312\",\n",
    "    keep_alive_period_in_seconds=3600,\n",
    "    environment=training_env,\n",
    "    sagemaker_session=sess,\n",
    "    hyperparameters={\n",
    "        \"config\": \"hf_recipes/meta-llama/Llama-3.2-11B-Vision-Instruct--vanilla-spectrum.yaml\"\n",
    "    }\n",
    ")\n",
    "\n",
    "# fit or train\n",
    "pytorch_estimator.fit(\n",
    "    {\"training\": uploaded_s3_uri}, \n",
    "    wait=False\n",
    ")"
   ]
  },
  {
   "cell_type": "code",
   "execution_count": null,
   "id": "cedab520",
   "metadata": {},
   "outputs": [],
   "source": [
    "s3_model_data_uri = pytorch_estimator.model_data\n",
    "print(f\"Fine-tuned model location: {s3_model_data_uri}\")"
   ]
  },
  {
   "cell_type": "markdown",
   "id": "540ca01d",
   "metadata": {},
   "source": [
    "#### Training strategy: `Full-Finetuning`"
   ]
  },
  {
   "cell_type": "code",
   "execution_count": null,
   "id": "f70fb6f9",
   "metadata": {},
   "outputs": [],
   "source": [
    "pytorch_estimator = PyTorch(\n",
    "    image_uri=pytorch_image_uri,\n",
    "    entry_point=\"sm_accelerate_train.sh\", # Adapted bash script to train using accelerate on SageMaker - Multi-GPU\n",
    "    source_dir=\"sagemaker_code\",\n",
    "    instance_type=training_instance_type,\n",
    "    instance_count=1,\n",
    "    base_job_name=f\"{job_name}-pytorch\",\n",
    "    role=role,\n",
    "    volume_size=300,\n",
    "    py_version=\"py312\",\n",
    "    keep_alive_period_in_seconds=3600,\n",
    "    environment=training_env,\n",
    "    sagemaker_session=sess,\n",
    "     hyperparameters={\n",
    "        \"config\": \"hf_recipes/meta-llama/Llama-3.2-11B-Vision-Instruct--vanilla-full.yaml\"\n",
    "    }\n",
    ")\n",
    "\n",
    "# fit or train\n",
    "pytorch_estimator.fit(\n",
    "    {\"training\": uploaded_s3_uri}, \n",
    "    wait=False\n",
    ")"
   ]
  },
  {
   "cell_type": "code",
   "execution_count": null,
   "id": "fa7539bb",
   "metadata": {},
   "outputs": [],
   "source": [
    "s3_model_data_uri = pytorch_estimator.model_data\n",
    "print(f\"Fine-tuned model location: {s3_model_data_uri}\")"
   ]
  }
 ],
 "metadata": {
  "kernelspec": {
   "display_name": "Python 3 (ipykernel)",
   "language": "python",
   "name": "python3"
  },
  "language_info": {
   "codemirror_mode": {
    "name": "ipython",
    "version": 3
   },
   "file_extension": ".py",
   "mimetype": "text/x-python",
   "name": "python",
   "nbconvert_exporter": "python",
   "pygments_lexer": "ipython3",
   "version": "3.12.10"
  }
 },
 "nbformat": 4,
 "nbformat_minor": 5
}
